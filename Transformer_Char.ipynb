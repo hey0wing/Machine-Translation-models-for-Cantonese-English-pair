{
 "cells": [
  {
   "cell_type": "markdown",
   "metadata": {
    "id": "J0Qjg6vuaHNt"
   },
   "source": [
    "# Transformer model for language understanding"
   ]
  },
  {
   "cell_type": "markdown",
   "metadata": {
    "id": "Xu2cV7D4kBFi"
   },
   "source": [
    "FYP: Machine translation models for Cantonese­English pair"
   ]
  },
  {
   "cell_type": "code",
   "execution_count": 1,
   "metadata": {
    "colab": {
     "base_uri": "https://localhost:8080/"
    },
    "id": "XFG0NDRu5mYQ",
    "outputId": "10b72e31-4689-4efc-9406-9dac3da5c01e"
   },
   "outputs": [
    {
     "name": "stdout",
     "output_type": "stream",
     "text": [
      "-1 / unknown移動         1 個檔案。\n"
     ]
    }
   ],
   "source": [
    "!pip install -q tfds-nightly\n",
    "\n",
    "# Pin matplotlib version to 3.2.2 since in the latest version\n",
    "# transformer.ipynb fails with the following error:\n",
    "# https://stackoverflow.com/questions/62953704/valueerror-the-number-of-fixedlocator-locations-5-usually-from-a-call-to-set\n",
    "!pip install -q matplotlib==3.2.2\n",
    "# Chinese font in matplotlib\n",
    "from matplotlib.font_manager import FontProperties\n",
    "!pip install -q wget\n",
    "import wget\n",
    "# !wget -qO taipei_sans_tc_beta.ttf https://drive.google.com/uc?id=1eGAsTN1HBpJAkeVM57_C7ccp7hbgSz3_&export=download\n",
    "# !mv taipei_sans_tc_beta.ttf /usr/local/lib/python3.6/dist-packages/matplotlib//mpl-data/fonts/ttf\n",
    "# chinese = FontProperties(fname=r'/usr/local/lib/python3.6/dist-packages/matplotlib/mpl-data/fonts/ttf/taipei_sans_tc_beta.ttf')\n",
    "wget.download('https://drive.google.com/uc?id=1eGAsTN1HBpJAkeVM57_C7ccp7hbgSz3_&export=download', 'taipei_sans_tc_beta.ttf')\n",
    "!move taipei_sans_tc_beta.ttf c:\\users\\hey0\\anaconda3\\lib\\site-packages/matplotlib//mpl-data/fonts/ttf\n",
    "chinese = FontProperties(fname=r'c:\\users\\hey0\\anaconda3\\lib\\site-packages/matplotlib//mpl-data/fonts/ttf/taipei_sans_tc_beta.ttf')\n",
    "\n",
    "!pip install -q tensorflow"
   ]
  },
  {
   "cell_type": "code",
   "execution_count": 2,
   "metadata": {
    "id": "JjJJyJTZYebt"
   },
   "outputs": [],
   "source": [
    "import tensorflow_datasets as tfds\n",
    "import tensorflow as tf\n",
    "\n",
    "import re\n",
    "import time\n",
    "import numpy as np\n",
    "import matplotlib.pyplot as plt"
   ]
  },
  {
   "cell_type": "markdown",
   "metadata": {
    "id": "fd1NWMxjfsDd"
   },
   "source": [
    "## Setup input pipeline"
   ]
  },
  {
   "cell_type": "code",
   "execution_count": 3,
   "metadata": {
    "colab": {
     "base_uri": "https://localhost:8080/",
     "height": 204
    },
    "id": "QWviV8YdYh-C",
    "outputId": "6e3bf9d5-5632-4d95-a958-b4196327e03c"
   },
   "outputs": [
    {
     "data": {
      "text/html": [
       "<div>\n",
       "<style scoped>\n",
       "    .dataframe tbody tr th:only-of-type {\n",
       "        vertical-align: middle;\n",
       "    }\n",
       "\n",
       "    .dataframe tbody tr th {\n",
       "        vertical-align: top;\n",
       "    }\n",
       "\n",
       "    .dataframe thead th {\n",
       "        text-align: right;\n",
       "    }\n",
       "</style>\n",
       "<table border=\"1\" class=\"dataframe\">\n",
       "  <thead>\n",
       "    <tr style=\"text-align: right;\">\n",
       "      <th></th>\n",
       "      <th>yue</th>\n",
       "      <th>eng</th>\n",
       "    </tr>\n",
       "  </thead>\n",
       "  <tbody>\n",
       "    <tr>\n",
       "      <th>0</th>\n",
       "      <td>大家好我叫Frank</td>\n",
       "      <td>Hi my name is Frank</td>\n",
       "    </tr>\n",
       "    <tr>\n",
       "      <th>1</th>\n",
       "      <td>我收集人哋嘅秘密</td>\n",
       "      <td>and I collect secrets</td>\n",
       "    </tr>\n",
       "    <tr>\n",
       "      <th>2</th>\n",
       "      <td>而一切都源於我</td>\n",
       "      <td>It all started with a crazy idea</td>\n",
       "    </tr>\n",
       "    <tr>\n",
       "      <th>3</th>\n",
       "      <td>2004年11月一個瘋狂嘅諗法</td>\n",
       "      <td>in November of 2004</td>\n",
       "    </tr>\n",
       "    <tr>\n",
       "      <th>4</th>\n",
       "      <td>我當時打印咗三千張</td>\n",
       "      <td>I printed up 3 000 self addressed postcards</td>\n",
       "    </tr>\n",
       "  </tbody>\n",
       "</table>\n",
       "</div>"
      ],
      "text/plain": [
       "               yue                                          eng\n",
       "0       大家好我叫Frank                          Hi my name is Frank\n",
       "1         我收集人哋嘅秘密                        and I collect secrets\n",
       "2          而一切都源於我             It all started with a crazy idea\n",
       "3  2004年11月一個瘋狂嘅諗法                          in November of 2004\n",
       "4        我當時打印咗三千張  I printed up 3 000 self addressed postcards"
      ]
     },
     "execution_count": 3,
     "metadata": {},
     "output_type": "execute_result"
    }
   ],
   "source": [
    "import pandas as pd\n",
    "import glob\n",
    "import os\n",
    "\n",
    "all_csv = glob.glob(os.getcwd() + \"/Preprocessed_Corpus.csv\")  \n",
    " \n",
    "df_from_each_file = (pd.read_csv(f, sep='\\t', encoding='utf-8') for f in all_csv)\n",
    "df = pd.concat(df_from_each_file)\n",
    "\n",
    "# Check for null\n",
    "df[df['yue'].isnull()]\n",
    "df = df.dropna()\n",
    "\n",
    "YueChar = True\n",
    "# Delete spaces between n-gram in Cantonese\n",
    "# Perform Character based tokenization in Cantonese\n",
    "if YueChar:\n",
    "    df['yue'] = df['yue'].str.replace(r' ', '')\n",
    "\n",
    "df.head()"
   ]
  },
  {
   "cell_type": "markdown",
   "metadata": {
    "id": "mEsv-c0qqLQd"
   },
   "source": [
    "### Set translational direction"
   ]
  },
  {
   "cell_type": "code",
   "execution_count": 4,
   "metadata": {
    "id": "0r4EQ67kqKcU"
   },
   "outputs": [],
   "source": [
    "inp_lang = 'eng'\n",
    "tar_lang = 'yue'\n",
    "inp = df[inp_lang]\n",
    "tar = df[tar_lang]\n",
    "dataset = tf.data.Dataset.from_tensor_slices((inp.values, tar.values))"
   ]
  },
  {
   "cell_type": "markdown",
   "metadata": {
    "id": "hmVWHYyd18kb"
   },
   "source": [
    "## Split dataset into train, test and validation"
   ]
  },
  {
   "cell_type": "code",
   "execution_count": 5,
   "metadata": {
    "colab": {
     "base_uri": "https://localhost:8080/"
    },
    "id": "2UudB9uidSkP",
    "outputId": "b327f1e3-5143-4b79-f204-3d55bed31d2d"
   },
   "outputs": [
    {
     "name": "stdout",
     "output_type": "stream",
     "text": [
      "Train size: 7848\n",
      "Test size: 1963\n",
      "\n",
      "Total size: 9811\n"
     ]
    }
   ],
   "source": [
    "DATASET_SIZE = len(list(dataset))\n",
    "train_size = int(0.8 * DATASET_SIZE)\n",
    "test_size = int(0.2 * DATASET_SIZE)\n",
    "\n",
    "dataset = dataset.shuffle(DATASET_SIZE)\n",
    "train_examples = dataset.take(train_size)\n",
    "test_examples = dataset.skip(train_size)\n",
    "# test_examples = remaining.take(test_size)\n",
    "# val_examples = remaining.skip(test_size)\n",
    "\n",
    "print('Train size:', len(list(train_examples)))\n",
    "print('Test size:', len(list(test_examples)))\n",
    "# print('Validation size:', len(list(val_examples)))\n",
    "print()\n",
    "print('Total size:', DATASET_SIZE)"
   ]
  },
  {
   "cell_type": "code",
   "execution_count": 6,
   "metadata": {
    "colab": {
     "base_uri": "https://localhost:8080/"
    },
    "id": "b5PlJ-TwK6Oi",
    "outputId": "79fdafc4-e9d3-44f5-f231-e059bc58bf09"
   },
   "outputs": [
    {
     "name": "stdout",
     "output_type": "stream",
     "text": [
      "tf.Tensor(b'a few hundred quid Dan', shape=(), dtype=string)\n",
      "tf.Tensor(b'\\xe6\\x88\\x91\\xe5\\x93\\x8b\\xe6\\x9c\\x83\\xe6\\x90\\x8d\\xe5\\xa4\\xb1\\xe5\\xb9\\xbe\\xe7\\x99\\xbe\\xe8\\x8b\\xb1\\xe7\\xa3\\x85Dan', shape=(), dtype=string)\n",
      "----------\n",
      "tf.Tensor(b'Even the idea of us as a family', shape=(), dtype=string)\n",
      "tf.Tensor(b'\\xe5\\x8d\\xb3\\xe4\\xbd\\xbf\\xe4\\xbd\\x9c\\xe7\\x82\\xba\\xe4\\xb8\\x80\\xe5\\x80\\x8b\\xe5\\x92\\x81\\xe6\\xa8\\xa3\\xe5\\x98\\x85\\xe5\\xae\\xb6\\xe5\\xba\\xad', shape=(), dtype=string)\n",
      "----------\n",
      "tf.Tensor(b'Will Dad stop the wedding', shape=(), dtype=string)\n",
      "tf.Tensor(b'\\xe4\\xbd\\xa0\\xe9\\xa9\\x9a\\xe6\\x88\\x91\\xe8\\xbf\\x94\\xe5\\x9a\\x9f\\xe6\\x90\\x9e\\xe7\\xa0\\xb4\\xe5\\xa3\\x9e', shape=(), dtype=string)\n",
      "----------\n"
     ]
    }
   ],
   "source": [
    "for inp, tar in train_examples.take(3):\n",
    "  print(inp)\n",
    "  print(tar)\n",
    "  print('-' * 10)"
   ]
  },
  {
   "cell_type": "code",
   "execution_count": 7,
   "metadata": {
    "colab": {
     "base_uri": "https://localhost:8080/"
    },
    "id": "waK4jpjpw2dZ",
    "outputId": "9146e9e0-0437-4f39-a30a-02c9df423afa"
   },
   "outputs": [
    {
     "name": "stdout",
     "output_type": "stream",
     "text": [
      "So we have this thick uterine lining and now it s got to come out and how do you stop bleeding Well you stop a nose bleed by pinching it if you cut your leg you put pressure on it We stop bleeding with pressure When we menstruate the lining of the uterus releases substances that are made into chemicals called prostaglandins and other inflammatory mediators And they make the uterus cramp down they make it squeeze on those blood vessels to stop the bleeding They might also change blood flow to the uterus and also cause inflammation and that makes pain worse\n",
      "因此形成厚嘅子宮厚內膜同埋佢點可以脫落咁你點樣止血呢止鼻血你會捻住個鼻如果隻腳整損咗你會壓住個傷口用壓力去阻止出血當我哋嚟經期子宮內膜會釋放出一種物質叫做前列腺素嘅化學物質同其他發炎症介質佢哋會令到子宮抽筋佢哋會擠壓血管止血改變咗子宮嘅血流狀況會引起發炎加劇咗啲痛楚\n",
      "----------\n",
      "from the ground up\n",
      "重新設計\n",
      "----------\n",
      "You know I can t see colors\n",
      "睇唔到㗎喇\n",
      "----------\n",
      "Okay Now this is the major change that I ve seen how teaching English has morphed from being a mutually beneficial practice to becoming a massive international business that it is today No longer just a foreign language on the school curriculum and no longer the sole domain of mother England it has become a bandwagon for every English speaking nation on earth And why not After all the best education according to the latest World University Rankings is to be found in the universities of the U K and the U S So everybody wants to have an English education naturally But if you re not a native speaker you have to pass a test\n",
      "言歸正傳我見過最大嘅改變就係英語教學由原本大家互惠互利嘅經濟手段演變成今日全世界大規模嘅生意英語唔再係學校課程裏面嘅外語科目亦唔再只係英國嘅專利英語教學嘅商機已經成為所有英語國家想分一杯匙嘅嘢點解唔係呢畢竟根據最新嘅世界大學排名最好嘅教育嚟自英國同美國嘅大學所以自然每個人都想接受英語教育但如果你嘅母語唔係英文你就要考英文試\n",
      "----------\n",
      "doing everything right\n",
      "咁點解呢個病係會發生喺我身上呢\n",
      "----------\n"
     ]
    }
   ],
   "source": [
    "sample_examples = []\n",
    "num_samples = 5\n",
    "\n",
    "for inp_t, tar_t in train_examples.take(num_samples):\n",
    "  inp = inp_t.numpy().decode(\"utf-8\")\n",
    "  tar = tar_t.numpy().decode(\"utf-8\")\n",
    "  \n",
    "  print(inp)\n",
    "  print(tar)\n",
    "  print('-' * 10)\n",
    "  \n",
    "  sample_examples.append((inp, tar))"
   ]
  },
  {
   "cell_type": "markdown",
   "metadata": {
    "id": "RCEKotqosGfq"
   },
   "source": [
    "Create a custom subwords tokenizer from the training dataset. "
   ]
  },
  {
   "cell_type": "code",
   "execution_count": 8,
   "metadata": {},
   "outputs": [],
   "source": [
    "if inp_lang == 'yue':\n",
    "    if YueChar:\n",
    "      input_tokenizer = tfds.deprecated.text.SubwordTextEncoder.build_from_corpus(\n",
    "          (inp.numpy() for inp, tar in train_examples), target_vocab_size=2**13, max_subword_length=1)\n",
    "    else:\n",
    "      input_tokenizer = tfds.deprecated.text.TokenTextEncoder(\n",
    "          ' '.join(inp.numpy().decode(\"utf-8\") for inp, tar in train_examples).split(' ')) \n",
    "    target_tokenizer = tfds.deprecated.text.SubwordTextEncoder.build_from_corpus(\n",
    "        (tar.numpy() for inp, tar in train_examples), target_vocab_size=2**13)\n",
    "else:\n",
    "    if YueChar:\n",
    "      target_tokenizer = tfds.deprecated.text.SubwordTextEncoder.build_from_corpus(\n",
    "          (tar.numpy() for inp, tar in train_examples), target_vocab_size=2**13, max_subword_length=1)\n",
    "    else:\n",
    "      target_tokenizer = tfds.deprecated.text.TokenTextEncoder(\n",
    "          ' '.join(tar.numpy().decode(\"utf-8\") for inp, tar in train_examples).split(' '))\n",
    "    input_tokenizer = tfds.deprecated.text.SubwordTextEncoder.build_from_corpus(\n",
    "      (inp.numpy() for inp, tar in train_examples), target_vocab_size=2**13)"
   ]
  },
  {
   "cell_type": "markdown",
   "metadata": {
    "id": "L-PPeXeT4WHN"
   },
   "source": [
    "Check the tokenizers with sample string"
   ]
  },
  {
   "cell_type": "code",
   "execution_count": 9,
   "metadata": {
    "colab": {
     "base_uri": "https://localhost:8080/"
    },
    "id": "4DYWukNFkGQN",
    "outputId": "902864c3-fa59-45c0-e8f9-17536d62fea3"
   },
   "outputs": [
    {
     "name": "stdout",
     "output_type": "stream",
     "text": [
      "Tokenized string is [25, 13, 19, 16, 3414, 3375, 5844, 77, 1954, 3, 128, 11, 7, 141, 2, 167, 70, 3, 74, 41, 10, 367, 5156, 176, 10, 367, 5, 3644, 670, 49, 52, 1923, 1505, 171, 11, 60, 10, 783, 58, 4697, 10, 193, 1314, 21, 11, 53, 367, 5156, 22, 1314, 161, 13, 4647, 77, 1, 1954, 4, 1, 1695, 3537, 5193, 7, 5680, 7, 8, 20, 172, 92, 5104, 175, 5959, 4035, 1069, 3025, 3, 94, 6433, 6261, 359, 1756, 5596, 14, 23, 106, 1, 1695, 6910, 401, 142, 23, 106, 11, 7676, 5937, 1534, 21, 114, 407, 3370, 2, 367, 1, 5156, 91, 228, 116, 194, 407, 1795, 2, 1, 1695, 3, 116, 786, 6433, 6262, 3, 8, 476, 735, 2377]\n",
      "The original string: So we have this thick uterine lining and now it s got to come out and how do you stop bleeding Well you stop a nose bleed by pinching it if you cut your leg you put pressure on it We stop bleeding with pressure When we menstruate the lining of the uterus releases substances that are made into chemicals called prostaglandins and other inflammatory mediators And they make the uterus cramp down they make it squeeze on those blood vessels to stop the bleeding They might also change blood flow to the uterus and also cause inflammation and that makes pain worse\n",
      "Tokenized string is [44, 489, 423, 48, 1512, 1, 195, 1292, 1512, 336, 1599, 10, 108, 8, 46, 20, 15, 1141, 227, 27, 12, 46, 49, 319, 419, 11, 319, 1576, 419, 12, 17, 3343, 3254, 3300, 131, 6, 1576, 59, 74, 366, 753, 349, 938, 25, 12, 17, 822, 131, 6, 572, 432, 35, 822, 133, 37, 911, 319, 67, 419, 61, 2, 4, 47, 54, 284, 195, 1292, 336, 1599, 17, 698, 222, 67, 5, 84, 77, 399, 265, 42, 113, 686, 1310, 348, 1, 149, 40, 77, 399, 10, 83, 141, 50, 1211, 430, 976, 399, 8, 4, 17, 100, 16, 195, 1292, 1328, 2380, 8, 4, 17, 2458, 822, 419, 585, 319, 419, 212, 101, 25, 195, 1292, 1, 419, 367, 516, 447, 17, 396, 164, 50, 1211, 119, 908, 25, 22, 493, 604]\n",
      "The original string: 因此形成厚嘅子宮厚內膜同埋佢點可以脫落咁你點樣止血呢止鼻血你會捻住個鼻如果隻腳整損咗你會壓住個傷口用壓力去阻止出血當我哋嚟經期子宮內膜會釋放出一種物質叫做前列腺素嘅化學物質同其他發炎症介質佢哋會令到子宮抽筋佢哋會擠壓血管止血改變咗子宮嘅血流狀況會引起發炎加劇咗啲痛楚\n"
     ]
    }
   ],
   "source": [
    "# We can use string in dataset\n",
    "sample_inp = sample_examples[0][0]\n",
    "sample_tar = sample_examples[0][1]\n",
    "\n",
    "tokenized_inp = input_tokenizer.encode(sample_inp)\n",
    "print ('Tokenized string is {}'.format(tokenized_inp))\n",
    "\n",
    "original_inp = input_tokenizer.decode(tokenized_inp)\n",
    "print ('The original string: {}'.format(original_inp))\n",
    "\n",
    "tokenized_tar = target_tokenizer.encode(sample_tar)\n",
    "print ('Tokenized string is {}'.format(tokenized_tar))\n",
    "\n",
    "original_tar = target_tokenizer.decode(tokenized_tar)\n",
    "print ('The original string: {}'.format(original_tar))"
   ]
  },
  {
   "cell_type": "markdown",
   "metadata": {
    "id": "o9KJWJjrsZ4Y"
   },
   "source": [
    "The tokenizer encodes the string by breaking it into subwords if the word is not in its dictionary."
   ]
  },
  {
   "cell_type": "code",
   "execution_count": 10,
   "metadata": {
    "colab": {
     "base_uri": "https://localhost:8080/"
    },
    "id": "bf2ntBxjkqK6",
    "outputId": "0234d439-6ab8-45ac-9591-71051d640c9f"
   },
   "outputs": [
    {
     "name": "stdout",
     "output_type": "stream",
     "text": [
      "25 ----> So \n",
      "13 ----> we \n",
      "19 ----> have \n",
      "16 ----> this \n",
      "3414 ----> thick \n",
      "3375 ----> ute\n",
      "5844 ----> rin\n",
      "77 ----> e \n",
      "1954 ----> lining \n",
      "3 ----> and \n",
      "128 ----> now \n",
      "11 ----> it \n",
      "7 ----> s \n",
      "141 ----> got \n",
      "2 ----> to \n",
      "167 ----> come \n",
      "70 ----> out \n",
      "3 ----> and \n",
      "74 ----> how \n",
      "41 ----> do \n",
      "10 ----> you \n",
      "367 ----> stop \n",
      "5156 ----> bleeding \n",
      "176 ----> Well \n",
      "10 ----> you \n",
      "367 ----> stop \n",
      "5 ----> a \n",
      "3644 ----> nose \n",
      "670 ----> ble\n",
      "49 ----> ed \n",
      "52 ----> by \n",
      "1923 ----> pin\n",
      "1505 ----> chi\n",
      "171 ----> ng \n",
      "11 ----> it \n",
      "60 ----> if \n",
      "10 ----> you \n",
      "783 ----> cut \n",
      "58 ----> your \n",
      "4697 ----> leg \n",
      "10 ----> you \n",
      "193 ----> put \n",
      "1314 ----> pressure \n",
      "21 ----> on \n",
      "11 ----> it \n",
      "53 ----> We \n",
      "367 ----> stop \n",
      "5156 ----> bleeding \n",
      "22 ----> with \n",
      "1314 ----> pressure \n",
      "161 ----> When \n",
      "13 ----> we \n",
      "4647 ----> menstruat\n",
      "77 ----> e \n",
      "1 ----> the \n",
      "1954 ----> lining \n",
      "4 ----> of \n",
      "1 ----> the \n",
      "1695 ----> uterus \n",
      "3537 ----> rele\n",
      "5193 ----> ase\n",
      "7 ----> s \n",
      "5680 ----> substance\n",
      "7 ----> s \n",
      "8 ----> that \n",
      "20 ----> are \n",
      "172 ----> made \n",
      "92 ----> into \n",
      "5104 ----> chemicals \n",
      "175 ----> called \n",
      "5959 ----> prost\n",
      "4035 ----> ag\n",
      "1069 ----> land\n",
      "3025 ----> ins \n",
      "3 ----> and \n",
      "94 ----> other \n",
      "6433 ----> inflam\n",
      "6261 ----> mato\n",
      "359 ----> ry \n",
      "1756 ----> media\n",
      "5596 ----> tors \n",
      "14 ----> And \n",
      "23 ----> they \n",
      "106 ----> make \n",
      "1 ----> the \n",
      "1695 ----> uterus \n",
      "6910 ----> cram\n",
      "401 ----> p \n",
      "142 ----> down \n",
      "23 ----> they \n",
      "106 ----> make \n",
      "11 ----> it \n",
      "7676 ----> s\n",
      "5937 ----> quee\n",
      "1534 ----> ze \n",
      "21 ----> on \n",
      "114 ----> those \n",
      "407 ----> blood \n",
      "3370 ----> vessels \n",
      "2 ----> to \n",
      "367 ----> stop \n",
      "1 ----> the \n",
      "5156 ----> bleeding \n",
      "91 ----> They \n",
      "228 ----> might \n",
      "116 ----> also \n",
      "194 ----> change \n",
      "407 ----> blood \n",
      "1795 ----> flow \n",
      "2 ----> to \n",
      "1 ----> the \n",
      "1695 ----> uterus \n",
      "3 ----> and \n",
      "116 ----> also \n",
      "786 ----> cause \n",
      "6433 ----> inflam\n",
      "6262 ----> mation \n",
      "3 ----> and \n",
      "8 ----> that \n",
      "476 ----> makes \n",
      "735 ----> pain \n",
      "2377 ----> worse\n",
      "\n",
      "44 ----> 因\n",
      "489 ----> 此\n",
      "423 ----> 形\n",
      "48 ----> 成\n",
      "1512 ----> 厚\n",
      "1 ----> 嘅\n",
      "195 ----> 子\n",
      "1292 ----> 宮\n",
      "1512 ----> 厚\n",
      "336 ----> 內\n",
      "1599 ----> 膜\n",
      "10 ----> 同\n",
      "108 ----> 埋\n",
      "8 ----> 佢\n",
      "46 ----> 點\n",
      "20 ----> 可\n",
      "15 ----> 以\n",
      "1141 ----> 脫\n",
      "227 ----> 落\n",
      "27 ----> 咁\n",
      "12 ----> 你\n",
      "46 ----> 點\n",
      "49 ----> 樣\n",
      "319 ----> 止\n",
      "419 ----> 血\n",
      "11 ----> 呢\n",
      "319 ----> 止\n",
      "1576 ----> 鼻\n",
      "419 ----> 血\n",
      "12 ----> 你\n",
      "17 ----> 會\n",
      "3343 ----> �\n",
      "3254 ----> �\n",
      "3300 ----> �\n",
      "131 ----> 住\n",
      "6 ----> 個\n",
      "1576 ----> 鼻\n",
      "59 ----> 如\n",
      "74 ----> 果\n",
      "366 ----> 隻\n",
      "753 ----> 腳\n",
      "349 ----> 整\n",
      "938 ----> 損\n",
      "25 ----> 咗\n",
      "12 ----> 你\n",
      "17 ----> 會\n",
      "822 ----> 壓\n",
      "131 ----> 住\n",
      "6 ----> 個\n",
      "572 ----> 傷\n",
      "432 ----> 口\n",
      "35 ----> 用\n",
      "822 ----> 壓\n",
      "133 ----> 力\n",
      "37 ----> 去\n",
      "911 ----> 阻\n",
      "319 ----> 止\n",
      "67 ----> 出\n",
      "419 ----> 血\n",
      "61 ----> 當\n",
      "2 ----> 我\n",
      "4 ----> 哋\n",
      "47 ----> 嚟\n",
      "54 ----> 經\n",
      "284 ----> 期\n",
      "195 ----> 子\n",
      "1292 ----> 宮\n",
      "336 ----> 內\n",
      "1599 ----> 膜\n",
      "17 ----> 會\n",
      "698 ----> 釋\n",
      "222 ----> 放\n",
      "67 ----> 出\n",
      "5 ----> 一\n",
      "84 ----> 種\n",
      "77 ----> 物\n",
      "399 ----> 質\n",
      "265 ----> 叫\n",
      "42 ----> 做\n",
      "113 ----> 前\n",
      "686 ----> 列\n",
      "1310 ----> 腺\n",
      "348 ----> 素\n",
      "1 ----> 嘅\n",
      "149 ----> 化\n",
      "40 ----> 學\n",
      "77 ----> 物\n",
      "399 ----> 質\n",
      "10 ----> 同\n",
      "83 ----> 其\n",
      "141 ----> 他\n",
      "50 ----> 發\n",
      "1211 ----> 炎\n",
      "430 ----> 症\n",
      "976 ----> 介\n",
      "399 ----> 質\n",
      "8 ----> 佢\n",
      "4 ----> 哋\n",
      "17 ----> 會\n",
      "100 ----> 令\n",
      "16 ----> 到\n",
      "195 ----> 子\n",
      "1292 ----> 宮\n",
      "1328 ----> 抽\n",
      "2380 ----> 筋\n",
      "8 ----> 佢\n",
      "4 ----> 哋\n",
      "17 ----> 會\n",
      "2458 ----> 擠\n",
      "822 ----> 壓\n",
      "419 ----> 血\n",
      "585 ----> 管\n",
      "319 ----> 止\n",
      "419 ----> 血\n",
      "212 ----> 改\n",
      "101 ----> 變\n",
      "25 ----> 咗\n",
      "195 ----> 子\n",
      "1292 ----> 宮\n",
      "1 ----> 嘅\n",
      "419 ----> 血\n",
      "367 ----> 流\n",
      "516 ----> 狀\n",
      "447 ----> 況\n",
      "17 ----> 會\n",
      "396 ----> 引\n",
      "164 ----> 起\n",
      "50 ----> 發\n",
      "1211 ----> 炎\n",
      "119 ----> 加\n",
      "908 ----> 劇\n",
      "25 ----> 咗\n",
      "22 ----> 啲\n",
      "493 ----> 痛\n",
      "604 ----> 楚\n"
     ]
    }
   ],
   "source": [
    "for ts in tokenized_inp:\n",
    "  print ('{} ----> {}'.format(ts, input_tokenizer.decode([ts])))\n",
    "print()\n",
    "for ts in tokenized_tar:\n",
    "  print ('{} ----> {}'.format(ts, target_tokenizer.decode([ts])))"
   ]
  },
  {
   "cell_type": "code",
   "execution_count": 11,
   "metadata": {
    "id": "bcRp7VcQ5m6g"
   },
   "outputs": [],
   "source": [
    "BUFFER_SIZE = 400\n",
    "BATCH_SIZE = 64"
   ]
  },
  {
   "cell_type": "markdown",
   "metadata": {
    "id": "kGi4PoVakxdc"
   },
   "source": [
    "Add a start and end token to the input and target. "
   ]
  },
  {
   "cell_type": "code",
   "execution_count": 12,
   "metadata": {
    "id": "UZwnPr4R055s"
   },
   "outputs": [],
   "source": [
    "def encode(lang1, lang2):\n",
    "  lang1 = [input_tokenizer.vocab_size] + input_tokenizer.encode(\n",
    "      lang1.numpy()) + [input_tokenizer.vocab_size+1]\n",
    "\n",
    "  lang2 = [target_tokenizer.vocab_size] + target_tokenizer.encode(\n",
    "      lang2.numpy()) + [target_tokenizer.vocab_size+1]\n",
    "  \n",
    "  return lang1, lang2"
   ]
  },
  {
   "cell_type": "markdown",
   "metadata": {
    "id": "Tx1sFbR-9fRs"
   },
   "source": [
    "You want to use `Dataset.map` to apply this function to each element of the dataset.  `Dataset.map` runs in graph mode.\n",
    "\n",
    "* Graph tensors do not have a value. \n",
    "* In graph mode you can only use TensorFlow Ops and functions. \n",
    "\n",
    "So you can't `.map` this function directly: You need to wrap it in a `tf.py_function`. The `tf.py_function` will pass regular tensors (with a value and a `.numpy()` method to access it), to the wrapped python function."
   ]
  },
  {
   "cell_type": "code",
   "execution_count": 13,
   "metadata": {
    "id": "Mah1cS-P70Iz"
   },
   "outputs": [],
   "source": [
    "def tf_encode(inp, tar):\n",
    "  result_inp, result_tar = tf.py_function(encode, [inp, tar], [tf.int64, tf.int64])\n",
    "  result_inp.set_shape([None])\n",
    "  result_tar.set_shape([None])\n",
    "\n",
    "  return result_inp, result_tar"
   ]
  },
  {
   "cell_type": "markdown",
   "metadata": {
    "id": "6JrGp5Gek6Ql"
   },
   "source": [
    "Note: To keep this example small and relatively fast, drop examples with a length of over 100 tokens."
   ]
  },
  {
   "cell_type": "code",
   "execution_count": 14,
   "metadata": {
    "id": "c081xPGv1CPI"
   },
   "outputs": [],
   "source": [
    "MAX_LENGTH = 40\n",
    "\n",
    "def filter_max_length(x, y, max_length=MAX_LENGTH):\n",
    "  return tf.logical_and(tf.size(x) <= max_length,\n",
    "                        tf.size(y) <= max_length)"
   ]
  },
  {
   "cell_type": "code",
   "execution_count": 15,
   "metadata": {
    "colab": {
     "base_uri": "https://localhost:8080/"
    },
    "id": "9mk9AZdZ5bcS",
    "outputId": "28e59114-d36d-48c8-bf9d-cef2b24049c3"
   },
   "outputs": [
    {
     "name": "stdout",
     "output_type": "stream",
     "text": [
      "Training size: 6820\n"
     ]
    }
   ],
   "source": [
    "train_dataset = train_examples.map(tf_encode)\n",
    "train_dataset = train_dataset.filter(filter_max_length)\n",
    "num_examples = 0\n",
    "for inp_indices, tar_indices in train_dataset:\n",
    "  num_examples += 1\n",
    "print(f\"Training size: {num_examples}\")\n",
    "\n",
    "# cache the dataset to memory to get a speedup while reading from it.\n",
    "train_dataset = train_dataset.cache()\n",
    "train_dataset = train_dataset.shuffle(BUFFER_SIZE).padded_batch(BATCH_SIZE)\n",
    "train_dataset = train_dataset.prefetch(tf.data.experimental.AUTOTUNE)"
   ]
  },
  {
   "cell_type": "code",
   "execution_count": 16,
   "metadata": {
    "colab": {
     "base_uri": "https://localhost:8080/"
    },
    "id": "8RgYUtEECc-Q",
    "outputId": "949dd9c4-d890-4991-f1c7-bebcb9e9c6c1"
   },
   "outputs": [
    {
     "name": "stdout",
     "output_type": "stream",
     "text": [
      "tf.Tensor(\n",
      "[[7817    8   73 ...    0    0    0]\n",
      " [7817  161    1 ...    0    0    0]\n",
      " [7817    6   65 ...    0    0    0]\n",
      " ...\n",
      " [7817   35  426 ...    0    0    0]\n",
      " [7817  411  123 ...    0    0    0]\n",
      " [7817   55  640 ...    0    0    0]], shape=(64, 17), dtype=int64)\n",
      "tf.Tensor(\n",
      "[[3369   20   15 ...    0    0    0]\n",
      " [3369   61  356 ...    0    0    0]\n",
      " [3369    2   57 ...    0    0    0]\n",
      " ...\n",
      " [3369   14    3 ...    0    0    0]\n",
      " [3369   45   93 ...    0    0    0]\n",
      " [3369    7    5 ...    0    0    0]], shape=(64, 27), dtype=int64)\n",
      "\n",
      "All string are less than 40 tokens\n",
      "Total batches: 107\n"
     ]
    }
   ],
   "source": [
    "# Check with train set\n",
    "inp_indices, tar_indices  = next(iter(train_dataset))\n",
    "print(inp_indices)\n",
    "print(tar_indices)\n",
    "\n",
    "num_examples = 0\n",
    "for inp_indices, tar_indices in train_dataset:\n",
    "  # cond1 = len(inp_indices) <= MAX_LENGTH\n",
    "  # cond2 = len(tar_indices) <= MAX_LENGTH\n",
    "  # assert cond1 and cond2\n",
    "  num_examples += 1\n",
    "\n",
    "print(f\"\\nAll string are less than {MAX_LENGTH} tokens\")\n",
    "print(f\"Total batches: {num_examples}\")"
   ]
  },
  {
   "cell_type": "markdown",
   "metadata": {
    "id": "nBQuibYA4n0n"
   },
   "source": [
    "## Positional encoding\n",
    "\n",
    "Since this model doesn't contain any recurrence or convolution, positional encoding is added to give the model some information about the relative position of the words in the sentence. \n",
    "\n",
    "The positional encoding vector is added to the embedding vector. Embeddings represent a token in a d-dimensional space where tokens with similar meaning will be closer to each other. But the embeddings do not encode the relative position of words in a sentence. So after adding the positional encoding, words will be closer to each other based on the *similarity of their meaning and their position in the sentence*, in the d-dimensional space.\n",
    "\n",
    "See the notebook on [positional encoding](https://github.com/tensorflow/examples/blob/master/community/en/position_encoding.ipynb) to learn more about it. The formula for calculating the positional encoding is as follows:\n",
    "\n",
    "$$\\Large{PE_{(pos, 2i)} = sin(pos / 10000^{2i / d_{model}})} $$\n",
    "$$\\Large{PE_{(pos, 2i+1)} = cos(pos / 10000^{2i / d_{model}})} $$"
   ]
  },
  {
   "cell_type": "code",
   "execution_count": 17,
   "metadata": {
    "id": "WhIOZjMNKujn"
   },
   "outputs": [],
   "source": [
    "def get_angles(pos, i, d_model):\n",
    "  angle_rates = 1 / np.power(10000, (2 * (i//2)) / np.float32(d_model))\n",
    "  return pos * angle_rates"
   ]
  },
  {
   "cell_type": "code",
   "execution_count": 18,
   "metadata": {
    "id": "1Rz82wEs5biZ"
   },
   "outputs": [],
   "source": [
    "def positional_encoding(position, d_model):\n",
    "  angle_rads = get_angles(np.arange(position)[:, np.newaxis],\n",
    "                          np.arange(d_model)[np.newaxis, :],\n",
    "                          d_model)\n",
    "  \n",
    "  # apply sin to even indices in the array; 2i\n",
    "  angle_rads[:, 0::2] = np.sin(angle_rads[:, 0::2])\n",
    "  \n",
    "  # apply cos to odd indices in the array; 2i+1\n",
    "  angle_rads[:, 1::2] = np.cos(angle_rads[:, 1::2])\n",
    "    \n",
    "  pos_encoding = angle_rads[np.newaxis, ...]\n",
    "    \n",
    "  return tf.cast(pos_encoding, dtype=tf.float32)"
   ]
  },
  {
   "cell_type": "code",
   "execution_count": 19,
   "metadata": {
    "colab": {
     "base_uri": "https://localhost:8080/",
     "height": 300
    },
    "id": "1kLCla68EloE",
    "outputId": "4595b67d-9fc7-45a2-8678-fbe51c8d8e28"
   },
   "outputs": [
    {
     "name": "stdout",
     "output_type": "stream",
     "text": [
      "(1, 50, 512)\n"
     ]
    },
    {
     "data": {
      "image/png": "[encoded data removed]",
      "text/plain": [
       "<Figure size 432x288 with 2 Axes>"
      ]
     },
     "metadata": {
      "needs_background": "light"
     },
     "output_type": "display_data"
    }
   ],
   "source": [
    "pos_encoding = positional_encoding(50, 512)\n",
    "print (pos_encoding.shape)\n",
    "\n",
    "plt.pcolormesh(pos_encoding[0], cmap='RdBu')\n",
    "plt.xlabel('Depth')\n",
    "plt.xlim((0, 512))\n",
    "plt.ylabel('Position')\n",
    "plt.colorbar()\n",
    "plt.show()"
   ]
  },
  {
   "cell_type": "markdown",
   "metadata": {
    "id": "a_b4ou4TYqUN"
   },
   "source": [
    "## Masking"
   ]
  },
  {
   "cell_type": "markdown",
   "metadata": {
    "id": "s42Uydjkv0hF"
   },
   "source": [
    "Mask all the pad tokens in the batch of sequence. It ensures that the model does not treat padding as the input. The mask indicates where pad value `0` is present: it outputs a `1` at those locations, and a `0` otherwise."
   ]
  },
  {
   "cell_type": "code",
   "execution_count": 20,
   "metadata": {
    "id": "U2i8-e1s8ti9"
   },
   "outputs": [],
   "source": [
    "def create_padding_mask(seq):\n",
    "  seq = tf.cast(tf.math.equal(seq, 0), tf.float32)\n",
    "  \n",
    "  # add extra dimensions to add the padding\n",
    "  # to the attention logits.\n",
    "  return seq[:, tf.newaxis, tf.newaxis, :]  # (batch_size, 1, 1, seq_len)"
   ]
  },
  {
   "cell_type": "code",
   "execution_count": 21,
   "metadata": {
    "colab": {
     "base_uri": "https://localhost:8080/"
    },
    "id": "A7BYeBCNvi7n",
    "outputId": "2f526483-7e23-49b8-b05e-d76a9c3d654a"
   },
   "outputs": [
    {
     "data": {
      "text/plain": [
       "<tf.Tensor: shape=(3, 1, 1, 5), dtype=float32, numpy=\n",
       "array([[[[0., 0., 1., 1., 0.]]],\n",
       "\n",
       "\n",
       "       [[[0., 0., 0., 1., 1.]]],\n",
       "\n",
       "\n",
       "       [[[1., 1., 1., 0., 0.]]]], dtype=float32)>"
      ]
     },
     "execution_count": 21,
     "metadata": {},
     "output_type": "execute_result"
    }
   ],
   "source": [
    "x = tf.constant([[7, 6, 0, 0, 1], [1, 2, 3, 0, 0], [0, 0, 0, 4, 5]])\n",
    "create_padding_mask(x)"
   ]
  },
  {
   "cell_type": "markdown",
   "metadata": {
    "id": "Z0hzukDBgVom"
   },
   "source": [
    "The look-ahead mask is used to mask the future tokens in a sequence. In other words, the mask indicates which entries should not be used.\n",
    "\n",
    "This means that to predict the third word, only the first and second word will be used. Similarly to predict the fourth word, only the first, second and the third word will be used and so on."
   ]
  },
  {
   "cell_type": "code",
   "execution_count": 22,
   "metadata": {
    "id": "dVxS8OPI9uI0"
   },
   "outputs": [],
   "source": [
    "def create_look_ahead_mask(size):\n",
    "  mask = 1 - tf.linalg.band_part(tf.ones((size, size)), -1, 0)\n",
    "  return mask  # (seq_len, seq_len)"
   ]
  },
  {
   "cell_type": "code",
   "execution_count": 23,
   "metadata": {
    "colab": {
     "base_uri": "https://localhost:8080/"
    },
    "id": "yxKGuXxaBeeE",
    "outputId": "afa5b144-c85f-4626-e942-12d24586fc9a"
   },
   "outputs": [
    {
     "data": {
      "text/plain": [
       "<tf.Tensor: shape=(3, 3), dtype=float32, numpy=\n",
       "array([[0., 1., 1.],\n",
       "       [0., 0., 1.],\n",
       "       [0., 0., 0.]], dtype=float32)>"
      ]
     },
     "execution_count": 23,
     "metadata": {},
     "output_type": "execute_result"
    }
   ],
   "source": [
    "x = tf.random.uniform((1, 3))\n",
    "temp = create_look_ahead_mask(x.shape[1])\n",
    "temp"
   ]
  },
  {
   "cell_type": "markdown",
   "metadata": {
    "id": "xluDl5cXYy4y"
   },
   "source": [
    "## Scaled dot product attention"
   ]
  },
  {
   "cell_type": "markdown",
   "metadata": {
    "id": "vsxEE_-Wa1gF"
   },
   "source": [
    "<img src=\"https://www.tensorflow.org/images/tutorials/transformer/scaled_attention.png\" width=\"500\" alt=\"scaled_dot_product_attention\">\n",
    "\n",
    "The attention function used by the transformer takes three inputs: Q (query), K (key), V (value). The equation used to calculate the attention weights is:\n",
    "\n",
    "$$\\Large{Attention(Q, K, V) = softmax_k(\\frac{QK^T}{\\sqrt{d_k}}) V} $$\n",
    "\n",
    "The dot-product attention is scaled by a factor of square root of the depth. This is done because for large values of depth, the dot product grows large in magnitude pushing the softmax function where it has small gradients resulting in a very hard softmax. \n",
    "\n",
    "For example, consider that `Q` and `K` have a mean of 0 and variance of 1. Their matrix multiplication will have a mean of 0 and variance of `dk`. Hence, *square root of `dk`* is used for scaling (and not any other number) because the matmul of `Q` and `K` should have a mean of 0 and variance of 1, and you get a gentler softmax.\n",
    "\n",
    "The mask is multiplied with -1e9 (close to negative infinity). This is done because the mask is summed with the scaled matrix multiplication of Q and K and is applied immediately before a softmax. The goal is to zero out these cells, and large negative inputs to softmax are near zero in the output."
   ]
  },
  {
   "cell_type": "code",
   "execution_count": 24,
   "metadata": {
    "id": "LazzUq3bJ5SH"
   },
   "outputs": [],
   "source": [
    "def scaled_dot_product_attention(q, k, v, mask):\n",
    "  \"\"\"Calculate the attention weights.\n",
    "  q, k, v must have matching leading dimensions.\n",
    "  k, v must have matching penultimate dimension, i.e.: seq_len_k = seq_len_v.\n",
    "  The mask has different shapes depending on its type(padding or look ahead) \n",
    "  but it must be broadcastable for addition.\n",
    "  \n",
    "  Args:\n",
    "    q: query shape == (..., seq_len_q, depth)\n",
    "    k: key shape == (..., seq_len_k, depth)\n",
    "    v: value shape == (..., seq_len_v, depth_v)\n",
    "    mask: Float tensor with shape broadcastable \n",
    "          to (..., seq_len_q, seq_len_k). Defaults to None.\n",
    "    \n",
    "  Returns:\n",
    "    output, attention_weights\n",
    "  \"\"\"\n",
    "\n",
    "  matmul_qk = tf.matmul(q, k, transpose_b=True)  # (..., seq_len_q, seq_len_k)\n",
    "  \n",
    "  # scale matmul_qk\n",
    "  dk = tf.cast(tf.shape(k)[-1], tf.float32)\n",
    "  scaled_attention_logits = matmul_qk / tf.math.sqrt(dk)\n",
    "\n",
    "  # add the mask to the scaled tensor.\n",
    "  if mask is not None:\n",
    "    scaled_attention_logits += (mask * -1e9)  \n",
    "\n",
    "  # softmax is normalized on the last axis (seq_len_k) so that the scores\n",
    "  # add up to 1.\n",
    "  attention_weights = tf.nn.softmax(scaled_attention_logits, axis=-1)  # (..., seq_len_q, seq_len_k)\n",
    "\n",
    "  output = tf.matmul(attention_weights, v)  # (..., seq_len_q, depth_v)\n",
    "\n",
    "  return output, attention_weights"
   ]
  },
  {
   "cell_type": "markdown",
   "metadata": {
    "id": "FiqETnhCkoXh"
   },
   "source": [
    "As the softmax normalization is done on K, its values decide the amount of importance given to Q.\n",
    "\n",
    "The output represents the multiplication of the attention weights and the V (value) vector. This ensures that the words you want to focus on are kept as-is and the irrelevant words are flushed out."
   ]
  },
  {
   "cell_type": "code",
   "execution_count": 25,
   "metadata": {
    "id": "n90YjClyInFy"
   },
   "outputs": [],
   "source": [
    "def print_out(q, k, v):\n",
    "  temp_out, temp_attn = scaled_dot_product_attention(\n",
    "      q, k, v, None)\n",
    "  print ('Attention weights are:')\n",
    "  print (temp_attn)\n",
    "  print ('Output is:')\n",
    "  print (temp_out)"
   ]
  },
  {
   "cell_type": "code",
   "execution_count": 26,
   "metadata": {
    "colab": {
     "base_uri": "https://localhost:8080/"
    },
    "id": "yAzUAf2DPlNt",
    "outputId": "4f614ff2-a52f-4c81-f5d2-f35876de949d"
   },
   "outputs": [
    {
     "name": "stdout",
     "output_type": "stream",
     "text": [
      "Attention weights are:\n",
      "tf.Tensor([[0. 1. 0. 0.]], shape=(1, 4), dtype=float32)\n",
      "Output is:\n",
      "tf.Tensor([[10.  0.]], shape=(1, 2), dtype=float32)\n"
     ]
    }
   ],
   "source": [
    "np.set_printoptions(suppress=True)\n",
    "\n",
    "temp_k = tf.constant([[10,0,0],\n",
    "                      [0,10,0],\n",
    "                      [0,0,10],\n",
    "                      [0,0,10]], dtype=tf.float32)  # (4, 3)\n",
    "\n",
    "temp_v = tf.constant([[   1,0],\n",
    "                      [  10,0],\n",
    "                      [ 100,5],\n",
    "                      [1000,6]], dtype=tf.float32)  # (4, 2)\n",
    "\n",
    "# This `query` aligns with the second `key`,\n",
    "# so the second `value` is returned.\n",
    "temp_q = tf.constant([[0, 10, 0]], dtype=tf.float32)  # (1, 3)\n",
    "print_out(temp_q, temp_k, temp_v)"
   ]
  },
  {
   "cell_type": "code",
   "execution_count": 27,
   "metadata": {
    "colab": {
     "base_uri": "https://localhost:8080/"
    },
    "id": "zg6k-fGhgXra",
    "outputId": "82585d6b-4d8c-411b-c868-7b6343409b0c"
   },
   "outputs": [
    {
     "name": "stdout",
     "output_type": "stream",
     "text": [
      "Attention weights are:\n",
      "tf.Tensor([[0.  0.  0.5 0.5]], shape=(1, 4), dtype=float32)\n",
      "Output is:\n",
      "tf.Tensor([[550.    5.5]], shape=(1, 2), dtype=float32)\n"
     ]
    }
   ],
   "source": [
    "# This query aligns with a repeated key (third and fourth), \n",
    "# so all associated values get averaged.\n",
    "temp_q = tf.constant([[0, 0, 10]], dtype=tf.float32)  # (1, 3)\n",
    "print_out(temp_q, temp_k, temp_v)"
   ]
  },
  {
   "cell_type": "code",
   "execution_count": 28,
   "metadata": {
    "colab": {
     "base_uri": "https://localhost:8080/"
    },
    "id": "UAq3YOzUgXhb",
    "outputId": "c38b7220-1ced-4987-e510-f34c4f12fe69"
   },
   "outputs": [
    {
     "name": "stdout",
     "output_type": "stream",
     "text": [
      "Attention weights are:\n",
      "tf.Tensor([[0.5 0.5 0.  0. ]], shape=(1, 4), dtype=float32)\n",
      "Output is:\n",
      "tf.Tensor([[5.5 0. ]], shape=(1, 2), dtype=float32)\n"
     ]
    }
   ],
   "source": [
    "# This query aligns equally with the first and second key, \n",
    "# so their values get averaged.\n",
    "temp_q = tf.constant([[10, 10, 0]], dtype=tf.float32)  # (1, 3)\n",
    "print_out(temp_q, temp_k, temp_v)"
   ]
  },
  {
   "cell_type": "markdown",
   "metadata": {
    "id": "aOz-4_XIhaTP"
   },
   "source": [
    "Pass all the queries together."
   ]
  },
  {
   "cell_type": "code",
   "execution_count": 29,
   "metadata": {
    "colab": {
     "base_uri": "https://localhost:8080/"
    },
    "id": "6dlU8Tm-hYrF",
    "outputId": "4f80eeaf-12c1-4819-ad59-d39bcab1bb2c"
   },
   "outputs": [
    {
     "name": "stdout",
     "output_type": "stream",
     "text": [
      "Attention weights are:\n",
      "tf.Tensor(\n",
      "[[0.  0.  0.5 0.5]\n",
      " [0.  1.  0.  0. ]\n",
      " [0.5 0.5 0.  0. ]], shape=(3, 4), dtype=float32)\n",
      "Output is:\n",
      "tf.Tensor(\n",
      "[[550.    5.5]\n",
      " [ 10.    0. ]\n",
      " [  5.5   0. ]], shape=(3, 2), dtype=float32)\n"
     ]
    }
   ],
   "source": [
    "temp_q = tf.constant([[0, 0, 10], [0, 10, 0], [10, 10, 0]], dtype=tf.float32)  # (3, 3)\n",
    "print_out(temp_q, temp_k, temp_v)"
   ]
  },
  {
   "cell_type": "markdown",
   "metadata": {
    "id": "kmzGPEy64qmA"
   },
   "source": [
    "## Multi-head attention"
   ]
  },
  {
   "cell_type": "markdown",
   "metadata": {
    "id": "fz5BMC8Kaoqo"
   },
   "source": [
    "<img src=\"https://www.tensorflow.org/images/tutorials/transformer/multi_head_attention.png\" width=\"500\" alt=\"multi-head attention\">\n",
    "\n",
    "\n",
    "Multi-head attention consists of four parts:\n",
    "*    Linear layers and split into heads.\n",
    "*    Scaled dot-product attention.\n",
    "*    Concatenation of heads.\n",
    "*    Final linear layer."
   ]
  },
  {
   "cell_type": "markdown",
   "metadata": {
    "id": "JPmbr6F1C-v_"
   },
   "source": [
    "Each multi-head attention block gets three inputs; Q (query), K (key), V (value). These are put through linear (Dense) layers and split up into multiple heads. \n",
    "\n",
    "The `scaled_dot_product_attention` defined above is applied to each head (broadcasted for efficiency). An appropriate mask must be used in the attention step.  The attention output for each head is then concatenated (using `tf.transpose`, and `tf.reshape`) and put through a final `Dense` layer.\n",
    "\n",
    "Instead of one single attention head, Q, K, and V are split into multiple heads because it allows the model to jointly attend to information at different positions from different representational spaces. After the split each head has a reduced dimensionality, so the total computation cost is the same as a single head attention with full dimensionality."
   ]
  },
  {
   "cell_type": "code",
   "execution_count": 30,
   "metadata": {
    "id": "BSV3PPKsYecw"
   },
   "outputs": [],
   "source": [
    "class MultiHeadAttention(tf.keras.layers.Layer):\n",
    "  def __init__(self, d_model, num_heads):\n",
    "    super(MultiHeadAttention, self).__init__()\n",
    "    self.num_heads = num_heads\n",
    "    self.d_model = d_model\n",
    "    \n",
    "    assert d_model % self.num_heads == 0\n",
    "    \n",
    "    self.depth = d_model // self.num_heads\n",
    "    \n",
    "    self.wq = tf.keras.layers.Dense(d_model)\n",
    "    self.wk = tf.keras.layers.Dense(d_model)\n",
    "    self.wv = tf.keras.layers.Dense(d_model)\n",
    "    \n",
    "    self.dense = tf.keras.layers.Dense(d_model)\n",
    "        \n",
    "  def split_heads(self, x, batch_size):\n",
    "    \"\"\"Split the last dimension into (num_heads, depth).\n",
    "    Transpose the result such that the shape is (batch_size, num_heads, seq_len, depth)\n",
    "    \"\"\"\n",
    "    x = tf.reshape(x, (batch_size, -1, self.num_heads, self.depth))\n",
    "    return tf.transpose(x, perm=[0, 2, 1, 3])\n",
    "    \n",
    "  def call(self, v, k, q, mask):\n",
    "    batch_size = tf.shape(q)[0]\n",
    "    \n",
    "    q = self.wq(q)  # (batch_size, seq_len, d_model)\n",
    "    k = self.wk(k)  # (batch_size, seq_len, d_model)\n",
    "    v = self.wv(v)  # (batch_size, seq_len, d_model)\n",
    "    \n",
    "    q = self.split_heads(q, batch_size)  # (batch_size, num_heads, seq_len_q, depth)\n",
    "    k = self.split_heads(k, batch_size)  # (batch_size, num_heads, seq_len_k, depth)\n",
    "    v = self.split_heads(v, batch_size)  # (batch_size, num_heads, seq_len_v, depth)\n",
    "    \n",
    "    # scaled_attention.shape == (batch_size, num_heads, seq_len_q, depth)\n",
    "    # attention_weights.shape == (batch_size, num_heads, seq_len_q, seq_len_k)\n",
    "    scaled_attention, attention_weights = scaled_dot_product_attention(\n",
    "        q, k, v, mask)\n",
    "    \n",
    "    scaled_attention = tf.transpose(scaled_attention, perm=[0, 2, 1, 3])  # (batch_size, seq_len_q, num_heads, depth)\n",
    "\n",
    "    concat_attention = tf.reshape(scaled_attention, \n",
    "                                  (batch_size, -1, self.d_model))  # (batch_size, seq_len_q, d_model)\n",
    "\n",
    "    output = self.dense(concat_attention)  # (batch_size, seq_len_q, d_model)\n",
    "        \n",
    "    return output, attention_weights"
   ]
  },
  {
   "cell_type": "markdown",
   "metadata": {
    "id": "0D8FJue5lDyZ"
   },
   "source": [
    "Create a `MultiHeadAttention` layer to try out. At each location in the sequence, `y`, the `MultiHeadAttention` runs all 8 attention heads across all other locations in the sequence, returning a new vector of the same length at each location."
   ]
  },
  {
   "cell_type": "code",
   "execution_count": 31,
   "metadata": {
    "colab": {
     "base_uri": "https://localhost:8080/"
    },
    "id": "Hu94p-_-2_BX",
    "outputId": "8f890a1d-970e-40d3-ee5d-15d4fa4ac349"
   },
   "outputs": [
    {
     "data": {
      "text/plain": [
       "(TensorShape([1, 60, 512]), TensorShape([1, 8, 60, 60]))"
      ]
     },
     "execution_count": 31,
     "metadata": {},
     "output_type": "execute_result"
    }
   ],
   "source": [
    "temp_mha = MultiHeadAttention(d_model=512, num_heads=8)\n",
    "y = tf.random.uniform((1, 60, 512))  # (batch_size, encoder_sequence, d_model)\n",
    "out, attn = temp_mha(y, k=y, q=y, mask=None)\n",
    "out.shape, attn.shape"
   ]
  },
  {
   "cell_type": "markdown",
   "metadata": {
    "id": "RdDqGayx67vv"
   },
   "source": [
    "## Point wise feed forward network"
   ]
  },
  {
   "cell_type": "markdown",
   "metadata": {
    "id": "gBqzJXGfHK3X"
   },
   "source": [
    "Point wise feed forward network consists of two fully-connected layers with a ReLU activation in between."
   ]
  },
  {
   "cell_type": "code",
   "execution_count": 32,
   "metadata": {
    "id": "ET7xLt0yCT6Z"
   },
   "outputs": [],
   "source": [
    "def point_wise_feed_forward_network(d_model, dff):\n",
    "  return tf.keras.Sequential([\n",
    "      tf.keras.layers.Dense(dff, activation='relu'),  # (batch_size, seq_len, dff)\n",
    "      tf.keras.layers.Dense(d_model)  # (batch_size, seq_len, d_model)\n",
    "  ])"
   ]
  },
  {
   "cell_type": "code",
   "execution_count": 33,
   "metadata": {
    "colab": {
     "base_uri": "https://localhost:8080/"
    },
    "id": "mytb1lPyOHLB",
    "outputId": "b9ba0e9b-1dd9-47b2-be13-3ec500cc6d57"
   },
   "outputs": [
    {
     "data": {
      "text/plain": [
       "TensorShape([64, 50, 512])"
      ]
     },
     "execution_count": 33,
     "metadata": {},
     "output_type": "execute_result"
    }
   ],
   "source": [
    "sample_ffn = point_wise_feed_forward_network(512, 2048)\n",
    "sample_ffn(tf.random.uniform((64, 50, 512))).shape"
   ]
  },
  {
   "cell_type": "markdown",
   "metadata": {
    "id": "7e7hKcxn6-zd"
   },
   "source": [
    "## Encoder and decoder"
   ]
  },
  {
   "cell_type": "markdown",
   "metadata": {
    "id": "yScbC0MUH8dS"
   },
   "source": [
    "<img src=\"https://www.tensorflow.org/images/tutorials/transformer/transformer.png\" width=\"600\" alt=\"transformer\">"
   ]
  },
  {
   "cell_type": "markdown",
   "metadata": {
    "id": "MfYJG-Kvgwy2"
   },
   "source": [
    "The transformer model follows the same general pattern as a standard [sequence to sequence with attention model](nmt_with_attention.ipynb). \n",
    "\n",
    "* The input sentence is passed through `N` encoder layers that generates an output for each word/token in the sequence.\n",
    "* The decoder attends on the encoder's output and its own input (self-attention) to predict the next word. "
   ]
  },
  {
   "cell_type": "markdown",
   "metadata": {
    "id": "QFv-FNYUmvpn"
   },
   "source": [
    "### Encoder layer\n",
    "\n",
    "Each encoder layer consists of sublayers:\n",
    "\n",
    "1.   Multi-head attention (with padding mask) \n",
    "2.    Point wise feed forward networks. \n",
    "\n",
    "Each of these sublayers has a residual connection around it followed by a layer normalization. Residual connections help in avoiding the vanishing gradient problem in deep networks.\n",
    "\n",
    "The output of each sublayer is `LayerNorm(x + Sublayer(x))`. The normalization is done on the `d_model` (last) axis. There are N encoder layers in the transformer."
   ]
  },
  {
   "cell_type": "code",
   "execution_count": 34,
   "metadata": {
    "id": "ncyS-Ms3i2x_"
   },
   "outputs": [],
   "source": [
    "class EncoderLayer(tf.keras.layers.Layer):\n",
    "  def __init__(self, d_model, num_heads, dff, rate=0.1):\n",
    "    super(EncoderLayer, self).__init__()\n",
    "\n",
    "    self.mha = MultiHeadAttention(d_model, num_heads)\n",
    "    self.ffn = point_wise_feed_forward_network(d_model, dff)\n",
    "\n",
    "    self.layernorm1 = tf.keras.layers.LayerNormalization(epsilon=1e-6)\n",
    "    self.layernorm2 = tf.keras.layers.LayerNormalization(epsilon=1e-6)\n",
    "    \n",
    "    self.dropout1 = tf.keras.layers.Dropout(rate)\n",
    "    self.dropout2 = tf.keras.layers.Dropout(rate)\n",
    "    \n",
    "  def call(self, x, training, mask):\n",
    "\n",
    "    attn_output, _ = self.mha(x, x, x, mask)  # (batch_size, input_seq_len, d_model)\n",
    "    attn_output = self.dropout1(attn_output, training=training)\n",
    "    out1 = self.layernorm1(x + attn_output)  # (batch_size, input_seq_len, d_model)\n",
    "    \n",
    "    ffn_output = self.ffn(out1)  # (batch_size, input_seq_len, d_model)\n",
    "    ffn_output = self.dropout2(ffn_output, training=training)\n",
    "    out2 = self.layernorm2(out1 + ffn_output)  # (batch_size, input_seq_len, d_model)\n",
    "    \n",
    "    return out2"
   ]
  },
  {
   "cell_type": "code",
   "execution_count": 35,
   "metadata": {
    "colab": {
     "base_uri": "https://localhost:8080/"
    },
    "id": "AzZRXdO0mI48",
    "outputId": "f782e377-bc21-4e2b-9088-32b8538f85c9"
   },
   "outputs": [
    {
     "data": {
      "text/plain": [
       "TensorShape([64, 43, 512])"
      ]
     },
     "execution_count": 35,
     "metadata": {},
     "output_type": "execute_result"
    }
   ],
   "source": [
    "sample_encoder_layer = EncoderLayer(512, 8, 2048)\n",
    "\n",
    "sample_encoder_layer_output = sample_encoder_layer(\n",
    "    tf.random.uniform((64, 43, 512)), False, None)\n",
    "\n",
    "sample_encoder_layer_output.shape  # (batch_size, input_seq_len, d_model)"
   ]
  },
  {
   "cell_type": "markdown",
   "metadata": {
    "id": "6LO_48Owmx_o"
   },
   "source": [
    "### Decoder layer\n",
    "\n",
    "Each decoder layer consists of sublayers:\n",
    "\n",
    "1.   Masked multi-head attention (with look ahead mask and padding mask)\n",
    "2.   Multi-head attention (with padding mask). V (value) and K (key) receive the *encoder output* as inputs. Q (query) receives the *output from the masked multi-head attention sublayer.*\n",
    "3.   Point wise feed forward networks\n",
    "\n",
    "Each of these sublayers has a residual connection around it followed by a layer normalization. The output of each sublayer is `LayerNorm(x + Sublayer(x))`. The normalization is done on the `d_model` (last) axis.\n",
    "\n",
    "There are N decoder layers in the transformer.\n",
    "\n",
    "As Q receives the output from decoder's first attention block, and K receives the encoder output, the attention weights represent the importance given to the decoder's input based on the encoder's output. In other words, the decoder predicts the next word by looking at the encoder output and self-attending to its own output. See the demonstration above in the scaled dot product attention section."
   ]
  },
  {
   "cell_type": "code",
   "execution_count": 36,
   "metadata": {
    "id": "9SoX0-vd1hue"
   },
   "outputs": [],
   "source": [
    "class DecoderLayer(tf.keras.layers.Layer):\n",
    "  def __init__(self, d_model, num_heads, dff, rate=0.1):\n",
    "    super(DecoderLayer, self).__init__()\n",
    "\n",
    "    self.mha1 = MultiHeadAttention(d_model, num_heads)\n",
    "    self.mha2 = MultiHeadAttention(d_model, num_heads)\n",
    "\n",
    "    self.ffn = point_wise_feed_forward_network(d_model, dff)\n",
    " \n",
    "    self.layernorm1 = tf.keras.layers.LayerNormalization(epsilon=1e-6)\n",
    "    self.layernorm2 = tf.keras.layers.LayerNormalization(epsilon=1e-6)\n",
    "    self.layernorm3 = tf.keras.layers.LayerNormalization(epsilon=1e-6)\n",
    "    \n",
    "    self.dropout1 = tf.keras.layers.Dropout(rate)\n",
    "    self.dropout2 = tf.keras.layers.Dropout(rate)\n",
    "    self.dropout3 = tf.keras.layers.Dropout(rate)\n",
    "    \n",
    "    \n",
    "  def call(self, x, enc_output, training, \n",
    "           look_ahead_mask, padding_mask):\n",
    "    # enc_output.shape == (batch_size, input_seq_len, d_model)\n",
    "\n",
    "    attn1, attn_weights_block1 = self.mha1(x, x, x, look_ahead_mask)  # (batch_size, target_seq_len, d_model)\n",
    "    attn1 = self.dropout1(attn1, training=training)\n",
    "    out1 = self.layernorm1(attn1 + x)\n",
    "    \n",
    "    attn2, attn_weights_block2 = self.mha2(\n",
    "        enc_output, enc_output, out1, padding_mask)  # (batch_size, target_seq_len, d_model)\n",
    "    attn2 = self.dropout2(attn2, training=training)\n",
    "    out2 = self.layernorm2(attn2 + out1)  # (batch_size, target_seq_len, d_model)\n",
    "    \n",
    "    ffn_output = self.ffn(out2)  # (batch_size, target_seq_len, d_model)\n",
    "    ffn_output = self.dropout3(ffn_output, training=training)\n",
    "    out3 = self.layernorm3(ffn_output + out2)  # (batch_size, target_seq_len, d_model)\n",
    "    \n",
    "    return out3, attn_weights_block1, attn_weights_block2"
   ]
  },
  {
   "cell_type": "code",
   "execution_count": 37,
   "metadata": {
    "colab": {
     "base_uri": "https://localhost:8080/"
    },
    "id": "Ne2Bqx8k71l0",
    "outputId": "53c7b26c-e654-4dc6-ef3b-613bff14234e"
   },
   "outputs": [
    {
     "data": {
      "text/plain": [
       "TensorShape([64, 50, 512])"
      ]
     },
     "execution_count": 37,
     "metadata": {},
     "output_type": "execute_result"
    }
   ],
   "source": [
    "sample_decoder_layer = DecoderLayer(512, 8, 2048)\n",
    "\n",
    "sample_decoder_layer_output, _, _ = sample_decoder_layer(\n",
    "    tf.random.uniform((64, 50, 512)), sample_encoder_layer_output, \n",
    "    False, None, None)\n",
    "\n",
    "sample_decoder_layer_output.shape  # (batch_size, target_seq_len, d_model)"
   ]
  },
  {
   "cell_type": "markdown",
   "metadata": {
    "id": "SE1H51Ajm0q1"
   },
   "source": [
    "### Encoder\n",
    "\n",
    "The `Encoder` consists of:\n",
    "1.   Input Embedding\n",
    "2.   Positional Encoding\n",
    "3.   N encoder layers\n",
    "\n",
    "The input is put through an embedding which is summed with the positional encoding. The output of this summation is the input to the encoder layers. The output of the encoder is the input to the decoder."
   ]
  },
  {
   "cell_type": "code",
   "execution_count": 38,
   "metadata": {
    "id": "jpEox7gJ8FCI"
   },
   "outputs": [],
   "source": [
    "class Encoder(tf.keras.layers.Layer):\n",
    "  def __init__(self, num_layers, d_model, num_heads, dff, input_vocab_size,\n",
    "               maximum_position_encoding, rate=0.1):\n",
    "    super(Encoder, self).__init__()\n",
    "\n",
    "    self.d_model = d_model\n",
    "    self.num_layers = num_layers\n",
    "    \n",
    "    self.embedding = tf.keras.layers.Embedding(input_vocab_size, d_model)\n",
    "    self.pos_encoding = positional_encoding(maximum_position_encoding, \n",
    "                                            self.d_model)\n",
    "    \n",
    "    \n",
    "    self.enc_layers = [EncoderLayer(d_model, num_heads, dff, rate) \n",
    "                       for _ in range(num_layers)]\n",
    "  \n",
    "    self.dropout = tf.keras.layers.Dropout(rate)\n",
    "        \n",
    "  def call(self, x, training, mask):\n",
    "\n",
    "    seq_len = tf.shape(x)[1]\n",
    "    \n",
    "    # adding embedding and position encoding.\n",
    "    x = self.embedding(x)  # (batch_size, input_seq_len, d_model)\n",
    "    x *= tf.math.sqrt(tf.cast(self.d_model, tf.float32))\n",
    "    x += self.pos_encoding[:, :seq_len, :]\n",
    "\n",
    "    x = self.dropout(x, training=training)\n",
    "    \n",
    "    for i in range(self.num_layers):\n",
    "      x = self.enc_layers[i](x, training, mask)\n",
    "    \n",
    "    return x  # (batch_size, input_seq_len, d_model)"
   ]
  },
  {
   "cell_type": "code",
   "execution_count": 39,
   "metadata": {
    "colab": {
     "base_uri": "https://localhost:8080/"
    },
    "id": "8QG9nueFQKXx",
    "outputId": "c1c5cc6b-19bb-4190-c8d7-f605fb303c07"
   },
   "outputs": [
    {
     "name": "stdout",
     "output_type": "stream",
     "text": [
      "(64, 62, 512)\n"
     ]
    }
   ],
   "source": [
    "sample_encoder = Encoder(num_layers=2, d_model=512, num_heads=8, \n",
    "                         dff=2048, input_vocab_size=8500,\n",
    "                         maximum_position_encoding=10000)\n",
    "temp_input = tf.random.uniform((64, 62), dtype=tf.int64, minval=0, maxval=200)\n",
    "\n",
    "sample_encoder_output = sample_encoder(temp_input, training=False, mask=None)\n",
    "\n",
    "print (sample_encoder_output.shape)  # (batch_size, input_seq_len, d_model)"
   ]
  },
  {
   "cell_type": "markdown",
   "metadata": {
    "id": "p-uO6ls8m2O5"
   },
   "source": [
    "### Decoder"
   ]
  },
  {
   "cell_type": "markdown",
   "metadata": {
    "id": "ZtT7PKzrXkNr"
   },
   "source": [
    " The `Decoder` consists of:\n",
    "1.   Output Embedding\n",
    "2.   Positional Encoding\n",
    "3.   N decoder layers\n",
    "\n",
    "The target is put through an embedding which is summed with the positional encoding. The output of this summation is the input to the decoder layers. The output of the decoder is the input to the final linear layer."
   ]
  },
  {
   "cell_type": "code",
   "execution_count": 40,
   "metadata": {
    "id": "d5_d5-PLQXwY"
   },
   "outputs": [],
   "source": [
    "class Decoder(tf.keras.layers.Layer):\n",
    "  def __init__(self, num_layers, d_model, num_heads, dff, target_vocab_size,\n",
    "               maximum_position_encoding, rate=0.1):\n",
    "    super(Decoder, self).__init__()\n",
    "\n",
    "    self.d_model = d_model\n",
    "    self.num_layers = num_layers\n",
    "    \n",
    "    self.embedding = tf.keras.layers.Embedding(target_vocab_size, d_model)\n",
    "    self.pos_encoding = positional_encoding(maximum_position_encoding, d_model)\n",
    "    \n",
    "    self.dec_layers = [DecoderLayer(d_model, num_heads, dff, rate) \n",
    "                       for _ in range(num_layers)]\n",
    "    self.dropout = tf.keras.layers.Dropout(rate)\n",
    "    \n",
    "  def call(self, x, enc_output, training, \n",
    "           look_ahead_mask, padding_mask):\n",
    "\n",
    "    seq_len = tf.shape(x)[1]\n",
    "    attention_weights = {}\n",
    "    \n",
    "    x = self.embedding(x)  # (batch_size, target_seq_len, d_model)\n",
    "    x *= tf.math.sqrt(tf.cast(self.d_model, tf.float32))\n",
    "    x += self.pos_encoding[:, :seq_len, :]\n",
    "    \n",
    "    x = self.dropout(x, training=training)\n",
    "\n",
    "    for i in range(self.num_layers):\n",
    "      x, block1, block2 = self.dec_layers[i](x, enc_output, training,\n",
    "                                             look_ahead_mask, padding_mask)\n",
    "      \n",
    "      attention_weights['decoder_layer{}_block1'.format(i+1)] = block1\n",
    "      attention_weights['decoder_layer{}_block2'.format(i+1)] = block2\n",
    "    \n",
    "    # x.shape == (batch_size, target_seq_len, d_model)\n",
    "    return x, attention_weights"
   ]
  },
  {
   "cell_type": "code",
   "execution_count": 41,
   "metadata": {
    "colab": {
     "base_uri": "https://localhost:8080/"
    },
    "id": "a1jXoAMRZyvu",
    "outputId": "49e16979-6f48-4c6c-c307-0b95259d725e"
   },
   "outputs": [
    {
     "data": {
      "text/plain": [
       "(TensorShape([64, 26, 512]), TensorShape([64, 8, 26, 62]))"
      ]
     },
     "execution_count": 41,
     "metadata": {},
     "output_type": "execute_result"
    }
   ],
   "source": [
    "sample_decoder = Decoder(num_layers=2, d_model=512, num_heads=8, \n",
    "                         dff=2048, target_vocab_size=8000,\n",
    "                         maximum_position_encoding=5000)\n",
    "temp_input = tf.random.uniform((64, 26), dtype=tf.int64, minval=0, maxval=200)\n",
    "\n",
    "output, attn = sample_decoder(temp_input, \n",
    "                              enc_output=sample_encoder_output, \n",
    "                              training=False,\n",
    "                              look_ahead_mask=None, \n",
    "                              padding_mask=None)\n",
    "\n",
    "output.shape, attn['decoder_layer2_block2'].shape"
   ]
  },
  {
   "cell_type": "markdown",
   "metadata": {
    "id": "y54xnJnuYgJ7"
   },
   "source": [
    "## Create the Transformer"
   ]
  },
  {
   "cell_type": "markdown",
   "metadata": {
    "id": "uERO1y54cOKq"
   },
   "source": [
    "Transformer consists of the encoder, decoder and a final linear layer. The output of the decoder is the input to the linear layer and its output is returned."
   ]
  },
  {
   "cell_type": "code",
   "execution_count": 42,
   "metadata": {
    "id": "PED3bIpOYkBu"
   },
   "outputs": [],
   "source": [
    "class Transformer(tf.keras.Model):\n",
    "  def __init__(self, num_layers, d_model, num_heads, dff, input_vocab_size, \n",
    "               target_vocab_size, pe_input, pe_target, rate=0.1):\n",
    "    super(Transformer, self).__init__()\n",
    "\n",
    "    self.encoder = Encoder(num_layers, d_model, num_heads, dff, \n",
    "                           input_vocab_size, pe_input, rate)\n",
    "\n",
    "    self.decoder = Decoder(num_layers, d_model, num_heads, dff, \n",
    "                           target_vocab_size, pe_target, rate)\n",
    "\n",
    "    self.final_layer = tf.keras.layers.Dense(target_vocab_size)\n",
    "    \n",
    "  def call(self, inp, tar, training, enc_padding_mask, \n",
    "           look_ahead_mask, dec_padding_mask):\n",
    "\n",
    "    enc_output = self.encoder(inp, training, enc_padding_mask)  # (batch_size, inp_seq_len, d_model)\n",
    "    \n",
    "    # dec_output.shape == (batch_size, tar_seq_len, d_model)\n",
    "    dec_output, attention_weights = self.decoder(\n",
    "        tar, enc_output, training, look_ahead_mask, dec_padding_mask)\n",
    "    \n",
    "    final_output = self.final_layer(dec_output)  # (batch_size, tar_seq_len, target_vocab_size)\n",
    "    \n",
    "    return final_output, attention_weights"
   ]
  },
  {
   "cell_type": "code",
   "execution_count": 43,
   "metadata": {
    "colab": {
     "base_uri": "https://localhost:8080/"
    },
    "id": "tJ4fbQcIkHW1",
    "outputId": "6bc6155a-02f0-44ff-b04d-5ab4b4c387cc"
   },
   "outputs": [
    {
     "data": {
      "text/plain": [
       "TensorShape([64, 36, 8000])"
      ]
     },
     "execution_count": 43,
     "metadata": {},
     "output_type": "execute_result"
    }
   ],
   "source": [
    "sample_transformer = Transformer(\n",
    "    num_layers=2, d_model=512, num_heads=8, dff=2048, \n",
    "    input_vocab_size=8500, target_vocab_size=8000, \n",
    "    pe_input=10000, pe_target=6000)\n",
    "\n",
    "temp_input = tf.random.uniform((64, 38), dtype=tf.int64, minval=0, maxval=200)\n",
    "temp_target = tf.random.uniform((64, 36), dtype=tf.int64, minval=0, maxval=200)\n",
    "\n",
    "fn_out, _ = sample_transformer(temp_input, temp_target, training=False, \n",
    "                               enc_padding_mask=None, \n",
    "                               look_ahead_mask=None,\n",
    "                               dec_padding_mask=None)\n",
    "\n",
    "fn_out.shape  # (batch_size, tar_seq_len, target_vocab_size)"
   ]
  },
  {
   "cell_type": "markdown",
   "metadata": {
    "id": "wsINyf1VEQLC"
   },
   "source": [
    "## Set hyperparameters"
   ]
  },
  {
   "cell_type": "markdown",
   "metadata": {
    "id": "zVjWCxFNcgbt"
   },
   "source": [
    "To keep this example small and relatively fast, the values for *num_layers, d_model, and dff* have been reduced. \n",
    "\n",
    "The values used in the base model of transformer were; *num_layers=6*, *d_model = 512*, *dff = 2048*. See the [paper](https://arxiv.org/abs/1706.03762) for all the other versions of the transformer.\n",
    "\n",
    "Note: By changing the values below, you can get the model that achieved state of the art on many tasks."
   ]
  },
  {
   "cell_type": "code",
   "execution_count": 44,
   "metadata": {
    "id": "lnJn5SLA2ahP"
   },
   "outputs": [],
   "source": [
    "num_layers = 4\n",
    "d_model = 128\n",
    "dff = 512\n",
    "num_heads = 8\n",
    "\n",
    "input_vocab_size = input_tokenizer.vocab_size + 2\n",
    "target_vocab_size = target_tokenizer.vocab_size + 2\n",
    "dropout_rate = 0.1"
   ]
  },
  {
   "cell_type": "markdown",
   "metadata": {
    "id": "xYEGhEOtzn5W"
   },
   "source": [
    "## Optimizer"
   ]
  },
  {
   "cell_type": "markdown",
   "metadata": {
    "id": "GOmWW--yP3zx"
   },
   "source": [
    "Use the Adam optimizer with a custom learning rate scheduler according to the formula in the [paper](https://arxiv.org/abs/1706.03762).\n",
    "\n",
    "$$\\Large{lrate = d_{model}^{-0.5} * min(step{\\_}num^{-0.5}, step{\\_}num * warmup{\\_}steps^{-1.5})}$$\n"
   ]
  },
  {
   "cell_type": "code",
   "execution_count": 45,
   "metadata": {
    "id": "iYQdOO1axwEI"
   },
   "outputs": [],
   "source": [
    "class CustomSchedule(tf.keras.optimizers.schedules.LearningRateSchedule):\n",
    "  def __init__(self, d_model, warmup_steps=4000):\n",
    "    super(CustomSchedule, self).__init__()\n",
    "    \n",
    "    self.d_model = d_model\n",
    "    self.d_model = tf.cast(self.d_model, tf.float32)\n",
    "\n",
    "    self.warmup_steps = warmup_steps\n",
    "    \n",
    "  def __call__(self, step):\n",
    "    arg1 = tf.math.rsqrt(step)\n",
    "    arg2 = step * (self.warmup_steps ** -1.5)\n",
    "    \n",
    "    return tf.math.rsqrt(self.d_model) * tf.math.minimum(arg1, arg2)"
   ]
  },
  {
   "cell_type": "code",
   "execution_count": 46,
   "metadata": {
    "id": "7r4scdulztRx"
   },
   "outputs": [],
   "source": [
    "learning_rate = CustomSchedule(d_model)\n",
    "\n",
    "optimizer = tf.keras.optimizers.Adam(learning_rate, beta_1=0.9, beta_2=0.98, \n",
    "                                     epsilon=1e-9)"
   ]
  },
  {
   "cell_type": "code",
   "execution_count": 47,
   "metadata": {
    "colab": {
     "base_uri": "https://localhost:8080/",
     "height": 296
    },
    "id": "f33ZCgvHpPdG",
    "outputId": "d32a1d68-c675-424d-ddc5-855608622ba6"
   },
   "outputs": [
    {
     "data": {
      "text/plain": [
       "Text(0.5, 0, 'Train Step')"
      ]
     },
     "execution_count": 47,
     "metadata": {},
     "output_type": "execute_result"
    },
    {
     "data": {
      "image/png": "[encoded data removed]",
      "text/plain": [
       "<Figure size 432x288 with 1 Axes>"
      ]
     },
     "metadata": {
      "needs_background": "light"
     },
     "output_type": "display_data"
    }
   ],
   "source": [
    "temp_learning_rate_schedule = CustomSchedule(d_model)\n",
    "\n",
    "plt.plot(temp_learning_rate_schedule(tf.range(40000, dtype=tf.float32)))\n",
    "plt.ylabel(\"Learning Rate\")\n",
    "plt.xlabel(\"Train Step\")"
   ]
  },
  {
   "cell_type": "markdown",
   "metadata": {
    "id": "YgkDE7hzo8r5"
   },
   "source": [
    "## Loss and metrics"
   ]
  },
  {
   "cell_type": "markdown",
   "metadata": {
    "id": "oxGJtoDuYIHL"
   },
   "source": [
    "Since the target sequences are padded, it is important to apply a padding mask when calculating the loss."
   ]
  },
  {
   "cell_type": "code",
   "execution_count": 48,
   "metadata": {
    "id": "MlhsJMm0TW_B"
   },
   "outputs": [],
   "source": [
    "loss_object = tf.keras.losses.SparseCategoricalCrossentropy(\n",
    "    from_logits=True, reduction='none')"
   ]
  },
  {
   "cell_type": "code",
   "execution_count": 49,
   "metadata": {
    "id": "67oqVHiT0Eiu"
   },
   "outputs": [],
   "source": [
    "def loss_function(real, pred):\n",
    "  mask = tf.math.logical_not(tf.math.equal(real, 0))\n",
    "  loss_ = loss_object(real, pred)\n",
    "\n",
    "  mask = tf.cast(mask, dtype=loss_.dtype)\n",
    "  loss_ *= mask\n",
    "  \n",
    "  return tf.reduce_sum(loss_)/tf.reduce_sum(mask)"
   ]
  },
  {
   "cell_type": "code",
   "execution_count": 50,
   "metadata": {
    "id": "phlyxMnm-Tpx"
   },
   "outputs": [],
   "source": [
    "train_loss = tf.keras.metrics.Mean(name='train_loss')\n",
    "train_accuracy = tf.keras.metrics.SparseCategoricalAccuracy(\n",
    "    name='train_accuracy')"
   ]
  },
  {
   "cell_type": "markdown",
   "metadata": {
    "id": "aeHumfr7zmMa"
   },
   "source": [
    "## Training and checkpointing"
   ]
  },
  {
   "cell_type": "code",
   "execution_count": 51,
   "metadata": {
    "id": "UiysUa--4tOU"
   },
   "outputs": [],
   "source": [
    "transformer = Transformer(num_layers, d_model, num_heads, dff,\n",
    "                          input_vocab_size, target_vocab_size, \n",
    "                          pe_input=input_vocab_size, \n",
    "                          pe_target=target_vocab_size,\n",
    "                          rate=dropout_rate)"
   ]
  },
  {
   "cell_type": "code",
   "execution_count": 52,
   "metadata": {
    "id": "ZOJUSB1T8GjM"
   },
   "outputs": [],
   "source": [
    "def create_masks(inp, tar):\n",
    "  # Encoder padding mask\n",
    "  enc_padding_mask = create_padding_mask(inp)\n",
    "  \n",
    "  # Used in the 2nd attention block in the decoder.\n",
    "  # This padding mask is used to mask the encoder outputs.\n",
    "  dec_padding_mask = create_padding_mask(inp)\n",
    "  \n",
    "  # Used in the 1st attention block in the decoder.\n",
    "  # It is used to pad and mask future tokens in the input received by \n",
    "  # the decoder.\n",
    "  look_ahead_mask = create_look_ahead_mask(tf.shape(tar)[1])\n",
    "  dec_target_padding_mask = create_padding_mask(tar)\n",
    "  combined_mask = tf.maximum(dec_target_padding_mask, look_ahead_mask)\n",
    "  \n",
    "  return enc_padding_mask, combined_mask, dec_padding_mask"
   ]
  },
  {
   "cell_type": "markdown",
   "metadata": {
    "id": "Fzuf06YZp66w"
   },
   "source": [
    "Create the checkpoint path and the checkpoint manager. This will be used to save checkpoints every `n` epochs."
   ]
  },
  {
   "cell_type": "code",
   "execution_count": 53,
   "metadata": {
    "id": "hNhuYfllndLZ"
   },
   "outputs": [],
   "source": [
    "checkpoint_path = \"./checkpoints\" + f\"/{100}EPOCHS_{YueChar}YueChar\"\n",
    "\n",
    "ckpt = tf.train.Checkpoint(transformer=transformer,\n",
    "                           optimizer=optimizer)\n",
    "\n",
    "ckpt_manager = tf.train.CheckpointManager(ckpt, checkpoint_path, max_to_keep=5)\n",
    "\n",
    "# if a checkpoint exists, restore the latest checkpoint.\n",
    "if ckpt_manager.latest_checkpoint:\n",
    "  ckpt.restore(ckpt_manager.latest_checkpoint)\n",
    "  print ('Latest checkpoint restored!!')"
   ]
  },
  {
   "cell_type": "markdown",
   "metadata": {
    "id": "0Di_Yaa1gf9r"
   },
   "source": [
    "The target is divided into tar_inp and tar_real. tar_inp is passed as an input to the decoder. `tar_real` is that same input shifted by 1: At each location in `tar_input`, `tar_real` contains the  next token that should be predicted.\n",
    "\n",
    "For example, `sentence` = \"SOS A lion in the jungle is sleeping EOS\"\n",
    "\n",
    "`tar_inp` =  \"SOS A lion in the jungle is sleeping\"\n",
    "\n",
    "`tar_real` = \"A lion in the jungle is sleeping EOS\"\n",
    "\n",
    "The transformer is an auto-regressive model: it makes predictions one part at a time, and uses its output so far to decide what to do next. \n",
    "\n",
    "During training this example uses teacher-forcing (like in the [text generation tutorial](./text_generation.ipynb)). Teacher forcing is passing the true output to the next time step regardless of what the model predicts at the current time step.\n",
    "\n",
    "As the transformer predicts each word, *self-attention* allows it to look at the previous words in the input sequence to better predict the next word.\n",
    "\n",
    "To prevent the model from peeking at the expected output the model uses a look-ahead mask."
   ]
  },
  {
   "cell_type": "code",
   "execution_count": 54,
   "metadata": {
    "id": "LKpoA6q1sJFj"
   },
   "outputs": [],
   "source": [
    "EPOCHS = 100"
   ]
  },
  {
   "cell_type": "code",
   "execution_count": 55,
   "metadata": {},
   "outputs": [],
   "source": [
    "run_id = f\"{num_layers}layers_{d_model}d_{num_heads}heads_{dff}dff_{EPOCHS}EPOCHS_{YueChar}YueChar\"\n",
    "log_dir = os.path.join(os.path.join(os.getcwd(), 'log'), run_id)\n",
    "# %load_ext tensorboard\n",
    "# %tensorboard --logdir {log_dir}"
   ]
  },
  {
   "cell_type": "code",
   "execution_count": 56,
   "metadata": {
    "id": "iJwmp9OE29oj"
   },
   "outputs": [],
   "source": [
    "# The @tf.function trace-compiles train_step into a TF graph for faster\n",
    "# execution. The function specializes to the precise shape of the argument\n",
    "# tensors. To avoid re-tracing due to the variable sequence lengths or variable\n",
    "# batch sizes (the last batch is smaller), use input_signature to specify\n",
    "# more generic shapes.\n",
    "\n",
    "train_step_signature = [\n",
    "    tf.TensorSpec(shape=(None, None), dtype=tf.int64),\n",
    "    tf.TensorSpec(shape=(None, None), dtype=tf.int64),\n",
    "]\n",
    "\n",
    "@tf.function(input_signature=train_step_signature)\n",
    "def train_step(inp, tar):\n",
    "  tar_inp = tar[:, :-1]\n",
    "  tar_real = tar[:, 1:]\n",
    "  \n",
    "  enc_padding_mask, combined_mask, dec_padding_mask = create_masks(inp, tar_inp)\n",
    "  \n",
    "  with tf.GradientTape() as tape:\n",
    "    predictions, _ = transformer(inp, tar_inp, \n",
    "                                 True, \n",
    "                                 enc_padding_mask, \n",
    "                                 combined_mask, \n",
    "                                 dec_padding_mask)\n",
    "    loss = loss_function(tar_real, predictions)\n",
    "\n",
    "  gradients = tape.gradient(loss, transformer.trainable_variables)    \n",
    "  optimizer.apply_gradients(zip(gradients, transformer.trainable_variables))\n",
    "  \n",
    "  train_loss(loss)\n",
    "  train_accuracy(tar_real, predictions)"
   ]
  },
  {
   "cell_type": "code",
   "execution_count": 57,
   "metadata": {
    "colab": {
     "base_uri": "https://localhost:8080/"
    },
    "id": "bbvmaKNiznHZ",
    "outputId": "f6bc5b1f-c9b6-4cb7-839f-70abab2c8905",
    "scrolled": true
   },
   "outputs": [
    {
     "name": "stdout",
     "output_type": "stream",
     "text": [
      "Epoch 1 Batch 0 Loss 8.1309 Accuracy 0.0000\n",
      "Epoch 1 Batch 50 Loss 8.0512 Accuracy 0.0175\n",
      "Epoch 1 Batch 100 Loss 7.9284 Accuracy 0.0269\n",
      "Epoch 1 Loss 7.9143 Accuracy 0.0274\n",
      "Time taken for 1 epoch: 86.73917984962463 secs\n",
      "\n",
      "Epoch 2 Batch 0 Loss 7.6087 Accuracy 0.0435\n",
      "Epoch 2 Batch 50 Loss 7.5283 Accuracy 0.0374\n",
      "Epoch 2 Batch 100 Loss 7.3746 Accuracy 0.0370\n",
      "Epoch 2 Loss 7.3558 Accuracy 0.0368\n",
      "Time taken for 1 epoch: 72.33214902877808 secs\n",
      "\n",
      "Epoch 3 Batch 0 Loss 6.9573 Accuracy 0.0476\n",
      "Epoch 3 Batch 50 Loss 6.8113 Accuracy 0.0379\n",
      "Epoch 3 Batch 100 Loss 6.6470 Accuracy 0.0365\n",
      "Epoch 3 Loss 6.6279 Accuracy 0.0365\n",
      "Time taken for 1 epoch: 80.71447396278381 secs\n",
      "\n",
      "Epoch 4 Batch 0 Loss 6.3208 Accuracy 0.0357\n",
      "Epoch 4 Batch 50 Loss 6.1964 Accuracy 0.0387\n",
      "Epoch 4 Batch 100 Loss 6.1297 Accuracy 0.0405\n",
      "Epoch 4 Loss 6.1219 Accuracy 0.0410\n",
      "Time taken for 1 epoch: 89.35269737243652 secs\n",
      "\n",
      "Epoch 5 Batch 0 Loss 5.9798 Accuracy 0.0474\n",
      "Epoch 5 Batch 50 Loss 5.9674 Accuracy 0.0484\n",
      "Epoch 5 Batch 100 Loss 5.9422 Accuracy 0.0478\n",
      "Saving checkpoint for epoch 5 at ./checkpoints/100EPOCHS_TrueYueChar\\ckpt-1\n",
      "Epoch 5 Loss 5.9415 Accuracy 0.0479\n",
      "Time taken for 1 epoch: 84.61654353141785 secs\n",
      "\n",
      "Epoch 6 Batch 0 Loss 5.8642 Accuracy 0.0714\n",
      "Epoch 6 Batch 50 Loss 5.8296 Accuracy 0.0540\n",
      "Epoch 6 Batch 100 Loss 5.7901 Accuracy 0.0548\n",
      "Epoch 6 Loss 5.7849 Accuracy 0.0553\n",
      "Time taken for 1 epoch: 84.0953733921051 secs\n",
      "\n",
      "Epoch 7 Batch 0 Loss 5.6999 Accuracy 0.0613\n",
      "Epoch 7 Batch 50 Loss 5.6453 Accuracy 0.0631\n",
      "Epoch 7 Batch 100 Loss 5.5984 Accuracy 0.0634\n",
      "Epoch 7 Loss 5.5905 Accuracy 0.0640\n",
      "Time taken for 1 epoch: 80.80632185935974 secs\n",
      "\n",
      "Epoch 8 Batch 0 Loss 5.5899 Accuracy 0.0636\n",
      "Epoch 8 Batch 50 Loss 5.4319 Accuracy 0.0704\n",
      "Epoch 8 Batch 100 Loss 5.3953 Accuracy 0.0688\n",
      "Epoch 8 Loss 5.3862 Accuracy 0.0694\n",
      "Time taken for 1 epoch: 82.77160143852234 secs\n",
      "\n",
      "Epoch 9 Batch 0 Loss 5.3944 Accuracy 0.0722\n",
      "Epoch 9 Batch 50 Loss 5.2200 Accuracy 0.0770\n",
      "Epoch 9 Batch 100 Loss 5.1722 Accuracy 0.0772\n",
      "Epoch 9 Loss 5.1714 Accuracy 0.0773\n",
      "Time taken for 1 epoch: 76.27996063232422 secs\n",
      "\n",
      "Epoch 10 Batch 0 Loss 5.1536 Accuracy 0.1012\n",
      "Epoch 10 Batch 50 Loss 5.0053 Accuracy 0.0823\n",
      "Epoch 10 Batch 100 Loss 4.9666 Accuracy 0.0821\n",
      "Saving checkpoint for epoch 10 at ./checkpoints/100EPOCHS_TrueYueChar\\ckpt-2\n",
      "Epoch 10 Loss 4.9630 Accuracy 0.0825\n",
      "Time taken for 1 epoch: 77.41531920433044 secs\n",
      "\n",
      "Epoch 11 Batch 0 Loss 4.8149 Accuracy 0.1276\n",
      "Epoch 11 Batch 50 Loss 4.8050 Accuracy 0.0927\n",
      "Epoch 11 Batch 100 Loss 4.7696 Accuracy 0.0918\n",
      "Epoch 11 Loss 4.7688 Accuracy 0.0918\n",
      "Time taken for 1 epoch: 75.85805606842041 secs\n",
      "\n",
      "Epoch 12 Batch 0 Loss 4.7026 Accuracy 0.0826\n",
      "Epoch 12 Batch 50 Loss 4.6146 Accuracy 0.0982\n",
      "Epoch 12 Batch 100 Loss 4.5915 Accuracy 0.0970\n",
      "Epoch 12 Loss 4.5912 Accuracy 0.0972\n",
      "Time taken for 1 epoch: 80.64273738861084 secs\n",
      "\n",
      "Epoch 13 Batch 0 Loss 4.4121 Accuracy 0.1310\n",
      "Epoch 13 Batch 50 Loss 4.4495 Accuracy 0.1010\n",
      "Epoch 13 Batch 100 Loss 4.4127 Accuracy 0.1014\n",
      "Epoch 13 Loss 4.4098 Accuracy 0.1018\n",
      "Time taken for 1 epoch: 83.453946352005 secs\n",
      "\n",
      "Epoch 14 Batch 0 Loss 4.3194 Accuracy 0.1112\n",
      "Epoch 14 Batch 50 Loss 4.2771 Accuracy 0.1089\n",
      "Epoch 14 Batch 100 Loss 4.2508 Accuracy 0.1090\n",
      "Epoch 14 Loss 4.2461 Accuracy 0.1099\n",
      "Time taken for 1 epoch: 76.50481224060059 secs\n",
      "\n",
      "Epoch 15 Batch 0 Loss 4.2015 Accuracy 0.1286\n",
      "Epoch 15 Batch 50 Loss 4.1089 Accuracy 0.1178\n",
      "Epoch 15 Batch 100 Loss 4.0885 Accuracy 0.1148\n",
      "Saving checkpoint for epoch 15 at ./checkpoints/100EPOCHS_TrueYueChar\\ckpt-3\n",
      "Epoch 15 Loss 4.0855 Accuracy 0.1147\n",
      "Time taken for 1 epoch: 78.0336332321167 secs\n",
      "\n",
      "Epoch 16 Batch 0 Loss 4.0462 Accuracy 0.1061\n",
      "Epoch 16 Batch 50 Loss 3.9608 Accuracy 0.1257\n",
      "Epoch 16 Batch 100 Loss 3.9288 Accuracy 0.1224\n",
      "Epoch 16 Loss 3.9285 Accuracy 0.1233\n",
      "Time taken for 1 epoch: 84.07365036010742 secs\n",
      "\n",
      "Epoch 17 Batch 0 Loss 3.6915 Accuracy 0.1255\n",
      "Epoch 17 Batch 50 Loss 3.8069 Accuracy 0.1299\n",
      "Epoch 17 Batch 100 Loss 3.7758 Accuracy 0.1313\n",
      "Epoch 17 Loss 3.7740 Accuracy 0.1310\n",
      "Time taken for 1 epoch: 76.17689442634583 secs\n",
      "\n",
      "Epoch 18 Batch 0 Loss 3.6129 Accuracy 0.1352\n",
      "Epoch 18 Batch 50 Loss 3.6704 Accuracy 0.1330\n",
      "Epoch 18 Batch 100 Loss 3.6354 Accuracy 0.1349\n",
      "Epoch 18 Loss 3.6270 Accuracy 0.1349\n",
      "Time taken for 1 epoch: 73.93744826316833 secs\n",
      "\n",
      "Epoch 19 Batch 0 Loss 3.6165 Accuracy 0.1180\n",
      "Epoch 19 Batch 50 Loss 3.5131 Accuracy 0.1429\n",
      "Epoch 19 Batch 100 Loss 3.4818 Accuracy 0.1421\n",
      "Epoch 19 Loss 3.4737 Accuracy 0.1419\n",
      "Time taken for 1 epoch: 71.63423824310303 secs\n",
      "\n",
      "Epoch 20 Batch 0 Loss 3.3217 Accuracy 0.1935\n",
      "Epoch 20 Batch 50 Loss 3.3738 Accuracy 0.1486\n",
      "Epoch 20 Batch 100 Loss 3.3393 Accuracy 0.1457\n",
      "Saving checkpoint for epoch 20 at ./checkpoints/100EPOCHS_TrueYueChar\\ckpt-4\n",
      "Epoch 20 Loss 3.3358 Accuracy 0.1459\n",
      "Time taken for 1 epoch: 73.255539894104 secs\n",
      "\n",
      "Epoch 21 Batch 0 Loss 3.2627 Accuracy 0.1780\n",
      "Epoch 21 Batch 50 Loss 3.2375 Accuracy 0.1537\n",
      "Epoch 21 Batch 100 Loss 3.2016 Accuracy 0.1518\n",
      "Epoch 21 Loss 3.1947 Accuracy 0.1527\n",
      "Time taken for 1 epoch: 71.41346168518066 secs\n",
      "\n",
      "Epoch 22 Batch 0 Loss 3.2549 Accuracy 0.1466\n",
      "Epoch 22 Batch 50 Loss 3.0948 Accuracy 0.1586\n",
      "Epoch 22 Batch 100 Loss 3.0633 Accuracy 0.1588\n",
      "Epoch 22 Loss 3.0556 Accuracy 0.1596\n",
      "Time taken for 1 epoch: 72.88192248344421 secs\n",
      "\n",
      "Epoch 23 Batch 0 Loss 2.9443 Accuracy 0.1544\n",
      "Epoch 23 Batch 50 Loss 2.9552 Accuracy 0.1697\n",
      "Epoch 23 Batch 100 Loss 2.9143 Accuracy 0.1669\n",
      "Epoch 23 Loss 2.9101 Accuracy 0.1668\n",
      "Time taken for 1 epoch: 72.11376667022705 secs\n",
      "\n",
      "Epoch 24 Batch 0 Loss 2.8191 Accuracy 0.2143\n",
      "Epoch 24 Batch 50 Loss 2.8286 Accuracy 0.1721\n",
      "Epoch 24 Batch 100 Loss 2.7852 Accuracy 0.1709\n",
      "Epoch 24 Loss 2.7815 Accuracy 0.1707\n",
      "Time taken for 1 epoch: 63.83701181411743 secs\n",
      "\n",
      "Epoch 25 Batch 0 Loss 2.6854 Accuracy 0.1719\n",
      "Epoch 25 Batch 50 Loss 2.6992 Accuracy 0.1795\n",
      "Epoch 25 Batch 100 Loss 2.6549 Accuracy 0.1760\n",
      "Saving checkpoint for epoch 25 at ./checkpoints/100EPOCHS_TrueYueChar\\ckpt-5\n",
      "Epoch 25 Loss 2.6493 Accuracy 0.1768\n",
      "Time taken for 1 epoch: 63.930723428726196 secs\n",
      "\n",
      "Epoch 26 Batch 0 Loss 2.5514 Accuracy 0.2011\n",
      "Epoch 26 Batch 50 Loss 2.5656 Accuracy 0.1823\n",
      "Epoch 26 Batch 100 Loss 2.5355 Accuracy 0.1824\n",
      "Epoch 26 Loss 2.5257 Accuracy 0.1827\n",
      "Time taken for 1 epoch: 63.14840269088745 secs\n",
      "\n",
      "Epoch 27 Batch 0 Loss 2.3380 Accuracy 0.1827\n",
      "Epoch 27 Batch 50 Loss 2.4368 Accuracy 0.1914\n",
      "Epoch 27 Batch 100 Loss 2.3974 Accuracy 0.1877\n",
      "Epoch 27 Loss 2.3925 Accuracy 0.1879\n",
      "Time taken for 1 epoch: 64.68724226951599 secs\n",
      "\n",
      "Epoch 28 Batch 0 Loss 2.5212 Accuracy 0.2429\n",
      "Epoch 28 Batch 50 Loss 2.3247 Accuracy 0.2003\n",
      "Epoch 28 Batch 100 Loss 2.2788 Accuracy 0.1976\n",
      "Epoch 28 Loss 2.2751 Accuracy 0.1972\n",
      "Time taken for 1 epoch: 63.98401403427124 secs\n",
      "\n",
      "Epoch 29 Batch 0 Loss 2.2225 Accuracy 0.2351\n",
      "Epoch 29 Batch 50 Loss 2.2074 Accuracy 0.2023\n",
      "Epoch 29 Batch 100 Loss 2.1649 Accuracy 0.1991\n",
      "Epoch 29 Loss 2.1585 Accuracy 0.2003\n",
      "Time taken for 1 epoch: 64.26774764060974 secs\n",
      "\n",
      "Epoch 30 Batch 0 Loss 2.0501 Accuracy 0.2582\n",
      "Epoch 30 Batch 50 Loss 2.1073 Accuracy 0.2146\n",
      "Epoch 30 Batch 100 Loss 2.0652 Accuracy 0.2119\n",
      "Saving checkpoint for epoch 30 at ./checkpoints/100EPOCHS_TrueYueChar\\ckpt-6\n",
      "Epoch 30 Loss 2.0584 Accuracy 0.2127\n",
      "Time taken for 1 epoch: 62.58299994468689 secs\n",
      "\n",
      "Epoch 31 Batch 0 Loss 2.1086 Accuracy 0.2123\n",
      "Epoch 31 Batch 50 Loss 2.0045 Accuracy 0.2202\n",
      "Epoch 31 Batch 100 Loss 1.9574 Accuracy 0.2179\n",
      "Epoch 31 Loss 1.9539 Accuracy 0.2188\n",
      "Time taken for 1 epoch: 62.87854981422424 secs\n",
      "\n",
      "Epoch 32 Batch 0 Loss 1.8517 Accuracy 0.2188\n",
      "Epoch 32 Batch 50 Loss 1.9101 Accuracy 0.2226\n",
      "Epoch 32 Batch 100 Loss 1.8789 Accuracy 0.2217\n",
      "Epoch 32 Loss 1.8734 Accuracy 0.2224\n",
      "Time taken for 1 epoch: 63.37419152259827 secs\n",
      "\n",
      "Epoch 33 Batch 0 Loss 1.8797 Accuracy 0.2104\n",
      "Epoch 33 Batch 50 Loss 1.8163 Accuracy 0.2268\n",
      "Epoch 33 Batch 100 Loss 1.7872 Accuracy 0.2228\n",
      "Epoch 33 Loss 1.7819 Accuracy 0.2244\n",
      "Time taken for 1 epoch: 63.47460889816284 secs\n",
      "\n",
      "Epoch 34 Batch 0 Loss 1.5552 Accuracy 0.2134\n",
      "Epoch 34 Batch 50 Loss 1.7281 Accuracy 0.2342\n",
      "Epoch 34 Batch 100 Loss 1.6996 Accuracy 0.2318\n",
      "Epoch 34 Loss 1.6916 Accuracy 0.2327\n",
      "Time taken for 1 epoch: 63.818018674850464 secs\n",
      "\n",
      "Epoch 35 Batch 0 Loss 1.8433 Accuracy 0.2004\n",
      "Epoch 35 Batch 50 Loss 1.6611 Accuracy 0.2392\n",
      "Epoch 35 Batch 100 Loss 1.6345 Accuracy 0.2318\n",
      "Saving checkpoint for epoch 35 at ./checkpoints/100EPOCHS_TrueYueChar\\ckpt-7\n",
      "Epoch 35 Loss 1.6288 Accuracy 0.2335\n",
      "Time taken for 1 epoch: 64.28213739395142 secs\n",
      "\n"
     ]
    },
    {
     "name": "stdout",
     "output_type": "stream",
     "text": [
      "Epoch 36 Batch 0 Loss 1.7318 Accuracy 0.2704\n",
      "Epoch 36 Batch 50 Loss 1.5838 Accuracy 0.2432\n",
      "Epoch 36 Batch 100 Loss 1.5606 Accuracy 0.2384\n",
      "Epoch 36 Loss 1.5570 Accuracy 0.2398\n",
      "Time taken for 1 epoch: 63.82232403755188 secs\n",
      "\n",
      "Epoch 37 Batch 0 Loss 1.5337 Accuracy 0.3132\n",
      "Epoch 37 Batch 50 Loss 1.5252 Accuracy 0.2524\n",
      "Epoch 37 Batch 100 Loss 1.4940 Accuracy 0.2474\n",
      "Epoch 37 Loss 1.4876 Accuracy 0.2483\n",
      "Time taken for 1 epoch: 62.820218563079834 secs\n",
      "\n",
      "Epoch 38 Batch 0 Loss 1.4625 Accuracy 0.2704\n",
      "Epoch 38 Batch 50 Loss 1.4653 Accuracy 0.2592\n",
      "Epoch 38 Batch 100 Loss 1.4370 Accuracy 0.2500\n",
      "Epoch 38 Loss 1.4327 Accuracy 0.2518\n",
      "Time taken for 1 epoch: 63.247493743896484 secs\n",
      "\n",
      "Epoch 39 Batch 0 Loss 1.5001 Accuracy 0.2554\n",
      "Epoch 39 Batch 50 Loss 1.3933 Accuracy 0.2581\n",
      "Epoch 39 Batch 100 Loss 1.3633 Accuracy 0.2555\n",
      "Epoch 39 Loss 1.3577 Accuracy 0.2558\n",
      "Time taken for 1 epoch: 63.92663860321045 secs\n",
      "\n",
      "Epoch 40 Batch 0 Loss 1.3337 Accuracy 0.2640\n",
      "Epoch 40 Batch 50 Loss 1.3210 Accuracy 0.2671\n",
      "Epoch 40 Batch 100 Loss 1.2873 Accuracy 0.2608\n",
      "Saving checkpoint for epoch 40 at ./checkpoints/100EPOCHS_TrueYueChar\\ckpt-8\n",
      "Epoch 40 Loss 1.2807 Accuracy 0.2615\n",
      "Time taken for 1 epoch: 63.903642416000366 secs\n",
      "\n",
      "Epoch 41 Batch 0 Loss 1.2202 Accuracy 0.2592\n",
      "Epoch 41 Batch 50 Loss 1.2538 Accuracy 0.2812\n",
      "Epoch 41 Batch 100 Loss 1.2214 Accuracy 0.2728\n",
      "Epoch 41 Loss 1.2170 Accuracy 0.2737\n",
      "Time taken for 1 epoch: 63.279574155807495 secs\n",
      "\n",
      "Epoch 42 Batch 0 Loss 1.2182 Accuracy 0.2825\n",
      "Epoch 42 Batch 50 Loss 1.1803 Accuracy 0.2841\n",
      "Epoch 42 Batch 100 Loss 1.1483 Accuracy 0.2748\n",
      "Epoch 42 Loss 1.1441 Accuracy 0.2744\n",
      "Time taken for 1 epoch: 63.09885048866272 secs\n",
      "\n",
      "Epoch 43 Batch 0 Loss 1.1940 Accuracy 0.2608\n",
      "Epoch 43 Batch 50 Loss 1.1304 Accuracy 0.2789\n",
      "Epoch 43 Batch 100 Loss 1.1001 Accuracy 0.2742\n",
      "Epoch 43 Loss 1.0950 Accuracy 0.2752\n",
      "Time taken for 1 epoch: 64.30551433563232 secs\n",
      "\n",
      "Epoch 44 Batch 0 Loss 0.9607 Accuracy 0.3240\n",
      "Epoch 44 Batch 50 Loss 1.0712 Accuracy 0.2874\n",
      "Epoch 44 Batch 100 Loss 1.0343 Accuracy 0.2845\n",
      "Epoch 44 Loss 1.0299 Accuracy 0.2841\n",
      "Time taken for 1 epoch: 63.55263662338257 secs\n",
      "\n",
      "Epoch 45 Batch 0 Loss 1.0141 Accuracy 0.3025\n",
      "Epoch 45 Batch 50 Loss 1.0049 Accuracy 0.2947\n",
      "Epoch 45 Batch 100 Loss 0.9818 Accuracy 0.2888\n",
      "Saving checkpoint for epoch 45 at ./checkpoints/100EPOCHS_TrueYueChar\\ckpt-9\n",
      "Epoch 45 Loss 0.9771 Accuracy 0.2891\n",
      "Time taken for 1 epoch: 63.99469590187073 secs\n",
      "\n",
      "Epoch 46 Batch 0 Loss 0.9113 Accuracy 0.2981\n",
      "Epoch 46 Batch 50 Loss 0.9619 Accuracy 0.2963\n",
      "Epoch 46 Batch 100 Loss 0.9352 Accuracy 0.2894\n",
      "Epoch 46 Loss 0.9322 Accuracy 0.2921\n",
      "Time taken for 1 epoch: 63.71785259246826 secs\n",
      "\n",
      "Epoch 47 Batch 0 Loss 0.8930 Accuracy 0.3345\n",
      "Epoch 47 Batch 50 Loss 0.9067 Accuracy 0.3004\n",
      "Epoch 47 Batch 100 Loss 0.8791 Accuracy 0.2960\n",
      "Epoch 47 Loss 0.8772 Accuracy 0.2974\n",
      "Time taken for 1 epoch: 63.388901472091675 secs\n",
      "\n",
      "Epoch 48 Batch 0 Loss 0.7487 Accuracy 0.3573\n",
      "Epoch 48 Batch 50 Loss 0.8628 Accuracy 0.3115\n",
      "Epoch 48 Batch 100 Loss 0.8409 Accuracy 0.3058\n",
      "Epoch 48 Loss 0.8379 Accuracy 0.3062\n",
      "Time taken for 1 epoch: 62.44737648963928 secs\n",
      "\n",
      "Epoch 49 Batch 0 Loss 0.8356 Accuracy 0.3683\n",
      "Epoch 49 Batch 50 Loss 0.8335 Accuracy 0.3024\n",
      "Epoch 49 Batch 100 Loss 0.8082 Accuracy 0.3062\n",
      "Epoch 49 Loss 0.8040 Accuracy 0.3081\n",
      "Time taken for 1 epoch: 62.616913080215454 secs\n",
      "\n",
      "Epoch 50 Batch 0 Loss 0.8028 Accuracy 0.2839\n",
      "Epoch 50 Batch 50 Loss 0.8104 Accuracy 0.3067\n",
      "Epoch 50 Batch 100 Loss 0.7755 Accuracy 0.3066\n",
      "Saving checkpoint for epoch 50 at ./checkpoints/100EPOCHS_TrueYueChar\\ckpt-10\n",
      "Epoch 50 Loss 0.7745 Accuracy 0.3080\n",
      "Time taken for 1 epoch: 64.23650622367859 secs\n",
      "\n",
      "Epoch 51 Batch 0 Loss 0.7163 Accuracy 0.3943\n",
      "Epoch 51 Batch 50 Loss 0.7600 Accuracy 0.3147\n",
      "Epoch 51 Batch 100 Loss 0.7391 Accuracy 0.3102\n",
      "Epoch 51 Loss 0.7339 Accuracy 0.3104\n",
      "Time taken for 1 epoch: 64.2238028049469 secs\n",
      "\n",
      "Epoch 52 Batch 0 Loss 0.7526 Accuracy 0.3784\n",
      "Epoch 52 Batch 50 Loss 0.7250 Accuracy 0.3156\n",
      "Epoch 52 Batch 100 Loss 0.7038 Accuracy 0.3092\n",
      "Epoch 52 Loss 0.7013 Accuracy 0.3109\n",
      "Time taken for 1 epoch: 64.2575752735138 secs\n",
      "\n",
      "Epoch 53 Batch 0 Loss 0.6692 Accuracy 0.3564\n",
      "Epoch 53 Batch 50 Loss 0.6965 Accuracy 0.3239\n",
      "Epoch 53 Batch 100 Loss 0.6768 Accuracy 0.3207\n",
      "Epoch 53 Loss 0.6755 Accuracy 0.3214\n",
      "Time taken for 1 epoch: 62.70580458641052 secs\n",
      "\n",
      "Epoch 54 Batch 0 Loss 0.6644 Accuracy 0.3522\n",
      "Epoch 54 Batch 50 Loss 0.6666 Accuracy 0.3230\n",
      "Epoch 54 Batch 100 Loss 0.6503 Accuracy 0.3198\n",
      "Epoch 54 Loss 0.6461 Accuracy 0.3203\n",
      "Time taken for 1 epoch: 63.755810260772705 secs\n",
      "\n",
      "Epoch 55 Batch 0 Loss 0.5398 Accuracy 0.4575\n",
      "Epoch 55 Batch 50 Loss 0.6398 Accuracy 0.3363\n",
      "Epoch 55 Batch 100 Loss 0.6289 Accuracy 0.3281\n",
      "Saving checkpoint for epoch 55 at ./checkpoints/100EPOCHS_TrueYueChar\\ckpt-11\n",
      "Epoch 55 Loss 0.6230 Accuracy 0.3266\n",
      "Time taken for 1 epoch: 63.66525602340698 secs\n",
      "\n",
      "Epoch 56 Batch 0 Loss 0.6576 Accuracy 0.3668\n",
      "Epoch 56 Batch 50 Loss 0.6200 Accuracy 0.3289\n",
      "Epoch 56 Batch 100 Loss 0.6097 Accuracy 0.3285\n",
      "Epoch 56 Loss 0.6085 Accuracy 0.3288\n",
      "Time taken for 1 epoch: 62.238016843795776 secs\n",
      "\n",
      "Epoch 57 Batch 0 Loss 0.6781 Accuracy 0.3185\n",
      "Epoch 57 Batch 50 Loss 0.5970 Accuracy 0.3303\n",
      "Epoch 57 Batch 100 Loss 0.5802 Accuracy 0.3248\n",
      "Epoch 57 Loss 0.5783 Accuracy 0.3260\n",
      "Time taken for 1 epoch: 63.84183216094971 secs\n",
      "\n",
      "Epoch 58 Batch 0 Loss 0.5653 Accuracy 0.4234\n",
      "Epoch 58 Batch 50 Loss 0.5807 Accuracy 0.3345\n",
      "Epoch 58 Batch 100 Loss 0.5691 Accuracy 0.3343\n",
      "Epoch 58 Loss 0.5650 Accuracy 0.3351\n",
      "Time taken for 1 epoch: 61.95532488822937 secs\n",
      "\n",
      "Epoch 59 Batch 0 Loss 0.4980 Accuracy 0.3254\n",
      "Epoch 59 Batch 50 Loss 0.5544 Accuracy 0.3365\n",
      "Epoch 59 Batch 100 Loss 0.5440 Accuracy 0.3337\n",
      "Epoch 59 Loss 0.5438 Accuracy 0.3359\n",
      "Time taken for 1 epoch: 60.755642890930176 secs\n",
      "\n",
      "Epoch 60 Batch 0 Loss 0.4545 Accuracy 0.4148\n",
      "Epoch 60 Batch 50 Loss 0.5422 Accuracy 0.3297\n",
      "Epoch 60 Batch 100 Loss 0.5336 Accuracy 0.3303\n",
      "Saving checkpoint for epoch 60 at ./checkpoints/100EPOCHS_TrueYueChar\\ckpt-12\n",
      "Epoch 60 Loss 0.5319 Accuracy 0.3321\n",
      "Time taken for 1 epoch: 62.3302960395813 secs\n",
      "\n",
      "Epoch 61 Batch 0 Loss 0.5542 Accuracy 0.2850\n",
      "Epoch 61 Batch 50 Loss 0.5231 Accuracy 0.3395\n",
      "Epoch 61 Batch 100 Loss 0.5116 Accuracy 0.3300\n",
      "Epoch 61 Loss 0.5091 Accuracy 0.3302\n",
      "Time taken for 1 epoch: 62.91184735298157 secs\n",
      "\n",
      "Epoch 62 Batch 0 Loss 0.4979 Accuracy 0.4959\n",
      "Epoch 62 Batch 50 Loss 0.4979 Accuracy 0.3399\n",
      "Epoch 62 Batch 100 Loss 0.4923 Accuracy 0.3362\n",
      "Epoch 62 Loss 0.4883 Accuracy 0.3371\n",
      "Time taken for 1 epoch: 61.44784092903137 secs\n",
      "\n",
      "Epoch 63 Batch 0 Loss 0.4354 Accuracy 0.3244\n",
      "Epoch 63 Batch 50 Loss 0.4971 Accuracy 0.3430\n",
      "Epoch 63 Batch 100 Loss 0.4845 Accuracy 0.3334\n",
      "Epoch 63 Loss 0.4818 Accuracy 0.3349\n",
      "Time taken for 1 epoch: 62.48512554168701 secs\n",
      "\n",
      "Epoch 64 Batch 0 Loss 0.4880 Accuracy 0.4406\n",
      "Epoch 64 Batch 50 Loss 0.4733 Accuracy 0.3443\n",
      "Epoch 64 Batch 100 Loss 0.4628 Accuracy 0.3394\n",
      "Epoch 64 Loss 0.4600 Accuracy 0.3395\n",
      "Time taken for 1 epoch: 62.11503267288208 secs\n",
      "\n",
      "Epoch 65 Batch 0 Loss 0.4300 Accuracy 0.3343\n",
      "Epoch 65 Batch 50 Loss 0.4577 Accuracy 0.3465\n",
      "Epoch 65 Batch 100 Loss 0.4512 Accuracy 0.3429\n",
      "Saving checkpoint for epoch 65 at ./checkpoints/100EPOCHS_TrueYueChar\\ckpt-13\n",
      "Epoch 65 Loss 0.4500 Accuracy 0.3443\n",
      "Time taken for 1 epoch: 61.67671465873718 secs\n",
      "\n",
      "Epoch 66 Batch 0 Loss 0.4242 Accuracy 0.3249\n",
      "Epoch 66 Batch 50 Loss 0.4515 Accuracy 0.3451\n",
      "Epoch 66 Batch 100 Loss 0.4433 Accuracy 0.3336\n",
      "Epoch 66 Loss 0.4418 Accuracy 0.3373\n",
      "Time taken for 1 epoch: 62.6556670665741 secs\n",
      "\n",
      "Epoch 67 Batch 0 Loss 0.4595 Accuracy 0.4137\n",
      "Epoch 67 Batch 50 Loss 0.4370 Accuracy 0.3527\n",
      "Epoch 67 Batch 100 Loss 0.4321 Accuracy 0.3429\n",
      "Epoch 67 Loss 0.4298 Accuracy 0.3432\n",
      "Time taken for 1 epoch: 61.941556215286255 secs\n",
      "\n",
      "Epoch 68 Batch 0 Loss 0.3651 Accuracy 0.3576\n",
      "Epoch 68 Batch 50 Loss 0.4217 Accuracy 0.3533\n",
      "Epoch 68 Batch 100 Loss 0.4163 Accuracy 0.3439\n",
      "Epoch 68 Loss 0.4155 Accuracy 0.3438\n",
      "Time taken for 1 epoch: 61.78314018249512 secs\n",
      "\n",
      "Epoch 69 Batch 0 Loss 0.3612 Accuracy 0.4197\n",
      "Epoch 69 Batch 50 Loss 0.4211 Accuracy 0.3474\n",
      "Epoch 69 Batch 100 Loss 0.4128 Accuracy 0.3446\n",
      "Epoch 69 Loss 0.4114 Accuracy 0.3442\n",
      "Time taken for 1 epoch: 62.39377021789551 secs\n",
      "\n",
      "Epoch 70 Batch 0 Loss 0.3857 Accuracy 0.4890\n",
      "Epoch 70 Batch 50 Loss 0.4134 Accuracy 0.3571\n",
      "Epoch 70 Batch 100 Loss 0.4004 Accuracy 0.3520\n",
      "Saving checkpoint for epoch 70 at ./checkpoints/100EPOCHS_TrueYueChar\\ckpt-14\n",
      "Epoch 70 Loss 0.3969 Accuracy 0.3525\n",
      "Time taken for 1 epoch: 61.78477478027344 secs\n",
      "\n"
     ]
    },
    {
     "name": "stdout",
     "output_type": "stream",
     "text": [
      "Epoch 71 Batch 0 Loss 0.3720 Accuracy 0.3464\n",
      "Epoch 71 Batch 50 Loss 0.3908 Accuracy 0.3565\n",
      "Epoch 71 Batch 100 Loss 0.3908 Accuracy 0.3444\n",
      "Epoch 71 Loss 0.3909 Accuracy 0.3472\n",
      "Time taken for 1 epoch: 61.61254405975342 secs\n",
      "\n",
      "Epoch 72 Batch 0 Loss 0.4401 Accuracy 0.3432\n",
      "Epoch 72 Batch 50 Loss 0.3768 Accuracy 0.3601\n",
      "Epoch 72 Batch 100 Loss 0.3742 Accuracy 0.3532\n",
      "Epoch 72 Loss 0.3725 Accuracy 0.3542\n",
      "Time taken for 1 epoch: 60.886255741119385 secs\n",
      "\n",
      "Epoch 73 Batch 0 Loss 0.4233 Accuracy 0.4158\n",
      "Epoch 73 Batch 50 Loss 0.3831 Accuracy 0.3607\n",
      "Epoch 73 Batch 100 Loss 0.3743 Accuracy 0.3542\n",
      "Epoch 73 Loss 0.3735 Accuracy 0.3530\n",
      "Time taken for 1 epoch: 60.81855773925781 secs\n",
      "\n",
      "Epoch 74 Batch 0 Loss 0.3409 Accuracy 0.3488\n",
      "Epoch 74 Batch 50 Loss 0.3583 Accuracy 0.3558\n",
      "Epoch 74 Batch 100 Loss 0.3581 Accuracy 0.3516\n",
      "Epoch 74 Loss 0.3571 Accuracy 0.3525\n",
      "Time taken for 1 epoch: 61.35580348968506 secs\n",
      "\n",
      "Epoch 75 Batch 0 Loss 0.3698 Accuracy 0.3357\n",
      "Epoch 75 Batch 50 Loss 0.3654 Accuracy 0.3624\n",
      "Epoch 75 Batch 100 Loss 0.3570 Accuracy 0.3488\n",
      "Saving checkpoint for epoch 75 at ./checkpoints/100EPOCHS_TrueYueChar\\ckpt-15\n",
      "Epoch 75 Loss 0.3565 Accuracy 0.3490\n",
      "Time taken for 1 epoch: 62.546717405319214 secs\n",
      "\n",
      "Epoch 76 Batch 0 Loss 0.4268 Accuracy 0.4375\n",
      "Epoch 76 Batch 50 Loss 0.3646 Accuracy 0.3622\n",
      "Epoch 76 Batch 100 Loss 0.3507 Accuracy 0.3492\n",
      "Epoch 76 Loss 0.3487 Accuracy 0.3509\n",
      "Time taken for 1 epoch: 62.08335018157959 secs\n",
      "\n",
      "Epoch 77 Batch 0 Loss 0.3493 Accuracy 0.4285\n",
      "Epoch 77 Batch 50 Loss 0.3419 Accuracy 0.3628\n",
      "Epoch 77 Batch 100 Loss 0.3359 Accuracy 0.3579\n",
      "Epoch 77 Loss 0.3342 Accuracy 0.3596\n",
      "Time taken for 1 epoch: 61.0665237903595 secs\n",
      "\n",
      "Epoch 78 Batch 0 Loss 0.2971 Accuracy 0.4042\n",
      "Epoch 78 Batch 50 Loss 0.3346 Accuracy 0.3638\n",
      "Epoch 78 Batch 100 Loss 0.3315 Accuracy 0.3591\n",
      "Epoch 78 Loss 0.3309 Accuracy 0.3594\n",
      "Time taken for 1 epoch: 60.79341530799866 secs\n",
      "\n",
      "Epoch 79 Batch 0 Loss 0.3266 Accuracy 0.3378\n",
      "Epoch 79 Batch 50 Loss 0.3358 Accuracy 0.3651\n",
      "Epoch 79 Batch 100 Loss 0.3297 Accuracy 0.3556\n",
      "Epoch 79 Loss 0.3303 Accuracy 0.3562\n",
      "Time taken for 1 epoch: 61.37648034095764 secs\n",
      "\n",
      "Epoch 80 Batch 0 Loss 0.3237 Accuracy 0.4375\n",
      "Epoch 80 Batch 50 Loss 0.3253 Accuracy 0.3741\n",
      "Epoch 80 Batch 100 Loss 0.3179 Accuracy 0.3588\n",
      "Saving checkpoint for epoch 80 at ./checkpoints/100EPOCHS_TrueYueChar\\ckpt-16\n",
      "Epoch 80 Loss 0.3164 Accuracy 0.3594\n",
      "Time taken for 1 epoch: 62.287516355514526 secs\n",
      "\n",
      "Epoch 81 Batch 0 Loss 0.3156 Accuracy 0.4338\n",
      "Epoch 81 Batch 50 Loss 0.3136 Accuracy 0.3687\n",
      "Epoch 81 Batch 100 Loss 0.3148 Accuracy 0.3595\n",
      "Epoch 81 Loss 0.3141 Accuracy 0.3617\n",
      "Time taken for 1 epoch: 62.94148278236389 secs\n",
      "\n",
      "Epoch 82 Batch 0 Loss 0.2896 Accuracy 0.4484\n",
      "Epoch 82 Batch 50 Loss 0.3095 Accuracy 0.3661\n",
      "Epoch 82 Batch 100 Loss 0.3090 Accuracy 0.3605\n",
      "Epoch 82 Loss 0.3080 Accuracy 0.3616\n",
      "Time taken for 1 epoch: 61.19933724403381 secs\n",
      "\n",
      "Epoch 83 Batch 0 Loss 0.2648 Accuracy 0.4375\n",
      "Epoch 83 Batch 50 Loss 0.3179 Accuracy 0.3589\n",
      "Epoch 83 Batch 100 Loss 0.3063 Accuracy 0.3569\n",
      "Epoch 83 Loss 0.3043 Accuracy 0.3573\n",
      "Time taken for 1 epoch: 61.55243921279907 secs\n",
      "\n",
      "Epoch 84 Batch 0 Loss 0.3050 Accuracy 0.3544\n",
      "Epoch 84 Batch 50 Loss 0.3114 Accuracy 0.3677\n",
      "Epoch 84 Batch 100 Loss 0.3050 Accuracy 0.3594\n",
      "Epoch 84 Loss 0.3038 Accuracy 0.3601\n",
      "Time taken for 1 epoch: 61.39129018783569 secs\n",
      "\n",
      "Epoch 85 Batch 0 Loss 0.3549 Accuracy 0.4287\n",
      "Epoch 85 Batch 50 Loss 0.2994 Accuracy 0.3749\n",
      "Epoch 85 Batch 100 Loss 0.2899 Accuracy 0.3670\n",
      "Saving checkpoint for epoch 85 at ./checkpoints/100EPOCHS_TrueYueChar\\ckpt-17\n",
      "Epoch 85 Loss 0.2886 Accuracy 0.3683\n",
      "Time taken for 1 epoch: 60.07736253738403 secs\n",
      "\n",
      "Epoch 86 Batch 0 Loss 0.2817 Accuracy 0.4283\n",
      "Epoch 86 Batch 50 Loss 0.2818 Accuracy 0.3743\n",
      "Epoch 86 Batch 100 Loss 0.2854 Accuracy 0.3594\n",
      "Epoch 86 Loss 0.2836 Accuracy 0.3588\n",
      "Time taken for 1 epoch: 62.0688579082489 secs\n",
      "\n",
      "Epoch 87 Batch 0 Loss 0.2792 Accuracy 0.3538\n",
      "Epoch 87 Batch 50 Loss 0.2819 Accuracy 0.3730\n",
      "Epoch 87 Batch 100 Loss 0.2790 Accuracy 0.3589\n",
      "Epoch 87 Loss 0.2786 Accuracy 0.3594\n",
      "Time taken for 1 epoch: 61.409969329833984 secs\n",
      "\n",
      "Epoch 88 Batch 0 Loss 0.2757 Accuracy 0.4965\n",
      "Epoch 88 Batch 50 Loss 0.2869 Accuracy 0.3669\n",
      "Epoch 88 Batch 100 Loss 0.2820 Accuracy 0.3625\n",
      "Epoch 88 Loss 0.2799 Accuracy 0.3636\n",
      "Time taken for 1 epoch: 60.92446732521057 secs\n",
      "\n",
      "Epoch 89 Batch 0 Loss 0.3089 Accuracy 0.3308\n",
      "Epoch 89 Batch 50 Loss 0.2681 Accuracy 0.3741\n",
      "Epoch 89 Batch 100 Loss 0.2694 Accuracy 0.3602\n",
      "Epoch 89 Loss 0.2684 Accuracy 0.3606\n",
      "Time taken for 1 epoch: 61.78324365615845 secs\n",
      "\n",
      "Epoch 90 Batch 0 Loss 0.2638 Accuracy 0.4984\n",
      "Epoch 90 Batch 50 Loss 0.2767 Accuracy 0.3781\n",
      "Epoch 90 Batch 100 Loss 0.2697 Accuracy 0.3643\n",
      "Saving checkpoint for epoch 90 at ./checkpoints/100EPOCHS_TrueYueChar\\ckpt-18\n",
      "Epoch 90 Loss 0.2682 Accuracy 0.3673\n",
      "Time taken for 1 epoch: 61.58195996284485 secs\n",
      "\n",
      "Epoch 91 Batch 0 Loss 0.2654 Accuracy 0.3431\n",
      "Epoch 91 Batch 50 Loss 0.2794 Accuracy 0.3730\n",
      "Epoch 91 Batch 100 Loss 0.2746 Accuracy 0.3645\n",
      "Epoch 91 Loss 0.2726 Accuracy 0.3632\n",
      "Time taken for 1 epoch: 61.63672590255737 secs\n",
      "\n",
      "Epoch 92 Batch 0 Loss 0.2323 Accuracy 0.3572\n",
      "Epoch 92 Batch 50 Loss 0.2647 Accuracy 0.3700\n",
      "Epoch 92 Batch 100 Loss 0.2588 Accuracy 0.3621\n",
      "Epoch 92 Loss 0.2575 Accuracy 0.3617\n",
      "Time taken for 1 epoch: 62.034342765808105 secs\n",
      "\n",
      "Epoch 93 Batch 0 Loss 0.2298 Accuracy 0.4609\n",
      "Epoch 93 Batch 50 Loss 0.2562 Accuracy 0.3813\n",
      "Epoch 93 Batch 100 Loss 0.2494 Accuracy 0.3667\n",
      "Epoch 93 Loss 0.2499 Accuracy 0.3672\n",
      "Time taken for 1 epoch: 61.75656723976135 secs\n",
      "\n",
      "Epoch 94 Batch 0 Loss 0.2495 Accuracy 0.4487\n",
      "Epoch 94 Batch 50 Loss 0.2610 Accuracy 0.3702\n",
      "Epoch 94 Batch 100 Loss 0.2554 Accuracy 0.3656\n",
      "Epoch 94 Loss 0.2560 Accuracy 0.3670\n",
      "Time taken for 1 epoch: 61.1732280254364 secs\n",
      "\n",
      "Epoch 95 Batch 0 Loss 0.2304 Accuracy 0.3410\n",
      "Epoch 95 Batch 50 Loss 0.2559 Accuracy 0.3805\n",
      "Epoch 95 Batch 100 Loss 0.2517 Accuracy 0.3677\n",
      "Saving checkpoint for epoch 95 at ./checkpoints/100EPOCHS_TrueYueChar\\ckpt-19\n",
      "Epoch 95 Loss 0.2495 Accuracy 0.3683\n",
      "Time taken for 1 epoch: 61.206668853759766 secs\n",
      "\n",
      "Epoch 96 Batch 0 Loss 0.2209 Accuracy 0.4151\n",
      "Epoch 96 Batch 50 Loss 0.2439 Accuracy 0.3804\n",
      "Epoch 96 Batch 100 Loss 0.2398 Accuracy 0.3636\n",
      "Epoch 96 Loss 0.2380 Accuracy 0.3666\n",
      "Time taken for 1 epoch: 61.51795172691345 secs\n",
      "\n",
      "Epoch 97 Batch 0 Loss 0.2341 Accuracy 0.3966\n",
      "Epoch 97 Batch 50 Loss 0.2391 Accuracy 0.3772\n",
      "Epoch 97 Batch 100 Loss 0.2344 Accuracy 0.3633\n",
      "Epoch 97 Loss 0.2342 Accuracy 0.3630\n",
      "Time taken for 1 epoch: 62.33576583862305 secs\n",
      "\n",
      "Epoch 98 Batch 0 Loss 0.2872 Accuracy 0.4151\n",
      "Epoch 98 Batch 50 Loss 0.2418 Accuracy 0.3792\n",
      "Epoch 98 Batch 100 Loss 0.2374 Accuracy 0.3700\n",
      "Epoch 98 Loss 0.2375 Accuracy 0.3692\n",
      "Time taken for 1 epoch: 61.531485080718994 secs\n",
      "\n",
      "Epoch 99 Batch 0 Loss 0.1744 Accuracy 0.4538\n",
      "Epoch 99 Batch 50 Loss 0.2295 Accuracy 0.3812\n",
      "Epoch 99 Batch 100 Loss 0.2274 Accuracy 0.3713\n",
      "Epoch 99 Loss 0.2253 Accuracy 0.3729\n",
      "Time taken for 1 epoch: 60.90234398841858 secs\n",
      "\n",
      "Epoch 100 Batch 0 Loss 0.2468 Accuracy 0.5356\n",
      "Epoch 100 Batch 50 Loss 0.2311 Accuracy 0.3764\n",
      "Epoch 100 Batch 100 Loss 0.2277 Accuracy 0.3687\n",
      "Saving checkpoint for epoch 100 at ./checkpoints/100EPOCHS_TrueYueChar\\ckpt-20\n",
      "Epoch 100 Loss 0.2279 Accuracy 0.3678\n",
      "Time taken for 1 epoch: 61.886367321014404 secs\n",
      "\n"
     ]
    }
   ],
   "source": [
    "summary_writer = tf.summary.create_file_writer(log_dir)\n",
    "for epoch in range(EPOCHS):\n",
    "  start = time.time()\n",
    "  \n",
    "  train_loss.reset_states()\n",
    "  train_accuracy.reset_states()\n",
    "  \n",
    "  for (batch, (inp, tar)) in enumerate(train_dataset):\n",
    "    train_step(inp, tar)\n",
    "    \n",
    "    if batch % 50 == 0:\n",
    "      print ('Epoch {} Batch {} Loss {:.4f} Accuracy {:.4f}'.format(\n",
    "          epoch + 1, batch, train_loss.result(), train_accuracy.result()))\n",
    "      \n",
    "  if (epoch + 1) % 5 == 0:\n",
    "    ckpt_save_path = ckpt_manager.save()\n",
    "    print ('Saving checkpoint for epoch {} at {}'.format(epoch+1,\n",
    "                                                         ckpt_save_path))\n",
    "    \n",
    "  # Save output to TensorBoard\n",
    "  with summary_writer.as_default():\n",
    "    tf.summary.scalar(\"train_loss\", train_loss.result(), step=epoch + 1)\n",
    "    tf.summary.scalar(\"train_acc\", train_accuracy.result(), step=epoch + 1)\n",
    "    \n",
    "  print ('Epoch {} Loss {:.4f} Accuracy {:.4f}'.format(epoch + 1, \n",
    "                                                train_loss.result(), \n",
    "                                                train_accuracy.result()))\n",
    "\n",
    "  print ('Time taken for 1 epoch: {} secs\\n'.format(time.time() - start))"
   ]
  },
  {
   "cell_type": "markdown",
   "metadata": {
    "id": "QfcsSWswSdGV"
   },
   "source": [
    "## Evaluate"
   ]
  },
  {
   "cell_type": "markdown",
   "metadata": {
    "id": "y6APsFrgImLW"
   },
   "source": [
    "The following steps are used for evaluation:\n",
    "\n",
    "* Encode the input sentence using the Portuguese tokenizer (`input_tokenizer`). Moreover, add the start and end token so the input is equivalent to what the model is trained with. This is the encoder input.\n",
    "* The decoder input is the `start token == target_tokenizer.vocab_size`.\n",
    "* Calculate the padding masks and the look ahead masks.\n",
    "* The `decoder` then outputs the predictions by looking at the `encoder output` and its own output (self-attention).\n",
    "* Select the last word and calculate the argmax of that.\n",
    "* Concatentate the predicted word to the decoder input as pass it to the decoder.\n",
    "* In this approach, the decoder predicts the next word based on the previous words it predicted.\n",
    "\n",
    "Note: The model used here has less capacity to keep the example relatively faster so the predictions maybe less right. To reproduce the results in the paper, use the entire dataset and base transformer model or transformer XL, by changing the hyperparameters above."
   ]
  },
  {
   "cell_type": "code",
   "execution_count": 58,
   "metadata": {
    "id": "5buvMlnvyrFm"
   },
   "outputs": [],
   "source": [
    "def evaluate(inp_sentence):\n",
    "  start_token = [input_tokenizer.vocab_size]\n",
    "  end_token = [input_tokenizer.vocab_size + 1]\n",
    "  \n",
    "  # inp sentence is portuguese, hence adding the start and end token\n",
    "  inp_sentence = start_token + input_tokenizer.encode(inp_sentence) + end_token\n",
    "  encoder_input = tf.expand_dims(inp_sentence, 0)\n",
    "  \n",
    "  # as the target is english, the first word to the transformer should be the\n",
    "  # english start token.\n",
    "  decoder_input = [target_tokenizer.vocab_size]\n",
    "  output = tf.expand_dims(decoder_input, 0)\n",
    "    \n",
    "  for i in range(MAX_LENGTH):\n",
    "    enc_padding_mask, combined_mask, dec_padding_mask = create_masks(\n",
    "        encoder_input, output)\n",
    "  \n",
    "    # predictions.shape == (batch_size, seq_len, vocab_size)\n",
    "    predictions, attention_weights = transformer(encoder_input, \n",
    "                                                 output,\n",
    "                                                 False,\n",
    "                                                 enc_padding_mask,\n",
    "                                                 combined_mask,\n",
    "                                                 dec_padding_mask)\n",
    "    \n",
    "    # select the last word from the seq_len dimension\n",
    "    predictions = predictions[: ,-1:, :]  # (batch_size, 1, vocab_size)\n",
    "\n",
    "    predicted_id = tf.cast(tf.argmax(predictions, axis=-1), tf.int32)\n",
    "    \n",
    "    # return the result if the predicted_id is equal to the end token\n",
    "    if predicted_id == target_tokenizer.vocab_size+1:\n",
    "      return tf.squeeze(output, axis=0), attention_weights\n",
    "    \n",
    "    # concatentate the predicted_id to the output which is given to the decoder\n",
    "    # as its input.\n",
    "    output = tf.concat([output, predicted_id], axis=-1)\n",
    "\n",
    "  return tf.squeeze(output, axis=0), attention_weights"
   ]
  },
  {
   "cell_type": "code",
   "execution_count": 59,
   "metadata": {
    "id": "CN-BV43FMBej"
   },
   "outputs": [],
   "source": [
    "def plot_attention_weights(attention, sentence, result, layer):\n",
    "  fig = plt.figure(figsize=(16, 8))\n",
    "  \n",
    "  sentence = input_tokenizer.encode(sentence)\n",
    "  \n",
    "  attention = tf.squeeze(attention[layer], axis=0)\n",
    "  \n",
    "  for head in range(attention.shape[0]):\n",
    "    ax = fig.add_subplot(2, 4, head+1)\n",
    "    \n",
    "    # plot the attention weights\n",
    "    ax.matshow(attention[head][:-1, :], cmap='viridis')\n",
    "\n",
    "    # show Chinese character\n",
    "    fontdict = {\"fontproperties\": chinese}\n",
    "    \n",
    "    ax.set_xticks(range(len(sentence)+2))\n",
    "    ax.set_yticks(range(len(result)))\n",
    "    \n",
    "    ax.set_ylim(len(result)-1.5, -0.5)\n",
    "        \n",
    "    ax.set_xticklabels(\n",
    "        ['<start>']+[input_tokenizer.decode([i]) for i in sentence]+['<end>'], \n",
    "        fontdict=fontdict, rotation=90)\n",
    "    \n",
    "    ax.set_yticklabels([target_tokenizer.decode([i]) for i in result \n",
    "                        if i < target_tokenizer.vocab_size], \n",
    "                       fontdict=fontdict)\n",
    "    \n",
    "    ax.set_xlabel('Head {}'.format(head+1))\n",
    "  \n",
    "  plt.tight_layout()\n",
    "  plt.show()"
   ]
  },
  {
   "cell_type": "code",
   "execution_count": 60,
   "metadata": {
    "id": "lU2_yG_vBGza"
   },
   "outputs": [],
   "source": [
    "def translate(sentence, plot=''):\n",
    "  result, attention_weights = evaluate(sentence)\n",
    "  \n",
    "  predicted_sentence = target_tokenizer.decode([i for i in result \n",
    "                                            if i < target_tokenizer.vocab_size])  \n",
    "\n",
    "  print('Input: {}'.format(sentence))\n",
    "  print('Predicted translation: {}'.format(predicted_sentence))\n",
    "  \n",
    "  if plot:\n",
    "    plot_attention_weights(attention_weights, sentence, result, plot)"
   ]
  },
  {
   "cell_type": "code",
   "execution_count": 61,
   "metadata": {
    "id": "gZwVWTohOv4_",
    "scrolled": false
   },
   "outputs": [
    {
     "name": "stdout",
     "output_type": "stream",
     "text": [
      "So for the last five years as a professor of business and psychology I ve been studying the effect of screens on our lives And I want to start by just focusing on how much time they take from us and then we can talk about what that time looks like What I m showing you here is the average 24 hour workday at three different points in history 2007 10 years ago 2015 and then data that I collected actually only last week And a lot of things haven t changed all that much We sleep roughly seven and a half to eight hours a day some people say that s declined slightly but it hasn t changed much We work eight and a half to nine hours a day We engage in survival activities these are things like eating and bathing and looking after kids about three hours a day\n",
      "所以喺過去五年間作為一名商業同心理學教授我一直喺度研究觸屏產品對我哋生活嘅影響我先計下佢哋消耗咗我哋幾多時間然後再討論我哋用呢段時間做咗咩我哋就揀一個平常嘅工作日按佢有24小時噉計我哋搵咗三個嘅時間點2007年即係10年前2015年同我上個星期啱收集咗數據嘅2017年好多嘢都冇點變我哋仲係每日瞓大概7個半到8個鐘有人話睡眠時間輕微減少咗但實際冇好大變化我哋每日做8個半到9個鐘嘅工仲有啲日常活動譬如食飯沖涼湊細路仔每日要花費三個鐘 \n",
      "\n",
      "Input: So for the last five years as a professor of business and psychology I ve been studying the effect of screens on our lives And I want to start by just focusing on how much time they take from us and then we can talk about what that time looks like What I m showing you here is the average 24 hour workday at three different points in history 2007 10 years ago 2015 and then data that I collected actually only last week And a lot of things haven t changed all that much We sleep roughly seven and a half to eight hours a day some people say that s declined slightly but it hasn t changed much We work eight and a half to nine hours a day We engage in survival activities these are things like eating and bathing and looking after kids about three hours a day\n",
      "Predicted translation: 其實我哋好似乎係一齊套水源點樣好多元\n"
     ]
    },
    {
     "data": {
      "image/png": "[encoded data removed]",
      "text/plain": [
       "<Figure size 1152x576 with 8 Axes>"
      ]
     },
     "metadata": {
      "needs_background": "light"
     },
     "output_type": "display_data"
    }
   ],
   "source": [
    "import random\n",
    "ran = random.randint(1, len(test_examples))\n",
    "\n",
    "for inp_t, tar_t in test_examples.take(ran):\n",
    "  inp = inp_t.numpy().decode(\"utf-8\")\n",
    "  tar = tar_t.numpy().decode(\"utf-8\")\n",
    "print(inp)\n",
    "print(tar, '\\n')\n",
    "\n",
    "translate(inp, plot='decoder_layer4_block2')"
   ]
  },
  {
   "cell_type": "code",
   "execution_count": 62,
   "metadata": {},
   "outputs": [
    {
     "name": "stdout",
     "output_type": "stream",
     "text": [
      "Model: \"transformer_1\"\n",
      "_________________________________________________________________\n",
      "Layer (type)                 Output Shape              Param #   \n",
      "=================================================================\n",
      "encoder_2 (Encoder)          multiple                  1793920   \n",
      "_________________________________________________________________\n",
      "decoder_2 (Decoder)          multiple                  1489792   \n",
      "_________________________________________________________________\n",
      "dense_151 (Dense)            multiple                  434859    \n",
      "=================================================================\n",
      "Total params: 3,718,571\n",
      "Trainable params: 3,718,571\n",
      "Non-trainable params: 0\n",
      "_________________________________________________________________\n"
     ]
    }
   ],
   "source": [
    "transformer.summary()"
   ]
  },
  {
   "cell_type": "code",
   "execution_count": 63,
   "metadata": {},
   "outputs": [],
   "source": [
    "def translateTest(sentence):\n",
    "  result, attention_weights = evaluate(sentence)\n",
    "  \n",
    "  sentence = input_tokenizer.encode(sentence)\n",
    "  sentence = ' '.join([input_tokenizer.decode([i]) for i in sentence])\n",
    "  predicted_sentence = target_tokenizer.decode([i for i in result \n",
    "                                            if i < target_tokenizer.vocab_size])  \n",
    "\n",
    "#   print('Input: {}'.format(sentence))\n",
    "#   print('Predicted translation: {}'.format(predicted_sentence))\n",
    "  return sentence, predicted_sentence"
   ]
  },
  {
   "cell_type": "code",
   "execution_count": 64,
   "metadata": {},
   "outputs": [
    {
     "name": "stdout",
     "output_type": "stream",
     "text": [
      "Progress: 50 / 1963 in 37.122886180877686 s\n",
      "Progress: 100 / 1963 in 38.52077674865723 s\n",
      "Progress: 150 / 1963 in 39.02763056755066 s\n",
      "Progress: 200 / 1963 in 34.362820625305176 s\n",
      "Progress: 250 / 1963 in 32.58601951599121 s\n",
      "Progress: 300 / 1963 in 35.41471719741821 s\n",
      "Progress: 350 / 1963 in 32.751158475875854 s\n",
      "Progress: 400 / 1963 in 31.665842533111572 s\n",
      "Progress: 450 / 1963 in 35.866628646850586 s\n",
      "Progress: 500 / 1963 in 33.88088583946228 s\n",
      "Progress: 550 / 1963 in 36.2839674949646 s\n",
      "Progress: 600 / 1963 in 31.997430562973022 s\n",
      "Progress: 650 / 1963 in 39.68129253387451 s\n",
      "Progress: 700 / 1963 in 38.3552405834198 s\n",
      "Progress: 750 / 1963 in 29.984587907791138 s\n",
      "Progress: 800 / 1963 in 34.030314922332764 s\n",
      "Progress: 850 / 1963 in 29.737730741500854 s\n",
      "Progress: 900 / 1963 in 33.78821849822998 s\n",
      "Progress: 950 / 1963 in 33.87883186340332 s\n",
      "Progress: 1000 / 1963 in 36.80983901023865 s\n",
      "Progress: 1050 / 1963 in 34.49716758728027 s\n",
      "Progress: 1100 / 1963 in 35.77988243103027 s\n",
      "Progress: 1150 / 1963 in 28.76323366165161 s\n",
      "Progress: 1200 / 1963 in 32.64164996147156 s\n",
      "Progress: 1250 / 1963 in 31.361485242843628 s\n",
      "Progress: 1300 / 1963 in 38.00774383544922 s\n",
      "Progress: 1350 / 1963 in 37.25927114486694 s\n",
      "Progress: 1400 / 1963 in 36.77776861190796 s\n",
      "Progress: 1450 / 1963 in 34.03052997589111 s\n",
      "Progress: 1500 / 1963 in 38.23601317405701 s\n",
      "Progress: 1550 / 1963 in 37.83676767349243 s\n",
      "Progress: 1600 / 1963 in 37.197673320770264 s\n",
      "Progress: 1650 / 1963 in 38.102198123931885 s\n",
      "Progress: 1700 / 1963 in 39.40949010848999 s\n",
      "Progress: 1750 / 1963 in 35.778868675231934 s\n",
      "Progress: 1800 / 1963 in 44.55514597892761 s\n",
      "Progress: 1850 / 1963 in 36.79735493659973 s\n",
      "Progress: 1900 / 1963 in 29.700693130493164 s\n",
      "Progress: 1950 / 1963 in 36.32790279388428 s\n",
      "ToTal: 1963 / 1963 in 1388.300446987152\n"
     ]
    }
   ],
   "source": [
    "ref = []\n",
    "can = []\n",
    "num_test = 0\n",
    "TotalTime = time.time()\n",
    "start = time.time()\n",
    "for inp_t, tar_t in test_examples:\n",
    "    inp = inp_t.numpy().decode(\"utf-8\")\n",
    "    tar = tar_t.numpy().decode(\"utf-8\")\n",
    "    num_test += 1\n",
    "    if len(inp.split()) < 40 and len(tar.split()) < 40:\n",
    "        inp_r, pre = translateTest(inp)\n",
    "        ref.append([tar.split()])\n",
    "        can.append(pre.split())\n",
    "    if num_test % 50 == 0:\n",
    "        print(f'Progress: {num_test} / {len(test_examples)} in {time.time()-start} s')\n",
    "        start = time.time()\n",
    "        \n",
    "print(f'ToTal: {num_test} / {len(test_examples)} in {time.time()-TotalTime}')"
   ]
  },
  {
   "cell_type": "code",
   "execution_count": 68,
   "metadata": {},
   "outputs": [
    {
     "name": "stdout",
     "output_type": "stream",
     "text": [
      "BLEU test result: 71.52122641509435\n"
     ]
    }
   ],
   "source": [
    "import nltk\n",
    "from nltk.translate.bleu_score import sentence_bleu\n",
    "\n",
    "score = 0\n",
    "for i in range(len(ref)):\n",
    "    score += sentence_bleu(ref[i], can[i], weights=(1, 0, 0, 0))\n",
    "print('BLEU test result:', score/len(ref)*100)"
   ]
  }
 ],
 "metadata": {
  "accelerator": "GPU",
  "colab": {
   "collapsed_sections": [],
   "name": "Transformer",
   "provenance": []
  },
  "kernelspec": {
   "display_name": "Python 3",
   "language": "python",
   "name": "python3"
  },
  "language_info": {
   "codemirror_mode": {
    "name": "ipython",
    "version": 3
   },
   "file_extension": ".py",
   "mimetype": "text/x-python",
   "name": "python",
   "nbconvert_exporter": "python",
   "pygments_lexer": "ipython3",
   "version": "3.8.5"
  }
 },
 "nbformat": 4,
 "nbformat_minor": 1
}
