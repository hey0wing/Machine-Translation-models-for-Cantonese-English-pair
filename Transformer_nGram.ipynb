{
 "cells": [
  {
   "cell_type": "markdown",
   "metadata": {
    "id": "J0Qjg6vuaHNt"
   },
   "source": [
    "# Transformer model for language understanding"
   ]
  },
  {
   "cell_type": "markdown",
   "metadata": {
    "id": "Xu2cV7D4kBFi"
   },
   "source": [
    "FYP: Machine translation models for Cantonese-English pair"
   ]
  },
  {
   "cell_type": "code",
   "execution_count": 1,
   "metadata": {
    "colab": {
     "base_uri": "https://localhost:8080/"
    },
    "id": "XFG0NDRu5mYQ",
    "outputId": "10b72e31-4689-4efc-9406-9dac3da5c01e"
   },
   "outputs": [],
   "source": [
    "!pip install -q tfds-nightly\n",
    "\n",
    "# Pin matplotlib version to 3.2.2 since in the latest version\n",
    "# transformer.ipynb fails with the following error:\n",
    "# https://stackoverflow.com/questions/62953704/valueerror-the-number-of-fixedlocator-locations-5-usually-from-a-call-to-set\n",
    "!pip install -q matplotlib==3.2.2\n",
    "!pip install -q wget\n",
    "\n",
    "!pip install -q tensorflow"
   ]
  },
  {
   "cell_type": "code",
   "execution_count": 2,
   "metadata": {
    "id": "JjJJyJTZYebt"
   },
   "outputs": [],
   "source": [
    "import tensorflow_datasets as tfds\n",
    "import tensorflow as tf\n",
    "\n",
    "import re\n",
    "import time\n",
    "import numpy as np\n",
    "import matplotlib.pyplot as plt"
   ]
  },
  {
   "cell_type": "markdown",
   "metadata": {
    "id": "fd1NWMxjfsDd"
   },
   "source": [
    "## Setup input pipeline"
   ]
  },
  {
   "cell_type": "code",
   "execution_count": 3,
   "metadata": {
    "colab": {
     "base_uri": "https://localhost:8080/",
     "height": 204
    },
    "id": "QWviV8YdYh-C",
    "outputId": "6e3bf9d5-5632-4d95-a958-b4196327e03c"
   },
   "outputs": [
    {
     "data": {
      "text/html": [
       "<div>\n",
       "<style scoped>\n",
       "    .dataframe tbody tr th:only-of-type {\n",
       "        vertical-align: middle;\n",
       "    }\n",
       "\n",
       "    .dataframe tbody tr th {\n",
       "        vertical-align: top;\n",
       "    }\n",
       "\n",
       "    .dataframe thead th {\n",
       "        text-align: right;\n",
       "    }\n",
       "</style>\n",
       "<table border=\"1\" class=\"dataframe\">\n",
       "  <thead>\n",
       "    <tr style=\"text-align: right;\">\n",
       "      <th></th>\n",
       "      <th>yue</th>\n",
       "      <th>eng</th>\n",
       "    </tr>\n",
       "  </thead>\n",
       "  <tbody>\n",
       "    <tr>\n",
       "      <th>0</th>\n",
       "      <td>唔準 掂 同 食 醃菜 唔準 坐 梳化 或者 屋企人 嘅 床 上 每次 經期 完 咗 要 洗...</td>\n",
       "      <td>I was not allowed to touch or eat pickles I wa...</td>\n",
       "    </tr>\n",
       "    <tr>\n",
       "      <th>1</th>\n",
       "      <td>佢地 扮 怪 面 嚇 人</td>\n",
       "      <td>They were making scary faces</td>\n",
       "    </tr>\n",
       "    <tr>\n",
       "      <th>2</th>\n",
       "      <td>唔會 搞到 我哋 變得 邪惡 女人型 變成 自由黨 人 咩</td>\n",
       "      <td>turn us into godless sissy liberals</td>\n",
       "    </tr>\n",
       "    <tr>\n",
       "      <th>3</th>\n",
       "      <td>呢個 模式 可以 清晰 令 您 瞭解 佢哋</td>\n",
       "      <td>So it spells those out in very clean terms</td>\n",
       "    </tr>\n",
       "    <tr>\n",
       "      <th>4</th>\n",
       "      <td>幾多 萬 億 掌聲</td>\n",
       "      <td>How many trillions Applause</td>\n",
       "    </tr>\n",
       "  </tbody>\n",
       "</table>\n",
       "</div>"
      ],
      "text/plain": [
       "                                                 yue  \\\n",
       "0  唔準 掂 同 食 醃菜 唔準 坐 梳化 或者 屋企人 嘅 床 上 每次 經期 完 咗 要 洗...   \n",
       "1                                       佢地 扮 怪 面 嚇 人   \n",
       "2                      唔會 搞到 我哋 變得 邪惡 女人型 變成 自由黨 人 咩   \n",
       "3                              呢個 模式 可以 清晰 令 您 瞭解 佢哋   \n",
       "4                                          幾多 萬 億 掌聲   \n",
       "\n",
       "                                                 eng  \n",
       "0  I was not allowed to touch or eat pickles I wa...  \n",
       "1                       They were making scary faces  \n",
       "2                turn us into godless sissy liberals  \n",
       "3         So it spells those out in very clean terms  \n",
       "4                        How many trillions Applause  "
      ]
     },
     "execution_count": 3,
     "metadata": {},
     "output_type": "execute_result"
    }
   ],
   "source": [
    "import pandas as pd\n",
    "import glob\n",
    "import os\n",
    "\n",
    "all_csv = glob.glob(os.getcwd() + \"/train.csv\")  \n",
    "\n",
    "df_test = pd.read_csv(os.getcwd() + \"/test.csv\", sep='\\t', encoding='utf-8')  \n",
    " \n",
    "df_from_each_file = (pd.read_csv(f, sep='\\t', encoding='utf-8') for f in all_csv)\n",
    "df = pd.concat(df_from_each_file)\n",
    "\n",
    "# Check for null\n",
    "df[df['yue'].isnull()]\n",
    "df = df.dropna()\n",
    "df_test = df_test.dropna()\n",
    "\n",
    "YueChar = False\n",
    "# Delete spaces between n-gram in Cantonese\n",
    "# Perform Character based tokenization in Cantonese\n",
    "if YueChar:\n",
    "    df['yue'] = df['yue'].str.replace(r' ', '')\n",
    "\n",
    "df.head()"
   ]
  },
  {
   "cell_type": "code",
   "execution_count": 4,
   "metadata": {},
   "outputs": [
    {
     "data": {
      "text/html": [
       "<div>\n",
       "<style scoped>\n",
       "    .dataframe tbody tr th:only-of-type {\n",
       "        vertical-align: middle;\n",
       "    }\n",
       "\n",
       "    .dataframe tbody tr th {\n",
       "        vertical-align: top;\n",
       "    }\n",
       "\n",
       "    .dataframe thead th {\n",
       "        text-align: right;\n",
       "    }\n",
       "</style>\n",
       "<table border=\"1\" class=\"dataframe\">\n",
       "  <thead>\n",
       "    <tr style=\"text-align: right;\">\n",
       "      <th></th>\n",
       "      <th>yue</th>\n",
       "      <th>eng</th>\n",
       "    </tr>\n",
       "  </thead>\n",
       "  <tbody>\n",
       "    <tr>\n",
       "      <th>0</th>\n",
       "      <td>我 相信 主</td>\n",
       "      <td>I believe the almighty</td>\n",
       "    </tr>\n",
       "    <tr>\n",
       "      <th>1</th>\n",
       "      <td>好耐 以嚟 有 發展 紊亂 嘅 小朋友</td>\n",
       "      <td>For too long now children with developmental d...</td>\n",
       "    </tr>\n",
       "    <tr>\n",
       "      <th>2</th>\n",
       "      <td>一般 會 遇到 兩 種 反應</td>\n",
       "      <td>I have two kinds of reactions</td>\n",
       "    </tr>\n",
       "    <tr>\n",
       "      <th>3</th>\n",
       "      <td>但 再 諗下 嗰位 官員 未必 係 唯一 睇小 女性 嘅人 呢種 偏見 不論 係咪 特登 係...</td>\n",
       "      <td>But think about this The IMF official is hardl...</td>\n",
       "    </tr>\n",
       "    <tr>\n",
       "      <th>4</th>\n",
       "      <td>佢 將 呢個 病毒 傳 畀 BB</td>\n",
       "      <td>She passes that virus on to baby</td>\n",
       "    </tr>\n",
       "  </tbody>\n",
       "</table>\n",
       "</div>"
      ],
      "text/plain": [
       "                                                 yue  \\\n",
       "0                                             我 相信 主   \n",
       "1                                好耐 以嚟 有 發展 紊亂 嘅 小朋友   \n",
       "2                                     一般 會 遇到 兩 種 反應   \n",
       "3  但 再 諗下 嗰位 官員 未必 係 唯一 睇小 女性 嘅人 呢種 偏見 不論 係咪 特登 係...   \n",
       "4                                   佢 將 呢個 病毒 傳 畀 BB   \n",
       "\n",
       "                                                 eng  \n",
       "0                             I believe the almighty  \n",
       "1  For too long now children with developmental d...  \n",
       "2                      I have two kinds of reactions  \n",
       "3  But think about this The IMF official is hardl...  \n",
       "4                   She passes that virus on to baby  "
      ]
     },
     "execution_count": 4,
     "metadata": {},
     "output_type": "execute_result"
    }
   ],
   "source": [
    "def spliteKeyWord(str):\n",
    "    regex = r\"[\\u4e00-\\ufaff]|[0-9]+|[a-zA-Z]+\\'*[a-z]*\"\n",
    "    matches = re.findall(regex, str, re.UNICODE)\n",
    "    return ' '.join(matches)\n",
    "\n",
    "if YueChar:\n",
    "    df_test['yue'] = df_test['yue'].apply(lambda x: spliteKeyWord(x))\n",
    "df_test.head()"
   ]
  },
  {
   "cell_type": "markdown",
   "metadata": {
    "id": "mEsv-c0qqLQd"
   },
   "source": [
    "### Set translational direction"
   ]
  },
  {
   "cell_type": "code",
   "execution_count": 5,
   "metadata": {
    "id": "0r4EQ67kqKcU"
   },
   "outputs": [],
   "source": [
    "inp_lang = 'eng'\n",
    "tar_lang = 'yue'\n",
    "inp = df[inp_lang]\n",
    "tar = df[tar_lang]\n",
    "dataset = tf.data.Dataset.from_tensor_slices((inp.values, tar.values))"
   ]
  },
  {
   "cell_type": "markdown",
   "metadata": {
    "id": "hmVWHYyd18kb"
   },
   "source": [
    "## Split dataset into train, test and validation"
   ]
  },
  {
   "cell_type": "code",
   "execution_count": 6,
   "metadata": {
    "colab": {
     "base_uri": "https://localhost:8080/"
    },
    "id": "2UudB9uidSkP",
    "outputId": "b327f1e3-5143-4b79-f204-3d55bed31d2d"
   },
   "outputs": [
    {
     "name": "stdout",
     "output_type": "stream",
     "text": [
      "Train size: 20\n",
      "Test size: 20\n",
      "\n",
      "Total size: 40\n"
     ]
    }
   ],
   "source": [
    "DATASET_SIZE = len(list(dataset))\n",
    "# train_size = int(0.8 * DATASET_SIZE)\n",
    "# test_size = int(0.2 * DATASET_SIZE)\n",
    "\n",
    "# dataset = dataset.shuffle(DATASET_SIZE)\n",
    "train_examples = dataset.take(DATASET_SIZE)\n",
    "# test_examples = dataset.skip(train_size)\n",
    "# test_examples = remaining.take(test_size)\n",
    "# val_examples = remaining.skip(test_size)\n",
    "\n",
    "print('Train size:', len(list(train_examples)))\n",
    "print('Test size:', len(df_test))\n",
    "# print('Validation size:', len(list(val_examples)))\n",
    "print()\n",
    "print('Total size:', DATASET_SIZE + len(df_test))"
   ]
  },
  {
   "cell_type": "code",
   "execution_count": 7,
   "metadata": {
    "colab": {
     "base_uri": "https://localhost:8080/"
    },
    "id": "b5PlJ-TwK6Oi",
    "outputId": "79fdafc4-e9d3-44f5-f231-e059bc58bf09"
   },
   "outputs": [
    {
     "name": "stdout",
     "output_type": "stream",
     "text": [
      "tf.Tensor(b'I was not allowed to touch or eat pickles I was not allowed to sit on the sofa or some other family member s bed I had to wash my bed sheet after every period even if it was not stained I was considered impure and forbidden from worshipping or touching any object of religious importance You ll find signposts outside temples denying the entry of menstruating girls and women', shape=(), dtype=string)\n",
      "tf.Tensor(b'\\xe5\\x94\\x94\\xe6\\xba\\x96 \\xe6\\x8e\\x82 \\xe5\\x90\\x8c \\xe9\\xa3\\x9f \\xe9\\x86\\x83\\xe8\\x8f\\x9c \\xe5\\x94\\x94\\xe6\\xba\\x96 \\xe5\\x9d\\x90 \\xe6\\xa2\\xb3\\xe5\\x8c\\x96 \\xe6\\x88\\x96\\xe8\\x80\\x85 \\xe5\\xb1\\x8b\\xe4\\xbc\\x81\\xe4\\xba\\xba \\xe5\\x98\\x85 \\xe5\\xba\\x8a \\xe4\\xb8\\x8a \\xe6\\xaf\\x8f\\xe6\\xac\\xa1 \\xe7\\xb6\\x93\\xe6\\x9c\\x9f \\xe5\\xae\\x8c \\xe5\\x92\\x97 \\xe8\\xa6\\x81 \\xe6\\xb4\\x97 \\xe5\\xba\\x8a \\xe5\\x96\\xae \\xe5\\xb0\\xb1\\xe7\\xae\\x97 \\xe5\\xba\\x8a \\xe5\\x96\\xae \\xe7\\x84\\xa1 \\xe6\\xb1\\x9a \\xe7\\xb3\\x9f \\xe5\\x88\\xb0 \\xe4\\xbb\\x96\\xe5\\x80\\x91 \\xe8\\xaa\\x8d \\xe7\\x82\\xba \\xe6\\x88\\x91 \\xe5\\x94\\x94 \\xe7\\xb4\\x94\\xe6\\xbd\\x94 \\xe7\\xa6\\x81\\xe6\\xad\\xa2 \\xe6\\x88\\x91 \\xe5\\x8f\\x83\\xe6\\x8b\\x9c \\xe6\\x88\\x96\\xe8\\x80\\x85 \\xe6\\x8e\\x82 \\xe4\\xb8\\x80\\xe5\\x95\\xb2 \\xe8\\x81\\x96 \\xe7\\x89\\xa9 \\xe4\\xbd\\xa0 \\xe6\\x9c\\x83 \\xe7\\x99\\xbc\\xe7\\x8f\\xbe \\xe5\\xaf\\xba\\xe5\\xbb\\x9f \\xe5\\x87\\xba\\xe9\\x9d\\xa2 \\xe6\\x9c\\x89\\xe7\\x89\\x8c \\xe8\\xb7\\xaf\\xe7\\x89\\x8c \\xe7\\xa6\\x81\\xe6\\xad\\xa2 \\xe6\\xad\\xa3\\xe5\\x9c\\xa8 \\xe5\\x9a\\x9f\\xe7\\xb7\\x8a \\xe7\\xb6\\x93\\xe6\\x9c\\x9f \\xe5\\x98\\x85 \\xe5\\xa9\\xa6\\xe5\\xa5\\xb3 \\xe9\\x80\\xb2\\xe5\\x85\\xa5', shape=(), dtype=string)\n",
      "----------\n",
      "tf.Tensor(b'They were making scary faces', shape=(), dtype=string)\n",
      "tf.Tensor(b'\\xe4\\xbd\\xa2\\xe5\\x9c\\xb0 \\xe6\\x89\\xae \\xe6\\x80\\xaa \\xe9\\x9d\\xa2 \\xe5\\x9a\\x87 \\xe4\\xba\\xba', shape=(), dtype=string)\n",
      "----------\n",
      "tf.Tensor(b'turn us into godless sissy liberals', shape=(), dtype=string)\n",
      "tf.Tensor(b'\\xe5\\x94\\x94\\xe6\\x9c\\x83 \\xe6\\x90\\x9e\\xe5\\x88\\xb0 \\xe6\\x88\\x91\\xe5\\x93\\x8b \\xe8\\xae\\x8a\\xe5\\xbe\\x97 \\xe9\\x82\\xaa\\xe6\\x83\\xa1 \\xe5\\xa5\\xb3\\xe4\\xba\\xba\\xe5\\x9e\\x8b \\xe8\\xae\\x8a\\xe6\\x88\\x90 \\xe8\\x87\\xaa\\xe7\\x94\\xb1\\xe9\\xbb\\xa8 \\xe4\\xba\\xba \\xe5\\x92\\xa9', shape=(), dtype=string)\n",
      "----------\n"
     ]
    }
   ],
   "source": [
    "for inp, tar in train_examples.take(3):\n",
    "  print(inp)\n",
    "  print(tar)\n",
    "  print('-' * 10)"
   ]
  },
  {
   "cell_type": "code",
   "execution_count": 8,
   "metadata": {
    "colab": {
     "base_uri": "https://localhost:8080/"
    },
    "id": "waK4jpjpw2dZ",
    "outputId": "9146e9e0-0437-4f39-a30a-02c9df423afa"
   },
   "outputs": [
    {
     "name": "stdout",
     "output_type": "stream",
     "text": [
      "I was not allowed to touch or eat pickles I was not allowed to sit on the sofa or some other family member s bed I had to wash my bed sheet after every period even if it was not stained I was considered impure and forbidden from worshipping or touching any object of religious importance You ll find signposts outside temples denying the entry of menstruating girls and women\n",
      "唔準 掂 同 食 醃菜 唔準 坐 梳化 或者 屋企人 嘅 床 上 每次 經期 完 咗 要 洗 床 單 就算 床 單 無 汚 糟 到 他們 認 為 我 唔 純潔 禁止 我 參拜 或者 掂 一啲 聖 物 你 會 發現 寺廟 出面 有牌 路牌 禁止 正在 嚟緊 經期 嘅 婦女 進入\n",
      "----------\n",
      "They were making scary faces\n",
      "佢地 扮 怪 面 嚇 人\n",
      "----------\n",
      "turn us into godless sissy liberals\n",
      "唔會 搞到 我哋 變得 邪惡 女人型 變成 自由黨 人 咩\n",
      "----------\n",
      "So it spells those out in very clean terms\n",
      "呢個 模式 可以 清晰 令 您 瞭解 佢哋\n",
      "----------\n",
      "How many trillions Applause\n",
      "幾多 萬 億 掌聲\n",
      "----------\n"
     ]
    }
   ],
   "source": [
    "sample_examples = []\n",
    "num_samples = 5\n",
    "\n",
    "for inp_t, tar_t in train_examples.take(num_samples):\n",
    "  inp = inp_t.numpy().decode(\"utf-8\")\n",
    "  tar = tar_t.numpy().decode(\"utf-8\")\n",
    "  \n",
    "  print(inp)\n",
    "  print(tar)\n",
    "  print('-' * 10)\n",
    "  \n",
    "  sample_examples.append((inp, tar))"
   ]
  },
  {
   "cell_type": "markdown",
   "metadata": {
    "id": "RCEKotqosGfq"
   },
   "source": [
    "Create a custom subwords tokenizer from the training dataset. "
   ]
  },
  {
   "cell_type": "code",
   "execution_count": 9,
   "metadata": {},
   "outputs": [],
   "source": [
    "if inp_lang == 'yue':\n",
    "    if YueChar:\n",
    "      input_tokenizer = tfds.deprecated.text.SubwordTextEncoder.build_from_corpus(\n",
    "          (inp.numpy() for inp, tar in train_examples), target_vocab_size=2**13, max_subword_length=1)\n",
    "    else:\n",
    "      input_tokenizer = tfds.deprecated.text.TokenTextEncoder(\n",
    "          ' '.join(inp.numpy().decode(\"utf-8\") for inp, tar in train_examples).split(' ')) \n",
    "    target_tokenizer = tfds.deprecated.text.SubwordTextEncoder.build_from_corpus(\n",
    "        (tar.numpy() for inp, tar in train_examples), target_vocab_size=2**13)\n",
    "else:\n",
    "    if YueChar:\n",
    "      target_tokenizer = tfds.deprecated.text.SubwordTextEncoder.build_from_corpus(\n",
    "          (tar.numpy() for inp, tar in train_examples), target_vocab_size=2**13, max_subword_length=1)\n",
    "    else:\n",
    "      target_tokenizer = tfds.deprecated.text.TokenTextEncoder(\n",
    "          ' '.join(tar.numpy().decode(\"utf-8\") for inp, tar in train_examples).split(' '))\n",
    "    input_tokenizer = tfds.deprecated.text.SubwordTextEncoder.build_from_corpus(\n",
    "      (inp.numpy() for inp, tar in train_examples), target_vocab_size=2**13)"
   ]
  },
  {
   "cell_type": "code",
   "execution_count": 10,
   "metadata": {},
   "outputs": [
    {
     "name": "stdout",
     "output_type": "stream",
     "text": [
      "eng: 454 vocabs\n",
      "yue: 261 vocabs\n"
     ]
    }
   ],
   "source": [
    "print(f'{inp_lang}: {input_tokenizer.vocab_size} vocabs')\n",
    "print(f'{tar_lang}: {target_tokenizer.vocab_size} vocabs')"
   ]
  },
  {
   "cell_type": "markdown",
   "metadata": {
    "id": "L-PPeXeT4WHN"
   },
   "source": [
    "Check the tokenizers with sample string"
   ]
  },
  {
   "cell_type": "code",
   "execution_count": 11,
   "metadata": {
    "colab": {
     "base_uri": "https://localhost:8080/"
    },
    "id": "4DYWukNFkGQN",
    "outputId": "902864c3-fa59-45c0-e8f9-17536d62fea3"
   },
   "outputs": [
    {
     "name": "stdout",
     "output_type": "stream",
     "text": [
      "Tokenized string is [2, 8, 17, 33, 4, 50, 11, 140, 87, 2, 8, 17, 33, 4, 70, 24, 5, 67, 11, 66, 96, 133, 104, 10, 32, 2, 122, 4, 45, 25, 32, 76, 168, 136, 88, 137, 26, 12, 8, 17, 62, 2, 8, 154, 116, 6, 128, 27, 39, 11, 20, 164, 100, 3, 82, 117, 34, 110, 131, 73, 93, 56, 147, 5, 138, 3, 103, 126, 6, 40]\n",
      "The original string: I was not allowed to touch or eat pickles I was not allowed to sit on the sofa or some other family member s bed I had to wash my bed sheet after every period even if it was not stained I was considered impure and forbidden from worshipping or touching any object of religious importance You ll find signposts outside temples denying the entry of menstruating girls and women\n",
      "Tokenized string is [6, 39, 244, 4, 5, 6, 7, 8, 38, 10, 251, 23, 13, 14, 53, 16, 17, 144, 19, 23, 24, 22, 23, 24, 25, 26, 27, 28, 29, 30, 31, 189, 33, 34, 50, 189, 37, 38, 39, 40, 41, 42, 184, 255, 222, 46, 47, 48, 49, 50, 51, 52, 53, 251, 55, 56]\n",
      "The original string: 唔準 掂 同 食 醃菜 唔準 坐 梳化 或者 屋企人 嘅 床 上 每次 經期 完 咗 要 洗 床 單 就算 床 單 無 汚 糟 到 他們 認 為 我 唔 純潔 禁止 我 參拜 或者 掂 一啲 聖 物 你 會 發現 寺廟 出面 有牌 路牌 禁止 正在 嚟緊 經期 嘅 婦女 進入\n"
     ]
    }
   ],
   "source": [
    "# We can use string in dataset\n",
    "sample_inp = sample_examples[0][0]\n",
    "sample_tar = sample_examples[0][1]\n",
    "\n",
    "tokenized_inp = input_tokenizer.encode(sample_inp)\n",
    "print ('Tokenized string is {}'.format(tokenized_inp))\n",
    "\n",
    "original_inp = input_tokenizer.decode(tokenized_inp)\n",
    "print ('The original string: {}'.format(original_inp))\n",
    "\n",
    "tokenized_tar = target_tokenizer.encode(sample_tar)\n",
    "print ('Tokenized string is {}'.format(tokenized_tar))\n",
    "\n",
    "original_tar = target_tokenizer.decode(tokenized_tar)\n",
    "print ('The original string: {}'.format(original_tar))"
   ]
  },
  {
   "cell_type": "markdown",
   "metadata": {
    "id": "o9KJWJjrsZ4Y"
   },
   "source": [
    "The tokenizer encodes the string by breaking it into subwords if the word is not in its dictionary."
   ]
  },
  {
   "cell_type": "code",
   "execution_count": 12,
   "metadata": {
    "colab": {
     "base_uri": "https://localhost:8080/"
    },
    "id": "bf2ntBxjkqK6",
    "outputId": "0234d439-6ab8-45ac-9591-71051d640c9f"
   },
   "outputs": [
    {
     "name": "stdout",
     "output_type": "stream",
     "text": [
      "2 ----> I \n",
      "8 ----> was \n",
      "17 ----> not \n",
      "33 ----> allowed \n",
      "4 ----> to \n",
      "50 ----> touch \n",
      "11 ----> or \n",
      "140 ----> eat \n",
      "87 ----> pickles \n",
      "2 ----> I \n",
      "8 ----> was \n",
      "17 ----> not \n",
      "33 ----> allowed \n",
      "4 ----> to \n",
      "70 ----> sit \n",
      "24 ----> on \n",
      "5 ----> the \n",
      "67 ----> sofa \n",
      "11 ----> or \n",
      "66 ----> some \n",
      "96 ----> other \n",
      "133 ----> family \n",
      "104 ----> member \n",
      "10 ----> s \n",
      "32 ----> bed \n",
      "2 ----> I \n",
      "122 ----> had \n",
      "4 ----> to \n",
      "45 ----> wash \n",
      "25 ----> my \n",
      "32 ----> bed \n",
      "76 ----> sheet \n",
      "168 ----> after \n",
      "136 ----> every \n",
      "88 ----> period \n",
      "137 ----> even \n",
      "26 ----> if \n",
      "12 ----> it \n",
      "8 ----> was \n",
      "17 ----> not \n",
      "62 ----> stained \n",
      "2 ----> I \n",
      "8 ----> was \n",
      "154 ----> considered \n",
      "116 ----> impure \n",
      "6 ----> and \n",
      "128 ----> forbidden \n",
      "27 ----> from \n",
      "39 ----> worshipping \n",
      "11 ----> or \n",
      "20 ----> touching \n",
      "164 ----> any \n",
      "100 ----> object \n",
      "3 ----> of \n",
      "82 ----> religious \n",
      "117 ----> importance \n",
      "34 ----> You \n",
      "110 ----> ll \n",
      "131 ----> find \n",
      "73 ----> signposts \n",
      "93 ----> outside \n",
      "56 ----> temples \n",
      "147 ----> denying \n",
      "5 ----> the \n",
      "138 ----> entry \n",
      "3 ----> of \n",
      "103 ----> menstruating \n",
      "126 ----> girls \n",
      "6 ----> and \n",
      "40 ----> women\n",
      "\n",
      "6 ----> 唔準\n",
      "39 ----> 掂\n",
      "244 ----> 同\n",
      "4 ----> 食\n",
      "5 ----> 醃菜\n",
      "6 ----> 唔準\n",
      "7 ----> 坐\n",
      "8 ----> 梳化\n",
      "38 ----> 或者\n",
      "10 ----> 屋企人\n",
      "251 ----> 嘅\n",
      "23 ----> 床\n",
      "13 ----> 上\n",
      "14 ----> 每次\n",
      "53 ----> 經期\n",
      "16 ----> 完\n",
      "17 ----> 咗\n",
      "144 ----> 要\n",
      "19 ----> 洗\n",
      "23 ----> 床\n",
      "24 ----> 單\n",
      "22 ----> 就算\n",
      "23 ----> 床\n",
      "24 ----> 單\n",
      "25 ----> 無\n",
      "26 ----> 汚\n",
      "27 ----> 糟\n",
      "28 ----> 到\n",
      "29 ----> 他們\n",
      "30 ----> 認\n",
      "31 ----> 為\n",
      "189 ----> 我\n",
      "33 ----> 唔\n",
      "34 ----> 純潔\n",
      "50 ----> 禁止\n",
      "189 ----> 我\n",
      "37 ----> 參拜\n",
      "38 ----> 或者\n",
      "39 ----> 掂\n",
      "40 ----> 一啲\n",
      "41 ----> 聖\n",
      "42 ----> 物\n",
      "184 ----> 你\n",
      "255 ----> 會\n",
      "222 ----> 發現\n",
      "46 ----> 寺廟\n",
      "47 ----> 出面\n",
      "48 ----> 有牌\n",
      "49 ----> 路牌\n",
      "50 ----> 禁止\n",
      "51 ----> 正在\n",
      "52 ----> 嚟緊\n",
      "53 ----> 經期\n",
      "251 ----> 嘅\n",
      "55 ----> 婦女\n",
      "56 ----> 進入\n"
     ]
    }
   ],
   "source": [
    "for ts in tokenized_inp:\n",
    "  print ('{} ----> {}'.format(ts, input_tokenizer.decode([ts])))\n",
    "print()\n",
    "for ts in tokenized_tar:\n",
    "  print ('{} ----> {}'.format(ts, target_tokenizer.decode([ts])))"
   ]
  },
  {
   "cell_type": "code",
   "execution_count": 13,
   "metadata": {
    "id": "bcRp7VcQ5m6g"
   },
   "outputs": [],
   "source": [
    "BUFFER_SIZE = 400\n",
    "BATCH_SIZE = 64"
   ]
  },
  {
   "cell_type": "markdown",
   "metadata": {
    "id": "kGi4PoVakxdc"
   },
   "source": [
    "Add a start and end token to the input and target. "
   ]
  },
  {
   "cell_type": "code",
   "execution_count": 14,
   "metadata": {
    "id": "UZwnPr4R055s"
   },
   "outputs": [],
   "source": [
    "def encode(lang1, lang2):\n",
    "  lang1 = [input_tokenizer.vocab_size] + input_tokenizer.encode(\n",
    "      lang1.numpy()) + [input_tokenizer.vocab_size+1]\n",
    "\n",
    "  lang2 = [target_tokenizer.vocab_size] + target_tokenizer.encode(\n",
    "      lang2.numpy()) + [target_tokenizer.vocab_size+1]\n",
    "  \n",
    "  return lang1, lang2"
   ]
  },
  {
   "cell_type": "markdown",
   "metadata": {
    "id": "Tx1sFbR-9fRs"
   },
   "source": [
    "You want to use `Dataset.map` to apply this function to each element of the dataset.  `Dataset.map` runs in graph mode.\n",
    "\n",
    "* Graph tensors do not have a value. \n",
    "* In graph mode you can only use TensorFlow Ops and functions. \n",
    "\n",
    "So you can't `.map` this function directly: You need to wrap it in a `tf.py_function`. The `tf.py_function` will pass regular tensors (with a value and a `.numpy()` method to access it), to the wrapped python function."
   ]
  },
  {
   "cell_type": "code",
   "execution_count": 15,
   "metadata": {
    "id": "Mah1cS-P70Iz"
   },
   "outputs": [],
   "source": [
    "def tf_encode(inp, tar):\n",
    "  result_inp, result_tar = tf.py_function(encode, [inp, tar], [tf.int64, tf.int64])\n",
    "  result_inp.set_shape([None])\n",
    "  result_tar.set_shape([None])\n",
    "\n",
    "  return result_inp, result_tar"
   ]
  },
  {
   "cell_type": "markdown",
   "metadata": {
    "id": "6JrGp5Gek6Ql"
   },
   "source": [
    "Note: To keep this example small and relatively fast, drop examples with a length of over `40` tokens."
   ]
  },
  {
   "cell_type": "code",
   "execution_count": 16,
   "metadata": {
    "id": "c081xPGv1CPI"
   },
   "outputs": [],
   "source": [
    "MAX_LENGTH = 40\n",
    "\n",
    "def filter_max_length(x, y, max_length=MAX_LENGTH):\n",
    "  return tf.logical_and(tf.size(x) <= max_length,\n",
    "                        tf.size(y) <= max_length)"
   ]
  },
  {
   "cell_type": "code",
   "execution_count": 17,
   "metadata": {
    "colab": {
     "base_uri": "https://localhost:8080/"
    },
    "id": "9mk9AZdZ5bcS",
    "outputId": "28e59114-d36d-48c8-bf9d-cef2b24049c3"
   },
   "outputs": [
    {
     "name": "stdout",
     "output_type": "stream",
     "text": [
      "Training size: 18\n",
      "Testing size: 18\n"
     ]
    }
   ],
   "source": [
    "train_dataset = train_examples.map(tf_encode)\n",
    "train_dataset = train_dataset.filter(filter_max_length)\n",
    "num_examples = 0\n",
    "for inp_indices, tar_indices in train_dataset:\n",
    "  num_examples += 1\n",
    "print(f\"Training size: {num_examples}\")\n",
    "\n",
    "# cache the dataset to memory to get a speedup while reading from it.\n",
    "train_dataset = train_dataset.cache()\n",
    "train_dataset = train_dataset.shuffle(BUFFER_SIZE).padded_batch(BATCH_SIZE)\n",
    "train_dataset = train_dataset.prefetch(tf.data.experimental.AUTOTUNE)\n",
    "\n",
    "df_test = df_test[\n",
    "    df_test['yue'].apply(lambda x: len(x.split())<MAX_LENGTH) &\n",
    "    df_test['eng'].apply(lambda x: len(x.split())<MAX_LENGTH) \n",
    "]\n",
    "\n",
    "print(f\"Testing size: {len(df_test)}\")"
   ]
  },
  {
   "cell_type": "code",
   "execution_count": 18,
   "metadata": {
    "colab": {
     "base_uri": "https://localhost:8080/"
    },
    "id": "8RgYUtEECc-Q",
    "outputId": "949dd9c4-d890-4991-f1c7-bebcb9e9c6c1"
   },
   "outputs": [
    {
     "name": "stdout",
     "output_type": "stream",
     "text": [
      "tf.Tensor(\n",
      "[[454 193 180  59 127  69 455   0   0   0   0   0   0   0   0   0   0   0\n",
      "    0   0   0   0   0   0   0   0]\n",
      " [454   6  61 169  11 120  10 165 135 455   0   0   0   0   0   0   0   0\n",
      "    0   0   0   0   0   0   0   0]\n",
      " [454   2  23  14 150  84 455   0   0   0   0   0   0   0   0   0   0   0\n",
      "    0   0   0   0   0   0   0   0]\n",
      " [454  38 101 111   4  98   7   1  90 455   0   0   0   0   0   0   0   0\n",
      "    0   0   0   0   0   0   0   0]\n",
      " [454   2 158 121 160  23  25 124  10 113 455   0   0   0   0   0   0   0\n",
      "    0   0   0   0   0   0   0   0]\n",
      " [454  19  12  63  51  94   9  46 156  55 455   0   0   0   0   0   0   0\n",
      "    0   0   0   0   0   0   0   0]\n",
      " [454 182 107  49 194 455   0   0   0   0   0   0   0   0   0   0   0   0\n",
      "    0   0   0   0   0   0   0   0]\n",
      " [454 179 186 184  15   8 162  68  20  35   7  29  22  36   1  85  35   7\n",
      "   29  22   9   1  79   4 176 455]\n",
      " [454  34  31  57  58  65 129 159  54   1 149 455   0   0   0   0   0   0\n",
      "    0   0   0   0   0   0   0   0]\n",
      " [454  19  26   2 109  24   1 197 118 130 455   0   0   0   0   0   0   0\n",
      "    0   0   0   0   0   0   0   0]\n",
      " [454  48  47 114 125  71 112 455   0   0   0   0   0   0   0   0   0   0\n",
      "    0   0   0   0   0   0   0   0]\n",
      " [454  19  43  14 145  13  14  91  92   5  60 455   0   0   0   0   0   0\n",
      "    0   0   0   0   0   0   0   0]\n",
      " [454 173  44 108  80 134 455   0   0   0   0   0   0   0   0   0   0   0\n",
      "    0   0   0   0   0   0   0   0]\n",
      " [454  12  10   1 123  86   3 185 189 455   0   0   0   0   0   0   0   0\n",
      "    0   0   0   0   0   0   0   0]\n",
      " [454 195  53  97   7 143  15   7  31 132  95 455   0   0   0   0   0   0\n",
      "    0   0   0   0   0   0   0   0]\n",
      " [454   2 105   2 157 148 455   0   0   0   0   0   0   0   0   0   0   0\n",
      "    0   0   0   0   0   0   0   0]\n",
      " [454 178 170 455   0   0   0   0   0   0   0   0   0   0   0   0   0   0\n",
      "    0   0   0   0   0   0   0   0]\n",
      " [454 188   6  21   3 151  13  42  12 161 155 455   0   0   0   0   0   0\n",
      "    0   0   0   0   0   0   0   0]], shape=(18, 26), dtype=int64)\n",
      "tf.Tensor(\n",
      "[[261 164 165 166 167 168 262   0   0   0   0   0   0   0   0   0   0   0\n",
      "    0   0   0   0   0   0   0   0   0   0   0   0]\n",
      " [261 148 208 150 151 152 153 154 155 193 157 262   0   0   0   0   0   0\n",
      "    0   0   0   0   0   0   0   0   0   0   0   0]\n",
      " [261 129 130 244 221 133 134 251 136 137 262   0   0   0   0   0   0   0\n",
      "    0   0   0   0   0   0   0   0   0   0   0   0]\n",
      " [261 189 190 191 192 193 194 195 262   0   0   0   0   0   0   0   0   0\n",
      "    0   0   0   0   0   0   0   0   0   0   0   0]\n",
      " [261 189 120 121 122 189 124 125 126 189 128 262   0   0   0   0   0   0\n",
      "    0   0   0   0   0   0   0   0   0   0   0   0]\n",
      " [261 236  74  75  76  77  78  79  80 262   0   0   0   0   0   0   0   0\n",
      "    0   0   0   0   0   0   0   0   0   0   0   0]\n",
      " [261  81  82  83  84 262   0   0   0   0   0   0   0   0   0   0   0   0\n",
      "    0   0   0   0   0   0   0   0   0   0   0   0]\n",
      " [261  85  86  87  88  91  90  91  92  93 184 103  96  97 105  99 100 112\n",
      "  184 103 138 105 251 107 108 256 110 111 112 262]\n",
      " [261 169 170 184 172 173 184 175 176 177 262   0   0   0   0   0   0   0\n",
      "    0   0   0   0   0   0   0   0   0   0   0   0]\n",
      " [261 142 189 144 145 146 147 262   0   0   0   0   0   0   0   0   0   0\n",
      "    0   0   0   0   0   0   0   0   0   0   0   0]\n",
      " [261  63  64 221  66  67  68  69  70  71 177 262   0   0   0   0   0   0\n",
      "    0   0   0   0   0   0   0   0   0   0   0   0]\n",
      " [261 196 197 198 262   0   0   0   0   0   0   0   0   0   0   0   0   0\n",
      "    0   0   0   0   0   0   0   0   0   0   0   0]\n",
      " [261  57  58  59  60  61  71 262   0   0   0   0   0   0   0   0   0   0\n",
      "    0   0   0   0   0   0   0   0   0   0   0   0]\n",
      " [261 138 139 140 141 262   0   0   0   0   0   0   0   0   0   0   0   0\n",
      "    0   0   0   0   0   0   0   0   0   0   0   0]\n",
      " [261 178 179 184 181 182 183 184 254 255 187 188 262   0   0   0   0   0\n",
      "    0   0   0   0   0   0   0   0   0   0   0   0]\n",
      " [261 189 159 160 189 162 163 262   0   0   0   0   0   0   0   0   0   0\n",
      "    0   0   0   0   0   0   0   0   0   0   0   0]\n",
      " [261 118 262   0   0   0   0   0   0   0   0   0   0   0   0   0   0   0\n",
      "    0   0   0   0   0   0   0   0   0   0   0   0]\n",
      " [261 113 114 115 116 117 262   0   0   0   0   0   0   0   0   0   0   0\n",
      "    0   0   0   0   0   0   0   0   0   0   0   0]], shape=(18, 30), dtype=int64)\n",
      "\n",
      "All string are less than 40 tokens\n",
      "Total batches: 1\n"
     ]
    }
   ],
   "source": [
    "# Check with train set\n",
    "inp_indices, tar_indices  = next(iter(train_dataset))\n",
    "print(inp_indices)\n",
    "print(tar_indices)\n",
    "\n",
    "num_examples = 0\n",
    "for inp_indices, tar_indices in train_dataset:\n",
    "  # cond1 = len(inp_indices) <= MAX_LENGTH\n",
    "  # cond2 = len(tar_indices) <= MAX_LENGTH\n",
    "  # assert cond1 and cond2\n",
    "  num_examples += 1\n",
    "\n",
    "print(f\"\\nAll string are less than {MAX_LENGTH} tokens\")\n",
    "print(f\"Total batches: {num_examples}\")"
   ]
  },
  {
   "cell_type": "markdown",
   "metadata": {
    "id": "nBQuibYA4n0n"
   },
   "source": [
    "## Positional encoding\n",
    "\n",
    "Since this model doesn't contain any recurrence or convolution, positional encoding is added to give the model some information about the relative position of the words in the sentence. \n",
    "\n",
    "The positional encoding vector is added to the embedding vector. Embeddings represent a token in a d-dimensional space where tokens with similar meaning will be closer to each other. But the embeddings do not encode the relative position of words in a sentence. So after adding the positional encoding, words will be closer to each other based on the *similarity of their meaning and their position in the sentence*, in the d-dimensional space.\n",
    "\n",
    "See the notebook on [positional encoding](https://github.com/tensorflow/examples/blob/master/community/en/position_encoding.ipynb) to learn more about it. The formula for calculating the positional encoding is as follows:\n",
    "\n",
    "$$\\Large{PE_{(pos, 2i)} = sin(pos / 10000^{2i / d_{model}})} $$\n",
    "$$\\Large{PE_{(pos, 2i+1)} = cos(pos / 10000^{2i / d_{model}})} $$"
   ]
  },
  {
   "cell_type": "code",
   "execution_count": 19,
   "metadata": {
    "id": "WhIOZjMNKujn"
   },
   "outputs": [],
   "source": [
    "def get_angles(pos, i, d_model):\n",
    "  angle_rates = 1 / np.power(10000, (2 * (i//2)) / np.float32(d_model))\n",
    "  return pos * angle_rates"
   ]
  },
  {
   "cell_type": "code",
   "execution_count": 20,
   "metadata": {
    "id": "1Rz82wEs5biZ"
   },
   "outputs": [],
   "source": [
    "def positional_encoding(position, d_model):\n",
    "  angle_rads = get_angles(np.arange(position)[:, np.newaxis],\n",
    "                          np.arange(d_model)[np.newaxis, :],\n",
    "                          d_model)\n",
    "  \n",
    "  # apply sin to even indices in the array; 2i\n",
    "  angle_rads[:, 0::2] = np.sin(angle_rads[:, 0::2])\n",
    "  \n",
    "  # apply cos to odd indices in the array; 2i+1\n",
    "  angle_rads[:, 1::2] = np.cos(angle_rads[:, 1::2])\n",
    "    \n",
    "  pos_encoding = angle_rads[np.newaxis, ...]\n",
    "    \n",
    "  return tf.cast(pos_encoding, dtype=tf.float32)"
   ]
  },
  {
   "cell_type": "code",
   "execution_count": 21,
   "metadata": {
    "colab": {
     "base_uri": "https://localhost:8080/",
     "height": 300
    },
    "id": "1kLCla68EloE",
    "outputId": "4595b67d-9fc7-45a2-8678-fbe51c8d8e28"
   },
   "outputs": [
    {
     "name": "stdout",
     "output_type": "stream",
     "text": [
      "(1, 50, 512)\n"
     ]
    },
    {
     "data": {
      "image/png": "[encoded data removed]",
      "text/plain": [
       "<Figure size 432x288 with 2 Axes>"
      ]
     },
     "metadata": {
      "needs_background": "light"
     },
     "output_type": "display_data"
    }
   ],
   "source": [
    "pos_encoding = positional_encoding(50, 512)\n",
    "print (pos_encoding.shape)\n",
    "\n",
    "plt.pcolormesh(pos_encoding[0], cmap='RdBu')\n",
    "plt.xlabel('Depth')\n",
    "plt.xlim((0, 512))\n",
    "plt.ylabel('Position')\n",
    "plt.colorbar()\n",
    "plt.show()"
   ]
  },
  {
   "cell_type": "markdown",
   "metadata": {
    "id": "a_b4ou4TYqUN"
   },
   "source": [
    "## Masking"
   ]
  },
  {
   "cell_type": "markdown",
   "metadata": {
    "id": "s42Uydjkv0hF"
   },
   "source": [
    "Mask all the pad tokens in the batch of sequence. It ensures that the model does not treat padding as the input. The mask indicates where pad value `0` is present: it outputs a `1` at those locations, and a `0` otherwise."
   ]
  },
  {
   "cell_type": "code",
   "execution_count": 22,
   "metadata": {
    "id": "U2i8-e1s8ti9"
   },
   "outputs": [],
   "source": [
    "def create_padding_mask(seq):\n",
    "  seq = tf.cast(tf.math.equal(seq, 0), tf.float32)\n",
    "  \n",
    "  # add extra dimensions to add the padding\n",
    "  # to the attention logits.\n",
    "  return seq[:, tf.newaxis, tf.newaxis, :]  # (batch_size, 1, 1, seq_len)"
   ]
  },
  {
   "cell_type": "code",
   "execution_count": 23,
   "metadata": {
    "colab": {
     "base_uri": "https://localhost:8080/"
    },
    "id": "A7BYeBCNvi7n",
    "outputId": "2f526483-7e23-49b8-b05e-d76a9c3d654a"
   },
   "outputs": [
    {
     "data": {
      "text/plain": [
       "<tf.Tensor: shape=(3, 1, 1, 5), dtype=float32, numpy=\n",
       "array([[[[0., 0., 1., 1., 0.]]],\n",
       "\n",
       "\n",
       "       [[[0., 0., 0., 1., 1.]]],\n",
       "\n",
       "\n",
       "       [[[1., 1., 1., 0., 0.]]]], dtype=float32)>"
      ]
     },
     "execution_count": 23,
     "metadata": {},
     "output_type": "execute_result"
    }
   ],
   "source": [
    "x = tf.constant([[7, 6, 0, 0, 1], [1, 2, 3, 0, 0], [0, 0, 0, 4, 5]])\n",
    "create_padding_mask(x)"
   ]
  },
  {
   "cell_type": "markdown",
   "metadata": {
    "id": "Z0hzukDBgVom"
   },
   "source": [
    "The look-ahead mask is used to mask the future tokens in a sequence. In other words, the mask indicates which entries should not be used.\n",
    "\n",
    "This means that to predict the third word, only the first and second word will be used. Similarly to predict the fourth word, only the first, second and the third word will be used and so on."
   ]
  },
  {
   "cell_type": "code",
   "execution_count": 24,
   "metadata": {
    "id": "dVxS8OPI9uI0"
   },
   "outputs": [],
   "source": [
    "def create_look_ahead_mask(size):\n",
    "  mask = 1 - tf.linalg.band_part(tf.ones((size, size)), -1, 0)\n",
    "  return mask  # (seq_len, seq_len)"
   ]
  },
  {
   "cell_type": "code",
   "execution_count": 25,
   "metadata": {
    "colab": {
     "base_uri": "https://localhost:8080/"
    },
    "id": "yxKGuXxaBeeE",
    "outputId": "afa5b144-c85f-4626-e942-12d24586fc9a"
   },
   "outputs": [
    {
     "data": {
      "text/plain": [
       "<tf.Tensor: shape=(3, 3), dtype=float32, numpy=\n",
       "array([[0., 1., 1.],\n",
       "       [0., 0., 1.],\n",
       "       [0., 0., 0.]], dtype=float32)>"
      ]
     },
     "execution_count": 25,
     "metadata": {},
     "output_type": "execute_result"
    }
   ],
   "source": [
    "x = tf.random.uniform((1, 3))\n",
    "temp = create_look_ahead_mask(x.shape[1])\n",
    "temp"
   ]
  },
  {
   "cell_type": "markdown",
   "metadata": {
    "id": "xluDl5cXYy4y"
   },
   "source": [
    "## Scaled dot product attention"
   ]
  },
  {
   "cell_type": "markdown",
   "metadata": {
    "id": "vsxEE_-Wa1gF"
   },
   "source": [
    "<img src=\"https://www.tensorflow.org/images/tutorials/transformer/scaled_attention.png\" width=\"500\" alt=\"scaled_dot_product_attention\">\n",
    "\n",
    "The attention function used by the transformer takes three inputs: Q (query), K (key), V (value). The equation used to calculate the attention weights is:\n",
    "\n",
    "$$\\Large{Attention(Q, K, V) = softmax_k(\\frac{QK^T}{\\sqrt{d_k}}) V} $$\n",
    "\n",
    "The dot-product attention is scaled by a factor of square root of the depth. This is done because for large values of depth, the dot product grows large in magnitude pushing the softmax function where it has small gradients resulting in a very hard softmax. \n",
    "\n",
    "For example, consider that `Q` and `K` have a mean of 0 and variance of 1. Their matrix multiplication will have a mean of 0 and variance of `dk`. Hence, *square root of `dk`* is used for scaling (and not any other number) because the matmul of `Q` and `K` should have a mean of 0 and variance of 1, and you get a gentler softmax.\n",
    "\n",
    "The mask is multiplied with -1e9 (close to negative infinity). This is done because the mask is summed with the scaled matrix multiplication of Q and K and is applied immediately before a softmax. The goal is to zero out these cells, and large negative inputs to softmax are near zero in the output."
   ]
  },
  {
   "cell_type": "code",
   "execution_count": 26,
   "metadata": {
    "id": "LazzUq3bJ5SH"
   },
   "outputs": [],
   "source": [
    "def scaled_dot_product_attention(q, k, v, mask):\n",
    "  \"\"\"Calculate the attention weights.\n",
    "  q, k, v must have matching leading dimensions.\n",
    "  k, v must have matching penultimate dimension, i.e.: seq_len_k = seq_len_v.\n",
    "  The mask has different shapes depending on its type(padding or look ahead) \n",
    "  but it must be broadcastable for addition.\n",
    "  \n",
    "  Args:\n",
    "    q: query shape == (..., seq_len_q, depth)\n",
    "    k: key shape == (..., seq_len_k, depth)\n",
    "    v: value shape == (..., seq_len_v, depth_v)\n",
    "    mask: Float tensor with shape broadcastable \n",
    "          to (..., seq_len_q, seq_len_k). Defaults to None.\n",
    "    \n",
    "  Returns:\n",
    "    output, attention_weights\n",
    "  \"\"\"\n",
    "\n",
    "  matmul_qk = tf.matmul(q, k, transpose_b=True)  # (..., seq_len_q, seq_len_k)\n",
    "  \n",
    "  # scale matmul_qk\n",
    "  dk = tf.cast(tf.shape(k)[-1], tf.float32)\n",
    "  scaled_attention_logits = matmul_qk / tf.math.sqrt(dk)\n",
    "\n",
    "  # add the mask to the scaled tensor.\n",
    "  if mask is not None:\n",
    "    scaled_attention_logits += (mask * -1e9)  \n",
    "\n",
    "  # softmax is normalized on the last axis (seq_len_k) so that the scores\n",
    "  # add up to 1.\n",
    "  attention_weights = tf.nn.softmax(scaled_attention_logits, axis=-1)  # (..., seq_len_q, seq_len_k)\n",
    "\n",
    "  output = tf.matmul(attention_weights, v)  # (..., seq_len_q, depth_v)\n",
    "\n",
    "  return output, attention_weights"
   ]
  },
  {
   "cell_type": "markdown",
   "metadata": {
    "id": "FiqETnhCkoXh"
   },
   "source": [
    "As the softmax normalization is done on K, its values decide the amount of importance given to Q.\n",
    "\n",
    "The output represents the multiplication of the attention weights and the V (value) vector. This ensures that the words you want to focus on are kept as-is and the irrelevant words are flushed out."
   ]
  },
  {
   "cell_type": "code",
   "execution_count": 27,
   "metadata": {
    "id": "n90YjClyInFy"
   },
   "outputs": [],
   "source": [
    "def print_out(q, k, v):\n",
    "  temp_out, temp_attn = scaled_dot_product_attention(\n",
    "      q, k, v, None)\n",
    "  print ('Attention weights are:')\n",
    "  print (temp_attn)\n",
    "  print ('Output is:')\n",
    "  print (temp_out)"
   ]
  },
  {
   "cell_type": "code",
   "execution_count": 28,
   "metadata": {
    "colab": {
     "base_uri": "https://localhost:8080/"
    },
    "id": "yAzUAf2DPlNt",
    "outputId": "4f614ff2-a52f-4c81-f5d2-f35876de949d"
   },
   "outputs": [
    {
     "name": "stdout",
     "output_type": "stream",
     "text": [
      "Attention weights are:\n",
      "tf.Tensor([[0. 1. 0. 0.]], shape=(1, 4), dtype=float32)\n",
      "Output is:\n",
      "tf.Tensor([[10.  0.]], shape=(1, 2), dtype=float32)\n"
     ]
    }
   ],
   "source": [
    "np.set_printoptions(suppress=True)\n",
    "\n",
    "temp_k = tf.constant([[10,0,0],\n",
    "                      [0,10,0],\n",
    "                      [0,0,10],\n",
    "                      [0,0,10]], dtype=tf.float32)  # (4, 3)\n",
    "\n",
    "temp_v = tf.constant([[   1,0],\n",
    "                      [  10,0],\n",
    "                      [ 100,5],\n",
    "                      [1000,6]], dtype=tf.float32)  # (4, 2)\n",
    "\n",
    "# This `query` aligns with the second `key`,\n",
    "# so the second `value` is returned.\n",
    "temp_q = tf.constant([[0, 10, 0]], dtype=tf.float32)  # (1, 3)\n",
    "print_out(temp_q, temp_k, temp_v)"
   ]
  },
  {
   "cell_type": "code",
   "execution_count": 29,
   "metadata": {
    "colab": {
     "base_uri": "https://localhost:8080/"
    },
    "id": "zg6k-fGhgXra",
    "outputId": "82585d6b-4d8c-411b-c868-7b6343409b0c"
   },
   "outputs": [
    {
     "name": "stdout",
     "output_type": "stream",
     "text": [
      "Attention weights are:\n",
      "tf.Tensor([[0.  0.  0.5 0.5]], shape=(1, 4), dtype=float32)\n",
      "Output is:\n",
      "tf.Tensor([[550.    5.5]], shape=(1, 2), dtype=float32)\n"
     ]
    }
   ],
   "source": [
    "# This query aligns with a repeated key (third and fourth), \n",
    "# so all associated values get averaged.\n",
    "temp_q = tf.constant([[0, 0, 10]], dtype=tf.float32)  # (1, 3)\n",
    "print_out(temp_q, temp_k, temp_v)"
   ]
  },
  {
   "cell_type": "code",
   "execution_count": 30,
   "metadata": {
    "colab": {
     "base_uri": "https://localhost:8080/"
    },
    "id": "UAq3YOzUgXhb",
    "outputId": "c38b7220-1ced-4987-e510-f34c4f12fe69"
   },
   "outputs": [
    {
     "name": "stdout",
     "output_type": "stream",
     "text": [
      "Attention weights are:\n",
      "tf.Tensor([[0.5 0.5 0.  0. ]], shape=(1, 4), dtype=float32)\n",
      "Output is:\n",
      "tf.Tensor([[5.5 0. ]], shape=(1, 2), dtype=float32)\n"
     ]
    }
   ],
   "source": [
    "# This query aligns equally with the first and second key, \n",
    "# so their values get averaged.\n",
    "temp_q = tf.constant([[10, 10, 0]], dtype=tf.float32)  # (1, 3)\n",
    "print_out(temp_q, temp_k, temp_v)"
   ]
  },
  {
   "cell_type": "markdown",
   "metadata": {
    "id": "aOz-4_XIhaTP"
   },
   "source": [
    "Pass all the queries together."
   ]
  },
  {
   "cell_type": "code",
   "execution_count": 31,
   "metadata": {
    "colab": {
     "base_uri": "https://localhost:8080/"
    },
    "id": "6dlU8Tm-hYrF",
    "outputId": "4f80eeaf-12c1-4819-ad59-d39bcab1bb2c"
   },
   "outputs": [
    {
     "name": "stdout",
     "output_type": "stream",
     "text": [
      "Attention weights are:\n",
      "tf.Tensor(\n",
      "[[0.  0.  0.5 0.5]\n",
      " [0.  1.  0.  0. ]\n",
      " [0.5 0.5 0.  0. ]], shape=(3, 4), dtype=float32)\n",
      "Output is:\n",
      "tf.Tensor(\n",
      "[[550.    5.5]\n",
      " [ 10.    0. ]\n",
      " [  5.5   0. ]], shape=(3, 2), dtype=float32)\n"
     ]
    }
   ],
   "source": [
    "temp_q = tf.constant([[0, 0, 10], [0, 10, 0], [10, 10, 0]], dtype=tf.float32)  # (3, 3)\n",
    "print_out(temp_q, temp_k, temp_v)"
   ]
  },
  {
   "cell_type": "markdown",
   "metadata": {
    "id": "kmzGPEy64qmA"
   },
   "source": [
    "## Multi-head attention"
   ]
  },
  {
   "cell_type": "markdown",
   "metadata": {
    "id": "fz5BMC8Kaoqo"
   },
   "source": [
    "<img src=\"https://www.tensorflow.org/images/tutorials/transformer/multi_head_attention.png\" width=\"500\" alt=\"multi-head attention\">\n",
    "\n",
    "\n",
    "Multi-head attention consists of four parts:\n",
    "*    Linear layers and split into heads.\n",
    "*    Scaled dot-product attention.\n",
    "*    Concatenation of heads.\n",
    "*    Final linear layer."
   ]
  },
  {
   "cell_type": "markdown",
   "metadata": {
    "id": "JPmbr6F1C-v_"
   },
   "source": [
    "Each multi-head attention block gets three inputs; Q (query), K (key), V (value). These are put through linear (Dense) layers and split up into multiple heads. \n",
    "\n",
    "The `scaled_dot_product_attention` defined above is applied to each head (broadcasted for efficiency). An appropriate mask must be used in the attention step.  The attention output for each head is then concatenated (using `tf.transpose`, and `tf.reshape`) and put through a final `Dense` layer.\n",
    "\n",
    "Instead of one single attention head, Q, K, and V are split into multiple heads because it allows the model to jointly attend to information at different positions from different representational spaces. After the split each head has a reduced dimensionality, so the total computation cost is the same as a single head attention with full dimensionality."
   ]
  },
  {
   "cell_type": "code",
   "execution_count": 32,
   "metadata": {
    "id": "BSV3PPKsYecw"
   },
   "outputs": [],
   "source": [
    "class MultiHeadAttention(tf.keras.layers.Layer):\n",
    "  def __init__(self, d_model, num_heads):\n",
    "    super(MultiHeadAttention, self).__init__()\n",
    "    self.num_heads = num_heads\n",
    "    self.d_model = d_model\n",
    "    \n",
    "    assert d_model % self.num_heads == 0\n",
    "    \n",
    "    self.depth = d_model // self.num_heads\n",
    "    \n",
    "    self.wq = tf.keras.layers.Dense(d_model)\n",
    "    self.wk = tf.keras.layers.Dense(d_model)\n",
    "    self.wv = tf.keras.layers.Dense(d_model)\n",
    "    \n",
    "    self.dense = tf.keras.layers.Dense(d_model)\n",
    "        \n",
    "  def split_heads(self, x, batch_size):\n",
    "    \"\"\"Split the last dimension into (num_heads, depth).\n",
    "    Transpose the result such that the shape is (batch_size, num_heads, seq_len, depth)\n",
    "    \"\"\"\n",
    "    x = tf.reshape(x, (batch_size, -1, self.num_heads, self.depth))\n",
    "    return tf.transpose(x, perm=[0, 2, 1, 3])\n",
    "    \n",
    "  def call(self, v, k, q, mask):\n",
    "    batch_size = tf.shape(q)[0]\n",
    "    \n",
    "    q = self.wq(q)  # (batch_size, seq_len, d_model)\n",
    "    k = self.wk(k)  # (batch_size, seq_len, d_model)\n",
    "    v = self.wv(v)  # (batch_size, seq_len, d_model)\n",
    "    \n",
    "    q = self.split_heads(q, batch_size)  # (batch_size, num_heads, seq_len_q, depth)\n",
    "    k = self.split_heads(k, batch_size)  # (batch_size, num_heads, seq_len_k, depth)\n",
    "    v = self.split_heads(v, batch_size)  # (batch_size, num_heads, seq_len_v, depth)\n",
    "    \n",
    "    # scaled_attention.shape == (batch_size, num_heads, seq_len_q, depth)\n",
    "    # attention_weights.shape == (batch_size, num_heads, seq_len_q, seq_len_k)\n",
    "    scaled_attention, attention_weights = scaled_dot_product_attention(\n",
    "        q, k, v, mask)\n",
    "    \n",
    "    scaled_attention = tf.transpose(scaled_attention, perm=[0, 2, 1, 3])  # (batch_size, seq_len_q, num_heads, depth)\n",
    "\n",
    "    concat_attention = tf.reshape(scaled_attention, \n",
    "                                  (batch_size, -1, self.d_model))  # (batch_size, seq_len_q, d_model)\n",
    "\n",
    "    output = self.dense(concat_attention)  # (batch_size, seq_len_q, d_model)\n",
    "        \n",
    "    return output, attention_weights"
   ]
  },
  {
   "cell_type": "markdown",
   "metadata": {
    "id": "0D8FJue5lDyZ"
   },
   "source": [
    "Create a `MultiHeadAttention` layer to try out. At each location in the sequence, `y`, the `MultiHeadAttention` runs all 8 attention heads across all other locations in the sequence, returning a new vector of the same length at each location."
   ]
  },
  {
   "cell_type": "code",
   "execution_count": 33,
   "metadata": {
    "colab": {
     "base_uri": "https://localhost:8080/"
    },
    "id": "Hu94p-_-2_BX",
    "outputId": "8f890a1d-970e-40d3-ee5d-15d4fa4ac349"
   },
   "outputs": [
    {
     "data": {
      "text/plain": [
       "(TensorShape([1, 60, 512]), TensorShape([1, 8, 60, 60]))"
      ]
     },
     "execution_count": 33,
     "metadata": {},
     "output_type": "execute_result"
    }
   ],
   "source": [
    "temp_mha = MultiHeadAttention(d_model=512, num_heads=8)\n",
    "y = tf.random.uniform((1, 60, 512))  # (batch_size, encoder_sequence, d_model)\n",
    "out, attn = temp_mha(y, k=y, q=y, mask=None)\n",
    "out.shape, attn.shape"
   ]
  },
  {
   "cell_type": "markdown",
   "metadata": {
    "id": "RdDqGayx67vv"
   },
   "source": [
    "## Point wise feed forward network"
   ]
  },
  {
   "cell_type": "markdown",
   "metadata": {
    "id": "gBqzJXGfHK3X"
   },
   "source": [
    "Point wise feed forward network consists of two fully-connected layers with a ReLU activation in between."
   ]
  },
  {
   "cell_type": "code",
   "execution_count": 34,
   "metadata": {
    "id": "ET7xLt0yCT6Z"
   },
   "outputs": [],
   "source": [
    "def point_wise_feed_forward_network(d_model, dff):\n",
    "  return tf.keras.Sequential([\n",
    "      tf.keras.layers.Dense(dff, activation='relu'),  # (batch_size, seq_len, dff)\n",
    "      tf.keras.layers.Dense(d_model)  # (batch_size, seq_len, d_model)\n",
    "  ])"
   ]
  },
  {
   "cell_type": "code",
   "execution_count": 35,
   "metadata": {
    "colab": {
     "base_uri": "https://localhost:8080/"
    },
    "id": "mytb1lPyOHLB",
    "outputId": "b9ba0e9b-1dd9-47b2-be13-3ec500cc6d57"
   },
   "outputs": [
    {
     "data": {
      "text/plain": [
       "TensorShape([64, 50, 512])"
      ]
     },
     "execution_count": 35,
     "metadata": {},
     "output_type": "execute_result"
    }
   ],
   "source": [
    "sample_ffn = point_wise_feed_forward_network(512, 2048)\n",
    "sample_ffn(tf.random.uniform((64, 50, 512))).shape"
   ]
  },
  {
   "cell_type": "markdown",
   "metadata": {
    "id": "7e7hKcxn6-zd"
   },
   "source": [
    "## Encoder and decoder"
   ]
  },
  {
   "cell_type": "markdown",
   "metadata": {
    "id": "yScbC0MUH8dS"
   },
   "source": [
    "<img src=\"https://www.tensorflow.org/images/tutorials/transformer/transformer.png\" width=\"600\" alt=\"transformer\">"
   ]
  },
  {
   "cell_type": "markdown",
   "metadata": {
    "id": "MfYJG-Kvgwy2"
   },
   "source": [
    "The transformer model follows the same general pattern as a standard [sequence to sequence with attention model](nmt_with_attention.ipynb). \n",
    "\n",
    "* The input sentence is passed through `N` encoder layers that generates an output for each word/token in the sequence.\n",
    "* The decoder attends on the encoder's output and its own input (self-attention) to predict the next word. "
   ]
  },
  {
   "cell_type": "markdown",
   "metadata": {
    "id": "QFv-FNYUmvpn"
   },
   "source": [
    "### Encoder layer\n",
    "\n",
    "Each encoder layer consists of sublayers:\n",
    "\n",
    "1.   Multi-head attention (with padding mask) \n",
    "2.    Point wise feed forward networks. \n",
    "\n",
    "Each of these sublayers has a residual connection around it followed by a layer normalization. Residual connections help in avoiding the vanishing gradient problem in deep networks.\n",
    "\n",
    "The output of each sublayer is `LayerNorm(x + Sublayer(x))`. The normalization is done on the `d_model` (last) axis. There are N encoder layers in the transformer."
   ]
  },
  {
   "cell_type": "code",
   "execution_count": 36,
   "metadata": {
    "id": "ncyS-Ms3i2x_"
   },
   "outputs": [],
   "source": [
    "class EncoderLayer(tf.keras.layers.Layer):\n",
    "  def __init__(self, d_model, num_heads, dff, rate=0.1):\n",
    "    super(EncoderLayer, self).__init__()\n",
    "\n",
    "    self.mha = MultiHeadAttention(d_model, num_heads)\n",
    "    self.ffn = point_wise_feed_forward_network(d_model, dff)\n",
    "\n",
    "    self.layernorm1 = tf.keras.layers.LayerNormalization(epsilon=1e-6)\n",
    "    self.layernorm2 = tf.keras.layers.LayerNormalization(epsilon=1e-6)\n",
    "    \n",
    "    self.dropout1 = tf.keras.layers.Dropout(rate)\n",
    "    self.dropout2 = tf.keras.layers.Dropout(rate)\n",
    "    \n",
    "  def call(self, x, training, mask):\n",
    "\n",
    "    attn_output, _ = self.mha(x, x, x, mask)  # (batch_size, input_seq_len, d_model)\n",
    "    attn_output = self.dropout1(attn_output, training=training)\n",
    "    out1 = self.layernorm1(x + attn_output)  # (batch_size, input_seq_len, d_model)\n",
    "    \n",
    "    ffn_output = self.ffn(out1)  # (batch_size, input_seq_len, d_model)\n",
    "    ffn_output = self.dropout2(ffn_output, training=training)\n",
    "    out2 = self.layernorm2(out1 + ffn_output)  # (batch_size, input_seq_len, d_model)\n",
    "    \n",
    "    return out2"
   ]
  },
  {
   "cell_type": "code",
   "execution_count": 37,
   "metadata": {
    "colab": {
     "base_uri": "https://localhost:8080/"
    },
    "id": "AzZRXdO0mI48",
    "outputId": "f782e377-bc21-4e2b-9088-32b8538f85c9"
   },
   "outputs": [
    {
     "data": {
      "text/plain": [
       "TensorShape([64, 43, 512])"
      ]
     },
     "execution_count": 37,
     "metadata": {},
     "output_type": "execute_result"
    }
   ],
   "source": [
    "sample_encoder_layer = EncoderLayer(512, 8, 2048)\n",
    "\n",
    "sample_encoder_layer_output = sample_encoder_layer(\n",
    "    tf.random.uniform((64, 43, 512)), False, None)\n",
    "\n",
    "sample_encoder_layer_output.shape  # (batch_size, input_seq_len, d_model)"
   ]
  },
  {
   "cell_type": "markdown",
   "metadata": {
    "id": "6LO_48Owmx_o"
   },
   "source": [
    "### Decoder layer\n",
    "\n",
    "Each decoder layer consists of sublayers:\n",
    "\n",
    "1.   Masked multi-head attention (with look ahead mask and padding mask)\n",
    "2.   Multi-head attention (with padding mask). V (value) and K (key) receive the *encoder output* as inputs. Q (query) receives the *output from the masked multi-head attention sublayer.*\n",
    "3.   Point wise feed forward networks\n",
    "\n",
    "Each of these sublayers has a residual connection around it followed by a layer normalization. The output of each sublayer is `LayerNorm(x + Sublayer(x))`. The normalization is done on the `d_model` (last) axis.\n",
    "\n",
    "There are N decoder layers in the transformer.\n",
    "\n",
    "As Q receives the output from decoder's first attention block, and K receives the encoder output, the attention weights represent the importance given to the decoder's input based on the encoder's output. In other words, the decoder predicts the next word by looking at the encoder output and self-attending to its own output. See the demonstration above in the scaled dot product attention section."
   ]
  },
  {
   "cell_type": "code",
   "execution_count": 38,
   "metadata": {
    "id": "9SoX0-vd1hue"
   },
   "outputs": [],
   "source": [
    "class DecoderLayer(tf.keras.layers.Layer):\n",
    "  def __init__(self, d_model, num_heads, dff, rate=0.1):\n",
    "    super(DecoderLayer, self).__init__()\n",
    "\n",
    "    self.mha1 = MultiHeadAttention(d_model, num_heads)\n",
    "    self.mha2 = MultiHeadAttention(d_model, num_heads)\n",
    "\n",
    "    self.ffn = point_wise_feed_forward_network(d_model, dff)\n",
    " \n",
    "    self.layernorm1 = tf.keras.layers.LayerNormalization(epsilon=1e-6)\n",
    "    self.layernorm2 = tf.keras.layers.LayerNormalization(epsilon=1e-6)\n",
    "    self.layernorm3 = tf.keras.layers.LayerNormalization(epsilon=1e-6)\n",
    "    \n",
    "    self.dropout1 = tf.keras.layers.Dropout(rate)\n",
    "    self.dropout2 = tf.keras.layers.Dropout(rate)\n",
    "    self.dropout3 = tf.keras.layers.Dropout(rate)\n",
    "    \n",
    "    \n",
    "  def call(self, x, enc_output, training, \n",
    "           look_ahead_mask, padding_mask):\n",
    "    # enc_output.shape == (batch_size, input_seq_len, d_model)\n",
    "\n",
    "    attn1, attn_weights_block1 = self.mha1(x, x, x, look_ahead_mask)  # (batch_size, target_seq_len, d_model)\n",
    "    attn1 = self.dropout1(attn1, training=training)\n",
    "    out1 = self.layernorm1(attn1 + x)\n",
    "    \n",
    "    attn2, attn_weights_block2 = self.mha2(\n",
    "        enc_output, enc_output, out1, padding_mask)  # (batch_size, target_seq_len, d_model)\n",
    "    attn2 = self.dropout2(attn2, training=training)\n",
    "    out2 = self.layernorm2(attn2 + out1)  # (batch_size, target_seq_len, d_model)\n",
    "    \n",
    "    ffn_output = self.ffn(out2)  # (batch_size, target_seq_len, d_model)\n",
    "    ffn_output = self.dropout3(ffn_output, training=training)\n",
    "    out3 = self.layernorm3(ffn_output + out2)  # (batch_size, target_seq_len, d_model)\n",
    "    \n",
    "    return out3, attn_weights_block1, attn_weights_block2"
   ]
  },
  {
   "cell_type": "code",
   "execution_count": 39,
   "metadata": {
    "colab": {
     "base_uri": "https://localhost:8080/"
    },
    "id": "Ne2Bqx8k71l0",
    "outputId": "53c7b26c-e654-4dc6-ef3b-613bff14234e"
   },
   "outputs": [
    {
     "data": {
      "text/plain": [
       "TensorShape([64, 50, 512])"
      ]
     },
     "execution_count": 39,
     "metadata": {},
     "output_type": "execute_result"
    }
   ],
   "source": [
    "sample_decoder_layer = DecoderLayer(512, 8, 2048)\n",
    "\n",
    "sample_decoder_layer_output, _, _ = sample_decoder_layer(\n",
    "    tf.random.uniform((64, 50, 512)), sample_encoder_layer_output, \n",
    "    False, None, None)\n",
    "\n",
    "sample_decoder_layer_output.shape  # (batch_size, target_seq_len, d_model)"
   ]
  },
  {
   "cell_type": "markdown",
   "metadata": {
    "id": "SE1H51Ajm0q1"
   },
   "source": [
    "### Encoder\n",
    "\n",
    "The `Encoder` consists of:\n",
    "1.   Input Embedding\n",
    "2.   Positional Encoding\n",
    "3.   N encoder layers\n",
    "\n",
    "The input is put through an embedding which is summed with the positional encoding. The output of this summation is the input to the encoder layers. The output of the encoder is the input to the decoder."
   ]
  },
  {
   "cell_type": "code",
   "execution_count": 40,
   "metadata": {
    "id": "jpEox7gJ8FCI"
   },
   "outputs": [],
   "source": [
    "class Encoder(tf.keras.layers.Layer):\n",
    "  def __init__(self, num_layers, d_model, num_heads, dff, input_vocab_size,\n",
    "               maximum_position_encoding, rate=0.1):\n",
    "    super(Encoder, self).__init__()\n",
    "\n",
    "    self.d_model = d_model\n",
    "    self.num_layers = num_layers\n",
    "    \n",
    "    self.embedding = tf.keras.layers.Embedding(input_vocab_size, d_model)\n",
    "    self.pos_encoding = positional_encoding(maximum_position_encoding, \n",
    "                                            self.d_model)\n",
    "    \n",
    "    \n",
    "    self.enc_layers = [EncoderLayer(d_model, num_heads, dff, rate) \n",
    "                       for _ in range(num_layers)]\n",
    "  \n",
    "    self.dropout = tf.keras.layers.Dropout(rate)\n",
    "        \n",
    "  def call(self, x, training, mask):\n",
    "\n",
    "    seq_len = tf.shape(x)[1]\n",
    "    \n",
    "    # adding embedding and position encoding.\n",
    "    x = self.embedding(x)  # (batch_size, input_seq_len, d_model)\n",
    "    x *= tf.math.sqrt(tf.cast(self.d_model, tf.float32))\n",
    "    x += self.pos_encoding[:, :seq_len, :]\n",
    "\n",
    "    x = self.dropout(x, training=training)\n",
    "    \n",
    "    for i in range(self.num_layers):\n",
    "      x = self.enc_layers[i](x, training, mask)\n",
    "    \n",
    "    return x  # (batch_size, input_seq_len, d_model)"
   ]
  },
  {
   "cell_type": "code",
   "execution_count": 41,
   "metadata": {
    "colab": {
     "base_uri": "https://localhost:8080/"
    },
    "id": "8QG9nueFQKXx",
    "outputId": "c1c5cc6b-19bb-4190-c8d7-f605fb303c07"
   },
   "outputs": [
    {
     "name": "stdout",
     "output_type": "stream",
     "text": [
      "(64, 62, 512)\n"
     ]
    }
   ],
   "source": [
    "sample_encoder = Encoder(num_layers=2, d_model=512, num_heads=8, \n",
    "                         dff=2048, input_vocab_size=8500,\n",
    "                         maximum_position_encoding=10000)\n",
    "temp_input = tf.random.uniform((64, 62), dtype=tf.int64, minval=0, maxval=200)\n",
    "\n",
    "sample_encoder_output = sample_encoder(temp_input, training=False, mask=None)\n",
    "\n",
    "print (sample_encoder_output.shape)  # (batch_size, input_seq_len, d_model)"
   ]
  },
  {
   "cell_type": "markdown",
   "metadata": {
    "id": "p-uO6ls8m2O5"
   },
   "source": [
    "### Decoder"
   ]
  },
  {
   "cell_type": "markdown",
   "metadata": {
    "id": "ZtT7PKzrXkNr"
   },
   "source": [
    " The `Decoder` consists of:\n",
    "1.   Output Embedding\n",
    "2.   Positional Encoding\n",
    "3.   N decoder layers\n",
    "\n",
    "The target is put through an embedding which is summed with the positional encoding. The output of this summation is the input to the decoder layers. The output of the decoder is the input to the final linear layer."
   ]
  },
  {
   "cell_type": "code",
   "execution_count": 42,
   "metadata": {
    "id": "d5_d5-PLQXwY"
   },
   "outputs": [],
   "source": [
    "class Decoder(tf.keras.layers.Layer):\n",
    "  def __init__(self, num_layers, d_model, num_heads, dff, target_vocab_size,\n",
    "               maximum_position_encoding, rate=0.1):\n",
    "    super(Decoder, self).__init__()\n",
    "\n",
    "    self.d_model = d_model\n",
    "    self.num_layers = num_layers\n",
    "    \n",
    "    self.embedding = tf.keras.layers.Embedding(target_vocab_size, d_model)\n",
    "    self.pos_encoding = positional_encoding(maximum_position_encoding, d_model)\n",
    "    \n",
    "    self.dec_layers = [DecoderLayer(d_model, num_heads, dff, rate) \n",
    "                       for _ in range(num_layers)]\n",
    "    self.dropout = tf.keras.layers.Dropout(rate)\n",
    "    \n",
    "  def call(self, x, enc_output, training, \n",
    "           look_ahead_mask, padding_mask):\n",
    "\n",
    "    seq_len = tf.shape(x)[1]\n",
    "    attention_weights = {}\n",
    "    \n",
    "    x = self.embedding(x)  # (batch_size, target_seq_len, d_model)\n",
    "    x *= tf.math.sqrt(tf.cast(self.d_model, tf.float32))\n",
    "    x += self.pos_encoding[:, :seq_len, :]\n",
    "    \n",
    "    x = self.dropout(x, training=training)\n",
    "\n",
    "    for i in range(self.num_layers):\n",
    "      x, block1, block2 = self.dec_layers[i](x, enc_output, training,\n",
    "                                             look_ahead_mask, padding_mask)\n",
    "      \n",
    "      attention_weights['decoder_layer{}_block1'.format(i+1)] = block1\n",
    "      attention_weights['decoder_layer{}_block2'.format(i+1)] = block2\n",
    "    \n",
    "    # x.shape == (batch_size, target_seq_len, d_model)\n",
    "    return x, attention_weights"
   ]
  },
  {
   "cell_type": "code",
   "execution_count": 43,
   "metadata": {
    "colab": {
     "base_uri": "https://localhost:8080/"
    },
    "id": "a1jXoAMRZyvu",
    "outputId": "49e16979-6f48-4c6c-c307-0b95259d725e"
   },
   "outputs": [
    {
     "data": {
      "text/plain": [
       "(TensorShape([64, 26, 512]), TensorShape([64, 8, 26, 62]))"
      ]
     },
     "execution_count": 43,
     "metadata": {},
     "output_type": "execute_result"
    }
   ],
   "source": [
    "sample_decoder = Decoder(num_layers=2, d_model=512, num_heads=8, \n",
    "                         dff=2048, target_vocab_size=8000,\n",
    "                         maximum_position_encoding=5000)\n",
    "temp_input = tf.random.uniform((64, 26), dtype=tf.int64, minval=0, maxval=200)\n",
    "\n",
    "output, attn = sample_decoder(temp_input, \n",
    "                              enc_output=sample_encoder_output, \n",
    "                              training=False,\n",
    "                              look_ahead_mask=None, \n",
    "                              padding_mask=None)\n",
    "\n",
    "output.shape, attn['decoder_layer2_block2'].shape"
   ]
  },
  {
   "cell_type": "markdown",
   "metadata": {
    "id": "y54xnJnuYgJ7"
   },
   "source": [
    "## Create the Transformer"
   ]
  },
  {
   "cell_type": "markdown",
   "metadata": {
    "id": "uERO1y54cOKq"
   },
   "source": [
    "Transformer consists of the encoder, decoder and a final linear layer. The output of the decoder is the input to the linear layer and its output is returned."
   ]
  },
  {
   "cell_type": "code",
   "execution_count": 44,
   "metadata": {
    "id": "PED3bIpOYkBu"
   },
   "outputs": [],
   "source": [
    "class Transformer(tf.keras.Model):\n",
    "  def __init__(self, num_layers, d_model, num_heads, dff, input_vocab_size, \n",
    "               target_vocab_size, pe_input, pe_target, rate=0.1):\n",
    "    super(Transformer, self).__init__()\n",
    "\n",
    "    self.encoder = Encoder(num_layers, d_model, num_heads, dff, \n",
    "                           input_vocab_size, pe_input, rate)\n",
    "\n",
    "    self.decoder = Decoder(num_layers, d_model, num_heads, dff, \n",
    "                           target_vocab_size, pe_target, rate)\n",
    "\n",
    "    self.final_layer = tf.keras.layers.Dense(target_vocab_size)\n",
    "    \n",
    "  def call(self, inp, tar, training, enc_padding_mask, \n",
    "           look_ahead_mask, dec_padding_mask):\n",
    "\n",
    "    enc_output = self.encoder(inp, training, enc_padding_mask)  # (batch_size, inp_seq_len, d_model)\n",
    "    \n",
    "    # dec_output.shape == (batch_size, tar_seq_len, d_model)\n",
    "    dec_output, attention_weights = self.decoder(\n",
    "        tar, enc_output, training, look_ahead_mask, dec_padding_mask)\n",
    "    \n",
    "    final_output = self.final_layer(dec_output)  # (batch_size, tar_seq_len, target_vocab_size)\n",
    "    \n",
    "    return final_output, attention_weights"
   ]
  },
  {
   "cell_type": "code",
   "execution_count": 45,
   "metadata": {
    "colab": {
     "base_uri": "https://localhost:8080/"
    },
    "id": "tJ4fbQcIkHW1",
    "outputId": "6bc6155a-02f0-44ff-b04d-5ab4b4c387cc"
   },
   "outputs": [
    {
     "data": {
      "text/plain": [
       "TensorShape([64, 36, 8000])"
      ]
     },
     "execution_count": 45,
     "metadata": {},
     "output_type": "execute_result"
    }
   ],
   "source": [
    "sample_transformer = Transformer(\n",
    "    num_layers=2, d_model=512, num_heads=8, dff=2048, \n",
    "    input_vocab_size=8500, target_vocab_size=8000, \n",
    "    pe_input=10000, pe_target=6000)\n",
    "\n",
    "temp_input = tf.random.uniform((64, 38), dtype=tf.int64, minval=0, maxval=200)\n",
    "temp_target = tf.random.uniform((64, 36), dtype=tf.int64, minval=0, maxval=200)\n",
    "\n",
    "fn_out, _ = sample_transformer(temp_input, temp_target, training=False, \n",
    "                               enc_padding_mask=None, \n",
    "                               look_ahead_mask=None,\n",
    "                               dec_padding_mask=None)\n",
    "\n",
    "fn_out.shape  # (batch_size, tar_seq_len, target_vocab_size)"
   ]
  },
  {
   "cell_type": "markdown",
   "metadata": {
    "id": "wsINyf1VEQLC"
   },
   "source": [
    "## Set hyperparameters"
   ]
  },
  {
   "cell_type": "markdown",
   "metadata": {
    "id": "zVjWCxFNcgbt"
   },
   "source": [
    "To keep this example small and relatively fast, the values for *num_layers, d_model, and dff* have been reduced. \n",
    "\n",
    "The values used in the base model of transformer were; *num_layers=6*, *d_model = 512*, *dff = 2048*. See the [paper](https://arxiv.org/abs/1706.03762) for all the other versions of the transformer.\n",
    "\n",
    "Note: By changing the values below, you can get the model that achieved state of the art on many tasks."
   ]
  },
  {
   "cell_type": "code",
   "execution_count": 46,
   "metadata": {
    "id": "lnJn5SLA2ahP"
   },
   "outputs": [],
   "source": [
    "num_layers = 4\n",
    "d_model = 128\n",
    "dff = 512\n",
    "num_heads = 8\n",
    "\n",
    "input_vocab_size = input_tokenizer.vocab_size + 2\n",
    "target_vocab_size = target_tokenizer.vocab_size + 2\n",
    "dropout_rate = 0.1"
   ]
  },
  {
   "cell_type": "markdown",
   "metadata": {
    "id": "xYEGhEOtzn5W"
   },
   "source": [
    "## Optimizer"
   ]
  },
  {
   "cell_type": "markdown",
   "metadata": {
    "id": "GOmWW--yP3zx"
   },
   "source": [
    "Use the Adam optimizer with a custom learning rate scheduler according to the formula in the [paper](https://arxiv.org/abs/1706.03762).\n",
    "\n",
    "$$\\Large{lrate = d_{model}^{-0.5} * min(step{\\_}num^{-0.5}, step{\\_}num * warmup{\\_}steps^{-1.5})}$$\n"
   ]
  },
  {
   "cell_type": "code",
   "execution_count": 47,
   "metadata": {
    "id": "iYQdOO1axwEI"
   },
   "outputs": [],
   "source": [
    "class CustomSchedule(tf.keras.optimizers.schedules.LearningRateSchedule):\n",
    "  def __init__(self, d_model, warmup_steps=4000):\n",
    "    super(CustomSchedule, self).__init__()\n",
    "    \n",
    "    self.d_model = d_model\n",
    "    self.d_model = tf.cast(self.d_model, tf.float32)\n",
    "\n",
    "    self.warmup_steps = warmup_steps\n",
    "    \n",
    "  def __call__(self, step):\n",
    "    arg1 = tf.math.rsqrt(step)\n",
    "    arg2 = step * (self.warmup_steps ** -1.5)\n",
    "    \n",
    "    return tf.math.rsqrt(self.d_model) * tf.math.minimum(arg1, arg2)"
   ]
  },
  {
   "cell_type": "code",
   "execution_count": 48,
   "metadata": {
    "id": "7r4scdulztRx"
   },
   "outputs": [],
   "source": [
    "learning_rate = CustomSchedule(d_model)\n",
    "\n",
    "optimizer = tf.keras.optimizers.Adam(learning_rate, beta_1=0.9, beta_2=0.98, \n",
    "                                     epsilon=1e-9)"
   ]
  },
  {
   "cell_type": "code",
   "execution_count": 49,
   "metadata": {
    "colab": {
     "base_uri": "https://localhost:8080/",
     "height": 296
    },
    "id": "f33ZCgvHpPdG",
    "outputId": "d32a1d68-c675-424d-ddc5-855608622ba6"
   },
   "outputs": [
    {
     "data": {
      "text/plain": [
       "Text(0.5, 0, 'Train Step')"
      ]
     },
     "execution_count": 49,
     "metadata": {},
     "output_type": "execute_result"
    },
    {
     "data": {
      "image/png": "[encoded data removed]",
      "text/plain": [
       "<Figure size 432x288 with 1 Axes>"
      ]
     },
     "metadata": {
      "needs_background": "light"
     },
     "output_type": "display_data"
    }
   ],
   "source": [
    "temp_learning_rate_schedule = CustomSchedule(d_model)\n",
    "\n",
    "plt.plot(temp_learning_rate_schedule(tf.range(40000, dtype=tf.float32)))\n",
    "plt.ylabel(\"Learning Rate\")\n",
    "plt.xlabel(\"Train Step\")"
   ]
  },
  {
   "cell_type": "markdown",
   "metadata": {
    "id": "YgkDE7hzo8r5"
   },
   "source": [
    "## Loss and metrics"
   ]
  },
  {
   "cell_type": "markdown",
   "metadata": {
    "id": "oxGJtoDuYIHL"
   },
   "source": [
    "Since the target sequences are padded, it is important to apply a padding mask when calculating the loss."
   ]
  },
  {
   "cell_type": "code",
   "execution_count": 50,
   "metadata": {
    "id": "MlhsJMm0TW_B"
   },
   "outputs": [],
   "source": [
    "loss_object = tf.keras.losses.SparseCategoricalCrossentropy(\n",
    "    from_logits=True, reduction='none')"
   ]
  },
  {
   "cell_type": "code",
   "execution_count": 51,
   "metadata": {
    "id": "67oqVHiT0Eiu"
   },
   "outputs": [],
   "source": [
    "def loss_function(real, pred):\n",
    "  mask = tf.math.logical_not(tf.math.equal(real, 0))\n",
    "  loss_ = loss_object(real, pred)\n",
    "\n",
    "  mask = tf.cast(mask, dtype=loss_.dtype)\n",
    "  loss_ *= mask\n",
    "  \n",
    "  return tf.reduce_sum(loss_)/tf.reduce_sum(mask)"
   ]
  },
  {
   "cell_type": "code",
   "execution_count": 52,
   "metadata": {
    "id": "phlyxMnm-Tpx"
   },
   "outputs": [],
   "source": [
    "train_loss = tf.keras.metrics.Mean(name='train_loss')\n",
    "train_accuracy = tf.keras.metrics.SparseCategoricalAccuracy(\n",
    "    name='train_accuracy')"
   ]
  },
  {
   "cell_type": "markdown",
   "metadata": {
    "id": "aeHumfr7zmMa"
   },
   "source": [
    "## Training and checkpointing"
   ]
  },
  {
   "cell_type": "code",
   "execution_count": 53,
   "metadata": {
    "id": "UiysUa--4tOU"
   },
   "outputs": [],
   "source": [
    "transformer = Transformer(num_layers, d_model, num_heads, dff,\n",
    "                          input_vocab_size, target_vocab_size, \n",
    "                          pe_input=input_vocab_size, \n",
    "                          pe_target=target_vocab_size,\n",
    "                          rate=dropout_rate)"
   ]
  },
  {
   "cell_type": "code",
   "execution_count": 54,
   "metadata": {
    "id": "ZOJUSB1T8GjM"
   },
   "outputs": [],
   "source": [
    "def create_masks(inp, tar):\n",
    "  # Encoder padding mask\n",
    "  enc_padding_mask = create_padding_mask(inp)\n",
    "  \n",
    "  # Used in the 2nd attention block in the decoder.\n",
    "  # This padding mask is used to mask the encoder outputs.\n",
    "  dec_padding_mask = create_padding_mask(inp)\n",
    "  \n",
    "  # Used in the 1st attention block in the decoder.\n",
    "  # It is used to pad and mask future tokens in the input received by \n",
    "  # the decoder.\n",
    "  look_ahead_mask = create_look_ahead_mask(tf.shape(tar)[1])\n",
    "  dec_target_padding_mask = create_padding_mask(tar)\n",
    "  combined_mask = tf.maximum(dec_target_padding_mask, look_ahead_mask)\n",
    "  \n",
    "  return enc_padding_mask, combined_mask, dec_padding_mask"
   ]
  },
  {
   "cell_type": "markdown",
   "metadata": {
    "id": "Fzuf06YZp66w"
   },
   "source": [
    "Create the checkpoint path and the checkpoint manager. This will be used to save checkpoints every `n` epochs."
   ]
  },
  {
   "cell_type": "code",
   "execution_count": 55,
   "metadata": {
    "id": "hNhuYfllndLZ"
   },
   "outputs": [],
   "source": [
    "checkpoint_path = \"./checkpoints/train/Stable_100EPOCHS_Char\"\n",
    "\n",
    "ckpt = tf.train.Checkpoint(transformer=transformer,\n",
    "                           optimizer=optimizer)\n",
    "\n",
    "ckpt_manager = tf.train.CheckpointManager(ckpt, checkpoint_path, max_to_keep=5)\n",
    "\n",
    "# if a checkpoint exists, restore the latest checkpoint.\n",
    "if ckpt_manager.latest_checkpoint:\n",
    "  ckpt.restore(ckpt_manager.latest_checkpoint)\n",
    "  print ('Latest checkpoint restored!!')"
   ]
  },
  {
   "cell_type": "markdown",
   "metadata": {
    "id": "0Di_Yaa1gf9r"
   },
   "source": [
    "The target is divided into tar_inp and tar_real. tar_inp is passed as an input to the decoder. `tar_real` is that same input shifted by 1: At each location in `tar_input`, `tar_real` contains the  next token that should be predicted.\n",
    "\n",
    "For example, `sentence` = \"SOS A lion in the jungle is sleeping EOS\"\n",
    "\n",
    "`tar_inp` =  \"SOS A lion in the jungle is sleeping\"\n",
    "\n",
    "`tar_real` = \"A lion in the jungle is sleeping EOS\"\n",
    "\n",
    "The transformer is an auto-regressive model: it makes predictions one part at a time, and uses its output so far to decide what to do next. \n",
    "\n",
    "During training this example uses teacher-forcing (like in the [text generation tutorial](./text_generation.ipynb)). Teacher forcing is passing the true output to the next time step regardless of what the model predicts at the current time step.\n",
    "\n",
    "As the transformer predicts each word, *self-attention* allows it to look at the previous words in the input sequence to better predict the next word.\n",
    "\n",
    "To prevent the model from peeking at the expected output the model uses a look-ahead mask."
   ]
  },
  {
   "cell_type": "code",
   "execution_count": 56,
   "metadata": {
    "id": "LKpoA6q1sJFj"
   },
   "outputs": [],
   "source": [
    "EPOCHS = 100"
   ]
  },
  {
   "cell_type": "code",
   "execution_count": 57,
   "metadata": {},
   "outputs": [],
   "source": [
    "run_id = f\"StableData_{num_layers}layers_{d_model}d_{num_heads}heads_{dff}dff_{EPOCHS}EPOCHS_{YueChar}YueChar\"\n",
    "log_dir = os.path.join(os.path.join(os.getcwd(), 'log'), run_id)\n",
    "# %load_ext tensorboard\n",
    "# %tensorboard --logdir {log_dir}"
   ]
  },
  {
   "cell_type": "code",
   "execution_count": 58,
   "metadata": {
    "id": "iJwmp9OE29oj"
   },
   "outputs": [],
   "source": [
    "# The @tf.function trace-compiles train_step into a TF graph for faster\n",
    "# execution. The function specializes to the precise shape of the argument\n",
    "# tensors. To avoid re-tracing due to the variable sequence lengths or variable\n",
    "# batch sizes (the last batch is smaller), use input_signature to specify\n",
    "# more generic shapes.\n",
    "\n",
    "train_step_signature = [\n",
    "    tf.TensorSpec(shape=(None, None), dtype=tf.int64),\n",
    "    tf.TensorSpec(shape=(None, None), dtype=tf.int64),\n",
    "]\n",
    "\n",
    "@tf.function(input_signature=train_step_signature)\n",
    "def train_step(inp, tar):\n",
    "  tar_inp = tar[:, :-1]\n",
    "  tar_real = tar[:, 1:]\n",
    "  \n",
    "  enc_padding_mask, combined_mask, dec_padding_mask = create_masks(inp, tar_inp)\n",
    "  \n",
    "  with tf.GradientTape() as tape:\n",
    "    predictions, _ = transformer(inp, tar_inp, \n",
    "                                 True, \n",
    "                                 enc_padding_mask, \n",
    "                                 combined_mask, \n",
    "                                 dec_padding_mask)\n",
    "    loss = loss_function(tar_real, predictions)\n",
    "\n",
    "  gradients = tape.gradient(loss, transformer.trainable_variables)    \n",
    "  optimizer.apply_gradients(zip(gradients, transformer.trainable_variables))\n",
    "  \n",
    "  train_loss(loss)\n",
    "  train_accuracy(tar_real, predictions)"
   ]
  },
  {
   "cell_type": "code",
   "execution_count": 59,
   "metadata": {
    "colab": {
     "base_uri": "https://localhost:8080/"
    },
    "id": "bbvmaKNiznHZ",
    "outputId": "f6bc5b1f-c9b6-4cb7-839f-70abab2c8905",
    "scrolled": true
   },
   "outputs": [
    {
     "name": "stdout",
     "output_type": "stream",
     "text": [
      "Epoch 1 Batch 0 Loss 5.8028 Accuracy 0.0038\n",
      "Epoch 1 Loss 5.8028 Accuracy 0.0038\n",
      "Time taken for 1 epoch: 27.268611431121826 secs\n",
      "\n",
      "Epoch 2 Batch 0 Loss 5.7861 Accuracy 0.0019\n",
      "Epoch 2 Loss 5.7861 Accuracy 0.0019\n",
      "Time taken for 1 epoch: 0.20943999290466309 secs\n",
      "\n",
      "Epoch 3 Batch 0 Loss 5.7667 Accuracy 0.0019\n",
      "Epoch 3 Loss 5.7667 Accuracy 0.0019\n",
      "Time taken for 1 epoch: 0.21442651748657227 secs\n",
      "\n",
      "Epoch 4 Batch 0 Loss 5.8145 Accuracy 0.0019\n",
      "Epoch 4 Loss 5.8145 Accuracy 0.0019\n",
      "Time taken for 1 epoch: 0.22043323516845703 secs\n",
      "\n",
      "Epoch 5 Batch 0 Loss 5.8518 Accuracy 0.0019\n",
      "Saving checkpoint for epoch 5 at ./checkpoints/train/Stable_100EPOCHS_Char\\ckpt-1\n",
      "Epoch 5 Loss 5.8518 Accuracy 0.0019\n",
      "Time taken for 1 epoch: 0.608001708984375 secs\n",
      "\n",
      "Epoch 6 Batch 0 Loss 5.8131 Accuracy 0.0000\n",
      "Epoch 6 Loss 5.8131 Accuracy 0.0000\n",
      "Time taken for 1 epoch: 0.2030317783355713 secs\n",
      "\n",
      "Epoch 7 Batch 0 Loss 5.8311 Accuracy 0.0019\n",
      "Epoch 7 Loss 5.8311 Accuracy 0.0019\n",
      "Time taken for 1 epoch: 0.22004389762878418 secs\n",
      "\n",
      "Epoch 8 Batch 0 Loss 5.8060 Accuracy 0.0000\n",
      "Epoch 8 Loss 5.8060 Accuracy 0.0000\n",
      "Time taken for 1 epoch: 0.22102117538452148 secs\n",
      "\n",
      "Epoch 9 Batch 0 Loss 5.8281 Accuracy 0.0019\n",
      "Epoch 9 Loss 5.8281 Accuracy 0.0019\n",
      "Time taken for 1 epoch: 0.21088957786560059 secs\n",
      "\n",
      "Epoch 10 Batch 0 Loss 5.7697 Accuracy 0.0019\n",
      "Saving checkpoint for epoch 10 at ./checkpoints/train/Stable_100EPOCHS_Char\\ckpt-2\n",
      "Epoch 10 Loss 5.7697 Accuracy 0.0019\n",
      "Time taken for 1 epoch: 0.6090409755706787 secs\n",
      "\n",
      "Epoch 11 Batch 0 Loss 5.8462 Accuracy 0.0019\n",
      "Epoch 11 Loss 5.8462 Accuracy 0.0019\n",
      "Time taken for 1 epoch: 0.20496463775634766 secs\n",
      "\n",
      "Epoch 12 Batch 0 Loss 5.7570 Accuracy 0.0038\n",
      "Epoch 12 Loss 5.7570 Accuracy 0.0038\n",
      "Time taken for 1 epoch: 0.22445249557495117 secs\n",
      "\n",
      "Epoch 13 Batch 0 Loss 5.8308 Accuracy 0.0019\n",
      "Epoch 13 Loss 5.8308 Accuracy 0.0019\n",
      "Time taken for 1 epoch: 0.2563154697418213 secs\n",
      "\n",
      "Epoch 14 Batch 0 Loss 5.8112 Accuracy 0.0000\n",
      "Epoch 14 Loss 5.8112 Accuracy 0.0000\n",
      "Time taken for 1 epoch: 0.22973251342773438 secs\n",
      "\n",
      "Epoch 15 Batch 0 Loss 5.6760 Accuracy 0.0038\n",
      "Saving checkpoint for epoch 15 at ./checkpoints/train/Stable_100EPOCHS_Char\\ckpt-3\n",
      "Epoch 15 Loss 5.6760 Accuracy 0.0038\n",
      "Time taken for 1 epoch: 0.6594033241271973 secs\n",
      "\n",
      "Epoch 16 Batch 0 Loss 5.7596 Accuracy 0.0000\n",
      "Epoch 16 Loss 5.7596 Accuracy 0.0000\n",
      "Time taken for 1 epoch: 0.27880096435546875 secs\n",
      "\n",
      "Epoch 17 Batch 0 Loss 5.7170 Accuracy 0.0000\n",
      "Epoch 17 Loss 5.7170 Accuracy 0.0000\n",
      "Time taken for 1 epoch: 0.259202241897583 secs\n",
      "\n",
      "Epoch 18 Batch 0 Loss 5.6498 Accuracy 0.0019\n",
      "Epoch 18 Loss 5.6498 Accuracy 0.0019\n",
      "Time taken for 1 epoch: 0.22140765190124512 secs\n",
      "\n",
      "Epoch 19 Batch 0 Loss 5.7162 Accuracy 0.0019\n",
      "Epoch 19 Loss 5.7162 Accuracy 0.0019\n",
      "Time taken for 1 epoch: 0.24640774726867676 secs\n",
      "\n",
      "Epoch 20 Batch 0 Loss 5.6869 Accuracy 0.0019\n",
      "Saving checkpoint for epoch 20 at ./checkpoints/train/Stable_100EPOCHS_Char\\ckpt-4\n",
      "Epoch 20 Loss 5.6869 Accuracy 0.0019\n",
      "Time taken for 1 epoch: 0.6801910400390625 secs\n",
      "\n",
      "Epoch 21 Batch 0 Loss 5.7171 Accuracy 0.0000\n",
      "Epoch 21 Loss 5.7171 Accuracy 0.0000\n",
      "Time taken for 1 epoch: 0.21884465217590332 secs\n",
      "\n",
      "Epoch 22 Batch 0 Loss 5.6764 Accuracy 0.0019\n",
      "Epoch 22 Loss 5.6764 Accuracy 0.0019\n",
      "Time taken for 1 epoch: 0.21612811088562012 secs\n",
      "\n",
      "Epoch 23 Batch 0 Loss 5.6291 Accuracy 0.0000\n",
      "Epoch 23 Loss 5.6291 Accuracy 0.0000\n",
      "Time taken for 1 epoch: 0.225907564163208 secs\n",
      "\n",
      "Epoch 24 Batch 0 Loss 5.6142 Accuracy 0.0038\n",
      "Epoch 24 Loss 5.6142 Accuracy 0.0038\n",
      "Time taken for 1 epoch: 0.21693181991577148 secs\n",
      "\n",
      "Epoch 25 Batch 0 Loss 5.5895 Accuracy 0.0000\n",
      "Saving checkpoint for epoch 25 at ./checkpoints/train/Stable_100EPOCHS_Char\\ckpt-5\n",
      "Epoch 25 Loss 5.5895 Accuracy 0.0000\n",
      "Time taken for 1 epoch: 0.6169803142547607 secs\n",
      "\n",
      "Epoch 26 Batch 0 Loss 5.6536 Accuracy 0.0000\n",
      "Epoch 26 Loss 5.6536 Accuracy 0.0000\n",
      "Time taken for 1 epoch: 0.20046234130859375 secs\n",
      "\n",
      "Epoch 27 Batch 0 Loss 5.5571 Accuracy 0.0038\n",
      "Epoch 27 Loss 5.5571 Accuracy 0.0038\n",
      "Time taken for 1 epoch: 0.2403576374053955 secs\n",
      "\n",
      "Epoch 28 Batch 0 Loss 5.5433 Accuracy 0.0038\n",
      "Epoch 28 Loss 5.5433 Accuracy 0.0038\n",
      "Time taken for 1 epoch: 0.22240662574768066 secs\n",
      "\n",
      "Epoch 29 Batch 0 Loss 5.5752 Accuracy 0.0077\n",
      "Epoch 29 Loss 5.5752 Accuracy 0.0077\n",
      "Time taken for 1 epoch: 0.250338077545166 secs\n",
      "\n",
      "Epoch 30 Batch 0 Loss 5.5338 Accuracy 0.0038\n",
      "Saving checkpoint for epoch 30 at ./checkpoints/train/Stable_100EPOCHS_Char\\ckpt-6\n",
      "Epoch 30 Loss 5.5338 Accuracy 0.0038\n",
      "Time taken for 1 epoch: 0.7688779830932617 secs\n",
      "\n",
      "Epoch 31 Batch 0 Loss 5.4927 Accuracy 0.0038\n",
      "Epoch 31 Loss 5.4927 Accuracy 0.0038\n",
      "Time taken for 1 epoch: 0.21992111206054688 secs\n",
      "\n",
      "Epoch 32 Batch 0 Loss 5.4689 Accuracy 0.0172\n",
      "Epoch 32 Loss 5.4689 Accuracy 0.0172\n",
      "Time taken for 1 epoch: 0.23143601417541504 secs\n",
      "\n",
      "Epoch 33 Batch 0 Loss 5.4995 Accuracy 0.0153\n",
      "Epoch 33 Loss 5.4995 Accuracy 0.0153\n",
      "Time taken for 1 epoch: 0.21847939491271973 secs\n",
      "\n",
      "Epoch 34 Batch 0 Loss 5.4773 Accuracy 0.0115\n",
      "Epoch 34 Loss 5.4773 Accuracy 0.0115\n",
      "Time taken for 1 epoch: 0.22391152381896973 secs\n",
      "\n",
      "Epoch 35 Batch 0 Loss 5.4374 Accuracy 0.0268\n",
      "Saving checkpoint for epoch 35 at ./checkpoints/train/Stable_100EPOCHS_Char\\ckpt-7\n",
      "Epoch 35 Loss 5.4374 Accuracy 0.0268\n",
      "Time taken for 1 epoch: 0.6602373123168945 secs\n",
      "\n",
      "Epoch 36 Batch 0 Loss 5.4608 Accuracy 0.0249\n",
      "Epoch 36 Loss 5.4608 Accuracy 0.0249\n",
      "Time taken for 1 epoch: 0.23189234733581543 secs\n",
      "\n",
      "Epoch 37 Batch 0 Loss 5.4466 Accuracy 0.0268\n",
      "Epoch 37 Loss 5.4466 Accuracy 0.0268\n",
      "Time taken for 1 epoch: 0.25522923469543457 secs\n",
      "\n",
      "Epoch 38 Batch 0 Loss 5.4248 Accuracy 0.0268\n",
      "Epoch 38 Loss 5.4248 Accuracy 0.0268\n",
      "Time taken for 1 epoch: 0.2563157081604004 secs\n",
      "\n",
      "Epoch 39 Batch 0 Loss 5.3971 Accuracy 0.0268\n",
      "Epoch 39 Loss 5.3971 Accuracy 0.0268\n",
      "Time taken for 1 epoch: 0.22420740127563477 secs\n",
      "\n",
      "Epoch 40 Batch 0 Loss 5.4225 Accuracy 0.0326\n",
      "Saving checkpoint for epoch 40 at ./checkpoints/train/Stable_100EPOCHS_Char\\ckpt-8\n",
      "Epoch 40 Loss 5.4225 Accuracy 0.0326\n",
      "Time taken for 1 epoch: 0.5884509086608887 secs\n",
      "\n",
      "Epoch 41 Batch 0 Loss 5.3843 Accuracy 0.0307\n",
      "Epoch 41 Loss 5.3843 Accuracy 0.0307\n",
      "Time taken for 1 epoch: 0.21393918991088867 secs\n",
      "\n",
      "Epoch 42 Batch 0 Loss 5.3303 Accuracy 0.0307\n",
      "Epoch 42 Loss 5.3303 Accuracy 0.0307\n",
      "Time taken for 1 epoch: 0.2349393367767334 secs\n",
      "\n",
      "Epoch 43 Batch 0 Loss 5.2923 Accuracy 0.0345\n",
      "Epoch 43 Loss 5.2923 Accuracy 0.0345\n",
      "Time taken for 1 epoch: 0.23688054084777832 secs\n",
      "\n",
      "Epoch 44 Batch 0 Loss 5.3231 Accuracy 0.0345\n",
      "Epoch 44 Loss 5.3231 Accuracy 0.0345\n",
      "Time taken for 1 epoch: 0.22195100784301758 secs\n",
      "\n",
      "Epoch 45 Batch 0 Loss 5.3017 Accuracy 0.0326\n",
      "Saving checkpoint for epoch 45 at ./checkpoints/train/Stable_100EPOCHS_Char\\ckpt-9\n",
      "Epoch 45 Loss 5.3017 Accuracy 0.0326\n",
      "Time taken for 1 epoch: 0.6246721744537354 secs\n",
      "\n",
      "Epoch 46 Batch 0 Loss 5.2800 Accuracy 0.0345\n",
      "Epoch 46 Loss 5.2800 Accuracy 0.0345\n",
      "Time taken for 1 epoch: 0.19746947288513184 secs\n",
      "\n",
      "Epoch 47 Batch 0 Loss 5.2741 Accuracy 0.0345\n",
      "Epoch 47 Loss 5.2741 Accuracy 0.0345\n",
      "Time taken for 1 epoch: 0.2528822422027588 secs\n",
      "\n",
      "Epoch 48 Batch 0 Loss 5.3120 Accuracy 0.0345\n",
      "Epoch 48 Loss 5.3120 Accuracy 0.0345\n",
      "Time taken for 1 epoch: 0.2529163360595703 secs\n",
      "\n",
      "Epoch 49 Batch 0 Loss 5.2007 Accuracy 0.0345\n",
      "Epoch 49 Loss 5.2007 Accuracy 0.0345\n",
      "Time taken for 1 epoch: 0.21442723274230957 secs\n",
      "\n",
      "Epoch 50 Batch 0 Loss 5.2564 Accuracy 0.0345\n",
      "Saving checkpoint for epoch 50 at ./checkpoints/train/Stable_100EPOCHS_Char\\ckpt-10\n",
      "Epoch 50 Loss 5.2564 Accuracy 0.0345\n",
      "Time taken for 1 epoch: 0.6390833854675293 secs\n",
      "\n",
      "Epoch 51 Batch 0 Loss 5.2199 Accuracy 0.0345\n",
      "Epoch 51 Loss 5.2199 Accuracy 0.0345\n",
      "Time taken for 1 epoch: 0.232407808303833 secs\n",
      "\n",
      "Epoch 52 Batch 0 Loss 5.2563 Accuracy 0.0345\n",
      "Epoch 52 Loss 5.2563 Accuracy 0.0345\n",
      "Time taken for 1 epoch: 0.25145387649536133 secs\n",
      "\n",
      "Epoch 53 Batch 0 Loss 5.2007 Accuracy 0.0345\n",
      "Epoch 53 Loss 5.2007 Accuracy 0.0345\n",
      "Time taken for 1 epoch: 0.24489259719848633 secs\n",
      "\n",
      "Epoch 54 Batch 0 Loss 5.1938 Accuracy 0.0345\n",
      "Epoch 54 Loss 5.1938 Accuracy 0.0345\n",
      "Time taken for 1 epoch: 0.24685144424438477 secs\n",
      "\n",
      "Epoch 55 Batch 0 Loss 5.1867 Accuracy 0.0345\n",
      "Saving checkpoint for epoch 55 at ./checkpoints/train/Stable_100EPOCHS_Char\\ckpt-11\n",
      "Epoch 55 Loss 5.1867 Accuracy 0.0345\n",
      "Time taken for 1 epoch: 1.0122442245483398 secs\n",
      "\n",
      "Epoch 56 Batch 0 Loss 5.2001 Accuracy 0.0345\n",
      "Epoch 56 Loss 5.2001 Accuracy 0.0345\n",
      "Time taken for 1 epoch: 0.19648265838623047 secs\n",
      "\n"
     ]
    },
    {
     "name": "stdout",
     "output_type": "stream",
     "text": [
      "Epoch 57 Batch 0 Loss 5.1503 Accuracy 0.0345\n",
      "Epoch 57 Loss 5.1503 Accuracy 0.0345\n",
      "Time taken for 1 epoch: 0.20345544815063477 secs\n",
      "\n",
      "Epoch 58 Batch 0 Loss 5.1362 Accuracy 0.0345\n",
      "Epoch 58 Loss 5.1362 Accuracy 0.0345\n",
      "Time taken for 1 epoch: 0.20351099967956543 secs\n",
      "\n",
      "Epoch 59 Batch 0 Loss 5.1478 Accuracy 0.0345\n",
      "Epoch 59 Loss 5.1478 Accuracy 0.0345\n",
      "Time taken for 1 epoch: 0.2096385955810547 secs\n",
      "\n",
      "Epoch 60 Batch 0 Loss 5.1396 Accuracy 0.0345\n",
      "Saving checkpoint for epoch 60 at ./checkpoints/train/Stable_100EPOCHS_Char\\ckpt-12\n",
      "Epoch 60 Loss 5.1396 Accuracy 0.0345\n",
      "Time taken for 1 epoch: 0.5663294792175293 secs\n",
      "\n",
      "Epoch 61 Batch 0 Loss 5.0810 Accuracy 0.0345\n",
      "Epoch 61 Loss 5.0810 Accuracy 0.0345\n",
      "Time taken for 1 epoch: 0.208953857421875 secs\n",
      "\n",
      "Epoch 62 Batch 0 Loss 5.0778 Accuracy 0.0345\n",
      "Epoch 62 Loss 5.0778 Accuracy 0.0345\n",
      "Time taken for 1 epoch: 0.20704150199890137 secs\n",
      "\n",
      "Epoch 63 Batch 0 Loss 5.1235 Accuracy 0.0345\n",
      "Epoch 63 Loss 5.1235 Accuracy 0.0345\n",
      "Time taken for 1 epoch: 0.21692681312561035 secs\n",
      "\n",
      "Epoch 64 Batch 0 Loss 5.1402 Accuracy 0.0345\n",
      "Epoch 64 Loss 5.1402 Accuracy 0.0345\n",
      "Time taken for 1 epoch: 0.20744681358337402 secs\n",
      "\n",
      "Epoch 65 Batch 0 Loss 5.0657 Accuracy 0.0345\n",
      "Saving checkpoint for epoch 65 at ./checkpoints/train/Stable_100EPOCHS_Char\\ckpt-13\n",
      "Epoch 65 Loss 5.0657 Accuracy 0.0345\n",
      "Time taken for 1 epoch: 0.5561628341674805 secs\n",
      "\n",
      "Epoch 66 Batch 0 Loss 5.0961 Accuracy 0.0345\n",
      "Epoch 66 Loss 5.0961 Accuracy 0.0345\n",
      "Time taken for 1 epoch: 0.19946599006652832 secs\n",
      "\n",
      "Epoch 67 Batch 0 Loss 5.0438 Accuracy 0.0345\n",
      "Epoch 67 Loss 5.0438 Accuracy 0.0345\n",
      "Time taken for 1 epoch: 0.21599817276000977 secs\n",
      "\n",
      "Epoch 68 Batch 0 Loss 5.0284 Accuracy 0.0326\n",
      "Epoch 68 Loss 5.0284 Accuracy 0.0326\n",
      "Time taken for 1 epoch: 0.20525431632995605 secs\n",
      "\n",
      "Epoch 69 Batch 0 Loss 5.0944 Accuracy 0.0345\n",
      "Epoch 69 Loss 5.0944 Accuracy 0.0345\n",
      "Time taken for 1 epoch: 0.2117905616760254 secs\n",
      "\n",
      "Epoch 70 Batch 0 Loss 5.0495 Accuracy 0.0345\n",
      "Saving checkpoint for epoch 70 at ./checkpoints/train/Stable_100EPOCHS_Char\\ckpt-14\n",
      "Epoch 70 Loss 5.0495 Accuracy 0.0345\n",
      "Time taken for 1 epoch: 0.5709841251373291 secs\n",
      "\n",
      "Epoch 71 Batch 0 Loss 5.0491 Accuracy 0.0345\n",
      "Epoch 71 Loss 5.0491 Accuracy 0.0345\n",
      "Time taken for 1 epoch: 0.203965425491333 secs\n",
      "\n",
      "Epoch 72 Batch 0 Loss 4.9890 Accuracy 0.0364\n",
      "Epoch 72 Loss 4.9890 Accuracy 0.0364\n",
      "Time taken for 1 epoch: 0.19997882843017578 secs\n",
      "\n",
      "Epoch 73 Batch 0 Loss 4.9868 Accuracy 0.0345\n",
      "Epoch 73 Loss 4.9868 Accuracy 0.0345\n",
      "Time taken for 1 epoch: 0.20479226112365723 secs\n",
      "\n",
      "Epoch 74 Batch 0 Loss 5.0315 Accuracy 0.0345\n",
      "Epoch 74 Loss 5.0315 Accuracy 0.0345\n",
      "Time taken for 1 epoch: 0.21245837211608887 secs\n",
      "\n",
      "Epoch 75 Batch 0 Loss 4.9743 Accuracy 0.0326\n",
      "Saving checkpoint for epoch 75 at ./checkpoints/train/Stable_100EPOCHS_Char\\ckpt-15\n",
      "Epoch 75 Loss 4.9743 Accuracy 0.0326\n",
      "Time taken for 1 epoch: 0.5799908638000488 secs\n",
      "\n",
      "Epoch 76 Batch 0 Loss 4.9701 Accuracy 0.0345\n",
      "Epoch 76 Loss 4.9701 Accuracy 0.0345\n",
      "Time taken for 1 epoch: 0.20057964324951172 secs\n",
      "\n",
      "Epoch 77 Batch 0 Loss 4.9633 Accuracy 0.0345\n",
      "Epoch 77 Loss 4.9633 Accuracy 0.0345\n",
      "Time taken for 1 epoch: 0.20912837982177734 secs\n",
      "\n",
      "Epoch 78 Batch 0 Loss 4.9592 Accuracy 0.0364\n",
      "Epoch 78 Loss 4.9592 Accuracy 0.0364\n",
      "Time taken for 1 epoch: 0.21342897415161133 secs\n",
      "\n",
      "Epoch 79 Batch 0 Loss 4.9645 Accuracy 0.0345\n",
      "Epoch 79 Loss 4.9645 Accuracy 0.0345\n",
      "Time taken for 1 epoch: 0.31615471839904785 secs\n",
      "\n",
      "Epoch 80 Batch 0 Loss 4.9424 Accuracy 0.0345\n",
      "Saving checkpoint for epoch 80 at ./checkpoints/train/Stable_100EPOCHS_Char\\ckpt-16\n",
      "Epoch 80 Loss 4.9424 Accuracy 0.0345\n",
      "Time taken for 1 epoch: 0.9530024528503418 secs\n",
      "\n",
      "Epoch 81 Batch 0 Loss 4.9445 Accuracy 0.0364\n",
      "Epoch 81 Loss 4.9445 Accuracy 0.0364\n",
      "Time taken for 1 epoch: 0.3456079959869385 secs\n",
      "\n",
      "Epoch 82 Batch 0 Loss 4.9290 Accuracy 0.0364\n",
      "Epoch 82 Loss 4.9290 Accuracy 0.0364\n",
      "Time taken for 1 epoch: 0.2732996940612793 secs\n",
      "\n",
      "Epoch 83 Batch 0 Loss 4.9142 Accuracy 0.0345\n",
      "Epoch 83 Loss 4.9142 Accuracy 0.0345\n",
      "Time taken for 1 epoch: 0.2882509231567383 secs\n",
      "\n",
      "Epoch 84 Batch 0 Loss 4.9269 Accuracy 0.0364\n",
      "Epoch 84 Loss 4.9269 Accuracy 0.0364\n",
      "Time taken for 1 epoch: 0.2887394428253174 secs\n",
      "\n",
      "Epoch 85 Batch 0 Loss 4.9024 Accuracy 0.0345\n",
      "Saving checkpoint for epoch 85 at ./checkpoints/train/Stable_100EPOCHS_Char\\ckpt-17\n",
      "Epoch 85 Loss 4.9024 Accuracy 0.0345\n",
      "Time taken for 1 epoch: 0.8999717235565186 secs\n",
      "\n",
      "Epoch 86 Batch 0 Loss 4.8940 Accuracy 0.0345\n",
      "Epoch 86 Loss 4.8940 Accuracy 0.0345\n",
      "Time taken for 1 epoch: 0.23090004920959473 secs\n",
      "\n",
      "Epoch 87 Batch 0 Loss 4.8828 Accuracy 0.0345\n",
      "Epoch 87 Loss 4.8828 Accuracy 0.0345\n",
      "Time taken for 1 epoch: 0.24984073638916016 secs\n",
      "\n",
      "Epoch 88 Batch 0 Loss 4.8622 Accuracy 0.0364\n",
      "Epoch 88 Loss 4.8622 Accuracy 0.0364\n",
      "Time taken for 1 epoch: 0.250838041305542 secs\n",
      "\n",
      "Epoch 89 Batch 0 Loss 4.9072 Accuracy 0.0326\n",
      "Epoch 89 Loss 4.9072 Accuracy 0.0326\n",
      "Time taken for 1 epoch: 0.2932281494140625 secs\n",
      "\n",
      "Epoch 90 Batch 0 Loss 4.8351 Accuracy 0.0364\n",
      "Saving checkpoint for epoch 90 at ./checkpoints/train/Stable_100EPOCHS_Char\\ckpt-18\n",
      "Epoch 90 Loss 4.8351 Accuracy 0.0364\n",
      "Time taken for 1 epoch: 0.6429538726806641 secs\n",
      "\n",
      "Epoch 91 Batch 0 Loss 4.8549 Accuracy 0.0383\n",
      "Epoch 91 Loss 4.8549 Accuracy 0.0383\n",
      "Time taken for 1 epoch: 0.2833139896392822 secs\n",
      "\n",
      "Epoch 92 Batch 0 Loss 4.7815 Accuracy 0.0364\n",
      "Epoch 92 Loss 4.7815 Accuracy 0.0364\n",
      "Time taken for 1 epoch: 0.26030397415161133 secs\n",
      "\n",
      "Epoch 93 Batch 0 Loss 4.8522 Accuracy 0.0402\n",
      "Epoch 93 Loss 4.8522 Accuracy 0.0402\n",
      "Time taken for 1 epoch: 0.22140836715698242 secs\n",
      "\n",
      "Epoch 94 Batch 0 Loss 4.8389 Accuracy 0.0326\n",
      "Epoch 94 Loss 4.8389 Accuracy 0.0326\n",
      "Time taken for 1 epoch: 0.22542023658752441 secs\n",
      "\n",
      "Epoch 95 Batch 0 Loss 4.8035 Accuracy 0.0383\n",
      "Saving checkpoint for epoch 95 at ./checkpoints/train/Stable_100EPOCHS_Char\\ckpt-19\n",
      "Epoch 95 Loss 4.8035 Accuracy 0.0383\n",
      "Time taken for 1 epoch: 0.6029348373413086 secs\n",
      "\n",
      "Epoch 96 Batch 0 Loss 4.8173 Accuracy 0.0364\n",
      "Epoch 96 Loss 4.8173 Accuracy 0.0364\n",
      "Time taken for 1 epoch: 0.20995092391967773 secs\n",
      "\n",
      "Epoch 97 Batch 0 Loss 4.7848 Accuracy 0.0383\n",
      "Epoch 97 Loss 4.7848 Accuracy 0.0383\n",
      "Time taken for 1 epoch: 0.21094799041748047 secs\n",
      "\n",
      "Epoch 98 Batch 0 Loss 4.7822 Accuracy 0.0383\n",
      "Epoch 98 Loss 4.7822 Accuracy 0.0383\n",
      "Time taken for 1 epoch: 0.2169325351715088 secs\n",
      "\n",
      "Epoch 99 Batch 0 Loss 4.7635 Accuracy 0.0383\n",
      "Epoch 99 Loss 4.7635 Accuracy 0.0383\n",
      "Time taken for 1 epoch: 0.2069568634033203 secs\n",
      "\n",
      "Epoch 100 Batch 0 Loss 4.7430 Accuracy 0.0364\n",
      "Saving checkpoint for epoch 100 at ./checkpoints/train/Stable_100EPOCHS_Char\\ckpt-20\n",
      "Epoch 100 Loss 4.7430 Accuracy 0.0364\n",
      "Time taken for 1 epoch: 0.5844931602478027 secs\n",
      "\n"
     ]
    }
   ],
   "source": [
    "summary_writer = tf.summary.create_file_writer(log_dir)\n",
    "for epoch in range(EPOCHS):\n",
    "  start = time.time()\n",
    "  \n",
    "  train_loss.reset_states()\n",
    "  train_accuracy.reset_states()\n",
    "  \n",
    "  for (batch, (inp, tar)) in enumerate(train_dataset):\n",
    "    train_step(inp, tar)\n",
    "    \n",
    "    if batch % 50 == 0:\n",
    "      print ('Epoch {} Batch {} Loss {:.4f} Accuracy {:.4f}'.format(\n",
    "          epoch + 1, batch, train_loss.result(), train_accuracy.result()))\n",
    "      \n",
    "  if (epoch + 1) % 5 == 0:\n",
    "    ckpt_save_path = ckpt_manager.save()\n",
    "    print ('Saving checkpoint for epoch {} at {}'.format(epoch+1,\n",
    "                                                         ckpt_save_path))\n",
    "    \n",
    "  # Save output to TensorBoard\n",
    "  with summary_writer.as_default():\n",
    "    tf.summary.scalar(\"train_loss\", train_loss.result(), step=epoch + 1)\n",
    "    tf.summary.scalar(\"train_acc\", train_accuracy.result(), step=epoch + 1)\n",
    "    \n",
    "  print ('Epoch {} Loss {:.4f} Accuracy {:.4f}'.format(epoch + 1, \n",
    "                                                train_loss.result(), \n",
    "                                                train_accuracy.result()))\n",
    "\n",
    "  print ('Time taken for 1 epoch: {} secs\\n'.format(time.time() - start))"
   ]
  },
  {
   "cell_type": "markdown",
   "metadata": {
    "id": "QfcsSWswSdGV"
   },
   "source": [
    "## Evaluate"
   ]
  },
  {
   "cell_type": "markdown",
   "metadata": {
    "id": "y6APsFrgImLW"
   },
   "source": [
    "The following steps are used for evaluation:\n",
    "\n",
    "* Encode the input sentence using the `input_tokenizer`. Moreover, add the start and end token so the input is equivalent to what the model is trained with. This is the encoder input.\n",
    "* The decoder input is the `start token == target_tokenizer.vocab_size`.\n",
    "* Calculate the padding masks and the look ahead masks.\n",
    "* The `decoder` then outputs the predictions by looking at the `encoder output` and its own output (self-attention).\n",
    "* Select the last word and calculate the argmax of that.\n",
    "* Concatentate the predicted word to the decoder input as pass it to the decoder.\n",
    "* In this approach, the decoder predicts the next word based on the previous words it predicted.\n",
    "\n",
    "Note: The model used here has less capacity to keep the example relatively faster so the predictions maybe less right. To reproduce the results in the paper, use the entire dataset and base transformer model or transformer XL, by changing the hyperparameters above."
   ]
  },
  {
   "cell_type": "code",
   "execution_count": 60,
   "metadata": {
    "id": "5buvMlnvyrFm"
   },
   "outputs": [],
   "source": [
    "def evaluate(inp_sentence):\n",
    "  start_token = [input_tokenizer.vocab_size]\n",
    "  end_token = [input_tokenizer.vocab_size + 1]\n",
    "  \n",
    "  inp_sentence = start_token + input_tokenizer.encode(inp_sentence) + end_token\n",
    "  encoder_input = tf.expand_dims(inp_sentence, 0)\n",
    "  \n",
    "  decoder_input = [target_tokenizer.vocab_size]\n",
    "  output = tf.expand_dims(decoder_input, 0)\n",
    "    \n",
    "  for i in range(MAX_LENGTH):\n",
    "    enc_padding_mask, combined_mask, dec_padding_mask = create_masks(\n",
    "        encoder_input, output)\n",
    "  \n",
    "    # predictions.shape == (batch_size, seq_len, vocab_size)\n",
    "    predictions, attention_weights = transformer(encoder_input, \n",
    "                                                 output,\n",
    "                                                 False,\n",
    "                                                 enc_padding_mask,\n",
    "                                                 combined_mask,\n",
    "                                                 dec_padding_mask)\n",
    "    \n",
    "    # select the last word from the seq_len dimension\n",
    "    predictions = predictions[: ,-1:, :]  # (batch_size, 1, vocab_size)\n",
    "\n",
    "    predicted_id = tf.cast(tf.argmax(predictions, axis=-1), tf.int32)\n",
    "    \n",
    "    # return the result if the predicted_id is equal to the end token\n",
    "    if predicted_id == target_tokenizer.vocab_size+1:\n",
    "      return tf.squeeze(output, axis=0), attention_weights\n",
    "    \n",
    "    # concatentate the predicted_id to the output which is given to the decoder\n",
    "    # as its input.\n",
    "    output = tf.concat([output, predicted_id], axis=-1)\n",
    "\n",
    "  return tf.squeeze(output, axis=0), attention_weights"
   ]
  },
  {
   "cell_type": "code",
   "execution_count": 61,
   "metadata": {},
   "outputs": [],
   "source": [
    "# Chinese font in matplotlib\n",
    "from matplotlib.font_manager import FontProperties\n",
    "import wget\n",
    "# !wget -qO taipei_sans_tc_beta.ttf https://drive.google.com/uc?id=1eGAsTN1HBpJAkeVM57_C7ccp7hbgSz3_&export=download\n",
    "# !mv taipei_sans_tc_beta.ttf /usr/local/lib/python3.6/dist-packages/matplotlib//mpl-data/fonts/ttf\n",
    "# chinese = FontProperties(fname=r'/usr/local/lib/python3.6/dist-packages/matplotlib/mpl-data/fonts/ttf/taipei_sans_tc_beta.ttf')\n",
    "if not os.path.isfile('taipei_sans_tc_beta.ttf'):\n",
    "    wget.download('https://drive.google.com/uc?id=1eGAsTN1HBpJAkeVM57_C7ccp7hbgSz3_&export=download', 'taipei_sans_tc_beta.ttf')\n",
    "chinese = FontProperties(fname=r'taipei_sans_tc_beta.ttf')"
   ]
  },
  {
   "cell_type": "code",
   "execution_count": 62,
   "metadata": {
    "id": "CN-BV43FMBej"
   },
   "outputs": [],
   "source": [
    "def plot_attention_weights(attention, sentence, result, layer):\n",
    "  fig = plt.figure(figsize=(16, 8))\n",
    "  \n",
    "  sentence = input_tokenizer.encode(sentence)\n",
    "  \n",
    "  attention = tf.squeeze(attention[layer], axis=0)\n",
    "  \n",
    "  for head in range(attention.shape[0]):\n",
    "    ax = fig.add_subplot(2, 4, head+1)\n",
    "    \n",
    "    # plot the attention weights\n",
    "    ax.matshow(attention[head][:-1, :], cmap='viridis')\n",
    "\n",
    "    # show Chinese character\n",
    "    fontdict = {\"fontproperties\": chinese}\n",
    "    \n",
    "    ax.set_xticks(range(len(sentence)+2))\n",
    "    ax.set_yticks(range(len(result)))\n",
    "    \n",
    "    ax.set_ylim(len(result)-1.5, -0.5)\n",
    "        \n",
    "    ax.set_xticklabels(\n",
    "        ['<start>']+[input_tokenizer.decode([i]) for i in sentence]+['<end>'], \n",
    "        fontdict=fontdict, rotation=90)\n",
    "    \n",
    "    ax.set_yticklabels([target_tokenizer.decode([i]) for i in result \n",
    "                        if i < target_tokenizer.vocab_size], \n",
    "                       fontdict=fontdict)\n",
    "    \n",
    "    ax.set_xlabel('Head {}'.format(head+1))\n",
    "  \n",
    "  plt.tight_layout()\n",
    "  plt.show()"
   ]
  },
  {
   "cell_type": "code",
   "execution_count": 63,
   "metadata": {
    "id": "lU2_yG_vBGza"
   },
   "outputs": [],
   "source": [
    "def translate(sentence, plot=''):\n",
    "  result, attention_weights = evaluate(sentence)\n",
    "  \n",
    "  predicted_sentence = target_tokenizer.decode([i for i in result \n",
    "                                            if i < target_tokenizer.vocab_size])  \n",
    "\n",
    "  print('Input: {}'.format(sentence))\n",
    "  print('Predicted translation: {}'.format(predicted_sentence))\n",
    "  \n",
    "  if plot:\n",
    "    plot_attention_weights(attention_weights, sentence, result, plot)"
   ]
  },
  {
   "cell_type": "code",
   "execution_count": 64,
   "metadata": {
    "id": "gZwVWTohOv4_",
    "scrolled": false
   },
   "outputs": [
    {
     "name": "stdout",
     "output_type": "stream",
     "text": [
      "The European Union ETS is the main marketplace\n",
      "歐盟 排放 交易 體系 就係 其中 主要 市場 \n",
      "\n",
      "Input: The European Union ETS is the main marketplace\n",
      "Predicted translation: 你 你 你 你 你 你 你 你 你 你 你 你 你 你 你 你 你 你 你 你 你 你 你 你 你 你 你 你 你 你 你 你 你 你 你 你 你 你 你 你\n"
     ]
    },
    {
     "data": {
      "image/png": "[encoded data removed]",
      "text/plain": [
       "<Figure size 1152x576 with 8 Axes>"
      ]
     },
     "metadata": {
      "needs_background": "light"
     },
     "output_type": "display_data"
    }
   ],
   "source": [
    "row = df_test.sample()\n",
    "inp = row[inp_lang].values[0]\n",
    "tar = row[tar_lang].values[0]\n",
    "print(inp)\n",
    "print(tar, '\\n')\n",
    "\n",
    "translate(inp, plot='decoder_layer4_block2')"
   ]
  },
  {
   "cell_type": "code",
   "execution_count": 65,
   "metadata": {},
   "outputs": [
    {
     "name": "stdout",
     "output_type": "stream",
     "text": [
      "Model: \"transformer_1\"\n",
      "_________________________________________________________________\n",
      "Layer (type)                 Output Shape              Param #   \n",
      "=================================================================\n",
      "encoder_2 (Encoder)          multiple                  851456    \n",
      "_________________________________________________________________\n",
      "decoder_2 (Decoder)          multiple                  1091968   \n",
      "_________________________________________________________________\n",
      "dense_151 (Dense)            multiple                  33927     \n",
      "=================================================================\n",
      "Total params: 1,977,351\n",
      "Trainable params: 1,977,351\n",
      "Non-trainable params: 0\n",
      "_________________________________________________________________\n"
     ]
    }
   ],
   "source": [
    "transformer.summary()"
   ]
  },
  {
   "cell_type": "code",
   "execution_count": 66,
   "metadata": {},
   "outputs": [],
   "source": [
    "def translateTest(sentence):\n",
    "  result, attention_weights = evaluate(sentence)\n",
    "  \n",
    "  sentence = input_tokenizer.encode(sentence)\n",
    "  sentence = ' '.join([input_tokenizer.decode([i]) for i in sentence])\n",
    "  predicted_sentence = target_tokenizer.decode([i for i in result \n",
    "                                            if i < target_tokenizer.vocab_size])  \n",
    "\n",
    "#   print('Input: {}'.format(sentence))\n",
    "#   print('Predicted translation: {}'.format(predicted_sentence))\n",
    "  return sentence, predicted_sentence"
   ]
  },
  {
   "cell_type": "code",
   "execution_count": 67,
   "metadata": {},
   "outputs": [
    {
     "name": "stdout",
     "output_type": "stream",
     "text": [
      "\n",
      "ToTal: 18 / 18 in 67.74643325805664 s\n"
     ]
    }
   ],
   "source": [
    "TotalTime = time.time()\n",
    "start = time.time()\n",
    "\n",
    "ori = []\n",
    "ref = []\n",
    "can = []\n",
    "num_test = 0\n",
    "\n",
    "for index, row in df_test.iterrows():\n",
    "    inp = row[inp_lang]\n",
    "    tar = row[tar_lang]\n",
    "    num_test += 1\n",
    "    o, pre = translateTest(inp)\n",
    "    ori.append(o)\n",
    "    ref.append(tar)\n",
    "    can.append(spliteKeyWord(pre))\n",
    "    if num_test % 50 == 0:\n",
    "        print(f'Progress: {num_test} / {len(df_test)} in {time.time()-start} s')\n",
    "        start = time.time()\n",
    "        \n",
    "print(f'\\nToTal: {num_test} / {len(df_test)} in {time.time()-TotalTime} s')"
   ]
  },
  {
   "cell_type": "code",
   "execution_count": 68,
   "metadata": {},
   "outputs": [
    {
     "name": "stdout",
     "output_type": "stream",
     "text": [
      "BLEU: 0\n"
     ]
    }
   ],
   "source": [
    "import nltk\n",
    "from nltk.translate.bleu_score import corpus_bleu\n",
    "\n",
    "# Sentence-based and average score\n",
    "# from nltk.translate.bleu_score import sentence_bleu\n",
    "# score = 0\n",
    "# for i in range(len(ref)):\n",
    "#     r = [ref[i].split()]\n",
    "#     c = can[i].split()\n",
    "#     score += sentence_bleu(r, c)\n",
    "# print('BLEU:', score/len(ref)*100)\n",
    "\n",
    "# Corpus based, summing all nominator and denominator before division\n",
    "r = [[r.split()] for r in ref]\n",
    "c = [c.split() for c in can]\n",
    "score = corpus_bleu(r, c, weights=(1, 0, 0, 0))*100\n",
    "print('BLEU:', score)"
   ]
  }
 ],
 "metadata": {
  "accelerator": "GPU",
  "colab": {
   "collapsed_sections": [],
   "name": "Transformer",
   "provenance": []
  },
  "kernelspec": {
   "display_name": "Python 3",
   "language": "python",
   "name": "python3"
  },
  "language_info": {
   "codemirror_mode": {
    "name": "ipython",
    "version": 3
   },
   "file_extension": ".py",
   "mimetype": "text/x-python",
   "name": "python",
   "nbconvert_exporter": "python",
   "pygments_lexer": "ipython3",
   "version": "3.8.5"
  }
 },
 "nbformat": 4,
 "nbformat_minor": 1
}
