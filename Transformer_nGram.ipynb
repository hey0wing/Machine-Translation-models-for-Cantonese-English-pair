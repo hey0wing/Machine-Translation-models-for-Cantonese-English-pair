{
 "cells": [
  {
   "cell_type": "markdown",
   "metadata": {
    "id": "J0Qjg6vuaHNt"
   },
   "source": [
    "# Transformer model for language understanding"
   ]
  },
  {
   "cell_type": "markdown",
   "metadata": {
    "id": "Xu2cV7D4kBFi"
   },
   "source": [
    "FYP: Machine translation models for Cantonese-English pair"
   ]
  },
  {
   "cell_type": "code",
   "execution_count": 1,
   "metadata": {
    "colab": {
     "base_uri": "https://localhost:8080/"
    },
    "id": "XFG0NDRu5mYQ",
    "outputId": "10b72e31-4689-4efc-9406-9dac3da5c01e"
   },
   "outputs": [],
   "source": [
    "!pip install -q tfds-nightly\n",
    "\n",
    "# Pin matplotlib version to 3.2.2 since in the latest version\n",
    "# transformer.ipynb fails with the following error:\n",
    "# https://stackoverflow.com/questions/62953704/valueerror-the-number-of-fixedlocator-locations-5-usually-from-a-call-to-set\n",
    "!pip install -q matplotlib==3.2.2\n",
    "!pip install -q wget\n",
    "\n",
    "# !pip install -q tensorflow"
   ]
  },
  {
   "cell_type": "code",
   "execution_count": 2,
   "metadata": {
    "id": "JjJJyJTZYebt"
   },
   "outputs": [],
   "source": [
    "import tensorflow_datasets as tfds\n",
    "import tensorflow as tf\n",
    "\n",
    "import re\n",
    "import time\n",
    "import numpy as np\n",
    "import matplotlib.pyplot as plt"
   ]
  },
  {
   "cell_type": "markdown",
   "metadata": {
    "id": "fd1NWMxjfsDd"
   },
   "source": [
    "## Setup input pipeline"
   ]
  },
  {
   "cell_type": "code",
   "execution_count": 3,
   "metadata": {
    "colab": {
     "base_uri": "https://localhost:8080/",
     "height": 204
    },
    "id": "QWviV8YdYh-C",
    "outputId": "6e3bf9d5-5632-4d95-a958-b4196327e03c"
   },
   "outputs": [
    {
     "data": {
      "text/html": [
       "<div>\n",
       "<style scoped>\n",
       "    .dataframe tbody tr th:only-of-type {\n",
       "        vertical-align: middle;\n",
       "    }\n",
       "\n",
       "    .dataframe tbody tr th {\n",
       "        vertical-align: top;\n",
       "    }\n",
       "\n",
       "    .dataframe thead th {\n",
       "        text-align: right;\n",
       "    }\n",
       "</style>\n",
       "<table border=\"1\" class=\"dataframe\">\n",
       "  <thead>\n",
       "    <tr style=\"text-align: right;\">\n",
       "      <th></th>\n",
       "      <th>yue</th>\n",
       "      <th>eng</th>\n",
       "    </tr>\n",
       "  </thead>\n",
       "  <tbody>\n",
       "    <tr>\n",
       "      <th>0</th>\n",
       "      <td>唔準 掂 同 食 醃菜 唔準 坐 梳化 或者 屋企人 嘅 床 上 每次 經期 完 咗 要 洗...</td>\n",
       "      <td>I was not allowed to touch or eat pickles I wa...</td>\n",
       "    </tr>\n",
       "    <tr>\n",
       "      <th>1</th>\n",
       "      <td>佢地 扮 怪 面 嚇 人</td>\n",
       "      <td>They were making scary faces</td>\n",
       "    </tr>\n",
       "    <tr>\n",
       "      <th>2</th>\n",
       "      <td>唔會 搞到 我哋 變得 邪惡 女人型 變成 自由黨 人 咩</td>\n",
       "      <td>turn us into godless sissy liberals</td>\n",
       "    </tr>\n",
       "    <tr>\n",
       "      <th>3</th>\n",
       "      <td>呢個 模式 可以 清晰 令 您 瞭解 佢哋</td>\n",
       "      <td>So it spells those out in very clean terms</td>\n",
       "    </tr>\n",
       "    <tr>\n",
       "      <th>4</th>\n",
       "      <td>幾多 萬 億 掌聲</td>\n",
       "      <td>How many trillions Applause</td>\n",
       "    </tr>\n",
       "  </tbody>\n",
       "</table>\n",
       "</div>"
      ],
      "text/plain": [
       "                                                 yue  \\\n",
       "0  唔準 掂 同 食 醃菜 唔準 坐 梳化 或者 屋企人 嘅 床 上 每次 經期 完 咗 要 洗...   \n",
       "1                                       佢地 扮 怪 面 嚇 人   \n",
       "2                      唔會 搞到 我哋 變得 邪惡 女人型 變成 自由黨 人 咩   \n",
       "3                              呢個 模式 可以 清晰 令 您 瞭解 佢哋   \n",
       "4                                          幾多 萬 億 掌聲   \n",
       "\n",
       "                                                 eng  \n",
       "0  I was not allowed to touch or eat pickles I wa...  \n",
       "1                       They were making scary faces  \n",
       "2                turn us into godless sissy liberals  \n",
       "3         So it spells those out in very clean terms  \n",
       "4                        How many trillions Applause  "
      ]
     },
     "execution_count": 3,
     "metadata": {},
     "output_type": "execute_result"
    }
   ],
   "source": [
    "import pandas as pd\n",
    "import glob\n",
    "import os\n",
    "\n",
    "all_csv = glob.glob(os.getcwd() + \"/train.csv\")  \n",
    "\n",
    "df_test = pd.read_csv(os.getcwd() + \"/test.csv\", sep='\\t', encoding='utf-8')  \n",
    " \n",
    "df_from_each_file = (pd.read_csv(f, sep='\\t', encoding='utf-8') for f in all_csv)\n",
    "df = pd.concat(df_from_each_file)\n",
    "\n",
    "# Check for null\n",
    "df[df['yue'].isnull()]\n",
    "df = df.dropna()\n",
    "df_test = df_test.dropna()\n",
    "\n",
    "YueChar = False\n",
    "# Delete spaces between n-gram in Cantonese\n",
    "# Perform Character based tokenization in Cantonese\n",
    "if YueChar:\n",
    "    df['yue'] = df['yue'].str.replace(r' ', '')\n",
    "\n",
    "df.head()"
   ]
  },
  {
   "cell_type": "code",
   "execution_count": 4,
   "metadata": {},
   "outputs": [
    {
     "data": {
      "text/html": [
       "<div>\n",
       "<style scoped>\n",
       "    .dataframe tbody tr th:only-of-type {\n",
       "        vertical-align: middle;\n",
       "    }\n",
       "\n",
       "    .dataframe tbody tr th {\n",
       "        vertical-align: top;\n",
       "    }\n",
       "\n",
       "    .dataframe thead th {\n",
       "        text-align: right;\n",
       "    }\n",
       "</style>\n",
       "<table border=\"1\" class=\"dataframe\">\n",
       "  <thead>\n",
       "    <tr style=\"text-align: right;\">\n",
       "      <th></th>\n",
       "      <th>yue</th>\n",
       "      <th>eng</th>\n",
       "    </tr>\n",
       "  </thead>\n",
       "  <tbody>\n",
       "    <tr>\n",
       "      <th>0</th>\n",
       "      <td>我 相信 主</td>\n",
       "      <td>I believe the almighty</td>\n",
       "    </tr>\n",
       "    <tr>\n",
       "      <th>1</th>\n",
       "      <td>好耐 以嚟 有 發展 紊亂 嘅 小朋友</td>\n",
       "      <td>For too long now children with developmental d...</td>\n",
       "    </tr>\n",
       "    <tr>\n",
       "      <th>2</th>\n",
       "      <td>一般 會 遇到 兩 種 反應</td>\n",
       "      <td>I have two kinds of reactions</td>\n",
       "    </tr>\n",
       "    <tr>\n",
       "      <th>3</th>\n",
       "      <td>但 再 諗下 嗰位 官員 未必 係 唯一 睇小 女性 嘅人 呢種 偏見 不論 係咪 特登 係...</td>\n",
       "      <td>But think about this The IMF official is hardl...</td>\n",
       "    </tr>\n",
       "    <tr>\n",
       "      <th>4</th>\n",
       "      <td>佢 將 呢個 病毒 傳 畀 BB</td>\n",
       "      <td>She passes that virus on to baby</td>\n",
       "    </tr>\n",
       "  </tbody>\n",
       "</table>\n",
       "</div>"
      ],
      "text/plain": [
       "                                                 yue  \\\n",
       "0                                             我 相信 主   \n",
       "1                                好耐 以嚟 有 發展 紊亂 嘅 小朋友   \n",
       "2                                     一般 會 遇到 兩 種 反應   \n",
       "3  但 再 諗下 嗰位 官員 未必 係 唯一 睇小 女性 嘅人 呢種 偏見 不論 係咪 特登 係...   \n",
       "4                                   佢 將 呢個 病毒 傳 畀 BB   \n",
       "\n",
       "                                                 eng  \n",
       "0                             I believe the almighty  \n",
       "1  For too long now children with developmental d...  \n",
       "2                      I have two kinds of reactions  \n",
       "3  But think about this The IMF official is hardl...  \n",
       "4                   She passes that virus on to baby  "
      ]
     },
     "execution_count": 4,
     "metadata": {},
     "output_type": "execute_result"
    }
   ],
   "source": [
    "def spliteKeyWord(str):\n",
    "    regex = r\"[\\u4e00-\\ufaff]|[0-9]+|[a-zA-Z]+\\'*[a-z]*\"\n",
    "    matches = re.findall(regex, str, re.UNICODE)\n",
    "    return ' '.join(matches)\n",
    "\n",
    "if YueChar:\n",
    "    df_test['yue'] = df_test['yue'].apply(lambda x: spliteKeyWord(x))\n",
    "df_test.head()"
   ]
  },
  {
   "cell_type": "markdown",
   "metadata": {
    "id": "mEsv-c0qqLQd"
   },
   "source": [
    "### Set translational direction"
   ]
  },
  {
   "cell_type": "code",
   "execution_count": 5,
   "metadata": {
    "id": "0r4EQ67kqKcU"
   },
   "outputs": [],
   "source": [
    "inp_lang = 'eng'\n",
    "tar_lang = 'yue'\n",
    "inp = df[inp_lang]\n",
    "tar = df[tar_lang]\n",
    "dataset = tf.data.Dataset.from_tensor_slices((inp.values, tar.values))"
   ]
  },
  {
   "cell_type": "markdown",
   "metadata": {
    "id": "hmVWHYyd18kb"
   },
   "source": [
    "## Split dataset into train, test and validation"
   ]
  },
  {
   "cell_type": "code",
   "execution_count": 6,
   "metadata": {
    "colab": {
     "base_uri": "https://localhost:8080/"
    },
    "id": "2UudB9uidSkP",
    "outputId": "b327f1e3-5143-4b79-f204-3d55bed31d2d"
   },
   "outputs": [
    {
     "name": "stdout",
     "output_type": "stream",
     "text": [
      "Train size: 7848\n",
      "Test size: 1963\n",
      "\n",
      "Total size: 9811\n"
     ]
    }
   ],
   "source": [
    "DATASET_SIZE = len(list(dataset))\n",
    "# train_size = int(0.8 * DATASET_SIZE)\n",
    "# test_size = int(0.2 * DATASET_SIZE)\n",
    "\n",
    "# dataset = dataset.shuffle(DATASET_SIZE)\n",
    "train_examples = dataset.take(DATASET_SIZE)\n",
    "# test_examples = dataset.skip(train_size)\n",
    "# test_examples = remaining.take(test_size)\n",
    "# val_examples = remaining.skip(test_size)\n",
    "\n",
    "print('Train size:', len(list(train_examples)))\n",
    "print('Test size:', len(df_test))\n",
    "# print('Validation size:', len(list(val_examples)))\n",
    "print()\n",
    "print('Total size:', DATASET_SIZE + len(df_test))"
   ]
  },
  {
   "cell_type": "code",
   "execution_count": 7,
   "metadata": {
    "colab": {
     "base_uri": "https://localhost:8080/"
    },
    "id": "b5PlJ-TwK6Oi",
    "outputId": "79fdafc4-e9d3-44f5-f231-e059bc58bf09"
   },
   "outputs": [
    {
     "name": "stdout",
     "output_type": "stream",
     "text": [
      "tf.Tensor(b'I was not allowed to touch or eat pickles I was not allowed to sit on the sofa or some other family member s bed I had to wash my bed sheet after every period even if it was not stained I was considered impure and forbidden from worshipping or touching any object of religious importance You ll find signposts outside temples denying the entry of menstruating girls and women', shape=(), dtype=string)\n",
      "tf.Tensor(b'\\xe5\\x94\\x94\\xe6\\xba\\x96 \\xe6\\x8e\\x82 \\xe5\\x90\\x8c \\xe9\\xa3\\x9f \\xe9\\x86\\x83\\xe8\\x8f\\x9c \\xe5\\x94\\x94\\xe6\\xba\\x96 \\xe5\\x9d\\x90 \\xe6\\xa2\\xb3\\xe5\\x8c\\x96 \\xe6\\x88\\x96\\xe8\\x80\\x85 \\xe5\\xb1\\x8b\\xe4\\xbc\\x81\\xe4\\xba\\xba \\xe5\\x98\\x85 \\xe5\\xba\\x8a \\xe4\\xb8\\x8a \\xe6\\xaf\\x8f\\xe6\\xac\\xa1 \\xe7\\xb6\\x93\\xe6\\x9c\\x9f \\xe5\\xae\\x8c \\xe5\\x92\\x97 \\xe8\\xa6\\x81 \\xe6\\xb4\\x97 \\xe5\\xba\\x8a \\xe5\\x96\\xae \\xe5\\xb0\\xb1\\xe7\\xae\\x97 \\xe5\\xba\\x8a \\xe5\\x96\\xae \\xe7\\x84\\xa1 \\xe6\\xb1\\x9a \\xe7\\xb3\\x9f \\xe5\\x88\\xb0 \\xe4\\xbb\\x96\\xe5\\x80\\x91 \\xe8\\xaa\\x8d \\xe7\\x82\\xba \\xe6\\x88\\x91 \\xe5\\x94\\x94 \\xe7\\xb4\\x94\\xe6\\xbd\\x94 \\xe7\\xa6\\x81\\xe6\\xad\\xa2 \\xe6\\x88\\x91 \\xe5\\x8f\\x83\\xe6\\x8b\\x9c \\xe6\\x88\\x96\\xe8\\x80\\x85 \\xe6\\x8e\\x82 \\xe4\\xb8\\x80\\xe5\\x95\\xb2 \\xe8\\x81\\x96 \\xe7\\x89\\xa9 \\xe4\\xbd\\xa0 \\xe6\\x9c\\x83 \\xe7\\x99\\xbc\\xe7\\x8f\\xbe \\xe5\\xaf\\xba\\xe5\\xbb\\x9f \\xe5\\x87\\xba\\xe9\\x9d\\xa2 \\xe6\\x9c\\x89\\xe7\\x89\\x8c \\xe8\\xb7\\xaf\\xe7\\x89\\x8c \\xe7\\xa6\\x81\\xe6\\xad\\xa2 \\xe6\\xad\\xa3\\xe5\\x9c\\xa8 \\xe5\\x9a\\x9f\\xe7\\xb7\\x8a \\xe7\\xb6\\x93\\xe6\\x9c\\x9f \\xe5\\x98\\x85 \\xe5\\xa9\\xa6\\xe5\\xa5\\xb3 \\xe9\\x80\\xb2\\xe5\\x85\\xa5', shape=(), dtype=string)\n",
      "----------\n",
      "tf.Tensor(b'They were making scary faces', shape=(), dtype=string)\n",
      "tf.Tensor(b'\\xe4\\xbd\\xa2\\xe5\\x9c\\xb0 \\xe6\\x89\\xae \\xe6\\x80\\xaa \\xe9\\x9d\\xa2 \\xe5\\x9a\\x87 \\xe4\\xba\\xba', shape=(), dtype=string)\n",
      "----------\n",
      "tf.Tensor(b'turn us into godless sissy liberals', shape=(), dtype=string)\n",
      "tf.Tensor(b'\\xe5\\x94\\x94\\xe6\\x9c\\x83 \\xe6\\x90\\x9e\\xe5\\x88\\xb0 \\xe6\\x88\\x91\\xe5\\x93\\x8b \\xe8\\xae\\x8a\\xe5\\xbe\\x97 \\xe9\\x82\\xaa\\xe6\\x83\\xa1 \\xe5\\xa5\\xb3\\xe4\\xba\\xba\\xe5\\x9e\\x8b \\xe8\\xae\\x8a\\xe6\\x88\\x90 \\xe8\\x87\\xaa\\xe7\\x94\\xb1\\xe9\\xbb\\xa8 \\xe4\\xba\\xba \\xe5\\x92\\xa9', shape=(), dtype=string)\n",
      "----------\n"
     ]
    }
   ],
   "source": [
    "for inp, tar in train_examples.take(3):\n",
    "  print(inp)\n",
    "  print(tar)\n",
    "  print('-' * 10)"
   ]
  },
  {
   "cell_type": "code",
   "execution_count": 8,
   "metadata": {
    "colab": {
     "base_uri": "https://localhost:8080/"
    },
    "id": "waK4jpjpw2dZ",
    "outputId": "9146e9e0-0437-4f39-a30a-02c9df423afa"
   },
   "outputs": [
    {
     "name": "stdout",
     "output_type": "stream",
     "text": [
      "I was not allowed to touch or eat pickles I was not allowed to sit on the sofa or some other family member s bed I had to wash my bed sheet after every period even if it was not stained I was considered impure and forbidden from worshipping or touching any object of religious importance You ll find signposts outside temples denying the entry of menstruating girls and women\n",
      "唔準 掂 同 食 醃菜 唔準 坐 梳化 或者 屋企人 嘅 床 上 每次 經期 完 咗 要 洗 床 單 就算 床 單 無 汚 糟 到 他們 認 為 我 唔 純潔 禁止 我 參拜 或者 掂 一啲 聖 物 你 會 發現 寺廟 出面 有牌 路牌 禁止 正在 嚟緊 經期 嘅 婦女 進入\n",
      "----------\n",
      "They were making scary faces\n",
      "佢地 扮 怪 面 嚇 人\n",
      "----------\n",
      "turn us into godless sissy liberals\n",
      "唔會 搞到 我哋 變得 邪惡 女人型 變成 自由黨 人 咩\n",
      "----------\n",
      "So it spells those out in very clean terms\n",
      "呢個 模式 可以 清晰 令 您 瞭解 佢哋\n",
      "----------\n",
      "How many trillions Applause\n",
      "幾多 萬 億 掌聲\n",
      "----------\n"
     ]
    }
   ],
   "source": [
    "sample_examples = []\n",
    "num_samples = 5\n",
    "\n",
    "for inp_t, tar_t in train_examples.take(num_samples):\n",
    "  inp = inp_t.numpy().decode(\"utf-8\")\n",
    "  tar = tar_t.numpy().decode(\"utf-8\")\n",
    "  \n",
    "  print(inp)\n",
    "  print(tar)\n",
    "  print('-' * 10)\n",
    "  \n",
    "  sample_examples.append((inp, tar))"
   ]
  },
  {
   "cell_type": "markdown",
   "metadata": {
    "id": "RCEKotqosGfq"
   },
   "source": [
    "Create a custom subwords tokenizer from the training dataset. "
   ]
  },
  {
   "cell_type": "code",
   "execution_count": 9,
   "metadata": {},
   "outputs": [],
   "source": [
    "if inp_lang == 'yue':\n",
    "    if YueChar:\n",
    "      input_tokenizer = tfds.deprecated.text.SubwordTextEncoder.build_from_corpus(\n",
    "          (inp.numpy() for inp, tar in train_examples), target_vocab_size=2**13, max_subword_length=1)\n",
    "    else:\n",
    "      input_tokenizer = tfds.deprecated.text.TokenTextEncoder(\n",
    "          ' '.join(inp.numpy().decode(\"utf-8\") for inp, tar in train_examples).split(' ')) \n",
    "    target_tokenizer = tfds.deprecated.text.SubwordTextEncoder.build_from_corpus(\n",
    "        (tar.numpy() for inp, tar in train_examples), target_vocab_size=2**13)\n",
    "else:\n",
    "    if YueChar:\n",
    "      target_tokenizer = tfds.deprecated.text.SubwordTextEncoder.build_from_corpus(\n",
    "          (tar.numpy() for inp, tar in train_examples), target_vocab_size=2**13, max_subword_length=1)\n",
    "    else:\n",
    "      target_tokenizer = tfds.deprecated.text.TokenTextEncoder(\n",
    "          ' '.join(tar.numpy().decode(\"utf-8\") for inp, tar in train_examples).split(' '))\n",
    "    input_tokenizer = tfds.deprecated.text.SubwordTextEncoder.build_from_corpus(\n",
    "      (inp.numpy() for inp, tar in train_examples), target_vocab_size=2**13)"
   ]
  },
  {
   "cell_type": "code",
   "execution_count": 10,
   "metadata": {},
   "outputs": [
    {
     "name": "stdout",
     "output_type": "stream",
     "text": [
      "eng: 7791 vocabs\n",
      "yue: 127698 vocabs\n"
     ]
    }
   ],
   "source": [
    "print(f'{inp_lang}: {input_tokenizer.vocab_size} vocabs')\n",
    "print(f'{tar_lang}: {target_tokenizer.vocab_size} vocabs')"
   ]
  },
  {
   "cell_type": "markdown",
   "metadata": {
    "id": "L-PPeXeT4WHN"
   },
   "source": [
    "Check the tokenizers with sample string"
   ]
  },
  {
   "cell_type": "code",
   "execution_count": 11,
   "metadata": {
    "colab": {
     "base_uri": "https://localhost:8080/"
    },
    "id": "4DYWukNFkGQN",
    "outputId": "902864c3-fa59-45c0-e8f9-17536d62fea3"
   },
   "outputs": [
    {
     "name": "stdout",
     "output_type": "stream",
     "text": [
      "Tokenized string is [6, 15, 28, 1290, 2, 2160, 36, 436, 2551, 951, 6, 15, 28, 1290, 2, 1335, 21, 1, 5696, 5, 36, 89, 101, 282, 2248, 7, 1521, 6, 61, 2, 2140, 25, 1521, 5743, 208, 162, 943, 116, 63, 12, 15, 28, 4338, 2573, 6, 15, 2351, 2007, 1122, 3, 4854, 2057, 39, 5395, 1140, 36, 5536, 159, 1971, 4, 2945, 6413, 64, 127, 194, 1728, 1453, 7, 1350, 2878, 951, 1641, 1878, 1, 3906, 85, 4, 6204, 467, 3, 1046]\n",
      "The original string: I was not allowed to touch or eat pickles I was not allowed to sit on the sofa or some other family member s bed I had to wash my bed sheet after every period even if it was not stained I was considered impure and forbidden from worshipping or touching any object of religious importance You ll find signposts outside temples denying the entry of menstruating girls and women\n",
      "Tokenized string is [68840, 124561, 127684, 122895, 5, 68840, 123662, 8, 127623, 118652, 127695, 124722, 127323, 120435, 119563, 124587, 126870, 127579, 114309, 124722, 115808, 127377, 124722, 115808, 127303, 26, 27, 127436, 122589, 125939, 127195, 127652, 127554, 88771, 119657, 127652, 37, 127623, 124561, 126903, 115017, 126283, 127620, 127674, 124686, 46, 115173, 72498, 49, 119657, 117807, 118105, 119563, 127695, 119564, 119275]\n",
      "The original string: 唔準 掂 同 食 醃菜 唔準 坐 梳化 或者 屋企人 嘅 床 上 每次 經期 完 咗 要 洗 床 單 就算 床 單 無 汚 糟 到 他們 認 為 我 唔 純潔 禁止 我 參拜 或者 掂 一啲 聖 物 你 會 發現 寺廟 出面 有牌 路牌 禁止 正在 嚟緊 經期 嘅 婦女 進入\n"
     ]
    }
   ],
   "source": [
    "# We can use string in dataset\n",
    "sample_inp = sample_examples[0][0]\n",
    "sample_tar = sample_examples[0][1]\n",
    "\n",
    "tokenized_inp = input_tokenizer.encode(sample_inp)\n",
    "print ('Tokenized string is {}'.format(tokenized_inp))\n",
    "\n",
    "original_inp = input_tokenizer.decode(tokenized_inp)\n",
    "print ('The original string: {}'.format(original_inp))\n",
    "\n",
    "tokenized_tar = target_tokenizer.encode(sample_tar)\n",
    "print ('Tokenized string is {}'.format(tokenized_tar))\n",
    "\n",
    "original_tar = target_tokenizer.decode(tokenized_tar)\n",
    "print ('The original string: {}'.format(original_tar))"
   ]
  },
  {
   "cell_type": "markdown",
   "metadata": {
    "id": "o9KJWJjrsZ4Y"
   },
   "source": [
    "The tokenizer encodes the string by breaking it into subwords if the word is not in its dictionary."
   ]
  },
  {
   "cell_type": "code",
   "execution_count": 12,
   "metadata": {
    "colab": {
     "base_uri": "https://localhost:8080/"
    },
    "id": "bf2ntBxjkqK6",
    "outputId": "0234d439-6ab8-45ac-9591-71051d640c9f"
   },
   "outputs": [
    {
     "name": "stdout",
     "output_type": "stream",
     "text": [
      "6 ----> I \n",
      "15 ----> was \n",
      "28 ----> not \n",
      "1290 ----> allowed \n",
      "2 ----> to \n",
      "2160 ----> touch \n",
      "36 ----> or \n",
      "436 ----> eat \n",
      "2551 ----> pick\n",
      "951 ----> les \n",
      "6 ----> I \n",
      "15 ----> was \n",
      "28 ----> not \n",
      "1290 ----> allowed \n",
      "2 ----> to \n",
      "1335 ----> sit \n",
      "21 ----> on \n",
      "1 ----> the \n",
      "5696 ----> sof\n",
      "5 ----> a \n",
      "36 ----> or \n",
      "89 ----> some \n",
      "101 ----> other \n",
      "282 ----> family \n",
      "2248 ----> member \n",
      "7 ----> s \n",
      "1521 ----> bed \n",
      "6 ----> I \n",
      "61 ----> had \n",
      "2 ----> to \n",
      "2140 ----> wash \n",
      "25 ----> my \n",
      "1521 ----> bed \n",
      "5743 ----> sheet \n",
      "208 ----> after \n",
      "162 ----> every \n",
      "943 ----> period \n",
      "116 ----> even \n",
      "63 ----> if \n",
      "12 ----> it \n",
      "15 ----> was \n",
      "28 ----> not \n",
      "4338 ----> stai\n",
      "2573 ----> ned \n",
      "6 ----> I \n",
      "15 ----> was \n",
      "2351 ----> considered \n",
      "2007 ----> imp\n",
      "1122 ----> ure \n",
      "3 ----> and \n",
      "4854 ----> forbid\n",
      "2057 ----> den \n",
      "39 ----> from \n",
      "5395 ----> worship\n",
      "1140 ----> ping \n",
      "36 ----> or \n",
      "5536 ----> touching \n",
      "159 ----> any \n",
      "1971 ----> object \n",
      "4 ----> of \n",
      "2945 ----> religious \n",
      "6413 ----> importance \n",
      "64 ----> You \n",
      "127 ----> ll \n",
      "194 ----> find \n",
      "1728 ----> sign\n",
      "1453 ----> post\n",
      "7 ----> s \n",
      "1350 ----> outside \n",
      "2878 ----> temp\n",
      "951 ----> les \n",
      "1641 ----> den\n",
      "1878 ----> ying \n",
      "1 ----> the \n",
      "3906 ----> entr\n",
      "85 ----> y \n",
      "4 ----> of \n",
      "6204 ----> menstruating \n",
      "467 ----> girls \n",
      "3 ----> and \n",
      "1046 ----> women\n",
      "\n",
      "68840 ----> 唔準\n",
      "124561 ----> 掂\n",
      "127684 ----> 同\n",
      "122895 ----> 食\n",
      "5 ----> 醃菜\n",
      "68840 ----> 唔準\n",
      "123662 ----> 坐\n",
      "8 ----> 梳化\n",
      "127623 ----> 或者\n",
      "118652 ----> 屋企人\n",
      "127695 ----> 嘅\n",
      "124722 ----> 床\n",
      "127323 ----> 上\n",
      "120435 ----> 每次\n",
      "119563 ----> 經期\n",
      "124587 ----> 完\n",
      "126870 ----> 咗\n",
      "127579 ----> 要\n",
      "114309 ----> 洗\n",
      "124722 ----> 床\n",
      "115808 ----> 單\n",
      "127377 ----> 就算\n",
      "124722 ----> 床\n",
      "115808 ----> 單\n",
      "127303 ----> 無\n",
      "26 ----> 汚\n",
      "27 ----> 糟\n",
      "127436 ----> 到\n",
      "122589 ----> 他們\n",
      "125939 ----> 認\n",
      "127195 ----> 為\n",
      "127652 ----> 我\n",
      "127554 ----> 唔\n",
      "88771 ----> 純潔\n",
      "119657 ----> 禁止\n",
      "127652 ----> 我\n",
      "37 ----> 參拜\n",
      "127623 ----> 或者\n",
      "124561 ----> 掂\n",
      "126903 ----> 一啲\n",
      "115017 ----> 聖\n",
      "126283 ----> 物\n",
      "127620 ----> 你\n",
      "127674 ----> 會\n",
      "124686 ----> 發現\n",
      "46 ----> 寺廟\n",
      "115173 ----> 出面\n",
      "72498 ----> 有牌\n",
      "49 ----> 路牌\n",
      "119657 ----> 禁止\n",
      "117807 ----> 正在\n",
      "118105 ----> 嚟緊\n",
      "119563 ----> 經期\n",
      "127695 ----> 嘅\n",
      "119564 ----> 婦女\n",
      "119275 ----> 進入\n"
     ]
    }
   ],
   "source": [
    "for ts in tokenized_inp:\n",
    "  print ('{} ----> {}'.format(ts, input_tokenizer.decode([ts])))\n",
    "print()\n",
    "for ts in tokenized_tar:\n",
    "  print ('{} ----> {}'.format(ts, target_tokenizer.decode([ts])))"
   ]
  },
  {
   "cell_type": "code",
   "execution_count": 13,
   "metadata": {
    "id": "bcRp7VcQ5m6g"
   },
   "outputs": [],
   "source": [
    "BUFFER_SIZE = 400\n",
    "BATCH_SIZE = 64"
   ]
  },
  {
   "cell_type": "markdown",
   "metadata": {
    "id": "kGi4PoVakxdc"
   },
   "source": [
    "Add a start and end token to the input and target. "
   ]
  },
  {
   "cell_type": "code",
   "execution_count": 14,
   "metadata": {
    "id": "UZwnPr4R055s"
   },
   "outputs": [],
   "source": [
    "def encode(lang1, lang2):\n",
    "  lang1 = [input_tokenizer.vocab_size] + input_tokenizer.encode(\n",
    "      lang1.numpy()) + [input_tokenizer.vocab_size+1]\n",
    "\n",
    "  lang2 = [target_tokenizer.vocab_size] + target_tokenizer.encode(\n",
    "      lang2.numpy()) + [target_tokenizer.vocab_size+1]\n",
    "  \n",
    "  return lang1, lang2"
   ]
  },
  {
   "cell_type": "markdown",
   "metadata": {
    "id": "Tx1sFbR-9fRs"
   },
   "source": [
    "You want to use `Dataset.map` to apply this function to each element of the dataset.  `Dataset.map` runs in graph mode.\n",
    "\n",
    "* Graph tensors do not have a value. \n",
    "* In graph mode you can only use TensorFlow Ops and functions. \n",
    "\n",
    "So you can't `.map` this function directly: You need to wrap it in a `tf.py_function`. The `tf.py_function` will pass regular tensors (with a value and a `.numpy()` method to access it), to the wrapped python function."
   ]
  },
  {
   "cell_type": "code",
   "execution_count": 15,
   "metadata": {
    "id": "Mah1cS-P70Iz"
   },
   "outputs": [],
   "source": [
    "def tf_encode(inp, tar):\n",
    "  result_inp, result_tar = tf.py_function(encode, [inp, tar], [tf.int64, tf.int64])\n",
    "  result_inp.set_shape([None])\n",
    "  result_tar.set_shape([None])\n",
    "\n",
    "  return result_inp, result_tar"
   ]
  },
  {
   "cell_type": "markdown",
   "metadata": {
    "id": "6JrGp5Gek6Ql"
   },
   "source": [
    "Note: To keep this example small and relatively fast, drop examples with a length of over `40` tokens."
   ]
  },
  {
   "cell_type": "code",
   "execution_count": 16,
   "metadata": {
    "id": "c081xPGv1CPI"
   },
   "outputs": [],
   "source": [
    "MAX_LENGTH = 40\n",
    "\n",
    "def filter_max_length(x, y, max_length=MAX_LENGTH):\n",
    "  return tf.logical_and(tf.size(x) <= max_length,\n",
    "                        tf.size(y) <= max_length)"
   ]
  },
  {
   "cell_type": "code",
   "execution_count": 17,
   "metadata": {
    "colab": {
     "base_uri": "https://localhost:8080/"
    },
    "id": "9mk9AZdZ5bcS",
    "outputId": "28e59114-d36d-48c8-bf9d-cef2b24049c3"
   },
   "outputs": [
    {
     "name": "stdout",
     "output_type": "stream",
     "text": [
      "Training size: 6877\n",
      "Testing size: 1716\n"
     ]
    }
   ],
   "source": [
    "train_dataset = train_examples.map(tf_encode)\n",
    "train_dataset = train_dataset.filter(filter_max_length)\n",
    "num_examples = 0\n",
    "for inp_indices, tar_indices in train_dataset:\n",
    "  num_examples += 1\n",
    "print(f\"Training size: {num_examples}\")\n",
    "\n",
    "# cache the dataset to memory to get a speedup while reading from it.\n",
    "train_dataset = train_dataset.cache()\n",
    "train_dataset = train_dataset.shuffle(BUFFER_SIZE).padded_batch(BATCH_SIZE)\n",
    "train_dataset = train_dataset.prefetch(tf.data.experimental.AUTOTUNE)\n",
    "\n",
    "df_test = df_test[\n",
    "    df_test['yue'].apply(lambda x: len(x.split())<MAX_LENGTH) &\n",
    "    df_test['eng'].apply(lambda x: len(x.split())<MAX_LENGTH) \n",
    "]\n",
    "\n",
    "print(f\"Testing size: {len(df_test)}\")"
   ]
  },
  {
   "cell_type": "code",
   "execution_count": 18,
   "metadata": {
    "colab": {
     "base_uri": "https://localhost:8080/"
    },
    "id": "8RgYUtEECc-Q",
    "outputId": "949dd9c4-d890-4991-f1c7-bebcb9e9c6c1"
   },
   "outputs": [
    {
     "name": "stdout",
     "output_type": "stream",
     "text": [
      "tf.Tensor(\n",
      "[[7791   11    1 ...    0    0    0]\n",
      " [7791    3    1 ...    0    0    0]\n",
      " [7791    6   60 ...    0    0    0]\n",
      " ...\n",
      " [7791   26   17 ...    0    0    0]\n",
      " [7791 4151    9 ...    0    0    0]\n",
      " [7791   47   71 ...    0    0    0]], shape=(64, 29), dtype=int64)\n",
      "tf.Tensor(\n",
      "[[127698 127518 107682 ...      0      0      0]\n",
      " [127698  54052 127406 ...      0      0      0]\n",
      " [127698  91030 117509 ...      0      0      0]\n",
      " ...\n",
      " [127698 127643 124409 ...      0      0      0]\n",
      " [127698 127033 108828 ...      0      0      0]\n",
      " [127698 127668 117390 ...      0      0      0]], shape=(64, 24), dtype=int64)\n",
      "\n",
      "All string are less than 40 tokens\n",
      "Total batches: 108\n"
     ]
    }
   ],
   "source": [
    "# Check with train set\n",
    "inp_indices, tar_indices  = next(iter(train_dataset))\n",
    "print(inp_indices)\n",
    "print(tar_indices)\n",
    "\n",
    "num_examples = 0\n",
    "for inp_indices, tar_indices in train_dataset:\n",
    "  # cond1 = len(inp_indices) <= MAX_LENGTH\n",
    "  # cond2 = len(tar_indices) <= MAX_LENGTH\n",
    "  # assert cond1 and cond2\n",
    "  num_examples += 1\n",
    "\n",
    "print(f\"\\nAll string are less than {MAX_LENGTH} tokens\")\n",
    "print(f\"Total batches: {num_examples}\")"
   ]
  },
  {
   "cell_type": "markdown",
   "metadata": {
    "id": "nBQuibYA4n0n"
   },
   "source": [
    "## Positional encoding\n",
    "\n",
    "Since this model doesn't contain any recurrence or convolution, positional encoding is added to give the model some information about the relative position of the words in the sentence. \n",
    "\n",
    "The positional encoding vector is added to the embedding vector. Embeddings represent a token in a d-dimensional space where tokens with similar meaning will be closer to each other. But the embeddings do not encode the relative position of words in a sentence. So after adding the positional encoding, words will be closer to each other based on the *similarity of their meaning and their position in the sentence*, in the d-dimensional space.\n",
    "\n",
    "See the notebook on [positional encoding](https://github.com/tensorflow/examples/blob/master/community/en/position_encoding.ipynb) to learn more about it. The formula for calculating the positional encoding is as follows:\n",
    "\n",
    "$$\\Large{PE_{(pos, 2i)} = sin(pos / 10000^{2i / d_{model}})} $$\n",
    "$$\\Large{PE_{(pos, 2i+1)} = cos(pos / 10000^{2i / d_{model}})} $$"
   ]
  },
  {
   "cell_type": "code",
   "execution_count": 19,
   "metadata": {
    "id": "WhIOZjMNKujn"
   },
   "outputs": [],
   "source": [
    "def get_angles(pos, i, d_model):\n",
    "  angle_rates = 1 / np.power(10000, (2 * (i//2)) / np.float32(d_model))\n",
    "  return pos * angle_rates"
   ]
  },
  {
   "cell_type": "code",
   "execution_count": 20,
   "metadata": {
    "id": "1Rz82wEs5biZ"
   },
   "outputs": [],
   "source": [
    "def positional_encoding(position, d_model):\n",
    "  angle_rads = get_angles(np.arange(position)[:, np.newaxis],\n",
    "                          np.arange(d_model)[np.newaxis, :],\n",
    "                          d_model)\n",
    "  \n",
    "  # apply sin to even indices in the array; 2i\n",
    "  angle_rads[:, 0::2] = np.sin(angle_rads[:, 0::2])\n",
    "  \n",
    "  # apply cos to odd indices in the array; 2i+1\n",
    "  angle_rads[:, 1::2] = np.cos(angle_rads[:, 1::2])\n",
    "    \n",
    "  pos_encoding = angle_rads[np.newaxis, ...]\n",
    "    \n",
    "  return tf.cast(pos_encoding, dtype=tf.float32)"
   ]
  },
  {
   "cell_type": "code",
   "execution_count": 21,
   "metadata": {
    "colab": {
     "base_uri": "https://localhost:8080/",
     "height": 300
    },
    "id": "1kLCla68EloE",
    "outputId": "4595b67d-9fc7-45a2-8678-fbe51c8d8e28"
   },
   "outputs": [
    {
     "name": "stdout",
     "output_type": "stream",
     "text": [
      "(1, 50, 512)\n"
     ]
    },
    {
     "data": {
      "image/png": "[encoded data removed]",
      "text/plain": [
       "<Figure size 432x288 with 2 Axes>"
      ]
     },
     "metadata": {
      "needs_background": "light"
     },
     "output_type": "display_data"
    }
   ],
   "source": [
    "pos_encoding = positional_encoding(50, 512)\n",
    "print (pos_encoding.shape)\n",
    "\n",
    "plt.pcolormesh(pos_encoding[0], cmap='RdBu')\n",
    "plt.xlabel('Depth')\n",
    "plt.xlim((0, 512))\n",
    "plt.ylabel('Position')\n",
    "plt.colorbar()\n",
    "plt.show()"
   ]
  },
  {
   "cell_type": "markdown",
   "metadata": {
    "id": "a_b4ou4TYqUN"
   },
   "source": [
    "## Masking"
   ]
  },
  {
   "cell_type": "markdown",
   "metadata": {
    "id": "s42Uydjkv0hF"
   },
   "source": [
    "Mask all the pad tokens in the batch of sequence. It ensures that the model does not treat padding as the input. The mask indicates where pad value `0` is present: it outputs a `1` at those locations, and a `0` otherwise."
   ]
  },
  {
   "cell_type": "code",
   "execution_count": 22,
   "metadata": {
    "id": "U2i8-e1s8ti9"
   },
   "outputs": [],
   "source": [
    "def create_padding_mask(seq):\n",
    "  seq = tf.cast(tf.math.equal(seq, 0), tf.float32)\n",
    "  \n",
    "  # add extra dimensions to add the padding\n",
    "  # to the attention logits.\n",
    "  return seq[:, tf.newaxis, tf.newaxis, :]  # (batch_size, 1, 1, seq_len)"
   ]
  },
  {
   "cell_type": "code",
   "execution_count": 23,
   "metadata": {
    "colab": {
     "base_uri": "https://localhost:8080/"
    },
    "id": "A7BYeBCNvi7n",
    "outputId": "2f526483-7e23-49b8-b05e-d76a9c3d654a"
   },
   "outputs": [
    {
     "data": {
      "text/plain": [
       "<tf.Tensor: shape=(3, 1, 1, 5), dtype=float32, numpy=\n",
       "array([[[[0., 0., 1., 1., 0.]]],\n",
       "\n",
       "\n",
       "       [[[0., 0., 0., 1., 1.]]],\n",
       "\n",
       "\n",
       "       [[[1., 1., 1., 0., 0.]]]], dtype=float32)>"
      ]
     },
     "execution_count": 23,
     "metadata": {},
     "output_type": "execute_result"
    }
   ],
   "source": [
    "x = tf.constant([[7, 6, 0, 0, 1], [1, 2, 3, 0, 0], [0, 0, 0, 4, 5]])\n",
    "create_padding_mask(x)"
   ]
  },
  {
   "cell_type": "markdown",
   "metadata": {
    "id": "Z0hzukDBgVom"
   },
   "source": [
    "The look-ahead mask is used to mask the future tokens in a sequence. In other words, the mask indicates which entries should not be used.\n",
    "\n",
    "This means that to predict the third word, only the first and second word will be used. Similarly to predict the fourth word, only the first, second and the third word will be used and so on."
   ]
  },
  {
   "cell_type": "code",
   "execution_count": 24,
   "metadata": {
    "id": "dVxS8OPI9uI0"
   },
   "outputs": [],
   "source": [
    "def create_look_ahead_mask(size):\n",
    "  mask = 1 - tf.linalg.band_part(tf.ones((size, size)), -1, 0)\n",
    "  return mask  # (seq_len, seq_len)"
   ]
  },
  {
   "cell_type": "code",
   "execution_count": 25,
   "metadata": {
    "colab": {
     "base_uri": "https://localhost:8080/"
    },
    "id": "yxKGuXxaBeeE",
    "outputId": "afa5b144-c85f-4626-e942-12d24586fc9a"
   },
   "outputs": [
    {
     "data": {
      "text/plain": [
       "<tf.Tensor: shape=(3, 3), dtype=float32, numpy=\n",
       "array([[0., 1., 1.],\n",
       "       [0., 0., 1.],\n",
       "       [0., 0., 0.]], dtype=float32)>"
      ]
     },
     "execution_count": 25,
     "metadata": {},
     "output_type": "execute_result"
    }
   ],
   "source": [
    "x = tf.random.uniform((1, 3))\n",
    "temp = create_look_ahead_mask(x.shape[1])\n",
    "temp"
   ]
  },
  {
   "cell_type": "markdown",
   "metadata": {
    "id": "xluDl5cXYy4y"
   },
   "source": [
    "## Scaled dot product attention"
   ]
  },
  {
   "cell_type": "markdown",
   "metadata": {
    "id": "vsxEE_-Wa1gF"
   },
   "source": [
    "<img src=\"https://www.tensorflow.org/images/tutorials/transformer/scaled_attention.png\" width=\"500\" alt=\"scaled_dot_product_attention\">\n",
    "\n",
    "The attention function used by the transformer takes three inputs: Q (query), K (key), V (value). The equation used to calculate the attention weights is:\n",
    "\n",
    "$$\\Large{Attention(Q, K, V) = softmax_k(\\frac{QK^T}{\\sqrt{d_k}}) V} $$\n",
    "\n",
    "The dot-product attention is scaled by a factor of square root of the depth. This is done because for large values of depth, the dot product grows large in magnitude pushing the softmax function where it has small gradients resulting in a very hard softmax. \n",
    "\n",
    "For example, consider that `Q` and `K` have a mean of 0 and variance of 1. Their matrix multiplication will have a mean of 0 and variance of `dk`. Hence, *square root of `dk`* is used for scaling (and not any other number) because the matmul of `Q` and `K` should have a mean of 0 and variance of 1, and you get a gentler softmax.\n",
    "\n",
    "The mask is multiplied with -1e9 (close to negative infinity). This is done because the mask is summed with the scaled matrix multiplication of Q and K and is applied immediately before a softmax. The goal is to zero out these cells, and large negative inputs to softmax are near zero in the output."
   ]
  },
  {
   "cell_type": "code",
   "execution_count": 26,
   "metadata": {
    "id": "LazzUq3bJ5SH"
   },
   "outputs": [],
   "source": [
    "def scaled_dot_product_attention(q, k, v, mask):\n",
    "  \"\"\"Calculate the attention weights.\n",
    "  q, k, v must have matching leading dimensions.\n",
    "  k, v must have matching penultimate dimension, i.e.: seq_len_k = seq_len_v.\n",
    "  The mask has different shapes depending on its type(padding or look ahead) \n",
    "  but it must be broadcastable for addition.\n",
    "  \n",
    "  Args:\n",
    "    q: query shape == (..., seq_len_q, depth)\n",
    "    k: key shape == (..., seq_len_k, depth)\n",
    "    v: value shape == (..., seq_len_v, depth_v)\n",
    "    mask: Float tensor with shape broadcastable \n",
    "          to (..., seq_len_q, seq_len_k). Defaults to None.\n",
    "    \n",
    "  Returns:\n",
    "    output, attention_weights\n",
    "  \"\"\"\n",
    "\n",
    "  matmul_qk = tf.matmul(q, k, transpose_b=True)  # (..., seq_len_q, seq_len_k)\n",
    "  \n",
    "  # scale matmul_qk\n",
    "  dk = tf.cast(tf.shape(k)[-1], tf.float32)\n",
    "  scaled_attention_logits = matmul_qk / tf.math.sqrt(dk)\n",
    "\n",
    "  # add the mask to the scaled tensor.\n",
    "  if mask is not None:\n",
    "    scaled_attention_logits += (mask * -1e9)  \n",
    "\n",
    "  # softmax is normalized on the last axis (seq_len_k) so that the scores\n",
    "  # add up to 1.\n",
    "  attention_weights = tf.nn.softmax(scaled_attention_logits, axis=-1)  # (..., seq_len_q, seq_len_k)\n",
    "\n",
    "  output = tf.matmul(attention_weights, v)  # (..., seq_len_q, depth_v)\n",
    "\n",
    "  return output, attention_weights"
   ]
  },
  {
   "cell_type": "markdown",
   "metadata": {
    "id": "FiqETnhCkoXh"
   },
   "source": [
    "As the softmax normalization is done on K, its values decide the amount of importance given to Q.\n",
    "\n",
    "The output represents the multiplication of the attention weights and the V (value) vector. This ensures that the words you want to focus on are kept as-is and the irrelevant words are flushed out."
   ]
  },
  {
   "cell_type": "code",
   "execution_count": 27,
   "metadata": {
    "id": "n90YjClyInFy"
   },
   "outputs": [],
   "source": [
    "def print_out(q, k, v):\n",
    "  temp_out, temp_attn = scaled_dot_product_attention(\n",
    "      q, k, v, None)\n",
    "  print ('Attention weights are:')\n",
    "  print (temp_attn)\n",
    "  print ('Output is:')\n",
    "  print (temp_out)"
   ]
  },
  {
   "cell_type": "code",
   "execution_count": 28,
   "metadata": {
    "colab": {
     "base_uri": "https://localhost:8080/"
    },
    "id": "yAzUAf2DPlNt",
    "outputId": "4f614ff2-a52f-4c81-f5d2-f35876de949d"
   },
   "outputs": [
    {
     "name": "stdout",
     "output_type": "stream",
     "text": [
      "Attention weights are:\n",
      "tf.Tensor([[0. 1. 0. 0.]], shape=(1, 4), dtype=float32)\n",
      "Output is:\n",
      "tf.Tensor([[10.  0.]], shape=(1, 2), dtype=float32)\n"
     ]
    }
   ],
   "source": [
    "np.set_printoptions(suppress=True)\n",
    "\n",
    "temp_k = tf.constant([[10,0,0],\n",
    "                      [0,10,0],\n",
    "                      [0,0,10],\n",
    "                      [0,0,10]], dtype=tf.float32)  # (4, 3)\n",
    "\n",
    "temp_v = tf.constant([[   1,0],\n",
    "                      [  10,0],\n",
    "                      [ 100,5],\n",
    "                      [1000,6]], dtype=tf.float32)  # (4, 2)\n",
    "\n",
    "# This `query` aligns with the second `key`,\n",
    "# so the second `value` is returned.\n",
    "temp_q = tf.constant([[0, 10, 0]], dtype=tf.float32)  # (1, 3)\n",
    "print_out(temp_q, temp_k, temp_v)"
   ]
  },
  {
   "cell_type": "code",
   "execution_count": 29,
   "metadata": {
    "colab": {
     "base_uri": "https://localhost:8080/"
    },
    "id": "zg6k-fGhgXra",
    "outputId": "82585d6b-4d8c-411b-c868-7b6343409b0c"
   },
   "outputs": [
    {
     "name": "stdout",
     "output_type": "stream",
     "text": [
      "Attention weights are:\n",
      "tf.Tensor([[0.  0.  0.5 0.5]], shape=(1, 4), dtype=float32)\n",
      "Output is:\n",
      "tf.Tensor([[550.    5.5]], shape=(1, 2), dtype=float32)\n"
     ]
    }
   ],
   "source": [
    "# This query aligns with a repeated key (third and fourth), \n",
    "# so all associated values get averaged.\n",
    "temp_q = tf.constant([[0, 0, 10]], dtype=tf.float32)  # (1, 3)\n",
    "print_out(temp_q, temp_k, temp_v)"
   ]
  },
  {
   "cell_type": "code",
   "execution_count": 30,
   "metadata": {
    "colab": {
     "base_uri": "https://localhost:8080/"
    },
    "id": "UAq3YOzUgXhb",
    "outputId": "c38b7220-1ced-4987-e510-f34c4f12fe69"
   },
   "outputs": [
    {
     "name": "stdout",
     "output_type": "stream",
     "text": [
      "Attention weights are:\n",
      "tf.Tensor([[0.5 0.5 0.  0. ]], shape=(1, 4), dtype=float32)\n",
      "Output is:\n",
      "tf.Tensor([[5.5 0. ]], shape=(1, 2), dtype=float32)\n"
     ]
    }
   ],
   "source": [
    "# This query aligns equally with the first and second key, \n",
    "# so their values get averaged.\n",
    "temp_q = tf.constant([[10, 10, 0]], dtype=tf.float32)  # (1, 3)\n",
    "print_out(temp_q, temp_k, temp_v)"
   ]
  },
  {
   "cell_type": "markdown",
   "metadata": {
    "id": "aOz-4_XIhaTP"
   },
   "source": [
    "Pass all the queries together."
   ]
  },
  {
   "cell_type": "code",
   "execution_count": 31,
   "metadata": {
    "colab": {
     "base_uri": "https://localhost:8080/"
    },
    "id": "6dlU8Tm-hYrF",
    "outputId": "4f80eeaf-12c1-4819-ad59-d39bcab1bb2c"
   },
   "outputs": [
    {
     "name": "stdout",
     "output_type": "stream",
     "text": [
      "Attention weights are:\n",
      "tf.Tensor(\n",
      "[[0.  0.  0.5 0.5]\n",
      " [0.  1.  0.  0. ]\n",
      " [0.5 0.5 0.  0. ]], shape=(3, 4), dtype=float32)\n",
      "Output is:\n",
      "tf.Tensor(\n",
      "[[550.    5.5]\n",
      " [ 10.    0. ]\n",
      " [  5.5   0. ]], shape=(3, 2), dtype=float32)\n"
     ]
    }
   ],
   "source": [
    "temp_q = tf.constant([[0, 0, 10], [0, 10, 0], [10, 10, 0]], dtype=tf.float32)  # (3, 3)\n",
    "print_out(temp_q, temp_k, temp_v)"
   ]
  },
  {
   "cell_type": "markdown",
   "metadata": {
    "id": "kmzGPEy64qmA"
   },
   "source": [
    "## Multi-head attention"
   ]
  },
  {
   "cell_type": "markdown",
   "metadata": {
    "id": "fz5BMC8Kaoqo"
   },
   "source": [
    "<img src=\"https://www.tensorflow.org/images/tutorials/transformer/multi_head_attention.png\" width=\"500\" alt=\"multi-head attention\">\n",
    "\n",
    "\n",
    "Multi-head attention consists of four parts:\n",
    "*    Linear layers and split into heads.\n",
    "*    Scaled dot-product attention.\n",
    "*    Concatenation of heads.\n",
    "*    Final linear layer."
   ]
  },
  {
   "cell_type": "markdown",
   "metadata": {
    "id": "JPmbr6F1C-v_"
   },
   "source": [
    "Each multi-head attention block gets three inputs; Q (query), K (key), V (value). These are put through linear (Dense) layers and split up into multiple heads. \n",
    "\n",
    "The `scaled_dot_product_attention` defined above is applied to each head (broadcasted for efficiency). An appropriate mask must be used in the attention step.  The attention output for each head is then concatenated (using `tf.transpose`, and `tf.reshape`) and put through a final `Dense` layer.\n",
    "\n",
    "Instead of one single attention head, Q, K, and V are split into multiple heads because it allows the model to jointly attend to information at different positions from different representational spaces. After the split each head has a reduced dimensionality, so the total computation cost is the same as a single head attention with full dimensionality."
   ]
  },
  {
   "cell_type": "code",
   "execution_count": 32,
   "metadata": {
    "id": "BSV3PPKsYecw"
   },
   "outputs": [],
   "source": [
    "class MultiHeadAttention(tf.keras.layers.Layer):\n",
    "  def __init__(self, d_model, num_heads):\n",
    "    super(MultiHeadAttention, self).__init__()\n",
    "    self.num_heads = num_heads\n",
    "    self.d_model = d_model\n",
    "    \n",
    "    assert d_model % self.num_heads == 0\n",
    "    \n",
    "    self.depth = d_model // self.num_heads\n",
    "    \n",
    "    self.wq = tf.keras.layers.Dense(d_model)\n",
    "    self.wk = tf.keras.layers.Dense(d_model)\n",
    "    self.wv = tf.keras.layers.Dense(d_model)\n",
    "    \n",
    "    self.dense = tf.keras.layers.Dense(d_model)\n",
    "        \n",
    "  def split_heads(self, x, batch_size):\n",
    "    \"\"\"Split the last dimension into (num_heads, depth).\n",
    "    Transpose the result such that the shape is (batch_size, num_heads, seq_len, depth)\n",
    "    \"\"\"\n",
    "    x = tf.reshape(x, (batch_size, -1, self.num_heads, self.depth))\n",
    "    return tf.transpose(x, perm=[0, 2, 1, 3])\n",
    "    \n",
    "  def call(self, v, k, q, mask):\n",
    "    batch_size = tf.shape(q)[0]\n",
    "    \n",
    "    q = self.wq(q)  # (batch_size, seq_len, d_model)\n",
    "    k = self.wk(k)  # (batch_size, seq_len, d_model)\n",
    "    v = self.wv(v)  # (batch_size, seq_len, d_model)\n",
    "    \n",
    "    q = self.split_heads(q, batch_size)  # (batch_size, num_heads, seq_len_q, depth)\n",
    "    k = self.split_heads(k, batch_size)  # (batch_size, num_heads, seq_len_k, depth)\n",
    "    v = self.split_heads(v, batch_size)  # (batch_size, num_heads, seq_len_v, depth)\n",
    "    \n",
    "    # scaled_attention.shape == (batch_size, num_heads, seq_len_q, depth)\n",
    "    # attention_weights.shape == (batch_size, num_heads, seq_len_q, seq_len_k)\n",
    "    scaled_attention, attention_weights = scaled_dot_product_attention(\n",
    "        q, k, v, mask)\n",
    "    \n",
    "    scaled_attention = tf.transpose(scaled_attention, perm=[0, 2, 1, 3])  # (batch_size, seq_len_q, num_heads, depth)\n",
    "\n",
    "    concat_attention = tf.reshape(scaled_attention, \n",
    "                                  (batch_size, -1, self.d_model))  # (batch_size, seq_len_q, d_model)\n",
    "\n",
    "    output = self.dense(concat_attention)  # (batch_size, seq_len_q, d_model)\n",
    "        \n",
    "    return output, attention_weights"
   ]
  },
  {
   "cell_type": "markdown",
   "metadata": {
    "id": "0D8FJue5lDyZ"
   },
   "source": [
    "Create a `MultiHeadAttention` layer to try out. At each location in the sequence, `y`, the `MultiHeadAttention` runs all 8 attention heads across all other locations in the sequence, returning a new vector of the same length at each location."
   ]
  },
  {
   "cell_type": "code",
   "execution_count": 33,
   "metadata": {
    "colab": {
     "base_uri": "https://localhost:8080/"
    },
    "id": "Hu94p-_-2_BX",
    "outputId": "8f890a1d-970e-40d3-ee5d-15d4fa4ac349"
   },
   "outputs": [
    {
     "data": {
      "text/plain": [
       "(TensorShape([1, 60, 512]), TensorShape([1, 8, 60, 60]))"
      ]
     },
     "execution_count": 33,
     "metadata": {},
     "output_type": "execute_result"
    }
   ],
   "source": [
    "temp_mha = MultiHeadAttention(d_model=512, num_heads=8)\n",
    "y = tf.random.uniform((1, 60, 512))  # (batch_size, encoder_sequence, d_model)\n",
    "out, attn = temp_mha(y, k=y, q=y, mask=None)\n",
    "out.shape, attn.shape"
   ]
  },
  {
   "cell_type": "markdown",
   "metadata": {
    "id": "RdDqGayx67vv"
   },
   "source": [
    "## Point wise feed forward network"
   ]
  },
  {
   "cell_type": "markdown",
   "metadata": {
    "id": "gBqzJXGfHK3X"
   },
   "source": [
    "Point wise feed forward network consists of two fully-connected layers with a ReLU activation in between."
   ]
  },
  {
   "cell_type": "code",
   "execution_count": 34,
   "metadata": {
    "id": "ET7xLt0yCT6Z"
   },
   "outputs": [],
   "source": [
    "def point_wise_feed_forward_network(d_model, dff):\n",
    "  return tf.keras.Sequential([\n",
    "      tf.keras.layers.Dense(dff, activation='relu'),  # (batch_size, seq_len, dff)\n",
    "      tf.keras.layers.Dense(d_model)  # (batch_size, seq_len, d_model)\n",
    "  ])"
   ]
  },
  {
   "cell_type": "code",
   "execution_count": 35,
   "metadata": {
    "colab": {
     "base_uri": "https://localhost:8080/"
    },
    "id": "mytb1lPyOHLB",
    "outputId": "b9ba0e9b-1dd9-47b2-be13-3ec500cc6d57"
   },
   "outputs": [
    {
     "data": {
      "text/plain": [
       "TensorShape([64, 50, 512])"
      ]
     },
     "execution_count": 35,
     "metadata": {},
     "output_type": "execute_result"
    }
   ],
   "source": [
    "sample_ffn = point_wise_feed_forward_network(512, 2048)\n",
    "sample_ffn(tf.random.uniform((64, 50, 512))).shape"
   ]
  },
  {
   "cell_type": "markdown",
   "metadata": {
    "id": "7e7hKcxn6-zd"
   },
   "source": [
    "## Encoder and decoder"
   ]
  },
  {
   "cell_type": "markdown",
   "metadata": {
    "id": "yScbC0MUH8dS"
   },
   "source": [
    "<img src=\"https://www.tensorflow.org/images/tutorials/transformer/transformer.png\" width=\"600\" alt=\"transformer\">"
   ]
  },
  {
   "cell_type": "markdown",
   "metadata": {
    "id": "MfYJG-Kvgwy2"
   },
   "source": [
    "The transformer model follows the same general pattern as a standard [sequence to sequence with attention model](nmt_with_attention.ipynb). \n",
    "\n",
    "* The input sentence is passed through `N` encoder layers that generates an output for each word/token in the sequence.\n",
    "* The decoder attends on the encoder's output and its own input (self-attention) to predict the next word. "
   ]
  },
  {
   "cell_type": "markdown",
   "metadata": {
    "id": "QFv-FNYUmvpn"
   },
   "source": [
    "### Encoder layer\n",
    "\n",
    "Each encoder layer consists of sublayers:\n",
    "\n",
    "1.   Multi-head attention (with padding mask) \n",
    "2.    Point wise feed forward networks. \n",
    "\n",
    "Each of these sublayers has a residual connection around it followed by a layer normalization. Residual connections help in avoiding the vanishing gradient problem in deep networks.\n",
    "\n",
    "The output of each sublayer is `LayerNorm(x + Sublayer(x))`. The normalization is done on the `d_model` (last) axis. There are N encoder layers in the transformer."
   ]
  },
  {
   "cell_type": "code",
   "execution_count": 36,
   "metadata": {
    "id": "ncyS-Ms3i2x_"
   },
   "outputs": [],
   "source": [
    "class EncoderLayer(tf.keras.layers.Layer):\n",
    "  def __init__(self, d_model, num_heads, dff, rate=0.1):\n",
    "    super(EncoderLayer, self).__init__()\n",
    "\n",
    "    self.mha = MultiHeadAttention(d_model, num_heads)\n",
    "    self.ffn = point_wise_feed_forward_network(d_model, dff)\n",
    "\n",
    "    self.layernorm1 = tf.keras.layers.LayerNormalization(epsilon=1e-6)\n",
    "    self.layernorm2 = tf.keras.layers.LayerNormalization(epsilon=1e-6)\n",
    "    \n",
    "    self.dropout1 = tf.keras.layers.Dropout(rate)\n",
    "    self.dropout2 = tf.keras.layers.Dropout(rate)\n",
    "    \n",
    "  def call(self, x, training, mask):\n",
    "\n",
    "    attn_output, _ = self.mha(x, x, x, mask)  # (batch_size, input_seq_len, d_model)\n",
    "    attn_output = self.dropout1(attn_output, training=training)\n",
    "    out1 = self.layernorm1(x + attn_output)  # (batch_size, input_seq_len, d_model)\n",
    "    \n",
    "    ffn_output = self.ffn(out1)  # (batch_size, input_seq_len, d_model)\n",
    "    ffn_output = self.dropout2(ffn_output, training=training)\n",
    "    out2 = self.layernorm2(out1 + ffn_output)  # (batch_size, input_seq_len, d_model)\n",
    "    \n",
    "    return out2"
   ]
  },
  {
   "cell_type": "code",
   "execution_count": 37,
   "metadata": {
    "colab": {
     "base_uri": "https://localhost:8080/"
    },
    "id": "AzZRXdO0mI48",
    "outputId": "f782e377-bc21-4e2b-9088-32b8538f85c9"
   },
   "outputs": [
    {
     "data": {
      "text/plain": [
       "TensorShape([64, 43, 512])"
      ]
     },
     "execution_count": 37,
     "metadata": {},
     "output_type": "execute_result"
    }
   ],
   "source": [
    "sample_encoder_layer = EncoderLayer(512, 8, 2048)\n",
    "\n",
    "sample_encoder_layer_output = sample_encoder_layer(\n",
    "    tf.random.uniform((64, 43, 512)), False, None)\n",
    "\n",
    "sample_encoder_layer_output.shape  # (batch_size, input_seq_len, d_model)"
   ]
  },
  {
   "cell_type": "markdown",
   "metadata": {
    "id": "6LO_48Owmx_o"
   },
   "source": [
    "### Decoder layer\n",
    "\n",
    "Each decoder layer consists of sublayers:\n",
    "\n",
    "1.   Masked multi-head attention (with look ahead mask and padding mask)\n",
    "2.   Multi-head attention (with padding mask). V (value) and K (key) receive the *encoder output* as inputs. Q (query) receives the *output from the masked multi-head attention sublayer.*\n",
    "3.   Point wise feed forward networks\n",
    "\n",
    "Each of these sublayers has a residual connection around it followed by a layer normalization. The output of each sublayer is `LayerNorm(x + Sublayer(x))`. The normalization is done on the `d_model` (last) axis.\n",
    "\n",
    "There are N decoder layers in the transformer.\n",
    "\n",
    "As Q receives the output from decoder's first attention block, and K receives the encoder output, the attention weights represent the importance given to the decoder's input based on the encoder's output. In other words, the decoder predicts the next word by looking at the encoder output and self-attending to its own output. See the demonstration above in the scaled dot product attention section."
   ]
  },
  {
   "cell_type": "code",
   "execution_count": 38,
   "metadata": {
    "id": "9SoX0-vd1hue"
   },
   "outputs": [],
   "source": [
    "class DecoderLayer(tf.keras.layers.Layer):\n",
    "  def __init__(self, d_model, num_heads, dff, rate=0.1):\n",
    "    super(DecoderLayer, self).__init__()\n",
    "\n",
    "    self.mha1 = MultiHeadAttention(d_model, num_heads)\n",
    "    self.mha2 = MultiHeadAttention(d_model, num_heads)\n",
    "\n",
    "    self.ffn = point_wise_feed_forward_network(d_model, dff)\n",
    " \n",
    "    self.layernorm1 = tf.keras.layers.LayerNormalization(epsilon=1e-6)\n",
    "    self.layernorm2 = tf.keras.layers.LayerNormalization(epsilon=1e-6)\n",
    "    self.layernorm3 = tf.keras.layers.LayerNormalization(epsilon=1e-6)\n",
    "    \n",
    "    self.dropout1 = tf.keras.layers.Dropout(rate)\n",
    "    self.dropout2 = tf.keras.layers.Dropout(rate)\n",
    "    self.dropout3 = tf.keras.layers.Dropout(rate)\n",
    "    \n",
    "    \n",
    "  def call(self, x, enc_output, training, \n",
    "           look_ahead_mask, padding_mask):\n",
    "    # enc_output.shape == (batch_size, input_seq_len, d_model)\n",
    "\n",
    "    attn1, attn_weights_block1 = self.mha1(x, x, x, look_ahead_mask)  # (batch_size, target_seq_len, d_model)\n",
    "    attn1 = self.dropout1(attn1, training=training)\n",
    "    out1 = self.layernorm1(attn1 + x)\n",
    "    \n",
    "    attn2, attn_weights_block2 = self.mha2(\n",
    "        enc_output, enc_output, out1, padding_mask)  # (batch_size, target_seq_len, d_model)\n",
    "    attn2 = self.dropout2(attn2, training=training)\n",
    "    out2 = self.layernorm2(attn2 + out1)  # (batch_size, target_seq_len, d_model)\n",
    "    \n",
    "    ffn_output = self.ffn(out2)  # (batch_size, target_seq_len, d_model)\n",
    "    ffn_output = self.dropout3(ffn_output, training=training)\n",
    "    out3 = self.layernorm3(ffn_output + out2)  # (batch_size, target_seq_len, d_model)\n",
    "    \n",
    "    return out3, attn_weights_block1, attn_weights_block2"
   ]
  },
  {
   "cell_type": "code",
   "execution_count": 39,
   "metadata": {
    "colab": {
     "base_uri": "https://localhost:8080/"
    },
    "id": "Ne2Bqx8k71l0",
    "outputId": "53c7b26c-e654-4dc6-ef3b-613bff14234e"
   },
   "outputs": [
    {
     "data": {
      "text/plain": [
       "TensorShape([64, 50, 512])"
      ]
     },
     "execution_count": 39,
     "metadata": {},
     "output_type": "execute_result"
    }
   ],
   "source": [
    "sample_decoder_layer = DecoderLayer(512, 8, 2048)\n",
    "\n",
    "sample_decoder_layer_output, _, _ = sample_decoder_layer(\n",
    "    tf.random.uniform((64, 50, 512)), sample_encoder_layer_output, \n",
    "    False, None, None)\n",
    "\n",
    "sample_decoder_layer_output.shape  # (batch_size, target_seq_len, d_model)"
   ]
  },
  {
   "cell_type": "markdown",
   "metadata": {
    "id": "SE1H51Ajm0q1"
   },
   "source": [
    "### Encoder\n",
    "\n",
    "The `Encoder` consists of:\n",
    "1.   Input Embedding\n",
    "2.   Positional Encoding\n",
    "3.   N encoder layers\n",
    "\n",
    "The input is put through an embedding which is summed with the positional encoding. The output of this summation is the input to the encoder layers. The output of the encoder is the input to the decoder."
   ]
  },
  {
   "cell_type": "code",
   "execution_count": 40,
   "metadata": {
    "id": "jpEox7gJ8FCI"
   },
   "outputs": [],
   "source": [
    "class Encoder(tf.keras.layers.Layer):\n",
    "  def __init__(self, num_layers, d_model, num_heads, dff, input_vocab_size,\n",
    "               maximum_position_encoding, rate=0.1):\n",
    "    super(Encoder, self).__init__()\n",
    "\n",
    "    self.d_model = d_model\n",
    "    self.num_layers = num_layers\n",
    "    \n",
    "    self.embedding = tf.keras.layers.Embedding(input_vocab_size, d_model)\n",
    "    self.pos_encoding = positional_encoding(maximum_position_encoding, \n",
    "                                            self.d_model)\n",
    "    \n",
    "    \n",
    "    self.enc_layers = [EncoderLayer(d_model, num_heads, dff, rate) \n",
    "                       for _ in range(num_layers)]\n",
    "  \n",
    "    self.dropout = tf.keras.layers.Dropout(rate)\n",
    "        \n",
    "  def call(self, x, training, mask):\n",
    "\n",
    "    seq_len = tf.shape(x)[1]\n",
    "    \n",
    "    # adding embedding and position encoding.\n",
    "    x = self.embedding(x)  # (batch_size, input_seq_len, d_model)\n",
    "    x *= tf.math.sqrt(tf.cast(self.d_model, tf.float32))\n",
    "    x += self.pos_encoding[:, :seq_len, :]\n",
    "\n",
    "    x = self.dropout(x, training=training)\n",
    "    \n",
    "    for i in range(self.num_layers):\n",
    "      x = self.enc_layers[i](x, training, mask)\n",
    "    \n",
    "    return x  # (batch_size, input_seq_len, d_model)"
   ]
  },
  {
   "cell_type": "code",
   "execution_count": 41,
   "metadata": {
    "colab": {
     "base_uri": "https://localhost:8080/"
    },
    "id": "8QG9nueFQKXx",
    "outputId": "c1c5cc6b-19bb-4190-c8d7-f605fb303c07"
   },
   "outputs": [
    {
     "name": "stdout",
     "output_type": "stream",
     "text": [
      "(64, 62, 512)\n"
     ]
    }
   ],
   "source": [
    "sample_encoder = Encoder(num_layers=2, d_model=512, num_heads=8, \n",
    "                         dff=2048, input_vocab_size=8500,\n",
    "                         maximum_position_encoding=10000)\n",
    "temp_input = tf.random.uniform((64, 62), dtype=tf.int64, minval=0, maxval=200)\n",
    "\n",
    "sample_encoder_output = sample_encoder(temp_input, training=False, mask=None)\n",
    "\n",
    "print (sample_encoder_output.shape)  # (batch_size, input_seq_len, d_model)"
   ]
  },
  {
   "cell_type": "markdown",
   "metadata": {
    "id": "p-uO6ls8m2O5"
   },
   "source": [
    "### Decoder"
   ]
  },
  {
   "cell_type": "markdown",
   "metadata": {
    "id": "ZtT7PKzrXkNr"
   },
   "source": [
    " The `Decoder` consists of:\n",
    "1.   Output Embedding\n",
    "2.   Positional Encoding\n",
    "3.   N decoder layers\n",
    "\n",
    "The target is put through an embedding which is summed with the positional encoding. The output of this summation is the input to the decoder layers. The output of the decoder is the input to the final linear layer."
   ]
  },
  {
   "cell_type": "code",
   "execution_count": 42,
   "metadata": {
    "id": "d5_d5-PLQXwY"
   },
   "outputs": [],
   "source": [
    "class Decoder(tf.keras.layers.Layer):\n",
    "  def __init__(self, num_layers, d_model, num_heads, dff, target_vocab_size,\n",
    "               maximum_position_encoding, rate=0.1):\n",
    "    super(Decoder, self).__init__()\n",
    "\n",
    "    self.d_model = d_model\n",
    "    self.num_layers = num_layers\n",
    "    \n",
    "    self.embedding = tf.keras.layers.Embedding(target_vocab_size, d_model)\n",
    "    self.pos_encoding = positional_encoding(maximum_position_encoding, d_model)\n",
    "    \n",
    "    self.dec_layers = [DecoderLayer(d_model, num_heads, dff, rate) \n",
    "                       for _ in range(num_layers)]\n",
    "    self.dropout = tf.keras.layers.Dropout(rate)\n",
    "    \n",
    "  def call(self, x, enc_output, training, \n",
    "           look_ahead_mask, padding_mask):\n",
    "\n",
    "    seq_len = tf.shape(x)[1]\n",
    "    attention_weights = {}\n",
    "    \n",
    "    x = self.embedding(x)  # (batch_size, target_seq_len, d_model)\n",
    "    x *= tf.math.sqrt(tf.cast(self.d_model, tf.float32))\n",
    "    x += self.pos_encoding[:, :seq_len, :]\n",
    "    \n",
    "    x = self.dropout(x, training=training)\n",
    "\n",
    "    for i in range(self.num_layers):\n",
    "      x, block1, block2 = self.dec_layers[i](x, enc_output, training,\n",
    "                                             look_ahead_mask, padding_mask)\n",
    "      \n",
    "      attention_weights['decoder_layer{}_block1'.format(i+1)] = block1\n",
    "      attention_weights['decoder_layer{}_block2'.format(i+1)] = block2\n",
    "    \n",
    "    # x.shape == (batch_size, target_seq_len, d_model)\n",
    "    return x, attention_weights"
   ]
  },
  {
   "cell_type": "code",
   "execution_count": 43,
   "metadata": {
    "colab": {
     "base_uri": "https://localhost:8080/"
    },
    "id": "a1jXoAMRZyvu",
    "outputId": "49e16979-6f48-4c6c-c307-0b95259d725e"
   },
   "outputs": [
    {
     "data": {
      "text/plain": [
       "(TensorShape([64, 26, 512]), TensorShape([64, 8, 26, 62]))"
      ]
     },
     "execution_count": 43,
     "metadata": {},
     "output_type": "execute_result"
    }
   ],
   "source": [
    "sample_decoder = Decoder(num_layers=2, d_model=512, num_heads=8, \n",
    "                         dff=2048, target_vocab_size=8000,\n",
    "                         maximum_position_encoding=5000)\n",
    "temp_input = tf.random.uniform((64, 26), dtype=tf.int64, minval=0, maxval=200)\n",
    "\n",
    "output, attn = sample_decoder(temp_input, \n",
    "                              enc_output=sample_encoder_output, \n",
    "                              training=False,\n",
    "                              look_ahead_mask=None, \n",
    "                              padding_mask=None)\n",
    "\n",
    "output.shape, attn['decoder_layer2_block2'].shape"
   ]
  },
  {
   "cell_type": "markdown",
   "metadata": {
    "id": "y54xnJnuYgJ7"
   },
   "source": [
    "## Create the Transformer"
   ]
  },
  {
   "cell_type": "markdown",
   "metadata": {
    "id": "uERO1y54cOKq"
   },
   "source": [
    "Transformer consists of the encoder, decoder and a final linear layer. The output of the decoder is the input to the linear layer and its output is returned."
   ]
  },
  {
   "cell_type": "code",
   "execution_count": 44,
   "metadata": {
    "id": "PED3bIpOYkBu"
   },
   "outputs": [],
   "source": [
    "class Transformer(tf.keras.Model):\n",
    "  def __init__(self, num_layers, d_model, num_heads, dff, input_vocab_size, \n",
    "               target_vocab_size, pe_input, pe_target, rate=0.1):\n",
    "    super(Transformer, self).__init__()\n",
    "\n",
    "    self.encoder = Encoder(num_layers, d_model, num_heads, dff, \n",
    "                           input_vocab_size, pe_input, rate)\n",
    "\n",
    "    self.decoder = Decoder(num_layers, d_model, num_heads, dff, \n",
    "                           target_vocab_size, pe_target, rate)\n",
    "\n",
    "    self.final_layer = tf.keras.layers.Dense(target_vocab_size)\n",
    "    \n",
    "  def call(self, inp, tar, training, enc_padding_mask, \n",
    "           look_ahead_mask, dec_padding_mask):\n",
    "\n",
    "    enc_output = self.encoder(inp, training, enc_padding_mask)  # (batch_size, inp_seq_len, d_model)\n",
    "    \n",
    "    # dec_output.shape == (batch_size, tar_seq_len, d_model)\n",
    "    dec_output, attention_weights = self.decoder(\n",
    "        tar, enc_output, training, look_ahead_mask, dec_padding_mask)\n",
    "    \n",
    "    final_output = self.final_layer(dec_output)  # (batch_size, tar_seq_len, target_vocab_size)\n",
    "    \n",
    "    return final_output, attention_weights"
   ]
  },
  {
   "cell_type": "code",
   "execution_count": 45,
   "metadata": {
    "colab": {
     "base_uri": "https://localhost:8080/"
    },
    "id": "tJ4fbQcIkHW1",
    "outputId": "6bc6155a-02f0-44ff-b04d-5ab4b4c387cc"
   },
   "outputs": [
    {
     "data": {
      "text/plain": [
       "TensorShape([64, 36, 8000])"
      ]
     },
     "execution_count": 45,
     "metadata": {},
     "output_type": "execute_result"
    }
   ],
   "source": [
    "sample_transformer = Transformer(\n",
    "    num_layers=2, d_model=512, num_heads=8, dff=2048, \n",
    "    input_vocab_size=8500, target_vocab_size=8000, \n",
    "    pe_input=10000, pe_target=6000)\n",
    "\n",
    "temp_input = tf.random.uniform((64, 38), dtype=tf.int64, minval=0, maxval=200)\n",
    "temp_target = tf.random.uniform((64, 36), dtype=tf.int64, minval=0, maxval=200)\n",
    "\n",
    "fn_out, _ = sample_transformer(temp_input, temp_target, training=False, \n",
    "                               enc_padding_mask=None, \n",
    "                               look_ahead_mask=None,\n",
    "                               dec_padding_mask=None)\n",
    "\n",
    "fn_out.shape  # (batch_size, tar_seq_len, target_vocab_size)"
   ]
  },
  {
   "cell_type": "markdown",
   "metadata": {
    "id": "wsINyf1VEQLC"
   },
   "source": [
    "## Set hyperparameters"
   ]
  },
  {
   "cell_type": "markdown",
   "metadata": {
    "id": "zVjWCxFNcgbt"
   },
   "source": [
    "To keep this example small and relatively fast, the values for *num_layers, d_model, and dff* have been reduced. \n",
    "\n",
    "The values used in the base model of transformer were; *num_layers=6*, *d_model = 512*, *dff = 2048*. See the [paper](https://arxiv.org/abs/1706.03762) for all the other versions of the transformer.\n",
    "\n",
    "Note: By changing the values below, you can get the model that achieved state of the art on many tasks."
   ]
  },
  {
   "cell_type": "code",
   "execution_count": 46,
   "metadata": {
    "id": "lnJn5SLA2ahP"
   },
   "outputs": [],
   "source": [
    "num_layers = 4\n",
    "d_model = 128\n",
    "dff = 512\n",
    "num_heads = 8\n",
    "\n",
    "input_vocab_size = input_tokenizer.vocab_size + 2\n",
    "target_vocab_size = target_tokenizer.vocab_size + 2\n",
    "dropout_rate = 0.1"
   ]
  },
  {
   "cell_type": "markdown",
   "metadata": {
    "id": "xYEGhEOtzn5W"
   },
   "source": [
    "## Optimizer"
   ]
  },
  {
   "cell_type": "markdown",
   "metadata": {
    "id": "GOmWW--yP3zx"
   },
   "source": [
    "Use the Adam optimizer with a custom learning rate scheduler according to the formula in the [paper](https://arxiv.org/abs/1706.03762).\n",
    "\n",
    "$$\\Large{lrate = d_{model}^{-0.5} * min(step{\\_}num^{-0.5}, step{\\_}num * warmup{\\_}steps^{-1.5})}$$\n"
   ]
  },
  {
   "cell_type": "code",
   "execution_count": 47,
   "metadata": {
    "id": "iYQdOO1axwEI"
   },
   "outputs": [],
   "source": [
    "class CustomSchedule(tf.keras.optimizers.schedules.LearningRateSchedule):\n",
    "  def __init__(self, d_model, warmup_steps=4000):\n",
    "    super(CustomSchedule, self).__init__()\n",
    "    \n",
    "    self.d_model = d_model\n",
    "    self.d_model = tf.cast(self.d_model, tf.float32)\n",
    "\n",
    "    self.warmup_steps = warmup_steps\n",
    "    \n",
    "  def __call__(self, step):\n",
    "    arg1 = tf.math.rsqrt(step)\n",
    "    arg2 = step * (self.warmup_steps ** -1.5)\n",
    "    \n",
    "    return tf.math.rsqrt(self.d_model) * tf.math.minimum(arg1, arg2)"
   ]
  },
  {
   "cell_type": "code",
   "execution_count": 48,
   "metadata": {
    "id": "7r4scdulztRx"
   },
   "outputs": [],
   "source": [
    "learning_rate = CustomSchedule(d_model)\n",
    "\n",
    "optimizer = tf.keras.optimizers.Adam(learning_rate, beta_1=0.9, beta_2=0.98, \n",
    "                                     epsilon=1e-9)"
   ]
  },
  {
   "cell_type": "code",
   "execution_count": 49,
   "metadata": {
    "colab": {
     "base_uri": "https://localhost:8080/",
     "height": 296
    },
    "id": "f33ZCgvHpPdG",
    "outputId": "d32a1d68-c675-424d-ddc5-855608622ba6"
   },
   "outputs": [
    {
     "data": {
      "text/plain": [
       "Text(0.5, 0, 'Train Step')"
      ]
     },
     "execution_count": 49,
     "metadata": {},
     "output_type": "execute_result"
    },
    {
     "data": {
      "image/png": "[encoded data removed]",
      "text/plain": [
       "<Figure size 432x288 with 1 Axes>"
      ]
     },
     "metadata": {
      "needs_background": "light"
     },
     "output_type": "display_data"
    }
   ],
   "source": [
    "temp_learning_rate_schedule = CustomSchedule(d_model)\n",
    "\n",
    "plt.plot(temp_learning_rate_schedule(tf.range(40000, dtype=tf.float32)))\n",
    "plt.ylabel(\"Learning Rate\")\n",
    "plt.xlabel(\"Train Step\")"
   ]
  },
  {
   "cell_type": "markdown",
   "metadata": {
    "id": "YgkDE7hzo8r5"
   },
   "source": [
    "## Loss and metrics"
   ]
  },
  {
   "cell_type": "markdown",
   "metadata": {
    "id": "oxGJtoDuYIHL"
   },
   "source": [
    "Since the target sequences are padded, it is important to apply a padding mask when calculating the loss."
   ]
  },
  {
   "cell_type": "code",
   "execution_count": 50,
   "metadata": {
    "id": "MlhsJMm0TW_B"
   },
   "outputs": [],
   "source": [
    "loss_object = tf.keras.losses.SparseCategoricalCrossentropy(\n",
    "    from_logits=True, reduction='none')"
   ]
  },
  {
   "cell_type": "code",
   "execution_count": 51,
   "metadata": {
    "id": "67oqVHiT0Eiu"
   },
   "outputs": [],
   "source": [
    "def loss_function(real, pred):\n",
    "  mask = tf.math.logical_not(tf.math.equal(real, 0))\n",
    "  loss_ = loss_object(real, pred)\n",
    "\n",
    "  mask = tf.cast(mask, dtype=loss_.dtype)\n",
    "  loss_ *= mask\n",
    "  \n",
    "  return tf.reduce_sum(loss_)/tf.reduce_sum(mask)"
   ]
  },
  {
   "cell_type": "code",
   "execution_count": 52,
   "metadata": {
    "id": "phlyxMnm-Tpx"
   },
   "outputs": [],
   "source": [
    "train_loss = tf.keras.metrics.Mean(name='train_loss')\n",
    "train_accuracy = tf.keras.metrics.SparseCategoricalAccuracy(\n",
    "    name='train_accuracy')"
   ]
  },
  {
   "cell_type": "markdown",
   "metadata": {
    "id": "aeHumfr7zmMa"
   },
   "source": [
    "## Training and checkpointing"
   ]
  },
  {
   "cell_type": "code",
   "execution_count": 53,
   "metadata": {
    "id": "UiysUa--4tOU"
   },
   "outputs": [],
   "source": [
    "transformer = Transformer(num_layers, d_model, num_heads, dff,\n",
    "                          input_vocab_size, target_vocab_size, \n",
    "                          pe_input=input_vocab_size, \n",
    "                          pe_target=target_vocab_size,\n",
    "                          rate=dropout_rate)"
   ]
  },
  {
   "cell_type": "code",
   "execution_count": 54,
   "metadata": {
    "id": "ZOJUSB1T8GjM"
   },
   "outputs": [],
   "source": [
    "def create_masks(inp, tar):\n",
    "  # Encoder padding mask\n",
    "  enc_padding_mask = create_padding_mask(inp)\n",
    "  \n",
    "  # Used in the 2nd attention block in the decoder.\n",
    "  # This padding mask is used to mask the encoder outputs.\n",
    "  dec_padding_mask = create_padding_mask(inp)\n",
    "  \n",
    "  # Used in the 1st attention block in the decoder.\n",
    "  # It is used to pad and mask future tokens in the input received by \n",
    "  # the decoder.\n",
    "  look_ahead_mask = create_look_ahead_mask(tf.shape(tar)[1])\n",
    "  dec_target_padding_mask = create_padding_mask(tar)\n",
    "  combined_mask = tf.maximum(dec_target_padding_mask, look_ahead_mask)\n",
    "  \n",
    "  return enc_padding_mask, combined_mask, dec_padding_mask"
   ]
  },
  {
   "cell_type": "markdown",
   "metadata": {
    "id": "Fzuf06YZp66w"
   },
   "source": [
    "Create the checkpoint path and the checkpoint manager. This will be used to save checkpoints every `n` epochs."
   ]
  },
  {
   "cell_type": "code",
   "execution_count": 55,
   "metadata": {
    "id": "hNhuYfllndLZ"
   },
   "outputs": [],
   "source": [
    "checkpoint_path = \"./checkpoints/train/Stable_100EPOCHS_Char\"\n",
    "\n",
    "ckpt = tf.train.Checkpoint(transformer=transformer,\n",
    "                           optimizer=optimizer)\n",
    "\n",
    "ckpt_manager = tf.train.CheckpointManager(ckpt, checkpoint_path, max_to_keep=5)\n",
    "\n",
    "# if a checkpoint exists, restore the latest checkpoint.\n",
    "# if ckpt_manager.latest_checkpoint:\n",
    "#   ckpt.restore(ckpt_manager.latest_checkpoint)\n",
    "#   print ('Latest checkpoint restored!!')"
   ]
  },
  {
   "cell_type": "markdown",
   "metadata": {
    "id": "0Di_Yaa1gf9r"
   },
   "source": [
    "The target is divided into tar_inp and tar_real. tar_inp is passed as an input to the decoder. `tar_real` is that same input shifted by 1: At each location in `tar_input`, `tar_real` contains the  next token that should be predicted.\n",
    "\n",
    "For example, `sentence` = \"SOS A lion in the jungle is sleeping EOS\"\n",
    "\n",
    "`tar_inp` =  \"SOS A lion in the jungle is sleeping\"\n",
    "\n",
    "`tar_real` = \"A lion in the jungle is sleeping EOS\"\n",
    "\n",
    "The transformer is an auto-regressive model: it makes predictions one part at a time, and uses its output so far to decide what to do next. \n",
    "\n",
    "During training this example uses teacher-forcing (like in the [text generation tutorial](./text_generation.ipynb)). Teacher forcing is passing the true output to the next time step regardless of what the model predicts at the current time step.\n",
    "\n",
    "As the transformer predicts each word, *self-attention* allows it to look at the previous words in the input sequence to better predict the next word.\n",
    "\n",
    "To prevent the model from peeking at the expected output the model uses a look-ahead mask."
   ]
  },
  {
   "cell_type": "code",
   "execution_count": 56,
   "metadata": {
    "id": "LKpoA6q1sJFj"
   },
   "outputs": [],
   "source": [
    "EPOCHS = 100"
   ]
  },
  {
   "cell_type": "code",
   "execution_count": 57,
   "metadata": {},
   "outputs": [],
   "source": [
    "run_id = f\"StableData_{num_layers}layers_{d_model}d_{num_heads}heads_{dff}dff_{EPOCHS}EPOCHS_{YueChar}YueChar\"\n",
    "log_dir = os.path.join(os.path.join(os.getcwd(), 'log'), run_id)\n",
    "# %load_ext tensorboard\n",
    "# %tensorboard --logdir {log_dir}"
   ]
  },
  {
   "cell_type": "code",
   "execution_count": 58,
   "metadata": {
    "id": "iJwmp9OE29oj"
   },
   "outputs": [],
   "source": [
    "# The @tf.function trace-compiles train_step into a TF graph for faster\n",
    "# execution. The function specializes to the precise shape of the argument\n",
    "# tensors. To avoid re-tracing due to the variable sequence lengths or variable\n",
    "# batch sizes (the last batch is smaller), use input_signature to specify\n",
    "# more generic shapes.\n",
    "\n",
    "train_step_signature = [\n",
    "    tf.TensorSpec(shape=(None, None), dtype=tf.int64),\n",
    "    tf.TensorSpec(shape=(None, None), dtype=tf.int64),\n",
    "]\n",
    "\n",
    "@tf.function(input_signature=train_step_signature)\n",
    "def train_step(inp, tar):\n",
    "  tar_inp = tar[:, :-1]\n",
    "  tar_real = tar[:, 1:]\n",
    "  \n",
    "  enc_padding_mask, combined_mask, dec_padding_mask = create_masks(inp, tar_inp)\n",
    "  \n",
    "  with tf.GradientTape() as tape:\n",
    "    predictions, _ = transformer(inp, tar_inp, \n",
    "                                 True, \n",
    "                                 enc_padding_mask, \n",
    "                                 combined_mask, \n",
    "                                 dec_padding_mask)\n",
    "    loss = loss_function(tar_real, predictions)\n",
    "\n",
    "  gradients = tape.gradient(loss, transformer.trainable_variables)    \n",
    "  optimizer.apply_gradients(zip(gradients, transformer.trainable_variables))\n",
    "  \n",
    "  train_loss(loss)\n",
    "  train_accuracy(tar_real, predictions)"
   ]
  },
  {
   "cell_type": "code",
   "execution_count": 59,
   "metadata": {
    "colab": {
     "base_uri": "https://localhost:8080/"
    },
    "id": "bbvmaKNiznHZ",
    "outputId": "f6bc5b1f-c9b6-4cb7-839f-70abab2c8905",
    "scrolled": true
   },
   "outputs": [
    {
     "name": "stdout",
     "output_type": "stream",
     "text": [
      "Epoch 1 Batch 0 Loss 11.7739 Accuracy 0.0000\n",
      "Epoch 1 Batch 50 Loss 11.7367 Accuracy 0.0055\n",
      "Epoch 1 Batch 100 Loss 11.6587 Accuracy 0.0261\n",
      "Epoch 1 Loss 11.6438 Accuracy 0.0270\n",
      "Time taken for 1 epoch: 214.9069685935974 secs\n",
      "\n",
      "Epoch 2 Batch 0 Loss 11.3847 Accuracy 0.0333\n",
      "Epoch 2 Batch 50 Loss 11.1819 Accuracy 0.0453\n",
      "Epoch 2 Batch 100 Loss 10.9321 Accuracy 0.0458\n",
      "Epoch 2 Loss 10.8935 Accuracy 0.0459\n",
      "Time taken for 1 epoch: 196.13317251205444 secs\n",
      "\n",
      "Epoch 3 Batch 0 Loss 10.2571 Accuracy 0.0333\n",
      "Epoch 3 Batch 50 Loss 9.9214 Accuracy 0.0442\n",
      "Epoch 3 Batch 100 Loss 9.5509 Accuracy 0.0468\n",
      "Epoch 3 Loss 9.4979 Accuracy 0.0467\n",
      "Time taken for 1 epoch: 196.7175064086914 secs\n",
      "\n",
      "Epoch 4 Batch 0 Loss 8.6265 Accuracy 0.0556\n",
      "Epoch 4 Batch 50 Loss 8.3071 Accuracy 0.0439\n",
      "Epoch 4 Batch 100 Loss 7.9825 Accuracy 0.0450\n",
      "Epoch 4 Loss 7.9423 Accuracy 0.0452\n",
      "Time taken for 1 epoch: 205.11767673492432 secs\n",
      "\n",
      "Epoch 5 Batch 0 Loss 7.2681 Accuracy 0.0263\n",
      "Epoch 5 Batch 50 Loss 7.1103 Accuracy 0.0458\n",
      "Epoch 5 Batch 100 Loss 6.9742 Accuracy 0.0466\n",
      "Saving checkpoint for epoch 5 at ./checkpoints/train/Stable_100EPOCHS_Char\\ckpt-1\n",
      "Epoch 5 Loss 6.9578 Accuracy 0.0464\n",
      "Time taken for 1 epoch: 202.84057569503784 secs\n",
      "\n",
      "Epoch 6 Batch 0 Loss 6.7437 Accuracy 0.0833\n",
      "Epoch 6 Batch 50 Loss 6.7188 Accuracy 0.0463\n",
      "Epoch 6 Batch 100 Loss 6.6879 Accuracy 0.0467\n",
      "Epoch 6 Loss 6.6840 Accuracy 0.0465\n",
      "Time taken for 1 epoch: 209.35787534713745 secs\n",
      "\n",
      "Epoch 7 Batch 0 Loss 6.5287 Accuracy 0.0714\n",
      "Epoch 7 Batch 50 Loss 6.5759 Accuracy 0.0464\n",
      "Epoch 7 Batch 100 Loss 6.5342 Accuracy 0.0515\n",
      "Epoch 7 Loss 6.5320 Accuracy 0.0509\n",
      "Time taken for 1 epoch: 204.92853212356567 secs\n",
      "\n",
      "Epoch 8 Batch 0 Loss 6.4100 Accuracy 0.0550\n",
      "Epoch 8 Batch 50 Loss 6.4052 Accuracy 0.0541\n",
      "Epoch 8 Batch 100 Loss 6.3603 Accuracy 0.0574\n",
      "Epoch 8 Loss 6.3573 Accuracy 0.0575\n",
      "Time taken for 1 epoch: 196.38929772377014 secs\n",
      "\n",
      "Epoch 9 Batch 0 Loss 6.0920 Accuracy 0.0398\n",
      "Epoch 9 Batch 50 Loss 6.2371 Accuracy 0.0624\n",
      "Epoch 9 Batch 100 Loss 6.1956 Accuracy 0.0620\n",
      "Epoch 9 Loss 6.1909 Accuracy 0.0622\n",
      "Time taken for 1 epoch: 195.97416877746582 secs\n",
      "\n",
      "Epoch 10 Batch 0 Loss 6.1107 Accuracy 0.0543\n",
      "Epoch 10 Batch 50 Loss 6.0910 Accuracy 0.0611\n",
      "Epoch 10 Batch 100 Loss 6.0495 Accuracy 0.0625\n",
      "Saving checkpoint for epoch 10 at ./checkpoints/train/Stable_100EPOCHS_Char\\ckpt-2\n",
      "Epoch 10 Loss 6.0430 Accuracy 0.0630\n",
      "Time taken for 1 epoch: 201.6374773979187 secs\n",
      "\n",
      "Epoch 11 Batch 0 Loss 5.7729 Accuracy 0.0517\n",
      "Epoch 11 Batch 50 Loss 5.9420 Accuracy 0.0633\n",
      "Epoch 11 Batch 100 Loss 5.9034 Accuracy 0.0665\n",
      "Epoch 11 Loss 5.8963 Accuracy 0.0667\n",
      "Time taken for 1 epoch: 197.40697073936462 secs\n",
      "\n",
      "Epoch 12 Batch 0 Loss 5.8660 Accuracy 0.0473\n",
      "Epoch 12 Batch 50 Loss 5.7950 Accuracy 0.0684\n",
      "Epoch 12 Batch 100 Loss 5.7555 Accuracy 0.0701\n",
      "Epoch 12 Loss 5.7512 Accuracy 0.0706\n",
      "Time taken for 1 epoch: 195.21775817871094 secs\n",
      "\n",
      "Epoch 13 Batch 0 Loss 5.3128 Accuracy 0.1250\n",
      "Epoch 13 Batch 50 Loss 5.6460 Accuracy 0.0720\n",
      "Epoch 13 Batch 100 Loss 5.6039 Accuracy 0.0742\n",
      "Epoch 13 Loss 5.5969 Accuracy 0.0742\n",
      "Time taken for 1 epoch: 191.34751057624817 secs\n",
      "\n",
      "Epoch 14 Batch 0 Loss 5.2399 Accuracy 0.0593\n",
      "Epoch 14 Batch 50 Loss 5.5125 Accuracy 0.0704\n",
      "Epoch 14 Batch 100 Loss 5.4658 Accuracy 0.0744\n",
      "Epoch 14 Loss 5.4547 Accuracy 0.0745\n",
      "Time taken for 1 epoch: 196.3160057067871 secs\n",
      "\n",
      "Epoch 15 Batch 0 Loss 5.4819 Accuracy 0.0448\n",
      "Epoch 15 Batch 50 Loss 5.3620 Accuracy 0.0743\n",
      "Epoch 15 Batch 100 Loss 5.3112 Accuracy 0.0756\n",
      "Saving checkpoint for epoch 15 at ./checkpoints/train/Stable_100EPOCHS_Char\\ckpt-3\n",
      "Epoch 15 Loss 5.3057 Accuracy 0.0761\n",
      "Time taken for 1 epoch: 199.89747023582458 secs\n",
      "\n",
      "Epoch 16 Batch 0 Loss 5.3865 Accuracy 0.0465\n",
      "Epoch 16 Batch 50 Loss 5.2251 Accuracy 0.0777\n",
      "Epoch 16 Batch 100 Loss 5.1654 Accuracy 0.0794\n",
      "Epoch 16 Loss 5.1595 Accuracy 0.0789\n",
      "Time taken for 1 epoch: 195.0672252178192 secs\n",
      "\n",
      "Epoch 17 Batch 0 Loss 5.0535 Accuracy 0.0768\n",
      "Epoch 17 Batch 50 Loss 5.0802 Accuracy 0.0786\n",
      "Epoch 17 Batch 100 Loss 5.0144 Accuracy 0.0813\n",
      "Epoch 17 Loss 5.0035 Accuracy 0.0818\n",
      "Time taken for 1 epoch: 192.95507979393005 secs\n",
      "\n",
      "Epoch 18 Batch 0 Loss 5.0306 Accuracy 0.1205\n",
      "Epoch 18 Batch 50 Loss 4.9320 Accuracy 0.0784\n",
      "Epoch 18 Batch 100 Loss 4.8668 Accuracy 0.0823\n",
      "Epoch 18 Loss 4.8630 Accuracy 0.0822\n",
      "Time taken for 1 epoch: 197.9003622531891 secs\n",
      "\n",
      "Epoch 19 Batch 0 Loss 4.7738 Accuracy 0.1250\n",
      "Epoch 19 Batch 50 Loss 4.7704 Accuracy 0.0819\n",
      "Epoch 19 Batch 100 Loss 4.7072 Accuracy 0.0864\n",
      "Epoch 19 Loss 4.6993 Accuracy 0.0864\n",
      "Time taken for 1 epoch: 191.95881414413452 secs\n",
      "\n",
      "Epoch 20 Batch 0 Loss 4.6285 Accuracy 0.0883\n",
      "Epoch 20 Batch 50 Loss 4.6041 Accuracy 0.0848\n",
      "Epoch 20 Batch 100 Loss 4.5340 Accuracy 0.0888\n",
      "Saving checkpoint for epoch 20 at ./checkpoints/train/Stable_100EPOCHS_Char\\ckpt-4\n",
      "Epoch 20 Loss 4.5286 Accuracy 0.0887\n",
      "Time taken for 1 epoch: 196.24448227882385 secs\n",
      "\n",
      "Epoch 21 Batch 0 Loss 4.4147 Accuracy 0.1120\n",
      "Epoch 21 Batch 50 Loss 4.4527 Accuracy 0.0873\n",
      "Epoch 21 Batch 100 Loss 4.3749 Accuracy 0.0938\n",
      "Epoch 21 Loss 4.3664 Accuracy 0.0926\n",
      "Time taken for 1 epoch: 191.9431712627411 secs\n",
      "\n",
      "Epoch 22 Batch 0 Loss 4.4103 Accuracy 0.1484\n",
      "Epoch 22 Batch 50 Loss 4.2617 Accuracy 0.0938\n",
      "Epoch 22 Batch 100 Loss 4.1934 Accuracy 0.0966\n",
      "Epoch 22 Loss 4.1836 Accuracy 0.0965\n",
      "Time taken for 1 epoch: 193.50871515274048 secs\n",
      "\n",
      "Epoch 23 Batch 0 Loss 4.2478 Accuracy 0.0719\n",
      "Epoch 23 Batch 50 Loss 4.0847 Accuracy 0.1029\n",
      "Epoch 23 Batch 100 Loss 4.0030 Accuracy 0.1055\n",
      "Epoch 23 Loss 3.9917 Accuracy 0.1041\n",
      "Time taken for 1 epoch: 190.67966747283936 secs\n",
      "\n",
      "Epoch 24 Batch 0 Loss 4.1598 Accuracy 0.0535\n",
      "Epoch 24 Batch 50 Loss 3.8782 Accuracy 0.0995\n",
      "Epoch 24 Batch 100 Loss 3.8014 Accuracy 0.1079\n",
      "Epoch 24 Loss 3.7962 Accuracy 0.1069\n",
      "Time taken for 1 epoch: 194.14034247398376 secs\n",
      "\n",
      "Epoch 25 Batch 0 Loss 3.8188 Accuracy 0.1094\n",
      "Epoch 25 Batch 50 Loss 3.6532 Accuracy 0.1160\n",
      "Epoch 25 Batch 100 Loss 3.5875 Accuracy 0.1177\n",
      "Saving checkpoint for epoch 25 at ./checkpoints/train/Stable_100EPOCHS_Char\\ckpt-5\n",
      "Epoch 25 Loss 3.5782 Accuracy 0.1177\n",
      "Time taken for 1 epoch: 193.06985783576965 secs\n",
      "\n",
      "Epoch 26 Batch 0 Loss 3.7221 Accuracy 0.2116\n",
      "Epoch 26 Batch 50 Loss 3.4713 Accuracy 0.1213\n",
      "Epoch 26 Batch 100 Loss 3.4021 Accuracy 0.1250\n",
      "Epoch 26 Loss 3.3914 Accuracy 0.1251\n",
      "Time taken for 1 epoch: 191.97414016723633 secs\n",
      "\n",
      "Epoch 27 Batch 0 Loss 3.3112 Accuracy 0.0870\n",
      "Epoch 27 Batch 50 Loss 3.2415 Accuracy 0.1295\n",
      "Epoch 27 Batch 100 Loss 3.1616 Accuracy 0.1363\n",
      "Epoch 27 Loss 3.1514 Accuracy 0.1378\n",
      "Time taken for 1 epoch: 191.59271550178528 secs\n",
      "\n",
      "Epoch 28 Batch 0 Loss 3.2107 Accuracy 0.0919\n",
      "Epoch 28 Batch 50 Loss 3.0395 Accuracy 0.1416\n",
      "Epoch 28 Batch 100 Loss 2.9453 Accuracy 0.1455\n",
      "Epoch 28 Loss 2.9355 Accuracy 0.1476\n",
      "Time taken for 1 epoch: 192.61225509643555 secs\n",
      "\n",
      "Epoch 29 Batch 0 Loss 2.9494 Accuracy 0.0785\n",
      "Epoch 29 Batch 50 Loss 2.8212 Accuracy 0.1502\n",
      "Epoch 29 Batch 100 Loss 2.7217 Accuracy 0.1568\n",
      "Epoch 29 Loss 2.7092 Accuracy 0.1581\n",
      "Time taken for 1 epoch: 193.9328327178955 secs\n",
      "\n",
      "Epoch 30 Batch 0 Loss 2.6727 Accuracy 0.2512\n",
      "Epoch 30 Batch 50 Loss 2.6024 Accuracy 0.1632\n",
      "Epoch 30 Batch 100 Loss 2.5116 Accuracy 0.1717\n",
      "Saving checkpoint for epoch 30 at ./checkpoints/train/Stable_100EPOCHS_Char\\ckpt-6\n",
      "Epoch 30 Loss 2.4987 Accuracy 0.1708\n",
      "Time taken for 1 epoch: 193.2499430179596 secs\n",
      "\n",
      "Epoch 31 Batch 0 Loss 2.4351 Accuracy 0.1170\n",
      "Epoch 31 Batch 50 Loss 2.3721 Accuracy 0.1748\n",
      "Epoch 31 Batch 100 Loss 2.2824 Accuracy 0.1852\n",
      "Epoch 31 Loss 2.2708 Accuracy 0.1838\n",
      "Time taken for 1 epoch: 190.72321820259094 secs\n",
      "\n",
      "Epoch 32 Batch 0 Loss 2.2473 Accuracy 0.1481\n",
      "Epoch 32 Batch 50 Loss 2.1647 Accuracy 0.1845\n",
      "Epoch 32 Batch 100 Loss 2.0790 Accuracy 0.1916\n",
      "Epoch 32 Loss 2.0730 Accuracy 0.1923\n",
      "Time taken for 1 epoch: 191.35826873779297 secs\n",
      "\n",
      "Epoch 33 Batch 0 Loss 1.9475 Accuracy 0.1207\n",
      "Epoch 33 Batch 50 Loss 1.9619 Accuracy 0.1946\n",
      "Epoch 33 Batch 100 Loss 1.8892 Accuracy 0.1977\n",
      "Epoch 33 Loss 1.8815 Accuracy 0.2006\n",
      "Time taken for 1 epoch: 193.28737998008728 secs\n",
      "\n",
      "Epoch 34 Batch 0 Loss 1.8278 Accuracy 0.1420\n",
      "Epoch 34 Batch 50 Loss 1.7916 Accuracy 0.2019\n",
      "Epoch 34 Batch 100 Loss 1.7334 Accuracy 0.2101\n",
      "Epoch 34 Loss 1.7277 Accuracy 0.2108\n",
      "Time taken for 1 epoch: 191.8797037601471 secs\n",
      "\n",
      "Epoch 35 Batch 0 Loss 1.7135 Accuracy 0.1468\n",
      "Epoch 35 Batch 50 Loss 1.6427 Accuracy 0.2098\n",
      "Epoch 35 Batch 100 Loss 1.5946 Accuracy 0.2138\n"
     ]
    },
    {
     "name": "stdout",
     "output_type": "stream",
     "text": [
      "Saving checkpoint for epoch 35 at ./checkpoints/train/Stable_100EPOCHS_Char\\ckpt-7\n",
      "Epoch 35 Loss 1.5880 Accuracy 0.2143\n",
      "Time taken for 1 epoch: 196.2489356994629 secs\n",
      "\n",
      "Epoch 36 Batch 0 Loss 1.7331 Accuracy 0.1929\n",
      "Epoch 36 Batch 50 Loss 1.5111 Accuracy 0.2128\n",
      "Epoch 36 Batch 100 Loss 1.4643 Accuracy 0.2254\n",
      "Epoch 36 Loss 1.4605 Accuracy 0.2218\n",
      "Time taken for 1 epoch: 193.03186798095703 secs\n",
      "\n",
      "Epoch 37 Batch 0 Loss 1.3646 Accuracy 0.3810\n",
      "Epoch 37 Batch 50 Loss 1.3896 Accuracy 0.2170\n",
      "Epoch 37 Batch 100 Loss 1.3524 Accuracy 0.2274\n",
      "Epoch 37 Loss 1.3500 Accuracy 0.2275\n",
      "Time taken for 1 epoch: 193.6917781829834 secs\n",
      "\n",
      "Epoch 38 Batch 0 Loss 1.3479 Accuracy 0.3292\n",
      "Epoch 38 Batch 50 Loss 1.2996 Accuracy 0.2251\n",
      "Epoch 38 Batch 100 Loss 1.2506 Accuracy 0.2315\n",
      "Epoch 38 Loss 1.2474 Accuracy 0.2328\n",
      "Time taken for 1 epoch: 194.02161288261414 secs\n",
      "\n",
      "Epoch 39 Batch 0 Loss 1.2500 Accuracy 0.2310\n",
      "Epoch 39 Batch 50 Loss 1.1737 Accuracy 0.2286\n",
      "Epoch 39 Batch 100 Loss 1.1388 Accuracy 0.2361\n",
      "Epoch 39 Loss 1.1311 Accuracy 0.2359\n",
      "Time taken for 1 epoch: 196.57662105560303 secs\n",
      "\n",
      "Epoch 40 Batch 0 Loss 1.1580 Accuracy 0.2120\n",
      "Epoch 40 Batch 50 Loss 1.0794 Accuracy 0.2266\n",
      "Epoch 40 Batch 100 Loss 1.0481 Accuracy 0.2411\n",
      "Saving checkpoint for epoch 40 at ./checkpoints/train/Stable_100EPOCHS_Char\\ckpt-8\n",
      "Epoch 40 Loss 1.0445 Accuracy 0.2422\n",
      "Time taken for 1 epoch: 199.50346755981445 secs\n",
      "\n",
      "Epoch 41 Batch 0 Loss 0.9894 Accuracy 0.1534\n",
      "Epoch 41 Batch 50 Loss 0.9898 Accuracy 0.2573\n",
      "Epoch 41 Batch 100 Loss 0.9590 Accuracy 0.2578\n",
      "Epoch 41 Loss 0.9527 Accuracy 0.2582\n",
      "Time taken for 1 epoch: 190.02088928222656 secs\n",
      "\n",
      "Epoch 42 Batch 0 Loss 0.8745 Accuracy 0.1934\n",
      "Epoch 42 Batch 50 Loss 0.9028 Accuracy 0.2556\n",
      "Epoch 42 Batch 100 Loss 0.8888 Accuracy 0.2618\n",
      "Epoch 42 Loss 0.8847 Accuracy 0.2619\n",
      "Time taken for 1 epoch: 190.03453278541565 secs\n",
      "\n",
      "Epoch 43 Batch 0 Loss 0.8860 Accuracy 0.3186\n",
      "Epoch 43 Batch 50 Loss 0.8171 Accuracy 0.2500\n",
      "Epoch 43 Batch 100 Loss 0.8032 Accuracy 0.2621\n",
      "Epoch 43 Loss 0.8024 Accuracy 0.2621\n",
      "Time taken for 1 epoch: 194.00384306907654 secs\n",
      "\n",
      "Epoch 44 Batch 0 Loss 0.8124 Accuracy 0.1809\n",
      "Epoch 44 Batch 50 Loss 0.7559 Accuracy 0.2600\n",
      "Epoch 44 Batch 100 Loss 0.7362 Accuracy 0.2700\n",
      "Epoch 44 Loss 0.7353 Accuracy 0.2698\n",
      "Time taken for 1 epoch: 192.46499681472778 secs\n",
      "\n",
      "Epoch 45 Batch 0 Loss 0.6861 Accuracy 0.3012\n",
      "Epoch 45 Batch 50 Loss 0.7080 Accuracy 0.2606\n",
      "Epoch 45 Batch 100 Loss 0.6917 Accuracy 0.2729\n",
      "Saving checkpoint for epoch 45 at ./checkpoints/train/Stable_100EPOCHS_Char\\ckpt-9\n",
      "Epoch 45 Loss 0.6911 Accuracy 0.2728\n",
      "Time taken for 1 epoch: 195.25965189933777 secs\n",
      "\n",
      "Epoch 46 Batch 0 Loss 0.6619 Accuracy 0.2045\n",
      "Epoch 46 Batch 50 Loss 0.6767 Accuracy 0.2792\n",
      "Epoch 46 Batch 100 Loss 0.6461 Accuracy 0.2772\n",
      "Epoch 46 Loss 0.6424 Accuracy 0.2783\n",
      "Time taken for 1 epoch: 191.06752371788025 secs\n",
      "\n",
      "Epoch 47 Batch 0 Loss 0.5325 Accuracy 0.2561\n",
      "Epoch 47 Batch 50 Loss 0.6118 Accuracy 0.2811\n",
      "Epoch 47 Batch 100 Loss 0.5924 Accuracy 0.2842\n",
      "Epoch 47 Loss 0.5891 Accuracy 0.2849\n",
      "Time taken for 1 epoch: 190.00345396995544 secs\n",
      "\n",
      "Epoch 48 Batch 0 Loss 0.6393 Accuracy 0.2514\n",
      "Epoch 48 Batch 50 Loss 0.5621 Accuracy 0.2839\n",
      "Epoch 48 Batch 100 Loss 0.5621 Accuracy 0.2883\n",
      "Epoch 48 Loss 0.5603 Accuracy 0.2871\n",
      "Time taken for 1 epoch: 189.71038627624512 secs\n",
      "\n",
      "Epoch 49 Batch 0 Loss 0.6510 Accuracy 0.4279\n",
      "Epoch 49 Batch 50 Loss 0.5428 Accuracy 0.2739\n",
      "Epoch 49 Batch 100 Loss 0.5273 Accuracy 0.2832\n",
      "Epoch 49 Loss 0.5276 Accuracy 0.2837\n",
      "Time taken for 1 epoch: 193.2995479106903 secs\n",
      "\n",
      "Epoch 50 Batch 0 Loss 0.5648 Accuracy 0.1917\n",
      "Epoch 50 Batch 50 Loss 0.5098 Accuracy 0.2754\n",
      "Epoch 50 Batch 100 Loss 0.5001 Accuracy 0.2861\n",
      "Saving checkpoint for epoch 50 at ./checkpoints/train/Stable_100EPOCHS_Char\\ckpt-10\n",
      "Epoch 50 Loss 0.4952 Accuracy 0.2877\n",
      "Time taken for 1 epoch: 194.09301447868347 secs\n",
      "\n",
      "Epoch 51 Batch 0 Loss 0.5729 Accuracy 0.3238\n",
      "Epoch 51 Batch 50 Loss 0.4882 Accuracy 0.2939\n",
      "Epoch 51 Batch 100 Loss 0.4791 Accuracy 0.2912\n",
      "Epoch 51 Loss 0.4750 Accuracy 0.2920\n",
      "Time taken for 1 epoch: 191.3583903312683 secs\n",
      "\n",
      "Epoch 52 Batch 0 Loss 0.5498 Accuracy 0.2053\n",
      "Epoch 52 Batch 50 Loss 0.4476 Accuracy 0.2997\n",
      "Epoch 52 Batch 100 Loss 0.4454 Accuracy 0.2955\n",
      "Epoch 52 Loss 0.4444 Accuracy 0.2948\n",
      "Time taken for 1 epoch: 190.47056531906128 secs\n",
      "\n",
      "Epoch 53 Batch 0 Loss 0.3815 Accuracy 0.4555\n",
      "Epoch 53 Batch 50 Loss 0.4114 Accuracy 0.2837\n",
      "Epoch 53 Batch 100 Loss 0.4085 Accuracy 0.2915\n",
      "Epoch 53 Loss 0.4067 Accuracy 0.2899\n",
      "Time taken for 1 epoch: 195.25019526481628 secs\n",
      "\n",
      "Epoch 54 Batch 0 Loss 0.4213 Accuracy 0.2172\n",
      "Epoch 54 Batch 50 Loss 0.3997 Accuracy 0.2985\n",
      "Epoch 54 Batch 100 Loss 0.3957 Accuracy 0.3012\n",
      "Epoch 54 Loss 0.3956 Accuracy 0.3029\n",
      "Time taken for 1 epoch: 188.44421315193176 secs\n",
      "\n",
      "Epoch 55 Batch 0 Loss 0.3609 Accuracy 0.4442\n",
      "Epoch 55 Batch 50 Loss 0.3838 Accuracy 0.2882\n",
      "Epoch 55 Batch 100 Loss 0.3772 Accuracy 0.2998\n",
      "Saving checkpoint for epoch 55 at ./checkpoints/train/Stable_100EPOCHS_Char\\ckpt-11\n",
      "Epoch 55 Loss 0.3771 Accuracy 0.2968\n",
      "Time taken for 1 epoch: 194.8995327949524 secs\n",
      "\n",
      "Epoch 56 Batch 0 Loss 0.4154 Accuracy 0.2172\n",
      "Epoch 56 Batch 50 Loss 0.3839 Accuracy 0.2842\n",
      "Epoch 56 Batch 100 Loss 0.3694 Accuracy 0.2923\n",
      "Epoch 56 Loss 0.3697 Accuracy 0.2938\n",
      "Time taken for 1 epoch: 195.08678030967712 secs\n",
      "\n",
      "Epoch 57 Batch 0 Loss 0.3653 Accuracy 0.2112\n",
      "Epoch 57 Batch 50 Loss 0.3554 Accuracy 0.2813\n",
      "Epoch 57 Batch 100 Loss 0.3440 Accuracy 0.2958\n",
      "Epoch 57 Loss 0.3433 Accuracy 0.2947\n",
      "Time taken for 1 epoch: 196.83508205413818 secs\n",
      "\n",
      "Epoch 58 Batch 0 Loss 0.3208 Accuracy 0.1674\n",
      "Epoch 58 Batch 50 Loss 0.3286 Accuracy 0.3019\n",
      "Epoch 58 Batch 100 Loss 0.3217 Accuracy 0.3030\n",
      "Epoch 58 Loss 0.3211 Accuracy 0.3023\n",
      "Time taken for 1 epoch: 192.9446165561676 secs\n",
      "\n",
      "Epoch 59 Batch 0 Loss 0.2733 Accuracy 0.1797\n",
      "Epoch 59 Batch 50 Loss 0.3111 Accuracy 0.2942\n",
      "Epoch 59 Batch 100 Loss 0.3142 Accuracy 0.2974\n",
      "Epoch 59 Loss 0.3151 Accuracy 0.2977\n",
      "Time taken for 1 epoch: 196.45098161697388 secs\n",
      "\n",
      "Epoch 60 Batch 0 Loss 0.3285 Accuracy 0.4129\n",
      "Epoch 60 Batch 50 Loss 0.3233 Accuracy 0.2900\n",
      "Epoch 60 Batch 100 Loss 0.3090 Accuracy 0.2971\n",
      "Saving checkpoint for epoch 60 at ./checkpoints/train/Stable_100EPOCHS_Char\\ckpt-12\n",
      "Epoch 60 Loss 0.3067 Accuracy 0.3015\n",
      "Time taken for 1 epoch: 197.64416074752808 secs\n",
      "\n",
      "Epoch 61 Batch 0 Loss 0.3490 Accuracy 0.4363\n",
      "Epoch 61 Batch 50 Loss 0.2978 Accuracy 0.3028\n",
      "Epoch 61 Batch 100 Loss 0.2956 Accuracy 0.3046\n",
      "Epoch 61 Loss 0.2963 Accuracy 0.3069\n",
      "Time taken for 1 epoch: 191.9006278514862 secs\n",
      "\n",
      "Epoch 62 Batch 0 Loss 0.2452 Accuracy 0.4567\n",
      "Epoch 62 Batch 50 Loss 0.2902 Accuracy 0.3059\n",
      "Epoch 62 Batch 100 Loss 0.2880 Accuracy 0.3040\n",
      "Epoch 62 Loss 0.2858 Accuracy 0.3069\n",
      "Time taken for 1 epoch: 192.04762506484985 secs\n",
      "\n",
      "Epoch 63 Batch 0 Loss 0.2964 Accuracy 0.2220\n",
      "Epoch 63 Batch 50 Loss 0.2797 Accuracy 0.2968\n",
      "Epoch 63 Batch 100 Loss 0.2735 Accuracy 0.3037\n",
      "Epoch 63 Loss 0.2723 Accuracy 0.3047\n",
      "Time taken for 1 epoch: 193.68531370162964 secs\n",
      "\n",
      "Epoch 64 Batch 0 Loss 0.2520 Accuracy 0.3533\n",
      "Epoch 64 Batch 50 Loss 0.2658 Accuracy 0.3075\n",
      "Epoch 64 Batch 100 Loss 0.2592 Accuracy 0.3074\n",
      "Epoch 64 Loss 0.2594 Accuracy 0.3100\n",
      "Time taken for 1 epoch: 191.81964111328125 secs\n",
      "\n",
      "Epoch 65 Batch 0 Loss 0.3093 Accuracy 0.1772\n",
      "Epoch 65 Batch 50 Loss 0.2556 Accuracy 0.3068\n",
      "Epoch 65 Batch 100 Loss 0.2501 Accuracy 0.3152\n",
      "Saving checkpoint for epoch 65 at ./checkpoints/train/Stable_100EPOCHS_Char\\ckpt-13\n",
      "Epoch 65 Loss 0.2520 Accuracy 0.3126\n",
      "Time taken for 1 epoch: 193.64529967308044 secs\n",
      "\n",
      "Epoch 66 Batch 0 Loss 0.2070 Accuracy 0.3152\n",
      "Epoch 66 Batch 50 Loss 0.2490 Accuracy 0.3001\n",
      "Epoch 66 Batch 100 Loss 0.2461 Accuracy 0.3103\n",
      "Epoch 66 Loss 0.2456 Accuracy 0.3081\n",
      "Time taken for 1 epoch: 193.1365520954132 secs\n",
      "\n",
      "Epoch 67 Batch 0 Loss 0.2971 Accuracy 0.2074\n",
      "Epoch 67 Batch 50 Loss 0.2412 Accuracy 0.2955\n",
      "Epoch 67 Batch 100 Loss 0.2395 Accuracy 0.2993\n",
      "Epoch 67 Loss 0.2387 Accuracy 0.3016\n",
      "Time taken for 1 epoch: 197.0618817806244 secs\n",
      "\n",
      "Epoch 68 Batch 0 Loss 0.2243 Accuracy 0.2301\n",
      "Epoch 68 Batch 50 Loss 0.2273 Accuracy 0.3012\n",
      "Epoch 68 Batch 100 Loss 0.2267 Accuracy 0.3053\n",
      "Epoch 68 Loss 0.2275 Accuracy 0.3074\n",
      "Time taken for 1 epoch: 194.44721746444702 secs\n",
      "\n",
      "Epoch 69 Batch 0 Loss 0.2058 Accuracy 0.4916\n",
      "Epoch 69 Batch 50 Loss 0.2291 Accuracy 0.3029\n",
      "Epoch 69 Batch 100 Loss 0.2313 Accuracy 0.3065\n",
      "Epoch 69 Loss 0.2304 Accuracy 0.3057\n",
      "Time taken for 1 epoch: 195.98896074295044 secs\n",
      "\n"
     ]
    },
    {
     "name": "stdout",
     "output_type": "stream",
     "text": [
      "Epoch 70 Batch 0 Loss 0.2277 Accuracy 0.5060\n",
      "Epoch 70 Batch 50 Loss 0.2254 Accuracy 0.3106\n",
      "Epoch 70 Batch 100 Loss 0.2230 Accuracy 0.3109\n",
      "Saving checkpoint for epoch 70 at ./checkpoints/train/Stable_100EPOCHS_Char\\ckpt-14\n",
      "Epoch 70 Loss 0.2218 Accuracy 0.3125\n",
      "Time taken for 1 epoch: 194.53339791297913 secs\n",
      "\n",
      "Epoch 71 Batch 0 Loss 0.2311 Accuracy 0.4129\n",
      "Epoch 71 Batch 50 Loss 0.2034 Accuracy 0.3098\n",
      "Epoch 71 Batch 100 Loss 0.2091 Accuracy 0.3170\n",
      "Epoch 71 Loss 0.2106 Accuracy 0.3181\n",
      "Time taken for 1 epoch: 188.96418070793152 secs\n",
      "\n",
      "Epoch 72 Batch 0 Loss 0.1924 Accuracy 0.2738\n",
      "Epoch 72 Batch 50 Loss 0.2136 Accuracy 0.2943\n",
      "Epoch 72 Batch 100 Loss 0.2075 Accuracy 0.3104\n",
      "Epoch 72 Loss 0.2072 Accuracy 0.3091\n",
      "Time taken for 1 epoch: 194.91391515731812 secs\n",
      "\n",
      "Epoch 73 Batch 0 Loss 0.1938 Accuracy 0.4464\n",
      "Epoch 73 Batch 50 Loss 0.2006 Accuracy 0.2992\n",
      "Epoch 73 Batch 100 Loss 0.2024 Accuracy 0.3056\n",
      "Epoch 73 Loss 0.2017 Accuracy 0.3040\n",
      "Time taken for 1 epoch: 197.67206168174744 secs\n",
      "\n",
      "Epoch 74 Batch 0 Loss 0.1855 Accuracy 0.2908\n",
      "Epoch 74 Batch 50 Loss 0.2059 Accuracy 0.3008\n",
      "Epoch 74 Batch 100 Loss 0.2023 Accuracy 0.3086\n",
      "Epoch 74 Loss 0.2014 Accuracy 0.3099\n",
      "Time taken for 1 epoch: 194.9255006313324 secs\n",
      "\n",
      "Epoch 75 Batch 0 Loss 0.2400 Accuracy 0.2921\n",
      "Epoch 75 Batch 50 Loss 0.2011 Accuracy 0.3066\n",
      "Epoch 75 Batch 100 Loss 0.1932 Accuracy 0.3135\n",
      "Saving checkpoint for epoch 75 at ./checkpoints/train/Stable_100EPOCHS_Char\\ckpt-15\n",
      "Epoch 75 Loss 0.1939 Accuracy 0.3144\n",
      "Time taken for 1 epoch: 198.03622198104858 secs\n",
      "\n",
      "Epoch 76 Batch 0 Loss 0.1345 Accuracy 0.2765\n",
      "Epoch 76 Batch 50 Loss 0.1863 Accuracy 0.3180\n",
      "Epoch 76 Batch 100 Loss 0.1875 Accuracy 0.3194\n",
      "Epoch 76 Loss 0.1893 Accuracy 0.3185\n",
      "Time taken for 1 epoch: 190.9558560848236 secs\n",
      "\n",
      "Epoch 77 Batch 0 Loss 0.2778 Accuracy 0.1960\n",
      "Epoch 77 Batch 50 Loss 0.1951 Accuracy 0.3108\n",
      "Epoch 77 Batch 100 Loss 0.1900 Accuracy 0.3126\n",
      "Epoch 77 Loss 0.1892 Accuracy 0.3132\n",
      "Time taken for 1 epoch: 193.28848242759705 secs\n",
      "\n",
      "Epoch 78 Batch 0 Loss 0.2236 Accuracy 0.2355\n",
      "Epoch 78 Batch 50 Loss 0.1819 Accuracy 0.2994\n",
      "Epoch 78 Batch 100 Loss 0.1761 Accuracy 0.3144\n",
      "Epoch 78 Loss 0.1757 Accuracy 0.3107\n",
      "Time taken for 1 epoch: 195.29163217544556 secs\n",
      "\n",
      "Epoch 79 Batch 0 Loss 0.1748 Accuracy 0.3733\n",
      "Epoch 79 Batch 50 Loss 0.1762 Accuracy 0.3125\n",
      "Epoch 79 Batch 100 Loss 0.1727 Accuracy 0.3168\n",
      "Epoch 79 Loss 0.1718 Accuracy 0.3138\n",
      "Time taken for 1 epoch: 193.82106614112854 secs\n",
      "\n",
      "Epoch 80 Batch 0 Loss 0.2003 Accuracy 0.2731\n",
      "Epoch 80 Batch 50 Loss 0.1713 Accuracy 0.3217\n",
      "Epoch 80 Batch 100 Loss 0.1747 Accuracy 0.3176\n",
      "Saving checkpoint for epoch 80 at ./checkpoints/train/Stable_100EPOCHS_Char\\ckpt-16\n",
      "Epoch 80 Loss 0.1750 Accuracy 0.3171\n",
      "Time taken for 1 epoch: 193.65994691848755 secs\n",
      "\n",
      "Epoch 81 Batch 0 Loss 0.1842 Accuracy 0.5299\n",
      "Epoch 81 Batch 50 Loss 0.1752 Accuracy 0.3108\n",
      "Epoch 81 Batch 100 Loss 0.1729 Accuracy 0.3150\n",
      "Epoch 81 Loss 0.1719 Accuracy 0.3149\n",
      "Time taken for 1 epoch: 192.91740083694458 secs\n",
      "\n",
      "Epoch 82 Batch 0 Loss 0.1363 Accuracy 0.2908\n",
      "Epoch 82 Batch 50 Loss 0.1684 Accuracy 0.3019\n",
      "Epoch 82 Batch 100 Loss 0.1678 Accuracy 0.3150\n",
      "Epoch 82 Loss 0.1669 Accuracy 0.3138\n",
      "Time taken for 1 epoch: 194.03404641151428 secs\n",
      "\n",
      "Epoch 83 Batch 0 Loss 0.1833 Accuracy 0.1933\n",
      "Epoch 83 Batch 50 Loss 0.1594 Accuracy 0.3337\n",
      "Epoch 83 Batch 100 Loss 0.1584 Accuracy 0.3328\n",
      "Epoch 83 Loss 0.1590 Accuracy 0.3274\n",
      "Time taken for 1 epoch: 187.07783341407776 secs\n",
      "\n",
      "Epoch 84 Batch 0 Loss 0.1634 Accuracy 0.2516\n",
      "Epoch 84 Batch 50 Loss 0.1607 Accuracy 0.3171\n",
      "Epoch 84 Batch 100 Loss 0.1603 Accuracy 0.3195\n",
      "Epoch 84 Loss 0.1600 Accuracy 0.3196\n",
      "Time taken for 1 epoch: 192.74494743347168 secs\n",
      "\n",
      "Epoch 85 Batch 0 Loss 0.1918 Accuracy 0.2164\n",
      "Epoch 85 Batch 50 Loss 0.1620 Accuracy 0.3108\n",
      "Epoch 85 Batch 100 Loss 0.1571 Accuracy 0.3204\n",
      "Saving checkpoint for epoch 85 at ./checkpoints/train/Stable_100EPOCHS_Char\\ckpt-17\n",
      "Epoch 85 Loss 0.1566 Accuracy 0.3213\n",
      "Time taken for 1 epoch: 192.9596564769745 secs\n",
      "\n",
      "Epoch 86 Batch 0 Loss 0.1689 Accuracy 0.4904\n",
      "Epoch 86 Batch 50 Loss 0.1531 Accuracy 0.3227\n",
      "Epoch 86 Batch 100 Loss 0.1579 Accuracy 0.3227\n",
      "Epoch 86 Loss 0.1588 Accuracy 0.3240\n",
      "Time taken for 1 epoch: 189.54791808128357 secs\n",
      "\n",
      "Epoch 87 Batch 0 Loss 0.1182 Accuracy 0.3420\n",
      "Epoch 87 Batch 50 Loss 0.1581 Accuracy 0.3151\n",
      "Epoch 87 Batch 100 Loss 0.1523 Accuracy 0.3203\n",
      "Epoch 87 Loss 0.1511 Accuracy 0.3217\n",
      "Time taken for 1 epoch: 190.5590169429779 secs\n",
      "\n",
      "Epoch 88 Batch 0 Loss 0.1622 Accuracy 0.3585\n",
      "Epoch 88 Batch 50 Loss 0.1467 Accuracy 0.3203\n",
      "Epoch 88 Batch 100 Loss 0.1461 Accuracy 0.3181\n",
      "Epoch 88 Loss 0.1455 Accuracy 0.3201\n",
      "Time taken for 1 epoch: 192.64517426490784 secs\n",
      "\n",
      "Epoch 89 Batch 0 Loss 0.1645 Accuracy 0.1641\n",
      "Epoch 89 Batch 50 Loss 0.1447 Accuracy 0.3064\n",
      "Epoch 89 Batch 100 Loss 0.1452 Accuracy 0.3212\n",
      "Epoch 89 Loss 0.1444 Accuracy 0.3171\n",
      "Time taken for 1 epoch: 193.61488842964172 secs\n",
      "\n",
      "Epoch 90 Batch 0 Loss 0.1405 Accuracy 0.5276\n",
      "Epoch 90 Batch 50 Loss 0.1512 Accuracy 0.3011\n",
      "Epoch 90 Batch 100 Loss 0.1465 Accuracy 0.3163\n",
      "Saving checkpoint for epoch 90 at ./checkpoints/train/Stable_100EPOCHS_Char\\ckpt-18\n",
      "Epoch 90 Loss 0.1461 Accuracy 0.3131\n",
      "Time taken for 1 epoch: 197.51169848442078 secs\n",
      "\n",
      "Epoch 91 Batch 0 Loss 0.1340 Accuracy 0.4821\n",
      "Epoch 91 Batch 50 Loss 0.1334 Accuracy 0.3170\n",
      "Epoch 91 Batch 100 Loss 0.1334 Accuracy 0.3261\n",
      "Epoch 91 Loss 0.1348 Accuracy 0.3250\n",
      "Time taken for 1 epoch: 189.99832820892334 secs\n",
      "\n",
      "Epoch 92 Batch 0 Loss 0.1878 Accuracy 0.4241\n",
      "Epoch 92 Batch 50 Loss 0.1396 Accuracy 0.3121\n",
      "Epoch 92 Batch 100 Loss 0.1399 Accuracy 0.3217\n",
      "Epoch 92 Loss 0.1393 Accuracy 0.3233\n",
      "Time taken for 1 epoch: 190.12706398963928 secs\n",
      "\n",
      "Epoch 93 Batch 0 Loss 0.1317 Accuracy 0.4952\n",
      "Epoch 93 Batch 50 Loss 0.1398 Accuracy 0.3139\n",
      "Epoch 93 Batch 100 Loss 0.1390 Accuracy 0.3234\n",
      "Epoch 93 Loss 0.1387 Accuracy 0.3205\n",
      "Time taken for 1 epoch: 192.487854719162 secs\n",
      "\n",
      "Epoch 94 Batch 0 Loss 0.0961 Accuracy 0.2432\n",
      "Epoch 94 Batch 50 Loss 0.1306 Accuracy 0.3173\n",
      "Epoch 94 Batch 100 Loss 0.1343 Accuracy 0.3256\n",
      "Epoch 94 Loss 0.1349 Accuracy 0.3207\n",
      "Time taken for 1 epoch: 192.61285829544067 secs\n",
      "\n",
      "Epoch 95 Batch 0 Loss 0.1512 Accuracy 0.2125\n",
      "Epoch 95 Batch 50 Loss 0.1318 Accuracy 0.3244\n",
      "Epoch 95 Batch 100 Loss 0.1371 Accuracy 0.3236\n",
      "Saving checkpoint for epoch 95 at ./checkpoints/train/Stable_100EPOCHS_Char\\ckpt-19\n",
      "Epoch 95 Loss 0.1365 Accuracy 0.3252\n",
      "Time taken for 1 epoch: 191.89343237876892 secs\n",
      "\n",
      "Epoch 96 Batch 0 Loss 0.1051 Accuracy 0.2430\n",
      "Epoch 96 Batch 50 Loss 0.1257 Accuracy 0.3137\n",
      "Epoch 96 Batch 100 Loss 0.1280 Accuracy 0.3213\n",
      "Epoch 96 Loss 0.1278 Accuracy 0.3198\n",
      "Time taken for 1 epoch: 193.08251786231995 secs\n",
      "\n",
      "Epoch 97 Batch 0 Loss 0.1316 Accuracy 0.2173\n",
      "Epoch 97 Batch 50 Loss 0.1312 Accuracy 0.3189\n",
      "Epoch 97 Batch 100 Loss 0.1283 Accuracy 0.3189\n",
      "Epoch 97 Loss 0.1277 Accuracy 0.3164\n",
      "Time taken for 1 epoch: 194.53171014785767 secs\n",
      "\n",
      "Epoch 98 Batch 0 Loss 0.1217 Accuracy 0.3741\n",
      "Epoch 98 Batch 50 Loss 0.1270 Accuracy 0.3095\n",
      "Epoch 98 Batch 100 Loss 0.1280 Accuracy 0.3276\n",
      "Epoch 98 Loss 0.1280 Accuracy 0.3267\n",
      "Time taken for 1 epoch: 191.24831438064575 secs\n",
      "\n",
      "Epoch 99 Batch 0 Loss 0.1297 Accuracy 0.3628\n",
      "Epoch 99 Batch 50 Loss 0.1246 Accuracy 0.3061\n",
      "Epoch 99 Batch 100 Loss 0.1247 Accuracy 0.3118\n",
      "Epoch 99 Loss 0.1239 Accuracy 0.3136\n",
      "Time taken for 1 epoch: 198.61156749725342 secs\n",
      "\n",
      "Epoch 100 Batch 0 Loss 0.1085 Accuracy 0.2126\n",
      "Epoch 100 Batch 50 Loss 0.1170 Accuracy 0.3016\n",
      "Epoch 100 Batch 100 Loss 0.1197 Accuracy 0.3193\n",
      "Saving checkpoint for epoch 100 at ./checkpoints/train/Stable_100EPOCHS_Char\\ckpt-20\n",
      "Epoch 100 Loss 0.1198 Accuracy 0.3192\n",
      "Time taken for 1 epoch: 197.71089267730713 secs\n",
      "\n"
     ]
    }
   ],
   "source": [
    "summary_writer = tf.summary.create_file_writer(log_dir)\n",
    "for epoch in range(EPOCHS):\n",
    "  start = time.time()\n",
    "  \n",
    "  train_loss.reset_states()\n",
    "  train_accuracy.reset_states()\n",
    "  \n",
    "  for (batch, (inp, tar)) in enumerate(train_dataset):\n",
    "    train_step(inp, tar)\n",
    "    \n",
    "    if batch % 50 == 0:\n",
    "      print ('Epoch {} Batch {} Loss {:.4f} Accuracy {:.4f}'.format(\n",
    "          epoch + 1, batch, train_loss.result(), train_accuracy.result()))\n",
    "      \n",
    "  if (epoch + 1) % 5 == 0:\n",
    "    ckpt_save_path = ckpt_manager.save()\n",
    "    print ('Saving checkpoint for epoch {} at {}'.format(epoch+1,\n",
    "                                                         ckpt_save_path))\n",
    "    \n",
    "  # Save output to TensorBoard\n",
    "  with summary_writer.as_default():\n",
    "    tf.summary.scalar(\"train_loss\", train_loss.result(), step=epoch + 1)\n",
    "    tf.summary.scalar(\"train_acc\", train_accuracy.result(), step=epoch + 1)\n",
    "    \n",
    "  print ('Epoch {} Loss {:.4f} Accuracy {:.4f}'.format(epoch + 1, \n",
    "                                                train_loss.result(), \n",
    "                                                train_accuracy.result()))\n",
    "\n",
    "  print ('Time taken for 1 epoch: {} secs\\n'.format(time.time() - start))"
   ]
  },
  {
   "cell_type": "markdown",
   "metadata": {
    "id": "QfcsSWswSdGV"
   },
   "source": [
    "## Evaluate"
   ]
  },
  {
   "cell_type": "markdown",
   "metadata": {
    "id": "y6APsFrgImLW"
   },
   "source": [
    "The following steps are used for evaluation:\n",
    "\n",
    "* Encode the input sentence using the `input_tokenizer`. Moreover, add the start and end token so the input is equivalent to what the model is trained with. This is the encoder input.\n",
    "* The decoder input is the `start token == target_tokenizer.vocab_size`.\n",
    "* Calculate the padding masks and the look ahead masks.\n",
    "* The `decoder` then outputs the predictions by looking at the `encoder output` and its own output (self-attention).\n",
    "* Select the last word and calculate the argmax of that.\n",
    "* Concatentate the predicted word to the decoder input as pass it to the decoder.\n",
    "* In this approach, the decoder predicts the next word based on the previous words it predicted.\n",
    "\n",
    "Note: The model used here has less capacity to keep the example relatively faster so the predictions maybe less right. To reproduce the results in the paper, use the entire dataset and base transformer model or transformer XL, by changing the hyperparameters above."
   ]
  },
  {
   "cell_type": "code",
   "execution_count": 60,
   "metadata": {
    "id": "5buvMlnvyrFm"
   },
   "outputs": [],
   "source": [
    "def evaluate(inp_sentence):\n",
    "  start_token = [input_tokenizer.vocab_size]\n",
    "  end_token = [input_tokenizer.vocab_size + 1]\n",
    "  \n",
    "  inp_sentence = start_token + input_tokenizer.encode(inp_sentence) + end_token\n",
    "  encoder_input = tf.expand_dims(inp_sentence, 0)\n",
    "  \n",
    "  decoder_input = [target_tokenizer.vocab_size]\n",
    "  output = tf.expand_dims(decoder_input, 0)\n",
    "    \n",
    "  for i in range(MAX_LENGTH):\n",
    "    enc_padding_mask, combined_mask, dec_padding_mask = create_masks(\n",
    "        encoder_input, output)\n",
    "  \n",
    "    # predictions.shape == (batch_size, seq_len, vocab_size)\n",
    "    predictions, attention_weights = transformer(encoder_input, \n",
    "                                                 output,\n",
    "                                                 False,\n",
    "                                                 enc_padding_mask,\n",
    "                                                 combined_mask,\n",
    "                                                 dec_padding_mask)\n",
    "    \n",
    "    # select the last word from the seq_len dimension\n",
    "    predictions = predictions[: ,-1:, :]  # (batch_size, 1, vocab_size)\n",
    "\n",
    "    predicted_id = tf.cast(tf.argmax(predictions, axis=-1), tf.int32)\n",
    "    \n",
    "    # return the result if the predicted_id is equal to the end token\n",
    "    if predicted_id == target_tokenizer.vocab_size+1:\n",
    "      return tf.squeeze(output, axis=0), attention_weights\n",
    "    \n",
    "    # concatentate the predicted_id to the output which is given to the decoder\n",
    "    # as its input.\n",
    "    output = tf.concat([output, predicted_id], axis=-1)\n",
    "\n",
    "  return tf.squeeze(output, axis=0), attention_weights"
   ]
  },
  {
   "cell_type": "code",
   "execution_count": 61,
   "metadata": {},
   "outputs": [],
   "source": [
    "# Chinese font in matplotlib\n",
    "from matplotlib.font_manager import FontProperties\n",
    "import wget\n",
    "# !wget -qO taipei_sans_tc_beta.ttf https://drive.google.com/uc?id=1eGAsTN1HBpJAkeVM57_C7ccp7hbgSz3_&export=download\n",
    "# !mv taipei_sans_tc_beta.ttf /usr/local/lib/python3.6/dist-packages/matplotlib//mpl-data/fonts/ttf\n",
    "# chinese = FontProperties(fname=r'/usr/local/lib/python3.6/dist-packages/matplotlib/mpl-data/fonts/ttf/taipei_sans_tc_beta.ttf')\n",
    "if not os.path.isfile('taipei_sans_tc_beta.ttf'):\n",
    "    wget.download('https://drive.google.com/uc?id=1eGAsTN1HBpJAkeVM57_C7ccp7hbgSz3_&export=download', 'taipei_sans_tc_beta.ttf')\n",
    "chinese = FontProperties(fname=r'taipei_sans_tc_beta.ttf')"
   ]
  },
  {
   "cell_type": "code",
   "execution_count": 62,
   "metadata": {
    "id": "CN-BV43FMBej"
   },
   "outputs": [],
   "source": [
    "def plot_attention_weights(attention, sentence, result, layer):\n",
    "  fig = plt.figure(figsize=(16, 8))\n",
    "  \n",
    "  sentence = input_tokenizer.encode(sentence)\n",
    "  \n",
    "  attention = tf.squeeze(attention[layer], axis=0)\n",
    "  \n",
    "  for head in range(attention.shape[0]):\n",
    "    ax = fig.add_subplot(2, 4, head+1)\n",
    "    \n",
    "    # plot the attention weights\n",
    "    ax.matshow(attention[head][:-1, :], cmap='viridis')\n",
    "\n",
    "    # show Chinese character\n",
    "    fontdict = {\"fontproperties\": chinese}\n",
    "    \n",
    "    ax.set_xticks(range(len(sentence)+2))\n",
    "    ax.set_yticks(range(len(result)))\n",
    "    \n",
    "    ax.set_ylim(len(result)-1.5, -0.5)\n",
    "        \n",
    "    ax.set_xticklabels(\n",
    "        ['<start>']+[input_tokenizer.decode([i]) for i in sentence]+['<end>'], \n",
    "        fontdict=fontdict, rotation=90)\n",
    "    \n",
    "    ax.set_yticklabels([target_tokenizer.decode([i]) for i in result \n",
    "                        if i < target_tokenizer.vocab_size], \n",
    "                       fontdict=fontdict)\n",
    "    \n",
    "    ax.set_xlabel('Head {}'.format(head+1))\n",
    "  \n",
    "  plt.tight_layout()\n",
    "  plt.show()"
   ]
  },
  {
   "cell_type": "code",
   "execution_count": 63,
   "metadata": {
    "id": "lU2_yG_vBGza"
   },
   "outputs": [],
   "source": [
    "def translate(sentence, plot=''):\n",
    "  result, attention_weights = evaluate(sentence)\n",
    "  \n",
    "  predicted_sentence = target_tokenizer.decode([i for i in result \n",
    "                                            if i < target_tokenizer.vocab_size])  \n",
    "\n",
    "  print('Input: {}'.format(sentence))\n",
    "  print('Predicted translation: {}'.format(predicted_sentence))\n",
    "  \n",
    "  if plot:\n",
    "    plot_attention_weights(attention_weights, sentence, result, plot)"
   ]
  },
  {
   "cell_type": "code",
   "execution_count": 64,
   "metadata": {
    "id": "gZwVWTohOv4_",
    "scrolled": false
   },
   "outputs": [
    {
     "name": "stdout",
     "output_type": "stream",
     "text": [
      "We know that open source has succeeded\n",
      "我們 知道 資源 共享 是 藉由 軟體 的 使用 \n",
      "\n",
      "Input: We know that open source has succeeded\n",
      "Predicted translation: 宜家 我哋 已經 纜 埋 一齊\n"
     ]
    },
    {
     "data": {
      "image/png": "[encoded data removed]",
      "text/plain": [
       "<Figure size 1152x576 with 8 Axes>"
      ]
     },
     "metadata": {
      "needs_background": "light"
     },
     "output_type": "display_data"
    }
   ],
   "source": [
    "row = df_test.sample()\n",
    "inp = row[inp_lang].values[0]\n",
    "tar = row[tar_lang].values[0]\n",
    "print(inp)\n",
    "print(tar, '\\n')\n",
    "\n",
    "translate(inp, plot='decoder_layer4_block2')"
   ]
  },
  {
   "cell_type": "code",
   "execution_count": 65,
   "metadata": {},
   "outputs": [
    {
     "name": "stdout",
     "output_type": "stream",
     "text": [
      "Model: \"transformer_1\"\n",
      "_________________________________________________________________\n",
      "Layer (type)                 Output Shape              Param #   \n",
      "=================================================================\n",
      "encoder_2 (Encoder)          multiple                  1790592   \n",
      "_________________________________________________________________\n",
      "decoder_2 (Decoder)          multiple                  17403904  \n",
      "_________________________________________________________________\n",
      "dense_151 (Dense)            multiple                  16473300  \n",
      "=================================================================\n",
      "Total params: 35,667,796\n",
      "Trainable params: 35,667,796\n",
      "Non-trainable params: 0\n",
      "_________________________________________________________________\n"
     ]
    }
   ],
   "source": [
    "transformer.summary()"
   ]
  },
  {
   "cell_type": "code",
   "execution_count": 66,
   "metadata": {},
   "outputs": [],
   "source": [
    "def translateTest(sentence):\n",
    "  result, attention_weights = evaluate(sentence)\n",
    "  \n",
    "  sentence = input_tokenizer.encode(sentence)\n",
    "  sentence = ' '.join([input_tokenizer.decode([i]) for i in sentence])\n",
    "  predicted_sentence = target_tokenizer.decode([i for i in result \n",
    "                                            if i < target_tokenizer.vocab_size])  \n",
    "\n",
    "#   print('Input: {}'.format(sentence))\n",
    "#   print('Predicted translation: {}'.format(predicted_sentence))\n",
    "  return sentence, predicted_sentence"
   ]
  },
  {
   "cell_type": "code",
   "execution_count": 67,
   "metadata": {},
   "outputs": [
    {
     "name": "stdout",
     "output_type": "stream",
     "text": [
      "Progress: 50 / 1716 in 26.075803995132446 s\n",
      "Progress: 100 / 1716 in 28.987117290496826 s\n",
      "Progress: 150 / 1716 in 27.127312660217285 s\n",
      "Progress: 200 / 1716 in 25.14224123954773 s\n",
      "Progress: 250 / 1716 in 28.020429611206055 s\n",
      "Progress: 300 / 1716 in 27.145336627960205 s\n",
      "Progress: 350 / 1716 in 25.977830171585083 s\n",
      "Progress: 400 / 1716 in 25.913911819458008 s\n",
      "Progress: 450 / 1716 in 24.081937313079834 s\n",
      "Progress: 500 / 1716 in 29.417139530181885 s\n",
      "Progress: 550 / 1716 in 24.01487445831299 s\n",
      "Progress: 600 / 1716 in 26.367114067077637 s\n",
      "Progress: 650 / 1716 in 25.364805221557617 s\n",
      "Progress: 700 / 1716 in 27.071824073791504 s\n",
      "Progress: 750 / 1716 in 28.288212537765503 s\n",
      "Progress: 800 / 1716 in 26.17342233657837 s\n",
      "Progress: 850 / 1716 in 28.511279344558716 s\n",
      "Progress: 900 / 1716 in 31.163092374801636 s\n",
      "Progress: 950 / 1716 in 22.927558183670044 s\n",
      "Progress: 1000 / 1716 in 26.06438970565796 s\n",
      "Progress: 1050 / 1716 in 25.994014739990234 s\n",
      "Progress: 1100 / 1716 in 23.995546340942383 s\n",
      "Progress: 1150 / 1716 in 23.76811718940735 s\n",
      "Progress: 1200 / 1716 in 27.29862666130066 s\n",
      "Progress: 1250 / 1716 in 24.834539651870728 s\n",
      "Progress: 1300 / 1716 in 25.799867868423462 s\n",
      "Progress: 1350 / 1716 in 23.102869272232056 s\n",
      "Progress: 1400 / 1716 in 22.556105852127075 s\n",
      "Progress: 1450 / 1716 in 25.78380560874939 s\n",
      "Progress: 1500 / 1716 in 27.05501914024353 s\n",
      "Progress: 1550 / 1716 in 24.34282612800598 s\n",
      "Progress: 1600 / 1716 in 29.45650005340576 s\n",
      "Progress: 1650 / 1716 in 26.904833555221558 s\n",
      "Progress: 1700 / 1716 in 24.27010440826416 s\n",
      "\n",
      "ToTal: 1716 / 1716 in 897.9124600887299 s\n"
     ]
    }
   ],
   "source": [
    "TotalTime = time.time()\n",
    "start = time.time()\n",
    "\n",
    "ori = []\n",
    "ref = []\n",
    "can = []\n",
    "num_test = 0\n",
    "\n",
    "for index, row in df_test.iterrows():\n",
    "    inp = row[inp_lang]\n",
    "    tar = row[tar_lang]\n",
    "    num_test += 1\n",
    "    o, pre = translateTest(inp)\n",
    "    ori.append(o)\n",
    "    ref.append(tar)\n",
    "    if YueChar:\n",
    "        can.append(spliteKeyWord(pre))\n",
    "    else:\n",
    "        can.append(pre)\n",
    "    if num_test % 50 == 0:\n",
    "        print(f'Progress: {num_test} / {len(df_test)} in {time.time()-start} s')\n",
    "        start = time.time()\n",
    "        \n",
    "print(f'\\nToTal: {num_test} / {len(df_test)} in {time.time()-TotalTime} s')"
   ]
  },
  {
   "cell_type": "code",
   "execution_count": 70,
   "metadata": {},
   "outputs": [
    {
     "name": "stdout",
     "output_type": "stream",
     "text": [
      "where  the  twe nt y  third  P sal m  is  render ed  as  The  Lord  is  all  that\n",
      "其中 詩篇 第二 十三 節 變 改為 主 是 所有 事情\n",
      "所以 人 不得不 面對 危機 會 發生 嘅事 實\n",
      "BLEU: 12.500000000000004\n"
     ]
    }
   ],
   "source": [
    "import nltk\n",
    "from nltk.translate.bleu_score import sentence_bleu\n",
    "from nltk.translate.bleu_score import corpus_bleu\n",
    "\n",
    "import random\n",
    "ran = random.randint(1, len(ref))\n",
    "print(ori[ran])\n",
    "print(ref[ran])\n",
    "print(can[ran])\n",
    "\n",
    "print('BLEU:', sentence_bleu(ref[ran], can[ran], weights=(1, 0, 0, 0))*100)"
   ]
  },
  {
   "cell_type": "code",
   "execution_count": 71,
   "metadata": {},
   "outputs": [
    {
     "name": "stdout",
     "output_type": "stream",
     "text": [
      "BLEU-s: 12.093007058596895\n",
      "BLEU-c: 9.853249475890985\n"
     ]
    }
   ],
   "source": [
    "# Sentence-based and average score\n",
    "score = 0\n",
    "for i in range(len(ref)):\n",
    "    r = [ref[i].split()]\n",
    "    c = can[i].split()\n",
    "    score += sentence_bleu(r, c, weights=(1, 0, 0, 0))*100\n",
    "print('BLEU-s:', score/len(ref))\n",
    "\n",
    "# Corpus based, summing all nominator and denominator before division\n",
    "r = [[r.split()] for r in ref]\n",
    "c = [c.split() for c in can]\n",
    "score = corpus_bleu(r, c, weights=(1, 0, 0, 0))*100\n",
    "print('BLEU-c:', score)"
   ]
  }
 ],
 "metadata": {
  "accelerator": "GPU",
  "colab": {
   "collapsed_sections": [],
   "name": "Transformer",
   "provenance": []
  },
  "kernelspec": {
   "display_name": "Python 3",
   "language": "python",
   "name": "python3"
  },
  "language_info": {
   "codemirror_mode": {
    "name": "ipython",
    "version": 3
   },
   "file_extension": ".py",
   "mimetype": "text/x-python",
   "name": "python",
   "nbconvert_exporter": "python",
   "pygments_lexer": "ipython3",
   "version": "3.8.5"
  }
 },
 "nbformat": 4,
 "nbformat_minor": 1
}
