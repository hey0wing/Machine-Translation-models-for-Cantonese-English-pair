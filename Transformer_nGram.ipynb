{
 "cells": [
  {
   "cell_type": "markdown",
   "metadata": {
    "id": "J0Qjg6vuaHNt"
   },
   "source": [
    "# Transformer model for language understanding"
   ]
  },
  {
   "cell_type": "markdown",
   "metadata": {
    "id": "Xu2cV7D4kBFi"
   },
   "source": [
    "FYP: Machine translation models for Cantonese­English pair"
   ]
  },
  {
   "cell_type": "code",
   "execution_count": 1,
   "metadata": {
    "colab": {
     "base_uri": "https://localhost:8080/"
    },
    "id": "XFG0NDRu5mYQ",
    "outputId": "10b72e31-4689-4efc-9406-9dac3da5c01e"
   },
   "outputs": [
    {
     "name": "stdout",
     "output_type": "stream",
     "text": [
      "-1 / unknown移動         1 個檔案。\n"
     ]
    }
   ],
   "source": [
    "!pip install -q tfds-nightly\n",
    "\n",
    "# Pin matplotlib version to 3.2.2 since in the latest version\n",
    "# transformer.ipynb fails with the following error:\n",
    "# https://stackoverflow.com/questions/62953704/valueerror-the-number-of-fixedlocator-locations-5-usually-from-a-call-to-set\n",
    "!pip install -q matplotlib==3.2.2\n",
    "# Chinese font in matplotlib\n",
    "from matplotlib.font_manager import FontProperties\n",
    "!pip install -q wget\n",
    "import wget\n",
    "# !wget -qO taipei_sans_tc_beta.ttf https://drive.google.com/uc?id=1eGAsTN1HBpJAkeVM57_C7ccp7hbgSz3_&export=download\n",
    "# !mv taipei_sans_tc_beta.ttf /usr/local/lib/python3.6/dist-packages/matplotlib//mpl-data/fonts/ttf\n",
    "# chinese = FontProperties(fname=r'/usr/local/lib/python3.6/dist-packages/matplotlib/mpl-data/fonts/ttf/taipei_sans_tc_beta.ttf')\n",
    "wget.download('https://drive.google.com/uc?id=1eGAsTN1HBpJAkeVM57_C7ccp7hbgSz3_&export=download', 'taipei_sans_tc_beta.ttf')\n",
    "!move taipei_sans_tc_beta.ttf c:\\users\\hey0\\anaconda3\\lib\\site-packages/matplotlib//mpl-data/fonts/ttf\n",
    "chinese = FontProperties(fname=r'c:\\users\\hey0\\anaconda3\\lib\\site-packages/matplotlib//mpl-data/fonts/ttf/taipei_sans_tc_beta.ttf')\n",
    "\n",
    "!pip install -q tensorflow"
   ]
  },
  {
   "cell_type": "code",
   "execution_count": 2,
   "metadata": {
    "id": "JjJJyJTZYebt"
   },
   "outputs": [],
   "source": [
    "import tensorflow_datasets as tfds\n",
    "import tensorflow as tf\n",
    "\n",
    "import re\n",
    "import time\n",
    "import numpy as np\n",
    "import matplotlib.pyplot as plt"
   ]
  },
  {
   "cell_type": "markdown",
   "metadata": {
    "id": "fd1NWMxjfsDd"
   },
   "source": [
    "## Setup input pipeline"
   ]
  },
  {
   "cell_type": "code",
   "execution_count": 3,
   "metadata": {
    "colab": {
     "base_uri": "https://localhost:8080/",
     "height": 204
    },
    "id": "QWviV8YdYh-C",
    "outputId": "6e3bf9d5-5632-4d95-a958-b4196327e03c"
   },
   "outputs": [
    {
     "data": {
      "text/html": [
       "<div>\n",
       "<style scoped>\n",
       "    .dataframe tbody tr th:only-of-type {\n",
       "        vertical-align: middle;\n",
       "    }\n",
       "\n",
       "    .dataframe tbody tr th {\n",
       "        vertical-align: top;\n",
       "    }\n",
       "\n",
       "    .dataframe thead th {\n",
       "        text-align: right;\n",
       "    }\n",
       "</style>\n",
       "<table border=\"1\" class=\"dataframe\">\n",
       "  <thead>\n",
       "    <tr style=\"text-align: right;\">\n",
       "      <th></th>\n",
       "      <th>yue</th>\n",
       "      <th>eng</th>\n",
       "    </tr>\n",
       "  </thead>\n",
       "  <tbody>\n",
       "    <tr>\n",
       "      <th>0</th>\n",
       "      <td>大家 好 我 叫 Frank</td>\n",
       "      <td>Hi my name is Frank</td>\n",
       "    </tr>\n",
       "    <tr>\n",
       "      <th>1</th>\n",
       "      <td>我 收集 人哋 嘅 秘密</td>\n",
       "      <td>and I collect secrets</td>\n",
       "    </tr>\n",
       "    <tr>\n",
       "      <th>2</th>\n",
       "      <td>而 一切 都 源於 我</td>\n",
       "      <td>It all started with a crazy idea</td>\n",
       "    </tr>\n",
       "    <tr>\n",
       "      <th>3</th>\n",
       "      <td>2004 年 11 月 一個 瘋狂 嘅 諗法</td>\n",
       "      <td>in November of 2004</td>\n",
       "    </tr>\n",
       "    <tr>\n",
       "      <th>4</th>\n",
       "      <td>我 當時 打印 咗 三千 張</td>\n",
       "      <td>I printed up 3 000 self addressed postcards</td>\n",
       "    </tr>\n",
       "  </tbody>\n",
       "</table>\n",
       "</div>"
      ],
      "text/plain": [
       "                      yue                                          eng\n",
       "0          大家 好 我 叫 Frank                          Hi my name is Frank\n",
       "1            我 收集 人哋 嘅 秘密                        and I collect secrets\n",
       "2             而 一切 都 源於 我             It all started with a crazy idea\n",
       "3  2004 年 11 月 一個 瘋狂 嘅 諗法                          in November of 2004\n",
       "4          我 當時 打印 咗 三千 張  I printed up 3 000 self addressed postcards"
      ]
     },
     "execution_count": 3,
     "metadata": {},
     "output_type": "execute_result"
    }
   ],
   "source": [
    "import pandas as pd\n",
    "import glob\n",
    "import os\n",
    "\n",
    "all_csv = glob.glob(os.getcwd() + \"/Preprocessed_Corpus.csv\")  \n",
    " \n",
    "df_from_each_file = (pd.read_csv(f, sep='\\t', encoding='utf-8') for f in all_csv)\n",
    "df = pd.concat(df_from_each_file)\n",
    "\n",
    "# Check for null\n",
    "df[df['yue'].isnull()]\n",
    "df = df.dropna()\n",
    "\n",
    "YueChar = False\n",
    "# Delete spaces between n-gram in Cantonese\n",
    "# Perform Character based tokenization in Cantonese\n",
    "if YueChar:\n",
    "    df['yue'] = df['yue'].str.replace(r' ', '')\n",
    "\n",
    "df.head()"
   ]
  },
  {
   "cell_type": "markdown",
   "metadata": {
    "id": "mEsv-c0qqLQd"
   },
   "source": [
    "### Set translational direction"
   ]
  },
  {
   "cell_type": "code",
   "execution_count": 4,
   "metadata": {
    "id": "0r4EQ67kqKcU"
   },
   "outputs": [],
   "source": [
    "inp_lang = 'eng'\n",
    "tar_lang = 'yue'\n",
    "inp = df[inp_lang]\n",
    "tar = df[tar_lang]\n",
    "dataset = tf.data.Dataset.from_tensor_slices((inp.values, tar.values))"
   ]
  },
  {
   "cell_type": "markdown",
   "metadata": {
    "id": "hmVWHYyd18kb"
   },
   "source": [
    "## Split dataset into train, test and validation"
   ]
  },
  {
   "cell_type": "code",
   "execution_count": 5,
   "metadata": {
    "colab": {
     "base_uri": "https://localhost:8080/"
    },
    "id": "2UudB9uidSkP",
    "outputId": "b327f1e3-5143-4b79-f204-3d55bed31d2d"
   },
   "outputs": [
    {
     "name": "stdout",
     "output_type": "stream",
     "text": [
      "Train size: 7848\n",
      "Test size: 1963\n",
      "\n",
      "Total size: 9811\n"
     ]
    }
   ],
   "source": [
    "DATASET_SIZE = len(list(dataset))\n",
    "train_size = int(0.8 * DATASET_SIZE)\n",
    "test_size = int(0.2 * DATASET_SIZE)\n",
    "\n",
    "dataset = dataset.shuffle(DATASET_SIZE)\n",
    "train_examples = dataset.take(train_size)\n",
    "test_examples = dataset.skip(train_size)\n",
    "# test_examples = remaining.take(test_size)\n",
    "# val_examples = remaining.skip(test_size)\n",
    "\n",
    "print('Train size:', len(list(train_examples)))\n",
    "print('Test size:', len(list(test_examples)))\n",
    "# print('Validation size:', len(list(val_examples)))\n",
    "print()\n",
    "print('Total size:', DATASET_SIZE)"
   ]
  },
  {
   "cell_type": "code",
   "execution_count": 6,
   "metadata": {
    "colab": {
     "base_uri": "https://localhost:8080/"
    },
    "id": "b5PlJ-TwK6Oi",
    "outputId": "79fdafc4-e9d3-44f5-f231-e059bc58bf09"
   },
   "outputs": [
    {
     "name": "stdout",
     "output_type": "stream",
     "text": [
      "tf.Tensor(b'in West Africa', shape=(), dtype=string)\n",
      "tf.Tensor(b'\\xe4\\xbd\\x8d\\xe6\\x96\\xbc \\xe8\\xa5\\xbf\\xe9\\x9d\\x9e \\xe5\\x98\\x85 \\xe7\\xb4\\xb0 \\xe4\\xbd\\x86 \\xe7\\xbe\\x8e\\xe9\\xba\\x97 \\xe5\\x98\\x85 \\xe5\\x9c\\x8b\\xe5\\xae\\xb6', shape=(), dtype=string)\n",
      "----------\n",
      "tf.Tensor(b'are related to a mental illness', shape=(), dtype=string)\n",
      "tf.Tensor(b'\\xe9\\x83\\xbd \\xe4\\xbf\\x82 \\xe5\\x90\\x8c \\xe7\\xb2\\xbe\\xe7\\xa5\\x9e\\xe7\\x97\\x85 \\xe6\\x9c\\x89\\xe9\\x97\\x9c', shape=(), dtype=string)\n",
      "----------\n",
      "tf.Tensor(b'the photos most of them are still there', shape=(), dtype=string)\n",
      "tf.Tensor(b'\\xe5\\x97\\xb0\\xe5\\x95\\xb2 \\xe7\\x9b\\xb8 \\xe5\\xa4\\xa7\\xe5\\xa4\\x9a\\xe6\\x95\\xb8 \\xe4\\xbb\\xb2 \\xe7\\xb9\\xab \\xe5\\x88\\xb0', shape=(), dtype=string)\n",
      "----------\n"
     ]
    }
   ],
   "source": [
    "for inp, tar in train_examples.take(3):\n",
    "  print(inp)\n",
    "  print(tar)\n",
    "  print('-' * 10)"
   ]
  },
  {
   "cell_type": "code",
   "execution_count": 7,
   "metadata": {
    "colab": {
     "base_uri": "https://localhost:8080/"
    },
    "id": "waK4jpjpw2dZ",
    "outputId": "9146e9e0-0437-4f39-a30a-02c9df423afa"
   },
   "outputs": [
    {
     "name": "stdout",
     "output_type": "stream",
     "text": [
      "but it cut down on the variety of food we ate as well\n",
      "但 亦 會 減少 左 我哋 食 嘅 食物 嘅 種類\n",
      "----------\n",
      "didn t prevent Chinese social media from becoming a really public sphere\n",
      "都 阻止 唔到 中國 社交 網絡\n",
      "----------\n",
      "And throughout the book\n",
      "在 本 書 中\n",
      "----------\n",
      "And while I m okay now\n",
      "就算 我 現在 已經 康復 了\n",
      "----------\n",
      "I didn t really exist\n",
      "我 唔 存在\n",
      "----------\n"
     ]
    }
   ],
   "source": [
    "sample_examples = []\n",
    "num_samples = 5\n",
    "\n",
    "for inp_t, tar_t in train_examples.take(num_samples):\n",
    "  inp = inp_t.numpy().decode(\"utf-8\")\n",
    "  tar = tar_t.numpy().decode(\"utf-8\")\n",
    "  \n",
    "  print(inp)\n",
    "  print(tar)\n",
    "  print('-' * 10)\n",
    "  \n",
    "  sample_examples.append((inp, tar))"
   ]
  },
  {
   "cell_type": "markdown",
   "metadata": {
    "id": "RCEKotqosGfq"
   },
   "source": [
    "Create a custom subwords tokenizer from the training dataset. "
   ]
  },
  {
   "cell_type": "code",
   "execution_count": 8,
   "metadata": {},
   "outputs": [],
   "source": [
    "if inp_lang == 'yue':\n",
    "    if YueChar:\n",
    "      input_tokenizer = tfds.deprecated.text.SubwordTextEncoder.build_from_corpus(\n",
    "          (inp.numpy() for inp, tar in train_examples), target_vocab_size=2**13, max_subword_length=1)\n",
    "    else:\n",
    "      input_tokenizer = tfds.deprecated.text.TokenTextEncoder(\n",
    "          ' '.join(inp.numpy().decode(\"utf-8\") for inp, tar in train_examples).split(' ')) \n",
    "    target_tokenizer = tfds.deprecated.text.SubwordTextEncoder.build_from_corpus(\n",
    "        (tar.numpy() for inp, tar in train_examples), target_vocab_size=2**13)\n",
    "else:\n",
    "    if YueChar:\n",
    "      target_tokenizer = tfds.deprecated.text.SubwordTextEncoder.build_from_corpus(\n",
    "          (tar.numpy() for inp, tar in train_examples), target_vocab_size=2**13, max_subword_length=1)\n",
    "    else:\n",
    "      target_tokenizer = tfds.deprecated.text.TokenTextEncoder(\n",
    "          ' '.join(tar.numpy().decode(\"utf-8\") for inp, tar in train_examples).split(' '))\n",
    "    input_tokenizer = tfds.deprecated.text.SubwordTextEncoder.build_from_corpus(\n",
    "      (inp.numpy() for inp, tar in train_examples), target_vocab_size=2**13)"
   ]
  },
  {
   "cell_type": "markdown",
   "metadata": {
    "id": "L-PPeXeT4WHN"
   },
   "source": [
    "Check the tokenizers with sample string"
   ]
  },
  {
   "cell_type": "code",
   "execution_count": 9,
   "metadata": {
    "colab": {
     "base_uri": "https://localhost:8080/"
    },
    "id": "4DYWukNFkGQN",
    "outputId": "902864c3-fa59-45c0-e8f9-17536d62fea3"
   },
   "outputs": [
    {
     "name": "stdout",
     "output_type": "stream",
     "text": [
      "Tokenized string is [47, 12, 1038, 148, 20, 1, 5513, 4, 211, 13, 480, 32, 564]\n",
      "The original string: but it cut down on the variety of food we ate as well\n",
      "Tokenized string is [129464, 129140, 129495, 129106, 121682, 129378, 129110, 129505, 129107, 129505, 125765]\n",
      "The original string: 但 亦 會 減少 左 我哋 食 嘅 食物 嘅 種類\n"
     ]
    }
   ],
   "source": [
    "# We can use string in dataset\n",
    "sample_inp = sample_examples[0][0]\n",
    "sample_tar = sample_examples[0][1]\n",
    "\n",
    "tokenized_inp = input_tokenizer.encode(sample_inp)\n",
    "print ('Tokenized string is {}'.format(tokenized_inp))\n",
    "\n",
    "original_inp = input_tokenizer.decode(tokenized_inp)\n",
    "print ('The original string: {}'.format(original_inp))\n",
    "\n",
    "tokenized_tar = target_tokenizer.encode(sample_tar)\n",
    "print ('Tokenized string is {}'.format(tokenized_tar))\n",
    "\n",
    "original_tar = target_tokenizer.decode(tokenized_tar)\n",
    "print ('The original string: {}'.format(original_tar))"
   ]
  },
  {
   "cell_type": "markdown",
   "metadata": {
    "id": "o9KJWJjrsZ4Y"
   },
   "source": [
    "The tokenizer encodes the string by breaking it into subwords if the word is not in its dictionary."
   ]
  },
  {
   "cell_type": "code",
   "execution_count": 10,
   "metadata": {
    "colab": {
     "base_uri": "https://localhost:8080/"
    },
    "id": "bf2ntBxjkqK6",
    "outputId": "0234d439-6ab8-45ac-9591-71051d640c9f"
   },
   "outputs": [
    {
     "name": "stdout",
     "output_type": "stream",
     "text": [
      "47 ----> but \n",
      "12 ----> it \n",
      "1038 ----> cut \n",
      "148 ----> down \n",
      "20 ----> on \n",
      "1 ----> the \n",
      "5513 ----> variety \n",
      "4 ----> of \n",
      "211 ----> food \n",
      "13 ----> we \n",
      "480 ----> ate \n",
      "32 ----> as \n",
      "564 ----> well\n",
      "\n",
      "129464 ----> 但\n",
      "129140 ----> 亦\n",
      "129495 ----> 會\n",
      "129106 ----> 減少\n",
      "121682 ----> 左\n",
      "129378 ----> 我哋\n",
      "129110 ----> 食\n",
      "129505 ----> 嘅\n",
      "129107 ----> 食物\n",
      "129505 ----> 嘅\n",
      "125765 ----> 種類\n"
     ]
    }
   ],
   "source": [
    "for ts in tokenized_inp:\n",
    "  print ('{} ----> {}'.format(ts, input_tokenizer.decode([ts])))\n",
    "print()\n",
    "for ts in tokenized_tar:\n",
    "  print ('{} ----> {}'.format(ts, target_tokenizer.decode([ts])))"
   ]
  },
  {
   "cell_type": "code",
   "execution_count": 11,
   "metadata": {
    "id": "bcRp7VcQ5m6g"
   },
   "outputs": [],
   "source": [
    "BUFFER_SIZE = 400\n",
    "BATCH_SIZE = 64"
   ]
  },
  {
   "cell_type": "markdown",
   "metadata": {
    "id": "kGi4PoVakxdc"
   },
   "source": [
    "Add a start and end token to the input and target. "
   ]
  },
  {
   "cell_type": "code",
   "execution_count": 12,
   "metadata": {
    "id": "UZwnPr4R055s"
   },
   "outputs": [],
   "source": [
    "def encode(lang1, lang2):\n",
    "  lang1 = [input_tokenizer.vocab_size] + input_tokenizer.encode(\n",
    "      lang1.numpy()) + [input_tokenizer.vocab_size+1]\n",
    "\n",
    "  lang2 = [target_tokenizer.vocab_size] + target_tokenizer.encode(\n",
    "      lang2.numpy()) + [target_tokenizer.vocab_size+1]\n",
    "  \n",
    "  return lang1, lang2"
   ]
  },
  {
   "cell_type": "markdown",
   "metadata": {
    "id": "Tx1sFbR-9fRs"
   },
   "source": [
    "You want to use `Dataset.map` to apply this function to each element of the dataset.  `Dataset.map` runs in graph mode.\n",
    "\n",
    "* Graph tensors do not have a value. \n",
    "* In graph mode you can only use TensorFlow Ops and functions. \n",
    "\n",
    "So you can't `.map` this function directly: You need to wrap it in a `tf.py_function`. The `tf.py_function` will pass regular tensors (with a value and a `.numpy()` method to access it), to the wrapped python function."
   ]
  },
  {
   "cell_type": "code",
   "execution_count": 13,
   "metadata": {
    "id": "Mah1cS-P70Iz"
   },
   "outputs": [],
   "source": [
    "def tf_encode(inp, tar):\n",
    "  result_inp, result_tar = tf.py_function(encode, [inp, tar], [tf.int64, tf.int64])\n",
    "  result_inp.set_shape([None])\n",
    "  result_tar.set_shape([None])\n",
    "\n",
    "  return result_inp, result_tar"
   ]
  },
  {
   "cell_type": "markdown",
   "metadata": {
    "id": "6JrGp5Gek6Ql"
   },
   "source": [
    "Note: To keep this example small and relatively fast, drop examples with a length of over 100 tokens."
   ]
  },
  {
   "cell_type": "code",
   "execution_count": 14,
   "metadata": {
    "id": "c081xPGv1CPI"
   },
   "outputs": [],
   "source": [
    "MAX_LENGTH = 40\n",
    "\n",
    "def filter_max_length(x, y, max_length=MAX_LENGTH):\n",
    "  return tf.logical_and(tf.size(x) <= max_length,\n",
    "                        tf.size(y) <= max_length)"
   ]
  },
  {
   "cell_type": "code",
   "execution_count": 15,
   "metadata": {
    "colab": {
     "base_uri": "https://localhost:8080/"
    },
    "id": "9mk9AZdZ5bcS",
    "outputId": "28e59114-d36d-48c8-bf9d-cef2b24049c3"
   },
   "outputs": [
    {
     "name": "stdout",
     "output_type": "stream",
     "text": [
      "Training size: 6863\n"
     ]
    }
   ],
   "source": [
    "train_dataset = train_examples.map(tf_encode)\n",
    "train_dataset = train_dataset.filter(filter_max_length)\n",
    "num_examples = 0\n",
    "for inp_indices, tar_indices in train_dataset:\n",
    "  num_examples += 1\n",
    "print(f\"Training size: {num_examples}\")\n",
    "\n",
    "# cache the dataset to memory to get a speedup while reading from it.\n",
    "train_dataset = train_dataset.cache()\n",
    "train_dataset = train_dataset.shuffle(BUFFER_SIZE).padded_batch(BATCH_SIZE)\n",
    "train_dataset = train_dataset.prefetch(tf.data.experimental.AUTOTUNE)"
   ]
  },
  {
   "cell_type": "code",
   "execution_count": 16,
   "metadata": {
    "colab": {
     "base_uri": "https://localhost:8080/"
    },
    "id": "8RgYUtEECc-Q",
    "outputId": "949dd9c4-d890-4991-f1c7-bebcb9e9c6c1"
   },
   "outputs": [
    {
     "name": "stdout",
     "output_type": "stream",
     "text": [
      "tf.Tensor(\n",
      "[[7772   26   58 ...    0    0    0]\n",
      " [7772   93   11 ...    0    0    0]\n",
      " [7772  110 5302 ...    0    0    0]\n",
      " ...\n",
      " [7772  195   46 ...    0    0    0]\n",
      " [7772    4 2968 ...    0    0    0]\n",
      " [7772   47    6 ...    0    0    0]], shape=(64, 32), dtype=int64)\n",
      "tf.Tensor(\n",
      "[[129531 128819 129396 ...      0      0      0]\n",
      " [129531 127821 126771 ...      0      0      0]\n",
      " [129531  83471 129456 ...      0      0      0]\n",
      " ...\n",
      " [129531 129435 129518 ...      0      0      0]\n",
      " [129531 128834  56231 ...      0      0      0]\n",
      " [129531 129432 129518 ...      0      0      0]], shape=(64, 28), dtype=int64)\n",
      "\n",
      "All string are less than 40 tokens\n",
      "Total batches: 108\n"
     ]
    }
   ],
   "source": [
    "# Check with train set\n",
    "inp_indices, tar_indices  = next(iter(train_dataset))\n",
    "print(inp_indices)\n",
    "print(tar_indices)\n",
    "\n",
    "num_examples = 0\n",
    "for inp_indices, tar_indices in train_dataset:\n",
    "  # cond1 = len(inp_indices) <= MAX_LENGTH\n",
    "  # cond2 = len(tar_indices) <= MAX_LENGTH\n",
    "  # assert cond1 and cond2\n",
    "  num_examples += 1\n",
    "\n",
    "print(f\"\\nAll string are less than {MAX_LENGTH} tokens\")\n",
    "print(f\"Total batches: {num_examples}\")"
   ]
  },
  {
   "cell_type": "markdown",
   "metadata": {
    "id": "nBQuibYA4n0n"
   },
   "source": [
    "## Positional encoding\n",
    "\n",
    "Since this model doesn't contain any recurrence or convolution, positional encoding is added to give the model some information about the relative position of the words in the sentence. \n",
    "\n",
    "The positional encoding vector is added to the embedding vector. Embeddings represent a token in a d-dimensional space where tokens with similar meaning will be closer to each other. But the embeddings do not encode the relative position of words in a sentence. So after adding the positional encoding, words will be closer to each other based on the *similarity of their meaning and their position in the sentence*, in the d-dimensional space.\n",
    "\n",
    "See the notebook on [positional encoding](https://github.com/tensorflow/examples/blob/master/community/en/position_encoding.ipynb) to learn more about it. The formula for calculating the positional encoding is as follows:\n",
    "\n",
    "$$\\Large{PE_{(pos, 2i)} = sin(pos / 10000^{2i / d_{model}})} $$\n",
    "$$\\Large{PE_{(pos, 2i+1)} = cos(pos / 10000^{2i / d_{model}})} $$"
   ]
  },
  {
   "cell_type": "code",
   "execution_count": 17,
   "metadata": {
    "id": "WhIOZjMNKujn"
   },
   "outputs": [],
   "source": [
    "def get_angles(pos, i, d_model):\n",
    "  angle_rates = 1 / np.power(10000, (2 * (i//2)) / np.float32(d_model))\n",
    "  return pos * angle_rates"
   ]
  },
  {
   "cell_type": "code",
   "execution_count": 18,
   "metadata": {
    "id": "1Rz82wEs5biZ"
   },
   "outputs": [],
   "source": [
    "def positional_encoding(position, d_model):\n",
    "  angle_rads = get_angles(np.arange(position)[:, np.newaxis],\n",
    "                          np.arange(d_model)[np.newaxis, :],\n",
    "                          d_model)\n",
    "  \n",
    "  # apply sin to even indices in the array; 2i\n",
    "  angle_rads[:, 0::2] = np.sin(angle_rads[:, 0::2])\n",
    "  \n",
    "  # apply cos to odd indices in the array; 2i+1\n",
    "  angle_rads[:, 1::2] = np.cos(angle_rads[:, 1::2])\n",
    "    \n",
    "  pos_encoding = angle_rads[np.newaxis, ...]\n",
    "    \n",
    "  return tf.cast(pos_encoding, dtype=tf.float32)"
   ]
  },
  {
   "cell_type": "code",
   "execution_count": 19,
   "metadata": {
    "colab": {
     "base_uri": "https://localhost:8080/",
     "height": 300
    },
    "id": "1kLCla68EloE",
    "outputId": "4595b67d-9fc7-45a2-8678-fbe51c8d8e28"
   },
   "outputs": [
    {
     "name": "stdout",
     "output_type": "stream",
     "text": [
      "(1, 50, 512)\n"
     ]
    },
    {
     "data": {
      "image/png": "[encoded data removed]",
      "text/plain": [
       "<Figure size 432x288 with 2 Axes>"
      ]
     },
     "metadata": {
      "needs_background": "light"
     },
     "output_type": "display_data"
    }
   ],
   "source": [
    "pos_encoding = positional_encoding(50, 512)\n",
    "print (pos_encoding.shape)\n",
    "\n",
    "plt.pcolormesh(pos_encoding[0], cmap='RdBu')\n",
    "plt.xlabel('Depth')\n",
    "plt.xlim((0, 512))\n",
    "plt.ylabel('Position')\n",
    "plt.colorbar()\n",
    "plt.show()"
   ]
  },
  {
   "cell_type": "markdown",
   "metadata": {
    "id": "a_b4ou4TYqUN"
   },
   "source": [
    "## Masking"
   ]
  },
  {
   "cell_type": "markdown",
   "metadata": {
    "id": "s42Uydjkv0hF"
   },
   "source": [
    "Mask all the pad tokens in the batch of sequence. It ensures that the model does not treat padding as the input. The mask indicates where pad value `0` is present: it outputs a `1` at those locations, and a `0` otherwise."
   ]
  },
  {
   "cell_type": "code",
   "execution_count": 20,
   "metadata": {
    "id": "U2i8-e1s8ti9"
   },
   "outputs": [],
   "source": [
    "def create_padding_mask(seq):\n",
    "  seq = tf.cast(tf.math.equal(seq, 0), tf.float32)\n",
    "  \n",
    "  # add extra dimensions to add the padding\n",
    "  # to the attention logits.\n",
    "  return seq[:, tf.newaxis, tf.newaxis, :]  # (batch_size, 1, 1, seq_len)"
   ]
  },
  {
   "cell_type": "code",
   "execution_count": 21,
   "metadata": {
    "colab": {
     "base_uri": "https://localhost:8080/"
    },
    "id": "A7BYeBCNvi7n",
    "outputId": "2f526483-7e23-49b8-b05e-d76a9c3d654a"
   },
   "outputs": [
    {
     "data": {
      "text/plain": [
       "<tf.Tensor: shape=(3, 1, 1, 5), dtype=float32, numpy=\n",
       "array([[[[0., 0., 1., 1., 0.]]],\n",
       "\n",
       "\n",
       "       [[[0., 0., 0., 1., 1.]]],\n",
       "\n",
       "\n",
       "       [[[1., 1., 1., 0., 0.]]]], dtype=float32)>"
      ]
     },
     "execution_count": 21,
     "metadata": {},
     "output_type": "execute_result"
    }
   ],
   "source": [
    "x = tf.constant([[7, 6, 0, 0, 1], [1, 2, 3, 0, 0], [0, 0, 0, 4, 5]])\n",
    "create_padding_mask(x)"
   ]
  },
  {
   "cell_type": "markdown",
   "metadata": {
    "id": "Z0hzukDBgVom"
   },
   "source": [
    "The look-ahead mask is used to mask the future tokens in a sequence. In other words, the mask indicates which entries should not be used.\n",
    "\n",
    "This means that to predict the third word, only the first and second word will be used. Similarly to predict the fourth word, only the first, second and the third word will be used and so on."
   ]
  },
  {
   "cell_type": "code",
   "execution_count": 22,
   "metadata": {
    "id": "dVxS8OPI9uI0"
   },
   "outputs": [],
   "source": [
    "def create_look_ahead_mask(size):\n",
    "  mask = 1 - tf.linalg.band_part(tf.ones((size, size)), -1, 0)\n",
    "  return mask  # (seq_len, seq_len)"
   ]
  },
  {
   "cell_type": "code",
   "execution_count": 23,
   "metadata": {
    "colab": {
     "base_uri": "https://localhost:8080/"
    },
    "id": "yxKGuXxaBeeE",
    "outputId": "afa5b144-c85f-4626-e942-12d24586fc9a"
   },
   "outputs": [
    {
     "data": {
      "text/plain": [
       "<tf.Tensor: shape=(3, 3), dtype=float32, numpy=\n",
       "array([[0., 1., 1.],\n",
       "       [0., 0., 1.],\n",
       "       [0., 0., 0.]], dtype=float32)>"
      ]
     },
     "execution_count": 23,
     "metadata": {},
     "output_type": "execute_result"
    }
   ],
   "source": [
    "x = tf.random.uniform((1, 3))\n",
    "temp = create_look_ahead_mask(x.shape[1])\n",
    "temp"
   ]
  },
  {
   "cell_type": "markdown",
   "metadata": {
    "id": "xluDl5cXYy4y"
   },
   "source": [
    "## Scaled dot product attention"
   ]
  },
  {
   "cell_type": "markdown",
   "metadata": {
    "id": "vsxEE_-Wa1gF"
   },
   "source": [
    "<img src=\"https://www.tensorflow.org/images/tutorials/transformer/scaled_attention.png\" width=\"500\" alt=\"scaled_dot_product_attention\">\n",
    "\n",
    "The attention function used by the transformer takes three inputs: Q (query), K (key), V (value). The equation used to calculate the attention weights is:\n",
    "\n",
    "$$\\Large{Attention(Q, K, V) = softmax_k(\\frac{QK^T}{\\sqrt{d_k}}) V} $$\n",
    "\n",
    "The dot-product attention is scaled by a factor of square root of the depth. This is done because for large values of depth, the dot product grows large in magnitude pushing the softmax function where it has small gradients resulting in a very hard softmax. \n",
    "\n",
    "For example, consider that `Q` and `K` have a mean of 0 and variance of 1. Their matrix multiplication will have a mean of 0 and variance of `dk`. Hence, *square root of `dk`* is used for scaling (and not any other number) because the matmul of `Q` and `K` should have a mean of 0 and variance of 1, and you get a gentler softmax.\n",
    "\n",
    "The mask is multiplied with -1e9 (close to negative infinity). This is done because the mask is summed with the scaled matrix multiplication of Q and K and is applied immediately before a softmax. The goal is to zero out these cells, and large negative inputs to softmax are near zero in the output."
   ]
  },
  {
   "cell_type": "code",
   "execution_count": 24,
   "metadata": {
    "id": "LazzUq3bJ5SH"
   },
   "outputs": [],
   "source": [
    "def scaled_dot_product_attention(q, k, v, mask):\n",
    "  \"\"\"Calculate the attention weights.\n",
    "  q, k, v must have matching leading dimensions.\n",
    "  k, v must have matching penultimate dimension, i.e.: seq_len_k = seq_len_v.\n",
    "  The mask has different shapes depending on its type(padding or look ahead) \n",
    "  but it must be broadcastable for addition.\n",
    "  \n",
    "  Args:\n",
    "    q: query shape == (..., seq_len_q, depth)\n",
    "    k: key shape == (..., seq_len_k, depth)\n",
    "    v: value shape == (..., seq_len_v, depth_v)\n",
    "    mask: Float tensor with shape broadcastable \n",
    "          to (..., seq_len_q, seq_len_k). Defaults to None.\n",
    "    \n",
    "  Returns:\n",
    "    output, attention_weights\n",
    "  \"\"\"\n",
    "\n",
    "  matmul_qk = tf.matmul(q, k, transpose_b=True)  # (..., seq_len_q, seq_len_k)\n",
    "  \n",
    "  # scale matmul_qk\n",
    "  dk = tf.cast(tf.shape(k)[-1], tf.float32)\n",
    "  scaled_attention_logits = matmul_qk / tf.math.sqrt(dk)\n",
    "\n",
    "  # add the mask to the scaled tensor.\n",
    "  if mask is not None:\n",
    "    scaled_attention_logits += (mask * -1e9)  \n",
    "\n",
    "  # softmax is normalized on the last axis (seq_len_k) so that the scores\n",
    "  # add up to 1.\n",
    "  attention_weights = tf.nn.softmax(scaled_attention_logits, axis=-1)  # (..., seq_len_q, seq_len_k)\n",
    "\n",
    "  output = tf.matmul(attention_weights, v)  # (..., seq_len_q, depth_v)\n",
    "\n",
    "  return output, attention_weights"
   ]
  },
  {
   "cell_type": "markdown",
   "metadata": {
    "id": "FiqETnhCkoXh"
   },
   "source": [
    "As the softmax normalization is done on K, its values decide the amount of importance given to Q.\n",
    "\n",
    "The output represents the multiplication of the attention weights and the V (value) vector. This ensures that the words you want to focus on are kept as-is and the irrelevant words are flushed out."
   ]
  },
  {
   "cell_type": "code",
   "execution_count": 25,
   "metadata": {
    "id": "n90YjClyInFy"
   },
   "outputs": [],
   "source": [
    "def print_out(q, k, v):\n",
    "  temp_out, temp_attn = scaled_dot_product_attention(\n",
    "      q, k, v, None)\n",
    "  print ('Attention weights are:')\n",
    "  print (temp_attn)\n",
    "  print ('Output is:')\n",
    "  print (temp_out)"
   ]
  },
  {
   "cell_type": "code",
   "execution_count": 26,
   "metadata": {
    "colab": {
     "base_uri": "https://localhost:8080/"
    },
    "id": "yAzUAf2DPlNt",
    "outputId": "4f614ff2-a52f-4c81-f5d2-f35876de949d"
   },
   "outputs": [
    {
     "name": "stdout",
     "output_type": "stream",
     "text": [
      "Attention weights are:\n",
      "tf.Tensor([[0. 1. 0. 0.]], shape=(1, 4), dtype=float32)\n",
      "Output is:\n",
      "tf.Tensor([[10.  0.]], shape=(1, 2), dtype=float32)\n"
     ]
    }
   ],
   "source": [
    "np.set_printoptions(suppress=True)\n",
    "\n",
    "temp_k = tf.constant([[10,0,0],\n",
    "                      [0,10,0],\n",
    "                      [0,0,10],\n",
    "                      [0,0,10]], dtype=tf.float32)  # (4, 3)\n",
    "\n",
    "temp_v = tf.constant([[   1,0],\n",
    "                      [  10,0],\n",
    "                      [ 100,5],\n",
    "                      [1000,6]], dtype=tf.float32)  # (4, 2)\n",
    "\n",
    "# This `query` aligns with the second `key`,\n",
    "# so the second `value` is returned.\n",
    "temp_q = tf.constant([[0, 10, 0]], dtype=tf.float32)  # (1, 3)\n",
    "print_out(temp_q, temp_k, temp_v)"
   ]
  },
  {
   "cell_type": "code",
   "execution_count": 27,
   "metadata": {
    "colab": {
     "base_uri": "https://localhost:8080/"
    },
    "id": "zg6k-fGhgXra",
    "outputId": "82585d6b-4d8c-411b-c868-7b6343409b0c"
   },
   "outputs": [
    {
     "name": "stdout",
     "output_type": "stream",
     "text": [
      "Attention weights are:\n",
      "tf.Tensor([[0.  0.  0.5 0.5]], shape=(1, 4), dtype=float32)\n",
      "Output is:\n",
      "tf.Tensor([[550.    5.5]], shape=(1, 2), dtype=float32)\n"
     ]
    }
   ],
   "source": [
    "# This query aligns with a repeated key (third and fourth), \n",
    "# so all associated values get averaged.\n",
    "temp_q = tf.constant([[0, 0, 10]], dtype=tf.float32)  # (1, 3)\n",
    "print_out(temp_q, temp_k, temp_v)"
   ]
  },
  {
   "cell_type": "code",
   "execution_count": 28,
   "metadata": {
    "colab": {
     "base_uri": "https://localhost:8080/"
    },
    "id": "UAq3YOzUgXhb",
    "outputId": "c38b7220-1ced-4987-e510-f34c4f12fe69"
   },
   "outputs": [
    {
     "name": "stdout",
     "output_type": "stream",
     "text": [
      "Attention weights are:\n",
      "tf.Tensor([[0.5 0.5 0.  0. ]], shape=(1, 4), dtype=float32)\n",
      "Output is:\n",
      "tf.Tensor([[5.5 0. ]], shape=(1, 2), dtype=float32)\n"
     ]
    }
   ],
   "source": [
    "# This query aligns equally with the first and second key, \n",
    "# so their values get averaged.\n",
    "temp_q = tf.constant([[10, 10, 0]], dtype=tf.float32)  # (1, 3)\n",
    "print_out(temp_q, temp_k, temp_v)"
   ]
  },
  {
   "cell_type": "markdown",
   "metadata": {
    "id": "aOz-4_XIhaTP"
   },
   "source": [
    "Pass all the queries together."
   ]
  },
  {
   "cell_type": "code",
   "execution_count": 29,
   "metadata": {
    "colab": {
     "base_uri": "https://localhost:8080/"
    },
    "id": "6dlU8Tm-hYrF",
    "outputId": "4f80eeaf-12c1-4819-ad59-d39bcab1bb2c"
   },
   "outputs": [
    {
     "name": "stdout",
     "output_type": "stream",
     "text": [
      "Attention weights are:\n",
      "tf.Tensor(\n",
      "[[0.  0.  0.5 0.5]\n",
      " [0.  1.  0.  0. ]\n",
      " [0.5 0.5 0.  0. ]], shape=(3, 4), dtype=float32)\n",
      "Output is:\n",
      "tf.Tensor(\n",
      "[[550.    5.5]\n",
      " [ 10.    0. ]\n",
      " [  5.5   0. ]], shape=(3, 2), dtype=float32)\n"
     ]
    }
   ],
   "source": [
    "temp_q = tf.constant([[0, 0, 10], [0, 10, 0], [10, 10, 0]], dtype=tf.float32)  # (3, 3)\n",
    "print_out(temp_q, temp_k, temp_v)"
   ]
  },
  {
   "cell_type": "markdown",
   "metadata": {
    "id": "kmzGPEy64qmA"
   },
   "source": [
    "## Multi-head attention"
   ]
  },
  {
   "cell_type": "markdown",
   "metadata": {
    "id": "fz5BMC8Kaoqo"
   },
   "source": [
    "<img src=\"https://www.tensorflow.org/images/tutorials/transformer/multi_head_attention.png\" width=\"500\" alt=\"multi-head attention\">\n",
    "\n",
    "\n",
    "Multi-head attention consists of four parts:\n",
    "*    Linear layers and split into heads.\n",
    "*    Scaled dot-product attention.\n",
    "*    Concatenation of heads.\n",
    "*    Final linear layer."
   ]
  },
  {
   "cell_type": "markdown",
   "metadata": {
    "id": "JPmbr6F1C-v_"
   },
   "source": [
    "Each multi-head attention block gets three inputs; Q (query), K (key), V (value). These are put through linear (Dense) layers and split up into multiple heads. \n",
    "\n",
    "The `scaled_dot_product_attention` defined above is applied to each head (broadcasted for efficiency). An appropriate mask must be used in the attention step.  The attention output for each head is then concatenated (using `tf.transpose`, and `tf.reshape`) and put through a final `Dense` layer.\n",
    "\n",
    "Instead of one single attention head, Q, K, and V are split into multiple heads because it allows the model to jointly attend to information at different positions from different representational spaces. After the split each head has a reduced dimensionality, so the total computation cost is the same as a single head attention with full dimensionality."
   ]
  },
  {
   "cell_type": "code",
   "execution_count": 30,
   "metadata": {
    "id": "BSV3PPKsYecw"
   },
   "outputs": [],
   "source": [
    "class MultiHeadAttention(tf.keras.layers.Layer):\n",
    "  def __init__(self, d_model, num_heads):\n",
    "    super(MultiHeadAttention, self).__init__()\n",
    "    self.num_heads = num_heads\n",
    "    self.d_model = d_model\n",
    "    \n",
    "    assert d_model % self.num_heads == 0\n",
    "    \n",
    "    self.depth = d_model // self.num_heads\n",
    "    \n",
    "    self.wq = tf.keras.layers.Dense(d_model)\n",
    "    self.wk = tf.keras.layers.Dense(d_model)\n",
    "    self.wv = tf.keras.layers.Dense(d_model)\n",
    "    \n",
    "    self.dense = tf.keras.layers.Dense(d_model)\n",
    "        \n",
    "  def split_heads(self, x, batch_size):\n",
    "    \"\"\"Split the last dimension into (num_heads, depth).\n",
    "    Transpose the result such that the shape is (batch_size, num_heads, seq_len, depth)\n",
    "    \"\"\"\n",
    "    x = tf.reshape(x, (batch_size, -1, self.num_heads, self.depth))\n",
    "    return tf.transpose(x, perm=[0, 2, 1, 3])\n",
    "    \n",
    "  def call(self, v, k, q, mask):\n",
    "    batch_size = tf.shape(q)[0]\n",
    "    \n",
    "    q = self.wq(q)  # (batch_size, seq_len, d_model)\n",
    "    k = self.wk(k)  # (batch_size, seq_len, d_model)\n",
    "    v = self.wv(v)  # (batch_size, seq_len, d_model)\n",
    "    \n",
    "    q = self.split_heads(q, batch_size)  # (batch_size, num_heads, seq_len_q, depth)\n",
    "    k = self.split_heads(k, batch_size)  # (batch_size, num_heads, seq_len_k, depth)\n",
    "    v = self.split_heads(v, batch_size)  # (batch_size, num_heads, seq_len_v, depth)\n",
    "    \n",
    "    # scaled_attention.shape == (batch_size, num_heads, seq_len_q, depth)\n",
    "    # attention_weights.shape == (batch_size, num_heads, seq_len_q, seq_len_k)\n",
    "    scaled_attention, attention_weights = scaled_dot_product_attention(\n",
    "        q, k, v, mask)\n",
    "    \n",
    "    scaled_attention = tf.transpose(scaled_attention, perm=[0, 2, 1, 3])  # (batch_size, seq_len_q, num_heads, depth)\n",
    "\n",
    "    concat_attention = tf.reshape(scaled_attention, \n",
    "                                  (batch_size, -1, self.d_model))  # (batch_size, seq_len_q, d_model)\n",
    "\n",
    "    output = self.dense(concat_attention)  # (batch_size, seq_len_q, d_model)\n",
    "        \n",
    "    return output, attention_weights"
   ]
  },
  {
   "cell_type": "markdown",
   "metadata": {
    "id": "0D8FJue5lDyZ"
   },
   "source": [
    "Create a `MultiHeadAttention` layer to try out. At each location in the sequence, `y`, the `MultiHeadAttention` runs all 8 attention heads across all other locations in the sequence, returning a new vector of the same length at each location."
   ]
  },
  {
   "cell_type": "code",
   "execution_count": 31,
   "metadata": {
    "colab": {
     "base_uri": "https://localhost:8080/"
    },
    "id": "Hu94p-_-2_BX",
    "outputId": "8f890a1d-970e-40d3-ee5d-15d4fa4ac349"
   },
   "outputs": [
    {
     "data": {
      "text/plain": [
       "(TensorShape([1, 60, 512]), TensorShape([1, 8, 60, 60]))"
      ]
     },
     "execution_count": 31,
     "metadata": {},
     "output_type": "execute_result"
    }
   ],
   "source": [
    "temp_mha = MultiHeadAttention(d_model=512, num_heads=8)\n",
    "y = tf.random.uniform((1, 60, 512))  # (batch_size, encoder_sequence, d_model)\n",
    "out, attn = temp_mha(y, k=y, q=y, mask=None)\n",
    "out.shape, attn.shape"
   ]
  },
  {
   "cell_type": "markdown",
   "metadata": {
    "id": "RdDqGayx67vv"
   },
   "source": [
    "## Point wise feed forward network"
   ]
  },
  {
   "cell_type": "markdown",
   "metadata": {
    "id": "gBqzJXGfHK3X"
   },
   "source": [
    "Point wise feed forward network consists of two fully-connected layers with a ReLU activation in between."
   ]
  },
  {
   "cell_type": "code",
   "execution_count": 32,
   "metadata": {
    "id": "ET7xLt0yCT6Z"
   },
   "outputs": [],
   "source": [
    "def point_wise_feed_forward_network(d_model, dff):\n",
    "  return tf.keras.Sequential([\n",
    "      tf.keras.layers.Dense(dff, activation='relu'),  # (batch_size, seq_len, dff)\n",
    "      tf.keras.layers.Dense(d_model)  # (batch_size, seq_len, d_model)\n",
    "  ])"
   ]
  },
  {
   "cell_type": "code",
   "execution_count": 33,
   "metadata": {
    "colab": {
     "base_uri": "https://localhost:8080/"
    },
    "id": "mytb1lPyOHLB",
    "outputId": "b9ba0e9b-1dd9-47b2-be13-3ec500cc6d57"
   },
   "outputs": [
    {
     "data": {
      "text/plain": [
       "TensorShape([64, 50, 512])"
      ]
     },
     "execution_count": 33,
     "metadata": {},
     "output_type": "execute_result"
    }
   ],
   "source": [
    "sample_ffn = point_wise_feed_forward_network(512, 2048)\n",
    "sample_ffn(tf.random.uniform((64, 50, 512))).shape"
   ]
  },
  {
   "cell_type": "markdown",
   "metadata": {
    "id": "7e7hKcxn6-zd"
   },
   "source": [
    "## Encoder and decoder"
   ]
  },
  {
   "cell_type": "markdown",
   "metadata": {
    "id": "yScbC0MUH8dS"
   },
   "source": [
    "<img src=\"https://www.tensorflow.org/images/tutorials/transformer/transformer.png\" width=\"600\" alt=\"transformer\">"
   ]
  },
  {
   "cell_type": "markdown",
   "metadata": {
    "id": "MfYJG-Kvgwy2"
   },
   "source": [
    "The transformer model follows the same general pattern as a standard [sequence to sequence with attention model](nmt_with_attention.ipynb). \n",
    "\n",
    "* The input sentence is passed through `N` encoder layers that generates an output for each word/token in the sequence.\n",
    "* The decoder attends on the encoder's output and its own input (self-attention) to predict the next word. "
   ]
  },
  {
   "cell_type": "markdown",
   "metadata": {
    "id": "QFv-FNYUmvpn"
   },
   "source": [
    "### Encoder layer\n",
    "\n",
    "Each encoder layer consists of sublayers:\n",
    "\n",
    "1.   Multi-head attention (with padding mask) \n",
    "2.    Point wise feed forward networks. \n",
    "\n",
    "Each of these sublayers has a residual connection around it followed by a layer normalization. Residual connections help in avoiding the vanishing gradient problem in deep networks.\n",
    "\n",
    "The output of each sublayer is `LayerNorm(x + Sublayer(x))`. The normalization is done on the `d_model` (last) axis. There are N encoder layers in the transformer."
   ]
  },
  {
   "cell_type": "code",
   "execution_count": 34,
   "metadata": {
    "id": "ncyS-Ms3i2x_"
   },
   "outputs": [],
   "source": [
    "class EncoderLayer(tf.keras.layers.Layer):\n",
    "  def __init__(self, d_model, num_heads, dff, rate=0.1):\n",
    "    super(EncoderLayer, self).__init__()\n",
    "\n",
    "    self.mha = MultiHeadAttention(d_model, num_heads)\n",
    "    self.ffn = point_wise_feed_forward_network(d_model, dff)\n",
    "\n",
    "    self.layernorm1 = tf.keras.layers.LayerNormalization(epsilon=1e-6)\n",
    "    self.layernorm2 = tf.keras.layers.LayerNormalization(epsilon=1e-6)\n",
    "    \n",
    "    self.dropout1 = tf.keras.layers.Dropout(rate)\n",
    "    self.dropout2 = tf.keras.layers.Dropout(rate)\n",
    "    \n",
    "  def call(self, x, training, mask):\n",
    "\n",
    "    attn_output, _ = self.mha(x, x, x, mask)  # (batch_size, input_seq_len, d_model)\n",
    "    attn_output = self.dropout1(attn_output, training=training)\n",
    "    out1 = self.layernorm1(x + attn_output)  # (batch_size, input_seq_len, d_model)\n",
    "    \n",
    "    ffn_output = self.ffn(out1)  # (batch_size, input_seq_len, d_model)\n",
    "    ffn_output = self.dropout2(ffn_output, training=training)\n",
    "    out2 = self.layernorm2(out1 + ffn_output)  # (batch_size, input_seq_len, d_model)\n",
    "    \n",
    "    return out2"
   ]
  },
  {
   "cell_type": "code",
   "execution_count": 35,
   "metadata": {
    "colab": {
     "base_uri": "https://localhost:8080/"
    },
    "id": "AzZRXdO0mI48",
    "outputId": "f782e377-bc21-4e2b-9088-32b8538f85c9"
   },
   "outputs": [
    {
     "data": {
      "text/plain": [
       "TensorShape([64, 43, 512])"
      ]
     },
     "execution_count": 35,
     "metadata": {},
     "output_type": "execute_result"
    }
   ],
   "source": [
    "sample_encoder_layer = EncoderLayer(512, 8, 2048)\n",
    "\n",
    "sample_encoder_layer_output = sample_encoder_layer(\n",
    "    tf.random.uniform((64, 43, 512)), False, None)\n",
    "\n",
    "sample_encoder_layer_output.shape  # (batch_size, input_seq_len, d_model)"
   ]
  },
  {
   "cell_type": "markdown",
   "metadata": {
    "id": "6LO_48Owmx_o"
   },
   "source": [
    "### Decoder layer\n",
    "\n",
    "Each decoder layer consists of sublayers:\n",
    "\n",
    "1.   Masked multi-head attention (with look ahead mask and padding mask)\n",
    "2.   Multi-head attention (with padding mask). V (value) and K (key) receive the *encoder output* as inputs. Q (query) receives the *output from the masked multi-head attention sublayer.*\n",
    "3.   Point wise feed forward networks\n",
    "\n",
    "Each of these sublayers has a residual connection around it followed by a layer normalization. The output of each sublayer is `LayerNorm(x + Sublayer(x))`. The normalization is done on the `d_model` (last) axis.\n",
    "\n",
    "There are N decoder layers in the transformer.\n",
    "\n",
    "As Q receives the output from decoder's first attention block, and K receives the encoder output, the attention weights represent the importance given to the decoder's input based on the encoder's output. In other words, the decoder predicts the next word by looking at the encoder output and self-attending to its own output. See the demonstration above in the scaled dot product attention section."
   ]
  },
  {
   "cell_type": "code",
   "execution_count": 36,
   "metadata": {
    "id": "9SoX0-vd1hue"
   },
   "outputs": [],
   "source": [
    "class DecoderLayer(tf.keras.layers.Layer):\n",
    "  def __init__(self, d_model, num_heads, dff, rate=0.1):\n",
    "    super(DecoderLayer, self).__init__()\n",
    "\n",
    "    self.mha1 = MultiHeadAttention(d_model, num_heads)\n",
    "    self.mha2 = MultiHeadAttention(d_model, num_heads)\n",
    "\n",
    "    self.ffn = point_wise_feed_forward_network(d_model, dff)\n",
    " \n",
    "    self.layernorm1 = tf.keras.layers.LayerNormalization(epsilon=1e-6)\n",
    "    self.layernorm2 = tf.keras.layers.LayerNormalization(epsilon=1e-6)\n",
    "    self.layernorm3 = tf.keras.layers.LayerNormalization(epsilon=1e-6)\n",
    "    \n",
    "    self.dropout1 = tf.keras.layers.Dropout(rate)\n",
    "    self.dropout2 = tf.keras.layers.Dropout(rate)\n",
    "    self.dropout3 = tf.keras.layers.Dropout(rate)\n",
    "    \n",
    "    \n",
    "  def call(self, x, enc_output, training, \n",
    "           look_ahead_mask, padding_mask):\n",
    "    # enc_output.shape == (batch_size, input_seq_len, d_model)\n",
    "\n",
    "    attn1, attn_weights_block1 = self.mha1(x, x, x, look_ahead_mask)  # (batch_size, target_seq_len, d_model)\n",
    "    attn1 = self.dropout1(attn1, training=training)\n",
    "    out1 = self.layernorm1(attn1 + x)\n",
    "    \n",
    "    attn2, attn_weights_block2 = self.mha2(\n",
    "        enc_output, enc_output, out1, padding_mask)  # (batch_size, target_seq_len, d_model)\n",
    "    attn2 = self.dropout2(attn2, training=training)\n",
    "    out2 = self.layernorm2(attn2 + out1)  # (batch_size, target_seq_len, d_model)\n",
    "    \n",
    "    ffn_output = self.ffn(out2)  # (batch_size, target_seq_len, d_model)\n",
    "    ffn_output = self.dropout3(ffn_output, training=training)\n",
    "    out3 = self.layernorm3(ffn_output + out2)  # (batch_size, target_seq_len, d_model)\n",
    "    \n",
    "    return out3, attn_weights_block1, attn_weights_block2"
   ]
  },
  {
   "cell_type": "code",
   "execution_count": 37,
   "metadata": {
    "colab": {
     "base_uri": "https://localhost:8080/"
    },
    "id": "Ne2Bqx8k71l0",
    "outputId": "53c7b26c-e654-4dc6-ef3b-613bff14234e"
   },
   "outputs": [
    {
     "data": {
      "text/plain": [
       "TensorShape([64, 50, 512])"
      ]
     },
     "execution_count": 37,
     "metadata": {},
     "output_type": "execute_result"
    }
   ],
   "source": [
    "sample_decoder_layer = DecoderLayer(512, 8, 2048)\n",
    "\n",
    "sample_decoder_layer_output, _, _ = sample_decoder_layer(\n",
    "    tf.random.uniform((64, 50, 512)), sample_encoder_layer_output, \n",
    "    False, None, None)\n",
    "\n",
    "sample_decoder_layer_output.shape  # (batch_size, target_seq_len, d_model)"
   ]
  },
  {
   "cell_type": "markdown",
   "metadata": {
    "id": "SE1H51Ajm0q1"
   },
   "source": [
    "### Encoder\n",
    "\n",
    "The `Encoder` consists of:\n",
    "1.   Input Embedding\n",
    "2.   Positional Encoding\n",
    "3.   N encoder layers\n",
    "\n",
    "The input is put through an embedding which is summed with the positional encoding. The output of this summation is the input to the encoder layers. The output of the encoder is the input to the decoder."
   ]
  },
  {
   "cell_type": "code",
   "execution_count": 38,
   "metadata": {
    "id": "jpEox7gJ8FCI"
   },
   "outputs": [],
   "source": [
    "class Encoder(tf.keras.layers.Layer):\n",
    "  def __init__(self, num_layers, d_model, num_heads, dff, input_vocab_size,\n",
    "               maximum_position_encoding, rate=0.1):\n",
    "    super(Encoder, self).__init__()\n",
    "\n",
    "    self.d_model = d_model\n",
    "    self.num_layers = num_layers\n",
    "    \n",
    "    self.embedding = tf.keras.layers.Embedding(input_vocab_size, d_model)\n",
    "    self.pos_encoding = positional_encoding(maximum_position_encoding, \n",
    "                                            self.d_model)\n",
    "    \n",
    "    \n",
    "    self.enc_layers = [EncoderLayer(d_model, num_heads, dff, rate) \n",
    "                       for _ in range(num_layers)]\n",
    "  \n",
    "    self.dropout = tf.keras.layers.Dropout(rate)\n",
    "        \n",
    "  def call(self, x, training, mask):\n",
    "\n",
    "    seq_len = tf.shape(x)[1]\n",
    "    \n",
    "    # adding embedding and position encoding.\n",
    "    x = self.embedding(x)  # (batch_size, input_seq_len, d_model)\n",
    "    x *= tf.math.sqrt(tf.cast(self.d_model, tf.float32))\n",
    "    x += self.pos_encoding[:, :seq_len, :]\n",
    "\n",
    "    x = self.dropout(x, training=training)\n",
    "    \n",
    "    for i in range(self.num_layers):\n",
    "      x = self.enc_layers[i](x, training, mask)\n",
    "    \n",
    "    return x  # (batch_size, input_seq_len, d_model)"
   ]
  },
  {
   "cell_type": "code",
   "execution_count": 39,
   "metadata": {
    "colab": {
     "base_uri": "https://localhost:8080/"
    },
    "id": "8QG9nueFQKXx",
    "outputId": "c1c5cc6b-19bb-4190-c8d7-f605fb303c07"
   },
   "outputs": [
    {
     "name": "stdout",
     "output_type": "stream",
     "text": [
      "(64, 62, 512)\n"
     ]
    }
   ],
   "source": [
    "sample_encoder = Encoder(num_layers=2, d_model=512, num_heads=8, \n",
    "                         dff=2048, input_vocab_size=8500,\n",
    "                         maximum_position_encoding=10000)\n",
    "temp_input = tf.random.uniform((64, 62), dtype=tf.int64, minval=0, maxval=200)\n",
    "\n",
    "sample_encoder_output = sample_encoder(temp_input, training=False, mask=None)\n",
    "\n",
    "print (sample_encoder_output.shape)  # (batch_size, input_seq_len, d_model)"
   ]
  },
  {
   "cell_type": "markdown",
   "metadata": {
    "id": "p-uO6ls8m2O5"
   },
   "source": [
    "### Decoder"
   ]
  },
  {
   "cell_type": "markdown",
   "metadata": {
    "id": "ZtT7PKzrXkNr"
   },
   "source": [
    " The `Decoder` consists of:\n",
    "1.   Output Embedding\n",
    "2.   Positional Encoding\n",
    "3.   N decoder layers\n",
    "\n",
    "The target is put through an embedding which is summed with the positional encoding. The output of this summation is the input to the decoder layers. The output of the decoder is the input to the final linear layer."
   ]
  },
  {
   "cell_type": "code",
   "execution_count": 40,
   "metadata": {
    "id": "d5_d5-PLQXwY"
   },
   "outputs": [],
   "source": [
    "class Decoder(tf.keras.layers.Layer):\n",
    "  def __init__(self, num_layers, d_model, num_heads, dff, target_vocab_size,\n",
    "               maximum_position_encoding, rate=0.1):\n",
    "    super(Decoder, self).__init__()\n",
    "\n",
    "    self.d_model = d_model\n",
    "    self.num_layers = num_layers\n",
    "    \n",
    "    self.embedding = tf.keras.layers.Embedding(target_vocab_size, d_model)\n",
    "    self.pos_encoding = positional_encoding(maximum_position_encoding, d_model)\n",
    "    \n",
    "    self.dec_layers = [DecoderLayer(d_model, num_heads, dff, rate) \n",
    "                       for _ in range(num_layers)]\n",
    "    self.dropout = tf.keras.layers.Dropout(rate)\n",
    "    \n",
    "  def call(self, x, enc_output, training, \n",
    "           look_ahead_mask, padding_mask):\n",
    "\n",
    "    seq_len = tf.shape(x)[1]\n",
    "    attention_weights = {}\n",
    "    \n",
    "    x = self.embedding(x)  # (batch_size, target_seq_len, d_model)\n",
    "    x *= tf.math.sqrt(tf.cast(self.d_model, tf.float32))\n",
    "    x += self.pos_encoding[:, :seq_len, :]\n",
    "    \n",
    "    x = self.dropout(x, training=training)\n",
    "\n",
    "    for i in range(self.num_layers):\n",
    "      x, block1, block2 = self.dec_layers[i](x, enc_output, training,\n",
    "                                             look_ahead_mask, padding_mask)\n",
    "      \n",
    "      attention_weights['decoder_layer{}_block1'.format(i+1)] = block1\n",
    "      attention_weights['decoder_layer{}_block2'.format(i+1)] = block2\n",
    "    \n",
    "    # x.shape == (batch_size, target_seq_len, d_model)\n",
    "    return x, attention_weights"
   ]
  },
  {
   "cell_type": "code",
   "execution_count": 41,
   "metadata": {
    "colab": {
     "base_uri": "https://localhost:8080/"
    },
    "id": "a1jXoAMRZyvu",
    "outputId": "49e16979-6f48-4c6c-c307-0b95259d725e"
   },
   "outputs": [
    {
     "data": {
      "text/plain": [
       "(TensorShape([64, 26, 512]), TensorShape([64, 8, 26, 62]))"
      ]
     },
     "execution_count": 41,
     "metadata": {},
     "output_type": "execute_result"
    }
   ],
   "source": [
    "sample_decoder = Decoder(num_layers=2, d_model=512, num_heads=8, \n",
    "                         dff=2048, target_vocab_size=8000,\n",
    "                         maximum_position_encoding=5000)\n",
    "temp_input = tf.random.uniform((64, 26), dtype=tf.int64, minval=0, maxval=200)\n",
    "\n",
    "output, attn = sample_decoder(temp_input, \n",
    "                              enc_output=sample_encoder_output, \n",
    "                              training=False,\n",
    "                              look_ahead_mask=None, \n",
    "                              padding_mask=None)\n",
    "\n",
    "output.shape, attn['decoder_layer2_block2'].shape"
   ]
  },
  {
   "cell_type": "markdown",
   "metadata": {
    "id": "y54xnJnuYgJ7"
   },
   "source": [
    "## Create the Transformer"
   ]
  },
  {
   "cell_type": "markdown",
   "metadata": {
    "id": "uERO1y54cOKq"
   },
   "source": [
    "Transformer consists of the encoder, decoder and a final linear layer. The output of the decoder is the input to the linear layer and its output is returned."
   ]
  },
  {
   "cell_type": "code",
   "execution_count": 42,
   "metadata": {
    "id": "PED3bIpOYkBu"
   },
   "outputs": [],
   "source": [
    "class Transformer(tf.keras.Model):\n",
    "  def __init__(self, num_layers, d_model, num_heads, dff, input_vocab_size, \n",
    "               target_vocab_size, pe_input, pe_target, rate=0.1):\n",
    "    super(Transformer, self).__init__()\n",
    "\n",
    "    self.encoder = Encoder(num_layers, d_model, num_heads, dff, \n",
    "                           input_vocab_size, pe_input, rate)\n",
    "\n",
    "    self.decoder = Decoder(num_layers, d_model, num_heads, dff, \n",
    "                           target_vocab_size, pe_target, rate)\n",
    "\n",
    "    self.final_layer = tf.keras.layers.Dense(target_vocab_size)\n",
    "    \n",
    "  def call(self, inp, tar, training, enc_padding_mask, \n",
    "           look_ahead_mask, dec_padding_mask):\n",
    "\n",
    "    enc_output = self.encoder(inp, training, enc_padding_mask)  # (batch_size, inp_seq_len, d_model)\n",
    "    \n",
    "    # dec_output.shape == (batch_size, tar_seq_len, d_model)\n",
    "    dec_output, attention_weights = self.decoder(\n",
    "        tar, enc_output, training, look_ahead_mask, dec_padding_mask)\n",
    "    \n",
    "    final_output = self.final_layer(dec_output)  # (batch_size, tar_seq_len, target_vocab_size)\n",
    "    \n",
    "    return final_output, attention_weights"
   ]
  },
  {
   "cell_type": "code",
   "execution_count": 43,
   "metadata": {
    "colab": {
     "base_uri": "https://localhost:8080/"
    },
    "id": "tJ4fbQcIkHW1",
    "outputId": "6bc6155a-02f0-44ff-b04d-5ab4b4c387cc"
   },
   "outputs": [
    {
     "data": {
      "text/plain": [
       "TensorShape([64, 36, 8000])"
      ]
     },
     "execution_count": 43,
     "metadata": {},
     "output_type": "execute_result"
    }
   ],
   "source": [
    "sample_transformer = Transformer(\n",
    "    num_layers=2, d_model=512, num_heads=8, dff=2048, \n",
    "    input_vocab_size=8500, target_vocab_size=8000, \n",
    "    pe_input=10000, pe_target=6000)\n",
    "\n",
    "temp_input = tf.random.uniform((64, 38), dtype=tf.int64, minval=0, maxval=200)\n",
    "temp_target = tf.random.uniform((64, 36), dtype=tf.int64, minval=0, maxval=200)\n",
    "\n",
    "fn_out, _ = sample_transformer(temp_input, temp_target, training=False, \n",
    "                               enc_padding_mask=None, \n",
    "                               look_ahead_mask=None,\n",
    "                               dec_padding_mask=None)\n",
    "\n",
    "fn_out.shape  # (batch_size, tar_seq_len, target_vocab_size)"
   ]
  },
  {
   "cell_type": "markdown",
   "metadata": {
    "id": "wsINyf1VEQLC"
   },
   "source": [
    "## Set hyperparameters"
   ]
  },
  {
   "cell_type": "markdown",
   "metadata": {
    "id": "zVjWCxFNcgbt"
   },
   "source": [
    "To keep this example small and relatively fast, the values for *num_layers, d_model, and dff* have been reduced. \n",
    "\n",
    "The values used in the base model of transformer were; *num_layers=6*, *d_model = 512*, *dff = 2048*. See the [paper](https://arxiv.org/abs/1706.03762) for all the other versions of the transformer.\n",
    "\n",
    "Note: By changing the values below, you can get the model that achieved state of the art on many tasks."
   ]
  },
  {
   "cell_type": "code",
   "execution_count": 44,
   "metadata": {
    "id": "lnJn5SLA2ahP"
   },
   "outputs": [],
   "source": [
    "num_layers = 4\n",
    "d_model = 128\n",
    "dff = 512\n",
    "num_heads = 8\n",
    "\n",
    "input_vocab_size = input_tokenizer.vocab_size + 2\n",
    "target_vocab_size = target_tokenizer.vocab_size + 2\n",
    "dropout_rate = 0.1"
   ]
  },
  {
   "cell_type": "markdown",
   "metadata": {
    "id": "xYEGhEOtzn5W"
   },
   "source": [
    "## Optimizer"
   ]
  },
  {
   "cell_type": "markdown",
   "metadata": {
    "id": "GOmWW--yP3zx"
   },
   "source": [
    "Use the Adam optimizer with a custom learning rate scheduler according to the formula in the [paper](https://arxiv.org/abs/1706.03762).\n",
    "\n",
    "$$\\Large{lrate = d_{model}^{-0.5} * min(step{\\_}num^{-0.5}, step{\\_}num * warmup{\\_}steps^{-1.5})}$$\n"
   ]
  },
  {
   "cell_type": "code",
   "execution_count": 45,
   "metadata": {
    "id": "iYQdOO1axwEI"
   },
   "outputs": [],
   "source": [
    "class CustomSchedule(tf.keras.optimizers.schedules.LearningRateSchedule):\n",
    "  def __init__(self, d_model, warmup_steps=4000):\n",
    "    super(CustomSchedule, self).__init__()\n",
    "    \n",
    "    self.d_model = d_model\n",
    "    self.d_model = tf.cast(self.d_model, tf.float32)\n",
    "\n",
    "    self.warmup_steps = warmup_steps\n",
    "    \n",
    "  def __call__(self, step):\n",
    "    arg1 = tf.math.rsqrt(step)\n",
    "    arg2 = step * (self.warmup_steps ** -1.5)\n",
    "    \n",
    "    return tf.math.rsqrt(self.d_model) * tf.math.minimum(arg1, arg2)"
   ]
  },
  {
   "cell_type": "code",
   "execution_count": 46,
   "metadata": {
    "id": "7r4scdulztRx"
   },
   "outputs": [],
   "source": [
    "learning_rate = CustomSchedule(d_model)\n",
    "\n",
    "optimizer = tf.keras.optimizers.Adam(learning_rate, beta_1=0.9, beta_2=0.98, \n",
    "                                     epsilon=1e-9)"
   ]
  },
  {
   "cell_type": "code",
   "execution_count": 47,
   "metadata": {
    "colab": {
     "base_uri": "https://localhost:8080/",
     "height": 296
    },
    "id": "f33ZCgvHpPdG",
    "outputId": "d32a1d68-c675-424d-ddc5-855608622ba6"
   },
   "outputs": [
    {
     "data": {
      "text/plain": [
       "Text(0.5, 0, 'Train Step')"
      ]
     },
     "execution_count": 47,
     "metadata": {},
     "output_type": "execute_result"
    },
    {
     "data": {
      "image/png": "[encoded data removed]",
      "text/plain": [
       "<Figure size 432x288 with 1 Axes>"
      ]
     },
     "metadata": {
      "needs_background": "light"
     },
     "output_type": "display_data"
    }
   ],
   "source": [
    "temp_learning_rate_schedule = CustomSchedule(d_model)\n",
    "\n",
    "plt.plot(temp_learning_rate_schedule(tf.range(40000, dtype=tf.float32)))\n",
    "plt.ylabel(\"Learning Rate\")\n",
    "plt.xlabel(\"Train Step\")"
   ]
  },
  {
   "cell_type": "markdown",
   "metadata": {
    "id": "YgkDE7hzo8r5"
   },
   "source": [
    "## Loss and metrics"
   ]
  },
  {
   "cell_type": "markdown",
   "metadata": {
    "id": "oxGJtoDuYIHL"
   },
   "source": [
    "Since the target sequences are padded, it is important to apply a padding mask when calculating the loss."
   ]
  },
  {
   "cell_type": "code",
   "execution_count": 48,
   "metadata": {
    "id": "MlhsJMm0TW_B"
   },
   "outputs": [],
   "source": [
    "loss_object = tf.keras.losses.SparseCategoricalCrossentropy(\n",
    "    from_logits=True, reduction='none')"
   ]
  },
  {
   "cell_type": "code",
   "execution_count": 49,
   "metadata": {
    "id": "67oqVHiT0Eiu"
   },
   "outputs": [],
   "source": [
    "def loss_function(real, pred):\n",
    "  mask = tf.math.logical_not(tf.math.equal(real, 0))\n",
    "  loss_ = loss_object(real, pred)\n",
    "\n",
    "  mask = tf.cast(mask, dtype=loss_.dtype)\n",
    "  loss_ *= mask\n",
    "  \n",
    "  return tf.reduce_sum(loss_)/tf.reduce_sum(mask)"
   ]
  },
  {
   "cell_type": "code",
   "execution_count": 50,
   "metadata": {
    "id": "phlyxMnm-Tpx"
   },
   "outputs": [],
   "source": [
    "train_loss = tf.keras.metrics.Mean(name='train_loss')\n",
    "train_accuracy = tf.keras.metrics.SparseCategoricalAccuracy(\n",
    "    name='train_accuracy')"
   ]
  },
  {
   "cell_type": "markdown",
   "metadata": {
    "id": "aeHumfr7zmMa"
   },
   "source": [
    "## Training and checkpointing"
   ]
  },
  {
   "cell_type": "code",
   "execution_count": 51,
   "metadata": {
    "id": "UiysUa--4tOU"
   },
   "outputs": [],
   "source": [
    "transformer = Transformer(num_layers, d_model, num_heads, dff,\n",
    "                          input_vocab_size, target_vocab_size, \n",
    "                          pe_input=input_vocab_size, \n",
    "                          pe_target=target_vocab_size,\n",
    "                          rate=dropout_rate)"
   ]
  },
  {
   "cell_type": "code",
   "execution_count": 52,
   "metadata": {
    "id": "ZOJUSB1T8GjM"
   },
   "outputs": [],
   "source": [
    "def create_masks(inp, tar):\n",
    "  # Encoder padding mask\n",
    "  enc_padding_mask = create_padding_mask(inp)\n",
    "  \n",
    "  # Used in the 2nd attention block in the decoder.\n",
    "  # This padding mask is used to mask the encoder outputs.\n",
    "  dec_padding_mask = create_padding_mask(inp)\n",
    "  \n",
    "  # Used in the 1st attention block in the decoder.\n",
    "  # It is used to pad and mask future tokens in the input received by \n",
    "  # the decoder.\n",
    "  look_ahead_mask = create_look_ahead_mask(tf.shape(tar)[1])\n",
    "  dec_target_padding_mask = create_padding_mask(tar)\n",
    "  combined_mask = tf.maximum(dec_target_padding_mask, look_ahead_mask)\n",
    "  \n",
    "  return enc_padding_mask, combined_mask, dec_padding_mask"
   ]
  },
  {
   "cell_type": "markdown",
   "metadata": {
    "id": "Fzuf06YZp66w"
   },
   "source": [
    "Create the checkpoint path and the checkpoint manager. This will be used to save checkpoints every `n` epochs."
   ]
  },
  {
   "cell_type": "code",
   "execution_count": 53,
   "metadata": {
    "id": "hNhuYfllndLZ"
   },
   "outputs": [],
   "source": [
    "checkpoint_path = \"./checkpoints/train\"\n",
    "\n",
    "ckpt = tf.train.Checkpoint(transformer=transformer,\n",
    "                           optimizer=optimizer)\n",
    "\n",
    "ckpt_manager = tf.train.CheckpointManager(ckpt, checkpoint_path, max_to_keep=5)\n",
    "\n",
    "# if a checkpoint exists, restore the latest checkpoint.\n",
    "if ckpt_manager.latest_checkpoint:\n",
    "  ckpt.restore(ckpt_manager.latest_checkpoint)\n",
    "  print ('Latest checkpoint restored!!')"
   ]
  },
  {
   "cell_type": "markdown",
   "metadata": {
    "id": "0Di_Yaa1gf9r"
   },
   "source": [
    "The target is divided into tar_inp and tar_real. tar_inp is passed as an input to the decoder. `tar_real` is that same input shifted by 1: At each location in `tar_input`, `tar_real` contains the  next token that should be predicted.\n",
    "\n",
    "For example, `sentence` = \"SOS A lion in the jungle is sleeping EOS\"\n",
    "\n",
    "`tar_inp` =  \"SOS A lion in the jungle is sleeping\"\n",
    "\n",
    "`tar_real` = \"A lion in the jungle is sleeping EOS\"\n",
    "\n",
    "The transformer is an auto-regressive model: it makes predictions one part at a time, and uses its output so far to decide what to do next. \n",
    "\n",
    "During training this example uses teacher-forcing (like in the [text generation tutorial](./text_generation.ipynb)). Teacher forcing is passing the true output to the next time step regardless of what the model predicts at the current time step.\n",
    "\n",
    "As the transformer predicts each word, *self-attention* allows it to look at the previous words in the input sequence to better predict the next word.\n",
    "\n",
    "To prevent the model from peeking at the expected output the model uses a look-ahead mask."
   ]
  },
  {
   "cell_type": "code",
   "execution_count": 54,
   "metadata": {
    "id": "LKpoA6q1sJFj"
   },
   "outputs": [],
   "source": [
    "EPOCHS = 100"
   ]
  },
  {
   "cell_type": "code",
   "execution_count": 55,
   "metadata": {},
   "outputs": [],
   "source": [
    "run_id = f\"{num_layers}layers_{d_model}d_{num_heads}heads_{dff}dff_{EPOCHS}EPOCHS_{YueChar}YueChar\"\n",
    "log_dir = os.path.join(os.path.join(os.getcwd(), 'log'), run_id)\n",
    "# %load_ext tensorboard\n",
    "# %tensorboard --logdir {log_dir}"
   ]
  },
  {
   "cell_type": "code",
   "execution_count": 56,
   "metadata": {
    "id": "iJwmp9OE29oj"
   },
   "outputs": [],
   "source": [
    "# The @tf.function trace-compiles train_step into a TF graph for faster\n",
    "# execution. The function specializes to the precise shape of the argument\n",
    "# tensors. To avoid re-tracing due to the variable sequence lengths or variable\n",
    "# batch sizes (the last batch is smaller), use input_signature to specify\n",
    "# more generic shapes.\n",
    "\n",
    "train_step_signature = [\n",
    "    tf.TensorSpec(shape=(None, None), dtype=tf.int64),\n",
    "    tf.TensorSpec(shape=(None, None), dtype=tf.int64),\n",
    "]\n",
    "\n",
    "@tf.function(input_signature=train_step_signature)\n",
    "def train_step(inp, tar):\n",
    "  tar_inp = tar[:, :-1]\n",
    "  tar_real = tar[:, 1:]\n",
    "  \n",
    "  enc_padding_mask, combined_mask, dec_padding_mask = create_masks(inp, tar_inp)\n",
    "  \n",
    "  with tf.GradientTape() as tape:\n",
    "    predictions, _ = transformer(inp, tar_inp, \n",
    "                                 True, \n",
    "                                 enc_padding_mask, \n",
    "                                 combined_mask, \n",
    "                                 dec_padding_mask)\n",
    "    loss = loss_function(tar_real, predictions)\n",
    "\n",
    "  gradients = tape.gradient(loss, transformer.trainable_variables)    \n",
    "  optimizer.apply_gradients(zip(gradients, transformer.trainable_variables))\n",
    "  \n",
    "  train_loss(loss)\n",
    "  train_accuracy(tar_real, predictions)"
   ]
  },
  {
   "cell_type": "code",
   "execution_count": 57,
   "metadata": {
    "colab": {
     "base_uri": "https://localhost:8080/"
    },
    "id": "bbvmaKNiznHZ",
    "outputId": "f6bc5b1f-c9b6-4cb7-839f-70abab2c8905",
    "scrolled": true
   },
   "outputs": [
    {
     "name": "stdout",
     "output_type": "stream",
     "text": [
      "Epoch 1 Batch 0 Loss 11.7638 Accuracy 0.0000\n",
      "Epoch 1 Batch 50 Loss 11.7355 Accuracy 0.0208\n",
      "Epoch 1 Batch 100 Loss 11.6604 Accuracy 0.0327\n",
      "Epoch 1 Loss 11.6453 Accuracy 0.0340\n",
      "Time taken for 1 epoch: 607.9599750041962 secs\n",
      "\n",
      "Epoch 2 Batch 0 Loss 11.3920 Accuracy 0.0357\n",
      "Epoch 2 Batch 50 Loss 11.1756 Accuracy 0.0464\n",
      "Epoch 2 Batch 100 Loss 10.9185 Accuracy 0.0457\n",
      "Epoch 2 Loss 10.8786 Accuracy 0.0461\n",
      "Time taken for 1 epoch: 497.9251027107239 secs\n",
      "\n",
      "Epoch 3 Batch 0 Loss 10.2482 Accuracy 0.0345\n",
      "Epoch 3 Batch 50 Loss 9.8834 Accuracy 0.0462\n",
      "Epoch 3 Batch 100 Loss 9.5062 Accuracy 0.0447\n",
      "Epoch 3 Loss 9.4529 Accuracy 0.0452\n",
      "Time taken for 1 epoch: 505.4895794391632 secs\n",
      "\n",
      "Epoch 4 Batch 0 Loss 8.5578 Accuracy 0.0714\n",
      "Epoch 4 Batch 50 Loss 8.2550 Accuracy 0.0437\n",
      "Epoch 4 Batch 100 Loss 7.9260 Accuracy 0.0443\n",
      "Epoch 4 Loss 7.8810 Accuracy 0.0446\n",
      "Time taken for 1 epoch: 529.4213783740997 secs\n",
      "\n",
      "Epoch 5 Batch 0 Loss 7.1431 Accuracy 0.0286\n",
      "Epoch 5 Batch 50 Loss 7.0540 Accuracy 0.0439\n",
      "Epoch 5 Batch 100 Loss 6.9155 Accuracy 0.0444\n",
      "Saving checkpoint for epoch 5 at ./checkpoints/train\\ckpt-1\n",
      "Epoch 5 Loss 6.8972 Accuracy 0.0451\n",
      "Time taken for 1 epoch: 526.9308762550354 secs\n",
      "\n",
      "Epoch 6 Batch 0 Loss 6.6163 Accuracy 0.0286\n",
      "Epoch 6 Batch 50 Loss 6.6746 Accuracy 0.0450\n",
      "Epoch 6 Batch 100 Loss 6.6354 Accuracy 0.0451\n",
      "Epoch 6 Loss 6.6287 Accuracy 0.0454\n",
      "Time taken for 1 epoch: 521.8387689590454 secs\n",
      "\n",
      "Epoch 7 Batch 0 Loss 6.5581 Accuracy 0.0345\n",
      "Epoch 7 Batch 50 Loss 6.5316 Accuracy 0.0473\n",
      "Epoch 7 Batch 100 Loss 6.4787 Accuracy 0.0510\n",
      "Epoch 7 Loss 6.4710 Accuracy 0.0512\n",
      "Time taken for 1 epoch: 576.5491771697998 secs\n",
      "\n",
      "Epoch 8 Batch 0 Loss 6.3626 Accuracy 0.0488\n",
      "Epoch 8 Batch 50 Loss 6.3529 Accuracy 0.0568\n",
      "Epoch 8 Batch 100 Loss 6.3074 Accuracy 0.0559\n",
      "Epoch 8 Loss 6.2977 Accuracy 0.0567\n",
      "Time taken for 1 epoch: 620.5645995140076 secs\n",
      "\n",
      "Epoch 9 Batch 0 Loss 6.0931 Accuracy 0.0405\n",
      "Epoch 9 Batch 50 Loss 6.1922 Accuracy 0.0576\n",
      "Epoch 9 Batch 100 Loss 6.1431 Accuracy 0.0594\n",
      "Epoch 9 Loss 6.1347 Accuracy 0.0595\n",
      "Time taken for 1 epoch: 619.4480321407318 secs\n",
      "\n",
      "Epoch 10 Batch 0 Loss 6.2370 Accuracy 0.0487\n",
      "Epoch 10 Batch 50 Loss 6.0481 Accuracy 0.0632\n",
      "Epoch 10 Batch 100 Loss 6.0001 Accuracy 0.0625\n",
      "Saving checkpoint for epoch 10 at ./checkpoints/train\\ckpt-2\n",
      "Epoch 10 Loss 5.9920 Accuracy 0.0636\n",
      "Time taken for 1 epoch: 590.2319867610931 secs\n",
      "\n",
      "Epoch 11 Batch 0 Loss 5.7962 Accuracy 0.1004\n",
      "Epoch 11 Batch 50 Loss 5.9151 Accuracy 0.0668\n",
      "Epoch 11 Batch 100 Loss 5.8597 Accuracy 0.0678\n",
      "Epoch 11 Loss 5.8509 Accuracy 0.0682\n",
      "Time taken for 1 epoch: 589.4610123634338 secs\n",
      "\n",
      "Epoch 12 Batch 0 Loss 5.8040 Accuracy 0.0442\n",
      "Epoch 12 Batch 50 Loss 5.7661 Accuracy 0.0675\n",
      "Epoch 12 Batch 100 Loss 5.7218 Accuracy 0.0701\n",
      "Epoch 12 Loss 5.7115 Accuracy 0.0709\n",
      "Time taken for 1 epoch: 555.0231366157532 secs\n",
      "\n",
      "Epoch 13 Batch 0 Loss 5.4749 Accuracy 0.1419\n",
      "Epoch 13 Batch 50 Loss 5.6304 Accuracy 0.0688\n",
      "Epoch 13 Batch 100 Loss 5.5732 Accuracy 0.0708\n",
      "Epoch 13 Loss 5.5664 Accuracy 0.0711\n",
      "Time taken for 1 epoch: 606.3662717342377 secs\n",
      "\n",
      "Epoch 14 Batch 0 Loss 5.3286 Accuracy 0.1315\n",
      "Epoch 14 Batch 50 Loss 5.4792 Accuracy 0.0715\n",
      "Epoch 14 Batch 100 Loss 5.4331 Accuracy 0.0740\n",
      "Epoch 14 Loss 5.4269 Accuracy 0.0746\n",
      "Time taken for 1 epoch: 585.2805936336517 secs\n",
      "\n",
      "Epoch 15 Batch 0 Loss 5.4843 Accuracy 0.1130\n",
      "Epoch 15 Batch 50 Loss 5.3368 Accuracy 0.0747\n",
      "Epoch 15 Batch 100 Loss 5.2854 Accuracy 0.0739\n",
      "Saving checkpoint for epoch 15 at ./checkpoints/train\\ckpt-3\n",
      "Epoch 15 Loss 5.2796 Accuracy 0.0746\n",
      "Time taken for 1 epoch: 558.4588186740875 secs\n",
      "\n",
      "Epoch 16 Batch 0 Loss 5.2181 Accuracy 0.0598\n",
      "Epoch 16 Batch 50 Loss 5.1844 Accuracy 0.0741\n",
      "Epoch 16 Batch 100 Loss 5.1445 Accuracy 0.0760\n",
      "Epoch 16 Loss 5.1347 Accuracy 0.0771\n",
      "Time taken for 1 epoch: 565.014642238617 secs\n",
      "\n",
      "Epoch 17 Batch 0 Loss 5.0655 Accuracy 0.0576\n",
      "Epoch 17 Batch 50 Loss 5.0394 Accuracy 0.0817\n",
      "Epoch 17 Batch 100 Loss 4.9970 Accuracy 0.0809\n",
      "Epoch 17 Loss 4.9850 Accuracy 0.0817\n",
      "Time taken for 1 epoch: 530.9024279117584 secs\n",
      "\n",
      "Epoch 18 Batch 0 Loss 4.8610 Accuracy 0.0567\n",
      "Epoch 18 Batch 50 Loss 4.8795 Accuracy 0.0800\n",
      "Epoch 18 Batch 100 Loss 4.8341 Accuracy 0.0829\n",
      "Epoch 18 Loss 4.8264 Accuracy 0.0837\n",
      "Time taken for 1 epoch: 534.4530844688416 secs\n",
      "\n",
      "Epoch 19 Batch 0 Loss 4.8388 Accuracy 0.0594\n",
      "Epoch 19 Batch 50 Loss 4.7245 Accuracy 0.0839\n",
      "Epoch 19 Batch 100 Loss 4.6755 Accuracy 0.0860\n",
      "Epoch 19 Loss 4.6649 Accuracy 0.0872\n",
      "Time taken for 1 epoch: 539.0073282718658 secs\n",
      "\n",
      "Epoch 20 Batch 0 Loss 4.8067 Accuracy 0.0577\n",
      "Epoch 20 Batch 50 Loss 4.5511 Accuracy 0.0857\n",
      "Epoch 20 Batch 100 Loss 4.5105 Accuracy 0.0867\n",
      "Saving checkpoint for epoch 20 at ./checkpoints/train\\ckpt-4\n",
      "Epoch 20 Loss 4.4986 Accuracy 0.0880\n",
      "Time taken for 1 epoch: 577.9298868179321 secs\n",
      "\n",
      "Epoch 21 Batch 0 Loss 4.4205 Accuracy 0.0567\n",
      "Epoch 21 Batch 50 Loss 4.3951 Accuracy 0.0877\n",
      "Epoch 21 Batch 100 Loss 4.3381 Accuracy 0.0901\n",
      "Epoch 21 Loss 4.3255 Accuracy 0.0921\n",
      "Time taken for 1 epoch: 631.7732543945312 secs\n",
      "\n",
      "Epoch 22 Batch 0 Loss 4.3357 Accuracy 0.0711\n",
      "Epoch 22 Batch 50 Loss 4.2031 Accuracy 0.0945\n",
      "Epoch 22 Batch 100 Loss 4.1536 Accuracy 0.0961\n",
      "Epoch 22 Loss 4.1436 Accuracy 0.0968\n",
      "Time taken for 1 epoch: 548.1924495697021 secs\n",
      "\n",
      "Epoch 23 Batch 0 Loss 4.0387 Accuracy 0.0710\n",
      "Epoch 23 Batch 50 Loss 4.0217 Accuracy 0.1007\n",
      "Epoch 23 Batch 100 Loss 3.9722 Accuracy 0.1009\n",
      "Epoch 23 Loss 3.9607 Accuracy 0.1023\n",
      "Time taken for 1 epoch: 556.2723824977875 secs\n",
      "\n",
      "Epoch 24 Batch 0 Loss 3.8722 Accuracy 0.1797\n",
      "Epoch 24 Batch 50 Loss 3.8193 Accuracy 0.1068\n",
      "Epoch 24 Batch 100 Loss 3.7601 Accuracy 0.1067\n",
      "Epoch 24 Loss 3.7480 Accuracy 0.1083\n",
      "Time taken for 1 epoch: 573.5615692138672 secs\n",
      "\n",
      "Epoch 25 Batch 0 Loss 3.7075 Accuracy 0.0835\n",
      "Epoch 25 Batch 50 Loss 3.6196 Accuracy 0.1153\n",
      "Epoch 25 Batch 100 Loss 3.5736 Accuracy 0.1141\n",
      "Saving checkpoint for epoch 25 at ./checkpoints/train\\ckpt-5\n",
      "Epoch 25 Loss 3.5660 Accuracy 0.1148\n",
      "Time taken for 1 epoch: 601.9008932113647 secs\n",
      "\n",
      "Epoch 26 Batch 0 Loss 3.5323 Accuracy 0.0911\n",
      "Epoch 26 Batch 50 Loss 3.4297 Accuracy 0.1223\n",
      "Epoch 26 Batch 100 Loss 3.3733 Accuracy 0.1233\n",
      "Epoch 26 Loss 3.3585 Accuracy 0.1243\n",
      "Time taken for 1 epoch: 553.695335149765 secs\n",
      "\n",
      "Epoch 27 Batch 0 Loss 3.3507 Accuracy 0.1935\n",
      "Epoch 27 Batch 50 Loss 3.1929 Accuracy 0.1277\n",
      "Epoch 27 Batch 100 Loss 3.1438 Accuracy 0.1304\n",
      "Epoch 27 Loss 3.1349 Accuracy 0.1327\n",
      "Time taken for 1 epoch: 594.1223700046539 secs\n",
      "\n",
      "Epoch 28 Batch 0 Loss 3.1324 Accuracy 0.0903\n",
      "Epoch 28 Batch 50 Loss 2.9987 Accuracy 0.1403\n",
      "Epoch 28 Batch 100 Loss 2.9290 Accuracy 0.1430\n",
      "Epoch 28 Loss 2.9142 Accuracy 0.1451\n",
      "Time taken for 1 epoch: 578.6816556453705 secs\n",
      "\n",
      "Epoch 29 Batch 0 Loss 2.9360 Accuracy 0.0893\n",
      "Epoch 29 Batch 50 Loss 2.7672 Accuracy 0.1497\n",
      "Epoch 29 Batch 100 Loss 2.7097 Accuracy 0.1520\n",
      "Epoch 29 Loss 2.6997 Accuracy 0.1546\n",
      "Time taken for 1 epoch: 617.6149990558624 secs\n",
      "\n",
      "Epoch 30 Batch 0 Loss 2.5145 Accuracy 0.2560\n",
      "Epoch 30 Batch 50 Loss 2.5561 Accuracy 0.1620\n",
      "Epoch 30 Batch 100 Loss 2.4893 Accuracy 0.1672\n",
      "Saving checkpoint for epoch 30 at ./checkpoints/train\\ckpt-6\n",
      "Epoch 30 Loss 2.4796 Accuracy 0.1689\n",
      "Time taken for 1 epoch: 623.7210845947266 secs\n",
      "\n",
      "Epoch 31 Batch 0 Loss 2.4048 Accuracy 0.1859\n",
      "Epoch 31 Batch 50 Loss 2.3493 Accuracy 0.1739\n",
      "Epoch 31 Batch 100 Loss 2.2925 Accuracy 0.1754\n",
      "Epoch 31 Loss 2.2825 Accuracy 0.1765\n",
      "Time taken for 1 epoch: 534.4821918010712 secs\n",
      "\n",
      "Epoch 32 Batch 0 Loss 2.3588 Accuracy 0.2800\n",
      "Epoch 32 Batch 50 Loss 2.1529 Accuracy 0.1836\n",
      "Epoch 32 Batch 100 Loss 2.0909 Accuracy 0.1851\n",
      "Epoch 32 Loss 2.0785 Accuracy 0.1883\n",
      "Time taken for 1 epoch: 558.1701424121857 secs\n",
      "\n",
      "Epoch 33 Batch 0 Loss 2.1955 Accuracy 0.1612\n",
      "Epoch 33 Batch 50 Loss 1.9761 Accuracy 0.1881\n",
      "Epoch 33 Batch 100 Loss 1.9196 Accuracy 0.1922\n",
      "Epoch 33 Loss 1.9133 Accuracy 0.1936\n",
      "Time taken for 1 epoch: 578.9211046695709 secs\n",
      "\n",
      "Epoch 34 Batch 0 Loss 2.0475 Accuracy 0.1373\n",
      "Epoch 34 Batch 50 Loss 1.8121 Accuracy 0.1896\n",
      "Epoch 34 Batch 100 Loss 1.7673 Accuracy 0.2005\n",
      "Epoch 34 Loss 1.7607 Accuracy 0.2025\n",
      "Time taken for 1 epoch: 506.9432203769684 secs\n",
      "\n",
      "Epoch 35 Batch 0 Loss 1.7360 Accuracy 0.1806\n",
      "Epoch 35 Batch 50 Loss 1.6586 Accuracy 0.2048\n",
      "Epoch 35 Batch 100 Loss 1.6259 Accuracy 0.2089\n",
      "Saving checkpoint for epoch 35 at ./checkpoints/train\\ckpt-7\n",
      "Epoch 35 Loss 1.6197 Accuracy 0.2118\n",
      "Time taken for 1 epoch: 414.906888961792 secs\n",
      "\n"
     ]
    },
    {
     "name": "stdout",
     "output_type": "stream",
     "text": [
      "Epoch 36 Batch 0 Loss 1.6118 Accuracy 0.2231\n",
      "Epoch 36 Batch 50 Loss 1.5323 Accuracy 0.2149\n",
      "Epoch 36 Batch 100 Loss 1.5083 Accuracy 0.2144\n",
      "Epoch 36 Loss 1.4997 Accuracy 0.2175\n",
      "Time taken for 1 epoch: 410.2270576953888 secs\n",
      "\n",
      "Epoch 37 Batch 0 Loss 1.5233 Accuracy 0.1797\n",
      "Epoch 37 Batch 50 Loss 1.4003 Accuracy 0.2190\n",
      "Epoch 37 Batch 100 Loss 1.3843 Accuracy 0.2169\n",
      "Epoch 37 Loss 1.3820 Accuracy 0.2201\n",
      "Time taken for 1 epoch: 415.5897207260132 secs\n",
      "\n",
      "Epoch 38 Batch 0 Loss 1.3339 Accuracy 0.2367\n",
      "Epoch 38 Batch 50 Loss 1.3501 Accuracy 0.2169\n",
      "Epoch 38 Batch 100 Loss 1.3094 Accuracy 0.2244\n",
      "Epoch 38 Loss 1.3012 Accuracy 0.2273\n",
      "Time taken for 1 epoch: 410.9974617958069 secs\n",
      "\n",
      "Epoch 39 Batch 0 Loss 1.4283 Accuracy 0.1655\n",
      "Epoch 39 Batch 50 Loss 1.2479 Accuracy 0.2313\n",
      "Epoch 39 Batch 100 Loss 1.2041 Accuracy 0.2299\n",
      "Epoch 39 Loss 1.1968 Accuracy 0.2331\n",
      "Time taken for 1 epoch: 408.7576720714569 secs\n",
      "\n",
      "Epoch 40 Batch 0 Loss 1.1381 Accuracy 0.1975\n",
      "Epoch 40 Batch 50 Loss 1.1361 Accuracy 0.2373\n",
      "Epoch 40 Batch 100 Loss 1.1044 Accuracy 0.2354\n",
      "Saving checkpoint for epoch 40 at ./checkpoints/train\\ckpt-8\n",
      "Epoch 40 Loss 1.1007 Accuracy 0.2378\n",
      "Time taken for 1 epoch: 413.5043406486511 secs\n",
      "\n",
      "Epoch 41 Batch 0 Loss 1.1441 Accuracy 0.1936\n",
      "Epoch 41 Batch 50 Loss 1.0378 Accuracy 0.2431\n",
      "Epoch 41 Batch 100 Loss 1.0043 Accuracy 0.2452\n",
      "Epoch 41 Loss 1.0004 Accuracy 0.2481\n",
      "Time taken for 1 epoch: 406.3758981227875 secs\n",
      "\n",
      "Epoch 42 Batch 0 Loss 0.9391 Accuracy 0.4245\n",
      "Epoch 42 Batch 50 Loss 0.9472 Accuracy 0.2400\n",
      "Epoch 42 Batch 100 Loss 0.9222 Accuracy 0.2415\n",
      "Epoch 42 Loss 0.9209 Accuracy 0.2448\n",
      "Time taken for 1 epoch: 415.71646666526794 secs\n",
      "\n",
      "Epoch 43 Batch 0 Loss 0.9924 Accuracy 0.2020\n",
      "Epoch 43 Batch 50 Loss 0.8824 Accuracy 0.2492\n",
      "Epoch 43 Batch 100 Loss 0.8651 Accuracy 0.2522\n",
      "Epoch 43 Loss 0.8609 Accuracy 0.2555\n",
      "Time taken for 1 epoch: 406.06474566459656 secs\n",
      "\n",
      "Epoch 44 Batch 0 Loss 0.8861 Accuracy 0.3954\n",
      "Epoch 44 Batch 50 Loss 0.8198 Accuracy 0.2484\n",
      "Epoch 44 Batch 100 Loss 0.7943 Accuracy 0.2584\n",
      "Epoch 44 Loss 0.7922 Accuracy 0.2600\n",
      "Time taken for 1 epoch: 407.9287793636322 secs\n",
      "\n",
      "Epoch 45 Batch 0 Loss 0.7892 Accuracy 0.1895\n",
      "Epoch 45 Batch 50 Loss 0.7476 Accuracy 0.2584\n",
      "Epoch 45 Batch 100 Loss 0.7383 Accuracy 0.2596\n",
      "Saving checkpoint for epoch 45 at ./checkpoints/train\\ckpt-9\n",
      "Epoch 45 Loss 0.7352 Accuracy 0.2627\n",
      "Time taken for 1 epoch: 419.19064497947693 secs\n",
      "\n",
      "Epoch 46 Batch 0 Loss 0.7989 Accuracy 0.3438\n",
      "Epoch 46 Batch 50 Loss 0.6966 Accuracy 0.2739\n",
      "Epoch 46 Batch 100 Loss 0.6871 Accuracy 0.2676\n",
      "Epoch 46 Loss 0.6853 Accuracy 0.2724\n",
      "Time taken for 1 epoch: 402.1452605724335 secs\n",
      "\n",
      "Epoch 47 Batch 0 Loss 0.6953 Accuracy 0.2494\n",
      "Epoch 47 Batch 50 Loss 0.6465 Accuracy 0.2612\n",
      "Epoch 47 Batch 100 Loss 0.6385 Accuracy 0.2667\n",
      "Epoch 47 Loss 0.6380 Accuracy 0.2700\n",
      "Time taken for 1 epoch: 410.1990089416504 secs\n",
      "\n",
      "Epoch 48 Batch 0 Loss 0.5360 Accuracy 0.1844\n",
      "Epoch 48 Batch 50 Loss 0.6024 Accuracy 0.2717\n",
      "Epoch 48 Batch 100 Loss 0.5832 Accuracy 0.2705\n",
      "Epoch 48 Loss 0.5808 Accuracy 0.2722\n",
      "Time taken for 1 epoch: 413.37921118736267 secs\n",
      "\n",
      "Epoch 49 Batch 0 Loss 0.5705 Accuracy 0.2604\n",
      "Epoch 49 Batch 50 Loss 0.5889 Accuracy 0.2639\n",
      "Epoch 49 Batch 100 Loss 0.5643 Accuracy 0.2707\n",
      "Epoch 49 Loss 0.5643 Accuracy 0.2729\n",
      "Time taken for 1 epoch: 413.39269948005676 secs\n",
      "\n",
      "Epoch 50 Batch 0 Loss 0.5167 Accuracy 0.2182\n",
      "Epoch 50 Batch 50 Loss 0.5290 Accuracy 0.2680\n",
      "Epoch 50 Batch 100 Loss 0.5186 Accuracy 0.2752\n",
      "Saving checkpoint for epoch 50 at ./checkpoints/train\\ckpt-10\n",
      "Epoch 50 Loss 0.5185 Accuracy 0.2761\n",
      "Time taken for 1 epoch: 413.75049662590027 secs\n",
      "\n",
      "Epoch 51 Batch 0 Loss 0.4512 Accuracy 0.1759\n",
      "Epoch 51 Batch 50 Loss 0.5067 Accuracy 0.2822\n",
      "Epoch 51 Batch 100 Loss 0.4912 Accuracy 0.2767\n",
      "Epoch 51 Loss 0.4911 Accuracy 0.2793\n",
      "Time taken for 1 epoch: 412.92141485214233 secs\n",
      "\n",
      "Epoch 52 Batch 0 Loss 0.5520 Accuracy 0.2487\n",
      "Epoch 52 Batch 50 Loss 0.4876 Accuracy 0.2769\n",
      "Epoch 52 Batch 100 Loss 0.4787 Accuracy 0.2837\n",
      "Epoch 52 Loss 0.4758 Accuracy 0.2864\n",
      "Time taken for 1 epoch: 404.010586977005 secs\n",
      "\n",
      "Epoch 53 Batch 0 Loss 0.4493 Accuracy 0.3481\n",
      "Epoch 53 Batch 50 Loss 0.4525 Accuracy 0.2801\n",
      "Epoch 53 Batch 100 Loss 0.4448 Accuracy 0.2829\n",
      "Epoch 53 Loss 0.4433 Accuracy 0.2877\n",
      "Time taken for 1 epoch: 405.20398592948914 secs\n",
      "\n",
      "Epoch 54 Batch 0 Loss 0.4302 Accuracy 0.4342\n",
      "Epoch 54 Batch 50 Loss 0.4190 Accuracy 0.2918\n",
      "Epoch 54 Batch 100 Loss 0.4171 Accuracy 0.2863\n",
      "Epoch 54 Loss 0.4174 Accuracy 0.2867\n",
      "Time taken for 1 epoch: 412.91608023643494 secs\n",
      "\n",
      "Epoch 55 Batch 0 Loss 0.3961 Accuracy 0.4141\n",
      "Epoch 55 Batch 50 Loss 0.3999 Accuracy 0.2916\n",
      "Epoch 55 Batch 100 Loss 0.3903 Accuracy 0.2954\n",
      "Saving checkpoint for epoch 55 at ./checkpoints/train\\ckpt-11\n",
      "Epoch 55 Loss 0.3921 Accuracy 0.2966\n",
      "Time taken for 1 epoch: 406.83835887908936 secs\n",
      "\n",
      "Epoch 56 Batch 0 Loss 0.3767 Accuracy 0.2207\n",
      "Epoch 56 Batch 50 Loss 0.3873 Accuracy 0.2922\n",
      "Epoch 56 Batch 100 Loss 0.3818 Accuracy 0.2919\n",
      "Epoch 56 Loss 0.3782 Accuracy 0.2972\n",
      "Time taken for 1 epoch: 401.10153818130493 secs\n",
      "\n",
      "Epoch 57 Batch 0 Loss 0.3770 Accuracy 0.4748\n",
      "Epoch 57 Batch 50 Loss 0.3563 Accuracy 0.2877\n",
      "Epoch 57 Batch 100 Loss 0.3533 Accuracy 0.2960\n",
      "Epoch 57 Loss 0.3539 Accuracy 0.2993\n",
      "Time taken for 1 epoch: 400.27601289749146 secs\n",
      "\n",
      "Epoch 58 Batch 0 Loss 0.3779 Accuracy 0.1955\n",
      "Epoch 58 Batch 50 Loss 0.3699 Accuracy 0.2935\n",
      "Epoch 58 Batch 100 Loss 0.3584 Accuracy 0.2965\n",
      "Epoch 58 Loss 0.3562 Accuracy 0.2997\n",
      "Time taken for 1 epoch: 400.98547625541687 secs\n",
      "\n",
      "Epoch 59 Batch 0 Loss 0.3044 Accuracy 0.3955\n",
      "Epoch 59 Batch 50 Loss 0.3294 Accuracy 0.2854\n",
      "Epoch 59 Batch 100 Loss 0.3248 Accuracy 0.2881\n",
      "Epoch 59 Loss 0.3238 Accuracy 0.2910\n",
      "Time taken for 1 epoch: 415.3265953063965 secs\n",
      "\n",
      "Epoch 60 Batch 0 Loss 0.2817 Accuracy 0.5221\n",
      "Epoch 60 Batch 50 Loss 0.3234 Accuracy 0.2950\n",
      "Epoch 60 Batch 100 Loss 0.3207 Accuracy 0.2939\n",
      "Saving checkpoint for epoch 60 at ./checkpoints/train\\ckpt-12\n",
      "Epoch 60 Loss 0.3195 Accuracy 0.2975\n",
      "Time taken for 1 epoch: 411.6130299568176 secs\n",
      "\n",
      "Epoch 61 Batch 0 Loss 0.3052 Accuracy 0.2411\n",
      "Epoch 61 Batch 50 Loss 0.3097 Accuracy 0.3011\n",
      "Epoch 61 Batch 100 Loss 0.3062 Accuracy 0.2982\n",
      "Epoch 61 Loss 0.3051 Accuracy 0.3020\n",
      "Time taken for 1 epoch: 410.0849406719208 secs\n",
      "\n",
      "Epoch 62 Batch 0 Loss 0.2474 Accuracy 0.3750\n",
      "Epoch 62 Batch 50 Loss 0.2910 Accuracy 0.3040\n",
      "Epoch 62 Batch 100 Loss 0.2925 Accuracy 0.2953\n",
      "Epoch 62 Loss 0.2940 Accuracy 0.2995\n",
      "Time taken for 1 epoch: 410.8017268180847 secs\n",
      "\n",
      "Epoch 63 Batch 0 Loss 0.2569 Accuracy 0.2467\n",
      "Epoch 63 Batch 50 Loss 0.2783 Accuracy 0.3000\n",
      "Epoch 63 Batch 100 Loss 0.2853 Accuracy 0.2968\n",
      "Epoch 63 Loss 0.2836 Accuracy 0.2982\n",
      "Time taken for 1 epoch: 415.2618088722229 secs\n",
      "\n",
      "Epoch 64 Batch 0 Loss 0.2873 Accuracy 0.2392\n",
      "Epoch 64 Batch 50 Loss 0.2783 Accuracy 0.3005\n",
      "Epoch 64 Batch 100 Loss 0.2780 Accuracy 0.2988\n",
      "Epoch 64 Loss 0.2772 Accuracy 0.3012\n",
      "Time taken for 1 epoch: 409.1138858795166 secs\n",
      "\n",
      "Epoch 65 Batch 0 Loss 0.2706 Accuracy 0.3524\n",
      "Epoch 65 Batch 50 Loss 0.2624 Accuracy 0.2977\n",
      "Epoch 65 Batch 100 Loss 0.2576 Accuracy 0.3005\n",
      "Saving checkpoint for epoch 65 at ./checkpoints/train\\ckpt-13\n",
      "Epoch 65 Loss 0.2563 Accuracy 0.3021\n",
      "Time taken for 1 epoch: 412.15711283683777 secs\n",
      "\n",
      "Epoch 66 Batch 0 Loss 0.3004 Accuracy 0.4121\n",
      "Epoch 66 Batch 50 Loss 0.2644 Accuracy 0.2966\n",
      "Epoch 66 Batch 100 Loss 0.2617 Accuracy 0.2968\n",
      "Epoch 66 Loss 0.2593 Accuracy 0.3009\n",
      "Time taken for 1 epoch: 412.64988446235657 secs\n",
      "\n",
      "Epoch 67 Batch 0 Loss 0.2717 Accuracy 0.2355\n",
      "Epoch 67 Batch 50 Loss 0.2490 Accuracy 0.3006\n",
      "Epoch 67 Batch 100 Loss 0.2471 Accuracy 0.3021\n",
      "Epoch 67 Loss 0.2469 Accuracy 0.3046\n",
      "Time taken for 1 epoch: 411.28191471099854 secs\n",
      "\n",
      "Epoch 68 Batch 0 Loss 0.2522 Accuracy 0.4587\n",
      "Epoch 68 Batch 50 Loss 0.2430 Accuracy 0.3093\n",
      "Epoch 68 Batch 100 Loss 0.2383 Accuracy 0.3056\n",
      "Epoch 68 Loss 0.2369 Accuracy 0.3084\n",
      "Time taken for 1 epoch: 406.52389192581177 secs\n",
      "\n",
      "Epoch 69 Batch 0 Loss 0.2274 Accuracy 0.2506\n",
      "Epoch 69 Batch 50 Loss 0.2360 Accuracy 0.3068\n",
      "Epoch 69 Batch 100 Loss 0.2321 Accuracy 0.3006\n",
      "Epoch 69 Loss 0.2312 Accuracy 0.3022\n",
      "Time taken for 1 epoch: 412.45768642425537 secs\n",
      "\n",
      "Epoch 70 Batch 0 Loss 0.2609 Accuracy 0.2112\n",
      "Epoch 70 Batch 50 Loss 0.2394 Accuracy 0.2953\n",
      "Epoch 70 Batch 100 Loss 0.2333 Accuracy 0.2933\n",
      "Saving checkpoint for epoch 70 at ./checkpoints/train\\ckpt-14\n",
      "Epoch 70 Loss 0.2332 Accuracy 0.2975\n",
      "Time taken for 1 epoch: 422.32996368408203 secs\n",
      "\n"
     ]
    },
    {
     "name": "stdout",
     "output_type": "stream",
     "text": [
      "Epoch 71 Batch 0 Loss 0.1740 Accuracy 0.5012\n",
      "Epoch 71 Batch 50 Loss 0.2179 Accuracy 0.3042\n",
      "Epoch 71 Batch 100 Loss 0.2175 Accuracy 0.3045\n",
      "Epoch 71 Loss 0.2170 Accuracy 0.3072\n",
      "Time taken for 1 epoch: 419.3289303779602 secs\n",
      "\n",
      "Epoch 72 Batch 0 Loss 0.2957 Accuracy 0.2452\n",
      "Epoch 72 Batch 50 Loss 0.2148 Accuracy 0.2912\n",
      "Epoch 72 Batch 100 Loss 0.2132 Accuracy 0.2972\n",
      "Epoch 72 Loss 0.2128 Accuracy 0.2998\n",
      "Time taken for 1 epoch: 420.243940114975 secs\n",
      "\n",
      "Epoch 73 Batch 0 Loss 0.2322 Accuracy 0.2134\n",
      "Epoch 73 Batch 50 Loss 0.2057 Accuracy 0.3087\n",
      "Epoch 73 Batch 100 Loss 0.2090 Accuracy 0.3091\n",
      "Epoch 73 Loss 0.2096 Accuracy 0.3101\n",
      "Time taken for 1 epoch: 407.0264766216278 secs\n",
      "\n",
      "Epoch 74 Batch 0 Loss 0.2264 Accuracy 0.2812\n",
      "Epoch 74 Batch 50 Loss 0.1965 Accuracy 0.3058\n",
      "Epoch 74 Batch 100 Loss 0.1968 Accuracy 0.3012\n",
      "Epoch 74 Loss 0.1973 Accuracy 0.3049\n",
      "Time taken for 1 epoch: 414.826055765152 secs\n",
      "\n",
      "Epoch 75 Batch 0 Loss 0.1838 Accuracy 0.3297\n",
      "Epoch 75 Batch 50 Loss 0.2013 Accuracy 0.3075\n",
      "Epoch 75 Batch 100 Loss 0.2002 Accuracy 0.3015\n",
      "Saving checkpoint for epoch 75 at ./checkpoints/train\\ckpt-15\n",
      "Epoch 75 Loss 0.1998 Accuracy 0.3049\n",
      "Time taken for 1 epoch: 417.3604402542114 secs\n",
      "\n",
      "Epoch 76 Batch 0 Loss 0.2624 Accuracy 0.2266\n",
      "Epoch 76 Batch 50 Loss 0.1988 Accuracy 0.3149\n",
      "Epoch 76 Batch 100 Loss 0.1945 Accuracy 0.3066\n",
      "Epoch 76 Loss 0.1955 Accuracy 0.3119\n",
      "Time taken for 1 epoch: 410.35665917396545 secs\n",
      "\n",
      "Epoch 77 Batch 0 Loss 0.1760 Accuracy 0.4904\n",
      "Epoch 77 Batch 50 Loss 0.1943 Accuracy 0.2931\n",
      "Epoch 77 Batch 100 Loss 0.1937 Accuracy 0.3072\n",
      "Epoch 77 Loss 0.1925 Accuracy 0.3060\n",
      "Time taken for 1 epoch: 416.7665104866028 secs\n",
      "\n",
      "Epoch 78 Batch 0 Loss 0.2285 Accuracy 0.2301\n",
      "Epoch 78 Batch 50 Loss 0.1878 Accuracy 0.3055\n",
      "Epoch 78 Batch 100 Loss 0.1857 Accuracy 0.3035\n",
      "Epoch 78 Loss 0.1850 Accuracy 0.3056\n",
      "Time taken for 1 epoch: 422.82765316963196 secs\n",
      "\n",
      "Epoch 79 Batch 0 Loss 0.1987 Accuracy 0.2394\n",
      "Epoch 79 Batch 50 Loss 0.1893 Accuracy 0.3088\n",
      "Epoch 79 Batch 100 Loss 0.1854 Accuracy 0.3088\n",
      "Epoch 79 Loss 0.1841 Accuracy 0.3122\n",
      "Time taken for 1 epoch: 412.1465196609497 secs\n",
      "\n",
      "Epoch 80 Batch 0 Loss 0.1853 Accuracy 0.3060\n",
      "Epoch 80 Batch 50 Loss 0.1803 Accuracy 0.2986\n",
      "Epoch 80 Batch 100 Loss 0.1755 Accuracy 0.3067\n",
      "Saving checkpoint for epoch 80 at ./checkpoints/train\\ckpt-16\n",
      "Epoch 80 Loss 0.1736 Accuracy 0.3100\n",
      "Time taken for 1 epoch: 420.917409658432 secs\n",
      "\n",
      "Epoch 81 Batch 0 Loss 0.1503 Accuracy 0.2090\n",
      "Epoch 81 Batch 50 Loss 0.1704 Accuracy 0.2930\n",
      "Epoch 81 Batch 100 Loss 0.1746 Accuracy 0.3040\n",
      "Epoch 81 Loss 0.1741 Accuracy 0.3029\n",
      "Time taken for 1 epoch: 425.5957736968994 secs\n",
      "\n",
      "Epoch 82 Batch 0 Loss 0.1828 Accuracy 0.3915\n",
      "Epoch 82 Batch 50 Loss 0.1717 Accuracy 0.2967\n",
      "Epoch 82 Batch 100 Loss 0.1721 Accuracy 0.2984\n",
      "Epoch 82 Loss 0.1720 Accuracy 0.3005\n",
      "Time taken for 1 epoch: 427.5980520248413 secs\n",
      "\n",
      "Epoch 83 Batch 0 Loss 0.1635 Accuracy 0.1728\n",
      "Epoch 83 Batch 50 Loss 0.1748 Accuracy 0.3077\n",
      "Epoch 83 Batch 100 Loss 0.1676 Accuracy 0.3065\n",
      "Epoch 83 Loss 0.1668 Accuracy 0.3094\n",
      "Time taken for 1 epoch: 417.9295189380646 secs\n",
      "\n",
      "Epoch 84 Batch 0 Loss 0.1724 Accuracy 0.4443\n",
      "Epoch 84 Batch 50 Loss 0.1627 Accuracy 0.3013\n",
      "Epoch 84 Batch 100 Loss 0.1579 Accuracy 0.3059\n",
      "Epoch 84 Loss 0.1578 Accuracy 0.3114\n",
      "Time taken for 1 epoch: 416.9500515460968 secs\n",
      "\n",
      "Epoch 85 Batch 0 Loss 0.1256 Accuracy 0.5312\n",
      "Epoch 85 Batch 50 Loss 0.1663 Accuracy 0.3144\n",
      "Epoch 85 Batch 100 Loss 0.1672 Accuracy 0.3147\n",
      "Saving checkpoint for epoch 85 at ./checkpoints/train\\ckpt-17\n",
      "Epoch 85 Loss 0.1666 Accuracy 0.3151\n",
      "Time taken for 1 epoch: 412.1875035762787 secs\n",
      "\n",
      "Epoch 86 Batch 0 Loss 0.1631 Accuracy 0.2129\n",
      "Epoch 86 Batch 50 Loss 0.1577 Accuracy 0.3088\n",
      "Epoch 86 Batch 100 Loss 0.1576 Accuracy 0.3072\n",
      "Epoch 86 Loss 0.1585 Accuracy 0.3101\n",
      "Time taken for 1 epoch: 418.5177812576294 secs\n",
      "\n",
      "Epoch 87 Batch 0 Loss 0.1456 Accuracy 0.3281\n",
      "Epoch 87 Batch 50 Loss 0.1478 Accuracy 0.3021\n",
      "Epoch 87 Batch 100 Loss 0.1482 Accuracy 0.3059\n",
      "Epoch 87 Loss 0.1492 Accuracy 0.3092\n",
      "Time taken for 1 epoch: 422.938809633255 secs\n",
      "\n",
      "Epoch 88 Batch 0 Loss 0.1759 Accuracy 0.3594\n",
      "Epoch 88 Batch 50 Loss 0.1563 Accuracy 0.2978\n",
      "Epoch 88 Batch 100 Loss 0.1559 Accuracy 0.2980\n",
      "Epoch 88 Loss 0.1552 Accuracy 0.3022\n",
      "Time taken for 1 epoch: 428.3578910827637 secs\n",
      "\n",
      "Epoch 89 Batch 0 Loss 0.1484 Accuracy 0.2305\n",
      "Epoch 89 Batch 50 Loss 0.1582 Accuracy 0.3139\n",
      "Epoch 89 Batch 100 Loss 0.1526 Accuracy 0.3090\n",
      "Epoch 89 Loss 0.1526 Accuracy 0.3120\n",
      "Time taken for 1 epoch: 425.8457326889038 secs\n",
      "\n",
      "Epoch 90 Batch 0 Loss 0.1392 Accuracy 0.2285\n",
      "Epoch 90 Batch 50 Loss 0.1500 Accuracy 0.2993\n",
      "Epoch 90 Batch 100 Loss 0.1500 Accuracy 0.3031\n",
      "Saving checkpoint for epoch 90 at ./checkpoints/train\\ckpt-18\n",
      "Epoch 90 Loss 0.1497 Accuracy 0.3080\n",
      "Time taken for 1 epoch: 424.1448528766632 secs\n",
      "\n",
      "Epoch 91 Batch 0 Loss 0.1607 Accuracy 0.3172\n",
      "Epoch 91 Batch 50 Loss 0.1495 Accuracy 0.3045\n",
      "Epoch 91 Batch 100 Loss 0.1447 Accuracy 0.3087\n",
      "Epoch 91 Loss 0.1446 Accuracy 0.3138\n",
      "Time taken for 1 epoch: 418.08207654953003 secs\n",
      "\n",
      "Epoch 92 Batch 0 Loss 0.1289 Accuracy 0.5100\n",
      "Epoch 92 Batch 50 Loss 0.1527 Accuracy 0.3128\n",
      "Epoch 92 Batch 100 Loss 0.1481 Accuracy 0.3096\n",
      "Epoch 92 Loss 0.1482 Accuracy 0.3128\n",
      "Time taken for 1 epoch: 418.9643793106079 secs\n",
      "\n",
      "Epoch 93 Batch 0 Loss 0.1368 Accuracy 0.3047\n",
      "Epoch 93 Batch 50 Loss 0.1427 Accuracy 0.3022\n",
      "Epoch 93 Batch 100 Loss 0.1433 Accuracy 0.3033\n",
      "Epoch 93 Loss 0.1417 Accuracy 0.3052\n",
      "Time taken for 1 epoch: 430.08372044563293 secs\n",
      "\n",
      "Epoch 94 Batch 0 Loss 0.1754 Accuracy 0.4688\n",
      "Epoch 94 Batch 50 Loss 0.1425 Accuracy 0.3052\n",
      "Epoch 94 Batch 100 Loss 0.1388 Accuracy 0.3067\n",
      "Epoch 94 Loss 0.1397 Accuracy 0.3093\n",
      "Time taken for 1 epoch: 422.68267846107483 secs\n",
      "\n",
      "Epoch 95 Batch 0 Loss 0.1799 Accuracy 0.1799\n",
      "Epoch 95 Batch 50 Loss 0.1478 Accuracy 0.3021\n",
      "Epoch 95 Batch 100 Loss 0.1438 Accuracy 0.3025\n",
      "Saving checkpoint for epoch 95 at ./checkpoints/train\\ckpt-19\n",
      "Epoch 95 Loss 0.1435 Accuracy 0.3047\n",
      "Time taken for 1 epoch: 432.2481050491333 secs\n",
      "\n",
      "Epoch 96 Batch 0 Loss 0.1287 Accuracy 0.3242\n",
      "Epoch 96 Batch 50 Loss 0.1485 Accuracy 0.3135\n",
      "Epoch 96 Batch 100 Loss 0.1428 Accuracy 0.3117\n",
      "Epoch 96 Loss 0.1419 Accuracy 0.3154\n",
      "Time taken for 1 epoch: 419.7058765888214 secs\n",
      "\n",
      "Epoch 97 Batch 0 Loss 0.1448 Accuracy 0.2227\n",
      "Epoch 97 Batch 50 Loss 0.1382 Accuracy 0.3023\n",
      "Epoch 97 Batch 100 Loss 0.1365 Accuracy 0.3045\n",
      "Epoch 97 Loss 0.1386 Accuracy 0.3081\n",
      "Time taken for 1 epoch: 430.13008427619934 secs\n",
      "\n",
      "Epoch 98 Batch 0 Loss 0.1552 Accuracy 0.4316\n",
      "Epoch 98 Batch 50 Loss 0.1396 Accuracy 0.3139\n",
      "Epoch 98 Batch 100 Loss 0.1367 Accuracy 0.3133\n",
      "Epoch 98 Loss 0.1370 Accuracy 0.3166\n",
      "Time taken for 1 epoch: 416.14541006088257 secs\n",
      "\n",
      "Epoch 99 Batch 0 Loss 0.1165 Accuracy 0.2196\n",
      "Epoch 99 Batch 50 Loss 0.1254 Accuracy 0.2965\n",
      "Epoch 99 Batch 100 Loss 0.1284 Accuracy 0.3034\n",
      "Epoch 99 Loss 0.1289 Accuracy 0.3076\n",
      "Time taken for 1 epoch: 428.2021541595459 secs\n",
      "\n",
      "Epoch 100 Batch 0 Loss 0.1241 Accuracy 0.4868\n",
      "Epoch 100 Batch 50 Loss 0.1280 Accuracy 0.3130\n",
      "Epoch 100 Batch 100 Loss 0.1278 Accuracy 0.3111\n",
      "Saving checkpoint for epoch 100 at ./checkpoints/train\\ckpt-20\n",
      "Epoch 100 Loss 0.1275 Accuracy 0.3160\n",
      "Time taken for 1 epoch: 421.0666949748993 secs\n",
      "\n"
     ]
    }
   ],
   "source": [
    "summary_writer = tf.summary.create_file_writer(log_dir)\n",
    "for epoch in range(EPOCHS):\n",
    "  start = time.time()\n",
    "  \n",
    "  train_loss.reset_states()\n",
    "  train_accuracy.reset_states()\n",
    "  \n",
    "  for (batch, (inp, tar)) in enumerate(train_dataset):\n",
    "    train_step(inp, tar)\n",
    "    \n",
    "    if batch % 50 == 0:\n",
    "      print ('Epoch {} Batch {} Loss {:.4f} Accuracy {:.4f}'.format(\n",
    "          epoch + 1, batch, train_loss.result(), train_accuracy.result()))\n",
    "      \n",
    "  if (epoch + 1) % 5 == 0:\n",
    "    ckpt_save_path = ckpt_manager.save()\n",
    "    print ('Saving checkpoint for epoch {} at {}'.format(epoch+1,\n",
    "                                                         ckpt_save_path))\n",
    "    \n",
    "  # Save output to TensorBoard\n",
    "  with summary_writer.as_default():\n",
    "    tf.summary.scalar(\"train_loss\", train_loss.result(), step=epoch + 1)\n",
    "    tf.summary.scalar(\"train_acc\", train_accuracy.result(), step=epoch + 1)\n",
    "    \n",
    "  print ('Epoch {} Loss {:.4f} Accuracy {:.4f}'.format(epoch + 1, \n",
    "                                                train_loss.result(), \n",
    "                                                train_accuracy.result()))\n",
    "\n",
    "  print ('Time taken for 1 epoch: {} secs\\n'.format(time.time() - start))"
   ]
  },
  {
   "cell_type": "markdown",
   "metadata": {
    "id": "QfcsSWswSdGV"
   },
   "source": [
    "## Evaluate"
   ]
  },
  {
   "cell_type": "markdown",
   "metadata": {
    "id": "y6APsFrgImLW"
   },
   "source": [
    "The following steps are used for evaluation:\n",
    "\n",
    "* Encode the input sentence using the Portuguese tokenizer (`input_tokenizer`). Moreover, add the start and end token so the input is equivalent to what the model is trained with. This is the encoder input.\n",
    "* The decoder input is the `start token == target_tokenizer.vocab_size`.\n",
    "* Calculate the padding masks and the look ahead masks.\n",
    "* The `decoder` then outputs the predictions by looking at the `encoder output` and its own output (self-attention).\n",
    "* Select the last word and calculate the argmax of that.\n",
    "* Concatentate the predicted word to the decoder input as pass it to the decoder.\n",
    "* In this approach, the decoder predicts the next word based on the previous words it predicted.\n",
    "\n",
    "Note: The model used here has less capacity to keep the example relatively faster so the predictions maybe less right. To reproduce the results in the paper, use the entire dataset and base transformer model or transformer XL, by changing the hyperparameters above."
   ]
  },
  {
   "cell_type": "code",
   "execution_count": 58,
   "metadata": {
    "id": "5buvMlnvyrFm"
   },
   "outputs": [],
   "source": [
    "def evaluate(inp_sentence):\n",
    "  start_token = [input_tokenizer.vocab_size]\n",
    "  end_token = [input_tokenizer.vocab_size + 1]\n",
    "  \n",
    "  # inp sentence is portuguese, hence adding the start and end token\n",
    "  inp_sentence = start_token + input_tokenizer.encode(inp_sentence) + end_token\n",
    "  encoder_input = tf.expand_dims(inp_sentence, 0)\n",
    "  \n",
    "  # as the target is english, the first word to the transformer should be the\n",
    "  # english start token.\n",
    "  decoder_input = [target_tokenizer.vocab_size]\n",
    "  output = tf.expand_dims(decoder_input, 0)\n",
    "    \n",
    "  for i in range(MAX_LENGTH):\n",
    "    enc_padding_mask, combined_mask, dec_padding_mask = create_masks(\n",
    "        encoder_input, output)\n",
    "  \n",
    "    # predictions.shape == (batch_size, seq_len, vocab_size)\n",
    "    predictions, attention_weights = transformer(encoder_input, \n",
    "                                                 output,\n",
    "                                                 False,\n",
    "                                                 enc_padding_mask,\n",
    "                                                 combined_mask,\n",
    "                                                 dec_padding_mask)\n",
    "    \n",
    "    # select the last word from the seq_len dimension\n",
    "    predictions = predictions[: ,-1:, :]  # (batch_size, 1, vocab_size)\n",
    "\n",
    "    predicted_id = tf.cast(tf.argmax(predictions, axis=-1), tf.int32)\n",
    "    \n",
    "    # return the result if the predicted_id is equal to the end token\n",
    "    if predicted_id == target_tokenizer.vocab_size+1:\n",
    "      return tf.squeeze(output, axis=0), attention_weights\n",
    "    \n",
    "    # concatentate the predicted_id to the output which is given to the decoder\n",
    "    # as its input.\n",
    "    output = tf.concat([output, predicted_id], axis=-1)\n",
    "\n",
    "  return tf.squeeze(output, axis=0), attention_weights"
   ]
  },
  {
   "cell_type": "code",
   "execution_count": 59,
   "metadata": {
    "id": "CN-BV43FMBej"
   },
   "outputs": [],
   "source": [
    "def plot_attention_weights(attention, sentence, result, layer):\n",
    "  fig = plt.figure(figsize=(16, 8))\n",
    "  \n",
    "  sentence = input_tokenizer.encode(sentence)\n",
    "  \n",
    "  attention = tf.squeeze(attention[layer], axis=0)\n",
    "  \n",
    "  for head in range(attention.shape[0]):\n",
    "    ax = fig.add_subplot(2, 4, head+1)\n",
    "    \n",
    "    # plot the attention weights\n",
    "    ax.matshow(attention[head][:-1, :], cmap='viridis')\n",
    "\n",
    "    # show Chinese character\n",
    "    fontdict = {\"fontproperties\": chinese}\n",
    "    \n",
    "    ax.set_xticks(range(len(sentence)+2))\n",
    "    ax.set_yticks(range(len(result)))\n",
    "    \n",
    "    ax.set_ylim(len(result)-1.5, -0.5)\n",
    "        \n",
    "    ax.set_xticklabels(\n",
    "        ['<start>']+[input_tokenizer.decode([i]) for i in sentence]+['<end>'], \n",
    "        fontdict=fontdict, rotation=90)\n",
    "    \n",
    "    ax.set_yticklabels([target_tokenizer.decode([i]) for i in result \n",
    "                        if i < target_tokenizer.vocab_size], \n",
    "                       fontdict=fontdict)\n",
    "    \n",
    "    ax.set_xlabel('Head {}'.format(head+1))\n",
    "  \n",
    "  plt.tight_layout()\n",
    "  plt.show()"
   ]
  },
  {
   "cell_type": "code",
   "execution_count": 60,
   "metadata": {
    "id": "lU2_yG_vBGza"
   },
   "outputs": [],
   "source": [
    "def translate(sentence, plot=''):\n",
    "  result, attention_weights = evaluate(sentence)\n",
    "  \n",
    "  predicted_sentence = target_tokenizer.decode([i for i in result \n",
    "                                            if i < target_tokenizer.vocab_size])  \n",
    "\n",
    "  print('Input: {}'.format(sentence))\n",
    "  print('Predicted translation: {}'.format(predicted_sentence))\n",
    "  \n",
    "  if plot:\n",
    "    plot_attention_weights(attention_weights, sentence, result, plot)"
   ]
  },
  {
   "cell_type": "code",
   "execution_count": 134,
   "metadata": {
    "id": "gZwVWTohOv4_",
    "scrolled": false
   },
   "outputs": [
    {
     "name": "stdout",
     "output_type": "stream",
     "text": [
      "a thing that could move fast\n",
      "佢 可以 很 快 地 移動 \n",
      "\n",
      "Input: a thing that could move fast\n",
      "Predicted translation: 佢 可以 很 快 地 移動\n"
     ]
    },
    {
     "data": {
      "image/png": "[encoded data removed]",
      "text/plain": [
       "<Figure size 1152x576 with 8 Axes>"
      ]
     },
     "metadata": {
      "needs_background": "light"
     },
     "output_type": "display_data"
    }
   ],
   "source": [
    "import random\n",
    "ran = random.randint(1, len(test_examples))\n",
    "\n",
    "for inp_t, tar_t in test_examples.take(ran):\n",
    "  inp = inp_t.numpy().decode(\"utf-8\")\n",
    "  tar = tar_t.numpy().decode(\"utf-8\")\n",
    "print(inp)\n",
    "print(tar, '\\n')\n",
    "\n",
    "translate(inp, plot='decoder_layer4_block2')"
   ]
  },
  {
   "cell_type": "code",
   "execution_count": 66,
   "metadata": {},
   "outputs": [
    {
     "name": "stdout",
     "output_type": "stream",
     "text": [
      "Model: \"transformer_1\"\n",
      "_________________________________________________________________\n",
      "Layer (type)                 Output Shape              Param #   \n",
      "=================================================================\n",
      "encoder_2 (Encoder)          multiple                  1788160   \n",
      "_________________________________________________________________\n",
      "decoder_2 (Decoder)          multiple                  17638528  \n",
      "_________________________________________________________________\n",
      "dense_151 (Dense)            multiple                  16709757  \n",
      "=================================================================\n",
      "Total params: 36,136,445\n",
      "Trainable params: 36,136,445\n",
      "Non-trainable params: 0\n",
      "_________________________________________________________________\n"
     ]
    }
   ],
   "source": [
    "transformer.summary()"
   ]
  },
  {
   "cell_type": "code",
   "execution_count": 183,
   "metadata": {},
   "outputs": [],
   "source": [
    "def translateTest(sentence):\n",
    "  result, attention_weights = evaluate(sentence)\n",
    "  \n",
    "  sentence = input_tokenizer.encode(sentence)\n",
    "  sentence = ' '.join([input_tokenizer.decode([i]) for i in sentence])\n",
    "  predicted_sentence = target_tokenizer.decode([i for i in result \n",
    "                                            if i < target_tokenizer.vocab_size])  \n",
    "\n",
    "#   print('Input: {}'.format(sentence))\n",
    "#   print('Predicted translation: {}'.format(predicted_sentence))\n",
    "  return sentence, predicted_sentence"
   ]
  },
  {
   "cell_type": "code",
   "execution_count": 205,
   "metadata": {},
   "outputs": [
    {
     "name": "stdout",
     "output_type": "stream",
     "text": [
      "Progress: 50 / 1963 in 44.64314603805542 s\n",
      "Progress: 100 / 1963 in 32.87359976768494 s\n",
      "Progress: 150 / 1963 in 31.314703464508057 s\n",
      "Progress: 200 / 1963 in 36.30274033546448 s\n",
      "Progress: 250 / 1963 in 27.028340578079224 s\n",
      "Progress: 300 / 1963 in 26.13274645805359 s\n",
      "Progress: 350 / 1963 in 31.82491397857666 s\n",
      "Progress: 400 / 1963 in 35.059083700180054 s\n",
      "Progress: 450 / 1963 in 33.45172929763794 s\n",
      "Progress: 500 / 1963 in 35.44756293296814 s\n",
      "Progress: 550 / 1963 in 31.656559228897095 s\n",
      "Progress: 600 / 1963 in 33.709224462509155 s\n",
      "Progress: 650 / 1963 in 28.418901920318604 s\n",
      "Progress: 700 / 1963 in 30.17862629890442 s\n",
      "Progress: 750 / 1963 in 30.37372064590454 s\n",
      "Progress: 800 / 1963 in 29.565354347229004 s\n",
      "Progress: 850 / 1963 in 31.396907806396484 s\n",
      "Progress: 900 / 1963 in 24.839409828186035 s\n",
      "Progress: 950 / 1963 in 29.903717756271362 s\n",
      "Progress: 1000 / 1963 in 31.86581516265869 s\n",
      "Progress: 1050 / 1963 in 35.16303586959839 s\n",
      "Progress: 1100 / 1963 in 32.15205407142639 s\n",
      "Progress: 1150 / 1963 in 36.60993671417236 s\n",
      "Progress: 1200 / 1963 in 37.2580668926239 s\n",
      "Progress: 1250 / 1963 in 36.3830668926239 s\n",
      "Progress: 1300 / 1963 in 27.288607358932495 s\n",
      "Progress: 1350 / 1963 in 34.94180083274841 s\n",
      "Progress: 1400 / 1963 in 30.793224811553955 s\n",
      "Progress: 1450 / 1963 in 30.445749044418335 s\n",
      "Progress: 1500 / 1963 in 36.95654249191284 s\n",
      "Progress: 1550 / 1963 in 30.89931011199951 s\n",
      "Progress: 1600 / 1963 in 31.659127712249756 s\n",
      "Progress: 1650 / 1963 in 23.05354118347168 s\n",
      "Progress: 1700 / 1963 in 45.47695565223694 s\n",
      "Progress: 1750 / 1963 in 44.07251977920532 s\n",
      "Progress: 1800 / 1963 in 30.66903066635132 s\n",
      "Progress: 1850 / 1963 in 47.68008279800415 s\n",
      "Progress: 1900 / 1963 in 33.93272948265076 s\n",
      "Progress: 1950 / 1963 in 37.39260697364807 s\n",
      "Progress: 1963 / 1963 in 1307.2754940986633\n"
     ]
    }
   ],
   "source": [
    "ref = []\n",
    "can = []\n",
    "num_test = 0\n",
    "TotalTime = time.time()\n",
    "start = time.time()\n",
    "for inp_t, tar_t in test_examples:\n",
    "    inp = inp_t.numpy().decode(\"utf-8\")\n",
    "    tar = tar_t.numpy().decode(\"utf-8\")\n",
    "    num_test += 1\n",
    "    if len(inp.split()) < 40 and len(tar.split()) < 40:\n",
    "        inp_r, pre = translateTest(inp)\n",
    "        ref.append([tar.split()])\n",
    "        can.append(pre.split())\n",
    "    if num_test % 50 == 0:\n",
    "        print(f'Progress: {num_test} / {len(test_examples)} in {time.time()-start} s')\n",
    "        start = time.time()\n",
    "        \n",
    "print(f'ToTal: {num_test} / {len(test_examples)} in {time.time()-TotalTime}')"
   ]
  },
  {
   "cell_type": "code",
   "execution_count": 211,
   "metadata": {},
   "outputs": [
    {
     "name": "stdout",
     "output_type": "stream",
     "text": [
      "BLEU test result: 75.9623627495366\n"
     ]
    }
   ],
   "source": [
    "import nltk\n",
    "from nltk.translate.bleu_score import sentence_bleu\n",
    "\n",
    "score = 0\n",
    "for i in range(len(ref)):\n",
    "    if YueChar:\n",
    "        score += sentence_bleu(ref[i], can[i])\n",
    "    else:\n",
    "        score += sentence_bleu(ref[i], can[i], weights=(1, 0, 0, 0))\n",
    "print('BLEU test result:', score/len(ref)*100)"
   ]
  }
 ],
 "metadata": {
  "accelerator": "GPU",
  "colab": {
   "collapsed_sections": [],
   "name": "Transformer",
   "provenance": []
  },
  "kernelspec": {
   "display_name": "Python 3",
   "language": "python",
   "name": "python3"
  },
  "language_info": {
   "codemirror_mode": {
    "name": "ipython",
    "version": 3
   },
   "file_extension": ".py",
   "mimetype": "text/x-python",
   "name": "python",
   "nbconvert_exporter": "python",
   "pygments_lexer": "ipython3",
   "version": "3.8.5"
  }
 },
 "nbformat": 4,
 "nbformat_minor": 1
}
