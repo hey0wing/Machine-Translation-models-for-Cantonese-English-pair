{
 "cells": [
  {
   "cell_type": "markdown",
   "metadata": {
    "id": "J0Qjg6vuaHNt"
   },
   "source": [
    "# Transformer model for language understanding"
   ]
  },
  {
   "cell_type": "markdown",
   "metadata": {
    "id": "Xu2cV7D4kBFi"
   },
   "source": [
    "FYP: Machine translation models for Cantonese-English pair"
   ]
  },
  {
   "cell_type": "code",
   "execution_count": 1,
   "metadata": {
    "colab": {
     "base_uri": "https://localhost:8080/"
    },
    "id": "XFG0NDRu5mYQ",
    "outputId": "10b72e31-4689-4efc-9406-9dac3da5c01e"
   },
   "outputs": [],
   "source": [
    "!pip install -q tfds-nightly\n",
    "\n",
    "# Pin matplotlib version to 3.2.2 since in the latest version\n",
    "# transformer.ipynb fails with the following error:\n",
    "# https://stackoverflow.com/questions/62953704/valueerror-the-number-of-fixedlocator-locations-5-usually-from-a-call-to-set\n",
    "!pip install -q matplotlib==3.2.2\n",
    "!pip install -q wget\n",
    "\n",
    "!pip install -q tensorflow"
   ]
  },
  {
   "cell_type": "code",
   "execution_count": 2,
   "metadata": {
    "id": "JjJJyJTZYebt"
   },
   "outputs": [],
   "source": [
    "import tensorflow_datasets as tfds\n",
    "import tensorflow as tf\n",
    "\n",
    "import re\n",
    "import time\n",
    "import numpy as np\n",
    "import matplotlib.pyplot as plt"
   ]
  },
  {
   "cell_type": "markdown",
   "metadata": {
    "id": "fd1NWMxjfsDd"
   },
   "source": [
    "## Setup input pipeline"
   ]
  },
  {
   "cell_type": "code",
   "execution_count": 3,
   "metadata": {
    "colab": {
     "base_uri": "https://localhost:8080/",
     "height": 204
    },
    "id": "QWviV8YdYh-C",
    "outputId": "6e3bf9d5-5632-4d95-a958-b4196327e03c"
   },
   "outputs": [
    {
     "data": {
      "text/html": [
       "<div>\n",
       "<style scoped>\n",
       "    .dataframe tbody tr th:only-of-type {\n",
       "        vertical-align: middle;\n",
       "    }\n",
       "\n",
       "    .dataframe tbody tr th {\n",
       "        vertical-align: top;\n",
       "    }\n",
       "\n",
       "    .dataframe thead th {\n",
       "        text-align: right;\n",
       "    }\n",
       "</style>\n",
       "<table border=\"1\" class=\"dataframe\">\n",
       "  <thead>\n",
       "    <tr style=\"text-align: right;\">\n",
       "      <th></th>\n",
       "      <th>yue</th>\n",
       "      <th>eng</th>\n",
       "    </tr>\n",
       "  </thead>\n",
       "  <tbody>\n",
       "    <tr>\n",
       "      <th>0</th>\n",
       "      <td>唔準掂同食醃菜唔準坐梳化或者屋企人嘅床上每次經期完咗要洗床單就算床單無汚糟到他們認為我唔純潔...</td>\n",
       "      <td>I was not allowed to touch or eat pickles I wa...</td>\n",
       "    </tr>\n",
       "    <tr>\n",
       "      <th>1</th>\n",
       "      <td>佢地扮怪面嚇人</td>\n",
       "      <td>They were making scary faces</td>\n",
       "    </tr>\n",
       "    <tr>\n",
       "      <th>2</th>\n",
       "      <td>唔會搞到我哋變得邪惡女人型變成自由黨人咩</td>\n",
       "      <td>turn us into godless sissy liberals</td>\n",
       "    </tr>\n",
       "    <tr>\n",
       "      <th>3</th>\n",
       "      <td>呢個模式可以清晰令您瞭解佢哋</td>\n",
       "      <td>So it spells those out in very clean terms</td>\n",
       "    </tr>\n",
       "    <tr>\n",
       "      <th>4</th>\n",
       "      <td>幾多萬億掌聲</td>\n",
       "      <td>How many trillions Applause</td>\n",
       "    </tr>\n",
       "  </tbody>\n",
       "</table>\n",
       "</div>"
      ],
      "text/plain": [
       "                                                 yue  \\\n",
       "0  唔準掂同食醃菜唔準坐梳化或者屋企人嘅床上每次經期完咗要洗床單就算床單無汚糟到他們認為我唔純潔...   \n",
       "1                                            佢地扮怪面嚇人   \n",
       "2                               唔會搞到我哋變得邪惡女人型變成自由黨人咩   \n",
       "3                                     呢個模式可以清晰令您瞭解佢哋   \n",
       "4                                             幾多萬億掌聲   \n",
       "\n",
       "                                                 eng  \n",
       "0  I was not allowed to touch or eat pickles I wa...  \n",
       "1                       They were making scary faces  \n",
       "2                turn us into godless sissy liberals  \n",
       "3         So it spells those out in very clean terms  \n",
       "4                        How many trillions Applause  "
      ]
     },
     "execution_count": 3,
     "metadata": {},
     "output_type": "execute_result"
    }
   ],
   "source": [
    "import pandas as pd\n",
    "import glob\n",
    "import os\n",
    "\n",
    "all_csv = glob.glob(os.getcwd() + \"/train.csv\")  \n",
    "\n",
    "df_test = pd.read_csv(os.getcwd() + \"/test.csv\", sep='\\t', encoding='utf-8')  \n",
    "\n",
    "df_from_each_file = (pd.read_csv(f, sep='\\t', encoding='utf-8') for f in all_csv)\n",
    "df = pd.concat(df_from_each_file)\n",
    "\n",
    "# Check for null\n",
    "df[df['yue'].isnull()]\n",
    "df = df.dropna()\n",
    "df_test = df_test.dropna()\n",
    "\n",
    "YueChar = True\n",
    "# Delete spaces between n-gram in Cantonese\n",
    "# Perform Character based tokenization in Cantonese\n",
    "if YueChar:\n",
    "    df['yue'] = df['yue'].str.replace(r' ', '')\n",
    "    df_test['yue'] = df_test['yue'].str.replace(r' ', '')\n",
    "\n",
    "df.head()"
   ]
  },
  {
   "cell_type": "markdown",
   "metadata": {
    "id": "uERO1y54cOKq"
   },
   "source": [
    "Transformer consists of the encoder, decoder and a final linear layer. The output of the decoder is the input to the linear layer and its output is returned."
   ]
  },
  {
   "cell_type": "code",
   "execution_count": 4,
   "metadata": {},
   "outputs": [
    {
     "data": {
      "text/html": [
       "<div>\n",
       "<style scoped>\n",
       "    .dataframe tbody tr th:only-of-type {\n",
       "        vertical-align: middle;\n",
       "    }\n",
       "\n",
       "    .dataframe tbody tr th {\n",
       "        vertical-align: top;\n",
       "    }\n",
       "\n",
       "    .dataframe thead th {\n",
       "        text-align: right;\n",
       "    }\n",
       "</style>\n",
       "<table border=\"1\" class=\"dataframe\">\n",
       "  <thead>\n",
       "    <tr style=\"text-align: right;\">\n",
       "      <th></th>\n",
       "      <th>yue</th>\n",
       "      <th>eng</th>\n",
       "    </tr>\n",
       "  </thead>\n",
       "  <tbody>\n",
       "    <tr>\n",
       "      <th>0</th>\n",
       "      <td>我 相 信 主</td>\n",
       "      <td>I believe the almighty</td>\n",
       "    </tr>\n",
       "    <tr>\n",
       "      <th>1</th>\n",
       "      <td>好 耐 以 嚟 有 發 展 紊 亂 嘅 小 朋 友</td>\n",
       "      <td>For too long now children with developmental d...</td>\n",
       "    </tr>\n",
       "    <tr>\n",
       "      <th>2</th>\n",
       "      <td>一 般 會 遇 到 兩 種 反 應</td>\n",
       "      <td>I have two kinds of reactions</td>\n",
       "    </tr>\n",
       "    <tr>\n",
       "      <th>3</th>\n",
       "      <td>但 再 諗 下 嗰 位 官 員 未 必 係 唯 一 睇 小 女 性 嘅 人 呢 種 偏 見 ...</td>\n",
       "      <td>But think about this The IMF official is hardl...</td>\n",
       "    </tr>\n",
       "    <tr>\n",
       "      <th>4</th>\n",
       "      <td>佢 將 呢 個 病 毒 傳 畀 BB</td>\n",
       "      <td>She passes that virus on to baby</td>\n",
       "    </tr>\n",
       "  </tbody>\n",
       "</table>\n",
       "</div>"
      ],
      "text/plain": [
       "                                                 yue  \\\n",
       "0                                            我 相 信 主   \n",
       "1                          好 耐 以 嚟 有 發 展 紊 亂 嘅 小 朋 友   \n",
       "2                                  一 般 會 遇 到 兩 種 反 應   \n",
       "3  但 再 諗 下 嗰 位 官 員 未 必 係 唯 一 睇 小 女 性 嘅 人 呢 種 偏 見 ...   \n",
       "4                                 佢 將 呢 個 病 毒 傳 畀 BB   \n",
       "\n",
       "                                                 eng  \n",
       "0                             I believe the almighty  \n",
       "1  For too long now children with developmental d...  \n",
       "2                      I have two kinds of reactions  \n",
       "3  But think about this The IMF official is hardl...  \n",
       "4                   She passes that virus on to baby  "
      ]
     },
     "execution_count": 4,
     "metadata": {},
     "output_type": "execute_result"
    }
   ],
   "source": [
    "import regex as re\n",
    "def spliteKeyWord(str):\n",
    "    regex = r\"[\\u4e00-\\ufaff]|[0-9]+|[a-zA-Z]+\\'*[a-z]*\"\n",
    "    matches = re.findall(regex, str, re.UNICODE)\n",
    "    return ' '.join(matches)\n",
    "\n",
    "if YueChar:\n",
    "    df['yue'] = df['yue'].apply(lambda x: spliteKeyWord(x))\n",
    "    df_test['yue'] = df_test['yue'].apply(lambda x: spliteKeyWord(x))\n",
    "df_test.head()"
   ]
  },
  {
   "cell_type": "code",
   "execution_count": 5,
   "metadata": {},
   "outputs": [
    {
     "name": "stdout",
     "output_type": "stream",
     "text": [
      "Total number: 253040\n",
      "Distinct number: 11503\n",
      "Unique ratio: 0.04545921593423965\n",
      "{'10-99': 1192, '100-999': 432, '1000+': 32, 2: 975, 3: 393, 1: 7651, 8: 101, 9: 72, 4: 262, 5: 178, 7: 103, 6: 112}\n"
     ]
    },
    {
     "data": {
      "image/png": "[encoded data removed]",
      "text/plain": [
       "<Figure size 432x288 with 1 Axes>"
      ]
     },
     "metadata": {},
     "output_type": "display_data"
    }
   ],
   "source": [
    "from collections import Counter\n",
    "l = ''.join(pd.concat([df, df_test])['yue'].values.tolist()).split()\n",
    "c = Counter(l)\n",
    "print('Total number:', len(l))\n",
    "print('Distinct number:', len(c))\n",
    "print('Unique ratio:', len(c)/len(l))\n",
    "\n",
    "d = {'10-99':0,  '100-999':0,  '1000+':0}\n",
    "for k, v in c.items():\n",
    "    if v<10:\n",
    "        if v in d:\n",
    "            d[v] += 1\n",
    "        else:\n",
    "            d[v] = 1\n",
    "    elif v<100:\n",
    "        d['10-99'] += 1\n",
    "    elif v<1000:\n",
    "        d['100-999'] += 1\n",
    "    else:\n",
    "        d['1000+'] += 1\n",
    "print(d)     \n",
    "labels = list(d.keys())\n",
    "values = list(d.values())\n",
    "\n",
    "# plt.pie(values, labels=labels)\n",
    "fig1, ax1 = plt.subplots()\n",
    "ax1.pie(values, labels=labels, autopct='%1.1f%%', startangle=90)\n",
    "ax1.axis('equal')  # Equal aspect ratio ensures that pie is drawn as a circle.\n",
    "\n",
    "plt.show()"
   ]
  },
  {
   "cell_type": "markdown",
   "metadata": {
    "id": "mEsv-c0qqLQd"
   },
   "source": [
    "### Set translational direction"
   ]
  },
  {
   "cell_type": "code",
   "execution_count": 6,
   "metadata": {
    "id": "0r4EQ67kqKcU"
   },
   "outputs": [],
   "source": [
    "inp_lang = 'yue'\n",
    "tar_lang = 'eng'\n",
    "inp = df[inp_lang]\n",
    "tar = df[tar_lang]\n",
    "dataset = tf.data.Dataset.from_tensor_slices((inp.values, tar.values))"
   ]
  },
  {
   "cell_type": "markdown",
   "metadata": {
    "id": "hmVWHYyd18kb"
   },
   "source": [
    "## Split dataset into train, test and validation"
   ]
  },
  {
   "cell_type": "code",
   "execution_count": 7,
   "metadata": {
    "colab": {
     "base_uri": "https://localhost:8080/"
    },
    "id": "2UudB9uidSkP",
    "outputId": "b327f1e3-5143-4b79-f204-3d55bed31d2d"
   },
   "outputs": [
    {
     "name": "stdout",
     "output_type": "stream",
     "text": [
      "Train size: 7848\n",
      "Test size: 1963\n",
      "\n",
      "Total size: 9811\n"
     ]
    }
   ],
   "source": [
    "DATASET_SIZE = len(list(dataset))\n",
    "# train_size = int(0.8 * DATASET_SIZE)\n",
    "# test_size = int(0.2 * DATASET_SIZE)\n",
    "\n",
    "# dataset = dataset.shuffle(DATASET_SIZE)\n",
    "train_examples = dataset.take(DATASET_SIZE)\n",
    "# test_examples = dataset.skip(train_size)\n",
    "# test_examples = remaining.take(test_size)\n",
    "# val_examples = remaining.skip(test_size)\n",
    "\n",
    "print('Train size:', len(list(train_examples)))\n",
    "print('Test size:', len(df_test))\n",
    "# print('Validation size:', len(list(val_examples)))\n",
    "print()\n",
    "print('Total size:', DATASET_SIZE + len(df_test))"
   ]
  },
  {
   "cell_type": "code",
   "execution_count": 8,
   "metadata": {
    "colab": {
     "base_uri": "https://localhost:8080/"
    },
    "id": "b5PlJ-TwK6Oi",
    "outputId": "79fdafc4-e9d3-44f5-f231-e059bc58bf09"
   },
   "outputs": [
    {
     "name": "stdout",
     "output_type": "stream",
     "text": [
      "tf.Tensor(b'\\xe5\\x94\\x94 \\xe6\\xba\\x96 \\xe6\\x8e\\x82 \\xe5\\x90\\x8c \\xe9\\xa3\\x9f \\xe9\\x86\\x83 \\xe8\\x8f\\x9c \\xe5\\x94\\x94 \\xe6\\xba\\x96 \\xe5\\x9d\\x90 \\xe6\\xa2\\xb3 \\xe5\\x8c\\x96 \\xe6\\x88\\x96 \\xe8\\x80\\x85 \\xe5\\xb1\\x8b \\xe4\\xbc\\x81 \\xe4\\xba\\xba \\xe5\\x98\\x85 \\xe5\\xba\\x8a \\xe4\\xb8\\x8a \\xe6\\xaf\\x8f \\xe6\\xac\\xa1 \\xe7\\xb6\\x93 \\xe6\\x9c\\x9f \\xe5\\xae\\x8c \\xe5\\x92\\x97 \\xe8\\xa6\\x81 \\xe6\\xb4\\x97 \\xe5\\xba\\x8a \\xe5\\x96\\xae \\xe5\\xb0\\xb1 \\xe7\\xae\\x97 \\xe5\\xba\\x8a \\xe5\\x96\\xae \\xe7\\x84\\xa1 \\xe6\\xb1\\x9a \\xe7\\xb3\\x9f \\xe5\\x88\\xb0 \\xe4\\xbb\\x96 \\xe5\\x80\\x91 \\xe8\\xaa\\x8d \\xe7\\x82\\xba \\xe6\\x88\\x91 \\xe5\\x94\\x94 \\xe7\\xb4\\x94 \\xe6\\xbd\\x94 \\xe7\\xa6\\x81 \\xe6\\xad\\xa2 \\xe6\\x88\\x91 \\xe5\\x8f\\x83 \\xe6\\x8b\\x9c \\xe6\\x88\\x96 \\xe8\\x80\\x85 \\xe6\\x8e\\x82 \\xe4\\xb8\\x80 \\xe5\\x95\\xb2 \\xe8\\x81\\x96 \\xe7\\x89\\xa9 \\xe4\\xbd\\xa0 \\xe6\\x9c\\x83 \\xe7\\x99\\xbc \\xe7\\x8f\\xbe \\xe5\\xaf\\xba \\xe5\\xbb\\x9f \\xe5\\x87\\xba \\xe9\\x9d\\xa2 \\xe6\\x9c\\x89 \\xe7\\x89\\x8c \\xe8\\xb7\\xaf \\xe7\\x89\\x8c \\xe7\\xa6\\x81 \\xe6\\xad\\xa2 \\xe6\\xad\\xa3 \\xe5\\x9c\\xa8 \\xe5\\x9a\\x9f \\xe7\\xb7\\x8a \\xe7\\xb6\\x93 \\xe6\\x9c\\x9f \\xe5\\x98\\x85 \\xe5\\xa9\\xa6 \\xe5\\xa5\\xb3 \\xe9\\x80\\xb2 \\xe5\\x85\\xa5', shape=(), dtype=string)\n",
      "tf.Tensor(b'I was not allowed to touch or eat pickles I was not allowed to sit on the sofa or some other family member s bed I had to wash my bed sheet after every period even if it was not stained I was considered impure and forbidden from worshipping or touching any object of religious importance You ll find signposts outside temples denying the entry of menstruating girls and women', shape=(), dtype=string)\n",
      "----------\n",
      "tf.Tensor(b'\\xe4\\xbd\\xa2 \\xe5\\x9c\\xb0 \\xe6\\x89\\xae \\xe6\\x80\\xaa \\xe9\\x9d\\xa2 \\xe5\\x9a\\x87 \\xe4\\xba\\xba', shape=(), dtype=string)\n",
      "tf.Tensor(b'They were making scary faces', shape=(), dtype=string)\n",
      "----------\n",
      "tf.Tensor(b'\\xe5\\x94\\x94 \\xe6\\x9c\\x83 \\xe6\\x90\\x9e \\xe5\\x88\\xb0 \\xe6\\x88\\x91 \\xe5\\x93\\x8b \\xe8\\xae\\x8a \\xe5\\xbe\\x97 \\xe9\\x82\\xaa \\xe6\\x83\\xa1 \\xe5\\xa5\\xb3 \\xe4\\xba\\xba \\xe5\\x9e\\x8b \\xe8\\xae\\x8a \\xe6\\x88\\x90 \\xe8\\x87\\xaa \\xe7\\x94\\xb1 \\xe9\\xbb\\xa8 \\xe4\\xba\\xba \\xe5\\x92\\xa9', shape=(), dtype=string)\n",
      "tf.Tensor(b'turn us into godless sissy liberals', shape=(), dtype=string)\n",
      "----------\n"
     ]
    }
   ],
   "source": [
    "for inp, tar in train_examples.take(3):\n",
    "  print(inp)\n",
    "  print(tar)\n",
    "  print('-' * 10)"
   ]
  },
  {
   "cell_type": "code",
   "execution_count": 9,
   "metadata": {
    "colab": {
     "base_uri": "https://localhost:8080/"
    },
    "id": "waK4jpjpw2dZ",
    "outputId": "9146e9e0-0437-4f39-a30a-02c9df423afa"
   },
   "outputs": [
    {
     "name": "stdout",
     "output_type": "stream",
     "text": [
      "唔 準 掂 同 食 醃 菜 唔 準 坐 梳 化 或 者 屋 企 人 嘅 床 上 每 次 經 期 完 咗 要 洗 床 單 就 算 床 單 無 汚 糟 到 他 們 認 為 我 唔 純 潔 禁 止 我 參 拜 或 者 掂 一 啲 聖 物 你 會 發 現 寺 廟 出 面 有 牌 路 牌 禁 止 正 在 嚟 緊 經 期 嘅 婦 女 進 入\n",
      "I was not allowed to touch or eat pickles I was not allowed to sit on the sofa or some other family member s bed I had to wash my bed sheet after every period even if it was not stained I was considered impure and forbidden from worshipping or touching any object of religious importance You ll find signposts outside temples denying the entry of menstruating girls and women\n",
      "----------\n",
      "佢 地 扮 怪 面 嚇 人\n",
      "They were making scary faces\n",
      "----------\n",
      "唔 會 搞 到 我 哋 變 得 邪 惡 女 人 型 變 成 自 由 黨 人 咩\n",
      "turn us into godless sissy liberals\n",
      "----------\n",
      "呢 個 模 式 可 以 清 晰 令 您 瞭 解 佢 哋\n",
      "So it spells those out in very clean terms\n",
      "----------\n",
      "幾 多 萬 億 掌 聲\n",
      "How many trillions Applause\n",
      "----------\n"
     ]
    }
   ],
   "source": [
    "sample_examples = []\n",
    "num_samples = 5\n",
    "\n",
    "for inp_t, tar_t in train_examples.take(num_samples):\n",
    "  inp = inp_t.numpy().decode(\"utf-8\")\n",
    "  tar = tar_t.numpy().decode(\"utf-8\")\n",
    "  \n",
    "  print(inp)\n",
    "  print(tar)\n",
    "  print('-' * 10)\n",
    "  \n",
    "  sample_examples.append((inp, tar))"
   ]
  },
  {
   "cell_type": "code",
   "execution_count": 10,
   "metadata": {},
   "outputs": [],
   "source": [
    "if inp_lang == 'yue':\n",
    "    if YueChar:\n",
    "      input_tokenizer = tfds.deprecated.text.SubwordTextEncoder.build_from_corpus(\n",
    "          (inp.numpy() for inp, tar in train_examples), target_vocab_size=2**13, max_subword_length=1)\n",
    "    else:\n",
    "      input_tokenizer = tfds.deprecated.text.TokenTextEncoder(\n",
    "          ' '.join(inp.numpy().decode(\"utf-8\") for inp, tar in train_examples).split(' ')) \n",
    "    target_tokenizer = tfds.deprecated.text.SubwordTextEncoder.build_from_corpus(\n",
    "        (tar.numpy() for inp, tar in train_examples), target_vocab_size=2**13)\n",
    "else:\n",
    "    if YueChar:\n",
    "      target_tokenizer = tfds.deprecated.text.SubwordTextEncoder.build_from_corpus(\n",
    "          (tar.numpy() for inp, tar in train_examples), target_vocab_size=2**13, max_subword_length=1)\n",
    "    else:\n",
    "      target_tokenizer = tfds.deprecated.text.TokenTextEncoder(\n",
    "          ' '.join(tar.numpy().decode(\"utf-8\") for inp, tar in train_examples).split(' '))\n",
    "    input_tokenizer = tfds.deprecated.text.SubwordTextEncoder.build_from_corpus(\n",
    "      (inp.numpy() for inp, tar in train_examples), target_vocab_size=2**13)"
   ]
  },
  {
   "cell_type": "code",
   "execution_count": 11,
   "metadata": {},
   "outputs": [
    {
     "name": "stdout",
     "output_type": "stream",
     "text": [
      "yue: 3335 vocabs\n",
      "eng: 7791 vocabs\n"
     ]
    }
   ],
   "source": [
    "print(f'{inp_lang}: {input_tokenizer.vocab_size} vocabs')\n",
    "print(f'{tar_lang}: {target_tokenizer.vocab_size} vocabs')"
   ]
  },
  {
   "cell_type": "markdown",
   "metadata": {
    "id": "L-PPeXeT4WHN"
   },
   "source": [
    "Check the tokenizers with sample string"
   ]
  },
  {
   "cell_type": "code",
   "execution_count": 12,
   "metadata": {
    "colab": {
     "base_uri": "https://localhost:8080/"
    },
    "id": "4DYWukNFkGQN",
    "outputId": "902864c3-fa59-45c0-e8f9-17536d62fea3"
   },
   "outputs": [
    {
     "name": "stdout",
     "output_type": "stream",
     "text": [
      "Tokenized string is [14, 3111, 554, 3111, 980, 3111, 10, 3111, 116, 3111, 2303, 3111, 1225, 3111, 14, 3111, 554, 3111, 583, 3111, 2196, 3111, 153, 3111, 102, 3111, 67, 3111, 331, 3111, 252, 3111, 9, 3111, 1, 3111, 942, 3111, 37, 3111, 150, 3111, 184, 3111, 55, 3111, 298, 3111, 307, 3111, 25, 3111, 23, 3111, 934, 3111, 942, 3111, 190, 3111, 19, 3111, 437, 3111, 942, 3111, 190, 3111, 75, 3111, 2858, 3111, 1773, 3111, 16, 3111, 141, 3111, 357, 3111, 229, 3111, 24, 3111, 2, 3111, 14, 3111, 1097, 3111, 1794, 3111, 1069, 3111, 312, 3111, 2, 3111, 675, 3111, 824, 3111, 102, 3111, 67, 3111, 980, 3111, 5, 3111, 22, 3111, 677, 3111, 79, 3111, 12, 3111, 17, 3111, 51, 3111, 111, 3111, 2057, 3111, 2949, 3111, 63, 3111, 61, 3111, 7, 3111, 1024, 3111, 165, 3111, 1024, 3111, 1069, 3111, 312, 3111, 187, 3111, 162, 3111, 47, 3111, 179, 3111, 55, 3111, 298, 3111, 1, 3111, 982, 3111, 113, 3111, 319, 3111, 120]\n",
      "The original string: 唔 準 掂 同 食 醃 菜 唔 準 坐 梳 化 或 者 屋 企 人 嘅 床 上 每 次 經 期 完 咗 要 洗 床 單 就 算 床 單 無 汚 糟 到 他 們 認 為 我 唔 純 潔 禁 止 我 參 拜 或 者 掂 一 啲 聖 物 你 會 發 現 寺 廟 出 面 有 牌 路 牌 禁 止 正 在 嚟 緊 經 期 嘅 婦 女 進 入\n",
      "Tokenized string is [6, 15, 28, 1290, 2, 2160, 36, 436, 2551, 951, 6, 15, 28, 1290, 2, 1335, 21, 1, 5696, 5, 36, 89, 101, 282, 2248, 7, 1521, 6, 61, 2, 2140, 25, 1521, 5743, 208, 162, 943, 116, 63, 12, 15, 28, 4338, 2573, 6, 15, 2351, 2007, 1122, 3, 4854, 2057, 39, 5395, 1140, 36, 5536, 159, 1971, 4, 2945, 6413, 64, 127, 194, 1728, 1453, 7, 1350, 2878, 951, 1641, 1878, 1, 3906, 85, 4, 6204, 467, 3, 1046]\n",
      "The original string: I was not allowed to touch or eat pickles I was not allowed to sit on the sofa or some other family member s bed I had to wash my bed sheet after every period even if it was not stained I was considered impure and forbidden from worshipping or touching any object of religious importance You ll find signposts outside temples denying the entry of menstruating girls and women\n"
     ]
    }
   ],
   "source": [
    "# We can use string in dataset\n",
    "sample_inp = sample_examples[0][0]\n",
    "sample_tar = sample_examples[0][1]\n",
    "\n",
    "tokenized_inp = input_tokenizer.encode(sample_inp)\n",
    "print ('Tokenized string is {}'.format(tokenized_inp))\n",
    "\n",
    "original_inp = input_tokenizer.decode(tokenized_inp)\n",
    "print ('The original string: {}'.format(original_inp))\n",
    "\n",
    "tokenized_tar = target_tokenizer.encode(sample_tar)\n",
    "print ('Tokenized string is {}'.format(tokenized_tar))\n",
    "\n",
    "original_tar = target_tokenizer.decode(tokenized_tar)\n",
    "print ('The original string: {}'.format(original_tar))"
   ]
  },
  {
   "cell_type": "markdown",
   "metadata": {
    "id": "o9KJWJjrsZ4Y"
   },
   "source": [
    "The tokenizer encodes the string by breaking it into subwords if the word is not in its dictionary."
   ]
  },
  {
   "cell_type": "code",
   "execution_count": 13,
   "metadata": {
    "colab": {
     "base_uri": "https://localhost:8080/"
    },
    "id": "bf2ntBxjkqK6",
    "outputId": "0234d439-6ab8-45ac-9591-71051d640c9f"
   },
   "outputs": [
    {
     "name": "stdout",
     "output_type": "stream",
     "text": [
      "14 ----> 唔\n",
      "3111 ---->  \n",
      "554 ----> 準\n",
      "3111 ---->  \n",
      "980 ----> 掂\n",
      "3111 ---->  \n",
      "10 ----> 同\n",
      "3111 ---->  \n",
      "116 ----> 食\n",
      "3111 ---->  \n",
      "2303 ----> 醃\n",
      "3111 ---->  \n",
      "1225 ----> 菜\n",
      "3111 ---->  \n",
      "14 ----> 唔\n",
      "3111 ---->  \n",
      "554 ----> 準\n",
      "3111 ---->  \n",
      "583 ----> 坐\n",
      "3111 ---->  \n",
      "2196 ----> 梳\n",
      "3111 ---->  \n",
      "153 ----> 化\n",
      "3111 ---->  \n",
      "102 ----> 或\n",
      "3111 ---->  \n",
      "67 ----> 者\n",
      "3111 ---->  \n",
      "331 ----> 屋\n",
      "3111 ---->  \n",
      "252 ----> 企\n",
      "3111 ---->  \n",
      "9 ----> 人\n",
      "3111 ---->  \n",
      "1 ----> 嘅\n",
      "3111 ---->  \n",
      "942 ----> 床\n",
      "3111 ---->  \n",
      "37 ----> 上\n",
      "3111 ---->  \n",
      "150 ----> 每\n",
      "3111 ---->  \n",
      "184 ----> 次\n",
      "3111 ---->  \n",
      "55 ----> 經\n",
      "3111 ---->  \n",
      "298 ----> 期\n",
      "3111 ---->  \n",
      "307 ----> 完\n",
      "3111 ---->  \n",
      "25 ----> 咗\n",
      "3111 ---->  \n",
      "23 ----> 要\n",
      "3111 ---->  \n",
      "934 ----> 洗\n",
      "3111 ---->  \n",
      "942 ----> 床\n",
      "3111 ---->  \n",
      "190 ----> 單\n",
      "3111 ---->  \n",
      "19 ----> 就\n",
      "3111 ---->  \n",
      "437 ----> 算\n",
      "3111 ---->  \n",
      "942 ----> 床\n",
      "3111 ---->  \n",
      "190 ----> 單\n",
      "3111 ---->  \n",
      "75 ----> 無\n",
      "3111 ---->  \n",
      "2858 ----> 汚\n",
      "3111 ---->  \n",
      "1773 ----> 糟\n",
      "3111 ---->  \n",
      "16 ----> 到\n",
      "3111 ---->  \n",
      "141 ----> 他\n",
      "3111 ---->  \n",
      "357 ----> 們\n",
      "3111 ---->  \n",
      "229 ----> 認\n",
      "3111 ---->  \n",
      "24 ----> 為\n",
      "3111 ---->  \n",
      "2 ----> 我\n",
      "3111 ---->  \n",
      "14 ----> 唔\n",
      "3111 ---->  \n",
      "1097 ----> 純\n",
      "3111 ---->  \n",
      "1794 ----> 潔\n",
      "3111 ---->  \n",
      "1069 ----> 禁\n",
      "3111 ---->  \n",
      "312 ----> 止\n",
      "3111 ---->  \n",
      "2 ----> 我\n",
      "3111 ---->  \n",
      "675 ----> 參\n",
      "3111 ---->  \n",
      "824 ----> 拜\n",
      "3111 ---->  \n",
      "102 ----> 或\n",
      "3111 ---->  \n",
      "67 ----> 者\n",
      "3111 ---->  \n",
      "980 ----> 掂\n",
      "3111 ---->  \n",
      "5 ----> 一\n",
      "3111 ---->  \n",
      "22 ----> 啲\n",
      "3111 ---->  \n",
      "677 ----> 聖\n",
      "3111 ---->  \n",
      "79 ----> 物\n",
      "3111 ---->  \n",
      "12 ----> 你\n",
      "3111 ---->  \n",
      "17 ----> 會\n",
      "3111 ---->  \n",
      "51 ----> 發\n",
      "3111 ---->  \n",
      "111 ----> 現\n",
      "3111 ---->  \n",
      "2057 ----> 寺\n",
      "3111 ---->  \n",
      "2949 ----> 廟\n",
      "3111 ---->  \n",
      "63 ----> 出\n",
      "3111 ---->  \n",
      "61 ----> 面\n",
      "3111 ---->  \n",
      "7 ----> 有\n",
      "3111 ---->  \n",
      "1024 ----> 牌\n",
      "3111 ---->  \n",
      "165 ----> 路\n",
      "3111 ---->  \n",
      "1024 ----> 牌\n",
      "3111 ---->  \n",
      "1069 ----> 禁\n",
      "3111 ---->  \n",
      "312 ----> 止\n",
      "3111 ---->  \n",
      "187 ----> 正\n",
      "3111 ---->  \n",
      "162 ----> 在\n",
      "3111 ---->  \n",
      "47 ----> 嚟\n",
      "3111 ---->  \n",
      "179 ----> 緊\n",
      "3111 ---->  \n",
      "55 ----> 經\n",
      "3111 ---->  \n",
      "298 ----> 期\n",
      "3111 ---->  \n",
      "1 ----> 嘅\n",
      "3111 ---->  \n",
      "982 ----> 婦\n",
      "3111 ---->  \n",
      "113 ----> 女\n",
      "3111 ---->  \n",
      "319 ----> 進\n",
      "3111 ---->  \n",
      "120 ----> 入\n",
      "\n",
      "6 ----> I \n",
      "15 ----> was \n",
      "28 ----> not \n",
      "1290 ----> allowed \n",
      "2 ----> to \n",
      "2160 ----> touch \n",
      "36 ----> or \n",
      "436 ----> eat \n",
      "2551 ----> pick\n",
      "951 ----> les \n",
      "6 ----> I \n",
      "15 ----> was \n",
      "28 ----> not \n",
      "1290 ----> allowed \n",
      "2 ----> to \n",
      "1335 ----> sit \n",
      "21 ----> on \n",
      "1 ----> the \n",
      "5696 ----> sof\n",
      "5 ----> a \n",
      "36 ----> or \n",
      "89 ----> some \n",
      "101 ----> other \n",
      "282 ----> family \n",
      "2248 ----> member \n",
      "7 ----> s \n",
      "1521 ----> bed \n",
      "6 ----> I \n",
      "61 ----> had \n",
      "2 ----> to \n",
      "2140 ----> wash \n",
      "25 ----> my \n",
      "1521 ----> bed \n",
      "5743 ----> sheet \n",
      "208 ----> after \n",
      "162 ----> every \n",
      "943 ----> period \n",
      "116 ----> even \n",
      "63 ----> if \n",
      "12 ----> it \n",
      "15 ----> was \n",
      "28 ----> not \n",
      "4338 ----> stai\n",
      "2573 ----> ned \n",
      "6 ----> I \n",
      "15 ----> was \n",
      "2351 ----> considered \n",
      "2007 ----> imp\n",
      "1122 ----> ure \n",
      "3 ----> and \n",
      "4854 ----> forbid\n",
      "2057 ----> den \n",
      "39 ----> from \n",
      "5395 ----> worship\n",
      "1140 ----> ping \n",
      "36 ----> or \n",
      "5536 ----> touching \n",
      "159 ----> any \n",
      "1971 ----> object \n",
      "4 ----> of \n",
      "2945 ----> religious \n",
      "6413 ----> importance \n",
      "64 ----> You \n",
      "127 ----> ll \n",
      "194 ----> find \n",
      "1728 ----> sign\n",
      "1453 ----> post\n",
      "7 ----> s \n",
      "1350 ----> outside \n",
      "2878 ----> temp\n",
      "951 ----> les \n",
      "1641 ----> den\n",
      "1878 ----> ying \n",
      "1 ----> the \n",
      "3906 ----> entr\n",
      "85 ----> y \n",
      "4 ----> of \n",
      "6204 ----> menstruating \n",
      "467 ----> girls \n",
      "3 ----> and \n",
      "1046 ----> women\n"
     ]
    }
   ],
   "source": [
    "for ts in tokenized_inp:\n",
    "  print ('{} ----> {}'.format(ts, input_tokenizer.decode([ts])))\n",
    "print()\n",
    "for ts in tokenized_tar:\n",
    "  print ('{} ----> {}'.format(ts, target_tokenizer.decode([ts])))"
   ]
  },
  {
   "cell_type": "code",
   "execution_count": 14,
   "metadata": {
    "id": "bcRp7VcQ5m6g"
   },
   "outputs": [],
   "source": [
    "BUFFER_SIZE = 400\n",
    "BATCH_SIZE = 64"
   ]
  },
  {
   "cell_type": "markdown",
   "metadata": {
    "id": "kGi4PoVakxdc"
   },
   "source": [
    "Add a start and end token to the input and target. "
   ]
  },
  {
   "cell_type": "code",
   "execution_count": 15,
   "metadata": {
    "id": "UZwnPr4R055s"
   },
   "outputs": [],
   "source": [
    "def encode(lang1, lang2):\n",
    "  lang1 = [input_tokenizer.vocab_size] + input_tokenizer.encode(\n",
    "      lang1.numpy()) + [input_tokenizer.vocab_size+1]\n",
    "\n",
    "  lang2 = [target_tokenizer.vocab_size] + target_tokenizer.encode(\n",
    "      lang2.numpy()) + [target_tokenizer.vocab_size+1]\n",
    "  \n",
    "  return lang1, lang2"
   ]
  },
  {
   "cell_type": "markdown",
   "metadata": {
    "id": "Tx1sFbR-9fRs"
   },
   "source": [
    "You want to use `Dataset.map` to apply this function to each element of the dataset.  `Dataset.map` runs in graph mode.\n",
    "\n",
    "* Graph tensors do not have a value. \n",
    "* In graph mode you can only use TensorFlow Ops and functions. \n",
    "\n",
    "So you can't `.map` this function directly: You need to wrap it in a `tf.py_function`. The `tf.py_function` will pass regular tensors (with a value and a `.numpy()` method to access it), to the wrapped python function."
   ]
  },
  {
   "cell_type": "code",
   "execution_count": 16,
   "metadata": {
    "id": "Mah1cS-P70Iz"
   },
   "outputs": [],
   "source": [
    "def tf_encode(inp, tar):\n",
    "  result_inp, result_tar = tf.py_function(encode, [inp, tar], [tf.int64, tf.int64])\n",
    "  result_inp.set_shape([None])\n",
    "  result_tar.set_shape([None])\n",
    "\n",
    "  return result_inp, result_tar"
   ]
  },
  {
   "cell_type": "markdown",
   "metadata": {
    "id": "6JrGp5Gek6Ql"
   },
   "source": [
    "Note: To keep this example small and relatively fast, drop examples with a length of over `40` tokens."
   ]
  },
  {
   "cell_type": "code",
   "execution_count": 17,
   "metadata": {
    "id": "c081xPGv1CPI"
   },
   "outputs": [],
   "source": [
    "MAX_LENGTH = 40\n",
    "\n",
    "def filter_max_length(x, y, max_length=MAX_LENGTH):\n",
    "  return tf.logical_and(tf.size(x) <= max_length,\n",
    "                        tf.size(y) <= max_length)"
   ]
  },
  {
   "cell_type": "code",
   "execution_count": 18,
   "metadata": {
    "colab": {
     "base_uri": "https://localhost:8080/"
    },
    "id": "9mk9AZdZ5bcS",
    "outputId": "28e59114-d36d-48c8-bf9d-cef2b24049c3"
   },
   "outputs": [
    {
     "name": "stdout",
     "output_type": "stream",
     "text": [
      "Training size: 6634\n",
      "Testing size: 1696\n"
     ]
    }
   ],
   "source": [
    "train_dataset = train_examples.map(tf_encode)\n",
    "train_dataset = train_dataset.filter(filter_max_length)\n",
    "num_examples = 0\n",
    "for inp_indices, tar_indices in train_dataset:\n",
    "  num_examples += 1\n",
    "print(f\"Training size: {num_examples}\")\n",
    "\n",
    "# cache the dataset to memory to get a speedup while reading from it.\n",
    "train_dataset = train_dataset.cache()\n",
    "train_dataset = train_dataset.shuffle(BUFFER_SIZE).padded_batch(BATCH_SIZE)\n",
    "train_dataset = train_dataset.prefetch(tf.data.experimental.AUTOTUNE)\n",
    "\n",
    "df_test = df_test[\n",
    "    df_test['yue'].apply(lambda x: len(x.split())<MAX_LENGTH) &\n",
    "    df_test['eng'].apply(lambda x: len(x.split())<MAX_LENGTH) \n",
    "]\n",
    "\n",
    "print(f\"Testing size: {len(df_test)}\")"
   ]
  },
  {
   "cell_type": "code",
   "execution_count": 19,
   "metadata": {
    "colab": {
     "base_uri": "https://localhost:8080/"
    },
    "id": "8RgYUtEECc-Q",
    "outputId": "949dd9c4-d890-4991-f1c7-bebcb9e9c6c1"
   },
   "outputs": [
    {
     "name": "stdout",
     "output_type": "stream",
     "text": [
      "tf.Tensor(\n",
      "[[3335    2 3111 ... 3111  275 3336]\n",
      " [3335    2 3111 ...    0    0    0]\n",
      " [3335   27 3111 ...    0    0    0]\n",
      " ...\n",
      " [3335  205 3111 ...    0    0    0]\n",
      " [3335   11 3111 ...    0    0    0]\n",
      " [3335  122 3111 ...    0    0    0]], shape=(64, 37), dtype=int64)\n",
      "tf.Tensor(\n",
      "[[7791   47 2000 ...    0    0    0]\n",
      " [7791    6  102 ...    0    0    0]\n",
      " [7791  165  135 ...    0    0    0]\n",
      " ...\n",
      " [7791    1  125 ...    0    0    0]\n",
      " [7791   34    7 ...    0    0    0]\n",
      " [7791   97 7792 ...    0    0    0]], shape=(64, 17), dtype=int64)\n",
      "\n",
      "All string are less than 40 tokens\n",
      "Total batches: 104\n"
     ]
    }
   ],
   "source": [
    "# Check with train set\n",
    "inp_indices, tar_indices  = next(iter(train_dataset))\n",
    "print(inp_indices)\n",
    "print(tar_indices)\n",
    "\n",
    "num_examples = 0\n",
    "for inp_indices, tar_indices in train_dataset:\n",
    "  # cond1 = len(inp_indices) <= MAX_LENGTH\n",
    "  # cond2 = len(tar_indices) <= MAX_LENGTH\n",
    "  # assert cond1 and cond2\n",
    "  num_examples += 1\n",
    "\n",
    "print(f\"\\nAll string are less than {MAX_LENGTH} tokens\")\n",
    "print(f\"Total batches: {num_examples}\")"
   ]
  },
  {
   "cell_type": "markdown",
   "metadata": {
    "id": "nBQuibYA4n0n"
   },
   "source": [
    "## Positional encoding"
   ]
  },
  {
   "cell_type": "code",
   "execution_count": 20,
   "metadata": {
    "id": "WhIOZjMNKujn"
   },
   "outputs": [],
   "source": [
    "def get_angles(pos, i, d_model):\n",
    "  angle_rates = 1 / np.power(10000, (2 * (i//2)) / np.float32(d_model))\n",
    "  return pos * angle_rates"
   ]
  },
  {
   "cell_type": "code",
   "execution_count": 21,
   "metadata": {
    "id": "1Rz82wEs5biZ"
   },
   "outputs": [],
   "source": [
    "def positional_encoding(position, d_model):\n",
    "  angle_rads = get_angles(np.arange(position)[:, np.newaxis],\n",
    "                          np.arange(d_model)[np.newaxis, :],\n",
    "                          d_model)\n",
    "  \n",
    "  # apply sin to even indices in the array; 2i\n",
    "  angle_rads[:, 0::2] = np.sin(angle_rads[:, 0::2])\n",
    "  \n",
    "  # apply cos to odd indices in the array; 2i+1\n",
    "  angle_rads[:, 1::2] = np.cos(angle_rads[:, 1::2])\n",
    "    \n",
    "  pos_encoding = angle_rads[np.newaxis, ...]\n",
    "    \n",
    "  return tf.cast(pos_encoding, dtype=tf.float32)"
   ]
  },
  {
   "cell_type": "code",
   "execution_count": 22,
   "metadata": {
    "colab": {
     "base_uri": "https://localhost:8080/",
     "height": 300
    },
    "id": "1kLCla68EloE",
    "outputId": "4595b67d-9fc7-45a2-8678-fbe51c8d8e28"
   },
   "outputs": [
    {
     "name": "stdout",
     "output_type": "stream",
     "text": [
      "(1, 50, 512)\n"
     ]
    },
    {
     "data": {
      "image/png": "[encoded data removed]",
      "text/plain": [
       "<Figure size 432x288 with 2 Axes>"
      ]
     },
     "metadata": {
      "needs_background": "light"
     },
     "output_type": "display_data"
    }
   ],
   "source": [
    "pos_encoding = positional_encoding(50, 512)\n",
    "print (pos_encoding.shape)\n",
    "\n",
    "plt.pcolormesh(pos_encoding[0], cmap='RdBu')\n",
    "plt.xlabel('Depth')\n",
    "plt.xlim((0, 512))\n",
    "plt.ylabel('Position')\n",
    "plt.colorbar()\n",
    "plt.show()"
   ]
  },
  {
   "cell_type": "markdown",
   "metadata": {
    "id": "a_b4ou4TYqUN"
   },
   "source": [
    "## Masking"
   ]
  },
  {
   "cell_type": "code",
   "execution_count": 23,
   "metadata": {
    "id": "U2i8-e1s8ti9"
   },
   "outputs": [],
   "source": [
    "def create_padding_mask(seq):\n",
    "  seq = tf.cast(tf.math.equal(seq, 0), tf.float32)\n",
    "  \n",
    "  # add extra dimensions to add the padding\n",
    "  # to the attention logits.\n",
    "  return seq[:, tf.newaxis, tf.newaxis, :]  # (batch_size, 1, 1, seq_len)"
   ]
  },
  {
   "cell_type": "code",
   "execution_count": 24,
   "metadata": {
    "colab": {
     "base_uri": "https://localhost:8080/"
    },
    "id": "A7BYeBCNvi7n",
    "outputId": "2f526483-7e23-49b8-b05e-d76a9c3d654a"
   },
   "outputs": [
    {
     "data": {
      "text/plain": [
       "<tf.Tensor: shape=(3, 1, 1, 5), dtype=float32, numpy=\n",
       "array([[[[0., 0., 1., 1., 0.]]],\n",
       "\n",
       "\n",
       "       [[[0., 0., 0., 1., 1.]]],\n",
       "\n",
       "\n",
       "       [[[1., 1., 1., 0., 0.]]]], dtype=float32)>"
      ]
     },
     "execution_count": 24,
     "metadata": {},
     "output_type": "execute_result"
    }
   ],
   "source": [
    "x = tf.constant([[7, 6, 0, 0, 1], [1, 2, 3, 0, 0], [0, 0, 0, 4, 5]])\n",
    "create_padding_mask(x)"
   ]
  },
  {
   "cell_type": "code",
   "execution_count": 25,
   "metadata": {
    "id": "dVxS8OPI9uI0"
   },
   "outputs": [],
   "source": [
    "def create_look_ahead_mask(size):\n",
    "  mask = 1 - tf.linalg.band_part(tf.ones((size, size)), -1, 0)\n",
    "  return mask  # (seq_len, seq_len)"
   ]
  },
  {
   "cell_type": "code",
   "execution_count": 26,
   "metadata": {
    "colab": {
     "base_uri": "https://localhost:8080/"
    },
    "id": "yxKGuXxaBeeE",
    "outputId": "afa5b144-c85f-4626-e942-12d24586fc9a"
   },
   "outputs": [
    {
     "data": {
      "text/plain": [
       "<tf.Tensor: shape=(3, 3), dtype=float32, numpy=\n",
       "array([[0., 1., 1.],\n",
       "       [0., 0., 1.],\n",
       "       [0., 0., 0.]], dtype=float32)>"
      ]
     },
     "execution_count": 26,
     "metadata": {},
     "output_type": "execute_result"
    }
   ],
   "source": [
    "x = tf.random.uniform((1, 3))\n",
    "temp = create_look_ahead_mask(x.shape[1])\n",
    "temp"
   ]
  },
  {
   "cell_type": "markdown",
   "metadata": {
    "id": "xluDl5cXYy4y"
   },
   "source": [
    "## Scaled dot product attention"
   ]
  },
  {
   "cell_type": "markdown",
   "metadata": {
    "id": "vsxEE_-Wa1gF"
   },
   "source": [
    "<img src=\"https://www.tensorflow.org/images/tutorials/transformer/scaled_attention.png\" width=\"500\" alt=\"scaled_dot_product_attention\">\n",
    "\n",
    "The attention function used by the transformer takes three inputs: Q (query), K (key), V (value). The equation used to calculate the attention weights is:\n",
    "\n",
    "$$\\Large{Attention(Q, K, V) = softmax_k(\\frac{QK^T}{\\sqrt{d_k}}) V} $$\n",
    "\n",
    "The dot-product attention is scaled by a factor of square root of the depth. This is done because for large values of depth, the dot product grows large in magnitude pushing the softmax function where it has small gradients resulting in a very hard softmax. \n",
    "\n",
    "For example, consider that `Q` and `K` have a mean of 0 and variance of 1. Their matrix multiplication will have a mean of 0 and variance of `dk`. Hence, *square root of `dk`* is used for scaling (and not any other number) because the matmul of `Q` and `K` should have a mean of 0 and variance of 1, and you get a gentler softmax.\n",
    "\n",
    "The mask is multiplied with -1e9 (close to negative infinity). This is done because the mask is summed with the scaled matrix multiplication of Q and K and is applied immediately before a softmax. The goal is to zero out these cells, and large negative inputs to softmax are near zero in the output."
   ]
  },
  {
   "cell_type": "code",
   "execution_count": 27,
   "metadata": {
    "id": "LazzUq3bJ5SH"
   },
   "outputs": [],
   "source": [
    "def scaled_dot_product_attention(q, k, v, mask):\n",
    "  \"\"\"Calculate the attention weights.\n",
    "  q, k, v must have matching leading dimensions.\n",
    "  k, v must have matching penultimate dimension, i.e.: seq_len_k = seq_len_v.\n",
    "  The mask has different shapes depending on its type(padding or look ahead) \n",
    "  but it must be broadcastable for addition.\n",
    "  \n",
    "  Args:\n",
    "    q: query shape == (..., seq_len_q, depth)\n",
    "    k: key shape == (..., seq_len_k, depth)\n",
    "    v: value shape == (..., seq_len_v, depth_v)\n",
    "    mask: Float tensor with shape broadcastable \n",
    "          to (..., seq_len_q, seq_len_k). Defaults to None.\n",
    "    \n",
    "  Returns:\n",
    "    output, attention_weights\n",
    "  \"\"\"\n",
    "\n",
    "  matmul_qk = tf.matmul(q, k, transpose_b=True)  # (..., seq_len_q, seq_len_k)\n",
    "  \n",
    "  # scale matmul_qk\n",
    "  dk = tf.cast(tf.shape(k)[-1], tf.float32)\n",
    "  scaled_attention_logits = matmul_qk / tf.math.sqrt(dk)\n",
    "\n",
    "  # add the mask to the scaled tensor.\n",
    "  if mask is not None:\n",
    "    scaled_attention_logits += (mask * -1e9)  \n",
    "\n",
    "  # softmax is normalized on the last axis (seq_len_k) so that the scores\n",
    "  # add up to 1.\n",
    "  attention_weights = tf.nn.softmax(scaled_attention_logits, axis=-1)  # (..., seq_len_q, seq_len_k)\n",
    "\n",
    "  output = tf.matmul(attention_weights, v)  # (..., seq_len_q, depth_v)\n",
    "\n",
    "  return output, attention_weights"
   ]
  },
  {
   "cell_type": "markdown",
   "metadata": {
    "id": "FiqETnhCkoXh"
   },
   "source": [
    "As the softmax normalization is done on K, its values decide the amount of importance given to Q.\n",
    "\n",
    "The output represents the multiplication of the attention weights and the V (value) vector. This ensures that the words you want to focus on are kept as-is and the irrelevant words are flushed out."
   ]
  },
  {
   "cell_type": "code",
   "execution_count": 28,
   "metadata": {
    "id": "n90YjClyInFy"
   },
   "outputs": [],
   "source": [
    "def print_out(q, k, v):\n",
    "  temp_out, temp_attn = scaled_dot_product_attention(\n",
    "      q, k, v, None)\n",
    "  print ('Attention weights are:')\n",
    "  print (temp_attn)\n",
    "  print ('Output is:')\n",
    "  print (temp_out)"
   ]
  },
  {
   "cell_type": "code",
   "execution_count": 29,
   "metadata": {
    "colab": {
     "base_uri": "https://localhost:8080/"
    },
    "id": "yAzUAf2DPlNt",
    "outputId": "4f614ff2-a52f-4c81-f5d2-f35876de949d"
   },
   "outputs": [
    {
     "name": "stdout",
     "output_type": "stream",
     "text": [
      "Attention weights are:\n",
      "tf.Tensor([[0. 1. 0. 0.]], shape=(1, 4), dtype=float32)\n",
      "Output is:\n",
      "tf.Tensor([[10.  0.]], shape=(1, 2), dtype=float32)\n"
     ]
    }
   ],
   "source": [
    "np.set_printoptions(suppress=True)\n",
    "\n",
    "temp_k = tf.constant([[10,0,0],\n",
    "                      [0,10,0],\n",
    "                      [0,0,10],\n",
    "                      [0,0,10]], dtype=tf.float32)  # (4, 3)\n",
    "\n",
    "temp_v = tf.constant([[   1,0],\n",
    "                      [  10,0],\n",
    "                      [ 100,5],\n",
    "                      [1000,6]], dtype=tf.float32)  # (4, 2)\n",
    "\n",
    "# This `query` aligns with the second `key`,\n",
    "# so the second `value` is returned.\n",
    "temp_q = tf.constant([[0, 10, 0]], dtype=tf.float32)  # (1, 3)\n",
    "print_out(temp_q, temp_k, temp_v)"
   ]
  },
  {
   "cell_type": "code",
   "execution_count": 30,
   "metadata": {
    "colab": {
     "base_uri": "https://localhost:8080/"
    },
    "id": "zg6k-fGhgXra",
    "outputId": "82585d6b-4d8c-411b-c868-7b6343409b0c"
   },
   "outputs": [
    {
     "name": "stdout",
     "output_type": "stream",
     "text": [
      "Attention weights are:\n",
      "tf.Tensor([[0.  0.  0.5 0.5]], shape=(1, 4), dtype=float32)\n",
      "Output is:\n",
      "tf.Tensor([[550.    5.5]], shape=(1, 2), dtype=float32)\n"
     ]
    }
   ],
   "source": [
    "# This query aligns with a repeated key (third and fourth), \n",
    "# so all associated values get averaged.\n",
    "temp_q = tf.constant([[0, 0, 10]], dtype=tf.float32)  # (1, 3)\n",
    "print_out(temp_q, temp_k, temp_v)"
   ]
  },
  {
   "cell_type": "code",
   "execution_count": 31,
   "metadata": {
    "colab": {
     "base_uri": "https://localhost:8080/"
    },
    "id": "UAq3YOzUgXhb",
    "outputId": "c38b7220-1ced-4987-e510-f34c4f12fe69"
   },
   "outputs": [
    {
     "name": "stdout",
     "output_type": "stream",
     "text": [
      "Attention weights are:\n",
      "tf.Tensor([[0.5 0.5 0.  0. ]], shape=(1, 4), dtype=float32)\n",
      "Output is:\n",
      "tf.Tensor([[5.5 0. ]], shape=(1, 2), dtype=float32)\n"
     ]
    }
   ],
   "source": [
    "# This query aligns equally with the first and second key, \n",
    "# so their values get averaged.\n",
    "temp_q = tf.constant([[10, 10, 0]], dtype=tf.float32)  # (1, 3)\n",
    "print_out(temp_q, temp_k, temp_v)"
   ]
  },
  {
   "cell_type": "markdown",
   "metadata": {
    "id": "aOz-4_XIhaTP"
   },
   "source": [
    "Pass all the queries together."
   ]
  },
  {
   "cell_type": "code",
   "execution_count": 32,
   "metadata": {
    "colab": {
     "base_uri": "https://localhost:8080/"
    },
    "id": "6dlU8Tm-hYrF",
    "outputId": "4f80eeaf-12c1-4819-ad59-d39bcab1bb2c"
   },
   "outputs": [
    {
     "name": "stdout",
     "output_type": "stream",
     "text": [
      "Attention weights are:\n",
      "tf.Tensor(\n",
      "[[0.  0.  0.5 0.5]\n",
      " [0.  1.  0.  0. ]\n",
      " [0.5 0.5 0.  0. ]], shape=(3, 4), dtype=float32)\n",
      "Output is:\n",
      "tf.Tensor(\n",
      "[[550.    5.5]\n",
      " [ 10.    0. ]\n",
      " [  5.5   0. ]], shape=(3, 2), dtype=float32)\n"
     ]
    }
   ],
   "source": [
    "temp_q = tf.constant([[0, 0, 10], [0, 10, 0], [10, 10, 0]], dtype=tf.float32)  # (3, 3)\n",
    "print_out(temp_q, temp_k, temp_v)"
   ]
  },
  {
   "cell_type": "markdown",
   "metadata": {
    "id": "kmzGPEy64qmA"
   },
   "source": [
    "## Multi-head attention"
   ]
  },
  {
   "cell_type": "code",
   "execution_count": 33,
   "metadata": {
    "id": "BSV3PPKsYecw"
   },
   "outputs": [],
   "source": [
    "class MultiHeadAttention(tf.keras.layers.Layer):\n",
    "  def __init__(self, d_model, num_heads):\n",
    "    super(MultiHeadAttention, self).__init__()\n",
    "    self.num_heads = num_heads\n",
    "    self.d_model = d_model\n",
    "    \n",
    "    assert d_model % self.num_heads == 0\n",
    "    \n",
    "    self.depth = d_model // self.num_heads\n",
    "    \n",
    "    self.wq = tf.keras.layers.Dense(d_model)\n",
    "    self.wk = tf.keras.layers.Dense(d_model)\n",
    "    self.wv = tf.keras.layers.Dense(d_model)\n",
    "    \n",
    "    self.dense = tf.keras.layers.Dense(d_model)\n",
    "        \n",
    "  def split_heads(self, x, batch_size):\n",
    "    \"\"\"Split the last dimension into (num_heads, depth).\n",
    "    Transpose the result such that the shape is (batch_size, num_heads, seq_len, depth)\n",
    "    \"\"\"\n",
    "    x = tf.reshape(x, (batch_size, -1, self.num_heads, self.depth))\n",
    "    return tf.transpose(x, perm=[0, 2, 1, 3])\n",
    "    \n",
    "  def call(self, v, k, q, mask):\n",
    "    batch_size = tf.shape(q)[0]\n",
    "    \n",
    "    q = self.wq(q)  # (batch_size, seq_len, d_model)\n",
    "    k = self.wk(k)  # (batch_size, seq_len, d_model)\n",
    "    v = self.wv(v)  # (batch_size, seq_len, d_model)\n",
    "    \n",
    "    q = self.split_heads(q, batch_size)  # (batch_size, num_heads, seq_len_q, depth)\n",
    "    k = self.split_heads(k, batch_size)  # (batch_size, num_heads, seq_len_k, depth)\n",
    "    v = self.split_heads(v, batch_size)  # (batch_size, num_heads, seq_len_v, depth)\n",
    "    \n",
    "    # scaled_attention.shape == (batch_size, num_heads, seq_len_q, depth)\n",
    "    # attention_weights.shape == (batch_size, num_heads, seq_len_q, seq_len_k)\n",
    "    scaled_attention, attention_weights = scaled_dot_product_attention(\n",
    "        q, k, v, mask)\n",
    "    \n",
    "    scaled_attention = tf.transpose(scaled_attention, perm=[0, 2, 1, 3])  # (batch_size, seq_len_q, num_heads, depth)\n",
    "\n",
    "    concat_attention = tf.reshape(scaled_attention, \n",
    "                                  (batch_size, -1, self.d_model))  # (batch_size, seq_len_q, d_model)\n",
    "\n",
    "    output = self.dense(concat_attention)  # (batch_size, seq_len_q, d_model)\n",
    "        \n",
    "    return output, attention_weights"
   ]
  },
  {
   "cell_type": "code",
   "execution_count": 34,
   "metadata": {
    "colab": {
     "base_uri": "https://localhost:8080/"
    },
    "id": "Hu94p-_-2_BX",
    "outputId": "8f890a1d-970e-40d3-ee5d-15d4fa4ac349"
   },
   "outputs": [
    {
     "data": {
      "text/plain": [
       "(TensorShape([1, 60, 512]), TensorShape([1, 8, 60, 60]))"
      ]
     },
     "execution_count": 34,
     "metadata": {},
     "output_type": "execute_result"
    }
   ],
   "source": [
    "temp_mha = MultiHeadAttention(d_model=512, num_heads=8)\n",
    "y = tf.random.uniform((1, 60, 512))  # (batch_size, encoder_sequence, d_model)\n",
    "out, attn = temp_mha(y, k=y, q=y, mask=None)\n",
    "out.shape, attn.shape"
   ]
  },
  {
   "cell_type": "markdown",
   "metadata": {
    "id": "RdDqGayx67vv"
   },
   "source": [
    "## Point wise feed forward network"
   ]
  },
  {
   "cell_type": "code",
   "execution_count": 35,
   "metadata": {
    "id": "ET7xLt0yCT6Z"
   },
   "outputs": [],
   "source": [
    "def point_wise_feed_forward_network(d_model, dff):\n",
    "  return tf.keras.Sequential([\n",
    "      tf.keras.layers.Dense(dff, activation='relu'),  # (batch_size, seq_len, dff)\n",
    "      tf.keras.layers.Dense(d_model)  # (batch_size, seq_len, d_model)\n",
    "  ])"
   ]
  },
  {
   "cell_type": "code",
   "execution_count": 36,
   "metadata": {
    "colab": {
     "base_uri": "https://localhost:8080/"
    },
    "id": "mytb1lPyOHLB",
    "outputId": "b9ba0e9b-1dd9-47b2-be13-3ec500cc6d57"
   },
   "outputs": [
    {
     "data": {
      "text/plain": [
       "TensorShape([64, 50, 512])"
      ]
     },
     "execution_count": 36,
     "metadata": {},
     "output_type": "execute_result"
    }
   ],
   "source": [
    "sample_ffn = point_wise_feed_forward_network(512, 2048)\n",
    "sample_ffn(tf.random.uniform((64, 50, 512))).shape"
   ]
  },
  {
   "cell_type": "markdown",
   "metadata": {
    "id": "7e7hKcxn6-zd"
   },
   "source": [
    "## Encoder and decoder"
   ]
  },
  {
   "cell_type": "markdown",
   "metadata": {
    "id": "QFv-FNYUmvpn"
   },
   "source": [
    "### Encoder layer"
   ]
  },
  {
   "cell_type": "code",
   "execution_count": 37,
   "metadata": {
    "id": "ncyS-Ms3i2x_"
   },
   "outputs": [],
   "source": [
    "class EncoderLayer(tf.keras.layers.Layer):\n",
    "  def __init__(self, d_model, num_heads, dff, rate=0.1):\n",
    "    super(EncoderLayer, self).__init__()\n",
    "\n",
    "    self.mha = MultiHeadAttention(d_model, num_heads)\n",
    "    self.ffn = point_wise_feed_forward_network(d_model, dff)\n",
    "\n",
    "    self.layernorm1 = tf.keras.layers.LayerNormalization(epsilon=1e-6)\n",
    "    self.layernorm2 = tf.keras.layers.LayerNormalization(epsilon=1e-6)\n",
    "    \n",
    "    self.dropout1 = tf.keras.layers.Dropout(rate)\n",
    "    self.dropout2 = tf.keras.layers.Dropout(rate)\n",
    "    \n",
    "  def call(self, x, training, mask):\n",
    "\n",
    "    attn_output, _ = self.mha(x, x, x, mask)  # (batch_size, input_seq_len, d_model)\n",
    "    attn_output = self.dropout1(attn_output, training=training)\n",
    "    out1 = self.layernorm1(x + attn_output)  # (batch_size, input_seq_len, d_model)\n",
    "    \n",
    "    ffn_output = self.ffn(out1)  # (batch_size, input_seq_len, d_model)\n",
    "    ffn_output = self.dropout2(ffn_output, training=training)\n",
    "    out2 = self.layernorm2(out1 + ffn_output)  # (batch_size, input_seq_len, d_model)\n",
    "    \n",
    "    return out2"
   ]
  },
  {
   "cell_type": "code",
   "execution_count": 38,
   "metadata": {
    "colab": {
     "base_uri": "https://localhost:8080/"
    },
    "id": "AzZRXdO0mI48",
    "outputId": "f782e377-bc21-4e2b-9088-32b8538f85c9"
   },
   "outputs": [
    {
     "data": {
      "text/plain": [
       "TensorShape([64, 43, 512])"
      ]
     },
     "execution_count": 38,
     "metadata": {},
     "output_type": "execute_result"
    }
   ],
   "source": [
    "sample_encoder_layer = EncoderLayer(512, 8, 2048)\n",
    "\n",
    "sample_encoder_layer_output = sample_encoder_layer(\n",
    "    tf.random.uniform((64, 43, 512)), False, None)\n",
    "\n",
    "sample_encoder_layer_output.shape  # (batch_size, input_seq_len, d_model)"
   ]
  },
  {
   "cell_type": "markdown",
   "metadata": {
    "id": "6LO_48Owmx_o"
   },
   "source": [
    "### Decoder layer"
   ]
  },
  {
   "cell_type": "code",
   "execution_count": 39,
   "metadata": {
    "id": "9SoX0-vd1hue"
   },
   "outputs": [],
   "source": [
    "class DecoderLayer(tf.keras.layers.Layer):\n",
    "  def __init__(self, d_model, num_heads, dff, rate=0.1):\n",
    "    super(DecoderLayer, self).__init__()\n",
    "\n",
    "    self.mha1 = MultiHeadAttention(d_model, num_heads)\n",
    "    self.mha2 = MultiHeadAttention(d_model, num_heads)\n",
    "\n",
    "    self.ffn = point_wise_feed_forward_network(d_model, dff)\n",
    " \n",
    "    self.layernorm1 = tf.keras.layers.LayerNormalization(epsilon=1e-6)\n",
    "    self.layernorm2 = tf.keras.layers.LayerNormalization(epsilon=1e-6)\n",
    "    self.layernorm3 = tf.keras.layers.LayerNormalization(epsilon=1e-6)\n",
    "    \n",
    "    self.dropout1 = tf.keras.layers.Dropout(rate)\n",
    "    self.dropout2 = tf.keras.layers.Dropout(rate)\n",
    "    self.dropout3 = tf.keras.layers.Dropout(rate)\n",
    "    \n",
    "    \n",
    "  def call(self, x, enc_output, training, \n",
    "           look_ahead_mask, padding_mask):\n",
    "    # enc_output.shape == (batch_size, input_seq_len, d_model)\n",
    "\n",
    "    attn1, attn_weights_block1 = self.mha1(x, x, x, look_ahead_mask)  # (batch_size, target_seq_len, d_model)\n",
    "    attn1 = self.dropout1(attn1, training=training)\n",
    "    out1 = self.layernorm1(attn1 + x)\n",
    "    \n",
    "    attn2, attn_weights_block2 = self.mha2(\n",
    "        enc_output, enc_output, out1, padding_mask)  # (batch_size, target_seq_len, d_model)\n",
    "    attn2 = self.dropout2(attn2, training=training)\n",
    "    out2 = self.layernorm2(attn2 + out1)  # (batch_size, target_seq_len, d_model)\n",
    "    \n",
    "    ffn_output = self.ffn(out2)  # (batch_size, target_seq_len, d_model)\n",
    "    ffn_output = self.dropout3(ffn_output, training=training)\n",
    "    out3 = self.layernorm3(ffn_output + out2)  # (batch_size, target_seq_len, d_model)\n",
    "    \n",
    "    return out3, attn_weights_block1, attn_weights_block2"
   ]
  },
  {
   "cell_type": "code",
   "execution_count": 40,
   "metadata": {
    "colab": {
     "base_uri": "https://localhost:8080/"
    },
    "id": "Ne2Bqx8k71l0",
    "outputId": "53c7b26c-e654-4dc6-ef3b-613bff14234e"
   },
   "outputs": [
    {
     "data": {
      "text/plain": [
       "TensorShape([64, 50, 512])"
      ]
     },
     "execution_count": 40,
     "metadata": {},
     "output_type": "execute_result"
    }
   ],
   "source": [
    "sample_decoder_layer = DecoderLayer(512, 8, 2048)\n",
    "\n",
    "sample_decoder_layer_output, _, _ = sample_decoder_layer(\n",
    "    tf.random.uniform((64, 50, 512)), sample_encoder_layer_output, \n",
    "    False, None, None)\n",
    "\n",
    "sample_decoder_layer_output.shape  # (batch_size, target_seq_len, d_model)"
   ]
  },
  {
   "cell_type": "markdown",
   "metadata": {
    "id": "SE1H51Ajm0q1"
   },
   "source": [
    "### Encoder"
   ]
  },
  {
   "cell_type": "code",
   "execution_count": 41,
   "metadata": {
    "id": "jpEox7gJ8FCI"
   },
   "outputs": [],
   "source": [
    "class Encoder(tf.keras.layers.Layer):\n",
    "  def __init__(self, num_layers, d_model, num_heads, dff, input_vocab_size,\n",
    "               maximum_position_encoding, rate=0.1):\n",
    "    super(Encoder, self).__init__()\n",
    "\n",
    "    self.d_model = d_model\n",
    "    self.num_layers = num_layers\n",
    "    \n",
    "    self.embedding = tf.keras.layers.Embedding(input_vocab_size, d_model)\n",
    "    self.pos_encoding = positional_encoding(maximum_position_encoding, \n",
    "                                            self.d_model)\n",
    "    \n",
    "    \n",
    "    self.enc_layers = [EncoderLayer(d_model, num_heads, dff, rate) \n",
    "                       for _ in range(num_layers)]\n",
    "  \n",
    "    self.dropout = tf.keras.layers.Dropout(rate)\n",
    "        \n",
    "  def call(self, x, training, mask):\n",
    "\n",
    "    seq_len = tf.shape(x)[1]\n",
    "    \n",
    "    # adding embedding and position encoding.\n",
    "    x = self.embedding(x)  # (batch_size, input_seq_len, d_model)\n",
    "    x *= tf.math.sqrt(tf.cast(self.d_model, tf.float32))\n",
    "    x += self.pos_encoding[:, :seq_len, :]\n",
    "\n",
    "    x = self.dropout(x, training=training)\n",
    "    \n",
    "    for i in range(self.num_layers):\n",
    "      x = self.enc_layers[i](x, training, mask)\n",
    "    \n",
    "    return x  # (batch_size, input_seq_len, d_model)"
   ]
  },
  {
   "cell_type": "code",
   "execution_count": 42,
   "metadata": {
    "colab": {
     "base_uri": "https://localhost:8080/"
    },
    "id": "8QG9nueFQKXx",
    "outputId": "c1c5cc6b-19bb-4190-c8d7-f605fb303c07"
   },
   "outputs": [
    {
     "name": "stdout",
     "output_type": "stream",
     "text": [
      "(64, 62, 512)\n"
     ]
    }
   ],
   "source": [
    "sample_encoder = Encoder(num_layers=2, d_model=512, num_heads=8, \n",
    "                         dff=2048, input_vocab_size=8500,\n",
    "                         maximum_position_encoding=10000)\n",
    "temp_input = tf.random.uniform((64, 62), dtype=tf.int64, minval=0, maxval=200)\n",
    "\n",
    "sample_encoder_output = sample_encoder(temp_input, training=False, mask=None)\n",
    "\n",
    "print (sample_encoder_output.shape)  # (batch_size, input_seq_len, d_model)"
   ]
  },
  {
   "cell_type": "markdown",
   "metadata": {
    "id": "p-uO6ls8m2O5"
   },
   "source": [
    "### Decoder"
   ]
  },
  {
   "cell_type": "code",
   "execution_count": 43,
   "metadata": {
    "id": "d5_d5-PLQXwY"
   },
   "outputs": [],
   "source": [
    "class Decoder(tf.keras.layers.Layer):\n",
    "  def __init__(self, num_layers, d_model, num_heads, dff, target_vocab_size,\n",
    "               maximum_position_encoding, rate=0.1):\n",
    "    super(Decoder, self).__init__()\n",
    "\n",
    "    self.d_model = d_model\n",
    "    self.num_layers = num_layers\n",
    "    \n",
    "    self.embedding = tf.keras.layers.Embedding(target_vocab_size, d_model)\n",
    "    self.pos_encoding = positional_encoding(maximum_position_encoding, d_model)\n",
    "    \n",
    "    self.dec_layers = [DecoderLayer(d_model, num_heads, dff, rate) \n",
    "                       for _ in range(num_layers)]\n",
    "    self.dropout = tf.keras.layers.Dropout(rate)\n",
    "    \n",
    "  def call(self, x, enc_output, training, \n",
    "           look_ahead_mask, padding_mask):\n",
    "\n",
    "    seq_len = tf.shape(x)[1]\n",
    "    attention_weights = {}\n",
    "    \n",
    "    x = self.embedding(x)  # (batch_size, target_seq_len, d_model)\n",
    "    x *= tf.math.sqrt(tf.cast(self.d_model, tf.float32))\n",
    "    x += self.pos_encoding[:, :seq_len, :]\n",
    "    \n",
    "    x = self.dropout(x, training=training)\n",
    "\n",
    "    for i in range(self.num_layers):\n",
    "      x, block1, block2 = self.dec_layers[i](x, enc_output, training,\n",
    "                                             look_ahead_mask, padding_mask)\n",
    "      \n",
    "      attention_weights['decoder_layer{}_block1'.format(i+1)] = block1\n",
    "      attention_weights['decoder_layer{}_block2'.format(i+1)] = block2\n",
    "    \n",
    "    # x.shape == (batch_size, target_seq_len, d_model)\n",
    "    return x, attention_weights"
   ]
  },
  {
   "cell_type": "code",
   "execution_count": 44,
   "metadata": {
    "colab": {
     "base_uri": "https://localhost:8080/"
    },
    "id": "a1jXoAMRZyvu",
    "outputId": "49e16979-6f48-4c6c-c307-0b95259d725e"
   },
   "outputs": [
    {
     "data": {
      "text/plain": [
       "(TensorShape([64, 26, 512]), TensorShape([64, 8, 26, 62]))"
      ]
     },
     "execution_count": 44,
     "metadata": {},
     "output_type": "execute_result"
    }
   ],
   "source": [
    "sample_decoder = Decoder(num_layers=2, d_model=512, num_heads=8, \n",
    "                         dff=2048, target_vocab_size=8000,\n",
    "                         maximum_position_encoding=5000)\n",
    "temp_input = tf.random.uniform((64, 26), dtype=tf.int64, minval=0, maxval=200)\n",
    "\n",
    "output, attn = sample_decoder(temp_input, \n",
    "                              enc_output=sample_encoder_output, \n",
    "                              training=False,\n",
    "                              look_ahead_mask=None, \n",
    "                              padding_mask=None)\n",
    "\n",
    "output.shape, attn['decoder_layer2_block2'].shape"
   ]
  },
  {
   "cell_type": "markdown",
   "metadata": {
    "id": "y54xnJnuYgJ7"
   },
   "source": [
    "## Create the Transformer"
   ]
  },
  {
   "cell_type": "code",
   "execution_count": 45,
   "metadata": {
    "id": "PED3bIpOYkBu"
   },
   "outputs": [],
   "source": [
    "class Transformer(tf.keras.Model):\n",
    "  def __init__(self, num_layers, d_model, num_heads, dff, input_vocab_size, \n",
    "               target_vocab_size, pe_input, pe_target, rate=0.1):\n",
    "    super(Transformer, self).__init__()\n",
    "\n",
    "    self.encoder = Encoder(num_layers, d_model, num_heads, dff, \n",
    "                           input_vocab_size, pe_input, rate)\n",
    "\n",
    "    self.decoder = Decoder(num_layers, d_model, num_heads, dff, \n",
    "                           target_vocab_size, pe_target, rate)\n",
    "\n",
    "    self.final_layer = tf.keras.layers.Dense(target_vocab_size)\n",
    "    \n",
    "  def call(self, inp, tar, training, enc_padding_mask, \n",
    "           look_ahead_mask, dec_padding_mask):\n",
    "\n",
    "    enc_output = self.encoder(inp, training, enc_padding_mask)  # (batch_size, inp_seq_len, d_model)\n",
    "    \n",
    "    # dec_output.shape == (batch_size, tar_seq_len, d_model)\n",
    "    dec_output, attention_weights = self.decoder(\n",
    "        tar, enc_output, training, look_ahead_mask, dec_padding_mask)\n",
    "    \n",
    "    final_output = self.final_layer(dec_output)  # (batch_size, tar_seq_len, target_vocab_size)\n",
    "    \n",
    "    return final_output, attention_weights"
   ]
  },
  {
   "cell_type": "code",
   "execution_count": 46,
   "metadata": {
    "colab": {
     "base_uri": "https://localhost:8080/"
    },
    "id": "tJ4fbQcIkHW1",
    "outputId": "6bc6155a-02f0-44ff-b04d-5ab4b4c387cc"
   },
   "outputs": [
    {
     "data": {
      "text/plain": [
       "TensorShape([64, 36, 8000])"
      ]
     },
     "execution_count": 46,
     "metadata": {},
     "output_type": "execute_result"
    }
   ],
   "source": [
    "sample_transformer = Transformer(\n",
    "    num_layers=2, d_model=512, num_heads=8, dff=2048, \n",
    "    input_vocab_size=8500, target_vocab_size=8000, \n",
    "    pe_input=10000, pe_target=6000)\n",
    "\n",
    "temp_input = tf.random.uniform((64, 38), dtype=tf.int64, minval=0, maxval=200)\n",
    "temp_target = tf.random.uniform((64, 36), dtype=tf.int64, minval=0, maxval=200)\n",
    "\n",
    "fn_out, _ = sample_transformer(temp_input, temp_target, training=False, \n",
    "                               enc_padding_mask=None, \n",
    "                               look_ahead_mask=None,\n",
    "                               dec_padding_mask=None)\n",
    "\n",
    "fn_out.shape  # (batch_size, tar_seq_len, target_vocab_size)"
   ]
  },
  {
   "cell_type": "markdown",
   "metadata": {
    "id": "wsINyf1VEQLC"
   },
   "source": [
    "## Set hyperparameters"
   ]
  },
  {
   "cell_type": "markdown",
   "metadata": {
    "id": "zVjWCxFNcgbt"
   },
   "source": [
    "To keep this example small and relatively fast, the values for *num_layers, d_model, and dff* have been reduced. \n",
    "\n",
    "The values used in the base model of transformer were; *num_layers=6*, *d_model = 512*, *dff = 2048*. See the [paper](https://arxiv.org/abs/1706.03762) for all the other versions of the transformer.\n",
    "\n",
    "Note: By changing the values below, you can get the model that achieved state of the art on many tasks."
   ]
  },
  {
   "cell_type": "code",
   "execution_count": 47,
   "metadata": {
    "id": "lnJn5SLA2ahP"
   },
   "outputs": [],
   "source": [
    "num_layers = 2\n",
    "d_model = 64\n",
    "dff = 256\n",
    "num_heads = 4\n",
    "\n",
    "input_vocab_size = input_tokenizer.vocab_size + 2\n",
    "target_vocab_size = target_tokenizer.vocab_size + 2\n",
    "dropout_rate = 0.1"
   ]
  },
  {
   "cell_type": "markdown",
   "metadata": {
    "id": "xYEGhEOtzn5W"
   },
   "source": [
    "## Optimizer"
   ]
  },
  {
   "cell_type": "markdown",
   "metadata": {
    "id": "GOmWW--yP3zx"
   },
   "source": [
    "Use the Adam optimizer with a custom learning rate scheduler according to the formula in the [paper](https://arxiv.org/abs/1706.03762).\n",
    "\n",
    "$$\\Large{lrate = d_{model}^{-0.5} * min(step{\\_}num^{-0.5}, step{\\_}num * warmup{\\_}steps^{-1.5})}$$\n"
   ]
  },
  {
   "cell_type": "code",
   "execution_count": 48,
   "metadata": {
    "id": "iYQdOO1axwEI"
   },
   "outputs": [],
   "source": [
    "class CustomSchedule(tf.keras.optimizers.schedules.LearningRateSchedule):\n",
    "  def __init__(self, d_model, warmup_steps=4000):\n",
    "    super(CustomSchedule, self).__init__()\n",
    "    \n",
    "    self.d_model = d_model\n",
    "    self.d_model = tf.cast(self.d_model, tf.float32)\n",
    "\n",
    "    self.warmup_steps = warmup_steps\n",
    "    \n",
    "  def __call__(self, step):\n",
    "    arg1 = tf.math.rsqrt(step)\n",
    "    arg2 = step * (self.warmup_steps ** -1.5)\n",
    "    \n",
    "    return tf.math.rsqrt(self.d_model) * tf.math.minimum(arg1, arg2)"
   ]
  },
  {
   "cell_type": "code",
   "execution_count": 49,
   "metadata": {
    "id": "7r4scdulztRx"
   },
   "outputs": [],
   "source": [
    "learning_rate = CustomSchedule(d_model)\n",
    "\n",
    "optimizer = tf.keras.optimizers.Adam(learning_rate, beta_1=0.9, beta_2=0.98, \n",
    "                                     epsilon=1e-9)"
   ]
  },
  {
   "cell_type": "code",
   "execution_count": 50,
   "metadata": {
    "colab": {
     "base_uri": "https://localhost:8080/",
     "height": 296
    },
    "id": "f33ZCgvHpPdG",
    "outputId": "d32a1d68-c675-424d-ddc5-855608622ba6"
   },
   "outputs": [
    {
     "data": {
      "text/plain": [
       "Text(0.5, 0, 'Train Step')"
      ]
     },
     "execution_count": 50,
     "metadata": {},
     "output_type": "execute_result"
    },
    {
     "data": {
      "image/png": "[encoded data removed]",
      "text/plain": [
       "<Figure size 432x288 with 1 Axes>"
      ]
     },
     "metadata": {
      "needs_background": "light"
     },
     "output_type": "display_data"
    }
   ],
   "source": [
    "temp_learning_rate_schedule = CustomSchedule(d_model)\n",
    "\n",
    "plt.plot(temp_learning_rate_schedule(tf.range(40000, dtype=tf.float32)))\n",
    "plt.ylabel(\"Learning Rate\")\n",
    "plt.xlabel(\"Train Step\")"
   ]
  },
  {
   "cell_type": "markdown",
   "metadata": {
    "id": "YgkDE7hzo8r5"
   },
   "source": [
    "## Loss and metrics"
   ]
  },
  {
   "cell_type": "markdown",
   "metadata": {
    "id": "oxGJtoDuYIHL"
   },
   "source": [
    "Since the target sequences are padded, it is important to apply a padding mask when calculating the loss."
   ]
  },
  {
   "cell_type": "code",
   "execution_count": 51,
   "metadata": {
    "id": "MlhsJMm0TW_B"
   },
   "outputs": [],
   "source": [
    "loss_object = tf.keras.losses.SparseCategoricalCrossentropy(\n",
    "    from_logits=True, reduction='none')"
   ]
  },
  {
   "cell_type": "code",
   "execution_count": 52,
   "metadata": {
    "id": "67oqVHiT0Eiu"
   },
   "outputs": [],
   "source": [
    "def loss_function(real, pred):\n",
    "  mask = tf.math.logical_not(tf.math.equal(real, 0))\n",
    "  loss_ = loss_object(real, pred)\n",
    "\n",
    "  mask = tf.cast(mask, dtype=loss_.dtype)\n",
    "  loss_ *= mask\n",
    "  \n",
    "  return tf.reduce_sum(loss_)/tf.reduce_sum(mask)"
   ]
  },
  {
   "cell_type": "code",
   "execution_count": 53,
   "metadata": {
    "id": "phlyxMnm-Tpx"
   },
   "outputs": [],
   "source": [
    "train_loss = tf.keras.metrics.Mean(name='train_loss')\n",
    "train_accuracy = tf.keras.metrics.SparseCategoricalAccuracy(\n",
    "    name='train_accuracy')"
   ]
  },
  {
   "cell_type": "markdown",
   "metadata": {
    "id": "aeHumfr7zmMa"
   },
   "source": [
    "## Training and checkpointing"
   ]
  },
  {
   "cell_type": "code",
   "execution_count": 54,
   "metadata": {
    "id": "UiysUa--4tOU"
   },
   "outputs": [],
   "source": [
    "transformer = Transformer(num_layers, d_model, num_heads, dff,\n",
    "                          input_vocab_size, target_vocab_size, \n",
    "                          pe_input=input_vocab_size, \n",
    "                          pe_target=target_vocab_size,\n",
    "                          rate=dropout_rate)"
   ]
  },
  {
   "cell_type": "code",
   "execution_count": 55,
   "metadata": {
    "id": "ZOJUSB1T8GjM"
   },
   "outputs": [],
   "source": [
    "def create_masks(inp, tar):\n",
    "  # Encoder padding mask\n",
    "  enc_padding_mask = create_padding_mask(inp)\n",
    "  \n",
    "  # Used in the 2nd attention block in the decoder.\n",
    "  # This padding mask is used to mask the encoder outputs.\n",
    "  dec_padding_mask = create_padding_mask(inp)\n",
    "  \n",
    "  # Used in the 1st attention block in the decoder.\n",
    "  # It is used to pad and mask future tokens in the input received by \n",
    "  # the decoder.\n",
    "  look_ahead_mask = create_look_ahead_mask(tf.shape(tar)[1])\n",
    "  dec_target_padding_mask = create_padding_mask(tar)\n",
    "  combined_mask = tf.maximum(dec_target_padding_mask, look_ahead_mask)\n",
    "  \n",
    "  return enc_padding_mask, combined_mask, dec_padding_mask"
   ]
  },
  {
   "cell_type": "markdown",
   "metadata": {
    "id": "Fzuf06YZp66w"
   },
   "source": [
    "Create the checkpoint path and the checkpoint manager. This will be used to save checkpoints every `n` epochs."
   ]
  },
  {
   "cell_type": "code",
   "execution_count": 56,
   "metadata": {
    "id": "hNhuYfllndLZ"
   },
   "outputs": [],
   "source": [
    "checkpoint_path = \"./checkpoints/Trans-2_YueEng\"\n",
    "\n",
    "ckpt = tf.train.Checkpoint(transformer=transformer,\n",
    "                           optimizer=optimizer)\n",
    "\n",
    "ckpt_manager = tf.train.CheckpointManager(ckpt, checkpoint_path, max_to_keep=5)\n",
    "\n",
    "# if a checkpoint exists, restore the latest checkpoint.\n",
    "# if ckpt_manager.latest_checkpoint:\n",
    "#   ckpt.restore(ckpt_manager.latest_checkpoint)\n",
    "#   print ('Latest checkpoint restored!!')"
   ]
  },
  {
   "cell_type": "code",
   "execution_count": 57,
   "metadata": {
    "id": "LKpoA6q1sJFj"
   },
   "outputs": [],
   "source": [
    "EPOCHS = 100"
   ]
  },
  {
   "cell_type": "code",
   "execution_count": 58,
   "metadata": {},
   "outputs": [],
   "source": [
    "run_id = f\"Trans-2_YueEng_{num_layers}L_{d_model}D_{num_heads}H_{dff}dff\"\n",
    "log_dir = os.path.join(os.path.join(os.getcwd(), 'log'), run_id)\n",
    "# %load_ext tensorboard\n",
    "# %tensorboard --logdir {log_dir}"
   ]
  },
  {
   "cell_type": "code",
   "execution_count": 59,
   "metadata": {
    "id": "iJwmp9OE29oj"
   },
   "outputs": [],
   "source": [
    "# The @tf.function trace-compiles train_step into a TF graph for faster\n",
    "# execution. The function specializes to the precise shape of the argument\n",
    "# tensors. To avoid re-tracing due to the variable sequence lengths or variable\n",
    "# batch sizes (the last batch is smaller), use input_signature to specify\n",
    "# more generic shapes.\n",
    "\n",
    "train_step_signature = [\n",
    "    tf.TensorSpec(shape=(None, None), dtype=tf.int64),\n",
    "    tf.TensorSpec(shape=(None, None), dtype=tf.int64),\n",
    "]\n",
    "\n",
    "@tf.function(input_signature=train_step_signature)\n",
    "def train_step(inp, tar):\n",
    "  tar_inp = tar[:, :-1]\n",
    "  tar_real = tar[:, 1:]\n",
    "  \n",
    "  enc_padding_mask, combined_mask, dec_padding_mask = create_masks(inp, tar_inp)\n",
    "  \n",
    "  with tf.GradientTape() as tape:\n",
    "    predictions, _ = transformer(inp, tar_inp, \n",
    "                                 True, \n",
    "                                 enc_padding_mask, \n",
    "                                 combined_mask, \n",
    "                                 dec_padding_mask)\n",
    "    loss = loss_function(tar_real, predictions)\n",
    "\n",
    "  gradients = tape.gradient(loss, transformer.trainable_variables)    \n",
    "  optimizer.apply_gradients(zip(gradients, transformer.trainable_variables))\n",
    "  \n",
    "  train_loss(loss)\n",
    "  train_accuracy(tar_real, predictions)"
   ]
  },
  {
   "cell_type": "code",
   "execution_count": 60,
   "metadata": {
    "colab": {
     "base_uri": "https://localhost:8080/"
    },
    "id": "bbvmaKNiznHZ",
    "outputId": "f6bc5b1f-c9b6-4cb7-839f-70abab2c8905",
    "scrolled": true
   },
   "outputs": [
    {
     "name": "stdout",
     "output_type": "stream",
     "text": [
      "Epoch 1 Batch 0 Loss 8.9768 Accuracy 0.0000\n",
      "Epoch 1 Batch 50 Loss 8.9447 Accuracy 0.0002\n",
      "Epoch 1 Batch 100 Loss 8.8860 Accuracy 0.0234\n",
      "Epoch 1 Loss 8.8822 Accuracy 0.0243\n",
      "Time taken for 1 epoch: 49.885576248168945 secs\n",
      "\n",
      "Epoch 2 Batch 0 Loss 8.7495 Accuracy 0.0625\n",
      "Epoch 2 Batch 50 Loss 8.6624 Accuracy 0.0590\n",
      "Epoch 2 Batch 100 Loss 8.5585 Accuracy 0.0573\n",
      "Epoch 2 Loss 8.5522 Accuracy 0.0573\n",
      "Time taken for 1 epoch: 47.113853454589844 secs\n",
      "\n",
      "Epoch 3 Batch 0 Loss 8.2859 Accuracy 0.0588\n",
      "Epoch 3 Batch 50 Loss 8.1603 Accuracy 0.0584\n",
      "Epoch 3 Batch 100 Loss 7.9969 Accuracy 0.0569\n",
      "Epoch 3 Loss 7.9874 Accuracy 0.0567\n",
      "Time taken for 1 epoch: 42.2380907535553 secs\n",
      "\n",
      "Epoch 4 Batch 0 Loss 7.6193 Accuracy 0.0588\n",
      "Epoch 4 Batch 50 Loss 7.4582 Accuracy 0.0590\n",
      "Epoch 4 Batch 100 Loss 7.2876 Accuracy 0.0575\n",
      "Epoch 4 Loss 7.2780 Accuracy 0.0573\n",
      "Time taken for 1 epoch: 29.852836847305298 secs\n",
      "\n",
      "Epoch 5 Batch 0 Loss 6.9719 Accuracy 0.0588\n",
      "Epoch 5 Batch 50 Loss 6.8062 Accuracy 0.0579\n",
      "Epoch 5 Batch 100 Loss 6.7021 Accuracy 0.0568\n",
      "Saving checkpoint for epoch 5 at ./checkpoints/Final_Transformer_YueEng_Char_2\\ckpt-1\n",
      "Epoch 5 Loss 6.6967 Accuracy 0.0568\n",
      "Time taken for 1 epoch: 30.68622350692749 secs\n",
      "\n",
      "Epoch 6 Batch 0 Loss 6.4698 Accuracy 0.0588\n",
      "Epoch 6 Batch 50 Loss 6.4904 Accuracy 0.0596\n",
      "Epoch 6 Batch 100 Loss 6.4419 Accuracy 0.0569\n",
      "Epoch 6 Loss 6.4382 Accuracy 0.0569\n",
      "Time taken for 1 epoch: 29.696466207504272 secs\n",
      "\n",
      "Epoch 7 Batch 0 Loss 6.2888 Accuracy 0.0714\n",
      "Epoch 7 Batch 50 Loss 6.2633 Accuracy 0.0619\n",
      "Epoch 7 Batch 100 Loss 6.1805 Accuracy 0.0651\n",
      "Epoch 7 Loss 6.1787 Accuracy 0.0652\n",
      "Time taken for 1 epoch: 29.911243677139282 secs\n",
      "\n",
      "Epoch 8 Batch 0 Loss 6.0483 Accuracy 0.0641\n",
      "Epoch 8 Batch 50 Loss 5.9533 Accuracy 0.0780\n",
      "Epoch 8 Batch 100 Loss 5.8824 Accuracy 0.0793\n",
      "Epoch 8 Loss 5.8755 Accuracy 0.0798\n",
      "Time taken for 1 epoch: 29.807178735733032 secs\n",
      "\n",
      "Epoch 9 Batch 0 Loss 5.6403 Accuracy 0.0908\n",
      "Epoch 9 Batch 50 Loss 5.6721 Accuracy 0.0941\n",
      "Epoch 9 Batch 100 Loss 5.6038 Accuracy 0.0947\n",
      "Epoch 9 Loss 5.6030 Accuracy 0.0948\n",
      "Time taken for 1 epoch: 31.645347833633423 secs\n",
      "\n",
      "Epoch 10 Batch 0 Loss 5.2581 Accuracy 0.1217\n",
      "Epoch 10 Batch 50 Loss 5.4196 Accuracy 0.1057\n",
      "Epoch 10 Batch 100 Loss 5.3676 Accuracy 0.1049\n",
      "Saving checkpoint for epoch 10 at ./checkpoints/Final_Transformer_YueEng_Char_2\\ckpt-2\n",
      "Epoch 10 Loss 5.3643 Accuracy 0.1053\n",
      "Time taken for 1 epoch: 30.36077070236206 secs\n",
      "\n",
      "Epoch 11 Batch 0 Loss 5.3289 Accuracy 0.1125\n",
      "Epoch 11 Batch 50 Loss 5.2107 Accuracy 0.1136\n",
      "Epoch 11 Batch 100 Loss 5.1669 Accuracy 0.1106\n",
      "Epoch 11 Loss 5.1646 Accuracy 0.1108\n",
      "Time taken for 1 epoch: 31.186234951019287 secs\n",
      "\n",
      "Epoch 12 Batch 0 Loss 4.9679 Accuracy 0.1195\n",
      "Epoch 12 Batch 50 Loss 5.0439 Accuracy 0.1182\n",
      "Epoch 12 Batch 100 Loss 4.9982 Accuracy 0.1163\n",
      "Epoch 12 Loss 4.9936 Accuracy 0.1162\n",
      "Time taken for 1 epoch: 29.936208724975586 secs\n",
      "\n",
      "Epoch 13 Batch 0 Loss 5.0696 Accuracy 0.1191\n",
      "Epoch 13 Batch 50 Loss 4.8873 Accuracy 0.1236\n",
      "Epoch 13 Batch 100 Loss 4.8431 Accuracy 0.1201\n",
      "Epoch 13 Loss 4.8398 Accuracy 0.1204\n",
      "Time taken for 1 epoch: 29.694180250167847 secs\n",
      "\n",
      "Epoch 14 Batch 0 Loss 4.5572 Accuracy 0.1094\n",
      "Epoch 14 Batch 50 Loss 4.7254 Accuracy 0.1274\n",
      "Epoch 14 Batch 100 Loss 4.6872 Accuracy 0.1241\n",
      "Epoch 14 Loss 4.6854 Accuracy 0.1241\n",
      "Time taken for 1 epoch: 32.0273015499115 secs\n",
      "\n",
      "Epoch 15 Batch 0 Loss 4.5273 Accuracy 0.1023\n",
      "Epoch 15 Batch 50 Loss 4.5807 Accuracy 0.1325\n",
      "Epoch 15 Batch 100 Loss 4.5378 Accuracy 0.1310\n",
      "Saving checkpoint for epoch 15 at ./checkpoints/Final_Transformer_YueEng_Char_2\\ckpt-3\n",
      "Epoch 15 Loss 4.5365 Accuracy 0.1310\n",
      "Time taken for 1 epoch: 37.214032888412476 secs\n",
      "\n",
      "Epoch 16 Batch 0 Loss 4.3567 Accuracy 0.1775\n",
      "Epoch 16 Batch 50 Loss 4.4164 Accuracy 0.1417\n",
      "Epoch 16 Batch 100 Loss 4.3887 Accuracy 0.1376\n",
      "Epoch 16 Loss 4.3834 Accuracy 0.1380\n",
      "Time taken for 1 epoch: 35.69605207443237 secs\n",
      "\n",
      "Epoch 17 Batch 0 Loss 4.3741 Accuracy 0.1278\n",
      "Epoch 17 Batch 50 Loss 4.2673 Accuracy 0.1426\n",
      "Epoch 17 Batch 100 Loss 4.2229 Accuracy 0.1408\n",
      "Epoch 17 Loss 4.2197 Accuracy 0.1409\n",
      "Time taken for 1 epoch: 32.496400117874146 secs\n",
      "\n",
      "Epoch 18 Batch 0 Loss 4.1737 Accuracy 0.1480\n",
      "Epoch 18 Batch 50 Loss 4.1008 Accuracy 0.1501\n",
      "Epoch 18 Batch 100 Loss 4.0589 Accuracy 0.1478\n",
      "Epoch 18 Loss 4.0565 Accuracy 0.1476\n",
      "Time taken for 1 epoch: 36.074241399765015 secs\n",
      "\n",
      "Epoch 19 Batch 0 Loss 3.8285 Accuracy 0.1507\n",
      "Epoch 19 Batch 50 Loss 3.9276 Accuracy 0.1601\n",
      "Epoch 19 Batch 100 Loss 3.8861 Accuracy 0.1554\n",
      "Epoch 19 Loss 3.8854 Accuracy 0.1553\n",
      "Time taken for 1 epoch: 36.80616044998169 secs\n",
      "\n",
      "Epoch 20 Batch 0 Loss 3.9053 Accuracy 0.1738\n",
      "Epoch 20 Batch 50 Loss 3.7526 Accuracy 0.1690\n",
      "Epoch 20 Batch 100 Loss 3.7058 Accuracy 0.1643\n",
      "Saving checkpoint for epoch 20 at ./checkpoints/Final_Transformer_YueEng_Char_2\\ckpt-4\n",
      "Epoch 20 Loss 3.7040 Accuracy 0.1645\n",
      "Time taken for 1 epoch: 34.48170566558838 secs\n",
      "\n",
      "Epoch 21 Batch 0 Loss 3.7093 Accuracy 0.1461\n",
      "Epoch 21 Batch 50 Loss 3.5769 Accuracy 0.1759\n",
      "Epoch 21 Batch 100 Loss 3.5327 Accuracy 0.1728\n",
      "Epoch 21 Loss 3.5293 Accuracy 0.1727\n",
      "Time taken for 1 epoch: 32.214179039001465 secs\n",
      "\n",
      "Epoch 22 Batch 0 Loss 3.4627 Accuracy 0.1783\n",
      "Epoch 22 Batch 50 Loss 3.3795 Accuracy 0.1871\n",
      "Epoch 22 Batch 100 Loss 3.3381 Accuracy 0.1833\n",
      "Epoch 22 Loss 3.3358 Accuracy 0.1831\n",
      "Time taken for 1 epoch: 32.49125409126282 secs\n",
      "\n",
      "Epoch 23 Batch 0 Loss 3.1683 Accuracy 0.2476\n",
      "Epoch 23 Batch 50 Loss 3.1934 Accuracy 0.1949\n",
      "Epoch 23 Batch 100 Loss 3.1559 Accuracy 0.1914\n",
      "Epoch 23 Loss 3.1551 Accuracy 0.1919\n",
      "Time taken for 1 epoch: 35.742974281311035 secs\n",
      "\n",
      "Epoch 24 Batch 0 Loss 3.0982 Accuracy 0.2151\n",
      "Epoch 24 Batch 50 Loss 3.0124 Accuracy 0.2042\n",
      "Epoch 24 Batch 100 Loss 2.9708 Accuracy 0.2013\n",
      "Epoch 24 Loss 2.9695 Accuracy 0.2017\n",
      "Time taken for 1 epoch: 35.14247179031372 secs\n",
      "\n",
      "Epoch 25 Batch 0 Loss 2.9157 Accuracy 0.2243\n",
      "Epoch 25 Batch 50 Loss 2.8295 Accuracy 0.2178\n",
      "Epoch 25 Batch 100 Loss 2.7965 Accuracy 0.2125\n",
      "Saving checkpoint for epoch 25 at ./checkpoints/Final_Transformer_YueEng_Char_2\\ckpt-5\n",
      "Epoch 25 Loss 2.7932 Accuracy 0.2126\n",
      "Time taken for 1 epoch: 35.44273614883423 secs\n",
      "\n",
      "Epoch 26 Batch 0 Loss 2.6232 Accuracy 0.2448\n",
      "Epoch 26 Batch 50 Loss 2.6395 Accuracy 0.2306\n",
      "Epoch 26 Batch 100 Loss 2.6059 Accuracy 0.2245\n",
      "Epoch 26 Loss 2.6030 Accuracy 0.2251\n",
      "Time taken for 1 epoch: 32.069722414016724 secs\n",
      "\n",
      "Epoch 27 Batch 0 Loss 2.5158 Accuracy 0.1945\n",
      "Epoch 27 Batch 50 Loss 2.4795 Accuracy 0.2420\n",
      "Epoch 27 Batch 100 Loss 2.4417 Accuracy 0.2323\n",
      "Epoch 27 Loss 2.4401 Accuracy 0.2322\n",
      "Time taken for 1 epoch: 34.66443657875061 secs\n",
      "\n",
      "Epoch 28 Batch 0 Loss 2.4163 Accuracy 0.2463\n",
      "Epoch 28 Batch 50 Loss 2.3267 Accuracy 0.2503\n",
      "Epoch 28 Batch 100 Loss 2.2876 Accuracy 0.2451\n",
      "Epoch 28 Loss 2.2849 Accuracy 0.2447\n",
      "Time taken for 1 epoch: 32.483962059020996 secs\n",
      "\n",
      "Epoch 29 Batch 0 Loss 2.3642 Accuracy 0.2625\n",
      "Epoch 29 Batch 50 Loss 2.1560 Accuracy 0.2608\n",
      "Epoch 29 Batch 100 Loss 2.1271 Accuracy 0.2538\n",
      "Epoch 29 Loss 2.1249 Accuracy 0.2540\n",
      "Time taken for 1 epoch: 30.508219480514526 secs\n",
      "\n",
      "Epoch 30 Batch 0 Loss 1.9650 Accuracy 0.2990\n",
      "Epoch 30 Batch 50 Loss 2.0205 Accuracy 0.2739\n",
      "Epoch 30 Batch 100 Loss 1.9906 Accuracy 0.2665\n",
      "Saving checkpoint for epoch 30 at ./checkpoints/Final_Transformer_YueEng_Char_2\\ckpt-6\n",
      "Epoch 30 Loss 1.9888 Accuracy 0.2675\n",
      "Time taken for 1 epoch: 30.803035736083984 secs\n",
      "\n",
      "Epoch 31 Batch 0 Loss 1.7883 Accuracy 0.2803\n",
      "Epoch 31 Batch 50 Loss 1.8963 Accuracy 0.2872\n",
      "Epoch 31 Batch 100 Loss 1.8703 Accuracy 0.2780\n",
      "Epoch 31 Loss 1.8678 Accuracy 0.2780\n",
      "Time taken for 1 epoch: 29.822428703308105 secs\n",
      "\n",
      "Epoch 32 Batch 0 Loss 1.8412 Accuracy 0.2950\n",
      "Epoch 32 Batch 50 Loss 1.7737 Accuracy 0.2935\n",
      "Epoch 32 Batch 100 Loss 1.7577 Accuracy 0.2828\n",
      "Epoch 32 Loss 1.7536 Accuracy 0.2832\n",
      "Time taken for 1 epoch: 29.91679286956787 secs\n",
      "\n",
      "Epoch 33 Batch 0 Loss 1.7514 Accuracy 0.2794\n",
      "Epoch 33 Batch 50 Loss 1.6669 Accuracy 0.3076\n",
      "Epoch 33 Batch 100 Loss 1.6530 Accuracy 0.2951\n",
      "Epoch 33 Loss 1.6531 Accuracy 0.2953\n",
      "Time taken for 1 epoch: 30.198869228363037 secs\n",
      "\n",
      "Epoch 34 Batch 0 Loss 1.6086 Accuracy 0.3371\n",
      "Epoch 34 Batch 50 Loss 1.5745 Accuracy 0.3117\n",
      "Epoch 34 Batch 100 Loss 1.5583 Accuracy 0.3028\n",
      "Epoch 34 Loss 1.5576 Accuracy 0.3027\n",
      "Time taken for 1 epoch: 30.29030704498291 secs\n",
      "\n",
      "Epoch 35 Batch 0 Loss 1.4612 Accuracy 0.3389\n",
      "Epoch 35 Batch 50 Loss 1.4950 Accuracy 0.3158\n",
      "Epoch 35 Batch 100 Loss 1.4851 Accuracy 0.3110\n"
     ]
    },
    {
     "name": "stdout",
     "output_type": "stream",
     "text": [
      "Saving checkpoint for epoch 35 at ./checkpoints/Final_Transformer_YueEng_Char_2\\ckpt-7\n",
      "Epoch 35 Loss 1.4829 Accuracy 0.3090\n",
      "Time taken for 1 epoch: 30.346455574035645 secs\n",
      "\n",
      "Epoch 36 Batch 0 Loss 1.4251 Accuracy 0.2688\n",
      "Epoch 36 Batch 50 Loss 1.4325 Accuracy 0.3244\n",
      "Epoch 36 Batch 100 Loss 1.4176 Accuracy 0.3133\n",
      "Epoch 36 Loss 1.4148 Accuracy 0.3137\n",
      "Time taken for 1 epoch: 31.14186930656433 secs\n",
      "\n",
      "Epoch 37 Batch 0 Loss 1.4350 Accuracy 0.3625\n",
      "Epoch 37 Batch 50 Loss 1.3497 Accuracy 0.3292\n",
      "Epoch 37 Batch 100 Loss 1.3401 Accuracy 0.3171\n",
      "Epoch 37 Loss 1.3395 Accuracy 0.3175\n",
      "Time taken for 1 epoch: 30.530745029449463 secs\n",
      "\n",
      "Epoch 38 Batch 0 Loss 1.2237 Accuracy 0.2820\n",
      "Epoch 38 Batch 50 Loss 1.3130 Accuracy 0.3323\n",
      "Epoch 38 Batch 100 Loss 1.2948 Accuracy 0.3204\n",
      "Epoch 38 Loss 1.2942 Accuracy 0.3207\n",
      "Time taken for 1 epoch: 30.368749380111694 secs\n",
      "\n",
      "Epoch 39 Batch 0 Loss 1.3269 Accuracy 0.2895\n",
      "Epoch 39 Batch 50 Loss 1.2632 Accuracy 0.3352\n",
      "Epoch 39 Batch 100 Loss 1.2534 Accuracy 0.3234\n",
      "Epoch 39 Loss 1.2502 Accuracy 0.3237\n",
      "Time taken for 1 epoch: 28.115252256393433 secs\n",
      "\n",
      "Epoch 40 Batch 0 Loss 1.3461 Accuracy 0.3382\n",
      "Epoch 40 Batch 50 Loss 1.2038 Accuracy 0.3484\n",
      "Epoch 40 Batch 100 Loss 1.1866 Accuracy 0.3359\n",
      "Saving checkpoint for epoch 40 at ./checkpoints/Final_Transformer_YueEng_Char_2\\ckpt-8\n",
      "Epoch 40 Loss 1.1887 Accuracy 0.3348\n",
      "Time taken for 1 epoch: 27.933326959609985 secs\n",
      "\n",
      "Epoch 41 Batch 0 Loss 1.3207 Accuracy 0.3079\n",
      "Epoch 41 Batch 50 Loss 1.1569 Accuracy 0.3463\n",
      "Epoch 41 Batch 100 Loss 1.1380 Accuracy 0.3346\n",
      "Epoch 41 Loss 1.1379 Accuracy 0.3348\n",
      "Time taken for 1 epoch: 27.679717779159546 secs\n",
      "\n",
      "Epoch 42 Batch 0 Loss 1.1018 Accuracy 0.3529\n",
      "Epoch 42 Batch 50 Loss 1.1038 Accuracy 0.3511\n",
      "Epoch 42 Batch 100 Loss 1.0897 Accuracy 0.3397\n",
      "Epoch 42 Loss 1.0885 Accuracy 0.3398\n",
      "Time taken for 1 epoch: 27.182254552841187 secs\n",
      "\n",
      "Epoch 43 Batch 0 Loss 1.1698 Accuracy 0.3973\n",
      "Epoch 43 Batch 50 Loss 1.0395 Accuracy 0.3629\n",
      "Epoch 43 Batch 100 Loss 1.0346 Accuracy 0.3448\n",
      "Epoch 43 Loss 1.0348 Accuracy 0.3454\n",
      "Time taken for 1 epoch: 27.48815894126892 secs\n",
      "\n",
      "Epoch 44 Batch 0 Loss 1.0780 Accuracy 0.3070\n",
      "Epoch 44 Batch 50 Loss 0.9881 Accuracy 0.3653\n",
      "Epoch 44 Batch 100 Loss 0.9834 Accuracy 0.3473\n",
      "Epoch 44 Loss 0.9833 Accuracy 0.3479\n",
      "Time taken for 1 epoch: 27.559230089187622 secs\n",
      "\n",
      "Epoch 45 Batch 0 Loss 0.9269 Accuracy 0.4023\n",
      "Epoch 45 Batch 50 Loss 0.9634 Accuracy 0.3636\n",
      "Epoch 45 Batch 100 Loss 0.9479 Accuracy 0.3520\n",
      "Saving checkpoint for epoch 45 at ./checkpoints/Final_Transformer_YueEng_Char_2\\ckpt-9\n",
      "Epoch 45 Loss 0.9493 Accuracy 0.3507\n",
      "Time taken for 1 epoch: 27.29706883430481 secs\n",
      "\n",
      "Epoch 46 Batch 0 Loss 0.9253 Accuracy 0.3994\n",
      "Epoch 46 Batch 50 Loss 0.9185 Accuracy 0.3668\n",
      "Epoch 46 Batch 100 Loss 0.9062 Accuracy 0.3581\n",
      "Epoch 46 Loss 0.9071 Accuracy 0.3579\n",
      "Time taken for 1 epoch: 27.09315514564514 secs\n",
      "\n",
      "Epoch 47 Batch 0 Loss 0.8828 Accuracy 0.4115\n",
      "Epoch 47 Batch 50 Loss 0.8815 Accuracy 0.3711\n",
      "Epoch 47 Batch 100 Loss 0.8750 Accuracy 0.3610\n",
      "Epoch 47 Loss 0.8741 Accuracy 0.3601\n",
      "Time taken for 1 epoch: 27.0927095413208 secs\n",
      "\n",
      "Epoch 48 Batch 0 Loss 0.7941 Accuracy 0.2992\n",
      "Epoch 48 Batch 50 Loss 0.8621 Accuracy 0.3800\n",
      "Epoch 48 Batch 100 Loss 0.8482 Accuracy 0.3656\n",
      "Epoch 48 Loss 0.8451 Accuracy 0.3666\n",
      "Time taken for 1 epoch: 26.878106117248535 secs\n",
      "\n",
      "Epoch 49 Batch 0 Loss 0.8892 Accuracy 0.3948\n",
      "Epoch 49 Batch 50 Loss 0.8012 Accuracy 0.3810\n",
      "Epoch 49 Batch 100 Loss 0.8123 Accuracy 0.3670\n",
      "Epoch 49 Loss 0.8121 Accuracy 0.3672\n",
      "Time taken for 1 epoch: 27.857687950134277 secs\n",
      "\n",
      "Epoch 50 Batch 0 Loss 0.7729 Accuracy 0.3023\n",
      "Epoch 50 Batch 50 Loss 0.7953 Accuracy 0.3810\n",
      "Epoch 50 Batch 100 Loss 0.7885 Accuracy 0.3665\n",
      "Saving checkpoint for epoch 50 at ./checkpoints/Final_Transformer_YueEng_Char_2\\ckpt-10\n",
      "Epoch 50 Loss 0.7870 Accuracy 0.3675\n",
      "Time taken for 1 epoch: 27.4030020236969 secs\n",
      "\n",
      "Epoch 51 Batch 0 Loss 0.8028 Accuracy 0.4053\n",
      "Epoch 51 Batch 50 Loss 0.7724 Accuracy 0.3882\n",
      "Epoch 51 Batch 100 Loss 0.7584 Accuracy 0.3736\n",
      "Epoch 51 Loss 0.7575 Accuracy 0.3745\n",
      "Time taken for 1 epoch: 27.44223952293396 secs\n",
      "\n",
      "Epoch 52 Batch 0 Loss 0.7454 Accuracy 0.3989\n",
      "Epoch 52 Batch 50 Loss 0.7380 Accuracy 0.3880\n",
      "Epoch 52 Batch 100 Loss 0.7342 Accuracy 0.3778\n",
      "Epoch 52 Loss 0.7332 Accuracy 0.3774\n",
      "Time taken for 1 epoch: 27.48720669746399 secs\n",
      "\n",
      "Epoch 53 Batch 0 Loss 0.7490 Accuracy 0.4542\n",
      "Epoch 53 Batch 50 Loss 0.7150 Accuracy 0.3855\n",
      "Epoch 53 Batch 100 Loss 0.7078 Accuracy 0.3764\n",
      "Epoch 53 Loss 0.7074 Accuracy 0.3763\n",
      "Time taken for 1 epoch: 27.51180601119995 secs\n",
      "\n",
      "Epoch 54 Batch 0 Loss 0.7073 Accuracy 0.4062\n",
      "Epoch 54 Batch 50 Loss 0.6998 Accuracy 0.3931\n",
      "Epoch 54 Batch 100 Loss 0.6829 Accuracy 0.3822\n",
      "Epoch 54 Loss 0.6829 Accuracy 0.3816\n",
      "Time taken for 1 epoch: 27.840781211853027 secs\n",
      "\n",
      "Epoch 55 Batch 0 Loss 0.7118 Accuracy 0.3704\n",
      "Epoch 55 Batch 50 Loss 0.6733 Accuracy 0.3988\n",
      "Epoch 55 Batch 100 Loss 0.6712 Accuracy 0.3857\n",
      "Saving checkpoint for epoch 55 at ./checkpoints/Final_Transformer_YueEng_Char_2\\ckpt-11\n",
      "Epoch 55 Loss 0.6721 Accuracy 0.3857\n",
      "Time taken for 1 epoch: 27.473961353302002 secs\n",
      "\n",
      "Epoch 56 Batch 0 Loss 0.6503 Accuracy 0.4281\n",
      "Epoch 56 Batch 50 Loss 0.6655 Accuracy 0.3990\n",
      "Epoch 56 Batch 100 Loss 0.6583 Accuracy 0.3826\n",
      "Epoch 56 Loss 0.6572 Accuracy 0.3835\n",
      "Time taken for 1 epoch: 27.220587730407715 secs\n",
      "\n",
      "Epoch 57 Batch 0 Loss 0.5653 Accuracy 0.3732\n",
      "Epoch 57 Batch 50 Loss 0.6391 Accuracy 0.3986\n",
      "Epoch 57 Batch 100 Loss 0.6247 Accuracy 0.3882\n",
      "Epoch 57 Loss 0.6231 Accuracy 0.3886\n",
      "Time taken for 1 epoch: 27.034621953964233 secs\n",
      "\n",
      "Epoch 58 Batch 0 Loss 0.6277 Accuracy 0.3667\n",
      "Epoch 58 Batch 50 Loss 0.6162 Accuracy 0.4037\n",
      "Epoch 58 Batch 100 Loss 0.6089 Accuracy 0.3906\n",
      "Epoch 58 Loss 0.6087 Accuracy 0.3901\n",
      "Time taken for 1 epoch: 27.02816915512085 secs\n",
      "\n",
      "Epoch 59 Batch 0 Loss 0.5202 Accuracy 0.4395\n",
      "Epoch 59 Batch 50 Loss 0.5977 Accuracy 0.4029\n",
      "Epoch 59 Batch 100 Loss 0.5921 Accuracy 0.3920\n",
      "Epoch 59 Loss 0.5927 Accuracy 0.3912\n",
      "Time taken for 1 epoch: 27.191165685653687 secs\n",
      "\n",
      "Epoch 60 Batch 0 Loss 0.6512 Accuracy 0.3625\n",
      "Epoch 60 Batch 50 Loss 0.6007 Accuracy 0.4066\n",
      "Epoch 60 Batch 100 Loss 0.5909 Accuracy 0.3929\n",
      "Saving checkpoint for epoch 60 at ./checkpoints/Final_Transformer_YueEng_Char_2\\ckpt-12\n",
      "Epoch 60 Loss 0.5891 Accuracy 0.3946\n",
      "Time taken for 1 epoch: 27.06490159034729 secs\n",
      "\n",
      "Epoch 61 Batch 0 Loss 0.4814 Accuracy 0.4209\n",
      "Epoch 61 Batch 50 Loss 0.5749 Accuracy 0.4106\n",
      "Epoch 61 Batch 100 Loss 0.5680 Accuracy 0.3994\n",
      "Epoch 61 Loss 0.5668 Accuracy 0.3992\n",
      "Time taken for 1 epoch: 26.60291838645935 secs\n",
      "\n",
      "Epoch 62 Batch 0 Loss 0.6130 Accuracy 0.3711\n",
      "Epoch 62 Batch 50 Loss 0.5522 Accuracy 0.4150\n",
      "Epoch 62 Batch 100 Loss 0.5510 Accuracy 0.4000\n",
      "Epoch 62 Loss 0.5499 Accuracy 0.3996\n",
      "Time taken for 1 epoch: 26.91013765335083 secs\n",
      "\n",
      "Epoch 63 Batch 0 Loss 0.5074 Accuracy 0.3742\n",
      "Epoch 63 Batch 50 Loss 0.5218 Accuracy 0.4154\n",
      "Epoch 63 Batch 100 Loss 0.5248 Accuracy 0.4014\n",
      "Epoch 63 Loss 0.5233 Accuracy 0.4009\n",
      "Time taken for 1 epoch: 26.985177516937256 secs\n",
      "\n",
      "Epoch 64 Batch 0 Loss 0.5173 Accuracy 0.4044\n",
      "Epoch 64 Batch 50 Loss 0.5243 Accuracy 0.4166\n",
      "Epoch 64 Batch 100 Loss 0.5275 Accuracy 0.4021\n",
      "Epoch 64 Loss 0.5279 Accuracy 0.4030\n",
      "Time taken for 1 epoch: 27.115224361419678 secs\n",
      "\n",
      "Epoch 65 Batch 0 Loss 0.5659 Accuracy 0.4531\n",
      "Epoch 65 Batch 50 Loss 0.5083 Accuracy 0.4194\n",
      "Epoch 65 Batch 100 Loss 0.5134 Accuracy 0.4009\n",
      "Saving checkpoint for epoch 65 at ./checkpoints/Final_Transformer_YueEng_Char_2\\ckpt-13\n",
      "Epoch 65 Loss 0.5151 Accuracy 0.4018\n",
      "Time taken for 1 epoch: 27.428142309188843 secs\n",
      "\n",
      "Epoch 66 Batch 0 Loss 0.5654 Accuracy 0.3925\n",
      "Epoch 66 Batch 50 Loss 0.5130 Accuracy 0.4164\n",
      "Epoch 66 Batch 100 Loss 0.5099 Accuracy 0.4005\n",
      "Epoch 66 Loss 0.5086 Accuracy 0.4023\n",
      "Time taken for 1 epoch: 27.049044370651245 secs\n",
      "\n",
      "Epoch 67 Batch 0 Loss 0.4615 Accuracy 0.4072\n",
      "Epoch 67 Batch 50 Loss 0.4843 Accuracy 0.4171\n",
      "Epoch 67 Batch 100 Loss 0.4862 Accuracy 0.4088\n",
      "Epoch 67 Loss 0.4863 Accuracy 0.4083\n",
      "Time taken for 1 epoch: 26.82912039756775 secs\n",
      "\n",
      "Epoch 68 Batch 0 Loss 0.4670 Accuracy 0.4026\n",
      "Epoch 68 Batch 50 Loss 0.4812 Accuracy 0.4204\n",
      "Epoch 68 Batch 100 Loss 0.4824 Accuracy 0.4061\n",
      "Epoch 68 Loss 0.4811 Accuracy 0.4068\n",
      "Time taken for 1 epoch: 27.185138702392578 secs\n",
      "\n",
      "Epoch 69 Batch 0 Loss 0.4896 Accuracy 0.4173\n",
      "Epoch 69 Batch 50 Loss 0.4699 Accuracy 0.4219\n",
      "Epoch 69 Batch 100 Loss 0.4644 Accuracy 0.4047\n"
     ]
    },
    {
     "name": "stdout",
     "output_type": "stream",
     "text": [
      "Epoch 69 Loss 0.4646 Accuracy 0.4052\n",
      "Time taken for 1 epoch: 27.258610725402832 secs\n",
      "\n",
      "Epoch 70 Batch 0 Loss 0.5262 Accuracy 0.4729\n",
      "Epoch 70 Batch 50 Loss 0.4668 Accuracy 0.4221\n",
      "Epoch 70 Batch 100 Loss 0.4606 Accuracy 0.4122\n",
      "Saving checkpoint for epoch 70 at ./checkpoints/Final_Transformer_YueEng_Char_2\\ckpt-14\n",
      "Epoch 70 Loss 0.4597 Accuracy 0.4116\n",
      "Time taken for 1 epoch: 27.091311931610107 secs\n",
      "\n",
      "Epoch 71 Batch 0 Loss 0.4878 Accuracy 0.3359\n",
      "Epoch 71 Batch 50 Loss 0.4513 Accuracy 0.4221\n",
      "Epoch 71 Batch 100 Loss 0.4512 Accuracy 0.4090\n",
      "Epoch 71 Loss 0.4521 Accuracy 0.4098\n",
      "Time taken for 1 epoch: 26.74321436882019 secs\n",
      "\n",
      "Epoch 72 Batch 0 Loss 0.4886 Accuracy 0.3445\n",
      "Epoch 72 Batch 50 Loss 0.4401 Accuracy 0.4290\n",
      "Epoch 72 Batch 100 Loss 0.4402 Accuracy 0.4181\n",
      "Epoch 72 Loss 0.4395 Accuracy 0.4178\n",
      "Time taken for 1 epoch: 26.70964765548706 secs\n",
      "\n",
      "Epoch 73 Batch 0 Loss 0.4185 Accuracy 0.4329\n",
      "Epoch 73 Batch 50 Loss 0.4375 Accuracy 0.4289\n",
      "Epoch 73 Batch 100 Loss 0.4333 Accuracy 0.4159\n",
      "Epoch 73 Loss 0.4331 Accuracy 0.4158\n",
      "Time taken for 1 epoch: 27.022709131240845 secs\n",
      "\n",
      "Epoch 74 Batch 0 Loss 0.4521 Accuracy 0.3289\n",
      "Epoch 74 Batch 50 Loss 0.4223 Accuracy 0.4247\n",
      "Epoch 74 Batch 100 Loss 0.4183 Accuracy 0.4104\n",
      "Epoch 74 Loss 0.4180 Accuracy 0.4112\n",
      "Time taken for 1 epoch: 26.994120359420776 secs\n",
      "\n",
      "Epoch 75 Batch 0 Loss 0.3808 Accuracy 0.4760\n",
      "Epoch 75 Batch 50 Loss 0.4149 Accuracy 0.4235\n",
      "Epoch 75 Batch 100 Loss 0.4180 Accuracy 0.4131\n",
      "Saving checkpoint for epoch 75 at ./checkpoints/Final_Transformer_YueEng_Char_2\\ckpt-15\n",
      "Epoch 75 Loss 0.4159 Accuracy 0.4141\n",
      "Time taken for 1 epoch: 27.089017868041992 secs\n",
      "\n",
      "Epoch 76 Batch 0 Loss 0.4352 Accuracy 0.4081\n",
      "Epoch 76 Batch 50 Loss 0.4185 Accuracy 0.4270\n",
      "Epoch 76 Batch 100 Loss 0.4100 Accuracy 0.4178\n",
      "Epoch 76 Loss 0.4093 Accuracy 0.4178\n",
      "Time taken for 1 epoch: 27.112743854522705 secs\n",
      "\n",
      "Epoch 77 Batch 0 Loss 0.3902 Accuracy 0.4651\n",
      "Epoch 77 Batch 50 Loss 0.4026 Accuracy 0.4250\n",
      "Epoch 77 Batch 100 Loss 0.3968 Accuracy 0.4163\n",
      "Epoch 77 Loss 0.3965 Accuracy 0.4172\n",
      "Time taken for 1 epoch: 27.136136293411255 secs\n",
      "\n",
      "Epoch 78 Batch 0 Loss 0.3987 Accuracy 0.4799\n",
      "Epoch 78 Batch 50 Loss 0.4021 Accuracy 0.4225\n",
      "Epoch 78 Batch 100 Loss 0.4016 Accuracy 0.4158\n",
      "Epoch 78 Loss 0.4018 Accuracy 0.4154\n",
      "Time taken for 1 epoch: 27.15118169784546 secs\n",
      "\n",
      "Epoch 79 Batch 0 Loss 0.4526 Accuracy 0.3313\n",
      "Epoch 79 Batch 50 Loss 0.3955 Accuracy 0.4269\n",
      "Epoch 79 Batch 100 Loss 0.3895 Accuracy 0.4166\n",
      "Epoch 79 Loss 0.3904 Accuracy 0.4159\n",
      "Time taken for 1 epoch: 27.074116706848145 secs\n",
      "\n",
      "Epoch 80 Batch 0 Loss 0.4155 Accuracy 0.3602\n",
      "Epoch 80 Batch 50 Loss 0.3865 Accuracy 0.4268\n",
      "Epoch 80 Batch 100 Loss 0.3843 Accuracy 0.4151\n",
      "Saving checkpoint for epoch 80 at ./checkpoints/Final_Transformer_YueEng_Char_2\\ckpt-16\n",
      "Epoch 80 Loss 0.3841 Accuracy 0.4151\n",
      "Time taken for 1 epoch: 27.29805302619934 secs\n",
      "\n",
      "Epoch 81 Batch 0 Loss 0.3683 Accuracy 0.5337\n",
      "Epoch 81 Batch 50 Loss 0.3716 Accuracy 0.4414\n",
      "Epoch 81 Batch 100 Loss 0.3705 Accuracy 0.4200\n",
      "Epoch 81 Loss 0.3703 Accuracy 0.4198\n",
      "Time taken for 1 epoch: 30.04525113105774 secs\n",
      "\n",
      "Epoch 82 Batch 0 Loss 0.3676 Accuracy 0.3695\n",
      "Epoch 82 Batch 50 Loss 0.3683 Accuracy 0.4432\n",
      "Epoch 82 Batch 100 Loss 0.3687 Accuracy 0.4226\n",
      "Epoch 82 Loss 0.3699 Accuracy 0.4219\n",
      "Time taken for 1 epoch: 27.774720191955566 secs\n",
      "\n",
      "Epoch 83 Batch 0 Loss 0.3546 Accuracy 0.3930\n",
      "Epoch 83 Batch 50 Loss 0.3703 Accuracy 0.4377\n",
      "Epoch 83 Batch 100 Loss 0.3662 Accuracy 0.4224\n",
      "Epoch 83 Loss 0.3648 Accuracy 0.4223\n",
      "Time taken for 1 epoch: 27.1902015209198 secs\n",
      "\n",
      "Epoch 84 Batch 0 Loss 0.3626 Accuracy 0.4209\n",
      "Epoch 84 Batch 50 Loss 0.3643 Accuracy 0.4346\n",
      "Epoch 84 Batch 100 Loss 0.3616 Accuracy 0.4214\n",
      "Epoch 84 Loss 0.3610 Accuracy 0.4222\n",
      "Time taken for 1 epoch: 27.25269865989685 secs\n",
      "\n",
      "Epoch 85 Batch 0 Loss 0.3981 Accuracy 0.4844\n",
      "Epoch 85 Batch 50 Loss 0.3633 Accuracy 0.4338\n",
      "Epoch 85 Batch 100 Loss 0.3584 Accuracy 0.4223\n",
      "Saving checkpoint for epoch 85 at ./checkpoints/Final_Transformer_YueEng_Char_2\\ckpt-17\n",
      "Epoch 85 Loss 0.3590 Accuracy 0.4231\n",
      "Time taken for 1 epoch: 27.181705951690674 secs\n",
      "\n",
      "Epoch 86 Batch 0 Loss 0.3505 Accuracy 0.4246\n",
      "Epoch 86 Batch 50 Loss 0.3507 Accuracy 0.4371\n",
      "Epoch 86 Batch 100 Loss 0.3465 Accuracy 0.4237\n",
      "Epoch 86 Loss 0.3479 Accuracy 0.4234\n",
      "Time taken for 1 epoch: 27.292956590652466 secs\n",
      "\n",
      "Epoch 87 Batch 0 Loss 0.3711 Accuracy 0.5104\n",
      "Epoch 87 Batch 50 Loss 0.3387 Accuracy 0.4385\n",
      "Epoch 87 Batch 100 Loss 0.3387 Accuracy 0.4246\n",
      "Epoch 87 Loss 0.3400 Accuracy 0.4248\n",
      "Time taken for 1 epoch: 28.206156730651855 secs\n",
      "\n",
      "Epoch 88 Batch 0 Loss 0.3664 Accuracy 0.4297\n",
      "Epoch 88 Batch 50 Loss 0.3424 Accuracy 0.4351\n",
      "Epoch 88 Batch 100 Loss 0.3372 Accuracy 0.4244\n",
      "Epoch 88 Loss 0.3370 Accuracy 0.4246\n",
      "Time taken for 1 epoch: 27.18668222427368 secs\n",
      "\n",
      "Epoch 89 Batch 0 Loss 0.2806 Accuracy 0.3898\n",
      "Epoch 89 Batch 50 Loss 0.3258 Accuracy 0.4466\n",
      "Epoch 89 Batch 100 Loss 0.3298 Accuracy 0.4253\n",
      "Epoch 89 Loss 0.3291 Accuracy 0.4267\n",
      "Time taken for 1 epoch: 27.03819227218628 secs\n",
      "\n",
      "Epoch 90 Batch 0 Loss 0.2814 Accuracy 0.4494\n",
      "Epoch 90 Batch 50 Loss 0.3285 Accuracy 0.4399\n",
      "Epoch 90 Batch 100 Loss 0.3254 Accuracy 0.4258\n",
      "Saving checkpoint for epoch 90 at ./checkpoints/Final_Transformer_YueEng_Char_2\\ckpt-18\n",
      "Epoch 90 Loss 0.3255 Accuracy 0.4255\n",
      "Time taken for 1 epoch: 27.496267080307007 secs\n",
      "\n",
      "Epoch 91 Batch 0 Loss 0.4185 Accuracy 0.4035\n",
      "Epoch 91 Batch 50 Loss 0.3295 Accuracy 0.4397\n",
      "Epoch 91 Batch 100 Loss 0.3266 Accuracy 0.4231\n",
      "Epoch 91 Loss 0.3250 Accuracy 0.4238\n",
      "Time taken for 1 epoch: 27.60228967666626 secs\n",
      "\n",
      "Epoch 92 Batch 0 Loss 0.3061 Accuracy 0.4844\n",
      "Epoch 92 Batch 50 Loss 0.3198 Accuracy 0.4453\n",
      "Epoch 92 Batch 100 Loss 0.3219 Accuracy 0.4267\n",
      "Epoch 92 Loss 0.3210 Accuracy 0.4271\n",
      "Time taken for 1 epoch: 26.972309827804565 secs\n",
      "\n",
      "Epoch 93 Batch 0 Loss 0.3319 Accuracy 0.4512\n",
      "Epoch 93 Batch 50 Loss 0.3140 Accuracy 0.4395\n",
      "Epoch 93 Batch 100 Loss 0.3126 Accuracy 0.4262\n",
      "Epoch 93 Loss 0.3122 Accuracy 0.4273\n",
      "Time taken for 1 epoch: 27.030743837356567 secs\n",
      "\n",
      "Epoch 94 Batch 0 Loss 0.3462 Accuracy 0.4502\n",
      "Epoch 94 Batch 50 Loss 0.3122 Accuracy 0.4389\n",
      "Epoch 94 Batch 100 Loss 0.3107 Accuracy 0.4250\n",
      "Epoch 94 Loss 0.3117 Accuracy 0.4254\n",
      "Time taken for 1 epoch: 27.314697742462158 secs\n",
      "\n",
      "Epoch 95 Batch 0 Loss 0.3305 Accuracy 0.4375\n",
      "Epoch 95 Batch 50 Loss 0.3088 Accuracy 0.4379\n",
      "Epoch 95 Batch 100 Loss 0.3059 Accuracy 0.4319\n",
      "Saving checkpoint for epoch 95 at ./checkpoints/Final_Transformer_YueEng_Char_2\\ckpt-19\n",
      "Epoch 95 Loss 0.3065 Accuracy 0.4303\n",
      "Time taken for 1 epoch: 27.224690198898315 secs\n",
      "\n",
      "Epoch 96 Batch 0 Loss 0.3612 Accuracy 0.4357\n",
      "Epoch 96 Batch 50 Loss 0.3018 Accuracy 0.4528\n",
      "Epoch 96 Batch 100 Loss 0.3004 Accuracy 0.4351\n",
      "Epoch 96 Loss 0.2996 Accuracy 0.4334\n",
      "Time taken for 1 epoch: 27.444194078445435 secs\n",
      "\n",
      "Epoch 97 Batch 0 Loss 0.3226 Accuracy 0.4978\n",
      "Epoch 97 Batch 50 Loss 0.3036 Accuracy 0.4466\n",
      "Epoch 97 Batch 100 Loss 0.3016 Accuracy 0.4349\n",
      "Epoch 97 Loss 0.3018 Accuracy 0.4345\n",
      "Time taken for 1 epoch: 27.06861114501953 secs\n",
      "\n",
      "Epoch 98 Batch 0 Loss 0.3392 Accuracy 0.3438\n",
      "Epoch 98 Batch 50 Loss 0.2956 Accuracy 0.4429\n",
      "Epoch 98 Batch 100 Loss 0.2909 Accuracy 0.4300\n",
      "Epoch 98 Loss 0.2909 Accuracy 0.4299\n",
      "Time taken for 1 epoch: 28.313245058059692 secs\n",
      "\n",
      "Epoch 99 Batch 0 Loss 0.3161 Accuracy 0.4320\n",
      "Epoch 99 Batch 50 Loss 0.2907 Accuracy 0.4493\n",
      "Epoch 99 Batch 100 Loss 0.2935 Accuracy 0.4308\n",
      "Epoch 99 Loss 0.2933 Accuracy 0.4277\n",
      "Time taken for 1 epoch: 27.890739917755127 secs\n",
      "\n",
      "Epoch 100 Batch 0 Loss 0.2861 Accuracy 0.4320\n",
      "Epoch 100 Batch 50 Loss 0.2925 Accuracy 0.4481\n",
      "Epoch 100 Batch 100 Loss 0.2891 Accuracy 0.4337\n",
      "Saving checkpoint for epoch 100 at ./checkpoints/Final_Transformer_YueEng_Char_2\\ckpt-20\n",
      "Epoch 100 Loss 0.2880 Accuracy 0.4342\n",
      "Time taken for 1 epoch: 27.55970549583435 secs\n",
      "\n"
     ]
    }
   ],
   "source": [
    "summary_writer = tf.summary.create_file_writer(log_dir)\n",
    "for epoch in range(EPOCHS):\n",
    "  start = time.time()\n",
    "  \n",
    "  train_loss.reset_states()\n",
    "  train_accuracy.reset_states()\n",
    "  \n",
    "  for (batch, (inp, tar)) in enumerate(train_dataset):\n",
    "    train_step(inp, tar)\n",
    "    \n",
    "    if batch % 50 == 0:\n",
    "      print ('Epoch {} Batch {} Loss {:.4f} Accuracy {:.4f}'.format(\n",
    "          epoch + 1, batch, train_loss.result(), train_accuracy.result()))\n",
    "      \n",
    "  if (epoch + 1) % 5 == 0:\n",
    "    ckpt_save_path = ckpt_manager.save()\n",
    "    print ('Saving checkpoint for epoch {} at {}'.format(epoch+1,\n",
    "                                                         ckpt_save_path))\n",
    "    \n",
    "  # Save output to TensorBoard\n",
    "  with summary_writer.as_default():\n",
    "    tf.summary.scalar(\"train_loss\", train_loss.result(), step=epoch + 1)\n",
    "    tf.summary.scalar(\"train_acc\", train_accuracy.result(), step=epoch + 1)\n",
    "    \n",
    "  print ('Epoch {} Loss {:.4f} Accuracy {:.4f}'.format(epoch + 1, \n",
    "                                                train_loss.result(), \n",
    "                                                train_accuracy.result()))\n",
    "\n",
    "  print ('Time taken for 1 epoch: {} secs\\n'.format(time.time() - start))"
   ]
  },
  {
   "cell_type": "markdown",
   "metadata": {
    "id": "QfcsSWswSdGV"
   },
   "source": [
    "## Evaluate"
   ]
  },
  {
   "cell_type": "markdown",
   "metadata": {
    "id": "y6APsFrgImLW"
   },
   "source": [
    "The following steps are used for evaluation:\n",
    "\n",
    "* Encode the input sentence using the `input_tokenizer`. Moreover, add the start and end token so the input is equivalent to what the model is trained with. This is the encoder input.\n",
    "* The decoder input is the `start token == target_tokenizer.vocab_size`.\n",
    "* Calculate the padding masks and the look ahead masks.\n",
    "* The `decoder` then outputs the predictions by looking at the `encoder output` and its own output (self-attention).\n",
    "* Select the last word and calculate the argmax of that.\n",
    "* Concatentate the predicted word to the decoder input as pass it to the decoder.\n",
    "* In this approach, the decoder predicts the next word based on the previous words it predicted."
   ]
  },
  {
   "cell_type": "code",
   "execution_count": 61,
   "metadata": {
    "id": "5buvMlnvyrFm"
   },
   "outputs": [],
   "source": [
    "def evaluate(inp_sentence):\n",
    "  start_token = [input_tokenizer.vocab_size]\n",
    "  end_token = [input_tokenizer.vocab_size + 1]\n",
    "  \n",
    "  inp_sentence = start_token + input_tokenizer.encode(inp_sentence) + end_token\n",
    "  encoder_input = tf.expand_dims(inp_sentence, 0)\n",
    "  \n",
    "  decoder_input = [target_tokenizer.vocab_size]\n",
    "  output = tf.expand_dims(decoder_input, 0)\n",
    "    \n",
    "  for i in range(MAX_LENGTH):\n",
    "    enc_padding_mask, combined_mask, dec_padding_mask = create_masks(\n",
    "        encoder_input, output)\n",
    "  \n",
    "    # predictions.shape == (batch_size, seq_len, vocab_size)\n",
    "    predictions, attention_weights = transformer(encoder_input, \n",
    "                                                 output,\n",
    "                                                 False,\n",
    "                                                 enc_padding_mask,\n",
    "                                                 combined_mask,\n",
    "                                                 dec_padding_mask)\n",
    "    \n",
    "    # select the last word from the seq_len dimension\n",
    "    predictions = predictions[: ,-1:, :]  # (batch_size, 1, vocab_size)\n",
    "\n",
    "    predicted_id = tf.cast(tf.argmax(predictions, axis=-1), tf.int32)\n",
    "    \n",
    "    # return the result if the predicted_id is equal to the end token\n",
    "    if predicted_id == target_tokenizer.vocab_size+1:\n",
    "      return tf.squeeze(output, axis=0), attention_weights\n",
    "    \n",
    "    # concatentate the predicted_id to the output which is given to the decoder\n",
    "    # as its input.\n",
    "    output = tf.concat([output, predicted_id], axis=-1)\n",
    "\n",
    "  return tf.squeeze(output, axis=0), attention_weights"
   ]
  },
  {
   "cell_type": "code",
   "execution_count": 62,
   "metadata": {},
   "outputs": [],
   "source": [
    "# Chinese font in matplotlib\n",
    "from matplotlib.font_manager import FontProperties\n",
    "import wget\n",
    "# !wget -qO taipei_sans_tc_beta.ttf https://drive.google.com/uc?id=1eGAsTN1HBpJAkeVM57_C7ccp7hbgSz3_&export=download\n",
    "# !mv taipei_sans_tc_beta.ttf /usr/local/lib/python3.6/dist-packages/matplotlib//mpl-data/fonts/ttf\n",
    "# chinese = FontProperties(fname=r'/usr/local/lib/python3.6/dist-packages/matplotlib/mpl-data/fonts/ttf/taipei_sans_tc_beta.ttf')\n",
    "if not os.path.isfile('taipei_sans_tc_beta.ttf'):\n",
    "    wget.download('https://drive.google.com/uc?id=1eGAsTN1HBpJAkeVM57_C7ccp7hbgSz3_&export=download', 'taipei_sans_tc_beta.ttf')\n",
    "chinese = FontProperties(fname=r'taipei_sans_tc_beta.ttf')"
   ]
  },
  {
   "cell_type": "code",
   "execution_count": 63,
   "metadata": {
    "id": "CN-BV43FMBej"
   },
   "outputs": [],
   "source": [
    "def plot_attention_weights(attention, sentence, result, layer):\n",
    "  fig = plt.figure(figsize=(16, 8))\n",
    "  \n",
    "  sentence = input_tokenizer.encode(sentence)\n",
    "  \n",
    "  attention = tf.squeeze(attention[layer], axis=0)\n",
    "  \n",
    "  for head in range(attention.shape[0]):\n",
    "    ax = fig.add_subplot(2, 4, head+1)\n",
    "    \n",
    "    # plot the attention weights\n",
    "    ax.matshow(attention[head][:-1, :], cmap='viridis')\n",
    "\n",
    "    # show Chinese character\n",
    "    fontdict = {\"fontproperties\": chinese}\n",
    "    \n",
    "    ax.set_xticks(range(len(sentence)+2))\n",
    "    ax.set_yticks(range(len(result)))\n",
    "    \n",
    "    ax.set_ylim(len(result)-1.5, -0.5)\n",
    "        \n",
    "    ax.set_xticklabels(\n",
    "        ['<start>']+[input_tokenizer.decode([i]) for i in sentence]+['<end>'], \n",
    "        fontdict=fontdict, rotation=90)\n",
    "    \n",
    "    ax.set_yticklabels([target_tokenizer.decode([i]) for i in result \n",
    "                        if i < target_tokenizer.vocab_size], \n",
    "                       fontdict=fontdict)\n",
    "    \n",
    "    ax.set_xlabel('Head {}'.format(head+1))\n",
    "  \n",
    "  plt.tight_layout()\n",
    "  plt.show()"
   ]
  },
  {
   "cell_type": "code",
   "execution_count": 64,
   "metadata": {
    "id": "lU2_yG_vBGza"
   },
   "outputs": [],
   "source": [
    "def translate(sentence, plot=''):\n",
    "  result, attention_weights = evaluate(sentence)\n",
    "  \n",
    "  predicted_sentence = target_tokenizer.decode([i for i in result \n",
    "                                            if i < target_tokenizer.vocab_size])  \n",
    "\n",
    "  print('Input: {}'.format(sentence))\n",
    "  print('Predicted translation: {}'.format(predicted_sentence))\n",
    "  \n",
    "  if plot:\n",
    "    plot_attention_weights(attention_weights, sentence, result, plot)"
   ]
  },
  {
   "cell_type": "code",
   "execution_count": 65,
   "metadata": {
    "id": "gZwVWTohOv4_",
    "scrolled": false
   },
   "outputs": [
    {
     "name": "stdout",
     "output_type": "stream",
     "text": [
      "不 可 思 議 地\n",
      "Remarkably \n",
      "\n",
      "Input: 不 可 思 議 地\n",
      "Predicted translation: were improved so dramatically\n"
     ]
    },
    {
     "data": {
      "image/png": "[encoded data removed]",
      "text/plain": [
       "<Figure size 1152x576 with 4 Axes>"
      ]
     },
     "metadata": {
      "needs_background": "light"
     },
     "output_type": "display_data"
    }
   ],
   "source": [
    "row = df_test.sample()\n",
    "inp = row[inp_lang].values[0]\n",
    "tar = row[tar_lang].values[0]\n",
    "print(inp)\n",
    "print(tar, '\\n')\n",
    "\n",
    "translate(inp, plot='decoder_layer1_block1')"
   ]
  },
  {
   "cell_type": "code",
   "execution_count": 66,
   "metadata": {},
   "outputs": [
    {
     "name": "stdout",
     "output_type": "stream",
     "text": [
      "Model: \"transformer_1\"\n",
      "_________________________________________________________________\n",
      "Layer (type)                 Output Shape              Param #   \n",
      "=================================================================\n",
      "encoder_2 (Encoder)          multiple                  313536    \n",
      "_________________________________________________________________\n",
      "decoder_2 (Decoder)          multiple                  632256    \n",
      "_________________________________________________________________\n",
      "dense_119 (Dense)            multiple                  506545    \n",
      "=================================================================\n",
      "Total params: 1,452,337\n",
      "Trainable params: 1,452,337\n",
      "Non-trainable params: 0\n",
      "_________________________________________________________________\n"
     ]
    }
   ],
   "source": [
    "transformer.summary()"
   ]
  },
  {
   "cell_type": "code",
   "execution_count": 67,
   "metadata": {},
   "outputs": [],
   "source": [
    "def translateTest(sentence):\n",
    "  result, attention_weights = evaluate(sentence)\n",
    "  \n",
    "  sentence = input_tokenizer.encode(sentence)\n",
    "  sentence = ' '.join([input_tokenizer.decode([i]) for i in sentence])\n",
    "  predicted_sentence = target_tokenizer.decode([i for i in result \n",
    "                                            if i < target_tokenizer.vocab_size])  \n",
    "\n",
    "#   print('Input: {}'.format(sentence))\n",
    "#   print('Predicted translation: {}'.format(predicted_sentence))\n",
    "  return sentence, predicted_sentence"
   ]
  },
  {
   "cell_type": "code",
   "execution_count": 68,
   "metadata": {},
   "outputs": [
    {
     "name": "stdout",
     "output_type": "stream",
     "text": [
      "Progress: 50 / 1696 in 18.17069673538208 s\n",
      "Progress: 100 / 1696 in 17.59072208404541 s\n",
      "Progress: 150 / 1696 in 15.589042901992798 s\n",
      "Progress: 200 / 1696 in 17.72680974006653 s\n",
      "Progress: 250 / 1696 in 16.223211526870728 s\n",
      "Progress: 300 / 1696 in 17.40000319480896 s\n",
      "Progress: 350 / 1696 in 19.55484962463379 s\n",
      "Progress: 400 / 1696 in 17.476229429244995 s\n",
      "Progress: 450 / 1696 in 17.856425762176514 s\n",
      "Progress: 500 / 1696 in 18.412208795547485 s\n",
      "Progress: 550 / 1696 in 19.396414041519165 s\n",
      "Progress: 600 / 1696 in 18.11837863922119 s\n",
      "Progress: 650 / 1696 in 17.64035677909851 s\n",
      "Progress: 700 / 1696 in 17.9101984500885 s\n",
      "Progress: 750 / 1696 in 17.959959983825684 s\n",
      "Progress: 800 / 1696 in 16.877678632736206 s\n",
      "Progress: 850 / 1696 in 17.978681564331055 s\n",
      "Progress: 900 / 1696 in 20.06484317779541 s\n",
      "Progress: 950 / 1696 in 16.630479097366333 s\n",
      "Progress: 1000 / 1696 in 18.026911973953247 s\n",
      "Progress: 1050 / 1696 in 17.517011165618896 s\n",
      "Progress: 1100 / 1696 in 15.286872625350952 s\n",
      "Progress: 1150 / 1696 in 17.696186780929565 s\n",
      "Progress: 1200 / 1696 in 18.13117504119873 s\n",
      "Progress: 1250 / 1696 in 18.910447359085083 s\n",
      "Progress: 1300 / 1696 in 18.497350454330444 s\n",
      "Progress: 1350 / 1696 in 17.306264877319336 s\n",
      "Progress: 1400 / 1696 in 17.85954976081848 s\n",
      "Progress: 1450 / 1696 in 16.63907265663147 s\n",
      "Progress: 1500 / 1696 in 18.81809639930725 s\n",
      "Progress: 1550 / 1696 in 16.78189706802368 s\n",
      "Progress: 1600 / 1696 in 16.477365016937256 s\n",
      "Progress: 1650 / 1696 in 17.2351815700531 s\n",
      "\n",
      "ToTal: 1696 / 1696 in 599.8437705039978 s\n"
     ]
    }
   ],
   "source": [
    "TotalTime = time.time()\n",
    "start = time.time()\n",
    "\n",
    "ori = []\n",
    "ref = []\n",
    "can = []\n",
    "num_test = 0\n",
    "\n",
    "for index, row in df_test.iterrows():\n",
    "    inp = row[inp_lang]\n",
    "    tar = row[tar_lang]\n",
    "    num_test += 1\n",
    "    o, pre = translateTest(inp)\n",
    "    ori.append(o)\n",
    "    ref.append(tar)\n",
    "    if YueChar:\n",
    "        can.append(spliteKeyWord(pre))\n",
    "    else:\n",
    "        can.append(pre)\n",
    "    if num_test % 50 == 0:\n",
    "        print(f'Progress: {num_test} / {len(df_test)} in {time.time()-start} s')\n",
    "        start = time.time()\n",
    "        \n",
    "print(f'\\nToTal: {num_test} / {len(df_test)} in {time.time()-TotalTime} s')"
   ]
  },
  {
   "cell_type": "code",
   "execution_count": 69,
   "metadata": {},
   "outputs": [
    {
     "name": "stdout",
     "output_type": "stream",
     "text": [
      "所   以   我   決   定   睇   嚇   如   果   你   係   按   照   聖   經   字   面   上   的   意   思   過   活   嘅   話   會   發   生   什   麼   事\n",
      "So I decided what if you really did take the Bible literally\n",
      "So he decided to go where you but they were there\n",
      "BLEU: 9.700071643816312\n"
     ]
    }
   ],
   "source": [
    "import nltk\n",
    "from nltk.translate.bleu_score import sentence_bleu\n",
    "from nltk.translate.bleu_score import corpus_bleu\n",
    "from nltk.translate.bleu_score import SmoothingFunction\n",
    "\n",
    "import random\n",
    "ran = random.randint(1, len(ref))\n",
    "print(ori[ran])\n",
    "print(ref[ran])\n",
    "print(can[ran])\n",
    "\n",
    "smoothie = SmoothingFunction().method4\n",
    "print('BLEU:', sentence_bleu(ref[ran], can[ran], smoothing_function=smoothie)*100)"
   ]
  },
  {
   "cell_type": "code",
   "execution_count": 70,
   "metadata": {},
   "outputs": [
    {
     "name": "stdout",
     "output_type": "stream",
     "text": [
      "BLEU-c: 2.5166839218053023\n"
     ]
    }
   ],
   "source": [
    "# Sentence-based and average score\n",
    "# score = 0\n",
    "# for i in range(len(ref)):\n",
    "#     r = [ref[i].split()]\n",
    "#     c = can[i].split()\n",
    "#     score += sentence_bleu(r, c, smoothing_function=smoothie)*100\n",
    "# print('BLEU-s:', score/len(ref))\n",
    "\n",
    "# Corpus based, summing all nominator and denominator before division\n",
    "r = [[r.split()] for r in ref]\n",
    "c = [c.split() for c in can]\n",
    "score = corpus_bleu(r, c, smoothing_function=smoothie)*100\n",
    "print('BLEU-c:', score)"
   ]
  }
 ],
 "metadata": {
  "accelerator": "GPU",
  "colab": {
   "collapsed_sections": [],
   "name": "Transformer",
   "provenance": []
  },
  "kernelspec": {
   "display_name": "Python 3",
   "language": "python",
   "name": "python3"
  },
  "language_info": {
   "codemirror_mode": {
    "name": "ipython",
    "version": 3
   },
   "file_extension": ".py",
   "mimetype": "text/x-python",
   "name": "python",
   "nbconvert_exporter": "python",
   "pygments_lexer": "ipython3",
   "version": "3.8.5"
  }
 },
 "nbformat": 4,
 "nbformat_minor": 1
}
