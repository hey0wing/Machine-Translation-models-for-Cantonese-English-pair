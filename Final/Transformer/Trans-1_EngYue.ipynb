{
 "cells": [
  {
   "cell_type": "markdown",
   "metadata": {
    "id": "J0Qjg6vuaHNt"
   },
   "source": [
    "# Transformer model for language understanding"
   ]
  },
  {
   "cell_type": "markdown",
   "metadata": {
    "id": "Xu2cV7D4kBFi"
   },
   "source": [
    "FYP: Machine translation models for Cantonese-English pair"
   ]
  },
  {
   "cell_type": "code",
   "execution_count": 1,
   "metadata": {
    "colab": {
     "base_uri": "https://localhost:8080/"
    },
    "id": "XFG0NDRu5mYQ",
    "outputId": "10b72e31-4689-4efc-9406-9dac3da5c01e"
   },
   "outputs": [],
   "source": [
    "!pip install -q tfds-nightly\n",
    "\n",
    "# Pin matplotlib version to 3.2.2 since in the latest version\n",
    "# transformer.ipynb fails with the following error:\n",
    "# https://stackoverflow.com/questions/62953704/valueerror-the-number-of-fixedlocator-locations-5-usually-from-a-call-to-set\n",
    "!pip install -q matplotlib==3.2.2\n",
    "!pip install -q wget\n",
    "\n",
    "!pip install -q tensorflow"
   ]
  },
  {
   "cell_type": "code",
   "execution_count": 2,
   "metadata": {
    "id": "JjJJyJTZYebt"
   },
   "outputs": [],
   "source": [
    "import tensorflow_datasets as tfds\n",
    "import tensorflow as tf\n",
    "\n",
    "import re\n",
    "import time\n",
    "import numpy as np\n",
    "import matplotlib.pyplot as plt"
   ]
  },
  {
   "cell_type": "markdown",
   "metadata": {
    "id": "fd1NWMxjfsDd"
   },
   "source": [
    "## Setup input pipeline"
   ]
  },
  {
   "cell_type": "code",
   "execution_count": 3,
   "metadata": {
    "colab": {
     "base_uri": "https://localhost:8080/",
     "height": 204
    },
    "id": "QWviV8YdYh-C",
    "outputId": "6e3bf9d5-5632-4d95-a958-b4196327e03c"
   },
   "outputs": [
    {
     "data": {
      "text/html": [
       "<div>\n",
       "<style scoped>\n",
       "    .dataframe tbody tr th:only-of-type {\n",
       "        vertical-align: middle;\n",
       "    }\n",
       "\n",
       "    .dataframe tbody tr th {\n",
       "        vertical-align: top;\n",
       "    }\n",
       "\n",
       "    .dataframe thead th {\n",
       "        text-align: right;\n",
       "    }\n",
       "</style>\n",
       "<table border=\"1\" class=\"dataframe\">\n",
       "  <thead>\n",
       "    <tr style=\"text-align: right;\">\n",
       "      <th></th>\n",
       "      <th>yue</th>\n",
       "      <th>eng</th>\n",
       "    </tr>\n",
       "  </thead>\n",
       "  <tbody>\n",
       "    <tr>\n",
       "      <th>0</th>\n",
       "      <td>唔準掂同食醃菜唔準坐梳化或者屋企人嘅床上每次經期完咗要洗床單就算床單無汚糟到他們認為我唔純潔...</td>\n",
       "      <td>I was not allowed to touch or eat pickles I wa...</td>\n",
       "    </tr>\n",
       "    <tr>\n",
       "      <th>1</th>\n",
       "      <td>佢地扮怪面嚇人</td>\n",
       "      <td>They were making scary faces</td>\n",
       "    </tr>\n",
       "    <tr>\n",
       "      <th>2</th>\n",
       "      <td>唔會搞到我哋變得邪惡女人型變成自由黨人咩</td>\n",
       "      <td>turn us into godless sissy liberals</td>\n",
       "    </tr>\n",
       "    <tr>\n",
       "      <th>3</th>\n",
       "      <td>呢個模式可以清晰令您瞭解佢哋</td>\n",
       "      <td>So it spells those out in very clean terms</td>\n",
       "    </tr>\n",
       "    <tr>\n",
       "      <th>4</th>\n",
       "      <td>幾多萬億掌聲</td>\n",
       "      <td>How many trillions Applause</td>\n",
       "    </tr>\n",
       "  </tbody>\n",
       "</table>\n",
       "</div>"
      ],
      "text/plain": [
       "                                                 yue  \\\n",
       "0  唔準掂同食醃菜唔準坐梳化或者屋企人嘅床上每次經期完咗要洗床單就算床單無汚糟到他們認為我唔純潔...   \n",
       "1                                            佢地扮怪面嚇人   \n",
       "2                               唔會搞到我哋變得邪惡女人型變成自由黨人咩   \n",
       "3                                     呢個模式可以清晰令您瞭解佢哋   \n",
       "4                                             幾多萬億掌聲   \n",
       "\n",
       "                                                 eng  \n",
       "0  I was not allowed to touch or eat pickles I wa...  \n",
       "1                       They were making scary faces  \n",
       "2                turn us into godless sissy liberals  \n",
       "3         So it spells those out in very clean terms  \n",
       "4                        How many trillions Applause  "
      ]
     },
     "execution_count": 3,
     "metadata": {},
     "output_type": "execute_result"
    }
   ],
   "source": [
    "import pandas as pd\n",
    "import glob\n",
    "import os\n",
    "\n",
    "all_csv = glob.glob(os.getcwd() + \"/train.csv\")  \n",
    "\n",
    "df_test = pd.read_csv(os.getcwd() + \"/test.csv\", sep='\\t', encoding='utf-8')  \n",
    "\n",
    "df_from_each_file = (pd.read_csv(f, sep='\\t', encoding='utf-8') for f in all_csv)\n",
    "df = pd.concat(df_from_each_file)\n",
    "\n",
    "# Check for null\n",
    "df[df['yue'].isnull()]\n",
    "df = df.dropna()\n",
    "df_test = df_test.dropna()\n",
    "\n",
    "YueChar = True\n",
    "# Delete spaces between n-gram in Cantonese\n",
    "# Perform Character based tokenization in Cantonese\n",
    "if YueChar:\n",
    "    df['yue'] = df['yue'].str.replace(r' ', '')\n",
    "    df_test['yue'] = df_test['yue'].str.replace(r' ', '')\n",
    "\n",
    "df.head()"
   ]
  },
  {
   "cell_type": "markdown",
   "metadata": {
    "id": "uERO1y54cOKq"
   },
   "source": [
    "Transformer consists of the encoder, decoder and a final linear layer. The output of the decoder is the input to the linear layer and its output is returned."
   ]
  },
  {
   "cell_type": "code",
   "execution_count": 4,
   "metadata": {},
   "outputs": [
    {
     "data": {
      "text/html": [
       "<div>\n",
       "<style scoped>\n",
       "    .dataframe tbody tr th:only-of-type {\n",
       "        vertical-align: middle;\n",
       "    }\n",
       "\n",
       "    .dataframe tbody tr th {\n",
       "        vertical-align: top;\n",
       "    }\n",
       "\n",
       "    .dataframe thead th {\n",
       "        text-align: right;\n",
       "    }\n",
       "</style>\n",
       "<table border=\"1\" class=\"dataframe\">\n",
       "  <thead>\n",
       "    <tr style=\"text-align: right;\">\n",
       "      <th></th>\n",
       "      <th>yue</th>\n",
       "      <th>eng</th>\n",
       "    </tr>\n",
       "  </thead>\n",
       "  <tbody>\n",
       "    <tr>\n",
       "      <th>0</th>\n",
       "      <td>我 相 信 主</td>\n",
       "      <td>I believe the almighty</td>\n",
       "    </tr>\n",
       "    <tr>\n",
       "      <th>1</th>\n",
       "      <td>好 耐 以 嚟 有 發 展 紊 亂 嘅 小 朋 友</td>\n",
       "      <td>For too long now children with developmental d...</td>\n",
       "    </tr>\n",
       "    <tr>\n",
       "      <th>2</th>\n",
       "      <td>一 般 會 遇 到 兩 種 反 應</td>\n",
       "      <td>I have two kinds of reactions</td>\n",
       "    </tr>\n",
       "    <tr>\n",
       "      <th>3</th>\n",
       "      <td>但 再 諗 下 嗰 位 官 員 未 必 係 唯 一 睇 小 女 性 嘅 人 呢 種 偏 見 ...</td>\n",
       "      <td>But think about this The IMF official is hardl...</td>\n",
       "    </tr>\n",
       "    <tr>\n",
       "      <th>4</th>\n",
       "      <td>佢 將 呢 個 病 毒 傳 畀 BB</td>\n",
       "      <td>She passes that virus on to baby</td>\n",
       "    </tr>\n",
       "  </tbody>\n",
       "</table>\n",
       "</div>"
      ],
      "text/plain": [
       "                                                 yue  \\\n",
       "0                                            我 相 信 主   \n",
       "1                          好 耐 以 嚟 有 發 展 紊 亂 嘅 小 朋 友   \n",
       "2                                  一 般 會 遇 到 兩 種 反 應   \n",
       "3  但 再 諗 下 嗰 位 官 員 未 必 係 唯 一 睇 小 女 性 嘅 人 呢 種 偏 見 ...   \n",
       "4                                 佢 將 呢 個 病 毒 傳 畀 BB   \n",
       "\n",
       "                                                 eng  \n",
       "0                             I believe the almighty  \n",
       "1  For too long now children with developmental d...  \n",
       "2                      I have two kinds of reactions  \n",
       "3  But think about this The IMF official is hardl...  \n",
       "4                   She passes that virus on to baby  "
      ]
     },
     "execution_count": 4,
     "metadata": {},
     "output_type": "execute_result"
    }
   ],
   "source": [
    "import regex as re\n",
    "def spliteKeyWord(str):\n",
    "    regex = r\"[\\u4e00-\\ufaff]|[0-9]+|[a-zA-Z]+\\'*[a-z]*\"\n",
    "    matches = re.findall(regex, str, re.UNICODE)\n",
    "    return ' '.join(matches)\n",
    "\n",
    "if YueChar:\n",
    "    df['yue'] = df['yue'].apply(lambda x: spliteKeyWord(x))\n",
    "    df_test['yue'] = df_test['yue'].apply(lambda x: spliteKeyWord(x))\n",
    "df_test.head()"
   ]
  },
  {
   "cell_type": "code",
   "execution_count": 5,
   "metadata": {},
   "outputs": [
    {
     "name": "stdout",
     "output_type": "stream",
     "text": [
      "Total number: 253040\n",
      "Distinct number: 11503\n",
      "Unique ratio: 0.04545921593423965\n",
      "{'10-99': 1192, '100-999': 432, '1000+': 32, 2: 975, 3: 393, 1: 7651, 8: 101, 9: 72, 4: 262, 5: 178, 7: 103, 6: 112}\n"
     ]
    },
    {
     "data": {
      "image/png": "[encoded data removed]",
      "text/plain": [
       "<Figure size 432x288 with 1 Axes>"
      ]
     },
     "metadata": {},
     "output_type": "display_data"
    }
   ],
   "source": [
    "from collections import Counter\n",
    "l = ''.join(pd.concat([df, df_test])['yue'].values.tolist()).split()\n",
    "c = Counter(l)\n",
    "print('Total number:', len(l))\n",
    "print('Distinct number:', len(c))\n",
    "print('Unique ratio:', len(c)/len(l))\n",
    "\n",
    "d = {'10-99':0,  '100-999':0,  '1000+':0}\n",
    "for k, v in c.items():\n",
    "    if v<10:\n",
    "        if v in d:\n",
    "            d[v] += 1\n",
    "        else:\n",
    "            d[v] = 1\n",
    "    elif v<100:\n",
    "        d['10-99'] += 1\n",
    "    elif v<1000:\n",
    "        d['100-999'] += 1\n",
    "    else:\n",
    "        d['1000+'] += 1\n",
    "print(d)     \n",
    "labels = list(d.keys())\n",
    "values = list(d.values())\n",
    "\n",
    "# plt.pie(values, labels=labels)\n",
    "fig1, ax1 = plt.subplots()\n",
    "ax1.pie(values, labels=labels, autopct='%1.1f%%', startangle=90)\n",
    "ax1.axis('equal')  # Equal aspect ratio ensures that pie is drawn as a circle.\n",
    "\n",
    "plt.show()"
   ]
  },
  {
   "cell_type": "markdown",
   "metadata": {
    "id": "mEsv-c0qqLQd"
   },
   "source": [
    "### Set translational direction"
   ]
  },
  {
   "cell_type": "code",
   "execution_count": 6,
   "metadata": {
    "id": "0r4EQ67kqKcU"
   },
   "outputs": [],
   "source": [
    "inp_lang = 'eng'\n",
    "tar_lang = 'yue'\n",
    "inp = df[inp_lang]\n",
    "tar = df[tar_lang]\n",
    "dataset = tf.data.Dataset.from_tensor_slices((inp.values, tar.values))"
   ]
  },
  {
   "cell_type": "markdown",
   "metadata": {
    "id": "hmVWHYyd18kb"
   },
   "source": [
    "## Split dataset into train, test and validation"
   ]
  },
  {
   "cell_type": "code",
   "execution_count": 7,
   "metadata": {
    "colab": {
     "base_uri": "https://localhost:8080/"
    },
    "id": "2UudB9uidSkP",
    "outputId": "b327f1e3-5143-4b79-f204-3d55bed31d2d"
   },
   "outputs": [
    {
     "name": "stdout",
     "output_type": "stream",
     "text": [
      "Train size: 7848\n",
      "Test size: 1963\n",
      "\n",
      "Total size: 9811\n"
     ]
    }
   ],
   "source": [
    "DATASET_SIZE = len(list(dataset))\n",
    "# train_size = int(0.8 * DATASET_SIZE)\n",
    "# test_size = int(0.2 * DATASET_SIZE)\n",
    "\n",
    "# dataset = dataset.shuffle(DATASET_SIZE)\n",
    "train_examples = dataset.take(DATASET_SIZE)\n",
    "# test_examples = dataset.skip(train_size)\n",
    "# test_examples = remaining.take(test_size)\n",
    "# val_examples = remaining.skip(test_size)\n",
    "\n",
    "print('Train size:', len(list(train_examples)))\n",
    "print('Test size:', len(df_test))\n",
    "# print('Validation size:', len(list(val_examples)))\n",
    "print()\n",
    "print('Total size:', DATASET_SIZE + len(df_test))"
   ]
  },
  {
   "cell_type": "code",
   "execution_count": 8,
   "metadata": {
    "colab": {
     "base_uri": "https://localhost:8080/"
    },
    "id": "b5PlJ-TwK6Oi",
    "outputId": "79fdafc4-e9d3-44f5-f231-e059bc58bf09"
   },
   "outputs": [
    {
     "name": "stdout",
     "output_type": "stream",
     "text": [
      "tf.Tensor(b'I was not allowed to touch or eat pickles I was not allowed to sit on the sofa or some other family member s bed I had to wash my bed sheet after every period even if it was not stained I was considered impure and forbidden from worshipping or touching any object of religious importance You ll find signposts outside temples denying the entry of menstruating girls and women', shape=(), dtype=string)\n",
      "tf.Tensor(b'\\xe5\\x94\\x94 \\xe6\\xba\\x96 \\xe6\\x8e\\x82 \\xe5\\x90\\x8c \\xe9\\xa3\\x9f \\xe9\\x86\\x83 \\xe8\\x8f\\x9c \\xe5\\x94\\x94 \\xe6\\xba\\x96 \\xe5\\x9d\\x90 \\xe6\\xa2\\xb3 \\xe5\\x8c\\x96 \\xe6\\x88\\x96 \\xe8\\x80\\x85 \\xe5\\xb1\\x8b \\xe4\\xbc\\x81 \\xe4\\xba\\xba \\xe5\\x98\\x85 \\xe5\\xba\\x8a \\xe4\\xb8\\x8a \\xe6\\xaf\\x8f \\xe6\\xac\\xa1 \\xe7\\xb6\\x93 \\xe6\\x9c\\x9f \\xe5\\xae\\x8c \\xe5\\x92\\x97 \\xe8\\xa6\\x81 \\xe6\\xb4\\x97 \\xe5\\xba\\x8a \\xe5\\x96\\xae \\xe5\\xb0\\xb1 \\xe7\\xae\\x97 \\xe5\\xba\\x8a \\xe5\\x96\\xae \\xe7\\x84\\xa1 \\xe6\\xb1\\x9a \\xe7\\xb3\\x9f \\xe5\\x88\\xb0 \\xe4\\xbb\\x96 \\xe5\\x80\\x91 \\xe8\\xaa\\x8d \\xe7\\x82\\xba \\xe6\\x88\\x91 \\xe5\\x94\\x94 \\xe7\\xb4\\x94 \\xe6\\xbd\\x94 \\xe7\\xa6\\x81 \\xe6\\xad\\xa2 \\xe6\\x88\\x91 \\xe5\\x8f\\x83 \\xe6\\x8b\\x9c \\xe6\\x88\\x96 \\xe8\\x80\\x85 \\xe6\\x8e\\x82 \\xe4\\xb8\\x80 \\xe5\\x95\\xb2 \\xe8\\x81\\x96 \\xe7\\x89\\xa9 \\xe4\\xbd\\xa0 \\xe6\\x9c\\x83 \\xe7\\x99\\xbc \\xe7\\x8f\\xbe \\xe5\\xaf\\xba \\xe5\\xbb\\x9f \\xe5\\x87\\xba \\xe9\\x9d\\xa2 \\xe6\\x9c\\x89 \\xe7\\x89\\x8c \\xe8\\xb7\\xaf \\xe7\\x89\\x8c \\xe7\\xa6\\x81 \\xe6\\xad\\xa2 \\xe6\\xad\\xa3 \\xe5\\x9c\\xa8 \\xe5\\x9a\\x9f \\xe7\\xb7\\x8a \\xe7\\xb6\\x93 \\xe6\\x9c\\x9f \\xe5\\x98\\x85 \\xe5\\xa9\\xa6 \\xe5\\xa5\\xb3 \\xe9\\x80\\xb2 \\xe5\\x85\\xa5', shape=(), dtype=string)\n",
      "----------\n",
      "tf.Tensor(b'They were making scary faces', shape=(), dtype=string)\n",
      "tf.Tensor(b'\\xe4\\xbd\\xa2 \\xe5\\x9c\\xb0 \\xe6\\x89\\xae \\xe6\\x80\\xaa \\xe9\\x9d\\xa2 \\xe5\\x9a\\x87 \\xe4\\xba\\xba', shape=(), dtype=string)\n",
      "----------\n",
      "tf.Tensor(b'turn us into godless sissy liberals', shape=(), dtype=string)\n",
      "tf.Tensor(b'\\xe5\\x94\\x94 \\xe6\\x9c\\x83 \\xe6\\x90\\x9e \\xe5\\x88\\xb0 \\xe6\\x88\\x91 \\xe5\\x93\\x8b \\xe8\\xae\\x8a \\xe5\\xbe\\x97 \\xe9\\x82\\xaa \\xe6\\x83\\xa1 \\xe5\\xa5\\xb3 \\xe4\\xba\\xba \\xe5\\x9e\\x8b \\xe8\\xae\\x8a \\xe6\\x88\\x90 \\xe8\\x87\\xaa \\xe7\\x94\\xb1 \\xe9\\xbb\\xa8 \\xe4\\xba\\xba \\xe5\\x92\\xa9', shape=(), dtype=string)\n",
      "----------\n"
     ]
    }
   ],
   "source": [
    "for inp, tar in train_examples.take(3):\n",
    "  print(inp)\n",
    "  print(tar)\n",
    "  print('-' * 10)"
   ]
  },
  {
   "cell_type": "code",
   "execution_count": 9,
   "metadata": {
    "colab": {
     "base_uri": "https://localhost:8080/"
    },
    "id": "waK4jpjpw2dZ",
    "outputId": "9146e9e0-0437-4f39-a30a-02c9df423afa"
   },
   "outputs": [
    {
     "name": "stdout",
     "output_type": "stream",
     "text": [
      "I was not allowed to touch or eat pickles I was not allowed to sit on the sofa or some other family member s bed I had to wash my bed sheet after every period even if it was not stained I was considered impure and forbidden from worshipping or touching any object of religious importance You ll find signposts outside temples denying the entry of menstruating girls and women\n",
      "唔 準 掂 同 食 醃 菜 唔 準 坐 梳 化 或 者 屋 企 人 嘅 床 上 每 次 經 期 完 咗 要 洗 床 單 就 算 床 單 無 汚 糟 到 他 們 認 為 我 唔 純 潔 禁 止 我 參 拜 或 者 掂 一 啲 聖 物 你 會 發 現 寺 廟 出 面 有 牌 路 牌 禁 止 正 在 嚟 緊 經 期 嘅 婦 女 進 入\n",
      "----------\n",
      "They were making scary faces\n",
      "佢 地 扮 怪 面 嚇 人\n",
      "----------\n",
      "turn us into godless sissy liberals\n",
      "唔 會 搞 到 我 哋 變 得 邪 惡 女 人 型 變 成 自 由 黨 人 咩\n",
      "----------\n",
      "So it spells those out in very clean terms\n",
      "呢 個 模 式 可 以 清 晰 令 您 瞭 解 佢 哋\n",
      "----------\n",
      "How many trillions Applause\n",
      "幾 多 萬 億 掌 聲\n",
      "----------\n"
     ]
    }
   ],
   "source": [
    "sample_examples = []\n",
    "num_samples = 5\n",
    "\n",
    "for inp_t, tar_t in train_examples.take(num_samples):\n",
    "  inp = inp_t.numpy().decode(\"utf-8\")\n",
    "  tar = tar_t.numpy().decode(\"utf-8\")\n",
    "  \n",
    "  print(inp)\n",
    "  print(tar)\n",
    "  print('-' * 10)\n",
    "  \n",
    "  sample_examples.append((inp, tar))"
   ]
  },
  {
   "cell_type": "code",
   "execution_count": 10,
   "metadata": {},
   "outputs": [],
   "source": [
    "if inp_lang == 'yue':\n",
    "    if YueChar:\n",
    "      input_tokenizer = tfds.deprecated.text.SubwordTextEncoder.build_from_corpus(\n",
    "          (inp.numpy() for inp, tar in train_examples), target_vocab_size=2**13, max_subword_length=1)\n",
    "    else:\n",
    "      input_tokenizer = tfds.deprecated.text.TokenTextEncoder(\n",
    "          ' '.join(inp.numpy().decode(\"utf-8\") for inp, tar in train_examples).split(' ')) \n",
    "    target_tokenizer = tfds.deprecated.text.SubwordTextEncoder.build_from_corpus(\n",
    "        (tar.numpy() for inp, tar in train_examples), target_vocab_size=2**13)\n",
    "else:\n",
    "    if YueChar:\n",
    "      target_tokenizer = tfds.deprecated.text.SubwordTextEncoder.build_from_corpus(\n",
    "          (tar.numpy() for inp, tar in train_examples), target_vocab_size=2**13, max_subword_length=1)\n",
    "    else:\n",
    "      target_tokenizer = tfds.deprecated.text.TokenTextEncoder(\n",
    "          ' '.join(tar.numpy().decode(\"utf-8\") for inp, tar in train_examples).split(' '))\n",
    "    input_tokenizer = tfds.deprecated.text.SubwordTextEncoder.build_from_corpus(\n",
    "      (inp.numpy() for inp, tar in train_examples), target_vocab_size=2**13)"
   ]
  },
  {
   "cell_type": "code",
   "execution_count": 11,
   "metadata": {},
   "outputs": [
    {
     "name": "stdout",
     "output_type": "stream",
     "text": [
      "eng: 7791 vocabs\n",
      "yue: 3335 vocabs\n"
     ]
    }
   ],
   "source": [
    "print(f'{inp_lang}: {input_tokenizer.vocab_size} vocabs')\n",
    "print(f'{tar_lang}: {target_tokenizer.vocab_size} vocabs')"
   ]
  },
  {
   "cell_type": "markdown",
   "metadata": {
    "id": "L-PPeXeT4WHN"
   },
   "source": [
    "Check the tokenizers with sample string"
   ]
  },
  {
   "cell_type": "code",
   "execution_count": 12,
   "metadata": {
    "colab": {
     "base_uri": "https://localhost:8080/"
    },
    "id": "4DYWukNFkGQN",
    "outputId": "902864c3-fa59-45c0-e8f9-17536d62fea3"
   },
   "outputs": [
    {
     "name": "stdout",
     "output_type": "stream",
     "text": [
      "Tokenized string is [6, 15, 28, 1290, 2, 2160, 36, 436, 2551, 951, 6, 15, 28, 1290, 2, 1335, 21, 1, 5696, 5, 36, 89, 101, 282, 2248, 7, 1521, 6, 61, 2, 2140, 25, 1521, 5743, 208, 162, 943, 116, 63, 12, 15, 28, 4338, 2573, 6, 15, 2351, 2007, 1122, 3, 4854, 2057, 39, 5395, 1140, 36, 5536, 159, 1971, 4, 2945, 6413, 64, 127, 194, 1728, 1453, 7, 1350, 2878, 951, 1641, 1878, 1, 3906, 85, 4, 6204, 467, 3, 1046]\n",
      "The original string: I was not allowed to touch or eat pickles I was not allowed to sit on the sofa or some other family member s bed I had to wash my bed sheet after every period even if it was not stained I was considered impure and forbidden from worshipping or touching any object of religious importance You ll find signposts outside temples denying the entry of menstruating girls and women\n",
      "Tokenized string is [14, 3111, 554, 3111, 980, 3111, 10, 3111, 116, 3111, 2303, 3111, 1225, 3111, 14, 3111, 554, 3111, 583, 3111, 2196, 3111, 153, 3111, 102, 3111, 67, 3111, 331, 3111, 252, 3111, 9, 3111, 1, 3111, 942, 3111, 37, 3111, 150, 3111, 184, 3111, 55, 3111, 298, 3111, 307, 3111, 25, 3111, 23, 3111, 934, 3111, 942, 3111, 190, 3111, 19, 3111, 437, 3111, 942, 3111, 190, 3111, 75, 3111, 2858, 3111, 1773, 3111, 16, 3111, 141, 3111, 357, 3111, 229, 3111, 24, 3111, 2, 3111, 14, 3111, 1097, 3111, 1794, 3111, 1069, 3111, 312, 3111, 2, 3111, 675, 3111, 824, 3111, 102, 3111, 67, 3111, 980, 3111, 5, 3111, 22, 3111, 677, 3111, 79, 3111, 12, 3111, 17, 3111, 51, 3111, 111, 3111, 2057, 3111, 2949, 3111, 63, 3111, 61, 3111, 7, 3111, 1024, 3111, 165, 3111, 1024, 3111, 1069, 3111, 312, 3111, 187, 3111, 162, 3111, 47, 3111, 179, 3111, 55, 3111, 298, 3111, 1, 3111, 982, 3111, 113, 3111, 319, 3111, 120]\n",
      "The original string: 唔 準 掂 同 食 醃 菜 唔 準 坐 梳 化 或 者 屋 企 人 嘅 床 上 每 次 經 期 完 咗 要 洗 床 單 就 算 床 單 無 汚 糟 到 他 們 認 為 我 唔 純 潔 禁 止 我 參 拜 或 者 掂 一 啲 聖 物 你 會 發 現 寺 廟 出 面 有 牌 路 牌 禁 止 正 在 嚟 緊 經 期 嘅 婦 女 進 入\n"
     ]
    }
   ],
   "source": [
    "# We can use string in dataset\n",
    "sample_inp = sample_examples[0][0]\n",
    "sample_tar = sample_examples[0][1]\n",
    "\n",
    "tokenized_inp = input_tokenizer.encode(sample_inp)\n",
    "print ('Tokenized string is {}'.format(tokenized_inp))\n",
    "\n",
    "original_inp = input_tokenizer.decode(tokenized_inp)\n",
    "print ('The original string: {}'.format(original_inp))\n",
    "\n",
    "tokenized_tar = target_tokenizer.encode(sample_tar)\n",
    "print ('Tokenized string is {}'.format(tokenized_tar))\n",
    "\n",
    "original_tar = target_tokenizer.decode(tokenized_tar)\n",
    "print ('The original string: {}'.format(original_tar))"
   ]
  },
  {
   "cell_type": "markdown",
   "metadata": {
    "id": "o9KJWJjrsZ4Y"
   },
   "source": [
    "The tokenizer encodes the string by breaking it into subwords if the word is not in its dictionary."
   ]
  },
  {
   "cell_type": "code",
   "execution_count": 13,
   "metadata": {
    "colab": {
     "base_uri": "https://localhost:8080/"
    },
    "id": "bf2ntBxjkqK6",
    "outputId": "0234d439-6ab8-45ac-9591-71051d640c9f"
   },
   "outputs": [
    {
     "name": "stdout",
     "output_type": "stream",
     "text": [
      "6 ----> I \n",
      "15 ----> was \n",
      "28 ----> not \n",
      "1290 ----> allowed \n",
      "2 ----> to \n",
      "2160 ----> touch \n",
      "36 ----> or \n",
      "436 ----> eat \n",
      "2551 ----> pick\n",
      "951 ----> les \n",
      "6 ----> I \n",
      "15 ----> was \n",
      "28 ----> not \n",
      "1290 ----> allowed \n",
      "2 ----> to \n",
      "1335 ----> sit \n",
      "21 ----> on \n",
      "1 ----> the \n",
      "5696 ----> sof\n",
      "5 ----> a \n",
      "36 ----> or \n",
      "89 ----> some \n",
      "101 ----> other \n",
      "282 ----> family \n",
      "2248 ----> member \n",
      "7 ----> s \n",
      "1521 ----> bed \n",
      "6 ----> I \n",
      "61 ----> had \n",
      "2 ----> to \n",
      "2140 ----> wash \n",
      "25 ----> my \n",
      "1521 ----> bed \n",
      "5743 ----> sheet \n",
      "208 ----> after \n",
      "162 ----> every \n",
      "943 ----> period \n",
      "116 ----> even \n",
      "63 ----> if \n",
      "12 ----> it \n",
      "15 ----> was \n",
      "28 ----> not \n",
      "4338 ----> stai\n",
      "2573 ----> ned \n",
      "6 ----> I \n",
      "15 ----> was \n",
      "2351 ----> considered \n",
      "2007 ----> imp\n",
      "1122 ----> ure \n",
      "3 ----> and \n",
      "4854 ----> forbid\n",
      "2057 ----> den \n",
      "39 ----> from \n",
      "5395 ----> worship\n",
      "1140 ----> ping \n",
      "36 ----> or \n",
      "5536 ----> touching \n",
      "159 ----> any \n",
      "1971 ----> object \n",
      "4 ----> of \n",
      "2945 ----> religious \n",
      "6413 ----> importance \n",
      "64 ----> You \n",
      "127 ----> ll \n",
      "194 ----> find \n",
      "1728 ----> sign\n",
      "1453 ----> post\n",
      "7 ----> s \n",
      "1350 ----> outside \n",
      "2878 ----> temp\n",
      "951 ----> les \n",
      "1641 ----> den\n",
      "1878 ----> ying \n",
      "1 ----> the \n",
      "3906 ----> entr\n",
      "85 ----> y \n",
      "4 ----> of \n",
      "6204 ----> menstruating \n",
      "467 ----> girls \n",
      "3 ----> and \n",
      "1046 ----> women\n",
      "\n",
      "14 ----> 唔\n",
      "3111 ---->  \n",
      "554 ----> 準\n",
      "3111 ---->  \n",
      "980 ----> 掂\n",
      "3111 ---->  \n",
      "10 ----> 同\n",
      "3111 ---->  \n",
      "116 ----> 食\n",
      "3111 ---->  \n",
      "2303 ----> 醃\n",
      "3111 ---->  \n",
      "1225 ----> 菜\n",
      "3111 ---->  \n",
      "14 ----> 唔\n",
      "3111 ---->  \n",
      "554 ----> 準\n",
      "3111 ---->  \n",
      "583 ----> 坐\n",
      "3111 ---->  \n",
      "2196 ----> 梳\n",
      "3111 ---->  \n",
      "153 ----> 化\n",
      "3111 ---->  \n",
      "102 ----> 或\n",
      "3111 ---->  \n",
      "67 ----> 者\n",
      "3111 ---->  \n",
      "331 ----> 屋\n",
      "3111 ---->  \n",
      "252 ----> 企\n",
      "3111 ---->  \n",
      "9 ----> 人\n",
      "3111 ---->  \n",
      "1 ----> 嘅\n",
      "3111 ---->  \n",
      "942 ----> 床\n",
      "3111 ---->  \n",
      "37 ----> 上\n",
      "3111 ---->  \n",
      "150 ----> 每\n",
      "3111 ---->  \n",
      "184 ----> 次\n",
      "3111 ---->  \n",
      "55 ----> 經\n",
      "3111 ---->  \n",
      "298 ----> 期\n",
      "3111 ---->  \n",
      "307 ----> 完\n",
      "3111 ---->  \n",
      "25 ----> 咗\n",
      "3111 ---->  \n",
      "23 ----> 要\n",
      "3111 ---->  \n",
      "934 ----> 洗\n",
      "3111 ---->  \n",
      "942 ----> 床\n",
      "3111 ---->  \n",
      "190 ----> 單\n",
      "3111 ---->  \n",
      "19 ----> 就\n",
      "3111 ---->  \n",
      "437 ----> 算\n",
      "3111 ---->  \n",
      "942 ----> 床\n",
      "3111 ---->  \n",
      "190 ----> 單\n",
      "3111 ---->  \n",
      "75 ----> 無\n",
      "3111 ---->  \n",
      "2858 ----> 汚\n",
      "3111 ---->  \n",
      "1773 ----> 糟\n",
      "3111 ---->  \n",
      "16 ----> 到\n",
      "3111 ---->  \n",
      "141 ----> 他\n",
      "3111 ---->  \n",
      "357 ----> 們\n",
      "3111 ---->  \n",
      "229 ----> 認\n",
      "3111 ---->  \n",
      "24 ----> 為\n",
      "3111 ---->  \n",
      "2 ----> 我\n",
      "3111 ---->  \n",
      "14 ----> 唔\n",
      "3111 ---->  \n",
      "1097 ----> 純\n",
      "3111 ---->  \n",
      "1794 ----> 潔\n",
      "3111 ---->  \n",
      "1069 ----> 禁\n",
      "3111 ---->  \n",
      "312 ----> 止\n",
      "3111 ---->  \n",
      "2 ----> 我\n",
      "3111 ---->  \n",
      "675 ----> 參\n",
      "3111 ---->  \n",
      "824 ----> 拜\n",
      "3111 ---->  \n",
      "102 ----> 或\n",
      "3111 ---->  \n",
      "67 ----> 者\n",
      "3111 ---->  \n",
      "980 ----> 掂\n",
      "3111 ---->  \n",
      "5 ----> 一\n",
      "3111 ---->  \n",
      "22 ----> 啲\n",
      "3111 ---->  \n",
      "677 ----> 聖\n",
      "3111 ---->  \n",
      "79 ----> 物\n",
      "3111 ---->  \n",
      "12 ----> 你\n",
      "3111 ---->  \n",
      "17 ----> 會\n",
      "3111 ---->  \n",
      "51 ----> 發\n",
      "3111 ---->  \n",
      "111 ----> 現\n",
      "3111 ---->  \n",
      "2057 ----> 寺\n",
      "3111 ---->  \n",
      "2949 ----> 廟\n",
      "3111 ---->  \n",
      "63 ----> 出\n",
      "3111 ---->  \n",
      "61 ----> 面\n",
      "3111 ---->  \n",
      "7 ----> 有\n",
      "3111 ---->  \n",
      "1024 ----> 牌\n",
      "3111 ---->  \n",
      "165 ----> 路\n",
      "3111 ---->  \n",
      "1024 ----> 牌\n",
      "3111 ---->  \n",
      "1069 ----> 禁\n",
      "3111 ---->  \n",
      "312 ----> 止\n",
      "3111 ---->  \n",
      "187 ----> 正\n",
      "3111 ---->  \n",
      "162 ----> 在\n",
      "3111 ---->  \n",
      "47 ----> 嚟\n",
      "3111 ---->  \n",
      "179 ----> 緊\n",
      "3111 ---->  \n",
      "55 ----> 經\n",
      "3111 ---->  \n",
      "298 ----> 期\n",
      "3111 ---->  \n",
      "1 ----> 嘅\n",
      "3111 ---->  \n",
      "982 ----> 婦\n",
      "3111 ---->  \n",
      "113 ----> 女\n",
      "3111 ---->  \n",
      "319 ----> 進\n",
      "3111 ---->  \n",
      "120 ----> 入\n"
     ]
    }
   ],
   "source": [
    "for ts in tokenized_inp:\n",
    "  print ('{} ----> {}'.format(ts, input_tokenizer.decode([ts])))\n",
    "print()\n",
    "for ts in tokenized_tar:\n",
    "  print ('{} ----> {}'.format(ts, target_tokenizer.decode([ts])))"
   ]
  },
  {
   "cell_type": "code",
   "execution_count": 14,
   "metadata": {
    "id": "bcRp7VcQ5m6g"
   },
   "outputs": [],
   "source": [
    "BUFFER_SIZE = 400\n",
    "BATCH_SIZE = 64"
   ]
  },
  {
   "cell_type": "markdown",
   "metadata": {
    "id": "kGi4PoVakxdc"
   },
   "source": [
    "Add a start and end token to the input and target. "
   ]
  },
  {
   "cell_type": "code",
   "execution_count": 15,
   "metadata": {
    "id": "UZwnPr4R055s"
   },
   "outputs": [],
   "source": [
    "def encode(lang1, lang2):\n",
    "  lang1 = [input_tokenizer.vocab_size] + input_tokenizer.encode(\n",
    "      lang1.numpy()) + [input_tokenizer.vocab_size+1]\n",
    "\n",
    "  lang2 = [target_tokenizer.vocab_size] + target_tokenizer.encode(\n",
    "      lang2.numpy()) + [target_tokenizer.vocab_size+1]\n",
    "  \n",
    "  return lang1, lang2"
   ]
  },
  {
   "cell_type": "markdown",
   "metadata": {
    "id": "Tx1sFbR-9fRs"
   },
   "source": [
    "You want to use `Dataset.map` to apply this function to each element of the dataset.  `Dataset.map` runs in graph mode.\n",
    "\n",
    "* Graph tensors do not have a value. \n",
    "* In graph mode you can only use TensorFlow Ops and functions. \n",
    "\n",
    "So you can't `.map` this function directly: You need to wrap it in a `tf.py_function`. The `tf.py_function` will pass regular tensors (with a value and a `.numpy()` method to access it), to the wrapped python function."
   ]
  },
  {
   "cell_type": "code",
   "execution_count": 16,
   "metadata": {
    "id": "Mah1cS-P70Iz"
   },
   "outputs": [],
   "source": [
    "def tf_encode(inp, tar):\n",
    "  result_inp, result_tar = tf.py_function(encode, [inp, tar], [tf.int64, tf.int64])\n",
    "  result_inp.set_shape([None])\n",
    "  result_tar.set_shape([None])\n",
    "\n",
    "  return result_inp, result_tar"
   ]
  },
  {
   "cell_type": "markdown",
   "metadata": {
    "id": "6JrGp5Gek6Ql"
   },
   "source": [
    "Note: To keep this example small and relatively fast, drop examples with a length of over `40` tokens."
   ]
  },
  {
   "cell_type": "code",
   "execution_count": 17,
   "metadata": {
    "id": "c081xPGv1CPI"
   },
   "outputs": [],
   "source": [
    "MAX_LENGTH = 40\n",
    "\n",
    "def filter_max_length(x, y, max_length=MAX_LENGTH):\n",
    "  return tf.logical_and(tf.size(x) <= max_length,\n",
    "                        tf.size(y) <= max_length)"
   ]
  },
  {
   "cell_type": "code",
   "execution_count": 18,
   "metadata": {
    "colab": {
     "base_uri": "https://localhost:8080/"
    },
    "id": "9mk9AZdZ5bcS",
    "outputId": "28e59114-d36d-48c8-bf9d-cef2b24049c3"
   },
   "outputs": [
    {
     "name": "stdout",
     "output_type": "stream",
     "text": [
      "Training size: 6634\n",
      "Testing size: 1696\n"
     ]
    }
   ],
   "source": [
    "train_dataset = train_examples.map(tf_encode)\n",
    "train_dataset = train_dataset.filter(filter_max_length)\n",
    "num_examples = 0\n",
    "for inp_indices, tar_indices in train_dataset:\n",
    "  num_examples += 1\n",
    "print(f\"Training size: {num_examples}\")\n",
    "\n",
    "# cache the dataset to memory to get a speedup while reading from it.\n",
    "train_dataset = train_dataset.cache()\n",
    "train_dataset = train_dataset.shuffle(BUFFER_SIZE).padded_batch(BATCH_SIZE)\n",
    "train_dataset = train_dataset.prefetch(tf.data.experimental.AUTOTUNE)\n",
    "\n",
    "df_test = df_test[\n",
    "    df_test['yue'].apply(lambda x: len(x.split())<MAX_LENGTH) &\n",
    "    df_test['eng'].apply(lambda x: len(x.split())<MAX_LENGTH) \n",
    "]\n",
    "\n",
    "print(f\"Testing size: {len(df_test)}\")"
   ]
  },
  {
   "cell_type": "code",
   "execution_count": 19,
   "metadata": {
    "colab": {
     "base_uri": "https://localhost:8080/"
    },
    "id": "8RgYUtEECc-Q",
    "outputId": "949dd9c4-d890-4991-f1c7-bebcb9e9c6c1"
   },
   "outputs": [
    {
     "name": "stdout",
     "output_type": "stream",
     "text": [
      "tf.Tensor(\n",
      "[[7791   30    5 ...    0    0    0]\n",
      " [7791   21  132 ...    0    0    0]\n",
      " [7791   49    3 ...    0    0    0]\n",
      " ...\n",
      " [7791   14    6 ... 7401 1795 7792]\n",
      " [7791  242   10 ...    0    0    0]\n",
      " [7791  104  188 ...    0    0    0]], shape=(64, 17), dtype=int64)\n",
      "tf.Tensor(\n",
      "[[3335  127 3111 ...    0    0    0]\n",
      " [3335   41 3111 ...    0    0    0]\n",
      " [3335   34 3111 ...    0    0    0]\n",
      " ...\n",
      " [3335  150 3111 ...    0    0    0]\n",
      " [3335   38 3111 ...    0    0    0]\n",
      " [3335   52 3111 ...    0    0    0]], shape=(64, 39), dtype=int64)\n",
      "\n",
      "All string are less than 40 tokens\n",
      "Total batches: 104\n"
     ]
    }
   ],
   "source": [
    "# Check with train set\n",
    "inp_indices, tar_indices  = next(iter(train_dataset))\n",
    "print(inp_indices)\n",
    "print(tar_indices)\n",
    "\n",
    "num_examples = 0\n",
    "for inp_indices, tar_indices in train_dataset:\n",
    "  # cond1 = len(inp_indices) <= MAX_LENGTH\n",
    "  # cond2 = len(tar_indices) <= MAX_LENGTH\n",
    "  # assert cond1 and cond2\n",
    "  num_examples += 1\n",
    "\n",
    "print(f\"\\nAll string are less than {MAX_LENGTH} tokens\")\n",
    "print(f\"Total batches: {num_examples}\")"
   ]
  },
  {
   "cell_type": "markdown",
   "metadata": {
    "id": "nBQuibYA4n0n"
   },
   "source": [
    "## Positional encoding"
   ]
  },
  {
   "cell_type": "code",
   "execution_count": 20,
   "metadata": {
    "id": "WhIOZjMNKujn"
   },
   "outputs": [],
   "source": [
    "def get_angles(pos, i, d_model):\n",
    "  angle_rates = 1 / np.power(10000, (2 * (i//2)) / np.float32(d_model))\n",
    "  return pos * angle_rates"
   ]
  },
  {
   "cell_type": "code",
   "execution_count": 21,
   "metadata": {
    "id": "1Rz82wEs5biZ"
   },
   "outputs": [],
   "source": [
    "def positional_encoding(position, d_model):\n",
    "  angle_rads = get_angles(np.arange(position)[:, np.newaxis],\n",
    "                          np.arange(d_model)[np.newaxis, :],\n",
    "                          d_model)\n",
    "  \n",
    "  # apply sin to even indices in the array; 2i\n",
    "  angle_rads[:, 0::2] = np.sin(angle_rads[:, 0::2])\n",
    "  \n",
    "  # apply cos to odd indices in the array; 2i+1\n",
    "  angle_rads[:, 1::2] = np.cos(angle_rads[:, 1::2])\n",
    "    \n",
    "  pos_encoding = angle_rads[np.newaxis, ...]\n",
    "    \n",
    "  return tf.cast(pos_encoding, dtype=tf.float32)"
   ]
  },
  {
   "cell_type": "code",
   "execution_count": 22,
   "metadata": {
    "colab": {
     "base_uri": "https://localhost:8080/",
     "height": 300
    },
    "id": "1kLCla68EloE",
    "outputId": "4595b67d-9fc7-45a2-8678-fbe51c8d8e28"
   },
   "outputs": [
    {
     "name": "stdout",
     "output_type": "stream",
     "text": [
      "(1, 50, 512)\n"
     ]
    },
    {
     "data": {
      "image/png": "[encoded data removed]",
      "text/plain": [
       "<Figure size 432x288 with 2 Axes>"
      ]
     },
     "metadata": {
      "needs_background": "light"
     },
     "output_type": "display_data"
    }
   ],
   "source": [
    "pos_encoding = positional_encoding(50, 512)\n",
    "print (pos_encoding.shape)\n",
    "\n",
    "plt.pcolormesh(pos_encoding[0], cmap='RdBu')\n",
    "plt.xlabel('Depth')\n",
    "plt.xlim((0, 512))\n",
    "plt.ylabel('Position')\n",
    "plt.colorbar()\n",
    "plt.show()"
   ]
  },
  {
   "cell_type": "markdown",
   "metadata": {
    "id": "a_b4ou4TYqUN"
   },
   "source": [
    "## Masking"
   ]
  },
  {
   "cell_type": "code",
   "execution_count": 23,
   "metadata": {
    "id": "U2i8-e1s8ti9"
   },
   "outputs": [],
   "source": [
    "def create_padding_mask(seq):\n",
    "  seq = tf.cast(tf.math.equal(seq, 0), tf.float32)\n",
    "  \n",
    "  # add extra dimensions to add the padding\n",
    "  # to the attention logits.\n",
    "  return seq[:, tf.newaxis, tf.newaxis, :]  # (batch_size, 1, 1, seq_len)"
   ]
  },
  {
   "cell_type": "code",
   "execution_count": 24,
   "metadata": {
    "colab": {
     "base_uri": "https://localhost:8080/"
    },
    "id": "A7BYeBCNvi7n",
    "outputId": "2f526483-7e23-49b8-b05e-d76a9c3d654a"
   },
   "outputs": [
    {
     "data": {
      "text/plain": [
       "<tf.Tensor: shape=(3, 1, 1, 5), dtype=float32, numpy=\n",
       "array([[[[0., 0., 1., 1., 0.]]],\n",
       "\n",
       "\n",
       "       [[[0., 0., 0., 1., 1.]]],\n",
       "\n",
       "\n",
       "       [[[1., 1., 1., 0., 0.]]]], dtype=float32)>"
      ]
     },
     "execution_count": 24,
     "metadata": {},
     "output_type": "execute_result"
    }
   ],
   "source": [
    "x = tf.constant([[7, 6, 0, 0, 1], [1, 2, 3, 0, 0], [0, 0, 0, 4, 5]])\n",
    "create_padding_mask(x)"
   ]
  },
  {
   "cell_type": "code",
   "execution_count": 25,
   "metadata": {
    "id": "dVxS8OPI9uI0"
   },
   "outputs": [],
   "source": [
    "def create_look_ahead_mask(size):\n",
    "  mask = 1 - tf.linalg.band_part(tf.ones((size, size)), -1, 0)\n",
    "  return mask  # (seq_len, seq_len)"
   ]
  },
  {
   "cell_type": "code",
   "execution_count": 26,
   "metadata": {
    "colab": {
     "base_uri": "https://localhost:8080/"
    },
    "id": "yxKGuXxaBeeE",
    "outputId": "afa5b144-c85f-4626-e942-12d24586fc9a"
   },
   "outputs": [
    {
     "data": {
      "text/plain": [
       "<tf.Tensor: shape=(3, 3), dtype=float32, numpy=\n",
       "array([[0., 1., 1.],\n",
       "       [0., 0., 1.],\n",
       "       [0., 0., 0.]], dtype=float32)>"
      ]
     },
     "execution_count": 26,
     "metadata": {},
     "output_type": "execute_result"
    }
   ],
   "source": [
    "x = tf.random.uniform((1, 3))\n",
    "temp = create_look_ahead_mask(x.shape[1])\n",
    "temp"
   ]
  },
  {
   "cell_type": "markdown",
   "metadata": {
    "id": "xluDl5cXYy4y"
   },
   "source": [
    "## Scaled dot product attention"
   ]
  },
  {
   "cell_type": "markdown",
   "metadata": {
    "id": "vsxEE_-Wa1gF"
   },
   "source": [
    "<img src=\"https://www.tensorflow.org/images/tutorials/transformer/scaled_attention.png\" width=\"500\" alt=\"scaled_dot_product_attention\">\n",
    "\n",
    "The attention function used by the transformer takes three inputs: Q (query), K (key), V (value). The equation used to calculate the attention weights is:\n",
    "\n",
    "$$\\Large{Attention(Q, K, V) = softmax_k(\\frac{QK^T}{\\sqrt{d_k}}) V} $$\n",
    "\n",
    "The dot-product attention is scaled by a factor of square root of the depth. This is done because for large values of depth, the dot product grows large in magnitude pushing the softmax function where it has small gradients resulting in a very hard softmax. \n",
    "\n",
    "For example, consider that `Q` and `K` have a mean of 0 and variance of 1. Their matrix multiplication will have a mean of 0 and variance of `dk`. Hence, *square root of `dk`* is used for scaling (and not any other number) because the matmul of `Q` and `K` should have a mean of 0 and variance of 1, and you get a gentler softmax.\n",
    "\n",
    "The mask is multiplied with -1e9 (close to negative infinity). This is done because the mask is summed with the scaled matrix multiplication of Q and K and is applied immediately before a softmax. The goal is to zero out these cells, and large negative inputs to softmax are near zero in the output."
   ]
  },
  {
   "cell_type": "code",
   "execution_count": 27,
   "metadata": {
    "id": "LazzUq3bJ5SH"
   },
   "outputs": [],
   "source": [
    "def scaled_dot_product_attention(q, k, v, mask):\n",
    "  \"\"\"Calculate the attention weights.\n",
    "  q, k, v must have matching leading dimensions.\n",
    "  k, v must have matching penultimate dimension, i.e.: seq_len_k = seq_len_v.\n",
    "  The mask has different shapes depending on its type(padding or look ahead) \n",
    "  but it must be broadcastable for addition.\n",
    "  \n",
    "  Args:\n",
    "    q: query shape == (..., seq_len_q, depth)\n",
    "    k: key shape == (..., seq_len_k, depth)\n",
    "    v: value shape == (..., seq_len_v, depth_v)\n",
    "    mask: Float tensor with shape broadcastable \n",
    "          to (..., seq_len_q, seq_len_k). Defaults to None.\n",
    "    \n",
    "  Returns:\n",
    "    output, attention_weights\n",
    "  \"\"\"\n",
    "\n",
    "  matmul_qk = tf.matmul(q, k, transpose_b=True)  # (..., seq_len_q, seq_len_k)\n",
    "  \n",
    "  # scale matmul_qk\n",
    "  dk = tf.cast(tf.shape(k)[-1], tf.float32)\n",
    "  scaled_attention_logits = matmul_qk / tf.math.sqrt(dk)\n",
    "\n",
    "  # add the mask to the scaled tensor.\n",
    "  if mask is not None:\n",
    "    scaled_attention_logits += (mask * -1e9)  \n",
    "\n",
    "  # softmax is normalized on the last axis (seq_len_k) so that the scores\n",
    "  # add up to 1.\n",
    "  attention_weights = tf.nn.softmax(scaled_attention_logits, axis=-1)  # (..., seq_len_q, seq_len_k)\n",
    "\n",
    "  output = tf.matmul(attention_weights, v)  # (..., seq_len_q, depth_v)\n",
    "\n",
    "  return output, attention_weights"
   ]
  },
  {
   "cell_type": "markdown",
   "metadata": {
    "id": "FiqETnhCkoXh"
   },
   "source": [
    "As the softmax normalization is done on K, its values decide the amount of importance given to Q.\n",
    "\n",
    "The output represents the multiplication of the attention weights and the V (value) vector. This ensures that the words you want to focus on are kept as-is and the irrelevant words are flushed out."
   ]
  },
  {
   "cell_type": "code",
   "execution_count": 28,
   "metadata": {
    "id": "n90YjClyInFy"
   },
   "outputs": [],
   "source": [
    "def print_out(q, k, v):\n",
    "  temp_out, temp_attn = scaled_dot_product_attention(\n",
    "      q, k, v, None)\n",
    "  print ('Attention weights are:')\n",
    "  print (temp_attn)\n",
    "  print ('Output is:')\n",
    "  print (temp_out)"
   ]
  },
  {
   "cell_type": "code",
   "execution_count": 29,
   "metadata": {
    "colab": {
     "base_uri": "https://localhost:8080/"
    },
    "id": "yAzUAf2DPlNt",
    "outputId": "4f614ff2-a52f-4c81-f5d2-f35876de949d"
   },
   "outputs": [
    {
     "name": "stdout",
     "output_type": "stream",
     "text": [
      "Attention weights are:\n",
      "tf.Tensor([[0. 1. 0. 0.]], shape=(1, 4), dtype=float32)\n",
      "Output is:\n",
      "tf.Tensor([[10.  0.]], shape=(1, 2), dtype=float32)\n"
     ]
    }
   ],
   "source": [
    "np.set_printoptions(suppress=True)\n",
    "\n",
    "temp_k = tf.constant([[10,0,0],\n",
    "                      [0,10,0],\n",
    "                      [0,0,10],\n",
    "                      [0,0,10]], dtype=tf.float32)  # (4, 3)\n",
    "\n",
    "temp_v = tf.constant([[   1,0],\n",
    "                      [  10,0],\n",
    "                      [ 100,5],\n",
    "                      [1000,6]], dtype=tf.float32)  # (4, 2)\n",
    "\n",
    "# This `query` aligns with the second `key`,\n",
    "# so the second `value` is returned.\n",
    "temp_q = tf.constant([[0, 10, 0]], dtype=tf.float32)  # (1, 3)\n",
    "print_out(temp_q, temp_k, temp_v)"
   ]
  },
  {
   "cell_type": "code",
   "execution_count": 30,
   "metadata": {
    "colab": {
     "base_uri": "https://localhost:8080/"
    },
    "id": "zg6k-fGhgXra",
    "outputId": "82585d6b-4d8c-411b-c868-7b6343409b0c"
   },
   "outputs": [
    {
     "name": "stdout",
     "output_type": "stream",
     "text": [
      "Attention weights are:\n",
      "tf.Tensor([[0.  0.  0.5 0.5]], shape=(1, 4), dtype=float32)\n",
      "Output is:\n",
      "tf.Tensor([[550.    5.5]], shape=(1, 2), dtype=float32)\n"
     ]
    }
   ],
   "source": [
    "# This query aligns with a repeated key (third and fourth), \n",
    "# so all associated values get averaged.\n",
    "temp_q = tf.constant([[0, 0, 10]], dtype=tf.float32)  # (1, 3)\n",
    "print_out(temp_q, temp_k, temp_v)"
   ]
  },
  {
   "cell_type": "code",
   "execution_count": 31,
   "metadata": {
    "colab": {
     "base_uri": "https://localhost:8080/"
    },
    "id": "UAq3YOzUgXhb",
    "outputId": "c38b7220-1ced-4987-e510-f34c4f12fe69"
   },
   "outputs": [
    {
     "name": "stdout",
     "output_type": "stream",
     "text": [
      "Attention weights are:\n",
      "tf.Tensor([[0.5 0.5 0.  0. ]], shape=(1, 4), dtype=float32)\n",
      "Output is:\n",
      "tf.Tensor([[5.5 0. ]], shape=(1, 2), dtype=float32)\n"
     ]
    }
   ],
   "source": [
    "# This query aligns equally with the first and second key, \n",
    "# so their values get averaged.\n",
    "temp_q = tf.constant([[10, 10, 0]], dtype=tf.float32)  # (1, 3)\n",
    "print_out(temp_q, temp_k, temp_v)"
   ]
  },
  {
   "cell_type": "markdown",
   "metadata": {
    "id": "aOz-4_XIhaTP"
   },
   "source": [
    "Pass all the queries together."
   ]
  },
  {
   "cell_type": "code",
   "execution_count": 32,
   "metadata": {
    "colab": {
     "base_uri": "https://localhost:8080/"
    },
    "id": "6dlU8Tm-hYrF",
    "outputId": "4f80eeaf-12c1-4819-ad59-d39bcab1bb2c"
   },
   "outputs": [
    {
     "name": "stdout",
     "output_type": "stream",
     "text": [
      "Attention weights are:\n",
      "tf.Tensor(\n",
      "[[0.  0.  0.5 0.5]\n",
      " [0.  1.  0.  0. ]\n",
      " [0.5 0.5 0.  0. ]], shape=(3, 4), dtype=float32)\n",
      "Output is:\n",
      "tf.Tensor(\n",
      "[[550.    5.5]\n",
      " [ 10.    0. ]\n",
      " [  5.5   0. ]], shape=(3, 2), dtype=float32)\n"
     ]
    }
   ],
   "source": [
    "temp_q = tf.constant([[0, 0, 10], [0, 10, 0], [10, 10, 0]], dtype=tf.float32)  # (3, 3)\n",
    "print_out(temp_q, temp_k, temp_v)"
   ]
  },
  {
   "cell_type": "markdown",
   "metadata": {
    "id": "kmzGPEy64qmA"
   },
   "source": [
    "## Multi-head attention"
   ]
  },
  {
   "cell_type": "code",
   "execution_count": 33,
   "metadata": {
    "id": "BSV3PPKsYecw"
   },
   "outputs": [],
   "source": [
    "class MultiHeadAttention(tf.keras.layers.Layer):\n",
    "  def __init__(self, d_model, num_heads):\n",
    "    super(MultiHeadAttention, self).__init__()\n",
    "    self.num_heads = num_heads\n",
    "    self.d_model = d_model\n",
    "    \n",
    "    assert d_model % self.num_heads == 0\n",
    "    \n",
    "    self.depth = d_model // self.num_heads\n",
    "    \n",
    "    self.wq = tf.keras.layers.Dense(d_model)\n",
    "    self.wk = tf.keras.layers.Dense(d_model)\n",
    "    self.wv = tf.keras.layers.Dense(d_model)\n",
    "    \n",
    "    self.dense = tf.keras.layers.Dense(d_model)\n",
    "        \n",
    "  def split_heads(self, x, batch_size):\n",
    "    \"\"\"Split the last dimension into (num_heads, depth).\n",
    "    Transpose the result such that the shape is (batch_size, num_heads, seq_len, depth)\n",
    "    \"\"\"\n",
    "    x = tf.reshape(x, (batch_size, -1, self.num_heads, self.depth))\n",
    "    return tf.transpose(x, perm=[0, 2, 1, 3])\n",
    "    \n",
    "  def call(self, v, k, q, mask):\n",
    "    batch_size = tf.shape(q)[0]\n",
    "    \n",
    "    q = self.wq(q)  # (batch_size, seq_len, d_model)\n",
    "    k = self.wk(k)  # (batch_size, seq_len, d_model)\n",
    "    v = self.wv(v)  # (batch_size, seq_len, d_model)\n",
    "    \n",
    "    q = self.split_heads(q, batch_size)  # (batch_size, num_heads, seq_len_q, depth)\n",
    "    k = self.split_heads(k, batch_size)  # (batch_size, num_heads, seq_len_k, depth)\n",
    "    v = self.split_heads(v, batch_size)  # (batch_size, num_heads, seq_len_v, depth)\n",
    "    \n",
    "    # scaled_attention.shape == (batch_size, num_heads, seq_len_q, depth)\n",
    "    # attention_weights.shape == (batch_size, num_heads, seq_len_q, seq_len_k)\n",
    "    scaled_attention, attention_weights = scaled_dot_product_attention(\n",
    "        q, k, v, mask)\n",
    "    \n",
    "    scaled_attention = tf.transpose(scaled_attention, perm=[0, 2, 1, 3])  # (batch_size, seq_len_q, num_heads, depth)\n",
    "\n",
    "    concat_attention = tf.reshape(scaled_attention, \n",
    "                                  (batch_size, -1, self.d_model))  # (batch_size, seq_len_q, d_model)\n",
    "\n",
    "    output = self.dense(concat_attention)  # (batch_size, seq_len_q, d_model)\n",
    "        \n",
    "    return output, attention_weights"
   ]
  },
  {
   "cell_type": "code",
   "execution_count": 34,
   "metadata": {
    "colab": {
     "base_uri": "https://localhost:8080/"
    },
    "id": "Hu94p-_-2_BX",
    "outputId": "8f890a1d-970e-40d3-ee5d-15d4fa4ac349"
   },
   "outputs": [
    {
     "data": {
      "text/plain": [
       "(TensorShape([1, 60, 512]), TensorShape([1, 8, 60, 60]))"
      ]
     },
     "execution_count": 34,
     "metadata": {},
     "output_type": "execute_result"
    }
   ],
   "source": [
    "temp_mha = MultiHeadAttention(d_model=512, num_heads=8)\n",
    "y = tf.random.uniform((1, 60, 512))  # (batch_size, encoder_sequence, d_model)\n",
    "out, attn = temp_mha(y, k=y, q=y, mask=None)\n",
    "out.shape, attn.shape"
   ]
  },
  {
   "cell_type": "markdown",
   "metadata": {
    "id": "RdDqGayx67vv"
   },
   "source": [
    "## Point wise feed forward network"
   ]
  },
  {
   "cell_type": "code",
   "execution_count": 35,
   "metadata": {
    "id": "ET7xLt0yCT6Z"
   },
   "outputs": [],
   "source": [
    "def point_wise_feed_forward_network(d_model, dff):\n",
    "  return tf.keras.Sequential([\n",
    "      tf.keras.layers.Dense(dff, activation='relu'),  # (batch_size, seq_len, dff)\n",
    "      tf.keras.layers.Dense(d_model)  # (batch_size, seq_len, d_model)\n",
    "  ])"
   ]
  },
  {
   "cell_type": "code",
   "execution_count": 36,
   "metadata": {
    "colab": {
     "base_uri": "https://localhost:8080/"
    },
    "id": "mytb1lPyOHLB",
    "outputId": "b9ba0e9b-1dd9-47b2-be13-3ec500cc6d57"
   },
   "outputs": [
    {
     "data": {
      "text/plain": [
       "TensorShape([64, 50, 512])"
      ]
     },
     "execution_count": 36,
     "metadata": {},
     "output_type": "execute_result"
    }
   ],
   "source": [
    "sample_ffn = point_wise_feed_forward_network(512, 2048)\n",
    "sample_ffn(tf.random.uniform((64, 50, 512))).shape"
   ]
  },
  {
   "cell_type": "markdown",
   "metadata": {
    "id": "7e7hKcxn6-zd"
   },
   "source": [
    "## Encoder and decoder"
   ]
  },
  {
   "cell_type": "markdown",
   "metadata": {
    "id": "QFv-FNYUmvpn"
   },
   "source": [
    "### Encoder layer"
   ]
  },
  {
   "cell_type": "code",
   "execution_count": 37,
   "metadata": {
    "id": "ncyS-Ms3i2x_"
   },
   "outputs": [],
   "source": [
    "class EncoderLayer(tf.keras.layers.Layer):\n",
    "  def __init__(self, d_model, num_heads, dff, rate=0.1):\n",
    "    super(EncoderLayer, self).__init__()\n",
    "\n",
    "    self.mha = MultiHeadAttention(d_model, num_heads)\n",
    "    self.ffn = point_wise_feed_forward_network(d_model, dff)\n",
    "\n",
    "    self.layernorm1 = tf.keras.layers.LayerNormalization(epsilon=1e-6)\n",
    "    self.layernorm2 = tf.keras.layers.LayerNormalization(epsilon=1e-6)\n",
    "    \n",
    "    self.dropout1 = tf.keras.layers.Dropout(rate)\n",
    "    self.dropout2 = tf.keras.layers.Dropout(rate)\n",
    "    \n",
    "  def call(self, x, training, mask):\n",
    "\n",
    "    attn_output, _ = self.mha(x, x, x, mask)  # (batch_size, input_seq_len, d_model)\n",
    "    attn_output = self.dropout1(attn_output, training=training)\n",
    "    out1 = self.layernorm1(x + attn_output)  # (batch_size, input_seq_len, d_model)\n",
    "    \n",
    "    ffn_output = self.ffn(out1)  # (batch_size, input_seq_len, d_model)\n",
    "    ffn_output = self.dropout2(ffn_output, training=training)\n",
    "    out2 = self.layernorm2(out1 + ffn_output)  # (batch_size, input_seq_len, d_model)\n",
    "    \n",
    "    return out2"
   ]
  },
  {
   "cell_type": "code",
   "execution_count": 38,
   "metadata": {
    "colab": {
     "base_uri": "https://localhost:8080/"
    },
    "id": "AzZRXdO0mI48",
    "outputId": "f782e377-bc21-4e2b-9088-32b8538f85c9"
   },
   "outputs": [
    {
     "data": {
      "text/plain": [
       "TensorShape([64, 43, 512])"
      ]
     },
     "execution_count": 38,
     "metadata": {},
     "output_type": "execute_result"
    }
   ],
   "source": [
    "sample_encoder_layer = EncoderLayer(512, 8, 2048)\n",
    "\n",
    "sample_encoder_layer_output = sample_encoder_layer(\n",
    "    tf.random.uniform((64, 43, 512)), False, None)\n",
    "\n",
    "sample_encoder_layer_output.shape  # (batch_size, input_seq_len, d_model)"
   ]
  },
  {
   "cell_type": "markdown",
   "metadata": {
    "id": "6LO_48Owmx_o"
   },
   "source": [
    "### Decoder layer"
   ]
  },
  {
   "cell_type": "code",
   "execution_count": 39,
   "metadata": {
    "id": "9SoX0-vd1hue"
   },
   "outputs": [],
   "source": [
    "class DecoderLayer(tf.keras.layers.Layer):\n",
    "  def __init__(self, d_model, num_heads, dff, rate=0.1):\n",
    "    super(DecoderLayer, self).__init__()\n",
    "\n",
    "    self.mha1 = MultiHeadAttention(d_model, num_heads)\n",
    "    self.mha2 = MultiHeadAttention(d_model, num_heads)\n",
    "\n",
    "    self.ffn = point_wise_feed_forward_network(d_model, dff)\n",
    " \n",
    "    self.layernorm1 = tf.keras.layers.LayerNormalization(epsilon=1e-6)\n",
    "    self.layernorm2 = tf.keras.layers.LayerNormalization(epsilon=1e-6)\n",
    "    self.layernorm3 = tf.keras.layers.LayerNormalization(epsilon=1e-6)\n",
    "    \n",
    "    self.dropout1 = tf.keras.layers.Dropout(rate)\n",
    "    self.dropout2 = tf.keras.layers.Dropout(rate)\n",
    "    self.dropout3 = tf.keras.layers.Dropout(rate)\n",
    "    \n",
    "    \n",
    "  def call(self, x, enc_output, training, \n",
    "           look_ahead_mask, padding_mask):\n",
    "    # enc_output.shape == (batch_size, input_seq_len, d_model)\n",
    "\n",
    "    attn1, attn_weights_block1 = self.mha1(x, x, x, look_ahead_mask)  # (batch_size, target_seq_len, d_model)\n",
    "    attn1 = self.dropout1(attn1, training=training)\n",
    "    out1 = self.layernorm1(attn1 + x)\n",
    "    \n",
    "    attn2, attn_weights_block2 = self.mha2(\n",
    "        enc_output, enc_output, out1, padding_mask)  # (batch_size, target_seq_len, d_model)\n",
    "    attn2 = self.dropout2(attn2, training=training)\n",
    "    out2 = self.layernorm2(attn2 + out1)  # (batch_size, target_seq_len, d_model)\n",
    "    \n",
    "    ffn_output = self.ffn(out2)  # (batch_size, target_seq_len, d_model)\n",
    "    ffn_output = self.dropout3(ffn_output, training=training)\n",
    "    out3 = self.layernorm3(ffn_output + out2)  # (batch_size, target_seq_len, d_model)\n",
    "    \n",
    "    return out3, attn_weights_block1, attn_weights_block2"
   ]
  },
  {
   "cell_type": "code",
   "execution_count": 40,
   "metadata": {
    "colab": {
     "base_uri": "https://localhost:8080/"
    },
    "id": "Ne2Bqx8k71l0",
    "outputId": "53c7b26c-e654-4dc6-ef3b-613bff14234e"
   },
   "outputs": [
    {
     "data": {
      "text/plain": [
       "TensorShape([64, 50, 512])"
      ]
     },
     "execution_count": 40,
     "metadata": {},
     "output_type": "execute_result"
    }
   ],
   "source": [
    "sample_decoder_layer = DecoderLayer(512, 8, 2048)\n",
    "\n",
    "sample_decoder_layer_output, _, _ = sample_decoder_layer(\n",
    "    tf.random.uniform((64, 50, 512)), sample_encoder_layer_output, \n",
    "    False, None, None)\n",
    "\n",
    "sample_decoder_layer_output.shape  # (batch_size, target_seq_len, d_model)"
   ]
  },
  {
   "cell_type": "markdown",
   "metadata": {
    "id": "SE1H51Ajm0q1"
   },
   "source": [
    "### Encoder"
   ]
  },
  {
   "cell_type": "code",
   "execution_count": 41,
   "metadata": {
    "id": "jpEox7gJ8FCI"
   },
   "outputs": [],
   "source": [
    "class Encoder(tf.keras.layers.Layer):\n",
    "  def __init__(self, num_layers, d_model, num_heads, dff, input_vocab_size,\n",
    "               maximum_position_encoding, rate=0.1):\n",
    "    super(Encoder, self).__init__()\n",
    "\n",
    "    self.d_model = d_model\n",
    "    self.num_layers = num_layers\n",
    "    \n",
    "    self.embedding = tf.keras.layers.Embedding(input_vocab_size, d_model)\n",
    "    self.pos_encoding = positional_encoding(maximum_position_encoding, \n",
    "                                            self.d_model)\n",
    "    \n",
    "    \n",
    "    self.enc_layers = [EncoderLayer(d_model, num_heads, dff, rate) \n",
    "                       for _ in range(num_layers)]\n",
    "  \n",
    "    self.dropout = tf.keras.layers.Dropout(rate)\n",
    "        \n",
    "  def call(self, x, training, mask):\n",
    "\n",
    "    seq_len = tf.shape(x)[1]\n",
    "    \n",
    "    # adding embedding and position encoding.\n",
    "    x = self.embedding(x)  # (batch_size, input_seq_len, d_model)\n",
    "    x *= tf.math.sqrt(tf.cast(self.d_model, tf.float32))\n",
    "    x += self.pos_encoding[:, :seq_len, :]\n",
    "\n",
    "    x = self.dropout(x, training=training)\n",
    "    \n",
    "    for i in range(self.num_layers):\n",
    "      x = self.enc_layers[i](x, training, mask)\n",
    "    \n",
    "    return x  # (batch_size, input_seq_len, d_model)"
   ]
  },
  {
   "cell_type": "code",
   "execution_count": 42,
   "metadata": {
    "colab": {
     "base_uri": "https://localhost:8080/"
    },
    "id": "8QG9nueFQKXx",
    "outputId": "c1c5cc6b-19bb-4190-c8d7-f605fb303c07"
   },
   "outputs": [
    {
     "name": "stdout",
     "output_type": "stream",
     "text": [
      "(64, 62, 512)\n"
     ]
    }
   ],
   "source": [
    "sample_encoder = Encoder(num_layers=2, d_model=512, num_heads=8, \n",
    "                         dff=2048, input_vocab_size=8500,\n",
    "                         maximum_position_encoding=10000)\n",
    "temp_input = tf.random.uniform((64, 62), dtype=tf.int64, minval=0, maxval=200)\n",
    "\n",
    "sample_encoder_output = sample_encoder(temp_input, training=False, mask=None)\n",
    "\n",
    "print (sample_encoder_output.shape)  # (batch_size, input_seq_len, d_model)"
   ]
  },
  {
   "cell_type": "markdown",
   "metadata": {
    "id": "p-uO6ls8m2O5"
   },
   "source": [
    "### Decoder"
   ]
  },
  {
   "cell_type": "code",
   "execution_count": 43,
   "metadata": {
    "id": "d5_d5-PLQXwY"
   },
   "outputs": [],
   "source": [
    "class Decoder(tf.keras.layers.Layer):\n",
    "  def __init__(self, num_layers, d_model, num_heads, dff, target_vocab_size,\n",
    "               maximum_position_encoding, rate=0.1):\n",
    "    super(Decoder, self).__init__()\n",
    "\n",
    "    self.d_model = d_model\n",
    "    self.num_layers = num_layers\n",
    "    \n",
    "    self.embedding = tf.keras.layers.Embedding(target_vocab_size, d_model)\n",
    "    self.pos_encoding = positional_encoding(maximum_position_encoding, d_model)\n",
    "    \n",
    "    self.dec_layers = [DecoderLayer(d_model, num_heads, dff, rate) \n",
    "                       for _ in range(num_layers)]\n",
    "    self.dropout = tf.keras.layers.Dropout(rate)\n",
    "    \n",
    "  def call(self, x, enc_output, training, \n",
    "           look_ahead_mask, padding_mask):\n",
    "\n",
    "    seq_len = tf.shape(x)[1]\n",
    "    attention_weights = {}\n",
    "    \n",
    "    x = self.embedding(x)  # (batch_size, target_seq_len, d_model)\n",
    "    x *= tf.math.sqrt(tf.cast(self.d_model, tf.float32))\n",
    "    x += self.pos_encoding[:, :seq_len, :]\n",
    "    \n",
    "    x = self.dropout(x, training=training)\n",
    "\n",
    "    for i in range(self.num_layers):\n",
    "      x, block1, block2 = self.dec_layers[i](x, enc_output, training,\n",
    "                                             look_ahead_mask, padding_mask)\n",
    "      \n",
    "      attention_weights['decoder_layer{}_block1'.format(i+1)] = block1\n",
    "      attention_weights['decoder_layer{}_block2'.format(i+1)] = block2\n",
    "    \n",
    "    # x.shape == (batch_size, target_seq_len, d_model)\n",
    "    return x, attention_weights"
   ]
  },
  {
   "cell_type": "code",
   "execution_count": 44,
   "metadata": {
    "colab": {
     "base_uri": "https://localhost:8080/"
    },
    "id": "a1jXoAMRZyvu",
    "outputId": "49e16979-6f48-4c6c-c307-0b95259d725e"
   },
   "outputs": [
    {
     "data": {
      "text/plain": [
       "(TensorShape([64, 26, 512]), TensorShape([64, 8, 26, 62]))"
      ]
     },
     "execution_count": 44,
     "metadata": {},
     "output_type": "execute_result"
    }
   ],
   "source": [
    "sample_decoder = Decoder(num_layers=2, d_model=512, num_heads=8, \n",
    "                         dff=2048, target_vocab_size=8000,\n",
    "                         maximum_position_encoding=5000)\n",
    "temp_input = tf.random.uniform((64, 26), dtype=tf.int64, minval=0, maxval=200)\n",
    "\n",
    "output, attn = sample_decoder(temp_input, \n",
    "                              enc_output=sample_encoder_output, \n",
    "                              training=False,\n",
    "                              look_ahead_mask=None, \n",
    "                              padding_mask=None)\n",
    "\n",
    "output.shape, attn['decoder_layer2_block2'].shape"
   ]
  },
  {
   "cell_type": "markdown",
   "metadata": {
    "id": "y54xnJnuYgJ7"
   },
   "source": [
    "## Create the Transformer"
   ]
  },
  {
   "cell_type": "code",
   "execution_count": 45,
   "metadata": {
    "id": "PED3bIpOYkBu"
   },
   "outputs": [],
   "source": [
    "class Transformer(tf.keras.Model):\n",
    "  def __init__(self, num_layers, d_model, num_heads, dff, input_vocab_size, \n",
    "               target_vocab_size, pe_input, pe_target, rate=0.1):\n",
    "    super(Transformer, self).__init__()\n",
    "\n",
    "    self.encoder = Encoder(num_layers, d_model, num_heads, dff, \n",
    "                           input_vocab_size, pe_input, rate)\n",
    "\n",
    "    self.decoder = Decoder(num_layers, d_model, num_heads, dff, \n",
    "                           target_vocab_size, pe_target, rate)\n",
    "\n",
    "    self.final_layer = tf.keras.layers.Dense(target_vocab_size)\n",
    "    \n",
    "  def call(self, inp, tar, training, enc_padding_mask, \n",
    "           look_ahead_mask, dec_padding_mask):\n",
    "\n",
    "    enc_output = self.encoder(inp, training, enc_padding_mask)  # (batch_size, inp_seq_len, d_model)\n",
    "    \n",
    "    # dec_output.shape == (batch_size, tar_seq_len, d_model)\n",
    "    dec_output, attention_weights = self.decoder(\n",
    "        tar, enc_output, training, look_ahead_mask, dec_padding_mask)\n",
    "    \n",
    "    final_output = self.final_layer(dec_output)  # (batch_size, tar_seq_len, target_vocab_size)\n",
    "    \n",
    "    return final_output, attention_weights"
   ]
  },
  {
   "cell_type": "code",
   "execution_count": 46,
   "metadata": {
    "colab": {
     "base_uri": "https://localhost:8080/"
    },
    "id": "tJ4fbQcIkHW1",
    "outputId": "6bc6155a-02f0-44ff-b04d-5ab4b4c387cc"
   },
   "outputs": [
    {
     "data": {
      "text/plain": [
       "TensorShape([64, 36, 8000])"
      ]
     },
     "execution_count": 46,
     "metadata": {},
     "output_type": "execute_result"
    }
   ],
   "source": [
    "sample_transformer = Transformer(\n",
    "    num_layers=2, d_model=512, num_heads=8, dff=2048, \n",
    "    input_vocab_size=8500, target_vocab_size=8000, \n",
    "    pe_input=10000, pe_target=6000)\n",
    "\n",
    "temp_input = tf.random.uniform((64, 38), dtype=tf.int64, minval=0, maxval=200)\n",
    "temp_target = tf.random.uniform((64, 36), dtype=tf.int64, minval=0, maxval=200)\n",
    "\n",
    "fn_out, _ = sample_transformer(temp_input, temp_target, training=False, \n",
    "                               enc_padding_mask=None, \n",
    "                               look_ahead_mask=None,\n",
    "                               dec_padding_mask=None)\n",
    "\n",
    "fn_out.shape  # (batch_size, tar_seq_len, target_vocab_size)"
   ]
  },
  {
   "cell_type": "markdown",
   "metadata": {
    "id": "wsINyf1VEQLC"
   },
   "source": [
    "## Set hyperparameters"
   ]
  },
  {
   "cell_type": "markdown",
   "metadata": {
    "id": "zVjWCxFNcgbt"
   },
   "source": [
    "To keep this example small and relatively fast, the values for *num_layers, d_model, and dff* have been reduced. \n",
    "\n",
    "The values used in the base model of transformer were; *num_layers=6*, *d_model = 512*, *dff = 2048*. See the [paper](https://arxiv.org/abs/1706.03762) for all the other versions of the transformer.\n",
    "\n",
    "Note: By changing the values below, you can get the model that achieved state of the art on many tasks."
   ]
  },
  {
   "cell_type": "code",
   "execution_count": 47,
   "metadata": {
    "id": "lnJn5SLA2ahP"
   },
   "outputs": [],
   "source": [
    "num_layers = 4\n",
    "d_model = 128\n",
    "dff = 512\n",
    "num_heads = 8\n",
    "\n",
    "input_vocab_size = input_tokenizer.vocab_size + 2\n",
    "target_vocab_size = target_tokenizer.vocab_size + 2\n",
    "dropout_rate = 0.1"
   ]
  },
  {
   "cell_type": "markdown",
   "metadata": {
    "id": "xYEGhEOtzn5W"
   },
   "source": [
    "## Optimizer"
   ]
  },
  {
   "cell_type": "markdown",
   "metadata": {
    "id": "GOmWW--yP3zx"
   },
   "source": [
    "Use the Adam optimizer with a custom learning rate scheduler according to the formula in the [paper](https://arxiv.org/abs/1706.03762).\n",
    "\n",
    "$$\\Large{lrate = d_{model}^{-0.5} * min(step{\\_}num^{-0.5}, step{\\_}num * warmup{\\_}steps^{-1.5})}$$\n"
   ]
  },
  {
   "cell_type": "code",
   "execution_count": 48,
   "metadata": {
    "id": "iYQdOO1axwEI"
   },
   "outputs": [],
   "source": [
    "class CustomSchedule(tf.keras.optimizers.schedules.LearningRateSchedule):\n",
    "  def __init__(self, d_model, warmup_steps=4000):\n",
    "    super(CustomSchedule, self).__init__()\n",
    "    \n",
    "    self.d_model = d_model\n",
    "    self.d_model = tf.cast(self.d_model, tf.float32)\n",
    "\n",
    "    self.warmup_steps = warmup_steps\n",
    "    \n",
    "  def __call__(self, step):\n",
    "    arg1 = tf.math.rsqrt(step)\n",
    "    arg2 = step * (self.warmup_steps ** -1.5)\n",
    "    \n",
    "    return tf.math.rsqrt(self.d_model) * tf.math.minimum(arg1, arg2)"
   ]
  },
  {
   "cell_type": "code",
   "execution_count": 49,
   "metadata": {
    "id": "7r4scdulztRx"
   },
   "outputs": [],
   "source": [
    "learning_rate = CustomSchedule(d_model)\n",
    "\n",
    "optimizer = tf.keras.optimizers.Adam(learning_rate, beta_1=0.9, beta_2=0.98, \n",
    "                                     epsilon=1e-9)"
   ]
  },
  {
   "cell_type": "code",
   "execution_count": 50,
   "metadata": {
    "colab": {
     "base_uri": "https://localhost:8080/",
     "height": 296
    },
    "id": "f33ZCgvHpPdG",
    "outputId": "d32a1d68-c675-424d-ddc5-855608622ba6"
   },
   "outputs": [
    {
     "data": {
      "text/plain": [
       "Text(0.5, 0, 'Train Step')"
      ]
     },
     "execution_count": 50,
     "metadata": {},
     "output_type": "execute_result"
    },
    {
     "data": {
      "image/png": "[encoded data removed]",
      "text/plain": [
       "<Figure size 432x288 with 1 Axes>"
      ]
     },
     "metadata": {
      "needs_background": "light"
     },
     "output_type": "display_data"
    }
   ],
   "source": [
    "temp_learning_rate_schedule = CustomSchedule(d_model)\n",
    "\n",
    "plt.plot(temp_learning_rate_schedule(tf.range(40000, dtype=tf.float32)))\n",
    "plt.ylabel(\"Learning Rate\")\n",
    "plt.xlabel(\"Train Step\")"
   ]
  },
  {
   "cell_type": "markdown",
   "metadata": {
    "id": "YgkDE7hzo8r5"
   },
   "source": [
    "## Loss and metrics"
   ]
  },
  {
   "cell_type": "markdown",
   "metadata": {
    "id": "oxGJtoDuYIHL"
   },
   "source": [
    "Since the target sequences are padded, it is important to apply a padding mask when calculating the loss."
   ]
  },
  {
   "cell_type": "code",
   "execution_count": 51,
   "metadata": {
    "id": "MlhsJMm0TW_B"
   },
   "outputs": [],
   "source": [
    "loss_object = tf.keras.losses.SparseCategoricalCrossentropy(\n",
    "    from_logits=True, reduction='none')"
   ]
  },
  {
   "cell_type": "code",
   "execution_count": 52,
   "metadata": {
    "id": "67oqVHiT0Eiu"
   },
   "outputs": [],
   "source": [
    "def loss_function(real, pred):\n",
    "  mask = tf.math.logical_not(tf.math.equal(real, 0))\n",
    "  loss_ = loss_object(real, pred)\n",
    "\n",
    "  mask = tf.cast(mask, dtype=loss_.dtype)\n",
    "  loss_ *= mask\n",
    "  \n",
    "  return tf.reduce_sum(loss_)/tf.reduce_sum(mask)"
   ]
  },
  {
   "cell_type": "code",
   "execution_count": 53,
   "metadata": {
    "id": "phlyxMnm-Tpx"
   },
   "outputs": [],
   "source": [
    "train_loss = tf.keras.metrics.Mean(name='train_loss')\n",
    "train_accuracy = tf.keras.metrics.SparseCategoricalAccuracy(\n",
    "    name='train_accuracy')"
   ]
  },
  {
   "cell_type": "markdown",
   "metadata": {
    "id": "aeHumfr7zmMa"
   },
   "source": [
    "## Training and checkpointing"
   ]
  },
  {
   "cell_type": "code",
   "execution_count": 54,
   "metadata": {
    "id": "UiysUa--4tOU"
   },
   "outputs": [],
   "source": [
    "transformer = Transformer(num_layers, d_model, num_heads, dff,\n",
    "                          input_vocab_size, target_vocab_size, \n",
    "                          pe_input=input_vocab_size, \n",
    "                          pe_target=target_vocab_size,\n",
    "                          rate=dropout_rate)"
   ]
  },
  {
   "cell_type": "code",
   "execution_count": 55,
   "metadata": {
    "id": "ZOJUSB1T8GjM"
   },
   "outputs": [],
   "source": [
    "def create_masks(inp, tar):\n",
    "  # Encoder padding mask\n",
    "  enc_padding_mask = create_padding_mask(inp)\n",
    "  \n",
    "  # Used in the 2nd attention block in the decoder.\n",
    "  # This padding mask is used to mask the encoder outputs.\n",
    "  dec_padding_mask = create_padding_mask(inp)\n",
    "  \n",
    "  # Used in the 1st attention block in the decoder.\n",
    "  # It is used to pad and mask future tokens in the input received by \n",
    "  # the decoder.\n",
    "  look_ahead_mask = create_look_ahead_mask(tf.shape(tar)[1])\n",
    "  dec_target_padding_mask = create_padding_mask(tar)\n",
    "  combined_mask = tf.maximum(dec_target_padding_mask, look_ahead_mask)\n",
    "  \n",
    "  return enc_padding_mask, combined_mask, dec_padding_mask"
   ]
  },
  {
   "cell_type": "markdown",
   "metadata": {
    "id": "Fzuf06YZp66w"
   },
   "source": [
    "Create the checkpoint path and the checkpoint manager. This will be used to save checkpoints every `n` epochs."
   ]
  },
  {
   "cell_type": "code",
   "execution_count": 56,
   "metadata": {
    "id": "hNhuYfllndLZ"
   },
   "outputs": [],
   "source": [
    "checkpoint_path = \"./checkpoints/Trans-1_EngYue\"\n",
    "\n",
    "ckpt = tf.train.Checkpoint(transformer=transformer,\n",
    "                           optimizer=optimizer)\n",
    "\n",
    "ckpt_manager = tf.train.CheckpointManager(ckpt, checkpoint_path, max_to_keep=5)\n",
    "\n",
    "# if a checkpoint exists, restore the latest checkpoint.\n",
    "# if ckpt_manager.latest_checkpoint:\n",
    "#   ckpt.restore(ckpt_manager.latest_checkpoint)\n",
    "#   print ('Latest checkpoint restored!!')"
   ]
  },
  {
   "cell_type": "code",
   "execution_count": 57,
   "metadata": {
    "id": "LKpoA6q1sJFj"
   },
   "outputs": [],
   "source": [
    "EPOCHS = 100"
   ]
  },
  {
   "cell_type": "code",
   "execution_count": 58,
   "metadata": {},
   "outputs": [],
   "source": [
    "run_id = f\"Trans-1_EngYue_{num_layers}L_{d_model}D_{num_heads}H_{dff}dff\"\n",
    "log_dir = os.path.join(os.path.join(os.getcwd(), 'log'), run_id)\n",
    "%load_ext tensorboard\n",
    "%tensorboard --logdir {log_dir}"
   ]
  },
  {
   "cell_type": "code",
   "execution_count": 59,
   "metadata": {
    "id": "iJwmp9OE29oj"
   },
   "outputs": [],
   "source": [
    "# The @tf.function trace-compiles train_step into a TF graph for faster\n",
    "# execution. The function specializes to the precise shape of the argument\n",
    "# tensors. To avoid re-tracing due to the variable sequence lengths or variable\n",
    "# batch sizes (the last batch is smaller), use input_signature to specify\n",
    "# more generic shapes.\n",
    "\n",
    "train_step_signature = [\n",
    "    tf.TensorSpec(shape=(None, None), dtype=tf.int64),\n",
    "    tf.TensorSpec(shape=(None, None), dtype=tf.int64),\n",
    "]\n",
    "\n",
    "@tf.function(input_signature=train_step_signature)\n",
    "def train_step(inp, tar):\n",
    "  tar_inp = tar[:, :-1]\n",
    "  tar_real = tar[:, 1:]\n",
    "  \n",
    "  enc_padding_mask, combined_mask, dec_padding_mask = create_masks(inp, tar_inp)\n",
    "  \n",
    "  with tf.GradientTape() as tape:\n",
    "    predictions, _ = transformer(inp, tar_inp, \n",
    "                                 True, \n",
    "                                 enc_padding_mask, \n",
    "                                 combined_mask, \n",
    "                                 dec_padding_mask)\n",
    "    loss = loss_function(tar_real, predictions)\n",
    "\n",
    "  gradients = tape.gradient(loss, transformer.trainable_variables)    \n",
    "  optimizer.apply_gradients(zip(gradients, transformer.trainable_variables))\n",
    "  \n",
    "  train_loss(loss)\n",
    "  train_accuracy(tar_real, predictions)"
   ]
  },
  {
   "cell_type": "code",
   "execution_count": 60,
   "metadata": {
    "colab": {
     "base_uri": "https://localhost:8080/"
    },
    "id": "bbvmaKNiznHZ",
    "outputId": "f6bc5b1f-c9b6-4cb7-839f-70abab2c8905",
    "scrolled": true
   },
   "outputs": [
    {
     "name": "stdout",
     "output_type": "stream",
     "text": [
      "Epoch 1 Batch 0 Loss 8.2848 Accuracy 0.0000\n",
      "Epoch 1 Batch 50 Loss 7.8993 Accuracy 0.0703\n",
      "Epoch 1 Batch 100 Loss 7.4229 Accuracy 0.1459\n",
      "Epoch 1 Loss 7.4008 Accuracy 0.1478\n",
      "Time taken for 1 epoch: 98.66584610939026 secs\n",
      "\n",
      "Epoch 2 Batch 0 Loss 6.6599 Accuracy 0.2127\n",
      "Epoch 2 Batch 50 Loss 6.4468 Accuracy 0.2250\n",
      "Epoch 2 Batch 100 Loss 6.2303 Accuracy 0.2238\n",
      "Epoch 2 Loss 6.2173 Accuracy 0.2238\n",
      "Time taken for 1 epoch: 86.97277331352234 secs\n",
      "\n",
      "Epoch 3 Batch 0 Loss 5.7409 Accuracy 0.2059\n",
      "Epoch 3 Batch 50 Loss 5.4644 Accuracy 0.2240\n",
      "Epoch 3 Batch 100 Loss 5.1981 Accuracy 0.2241\n",
      "Epoch 3 Loss 5.1828 Accuracy 0.2239\n",
      "Time taken for 1 epoch: 95.12625002861023 secs\n",
      "\n",
      "Epoch 4 Batch 0 Loss 4.6680 Accuracy 0.2179\n",
      "Epoch 4 Batch 50 Loss 4.4522 Accuracy 0.2274\n",
      "Epoch 4 Batch 100 Loss 4.2457 Accuracy 0.2237\n",
      "Epoch 4 Loss 4.2335 Accuracy 0.2237\n",
      "Time taken for 1 epoch: 90.09856176376343 secs\n",
      "\n",
      "Epoch 5 Batch 0 Loss 3.8544 Accuracy 0.2300\n",
      "Epoch 5 Batch 50 Loss 3.7005 Accuracy 0.2260\n",
      "Epoch 5 Batch 100 Loss 3.6070 Accuracy 0.2274\n",
      "Saving checkpoint for epoch 5 at ./checkpoints/Final_Transformer_Char_1\\ckpt-1\n",
      "Epoch 5 Loss 3.6016 Accuracy 0.2275\n",
      "Time taken for 1 epoch: 86.96653056144714 secs\n",
      "\n",
      "Epoch 6 Batch 0 Loss 3.4193 Accuracy 0.2118\n",
      "Epoch 6 Batch 50 Loss 3.4047 Accuracy 0.2416\n",
      "Epoch 6 Batch 100 Loss 3.3603 Accuracy 0.2426\n",
      "Epoch 6 Loss 3.3583 Accuracy 0.2426\n",
      "Time taken for 1 epoch: 92.97579169273376 secs\n",
      "\n",
      "Epoch 7 Batch 0 Loss 3.3301 Accuracy 0.2326\n",
      "Epoch 7 Batch 50 Loss 3.2751 Accuracy 0.2450\n",
      "Epoch 7 Batch 100 Loss 3.2413 Accuracy 0.2456\n",
      "Epoch 7 Loss 3.2420 Accuracy 0.2459\n",
      "Time taken for 1 epoch: 99.76746892929077 secs\n",
      "\n",
      "Epoch 8 Batch 0 Loss 3.1837 Accuracy 0.2426\n",
      "Epoch 8 Batch 50 Loss 3.1966 Accuracy 0.2493\n",
      "Epoch 8 Batch 100 Loss 3.1646 Accuracy 0.2499\n",
      "Epoch 8 Loss 3.1634 Accuracy 0.2495\n",
      "Time taken for 1 epoch: 84.53488564491272 secs\n",
      "\n",
      "Epoch 9 Batch 0 Loss 3.1556 Accuracy 0.2574\n",
      "Epoch 9 Batch 50 Loss 3.1221 Accuracy 0.2514\n",
      "Epoch 9 Batch 100 Loss 3.0912 Accuracy 0.2535\n",
      "Epoch 9 Loss 3.0906 Accuracy 0.2535\n",
      "Time taken for 1 epoch: 92.37467885017395 secs\n",
      "\n",
      "Epoch 10 Batch 0 Loss 3.0098 Accuracy 0.2512\n",
      "Epoch 10 Batch 50 Loss 3.0451 Accuracy 0.2584\n",
      "Epoch 10 Batch 100 Loss 3.0172 Accuracy 0.2589\n",
      "Saving checkpoint for epoch 10 at ./checkpoints/Final_Transformer_Char_1\\ckpt-2\n",
      "Epoch 10 Loss 3.0160 Accuracy 0.2586\n",
      "Time taken for 1 epoch: 83.70767974853516 secs\n",
      "\n",
      "Epoch 11 Batch 0 Loss 3.0179 Accuracy 0.2669\n",
      "Epoch 11 Batch 50 Loss 2.9693 Accuracy 0.2586\n",
      "Epoch 11 Batch 100 Loss 2.9411 Accuracy 0.2600\n",
      "Epoch 11 Loss 2.9388 Accuracy 0.2601\n",
      "Time taken for 1 epoch: 90.03362250328064 secs\n",
      "\n",
      "Epoch 12 Batch 0 Loss 2.9076 Accuracy 0.2660\n",
      "Epoch 12 Batch 50 Loss 2.8960 Accuracy 0.2655\n",
      "Epoch 12 Batch 100 Loss 2.8665 Accuracy 0.2654\n",
      "Epoch 12 Loss 2.8637 Accuracy 0.2657\n",
      "Time taken for 1 epoch: 84.93519973754883 secs\n",
      "\n",
      "Epoch 13 Batch 0 Loss 2.7763 Accuracy 0.2784\n",
      "Epoch 13 Batch 50 Loss 2.8208 Accuracy 0.2685\n",
      "Epoch 13 Batch 100 Loss 2.7868 Accuracy 0.2683\n",
      "Epoch 13 Loss 2.7852 Accuracy 0.2684\n",
      "Time taken for 1 epoch: 99.18310451507568 secs\n",
      "\n",
      "Epoch 14 Batch 0 Loss 2.6223 Accuracy 0.2685\n",
      "Epoch 14 Batch 50 Loss 2.7277 Accuracy 0.2748\n",
      "Epoch 14 Batch 100 Loss 2.7004 Accuracy 0.2739\n",
      "Epoch 14 Loss 2.6995 Accuracy 0.2735\n",
      "Time taken for 1 epoch: 101.56192231178284 secs\n",
      "\n",
      "Epoch 15 Batch 0 Loss 2.6514 Accuracy 0.2706\n",
      "Epoch 15 Batch 50 Loss 2.6491 Accuracy 0.2752\n",
      "Epoch 15 Batch 100 Loss 2.6163 Accuracy 0.2764\n",
      "Saving checkpoint for epoch 15 at ./checkpoints/Final_Transformer_Char_1\\ckpt-3\n",
      "Epoch 15 Loss 2.6158 Accuracy 0.2762\n",
      "Time taken for 1 epoch: 95.2967050075531 secs\n",
      "\n",
      "Epoch 16 Batch 0 Loss 2.5538 Accuracy 0.3208\n",
      "Epoch 16 Batch 50 Loss 2.5601 Accuracy 0.2826\n",
      "Epoch 16 Batch 100 Loss 2.5315 Accuracy 0.2805\n",
      "Epoch 16 Loss 2.5292 Accuracy 0.2808\n",
      "Time taken for 1 epoch: 84.13429284095764 secs\n",
      "\n",
      "Epoch 17 Batch 0 Loss 2.4845 Accuracy 0.3240\n",
      "Epoch 17 Batch 50 Loss 2.4726 Accuracy 0.2877\n",
      "Epoch 17 Batch 100 Loss 2.4437 Accuracy 0.2868\n",
      "Epoch 17 Loss 2.4414 Accuracy 0.2870\n",
      "Time taken for 1 epoch: 85.59025526046753 secs\n",
      "\n",
      "Epoch 18 Batch 0 Loss 2.2949 Accuracy 0.3077\n",
      "Epoch 18 Batch 50 Loss 2.3902 Accuracy 0.2915\n",
      "Epoch 18 Batch 100 Loss 2.3564 Accuracy 0.2919\n",
      "Epoch 18 Loss 2.3545 Accuracy 0.2924\n",
      "Time taken for 1 epoch: 84.98842811584473 secs\n",
      "\n",
      "Epoch 19 Batch 0 Loss 2.2303 Accuracy 0.2965\n",
      "Epoch 19 Batch 50 Loss 2.2994 Accuracy 0.2958\n",
      "Epoch 19 Batch 100 Loss 2.2639 Accuracy 0.2953\n",
      "Epoch 19 Loss 2.2629 Accuracy 0.2950\n",
      "Time taken for 1 epoch: 84.76488828659058 secs\n",
      "\n",
      "Epoch 20 Batch 0 Loss 2.1891 Accuracy 0.3203\n",
      "Epoch 20 Batch 50 Loss 2.2150 Accuracy 0.3037\n",
      "Epoch 20 Batch 100 Loss 2.1799 Accuracy 0.3018\n",
      "Saving checkpoint for epoch 20 at ./checkpoints/Final_Transformer_Char_1\\ckpt-4\n",
      "Epoch 20 Loss 2.1786 Accuracy 0.3023\n",
      "Time taken for 1 epoch: 87.87188506126404 secs\n",
      "\n",
      "Epoch 21 Batch 0 Loss 2.2542 Accuracy 0.2882\n",
      "Epoch 21 Batch 50 Loss 2.1259 Accuracy 0.3076\n",
      "Epoch 21 Batch 100 Loss 2.0920 Accuracy 0.3068\n",
      "Epoch 21 Loss 2.0906 Accuracy 0.3064\n",
      "Time taken for 1 epoch: 90.3398962020874 secs\n",
      "\n",
      "Epoch 22 Batch 0 Loss 2.0309 Accuracy 0.3166\n",
      "Epoch 22 Batch 50 Loss 2.0413 Accuracy 0.3089\n",
      "Epoch 22 Batch 100 Loss 2.0104 Accuracy 0.3108\n",
      "Epoch 22 Loss 2.0084 Accuracy 0.3107\n",
      "Time taken for 1 epoch: 95.46547722816467 secs\n",
      "\n",
      "Epoch 23 Batch 0 Loss 1.9161 Accuracy 0.3010\n",
      "Epoch 23 Batch 50 Loss 1.9586 Accuracy 0.3183\n",
      "Epoch 23 Batch 100 Loss 1.9328 Accuracy 0.3166\n",
      "Epoch 23 Loss 1.9304 Accuracy 0.3172\n",
      "Time taken for 1 epoch: 91.33104038238525 secs\n",
      "\n",
      "Epoch 24 Batch 0 Loss 1.8550 Accuracy 0.3084\n",
      "Epoch 24 Batch 50 Loss 1.8811 Accuracy 0.3166\n",
      "Epoch 24 Batch 100 Loss 1.8564 Accuracy 0.3191\n",
      "Epoch 24 Loss 1.8546 Accuracy 0.3198\n",
      "Time taken for 1 epoch: 88.11794638633728 secs\n",
      "\n",
      "Epoch 25 Batch 0 Loss 1.8161 Accuracy 0.3359\n",
      "Epoch 25 Batch 50 Loss 1.7979 Accuracy 0.3274\n",
      "Epoch 25 Batch 100 Loss 1.7802 Accuracy 0.3247\n",
      "Saving checkpoint for epoch 25 at ./checkpoints/Final_Transformer_Char_1\\ckpt-5\n",
      "Epoch 25 Loss 1.7775 Accuracy 0.3249\n",
      "Time taken for 1 epoch: 90.28916072845459 secs\n",
      "\n",
      "Epoch 26 Batch 0 Loss 1.7189 Accuracy 0.3060\n",
      "Epoch 26 Batch 50 Loss 1.7268 Accuracy 0.3314\n",
      "Epoch 26 Batch 100 Loss 1.6980 Accuracy 0.3315\n",
      "Epoch 26 Loss 1.6970 Accuracy 0.3314\n",
      "Time taken for 1 epoch: 84.43613982200623 secs\n",
      "\n",
      "Epoch 27 Batch 0 Loss 1.6017 Accuracy 0.3174\n",
      "Epoch 27 Batch 50 Loss 1.6571 Accuracy 0.3378\n",
      "Epoch 27 Batch 100 Loss 1.6295 Accuracy 0.3370\n",
      "Epoch 27 Loss 1.6283 Accuracy 0.3368\n",
      "Time taken for 1 epoch: 82.09775876998901 secs\n",
      "\n",
      "Epoch 28 Batch 0 Loss 1.5495 Accuracy 0.3621\n",
      "Epoch 28 Batch 50 Loss 1.5921 Accuracy 0.3389\n",
      "Epoch 28 Batch 100 Loss 1.5658 Accuracy 0.3384\n",
      "Epoch 28 Loss 1.5648 Accuracy 0.3384\n",
      "Time taken for 1 epoch: 78.61583828926086 secs\n",
      "\n",
      "Epoch 29 Batch 0 Loss 1.4802 Accuracy 0.3407\n",
      "Epoch 29 Batch 50 Loss 1.5119 Accuracy 0.3420\n",
      "Epoch 29 Batch 100 Loss 1.4920 Accuracy 0.3420\n",
      "Epoch 29 Loss 1.4908 Accuracy 0.3421\n",
      "Time taken for 1 epoch: 80.08634614944458 secs\n",
      "\n",
      "Epoch 30 Batch 0 Loss 1.5024 Accuracy 0.3623\n",
      "Epoch 30 Batch 50 Loss 1.4578 Accuracy 0.3498\n",
      "Epoch 30 Batch 100 Loss 1.4294 Accuracy 0.3488\n",
      "Saving checkpoint for epoch 30 at ./checkpoints/Final_Transformer_Char_1\\ckpt-6\n",
      "Epoch 30 Loss 1.4279 Accuracy 0.3486\n",
      "Time taken for 1 epoch: 79.45489501953125 secs\n",
      "\n",
      "Epoch 31 Batch 0 Loss 1.4156 Accuracy 0.3533\n",
      "Epoch 31 Batch 50 Loss 1.3985 Accuracy 0.3520\n",
      "Epoch 31 Batch 100 Loss 1.3715 Accuracy 0.3526\n",
      "Epoch 31 Loss 1.3698 Accuracy 0.3530\n",
      "Time taken for 1 epoch: 77.7829179763794 secs\n",
      "\n",
      "Epoch 32 Batch 0 Loss 1.3059 Accuracy 0.3121\n",
      "Epoch 32 Batch 50 Loss 1.3336 Accuracy 0.3591\n",
      "Epoch 32 Batch 100 Loss 1.3066 Accuracy 0.3572\n",
      "Epoch 32 Loss 1.3074 Accuracy 0.3573\n",
      "Time taken for 1 epoch: 76.70420408248901 secs\n",
      "\n",
      "Epoch 33 Batch 0 Loss 1.2953 Accuracy 0.3549\n",
      "Epoch 33 Batch 50 Loss 1.2769 Accuracy 0.3621\n",
      "Epoch 33 Batch 100 Loss 1.2524 Accuracy 0.3623\n",
      "Epoch 33 Loss 1.2506 Accuracy 0.3625\n",
      "Time taken for 1 epoch: 70.98234462738037 secs\n",
      "\n",
      "Epoch 34 Batch 0 Loss 1.2328 Accuracy 0.3898\n",
      "Epoch 34 Batch 50 Loss 1.2257 Accuracy 0.3655\n",
      "Epoch 34 Batch 100 Loss 1.2072 Accuracy 0.3655\n",
      "Epoch 34 Loss 1.2040 Accuracy 0.3654\n",
      "Time taken for 1 epoch: 71.2798900604248 secs\n",
      "\n",
      "Epoch 35 Batch 0 Loss 1.1368 Accuracy 0.4003\n",
      "Epoch 35 Batch 50 Loss 1.1867 Accuracy 0.3672\n",
      "Epoch 35 Batch 100 Loss 1.1581 Accuracy 0.3687\n",
      "Saving checkpoint for epoch 35 at ./checkpoints/Final_Transformer_Char_1\\ckpt-7\n",
      "Epoch 35 Loss 1.1559 Accuracy 0.3696\n",
      "Time taken for 1 epoch: 71.97230505943298 secs\n",
      "\n"
     ]
    },
    {
     "name": "stdout",
     "output_type": "stream",
     "text": [
      "Epoch 36 Batch 0 Loss 1.1677 Accuracy 0.3685\n",
      "Epoch 36 Batch 50 Loss 1.1282 Accuracy 0.3722\n",
      "Epoch 36 Batch 100 Loss 1.1091 Accuracy 0.3713\n",
      "Epoch 36 Loss 1.1065 Accuracy 0.3715\n",
      "Time taken for 1 epoch: 43279.85933685303 secs\n",
      "\n",
      "Epoch 37 Batch 0 Loss 1.1474 Accuracy 0.3273\n",
      "Epoch 37 Batch 50 Loss 1.0906 Accuracy 0.3761\n",
      "Epoch 37 Batch 100 Loss 1.0759 Accuracy 0.3760\n",
      "Epoch 37 Loss 1.0740 Accuracy 0.3759\n",
      "Time taken for 1 epoch: 96.16925859451294 secs\n",
      "\n",
      "Epoch 38 Batch 0 Loss 1.1417 Accuracy 0.3581\n",
      "Epoch 38 Batch 50 Loss 1.0516 Accuracy 0.3754\n",
      "Epoch 38 Batch 100 Loss 1.0312 Accuracy 0.3768\n",
      "Epoch 38 Loss 1.0302 Accuracy 0.3772\n",
      "Time taken for 1 epoch: 100.82320809364319 secs\n",
      "\n",
      "Epoch 39 Batch 0 Loss 1.0307 Accuracy 0.3310\n",
      "Epoch 39 Batch 50 Loss 1.0146 Accuracy 0.3839\n",
      "Epoch 39 Batch 100 Loss 0.9972 Accuracy 0.3830\n",
      "Epoch 39 Loss 0.9961 Accuracy 0.3829\n",
      "Time taken for 1 epoch: 117.57186245918274 secs\n",
      "\n",
      "Epoch 40 Batch 0 Loss 0.9571 Accuracy 0.3470\n",
      "Epoch 40 Batch 50 Loss 0.9729 Accuracy 0.3828\n",
      "Epoch 40 Batch 100 Loss 0.9550 Accuracy 0.3826\n",
      "Saving checkpoint for epoch 40 at ./checkpoints/Final_Transformer_Char_1\\ckpt-8\n",
      "Epoch 40 Loss 0.9542 Accuracy 0.3826\n",
      "Time taken for 1 epoch: 96.3219747543335 secs\n",
      "\n",
      "Epoch 41 Batch 0 Loss 0.9697 Accuracy 0.3734\n",
      "Epoch 41 Batch 50 Loss 0.9188 Accuracy 0.3922\n",
      "Epoch 41 Batch 100 Loss 0.8987 Accuracy 0.3909\n",
      "Epoch 41 Loss 0.8973 Accuracy 0.3910\n",
      "Time taken for 1 epoch: 99.72079658508301 secs\n",
      "\n",
      "Epoch 42 Batch 0 Loss 0.8828 Accuracy 0.3971\n",
      "Epoch 42 Batch 50 Loss 0.8750 Accuracy 0.3948\n",
      "Epoch 42 Batch 100 Loss 0.8542 Accuracy 0.3935\n",
      "Epoch 42 Loss 0.8523 Accuracy 0.3934\n",
      "Time taken for 1 epoch: 111.87575030326843 secs\n",
      "\n",
      "Epoch 43 Batch 0 Loss 0.7988 Accuracy 0.3598\n",
      "Epoch 43 Batch 50 Loss 0.8262 Accuracy 0.4000\n",
      "Epoch 43 Batch 100 Loss 0.8063 Accuracy 0.4003\n",
      "Epoch 43 Loss 0.8037 Accuracy 0.4001\n",
      "Time taken for 1 epoch: 101.4051501750946 secs\n",
      "\n",
      "Epoch 44 Batch 0 Loss 0.7992 Accuracy 0.3853\n",
      "Epoch 44 Batch 50 Loss 0.7876 Accuracy 0.4063\n",
      "Epoch 44 Batch 100 Loss 0.7700 Accuracy 0.4070\n",
      "Epoch 44 Loss 0.7688 Accuracy 0.4067\n",
      "Time taken for 1 epoch: 94.17610001564026 secs\n",
      "\n",
      "Epoch 45 Batch 0 Loss 0.8083 Accuracy 0.4054\n",
      "Epoch 45 Batch 50 Loss 0.7514 Accuracy 0.4053\n",
      "Epoch 45 Batch 100 Loss 0.7318 Accuracy 0.4070\n",
      "Saving checkpoint for epoch 45 at ./checkpoints/Final_Transformer_Char_1\\ckpt-9\n",
      "Epoch 45 Loss 0.7314 Accuracy 0.4072\n",
      "Time taken for 1 epoch: 87.76602387428284 secs\n",
      "\n",
      "Epoch 46 Batch 0 Loss 0.7346 Accuracy 0.4219\n",
      "Epoch 46 Batch 50 Loss 0.7242 Accuracy 0.4097\n",
      "Epoch 46 Batch 100 Loss 0.7046 Accuracy 0.4114\n",
      "Epoch 46 Loss 0.7034 Accuracy 0.4110\n",
      "Time taken for 1 epoch: 88.48933625221252 secs\n",
      "\n",
      "Epoch 47 Batch 0 Loss 0.7147 Accuracy 0.4275\n",
      "Epoch 47 Batch 50 Loss 0.6816 Accuracy 0.4133\n",
      "Epoch 47 Batch 100 Loss 0.6640 Accuracy 0.4155\n",
      "Epoch 47 Loss 0.6625 Accuracy 0.4160\n",
      "Time taken for 1 epoch: 87.49228715896606 secs\n",
      "\n",
      "Epoch 48 Batch 0 Loss 0.6909 Accuracy 0.4505\n",
      "Epoch 48 Batch 50 Loss 0.6505 Accuracy 0.4205\n",
      "Epoch 48 Batch 100 Loss 0.6385 Accuracy 0.4203\n",
      "Epoch 48 Loss 0.6368 Accuracy 0.4207\n",
      "Time taken for 1 epoch: 85.00970578193665 secs\n",
      "\n",
      "Epoch 49 Batch 0 Loss 0.6063 Accuracy 0.4058\n",
      "Epoch 49 Batch 50 Loss 0.6208 Accuracy 0.4228\n",
      "Epoch 49 Batch 100 Loss 0.6045 Accuracy 0.4248\n",
      "Epoch 49 Loss 0.6030 Accuracy 0.4247\n",
      "Time taken for 1 epoch: 83.85155367851257 secs\n",
      "\n",
      "Epoch 50 Batch 0 Loss 0.5278 Accuracy 0.4429\n",
      "Epoch 50 Batch 50 Loss 0.5957 Accuracy 0.4285\n",
      "Epoch 50 Batch 100 Loss 0.5811 Accuracy 0.4260\n",
      "Saving checkpoint for epoch 50 at ./checkpoints/Final_Transformer_Char_1\\ckpt-10\n",
      "Epoch 50 Loss 0.5799 Accuracy 0.4269\n",
      "Time taken for 1 epoch: 86.09223079681396 secs\n",
      "\n",
      "Epoch 51 Batch 0 Loss 0.5635 Accuracy 0.4379\n",
      "Epoch 51 Batch 50 Loss 0.5694 Accuracy 0.4276\n",
      "Epoch 51 Batch 100 Loss 0.5587 Accuracy 0.4268\n",
      "Epoch 51 Loss 0.5580 Accuracy 0.4268\n",
      "Time taken for 1 epoch: 83.09408211708069 secs\n",
      "\n",
      "Epoch 52 Batch 0 Loss 0.5282 Accuracy 0.3890\n",
      "Epoch 52 Batch 50 Loss 0.5386 Accuracy 0.4343\n",
      "Epoch 52 Batch 100 Loss 0.5304 Accuracy 0.4327\n",
      "Epoch 52 Loss 0.5303 Accuracy 0.4330\n",
      "Time taken for 1 epoch: 81.0688967704773 secs\n",
      "\n",
      "Epoch 53 Batch 0 Loss 0.4840 Accuracy 0.3820\n",
      "Epoch 53 Batch 50 Loss 0.5269 Accuracy 0.4343\n",
      "Epoch 53 Batch 100 Loss 0.5097 Accuracy 0.4321\n",
      "Epoch 53 Loss 0.5100 Accuracy 0.4323\n",
      "Time taken for 1 epoch: 81.5255720615387 secs\n",
      "\n",
      "Epoch 54 Batch 0 Loss 0.5172 Accuracy 0.3759\n",
      "Epoch 54 Batch 50 Loss 0.5021 Accuracy 0.4385\n",
      "Epoch 54 Batch 100 Loss 0.4913 Accuracy 0.4369\n",
      "Epoch 54 Loss 0.4908 Accuracy 0.4367\n",
      "Time taken for 1 epoch: 81.87087440490723 secs\n",
      "\n",
      "Epoch 55 Batch 0 Loss 0.4420 Accuracy 0.4436\n",
      "Epoch 55 Batch 50 Loss 0.4868 Accuracy 0.4391\n",
      "Epoch 55 Batch 100 Loss 0.4743 Accuracy 0.4377\n",
      "Saving checkpoint for epoch 55 at ./checkpoints/Final_Transformer_Char_1\\ckpt-11\n",
      "Epoch 55 Loss 0.4732 Accuracy 0.4380\n",
      "Time taken for 1 epoch: 82.6868212223053 secs\n",
      "\n",
      "Epoch 56 Batch 0 Loss 0.4556 Accuracy 0.4517\n",
      "Epoch 56 Batch 50 Loss 0.4667 Accuracy 0.4394\n",
      "Epoch 56 Batch 100 Loss 0.4545 Accuracy 0.4409\n",
      "Epoch 56 Loss 0.4537 Accuracy 0.4403\n",
      "Time taken for 1 epoch: 81.41905188560486 secs\n",
      "\n",
      "Epoch 57 Batch 0 Loss 0.4115 Accuracy 0.4332\n",
      "Epoch 57 Batch 50 Loss 0.4422 Accuracy 0.4480\n",
      "Epoch 57 Batch 100 Loss 0.4389 Accuracy 0.4455\n",
      "Epoch 57 Loss 0.4383 Accuracy 0.4456\n",
      "Time taken for 1 epoch: 81.32067394256592 secs\n",
      "\n",
      "Epoch 58 Batch 0 Loss 0.4181 Accuracy 0.4517\n",
      "Epoch 58 Batch 50 Loss 0.4315 Accuracy 0.4482\n",
      "Epoch 58 Batch 100 Loss 0.4221 Accuracy 0.4451\n",
      "Epoch 58 Loss 0.4214 Accuracy 0.4458\n",
      "Time taken for 1 epoch: 83.67767381668091 secs\n",
      "\n",
      "Epoch 59 Batch 0 Loss 0.4289 Accuracy 0.4240\n",
      "Epoch 59 Batch 50 Loss 0.4207 Accuracy 0.4452\n",
      "Epoch 59 Batch 100 Loss 0.4115 Accuracy 0.4464\n",
      "Epoch 59 Loss 0.4106 Accuracy 0.4460\n",
      "Time taken for 1 epoch: 81.85347890853882 secs\n",
      "\n",
      "Epoch 60 Batch 0 Loss 0.4048 Accuracy 0.4540\n",
      "Epoch 60 Batch 50 Loss 0.4007 Accuracy 0.4527\n",
      "Epoch 60 Batch 100 Loss 0.3926 Accuracy 0.4495\n",
      "Saving checkpoint for epoch 60 at ./checkpoints/Final_Transformer_Char_1\\ckpt-12\n",
      "Epoch 60 Loss 0.3924 Accuracy 0.4492\n",
      "Time taken for 1 epoch: 81.99463367462158 secs\n",
      "\n",
      "Epoch 61 Batch 0 Loss 0.3782 Accuracy 0.4517\n",
      "Epoch 61 Batch 50 Loss 0.3904 Accuracy 0.4515\n",
      "Epoch 61 Batch 100 Loss 0.3812 Accuracy 0.4511\n",
      "Epoch 61 Loss 0.3814 Accuracy 0.4510\n",
      "Time taken for 1 epoch: 81.3597424030304 secs\n",
      "\n",
      "Epoch 62 Batch 0 Loss 0.3529 Accuracy 0.4651\n",
      "Epoch 62 Batch 50 Loss 0.3738 Accuracy 0.4543\n",
      "Epoch 62 Batch 100 Loss 0.3709 Accuracy 0.4551\n",
      "Epoch 62 Loss 0.3707 Accuracy 0.4551\n",
      "Time taken for 1 epoch: 81.38506126403809 secs\n",
      "\n",
      "Epoch 63 Batch 0 Loss 0.3758 Accuracy 0.4275\n",
      "Epoch 63 Batch 50 Loss 0.3717 Accuracy 0.4581\n",
      "Epoch 63 Batch 100 Loss 0.3632 Accuracy 0.4544\n",
      "Epoch 63 Loss 0.3629 Accuracy 0.4551\n",
      "Time taken for 1 epoch: 82.09704041481018 secs\n",
      "\n",
      "Epoch 64 Batch 0 Loss 0.3846 Accuracy 0.4568\n",
      "Epoch 64 Batch 50 Loss 0.3540 Accuracy 0.4577\n",
      "Epoch 64 Batch 100 Loss 0.3494 Accuracy 0.4561\n",
      "Epoch 64 Loss 0.3489 Accuracy 0.4567\n",
      "Time taken for 1 epoch: 80.95595407485962 secs\n",
      "\n",
      "Epoch 65 Batch 0 Loss 0.3478 Accuracy 0.5124\n",
      "Epoch 65 Batch 50 Loss 0.3399 Accuracy 0.4602\n",
      "Epoch 65 Batch 100 Loss 0.3395 Accuracy 0.4591\n",
      "Saving checkpoint for epoch 65 at ./checkpoints/Final_Transformer_Char_1\\ckpt-13\n",
      "Epoch 65 Loss 0.3387 Accuracy 0.4589\n",
      "Time taken for 1 epoch: 82.81508827209473 secs\n",
      "\n",
      "Epoch 66 Batch 0 Loss 0.2711 Accuracy 0.4253\n",
      "Epoch 66 Batch 50 Loss 0.3367 Accuracy 0.4626\n",
      "Epoch 66 Batch 100 Loss 0.3286 Accuracy 0.4605\n",
      "Epoch 66 Loss 0.3287 Accuracy 0.4602\n",
      "Time taken for 1 epoch: 81.64907026290894 secs\n",
      "\n",
      "Epoch 67 Batch 0 Loss 0.3053 Accuracy 0.4313\n",
      "Epoch 67 Batch 50 Loss 0.3217 Accuracy 0.4669\n",
      "Epoch 67 Batch 100 Loss 0.3140 Accuracy 0.4620\n",
      "Epoch 67 Loss 0.3135 Accuracy 0.4615\n",
      "Time taken for 1 epoch: 82.01952362060547 secs\n",
      "\n",
      "Epoch 68 Batch 0 Loss 0.3213 Accuracy 0.4536\n",
      "Epoch 68 Batch 50 Loss 0.3203 Accuracy 0.4653\n",
      "Epoch 68 Batch 100 Loss 0.3136 Accuracy 0.4614\n",
      "Epoch 68 Loss 0.3129 Accuracy 0.4618\n",
      "Time taken for 1 epoch: 81.8141918182373 secs\n",
      "\n",
      "Epoch 69 Batch 0 Loss 0.2774 Accuracy 0.4931\n",
      "Epoch 69 Batch 50 Loss 0.3130 Accuracy 0.4635\n",
      "Epoch 69 Batch 100 Loss 0.3029 Accuracy 0.4614\n",
      "Epoch 69 Loss 0.3022 Accuracy 0.4608\n",
      "Time taken for 1 epoch: 82.1924934387207 secs\n",
      "\n",
      "Epoch 70 Batch 0 Loss 0.2880 Accuracy 0.4444\n",
      "Epoch 70 Batch 50 Loss 0.2997 Accuracy 0.4612\n",
      "Epoch 70 Batch 100 Loss 0.2934 Accuracy 0.4627\n"
     ]
    },
    {
     "name": "stdout",
     "output_type": "stream",
     "text": [
      "Saving checkpoint for epoch 70 at ./checkpoints/Final_Transformer_Char_1\\ckpt-14\n",
      "Epoch 70 Loss 0.2932 Accuracy 0.4624\n",
      "Time taken for 1 epoch: 83.69284105300903 secs\n",
      "\n",
      "Epoch 71 Batch 0 Loss 0.2634 Accuracy 0.4227\n",
      "Epoch 71 Batch 50 Loss 0.2948 Accuracy 0.4675\n",
      "Epoch 71 Batch 100 Loss 0.2871 Accuracy 0.4663\n",
      "Epoch 71 Loss 0.2866 Accuracy 0.4661\n",
      "Time taken for 1 epoch: 81.27666878700256 secs\n",
      "\n",
      "Epoch 72 Batch 0 Loss 0.2631 Accuracy 0.4572\n",
      "Epoch 72 Batch 50 Loss 0.2844 Accuracy 0.4671\n",
      "Epoch 72 Batch 100 Loss 0.2776 Accuracy 0.4649\n",
      "Epoch 72 Loss 0.2774 Accuracy 0.4664\n",
      "Time taken for 1 epoch: 82.37673592567444 secs\n",
      "\n",
      "Epoch 73 Batch 0 Loss 0.2833 Accuracy 0.4679\n",
      "Epoch 73 Batch 50 Loss 0.2770 Accuracy 0.4685\n",
      "Epoch 73 Batch 100 Loss 0.2754 Accuracy 0.4650\n",
      "Epoch 73 Loss 0.2749 Accuracy 0.4651\n",
      "Time taken for 1 epoch: 83.86760544776917 secs\n",
      "\n",
      "Epoch 74 Batch 0 Loss 0.2720 Accuracy 0.4596\n",
      "Epoch 74 Batch 50 Loss 0.2650 Accuracy 0.4724\n",
      "Epoch 74 Batch 100 Loss 0.2639 Accuracy 0.4716\n",
      "Epoch 74 Loss 0.2636 Accuracy 0.4708\n",
      "Time taken for 1 epoch: 81.64545965194702 secs\n",
      "\n",
      "Epoch 75 Batch 0 Loss 0.2873 Accuracy 0.4293\n",
      "Epoch 75 Batch 50 Loss 0.2610 Accuracy 0.4736\n",
      "Epoch 75 Batch 100 Loss 0.2574 Accuracy 0.4681\n",
      "Saving checkpoint for epoch 75 at ./checkpoints/Final_Transformer_Char_1\\ckpt-15\n",
      "Epoch 75 Loss 0.2570 Accuracy 0.4690\n",
      "Time taken for 1 epoch: 82.11359333992004 secs\n",
      "\n",
      "Epoch 76 Batch 0 Loss 0.2655 Accuracy 0.4518\n",
      "Epoch 76 Batch 50 Loss 0.2568 Accuracy 0.4670\n",
      "Epoch 76 Batch 100 Loss 0.2536 Accuracy 0.4658\n",
      "Epoch 76 Loss 0.2535 Accuracy 0.4663\n",
      "Time taken for 1 epoch: 84.88966345787048 secs\n",
      "\n",
      "Epoch 77 Batch 0 Loss 0.2970 Accuracy 0.3984\n",
      "Epoch 77 Batch 50 Loss 0.2579 Accuracy 0.4728\n",
      "Epoch 77 Batch 100 Loss 0.2530 Accuracy 0.4706\n",
      "Epoch 77 Loss 0.2522 Accuracy 0.4706\n",
      "Time taken for 1 epoch: 85.85359072685242 secs\n",
      "\n",
      "Epoch 78 Batch 0 Loss 0.2336 Accuracy 0.5156\n",
      "Epoch 78 Batch 50 Loss 0.2419 Accuracy 0.4730\n",
      "Epoch 78 Batch 100 Loss 0.2431 Accuracy 0.4712\n",
      "Epoch 78 Loss 0.2424 Accuracy 0.4705\n",
      "Time taken for 1 epoch: 85.133864402771 secs\n",
      "\n",
      "Epoch 79 Batch 0 Loss 0.2492 Accuracy 0.4614\n",
      "Epoch 79 Batch 50 Loss 0.2450 Accuracy 0.4777\n",
      "Epoch 79 Batch 100 Loss 0.2376 Accuracy 0.4749\n",
      "Epoch 79 Loss 0.2374 Accuracy 0.4746\n",
      "Time taken for 1 epoch: 83.66428351402283 secs\n",
      "\n",
      "Epoch 80 Batch 0 Loss 0.2637 Accuracy 0.4792\n",
      "Epoch 80 Batch 50 Loss 0.2415 Accuracy 0.4756\n",
      "Epoch 80 Batch 100 Loss 0.2368 Accuracy 0.4730\n",
      "Saving checkpoint for epoch 80 at ./checkpoints/Final_Transformer_Char_1\\ckpt-16\n",
      "Epoch 80 Loss 0.2363 Accuracy 0.4733\n",
      "Time taken for 1 epoch: 84.59282994270325 secs\n",
      "\n",
      "Epoch 81 Batch 0 Loss 0.2633 Accuracy 0.4991\n",
      "Epoch 81 Batch 50 Loss 0.2351 Accuracy 0.4730\n",
      "Epoch 81 Batch 100 Loss 0.2306 Accuracy 0.4711\n",
      "Epoch 81 Loss 0.2307 Accuracy 0.4717\n",
      "Time taken for 1 epoch: 83.93436241149902 secs\n",
      "\n",
      "Epoch 82 Batch 0 Loss 0.2294 Accuracy 0.5004\n",
      "Epoch 82 Batch 50 Loss 0.2297 Accuracy 0.4759\n",
      "Epoch 82 Batch 100 Loss 0.2254 Accuracy 0.4748\n",
      "Epoch 82 Loss 0.2254 Accuracy 0.4749\n",
      "Time taken for 1 epoch: 91.29977774620056 secs\n",
      "\n",
      "Epoch 83 Batch 0 Loss 0.2152 Accuracy 0.4579\n",
      "Epoch 83 Batch 50 Loss 0.2216 Accuracy 0.4788\n",
      "Epoch 83 Batch 100 Loss 0.2182 Accuracy 0.4732\n",
      "Epoch 83 Loss 0.2184 Accuracy 0.4728\n",
      "Time taken for 1 epoch: 97.57081842422485 secs\n",
      "\n",
      "Epoch 84 Batch 0 Loss 0.1922 Accuracy 0.5151\n",
      "Epoch 84 Batch 50 Loss 0.2227 Accuracy 0.4800\n",
      "Epoch 84 Batch 100 Loss 0.2166 Accuracy 0.4762\n",
      "Epoch 84 Loss 0.2165 Accuracy 0.4759\n",
      "Time taken for 1 epoch: 111.00981307029724 secs\n",
      "\n",
      "Epoch 85 Batch 0 Loss 0.2096 Accuracy 0.4280\n",
      "Epoch 85 Batch 50 Loss 0.2193 Accuracy 0.4774\n",
      "Epoch 85 Batch 100 Loss 0.2128 Accuracy 0.4761\n",
      "Saving checkpoint for epoch 85 at ./checkpoints/Final_Transformer_Char_1\\ckpt-17\n",
      "Epoch 85 Loss 0.2126 Accuracy 0.4767\n",
      "Time taken for 1 epoch: 107.03841733932495 secs\n",
      "\n",
      "Epoch 86 Batch 0 Loss 0.2314 Accuracy 0.4803\n",
      "Epoch 86 Batch 50 Loss 0.2132 Accuracy 0.4776\n",
      "Epoch 86 Batch 100 Loss 0.2097 Accuracy 0.4764\n",
      "Epoch 86 Loss 0.2096 Accuracy 0.4764\n",
      "Time taken for 1 epoch: 100.00447726249695 secs\n",
      "\n",
      "Epoch 87 Batch 0 Loss 0.1903 Accuracy 0.4659\n",
      "Epoch 87 Batch 50 Loss 0.2053 Accuracy 0.4792\n",
      "Epoch 87 Batch 100 Loss 0.2006 Accuracy 0.4790\n",
      "Epoch 87 Loss 0.2001 Accuracy 0.4789\n",
      "Time taken for 1 epoch: 108.97096157073975 secs\n",
      "\n",
      "Epoch 88 Batch 0 Loss 0.2147 Accuracy 0.5396\n",
      "Epoch 88 Batch 50 Loss 0.2009 Accuracy 0.4796\n",
      "Epoch 88 Batch 100 Loss 0.1984 Accuracy 0.4795\n",
      "Epoch 88 Loss 0.1983 Accuracy 0.4793\n",
      "Time taken for 1 epoch: 106.41043901443481 secs\n",
      "\n",
      "Epoch 89 Batch 0 Loss 0.2036 Accuracy 0.4663\n",
      "Epoch 89 Batch 50 Loss 0.2002 Accuracy 0.4800\n",
      "Epoch 89 Batch 100 Loss 0.1967 Accuracy 0.4798\n",
      "Epoch 89 Loss 0.1962 Accuracy 0.4796\n",
      "Time taken for 1 epoch: 99.49033117294312 secs\n",
      "\n",
      "Epoch 90 Batch 0 Loss 0.1653 Accuracy 0.4256\n",
      "Epoch 90 Batch 50 Loss 0.1974 Accuracy 0.4803\n",
      "Epoch 90 Batch 100 Loss 0.1954 Accuracy 0.4791\n",
      "Saving checkpoint for epoch 90 at ./checkpoints/Final_Transformer_Char_1\\ckpt-18\n",
      "Epoch 90 Loss 0.1953 Accuracy 0.4780\n",
      "Time taken for 1 epoch: 95.94661903381348 secs\n",
      "\n",
      "Epoch 91 Batch 0 Loss 0.1453 Accuracy 0.4627\n",
      "Epoch 91 Batch 50 Loss 0.1898 Accuracy 0.4823\n",
      "Epoch 91 Batch 100 Loss 0.1894 Accuracy 0.4780\n",
      "Epoch 91 Loss 0.1893 Accuracy 0.4784\n",
      "Time taken for 1 epoch: 95.86569452285767 secs\n",
      "\n",
      "Epoch 92 Batch 0 Loss 0.1507 Accuracy 0.5029\n",
      "Epoch 92 Batch 50 Loss 0.1836 Accuracy 0.4824\n",
      "Epoch 92 Batch 100 Loss 0.1856 Accuracy 0.4801\n",
      "Epoch 92 Loss 0.1853 Accuracy 0.4806\n",
      "Time taken for 1 epoch: 107.73165774345398 secs\n",
      "\n",
      "Epoch 93 Batch 0 Loss 0.1511 Accuracy 0.5026\n",
      "Epoch 93 Batch 50 Loss 0.1825 Accuracy 0.4841\n",
      "Epoch 93 Batch 100 Loss 0.1838 Accuracy 0.4822\n",
      "Epoch 93 Loss 0.1837 Accuracy 0.4816\n",
      "Time taken for 1 epoch: 128.16715359687805 secs\n",
      "\n",
      "Epoch 94 Batch 0 Loss 0.1730 Accuracy 0.4494\n",
      "Epoch 94 Batch 50 Loss 0.1798 Accuracy 0.4832\n",
      "Epoch 94 Batch 100 Loss 0.1776 Accuracy 0.4810\n",
      "Epoch 94 Loss 0.1774 Accuracy 0.4813\n",
      "Time taken for 1 epoch: 107.59267592430115 secs\n",
      "\n",
      "Epoch 95 Batch 0 Loss 0.1655 Accuracy 0.4198\n",
      "Epoch 95 Batch 50 Loss 0.1766 Accuracy 0.4832\n",
      "Epoch 95 Batch 100 Loss 0.1760 Accuracy 0.4793\n",
      "Saving checkpoint for epoch 95 at ./checkpoints/Final_Transformer_Char_1\\ckpt-19\n",
      "Epoch 95 Loss 0.1750 Accuracy 0.4795\n",
      "Time taken for 1 epoch: 109.49830055236816 secs\n",
      "\n",
      "Epoch 96 Batch 0 Loss 0.1752 Accuracy 0.4996\n",
      "Epoch 96 Batch 50 Loss 0.1746 Accuracy 0.4829\n",
      "Epoch 96 Batch 100 Loss 0.1750 Accuracy 0.4833\n",
      "Epoch 96 Loss 0.1743 Accuracy 0.4825\n",
      "Time taken for 1 epoch: 104.31980657577515 secs\n",
      "\n",
      "Epoch 97 Batch 0 Loss 0.1424 Accuracy 0.4744\n",
      "Epoch 97 Batch 50 Loss 0.1757 Accuracy 0.4867\n",
      "Epoch 97 Batch 100 Loss 0.1723 Accuracy 0.4850\n",
      "Epoch 97 Loss 0.1719 Accuracy 0.4843\n",
      "Time taken for 1 epoch: 105.46083283424377 secs\n",
      "\n",
      "Epoch 98 Batch 0 Loss 0.1607 Accuracy 0.4137\n",
      "Epoch 98 Batch 50 Loss 0.1682 Accuracy 0.4848\n",
      "Epoch 98 Batch 100 Loss 0.1669 Accuracy 0.4824\n",
      "Epoch 98 Loss 0.1664 Accuracy 0.4830\n",
      "Time taken for 1 epoch: 94.99487853050232 secs\n",
      "\n",
      "Epoch 99 Batch 0 Loss 0.1572 Accuracy 0.4371\n",
      "Epoch 99 Batch 50 Loss 0.1669 Accuracy 0.4871\n",
      "Epoch 99 Batch 100 Loss 0.1676 Accuracy 0.4832\n",
      "Epoch 99 Loss 0.1679 Accuracy 0.4833\n",
      "Time taken for 1 epoch: 91.93697261810303 secs\n",
      "\n",
      "Epoch 100 Batch 0 Loss 0.1853 Accuracy 0.4449\n",
      "Epoch 100 Batch 50 Loss 0.1672 Accuracy 0.4844\n",
      "Epoch 100 Batch 100 Loss 0.1663 Accuracy 0.4800\n",
      "Saving checkpoint for epoch 100 at ./checkpoints/Final_Transformer_Char_1\\ckpt-20\n",
      "Epoch 100 Loss 0.1661 Accuracy 0.4806\n",
      "Time taken for 1 epoch: 86.28938460350037 secs\n",
      "\n"
     ]
    }
   ],
   "source": [
    "summary_writer = tf.summary.create_file_writer(log_dir)\n",
    "for epoch in range(EPOCHS):\n",
    "  start = time.time()\n",
    "  \n",
    "  train_loss.reset_states()\n",
    "  train_accuracy.reset_states()\n",
    "  \n",
    "  for (batch, (inp, tar)) in enumerate(train_dataset):\n",
    "    train_step(inp, tar)\n",
    "    \n",
    "    if batch % 50 == 0:\n",
    "      print ('Epoch {} Batch {} Loss {:.4f} Accuracy {:.4f}'.format(\n",
    "          epoch + 1, batch, train_loss.result(), train_accuracy.result()))\n",
    "      \n",
    "  if (epoch + 1) % 5 == 0:\n",
    "    ckpt_save_path = ckpt_manager.save()\n",
    "    print ('Saving checkpoint for epoch {} at {}'.format(epoch+1,\n",
    "                                                         ckpt_save_path))\n",
    "    \n",
    "  # Save output to TensorBoard\n",
    "  with summary_writer.as_default():\n",
    "    tf.summary.scalar(\"train_loss\", train_loss.result(), step=epoch + 1)\n",
    "    tf.summary.scalar(\"train_acc\", train_accuracy.result(), step=epoch + 1)\n",
    "    \n",
    "  print ('Epoch {} Loss {:.4f} Accuracy {:.4f}'.format(epoch + 1, \n",
    "                                                train_loss.result(), \n",
    "                                                train_accuracy.result()))\n",
    "\n",
    "  print ('Time taken for 1 epoch: {} secs\\n'.format(time.time() - start))"
   ]
  },
  {
   "cell_type": "markdown",
   "metadata": {
    "id": "QfcsSWswSdGV"
   },
   "source": [
    "## Evaluate"
   ]
  },
  {
   "cell_type": "markdown",
   "metadata": {
    "id": "y6APsFrgImLW"
   },
   "source": [
    "The following steps are used for evaluation:\n",
    "\n",
    "* Encode the input sentence using the `input_tokenizer`. Moreover, add the start and end token so the input is equivalent to what the model is trained with. This is the encoder input.\n",
    "* The decoder input is the `start token == target_tokenizer.vocab_size`.\n",
    "* Calculate the padding masks and the look ahead masks.\n",
    "* The `decoder` then outputs the predictions by looking at the `encoder output` and its own output (self-attention).\n",
    "* Select the last word and calculate the argmax of that.\n",
    "* Concatentate the predicted word to the decoder input as pass it to the decoder.\n",
    "* In this approach, the decoder predicts the next word based on the previous words it predicted."
   ]
  },
  {
   "cell_type": "code",
   "execution_count": 61,
   "metadata": {
    "id": "5buvMlnvyrFm"
   },
   "outputs": [],
   "source": [
    "def evaluate(inp_sentence):\n",
    "  start_token = [input_tokenizer.vocab_size]\n",
    "  end_token = [input_tokenizer.vocab_size + 1]\n",
    "  \n",
    "  inp_sentence = start_token + input_tokenizer.encode(inp_sentence) + end_token\n",
    "  encoder_input = tf.expand_dims(inp_sentence, 0)\n",
    "  \n",
    "  decoder_input = [target_tokenizer.vocab_size]\n",
    "  output = tf.expand_dims(decoder_input, 0)\n",
    "    \n",
    "  for i in range(MAX_LENGTH):\n",
    "    enc_padding_mask, combined_mask, dec_padding_mask = create_masks(\n",
    "        encoder_input, output)\n",
    "  \n",
    "    # predictions.shape == (batch_size, seq_len, vocab_size)\n",
    "    predictions, attention_weights = transformer(encoder_input, \n",
    "                                                 output,\n",
    "                                                 False,\n",
    "                                                 enc_padding_mask,\n",
    "                                                 combined_mask,\n",
    "                                                 dec_padding_mask)\n",
    "    \n",
    "    # select the last word from the seq_len dimension\n",
    "    predictions = predictions[: ,-1:, :]  # (batch_size, 1, vocab_size)\n",
    "\n",
    "    predicted_id = tf.cast(tf.argmax(predictions, axis=-1), tf.int32)\n",
    "    \n",
    "    # return the result if the predicted_id is equal to the end token\n",
    "    if predicted_id == target_tokenizer.vocab_size+1:\n",
    "      return tf.squeeze(output, axis=0), attention_weights\n",
    "    \n",
    "    # concatentate the predicted_id to the output which is given to the decoder\n",
    "    # as its input.\n",
    "    output = tf.concat([output, predicted_id], axis=-1)\n",
    "\n",
    "  return tf.squeeze(output, axis=0), attention_weights"
   ]
  },
  {
   "cell_type": "code",
   "execution_count": 62,
   "metadata": {},
   "outputs": [],
   "source": [
    "# Chinese font in matplotlib\n",
    "from matplotlib.font_manager import FontProperties\n",
    "import wget\n",
    "# !wget -qO taipei_sans_tc_beta.ttf https://drive.google.com/uc?id=1eGAsTN1HBpJAkeVM57_C7ccp7hbgSz3_&export=download\n",
    "# !mv taipei_sans_tc_beta.ttf /usr/local/lib/python3.6/dist-packages/matplotlib//mpl-data/fonts/ttf\n",
    "# chinese = FontProperties(fname=r'/usr/local/lib/python3.6/dist-packages/matplotlib/mpl-data/fonts/ttf/taipei_sans_tc_beta.ttf')\n",
    "if not os.path.isfile('taipei_sans_tc_beta.ttf'):\n",
    "    wget.download('https://drive.google.com/uc?id=1eGAsTN1HBpJAkeVM57_C7ccp7hbgSz3_&export=download', 'taipei_sans_tc_beta.ttf')\n",
    "chinese = FontProperties(fname=r'taipei_sans_tc_beta.ttf')"
   ]
  },
  {
   "cell_type": "code",
   "execution_count": 63,
   "metadata": {
    "id": "CN-BV43FMBej"
   },
   "outputs": [],
   "source": [
    "def plot_attention_weights(attention, sentence, result, layer):\n",
    "  fig = plt.figure(figsize=(16, 8))\n",
    "  \n",
    "  sentence = input_tokenizer.encode(sentence)\n",
    "  \n",
    "  attention = tf.squeeze(attention[layer], axis=0)\n",
    "  \n",
    "  for head in range(attention.shape[0]):\n",
    "    ax = fig.add_subplot(2, 4, head+1)\n",
    "    \n",
    "    # plot the attention weights\n",
    "    ax.matshow(attention[head][:-1, :], cmap='viridis')\n",
    "\n",
    "    # show Chinese character\n",
    "    fontdict = {\"fontproperties\": chinese}\n",
    "    \n",
    "    ax.set_xticks(range(len(sentence)+2))\n",
    "    ax.set_yticks(range(len(result)))\n",
    "    \n",
    "    ax.set_ylim(len(result)-1.5, -0.5)\n",
    "        \n",
    "    ax.set_xticklabels(\n",
    "        ['<start>']+[input_tokenizer.decode([i]) for i in sentence]+['<end>'], \n",
    "        fontdict=fontdict, rotation=90)\n",
    "    \n",
    "    ax.set_yticklabels([target_tokenizer.decode([i]) for i in result \n",
    "                        if i < target_tokenizer.vocab_size], \n",
    "                       fontdict=fontdict)\n",
    "    \n",
    "    ax.set_xlabel('Head {}'.format(head+1))\n",
    "  \n",
    "  plt.tight_layout()\n",
    "  plt.show()"
   ]
  },
  {
   "cell_type": "code",
   "execution_count": 64,
   "metadata": {
    "id": "lU2_yG_vBGza"
   },
   "outputs": [],
   "source": [
    "def translate(sentence, plot=''):\n",
    "  result, attention_weights = evaluate(sentence)\n",
    "  \n",
    "  predicted_sentence = target_tokenizer.decode([i for i in result \n",
    "                                            if i < target_tokenizer.vocab_size])  \n",
    "\n",
    "  print('Input: {}'.format(sentence))\n",
    "  print('Predicted translation: {}'.format(predicted_sentence))\n",
    "  \n",
    "  if plot:\n",
    "    plot_attention_weights(attention_weights, sentence, result, plot)"
   ]
  },
  {
   "cell_type": "code",
   "execution_count": 65,
   "metadata": {
    "id": "gZwVWTohOv4_",
    "scrolled": false
   },
   "outputs": [
    {
     "name": "stdout",
     "output_type": "stream",
     "text": [
      "compared to what many others have suffered\n",
      "一 個 夢 想 破 碎 其 實 都 唔 係 啲 乜 \n",
      "\n",
      "Input: compared to what many others have suffered\n",
      "Predicted translation: 對 於 好 多 其 他 城 市 嘅 數 據\n"
     ]
    },
    {
     "data": {
      "image/png": "[encoded data removed]",
      "text/plain": [
       "<Figure size 1152x576 with 8 Axes>"
      ]
     },
     "metadata": {
      "needs_background": "light"
     },
     "output_type": "display_data"
    }
   ],
   "source": [
    "row = df_test.sample()\n",
    "inp = row[inp_lang].values[0]\n",
    "tar = row[tar_lang].values[0]\n",
    "print(inp)\n",
    "print(tar, '\\n')\n",
    "\n",
    "translate(inp, plot='decoder_layer4_block2')"
   ]
  },
  {
   "cell_type": "code",
   "execution_count": 66,
   "metadata": {},
   "outputs": [
    {
     "name": "stdout",
     "output_type": "stream",
     "text": [
      "Model: \"transformer_1\"\n",
      "_________________________________________________________________\n",
      "Layer (type)                 Output Shape              Param #   \n",
      "=================================================================\n",
      "encoder_2 (Encoder)          multiple                  1790592   \n",
      "_________________________________________________________________\n",
      "decoder_2 (Decoder)          multiple                  1485440   \n",
      "_________________________________________________________________\n",
      "dense_151 (Dense)            multiple                  430473    \n",
      "=================================================================\n",
      "Total params: 3,706,505\n",
      "Trainable params: 3,706,505\n",
      "Non-trainable params: 0\n",
      "_________________________________________________________________\n"
     ]
    }
   ],
   "source": [
    "transformer.summary()"
   ]
  },
  {
   "cell_type": "code",
   "execution_count": 67,
   "metadata": {},
   "outputs": [],
   "source": [
    "def translateTest(sentence):\n",
    "  result, attention_weights = evaluate(sentence)\n",
    "  \n",
    "  sentence = input_tokenizer.encode(sentence)\n",
    "  sentence = ' '.join([input_tokenizer.decode([i]) for i in sentence])\n",
    "  predicted_sentence = target_tokenizer.decode([i for i in result \n",
    "                                            if i < target_tokenizer.vocab_size])  \n",
    "\n",
    "#   print('Input: {}'.format(sentence))\n",
    "#   print('Predicted translation: {}'.format(predicted_sentence))\n",
    "  return sentence, predicted_sentence"
   ]
  },
  {
   "cell_type": "code",
   "execution_count": 68,
   "metadata": {},
   "outputs": [
    {
     "name": "stdout",
     "output_type": "stream",
     "text": [
      "Progress: 50 / 1696 in 107.87730121612549 s\n",
      "Progress: 100 / 1696 in 112.12228631973267 s\n",
      "Progress: 150 / 1696 in 113.74958276748657 s\n",
      "Progress: 200 / 1696 in 96.81068062782288 s\n",
      "Progress: 250 / 1696 in 80.27556037902832 s\n",
      "Progress: 300 / 1696 in 81.91865348815918 s\n",
      "Progress: 350 / 1696 in 116.92228174209595 s\n",
      "Progress: 400 / 1696 in 87.52639842033386 s\n",
      "Progress: 450 / 1696 in 109.96604084968567 s\n",
      "Progress: 500 / 1696 in 84.94330143928528 s\n",
      "Progress: 550 / 1696 in 84.09279036521912 s\n",
      "Progress: 600 / 1696 in 90.98169183731079 s\n",
      "Progress: 650 / 1696 in 82.08791875839233 s\n",
      "Progress: 700 / 1696 in 86.26330971717834 s\n",
      "Progress: 750 / 1696 in 83.38762092590332 s\n",
      "Progress: 800 / 1696 in 81.76516795158386 s\n",
      "Progress: 850 / 1696 in 86.29740071296692 s\n",
      "Progress: 900 / 1696 in 85.0802412033081 s\n",
      "Progress: 950 / 1696 in 81.58056831359863 s\n",
      "Progress: 1000 / 1696 in 80.34752655029297 s\n",
      "Progress: 1050 / 1696 in 78.9637861251831 s\n",
      "Progress: 1100 / 1696 in 71.50395250320435 s\n",
      "Progress: 1150 / 1696 in 76.23577189445496 s\n",
      "Progress: 1200 / 1696 in 82.59026002883911 s\n",
      "Progress: 1250 / 1696 in 94.63934254646301 s\n",
      "Progress: 1300 / 1696 in 87.77133584022522 s\n",
      "Progress: 1350 / 1696 in 78.89101552963257 s\n",
      "Progress: 1400 / 1696 in 76.68990111351013 s\n",
      "Progress: 1450 / 1696 in 78.24592566490173 s\n",
      "Progress: 1500 / 1696 in 86.42933201789856 s\n",
      "Progress: 1550 / 1696 in 123.52921915054321 s\n",
      "Progress: 1600 / 1696 in 110.18119835853577 s\n",
      "Progress: 1650 / 1696 in 117.93631911277771 s\n",
      "\n",
      "ToTal: 1696 / 1696 in 3101.692207098007 s\n"
     ]
    }
   ],
   "source": [
    "TotalTime = time.time()\n",
    "start = time.time()\n",
    "\n",
    "ori = []\n",
    "ref = []\n",
    "can = []\n",
    "num_test = 0\n",
    "\n",
    "for index, row in df_test.iterrows():\n",
    "    inp = row[inp_lang]\n",
    "    tar = row[tar_lang]\n",
    "    num_test += 1\n",
    "    o, pre = translateTest(inp)\n",
    "    ori.append(o)\n",
    "    ref.append(tar)\n",
    "    if YueChar:\n",
    "        can.append(spliteKeyWord(pre))\n",
    "    else:\n",
    "        can.append(pre)\n",
    "    if num_test % 50 == 0:\n",
    "        print(f'Progress: {num_test} / {len(df_test)} in {time.time()-start} s')\n",
    "        start = time.time()\n",
    "        \n",
    "print(f'\\nToTal: {num_test} / {len(df_test)} in {time.time()-TotalTime} s')"
   ]
  },
  {
   "cell_type": "code",
   "execution_count": 69,
   "metadata": {},
   "outputs": [
    {
     "name": "stdout",
     "output_type": "stream",
     "text": [
      "We  should  be  celebrat ing  play\n",
      "我 哋 應 該 慶 祝 玩 樂\n",
      "想 要 我 哋 玩 嘅 教 育 工 作\n",
      "BLEU: 21.188855502257358\n"
     ]
    }
   ],
   "source": [
    "import nltk\n",
    "from nltk.translate.bleu_score import sentence_bleu\n",
    "from nltk.translate.bleu_score import corpus_bleu\n",
    "from nltk.translate.bleu_score import SmoothingFunction\n",
    "\n",
    "import random\n",
    "ran = random.randint(1, len(ref))\n",
    "print(ori[ran])\n",
    "print(ref[ran])\n",
    "print(can[ran])\n",
    "\n",
    "smoothie = SmoothingFunction().method4\n",
    "print('BLEU:', sentence_bleu(ref[ran], can[ran], smoothing_function=smoothie)*100)"
   ]
  },
  {
   "cell_type": "code",
   "execution_count": 70,
   "metadata": {},
   "outputs": [
    {
     "name": "stdout",
     "output_type": "stream",
     "text": [
      "BLEU-s: 39.99580644603733\n",
      "BLEU-c: 3.6904260467601167\n"
     ]
    }
   ],
   "source": [
    "# Sentence-based and average score\n",
    "score = 0\n",
    "for i in range(len(ref)):\n",
    "    r = [ref[i].split()]\n",
    "    c = can[i].split()\n",
    "    score += sentence_bleu(r, c, smoothing_function=smoothie)*100\n",
    "print('BLEU-s:', score/len(ref))\n",
    "\n",
    "# Corpus based, summing all nominator and denominator before division\n",
    "r = [[r.split()] for r in ref]\n",
    "c = [c.split() for c in can]\n",
    "score = corpus_bleu(r, c, smoothing_function=smoothie)*100\n",
    "print('BLEU-c:', score)"
   ]
  }
 ],
 "metadata": {
  "accelerator": "GPU",
  "colab": {
   "collapsed_sections": [],
   "name": "Transformer",
   "provenance": []
  },
  "kernelspec": {
   "display_name": "Python 3",
   "language": "python",
   "name": "python3"
  },
  "language_info": {
   "codemirror_mode": {
    "name": "ipython",
    "version": 3
   },
   "file_extension": ".py",
   "mimetype": "text/x-python",
   "name": "python",
   "nbconvert_exporter": "python",
   "pygments_lexer": "ipython3",
   "version": "3.8.5"
  }
 },
 "nbformat": 4,
 "nbformat_minor": 1
}
