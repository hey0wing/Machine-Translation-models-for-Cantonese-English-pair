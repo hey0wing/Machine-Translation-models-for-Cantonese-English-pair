{
  "nbformat": 4,
  "nbformat_minor": 0,
  "metadata": {
    "accelerator": "GPU",
    "kernelspec": {
      "display_name": "Python 3",
      "name": "python3"
    },
    "language_info": {
      "name": "python"
    },
    "colab": {
      "name": "seq2seq_YueEng_Char-4.ipynb",
      "provenance": [],
      "collapsed_sections": [],
      "toc_visible": true
    }
  },
  "cells": [
    {
      "cell_type": "markdown",
      "metadata": {
        "id": "rsVYPBfTHdum"
      },
      "source": [
        "The following additional libraries are needed to run this\n",
        "notebook. Note that running on Colab is experimental, please report a Github\n",
        "issue if you have any problem."
      ]
    },
    {
      "cell_type": "code",
      "metadata": {
        "colab": {
          "base_uri": "https://localhost:8080/"
        },
        "id": "3T0SMuzeHduu",
        "outputId": "0d032e48-c8c6-4d24-eb2e-ccdff8f722da"
      },
      "source": [
        "!pip install d2l==0.15.1\n"
      ],
      "execution_count": 1,
      "outputs": [
        {
          "output_type": "stream",
          "text": [
            "Requirement already satisfied: d2l==0.15.1 in /usr/local/lib/python3.7/dist-packages (0.15.1)\n",
            "Requirement already satisfied: matplotlib in /usr/local/lib/python3.7/dist-packages (from d2l==0.15.1) (3.2.2)\n",
            "Requirement already satisfied: jupyter in /usr/local/lib/python3.7/dist-packages (from d2l==0.15.1) (1.0.0)\n",
            "Requirement already satisfied: numpy in /usr/local/lib/python3.7/dist-packages (from d2l==0.15.1) (1.19.5)\n",
            "Requirement already satisfied: pandas in /usr/local/lib/python3.7/dist-packages (from d2l==0.15.1) (1.1.5)\n",
            "Requirement already satisfied: python-dateutil>=2.1 in /usr/local/lib/python3.7/dist-packages (from matplotlib->d2l==0.15.1) (2.8.1)\n",
            "Requirement already satisfied: kiwisolver>=1.0.1 in /usr/local/lib/python3.7/dist-packages (from matplotlib->d2l==0.15.1) (1.3.1)\n",
            "Requirement already satisfied: pyparsing!=2.0.4,!=2.1.2,!=2.1.6,>=2.0.1 in /usr/local/lib/python3.7/dist-packages (from matplotlib->d2l==0.15.1) (2.4.7)\n",
            "Requirement already satisfied: cycler>=0.10 in /usr/local/lib/python3.7/dist-packages (from matplotlib->d2l==0.15.1) (0.10.0)\n",
            "Requirement already satisfied: ipykernel in /usr/local/lib/python3.7/dist-packages (from jupyter->d2l==0.15.1) (4.10.1)\n",
            "Requirement already satisfied: nbconvert in /usr/local/lib/python3.7/dist-packages (from jupyter->d2l==0.15.1) (5.6.1)\n",
            "Requirement already satisfied: ipywidgets in /usr/local/lib/python3.7/dist-packages (from jupyter->d2l==0.15.1) (7.6.3)\n",
            "Requirement already satisfied: qtconsole in /usr/local/lib/python3.7/dist-packages (from jupyter->d2l==0.15.1) (5.0.3)\n",
            "Requirement already satisfied: notebook in /usr/local/lib/python3.7/dist-packages (from jupyter->d2l==0.15.1) (5.3.1)\n",
            "Requirement already satisfied: jupyter-console in /usr/local/lib/python3.7/dist-packages (from jupyter->d2l==0.15.1) (5.2.0)\n",
            "Requirement already satisfied: pytz>=2017.2 in /usr/local/lib/python3.7/dist-packages (from pandas->d2l==0.15.1) (2018.9)\n",
            "Requirement already satisfied: six>=1.5 in /usr/local/lib/python3.7/dist-packages (from python-dateutil>=2.1->matplotlib->d2l==0.15.1) (1.15.0)\n",
            "Requirement already satisfied: ipython>=4.0.0 in /usr/local/lib/python3.7/dist-packages (from ipykernel->jupyter->d2l==0.15.1) (5.5.0)\n",
            "Requirement already satisfied: traitlets>=4.1.0 in /usr/local/lib/python3.7/dist-packages (from ipykernel->jupyter->d2l==0.15.1) (5.0.5)\n",
            "Requirement already satisfied: tornado>=4.0 in /usr/local/lib/python3.7/dist-packages (from ipykernel->jupyter->d2l==0.15.1) (5.1.1)\n",
            "Requirement already satisfied: jupyter-client in /usr/local/lib/python3.7/dist-packages (from ipykernel->jupyter->d2l==0.15.1) (5.3.5)\n",
            "Requirement already satisfied: pandocfilters>=1.4.1 in /usr/local/lib/python3.7/dist-packages (from nbconvert->jupyter->d2l==0.15.1) (1.4.3)\n",
            "Requirement already satisfied: nbformat>=4.4 in /usr/local/lib/python3.7/dist-packages (from nbconvert->jupyter->d2l==0.15.1) (5.1.3)\n",
            "Requirement already satisfied: bleach in /usr/local/lib/python3.7/dist-packages (from nbconvert->jupyter->d2l==0.15.1) (3.3.0)\n",
            "Requirement already satisfied: entrypoints>=0.2.2 in /usr/local/lib/python3.7/dist-packages (from nbconvert->jupyter->d2l==0.15.1) (0.3)\n",
            "Requirement already satisfied: mistune<2,>=0.8.1 in /usr/local/lib/python3.7/dist-packages (from nbconvert->jupyter->d2l==0.15.1) (0.8.4)\n",
            "Requirement already satisfied: testpath in /usr/local/lib/python3.7/dist-packages (from nbconvert->jupyter->d2l==0.15.1) (0.4.4)\n",
            "Requirement already satisfied: defusedxml in /usr/local/lib/python3.7/dist-packages (from nbconvert->jupyter->d2l==0.15.1) (0.7.1)\n",
            "Requirement already satisfied: jinja2>=2.4 in /usr/local/lib/python3.7/dist-packages (from nbconvert->jupyter->d2l==0.15.1) (2.11.3)\n",
            "Requirement already satisfied: pygments in /usr/local/lib/python3.7/dist-packages (from nbconvert->jupyter->d2l==0.15.1) (2.6.1)\n",
            "Requirement already satisfied: jupyter-core in /usr/local/lib/python3.7/dist-packages (from nbconvert->jupyter->d2l==0.15.1) (4.7.1)\n",
            "Requirement already satisfied: jupyterlab-widgets>=1.0.0; python_version >= \"3.6\" in /usr/local/lib/python3.7/dist-packages (from ipywidgets->jupyter->d2l==0.15.1) (1.0.0)\n",
            "Requirement already satisfied: widgetsnbextension~=3.5.0 in /usr/local/lib/python3.7/dist-packages (from ipywidgets->jupyter->d2l==0.15.1) (3.5.1)\n",
            "Requirement already satisfied: ipython-genutils in /usr/local/lib/python3.7/dist-packages (from qtconsole->jupyter->d2l==0.15.1) (0.2.0)\n",
            "Requirement already satisfied: pyzmq>=17.1 in /usr/local/lib/python3.7/dist-packages (from qtconsole->jupyter->d2l==0.15.1) (22.0.3)\n",
            "Requirement already satisfied: qtpy in /usr/local/lib/python3.7/dist-packages (from qtconsole->jupyter->d2l==0.15.1) (1.9.0)\n",
            "Requirement already satisfied: terminado>=0.8.1 in /usr/local/lib/python3.7/dist-packages (from notebook->jupyter->d2l==0.15.1) (0.9.4)\n",
            "Requirement already satisfied: Send2Trash in /usr/local/lib/python3.7/dist-packages (from notebook->jupyter->d2l==0.15.1) (1.5.0)\n",
            "Requirement already satisfied: prompt-toolkit<2.0.0,>=1.0.0 in /usr/local/lib/python3.7/dist-packages (from jupyter-console->jupyter->d2l==0.15.1) (1.0.18)\n",
            "Requirement already satisfied: decorator in /usr/local/lib/python3.7/dist-packages (from ipython>=4.0.0->ipykernel->jupyter->d2l==0.15.1) (4.4.2)\n",
            "Requirement already satisfied: setuptools>=18.5 in /usr/local/lib/python3.7/dist-packages (from ipython>=4.0.0->ipykernel->jupyter->d2l==0.15.1) (54.2.0)\n",
            "Requirement already satisfied: pickleshare in /usr/local/lib/python3.7/dist-packages (from ipython>=4.0.0->ipykernel->jupyter->d2l==0.15.1) (0.7.5)\n",
            "Requirement already satisfied: pexpect; sys_platform != \"win32\" in /usr/local/lib/python3.7/dist-packages (from ipython>=4.0.0->ipykernel->jupyter->d2l==0.15.1) (4.8.0)\n",
            "Requirement already satisfied: simplegeneric>0.8 in /usr/local/lib/python3.7/dist-packages (from ipython>=4.0.0->ipykernel->jupyter->d2l==0.15.1) (0.8.1)\n",
            "Requirement already satisfied: jsonschema!=2.5.0,>=2.4 in /usr/local/lib/python3.7/dist-packages (from nbformat>=4.4->nbconvert->jupyter->d2l==0.15.1) (2.6.0)\n",
            "Requirement already satisfied: packaging in /usr/local/lib/python3.7/dist-packages (from bleach->nbconvert->jupyter->d2l==0.15.1) (20.9)\n",
            "Requirement already satisfied: webencodings in /usr/local/lib/python3.7/dist-packages (from bleach->nbconvert->jupyter->d2l==0.15.1) (0.5.1)\n",
            "Requirement already satisfied: MarkupSafe>=0.23 in /usr/local/lib/python3.7/dist-packages (from jinja2>=2.4->nbconvert->jupyter->d2l==0.15.1) (1.1.1)\n",
            "Requirement already satisfied: ptyprocess; os_name != \"nt\" in /usr/local/lib/python3.7/dist-packages (from terminado>=0.8.1->notebook->jupyter->d2l==0.15.1) (0.7.0)\n",
            "Requirement already satisfied: wcwidth in /usr/local/lib/python3.7/dist-packages (from prompt-toolkit<2.0.0,>=1.0.0->jupyter-console->jupyter->d2l==0.15.1) (0.2.5)\n"
          ],
          "name": "stdout"
        }
      ]
    },
    {
      "cell_type": "markdown",
      "metadata": {
        "origin_pos": 0,
        "id": "P_yeqOKYHduv"
      },
      "source": [
        "#  Sequence to Sequence Learning\n",
        ":label:`sec_seq2seq`\n",
        "\n",
        "As we have seen in :numref:`sec_machine_translation`,\n",
        "in machine translation\n",
        "both the input and output are a variable-length sequence.\n",
        "To address this type of problem,\n",
        "we have designed a general encoder-decoder architecture\n",
        "in :numref:`sec_encoder-decoder`.\n",
        "In this section,\n",
        "we will\n",
        "use two RNNs to design\n",
        "the encoder and the decoder of\n",
        "this architecture\n",
        "and apply it to *sequence to sequence* learning\n",
        "for machine translation\n",
        ":cite:`Sutskever.Vinyals.Le.2014,Cho.Van-Merrienboer.Gulcehre.ea.2014`.\n",
        "\n",
        "Following the design principle\n",
        "of the encoder-decoder architecture,\n",
        "the RNN encoder can\n",
        "take a variable-length sequence as the input and transforms it into a fixed-shape hidden state.\n",
        "In other words,\n",
        "information of the input sequence\n",
        "is *encoded* in the hidden state of the RNN encoder.\n",
        "To generate the output sequence token by token,\n",
        "a separate RNN decoder\n",
        "can predict the next token based on\n",
        "what tokens have been seen (such as in language modeling) or generated,\n",
        "together with the encoded information of the input sequence.\n",
        ":numref:`fig_seq2seq` illustrates\n",
        "how to use two RNNs\n",
        "for sequence to sequence learning\n",
        "in machine translation.\n",
        "\n",
        "\n",
        "![Sequence to sequence learning with an RNN encoder and an RNN decoder.](http://d2l.ai/_images/seq2seq.svg)\n",
        ":label:`fig_seq2seq`\n",
        "\n",
        "In :numref:`fig_seq2seq`,\n",
        "the special \"&lt;eos&gt;\" token\n",
        "marks the end of the sequence.\n",
        "The model can stop making predictions\n",
        "once this token is generated.\n",
        "At the initial time step of the RNN decoder,\n",
        "there are two special design decisions.\n",
        "First, the special beginning-of-sequence \"&lt;bos&gt;\" token is an input.\n",
        "Second,\n",
        "the final hidden state of the RNN encoder is used\n",
        "to initiate the hidden state of the decoder.\n",
        "In designs such as :cite:`Sutskever.Vinyals.Le.2014`,\n",
        "this is exactly\n",
        "how the encoded input sequence information\n",
        "is fed into the decoder for generating the output sequence.\n",
        "In some other designs such as :cite:`Cho.Van-Merrienboer.Gulcehre.ea.2014`,\n",
        "the final hidden state of the encoder\n",
        "is also fed into the decoder as\n",
        "part of the inputs\n",
        "at every time step as shown in :numref:`fig_seq2seq`.\n",
        "Similar to the training of language models in\n",
        ":numref:`sec_language_model`,\n",
        "we can allow the labels to be the original output sequence,\n",
        "shifted by one token:\n",
        "\"&lt;bos&gt;\", \"Ils\", \"regardent\", \".\" $\\rightarrow$\n",
        "\"Ils\", \"regardent\", \".\", \"&lt;eos&gt;\".\n",
        "\n",
        "\n",
        "In the following,\n",
        "we will explain the design of :numref:`fig_seq2seq`\n",
        "in greater details.\n",
        "We will train this model for machine translation\n",
        "on the English-French dataset as introduced in\n",
        ":numref:`sec_machine_translation`.\n"
      ]
    },
    {
      "cell_type": "code",
      "metadata": {
        "origin_pos": 2,
        "tab": [
          "pytorch"
        ],
        "id": "GTX56qIoHduw"
      },
      "source": [
        "import collections\n",
        "from d2l import torch as d2l\n",
        "import math\n",
        "import torch\n",
        "from torch import nn"
      ],
      "execution_count": 2,
      "outputs": []
    },
    {
      "cell_type": "markdown",
      "metadata": {
        "id": "da1lm0fnZqZS"
      },
      "source": [
        "## Set up Dataset"
      ]
    },
    {
      "cell_type": "code",
      "metadata": {
        "id": "T2fUmdYgaXVI",
        "colab": {
          "base_uri": "https://localhost:8080/"
        },
        "outputId": "9d208db6-0ad2-443a-c7c9-a4b031a8194f"
      },
      "source": [
        "import pandas as pd\n",
        "# import glob\n",
        "import os\n",
        "\n",
        "data = []\n",
        "# for csv in glob.glob(os.getcwd() + \"/*.csv\"):\n",
        "with open('/content/train.csv', 'r') as f:\n",
        "    data.extend(f.readlines()[1:])\n",
        "\n",
        "df_test = pd.read_csv(os.getcwd() + \"/test.csv\", sep='\\t', encoding='utf-8')  \n",
        "\n",
        "YueChar = True\n",
        "# Delete spaces between vocabs in Cantonese\n",
        "# Perform Character based tokenization\n",
        "if YueChar:\n",
        "  for i in range(len(data)):\n",
        "    pair = data[i].split('\\t')\n",
        "    pair[0] = pair[0].replace(' ', '')\n",
        "    data[i] = '\\t'.join(p for p in pair)\n",
        "  df_test['yue'] = df_test['yue'].str.replace(r' ', '')\n",
        "\n",
        "data = ''.join(x for x in data)\n",
        "print('\\n'.join(x for x in data.splitlines()[:5]))"
      ],
      "execution_count": 3,
      "outputs": [
        {
          "output_type": "stream",
          "text": [
            "唔準掂同食醃菜唔準坐梳化或者屋企人嘅床上每次經期完咗要洗床單就算床單無汚糟到他們認為我唔純潔禁止我參拜或者掂一啲聖物你會發現寺廟出面有牌路牌禁止正在嚟緊經期嘅婦女進入\tI was not allowed to touch or eat pickles I was not allowed to sit on the sofa or some other family member s bed I had to wash my bed sheet after every period even if it was not stained I was considered impure and forbidden from worshipping or touching any object of religious importance You ll find signposts outside temples denying the entry of menstruating girls and women\n",
            "佢地扮怪面嚇人\tThey were making scary faces\n",
            "唔會搞到我哋變得邪惡女人型變成自由黨人咩\tturn us into godless sissy liberals\n",
            "呢個模式可以清晰令您瞭解佢哋\tSo it spells those out in very clean terms\n",
            "幾多萬億掌聲\tHow many trillions Applause\n"
          ],
          "name": "stdout"
        }
      ]
    },
    {
      "cell_type": "code",
      "metadata": {
        "colab": {
          "base_uri": "https://localhost:8080/",
          "height": 204
        },
        "id": "9M4wZeEwl9R2",
        "outputId": "849cc1c7-d968-497d-ba36-18dd9a290375"
      },
      "source": [
        "import regex as re\n",
        "def spliteKeyWord(str):\n",
        "    regex = r\"[\\u4e00-\\ufaff]|[0-9]+|[a-zA-Z]+\\'*[a-z]*\"\n",
        "    matches = re.findall(regex, str, re.UNICODE)\n",
        "    return ' '.join(matches)\n",
        "\n",
        "if YueChar:\n",
        "    # df['yue'] = df['yue'].apply(lambda x: spliteKeyWord(x))\n",
        "    df_test['yue'] = df_test['yue'].apply(lambda x: spliteKeyWord(x))\n",
        "df_test.head()"
      ],
      "execution_count": 4,
      "outputs": [
        {
          "output_type": "execute_result",
          "data": {
            "text/html": [
              "<div>\n",
              "<style scoped>\n",
              "    .dataframe tbody tr th:only-of-type {\n",
              "        vertical-align: middle;\n",
              "    }\n",
              "\n",
              "    .dataframe tbody tr th {\n",
              "        vertical-align: top;\n",
              "    }\n",
              "\n",
              "    .dataframe thead th {\n",
              "        text-align: right;\n",
              "    }\n",
              "</style>\n",
              "<table border=\"1\" class=\"dataframe\">\n",
              "  <thead>\n",
              "    <tr style=\"text-align: right;\">\n",
              "      <th></th>\n",
              "      <th>yue</th>\n",
              "      <th>eng</th>\n",
              "    </tr>\n",
              "  </thead>\n",
              "  <tbody>\n",
              "    <tr>\n",
              "      <th>0</th>\n",
              "      <td>我 相 信 主</td>\n",
              "      <td>I believe the almighty</td>\n",
              "    </tr>\n",
              "    <tr>\n",
              "      <th>1</th>\n",
              "      <td>好 耐 以 嚟 有 發 展 紊 亂 嘅 小 朋 友</td>\n",
              "      <td>For too long now children with developmental d...</td>\n",
              "    </tr>\n",
              "    <tr>\n",
              "      <th>2</th>\n",
              "      <td>一 般 會 遇 到 兩 種 反 應</td>\n",
              "      <td>I have two kinds of reactions</td>\n",
              "    </tr>\n",
              "    <tr>\n",
              "      <th>3</th>\n",
              "      <td>但 再 諗 下 嗰 位 官 員 未 必 係 唯 一 睇 小 女 性 嘅 人 呢 種 偏 見 ...</td>\n",
              "      <td>But think about this The IMF official is hardl...</td>\n",
              "    </tr>\n",
              "    <tr>\n",
              "      <th>4</th>\n",
              "      <td>佢 將 呢 個 病 毒 傳 畀 BB</td>\n",
              "      <td>She passes that virus on to baby</td>\n",
              "    </tr>\n",
              "  </tbody>\n",
              "</table>\n",
              "</div>"
            ],
            "text/plain": [
              "                                                 yue                                                eng\n",
              "0                                            我 相 信 主                             I believe the almighty\n",
              "1                          好 耐 以 嚟 有 發 展 紊 亂 嘅 小 朋 友  For too long now children with developmental d...\n",
              "2                                  一 般 會 遇 到 兩 種 反 應                      I have two kinds of reactions\n",
              "3  但 再 諗 下 嗰 位 官 員 未 必 係 唯 一 睇 小 女 性 嘅 人 呢 種 偏 見 ...  But think about this The IMF official is hardl...\n",
              "4                                 佢 將 呢 個 病 毒 傳 畀 BB                   She passes that virus on to baby"
            ]
          },
          "metadata": {
            "tags": []
          },
          "execution_count": 4
        }
      ]
    },
    {
      "cell_type": "code",
      "metadata": {
        "id": "xnCOWextjCE1"
      },
      "source": [
        "inp_lang = 'yue'\n",
        "tar_lang = 'eng'\n",
        "# direction = 'eng2yue'\n",
        "direction = 'yue2eng'"
      ],
      "execution_count": 5,
      "outputs": []
    },
    {
      "cell_type": "code",
      "metadata": {
        "id": "gMLGcrxyc_2j",
        "colab": {
          "base_uri": "https://localhost:8080/"
        },
        "outputId": "1d9466f7-1518-4ded-c845-4fd58954af2f"
      },
      "source": [
        "#@save\n",
        "def tokenize_nmt(text, num_steps, direction, YueChar, num_examples=None):\n",
        "    source, target = [], []\n",
        "    for i, line in enumerate(text.split('\\n')):\n",
        "        if num_examples and i > num_examples:\n",
        "            break\n",
        "        parts = line.split('\\t')\n",
        "        if len(parts) == 2:\n",
        "            yue = [w for w in parts[0]] if YueChar else parts[0].split(' ')\n",
        "            eng = parts[1].split(' ')\n",
        "            if len(yue) < num_steps and len(eng) < num_steps:\n",
        "              if direction == 'yue2eng':\n",
        "                source.append(yue)\n",
        "                target.append(eng)\n",
        "              else:\n",
        "                source.append(eng)\n",
        "                target.append(yue)\n",
        "    return source, target\n",
        "num_steps = 20\n",
        "inp, tar = tokenize_nmt(data, num_steps, direction, YueChar)\n",
        "print('Total size:', len(inp), '\\n')\n",
        "inp[:6], tar[:6]"
      ],
      "execution_count": 6,
      "outputs": [
        {
          "output_type": "stream",
          "text": [
            "Total size: 6603 \n",
            "\n"
          ],
          "name": "stdout"
        },
        {
          "output_type": "execute_result",
          "data": {
            "text/plain": [
              "([['佢', '地', '扮', '怪', '面', '嚇', '人'],\n",
              "  ['呢', '個', '模', '式', '可', '以', '清', '晰', '令', '您', '瞭', '解', '佢', '哋'],\n",
              "  ['幾', '多', '萬', '億', '掌', '聲'],\n",
              "  ['但', '從', '此', '以', '後', '事', '情', '越', '嚟', '越', '複', '雜'],\n",
              "  ['紐', '約'],\n",
              "  ['我', '無', '啦', '啦', '記', '返', '我', '爺', '爺', '教', '過', '我', '嘅', '嘢']],\n",
              " [['They', 'were', 'making', 'scary', 'faces'],\n",
              "  ['So', 'it', 'spells', 'those', 'out', 'in', 'very', 'clean', 'terms'],\n",
              "  ['How', 'many', 'trillions', 'Applause'],\n",
              "  ['But',\n",
              "   'and',\n",
              "   'this',\n",
              "   'of',\n",
              "   'course',\n",
              "   'is',\n",
              "   'where',\n",
              "   'it',\n",
              "   'becomes',\n",
              "   'complicated'],\n",
              "  ['New', 'York'],\n",
              "  ['I',\n",
              "   'cannot',\n",
              "   'help',\n",
              "   'but',\n",
              "   'remember',\n",
              "   'my',\n",
              "   'grandfather',\n",
              "   's',\n",
              "   'lesson']])"
            ]
          },
          "metadata": {
            "tags": []
          },
          "execution_count": 6
        }
      ]
    },
    {
      "cell_type": "code",
      "metadata": {
        "id": "-Q_-pEyCZviG",
        "colab": {
          "base_uri": "https://localhost:8080/",
          "height": 244
        },
        "outputId": "81348f9b-8b2a-4a38-b37a-30b9898dd5a7"
      },
      "source": [
        "d2l.set_figsize()\n",
        "_, _, patches = d2l.plt.hist(\n",
        "    [[len(l) for l in inp], [len(l) for l in tar]],\n",
        "    label=['inp', 'tar'])\n",
        "for patch in patches[1].patches:\n",
        "    patch.set_hatch('/')\n",
        "d2l.plt.legend(loc='upper right');"
      ],
      "execution_count": 7,
      "outputs": [
        {
          "output_type": "display_data",
          "data": {
            "text/plain": [
              "<Figure size 252x180 with 1 Axes>"
            ],
            "image/svg+xml": "<?xml version=\"1.0\" encoding=\"utf-8\" standalone=\"no\"?>\n<!DOCTYPE svg PUBLIC \"-//W3C//DTD SVG 1.1//EN\"\n  \"http://www.w3.org/Graphics/SVG/1.1/DTD/svg11.dtd\">\n<!-- Created with matplotlib (https://matplotlib.org/) -->\n<svg height=\"166.978125pt\" version=\"1.1\" viewBox=\"0 0 242.15 166.978125\" width=\"242.15pt\" xmlns=\"http://www.w3.org/2000/svg\" xmlns:xlink=\"http://www.w3.org/1999/xlink\">\n <defs>\n  <style type=\"text/css\">\n*{stroke-linecap:butt;stroke-linejoin:round;}\n  </style>\n </defs>\n <g id=\"figure_1\">\n  <g id=\"patch_1\">\n   <path d=\"M 0 166.978125 \nL 242.15 166.978125 \nL 242.15 0 \nL 0 0 \nz\n\" style=\"fill:none;\"/>\n  </g>\n  <g id=\"axes_1\">\n   <g id=\"patch_2\">\n    <path d=\"M 39.65 143.1 \nL 234.95 143.1 \nL 234.95 7.2 \nL 39.65 7.2 \nz\n\" style=\"fill:#ffffff;\"/>\n   </g>\n   <g id=\"patch_3\">\n    <path clip-path=\"url(#p6395a89af4)\" d=\"M 48.527273 143.1 \nL 55.774026 143.1 \nL 55.774026 140.772148 \nL 48.527273 140.772148 \nz\n\" style=\"fill:#1f77b4;\"/>\n   </g>\n   <g id=\"patch_4\">\n    <path clip-path=\"url(#p6395a89af4)\" d=\"M 66.644156 143.1 \nL 73.890909 143.1 \nL 73.890909 93.982323 \nL 66.644156 93.982323 \nz\n\" style=\"fill:#1f77b4;\"/>\n   </g>\n   <g id=\"patch_5\">\n    <path clip-path=\"url(#p6395a89af4)\" d=\"M 84.761039 143.1 \nL 92.007792 143.1 \nL 92.007792 92.663207 \nL 84.761039 92.663207 \nz\n\" style=\"fill:#1f77b4;\"/>\n   </g>\n   <g id=\"patch_6\">\n    <path clip-path=\"url(#p6395a89af4)\" d=\"M 102.877922 143.1 \nL 110.124675 143.1 \nL 110.124675 69.384687 \nL 102.877922 69.384687 \nz\n\" style=\"fill:#1f77b4;\"/>\n   </g>\n   <g id=\"patch_7\">\n    <path clip-path=\"url(#p6395a89af4)\" d=\"M 120.994805 143.1 \nL 128.241558 143.1 \nL 128.241558 56.038335 \nL 120.994805 56.038335 \nz\n\" style=\"fill:#1f77b4;\"/>\n   </g>\n   <g id=\"patch_8\">\n    <path clip-path=\"url(#p6395a89af4)\" d=\"M 139.111688 143.1 \nL 146.358442 143.1 \nL 146.358442 53.012127 \nL 139.111688 53.012127 \nz\n\" style=\"fill:#1f77b4;\"/>\n   </g>\n   <g id=\"patch_9\">\n    <path clip-path=\"url(#p6395a89af4)\" d=\"M 157.228571 143.1 \nL 164.475325 143.1 \nL 164.475325 74.117986 \nL 157.228571 74.117986 \nz\n\" style=\"fill:#1f77b4;\"/>\n   </g>\n   <g id=\"patch_10\">\n    <path clip-path=\"url(#p6395a89af4)\" d=\"M 175.345455 143.1 \nL 182.592208 143.1 \nL 182.592208 92.740802 \nL 175.345455 92.740802 \nz\n\" style=\"fill:#1f77b4;\"/>\n   </g>\n   <g id=\"patch_11\">\n    <path clip-path=\"url(#p6395a89af4)\" d=\"M 193.462338 143.1 \nL 200.709091 143.1 \nL 200.709091 115.010586 \nL 193.462338 115.010586 \nz\n\" style=\"fill:#1f77b4;\"/>\n   </g>\n   <g id=\"patch_12\">\n    <path clip-path=\"url(#p6395a89af4)\" d=\"M 211.579221 143.1 \nL 218.825974 143.1 \nL 218.825974 130.917575 \nL 211.579221 130.917575 \nz\n\" style=\"fill:#1f77b4;\"/>\n   </g>\n   <g id=\"patch_13\">\n    <path clip-path=\"url(#p6395a89af4)\" d=\"M 55.774026 143.1 \nL 63.020779 143.1 \nL 63.020779 106.552724 \nL 55.774026 106.552724 \nz\n\" style=\"fill:url(#h0c316a733e);\"/>\n   </g>\n   <g id=\"patch_14\">\n    <path clip-path=\"url(#p6395a89af4)\" d=\"M 73.890909 143.1 \nL 81.137662 143.1 \nL 81.137662 90.87852 \nL 73.890909 90.87852 \nz\n\" style=\"fill:url(#h0c316a733e);\"/>\n   </g>\n   <g id=\"patch_15\">\n    <path clip-path=\"url(#p6395a89af4)\" d=\"M 92.007792 143.1 \nL 99.254545 143.1 \nL 99.254545 21.586125 \nL 92.007792 21.586125 \nz\n\" style=\"fill:url(#h0c316a733e);\"/>\n   </g>\n   <g id=\"patch_16\">\n    <path clip-path=\"url(#p6395a89af4)\" d=\"M 110.124675 143.1 \nL 117.371429 143.1 \nL 117.371429 13.671429 \nL 110.124675 13.671429 \nz\n\" style=\"fill:url(#h0c316a733e);\"/>\n   </g>\n   <g id=\"patch_17\">\n    <path clip-path=\"url(#p6395a89af4)\" d=\"M 128.241558 143.1 \nL 135.488312 143.1 \nL 135.488312 47.347688 \nL 128.241558 47.347688 \nz\n\" style=\"fill:url(#h0c316a733e);\"/>\n   </g>\n   <g id=\"patch_18\">\n    <path clip-path=\"url(#p6395a89af4)\" d=\"M 146.358442 143.1 \nL 153.605195 143.1 \nL 153.605195 91.887256 \nL 146.358442 91.887256 \nz\n\" style=\"fill:url(#h0c316a733e);\"/>\n   </g>\n   <g id=\"patch_19\">\n    <path clip-path=\"url(#p6395a89af4)\" d=\"M 164.475325 143.1 \nL 171.722078 143.1 \nL 171.722078 125.17554 \nL 164.475325 125.17554 \nz\n\" style=\"fill:url(#h0c316a733e);\"/>\n   </g>\n   <g id=\"patch_20\">\n    <path clip-path=\"url(#p6395a89af4)\" d=\"M 182.592208 143.1 \nL 189.838961 143.1 \nL 189.838961 137.28037 \nL 182.592208 137.28037 \nz\n\" style=\"fill:url(#h0c316a733e);\"/>\n   </g>\n   <g id=\"patch_21\">\n    <path clip-path=\"url(#p6395a89af4)\" d=\"M 200.709091 143.1 \nL 207.955844 143.1 \nL 207.955844 141.625694 \nL 200.709091 141.625694 \nz\n\" style=\"fill:url(#h0c316a733e);\"/>\n   </g>\n   <g id=\"patch_22\">\n    <path clip-path=\"url(#p6395a89af4)\" d=\"M 218.825974 143.1 \nL 226.072727 143.1 \nL 226.072727 142.63443 \nL 218.825974 142.63443 \nz\n\" style=\"fill:url(#h0c316a733e);\"/>\n   </g>\n   <g id=\"matplotlib.axis_1\">\n    <g id=\"xtick_1\">\n     <g id=\"line2d_1\">\n      <defs>\n       <path d=\"M 0 0 \nL 0 3.5 \n\" id=\"m56ba211ac4\" style=\"stroke:#000000;stroke-width:0.8;\"/>\n      </defs>\n      <g>\n       <use style=\"stroke:#000000;stroke-width:0.8;\" x=\"46.715584\" xlink:href=\"#m56ba211ac4\" y=\"143.1\"/>\n      </g>\n     </g>\n     <g id=\"text_1\">\n      <!-- 0 -->\n      <defs>\n       <path d=\"M 31.78125 66.40625 \nQ 24.171875 66.40625 20.328125 58.90625 \nQ 16.5 51.421875 16.5 36.375 \nQ 16.5 21.390625 20.328125 13.890625 \nQ 24.171875 6.390625 31.78125 6.390625 \nQ 39.453125 6.390625 43.28125 13.890625 \nQ 47.125 21.390625 47.125 36.375 \nQ 47.125 51.421875 43.28125 58.90625 \nQ 39.453125 66.40625 31.78125 66.40625 \nz\nM 31.78125 74.21875 \nQ 44.046875 74.21875 50.515625 64.515625 \nQ 56.984375 54.828125 56.984375 36.375 \nQ 56.984375 17.96875 50.515625 8.265625 \nQ 44.046875 -1.421875 31.78125 -1.421875 \nQ 19.53125 -1.421875 13.0625 8.265625 \nQ 6.59375 17.96875 6.59375 36.375 \nQ 6.59375 54.828125 13.0625 64.515625 \nQ 19.53125 74.21875 31.78125 74.21875 \nz\n\" id=\"DejaVuSans-48\"/>\n      </defs>\n      <g transform=\"translate(43.534334 157.698438)scale(0.1 -0.1)\">\n       <use xlink:href=\"#DejaVuSans-48\"/>\n      </g>\n     </g>\n    </g>\n    <g id=\"xtick_2\">\n     <g id=\"line2d_2\">\n      <g>\n       <use style=\"stroke:#000000;stroke-width:0.8;\" x=\"94.391593\" xlink:href=\"#m56ba211ac4\" y=\"143.1\"/>\n      </g>\n     </g>\n     <g id=\"text_2\">\n      <!-- 5 -->\n      <defs>\n       <path d=\"M 10.796875 72.90625 \nL 49.515625 72.90625 \nL 49.515625 64.59375 \nL 19.828125 64.59375 \nL 19.828125 46.734375 \nQ 21.96875 47.46875 24.109375 47.828125 \nQ 26.265625 48.1875 28.421875 48.1875 \nQ 40.625 48.1875 47.75 41.5 \nQ 54.890625 34.8125 54.890625 23.390625 \nQ 54.890625 11.625 47.5625 5.09375 \nQ 40.234375 -1.421875 26.90625 -1.421875 \nQ 22.3125 -1.421875 17.546875 -0.640625 \nQ 12.796875 0.140625 7.71875 1.703125 \nL 7.71875 11.625 \nQ 12.109375 9.234375 16.796875 8.0625 \nQ 21.484375 6.890625 26.703125 6.890625 \nQ 35.15625 6.890625 40.078125 11.328125 \nQ 45.015625 15.765625 45.015625 23.390625 \nQ 45.015625 31 40.078125 35.4375 \nQ 35.15625 39.890625 26.703125 39.890625 \nQ 22.75 39.890625 18.8125 39.015625 \nQ 14.890625 38.140625 10.796875 36.28125 \nz\n\" id=\"DejaVuSans-53\"/>\n      </defs>\n      <g transform=\"translate(91.210343 157.698438)scale(0.1 -0.1)\">\n       <use xlink:href=\"#DejaVuSans-53\"/>\n      </g>\n     </g>\n    </g>\n    <g id=\"xtick_3\">\n     <g id=\"line2d_3\">\n      <g>\n       <use style=\"stroke:#000000;stroke-width:0.8;\" x=\"142.067601\" xlink:href=\"#m56ba211ac4\" y=\"143.1\"/>\n      </g>\n     </g>\n     <g id=\"text_3\">\n      <!-- 10 -->\n      <defs>\n       <path d=\"M 12.40625 8.296875 \nL 28.515625 8.296875 \nL 28.515625 63.921875 \nL 10.984375 60.40625 \nL 10.984375 69.390625 \nL 28.421875 72.90625 \nL 38.28125 72.90625 \nL 38.28125 8.296875 \nL 54.390625 8.296875 \nL 54.390625 0 \nL 12.40625 0 \nz\n\" id=\"DejaVuSans-49\"/>\n      </defs>\n      <g transform=\"translate(135.705101 157.698438)scale(0.1 -0.1)\">\n       <use xlink:href=\"#DejaVuSans-49\"/>\n       <use x=\"63.623047\" xlink:href=\"#DejaVuSans-48\"/>\n      </g>\n     </g>\n    </g>\n    <g id=\"xtick_4\">\n     <g id=\"line2d_4\">\n      <g>\n       <use style=\"stroke:#000000;stroke-width:0.8;\" x=\"189.743609\" xlink:href=\"#m56ba211ac4\" y=\"143.1\"/>\n      </g>\n     </g>\n     <g id=\"text_4\">\n      <!-- 15 -->\n      <g transform=\"translate(183.381109 157.698438)scale(0.1 -0.1)\">\n       <use xlink:href=\"#DejaVuSans-49\"/>\n       <use x=\"63.623047\" xlink:href=\"#DejaVuSans-53\"/>\n      </g>\n     </g>\n    </g>\n   </g>\n   <g id=\"matplotlib.axis_2\">\n    <g id=\"ytick_1\">\n     <g id=\"line2d_5\">\n      <defs>\n       <path d=\"M 0 0 \nL -3.5 0 \n\" id=\"m5426575427\" style=\"stroke:#000000;stroke-width:0.8;\"/>\n      </defs>\n      <g>\n       <use style=\"stroke:#000000;stroke-width:0.8;\" x=\"39.65\" xlink:href=\"#m5426575427\" y=\"143.1\"/>\n      </g>\n     </g>\n     <g id=\"text_5\">\n      <!-- 0 -->\n      <g transform=\"translate(26.2875 146.899219)scale(0.1 -0.1)\">\n       <use xlink:href=\"#DejaVuSans-48\"/>\n      </g>\n     </g>\n    </g>\n    <g id=\"ytick_2\">\n     <g id=\"line2d_6\">\n      <g>\n       <use style=\"stroke:#000000;stroke-width:0.8;\" x=\"39.65\" xlink:href=\"#m5426575427\" y=\"104.302467\"/>\n      </g>\n     </g>\n     <g id=\"text_6\">\n      <!-- 500 -->\n      <g transform=\"translate(13.5625 108.101685)scale(0.1 -0.1)\">\n       <use xlink:href=\"#DejaVuSans-53\"/>\n       <use x=\"63.623047\" xlink:href=\"#DejaVuSans-48\"/>\n       <use x=\"127.246094\" xlink:href=\"#DejaVuSans-48\"/>\n      </g>\n     </g>\n    </g>\n    <g id=\"ytick_3\">\n     <g id=\"line2d_7\">\n      <g>\n       <use style=\"stroke:#000000;stroke-width:0.8;\" x=\"39.65\" xlink:href=\"#m5426575427\" y=\"65.504933\"/>\n      </g>\n     </g>\n     <g id=\"text_7\">\n      <!-- 1000 -->\n      <g transform=\"translate(7.2 69.304152)scale(0.1 -0.1)\">\n       <use xlink:href=\"#DejaVuSans-49\"/>\n       <use x=\"63.623047\" xlink:href=\"#DejaVuSans-48\"/>\n       <use x=\"127.246094\" xlink:href=\"#DejaVuSans-48\"/>\n       <use x=\"190.869141\" xlink:href=\"#DejaVuSans-48\"/>\n      </g>\n     </g>\n    </g>\n    <g id=\"ytick_4\">\n     <g id=\"line2d_8\">\n      <g>\n       <use style=\"stroke:#000000;stroke-width:0.8;\" x=\"39.65\" xlink:href=\"#m5426575427\" y=\"26.7074\"/>\n      </g>\n     </g>\n     <g id=\"text_8\">\n      <!-- 1500 -->\n      <g transform=\"translate(7.2 30.506619)scale(0.1 -0.1)\">\n       <use xlink:href=\"#DejaVuSans-49\"/>\n       <use x=\"63.623047\" xlink:href=\"#DejaVuSans-53\"/>\n       <use x=\"127.246094\" xlink:href=\"#DejaVuSans-48\"/>\n       <use x=\"190.869141\" xlink:href=\"#DejaVuSans-48\"/>\n      </g>\n     </g>\n    </g>\n   </g>\n   <g id=\"patch_23\">\n    <path d=\"M 39.65 143.1 \nL 39.65 7.2 \n\" style=\"fill:none;stroke:#000000;stroke-linecap:square;stroke-linejoin:miter;stroke-width:0.8;\"/>\n   </g>\n   <g id=\"patch_24\">\n    <path d=\"M 234.95 143.1 \nL 234.95 7.2 \n\" style=\"fill:none;stroke:#000000;stroke-linecap:square;stroke-linejoin:miter;stroke-width:0.8;\"/>\n   </g>\n   <g id=\"patch_25\">\n    <path d=\"M 39.65 143.1 \nL 234.95 143.1 \n\" style=\"fill:none;stroke:#000000;stroke-linecap:square;stroke-linejoin:miter;stroke-width:0.8;\"/>\n   </g>\n   <g id=\"patch_26\">\n    <path d=\"M 39.65 7.2 \nL 234.95 7.2 \n\" style=\"fill:none;stroke:#000000;stroke-linecap:square;stroke-linejoin:miter;stroke-width:0.8;\"/>\n   </g>\n   <g id=\"legend_1\">\n    <g id=\"patch_27\">\n     <path d=\"M 180.485938 44.55625 \nL 227.95 44.55625 \nQ 229.95 44.55625 229.95 42.55625 \nL 229.95 14.2 \nQ 229.95 12.2 227.95 12.2 \nL 180.485938 12.2 \nQ 178.485938 12.2 178.485938 14.2 \nL 178.485938 42.55625 \nQ 178.485938 44.55625 180.485938 44.55625 \nz\n\" style=\"fill:#ffffff;opacity:0.8;stroke:#cccccc;stroke-linejoin:miter;\"/>\n    </g>\n    <g id=\"patch_28\">\n     <path d=\"M 182.485938 23.798438 \nL 202.485938 23.798438 \nL 202.485938 16.798438 \nL 182.485938 16.798438 \nz\n\" style=\"fill:#1f77b4;\"/>\n    </g>\n    <g id=\"text_9\">\n     <!-- inp -->\n     <defs>\n      <path d=\"M 9.421875 54.6875 \nL 18.40625 54.6875 \nL 18.40625 0 \nL 9.421875 0 \nz\nM 9.421875 75.984375 \nL 18.40625 75.984375 \nL 18.40625 64.59375 \nL 9.421875 64.59375 \nz\n\" id=\"DejaVuSans-105\"/>\n      <path d=\"M 54.890625 33.015625 \nL 54.890625 0 \nL 45.90625 0 \nL 45.90625 32.71875 \nQ 45.90625 40.484375 42.875 44.328125 \nQ 39.84375 48.1875 33.796875 48.1875 \nQ 26.515625 48.1875 22.3125 43.546875 \nQ 18.109375 38.921875 18.109375 30.90625 \nL 18.109375 0 \nL 9.078125 0 \nL 9.078125 54.6875 \nL 18.109375 54.6875 \nL 18.109375 46.1875 \nQ 21.34375 51.125 25.703125 53.5625 \nQ 30.078125 56 35.796875 56 \nQ 45.21875 56 50.046875 50.171875 \nQ 54.890625 44.34375 54.890625 33.015625 \nz\n\" id=\"DejaVuSans-110\"/>\n      <path d=\"M 18.109375 8.203125 \nL 18.109375 -20.796875 \nL 9.078125 -20.796875 \nL 9.078125 54.6875 \nL 18.109375 54.6875 \nL 18.109375 46.390625 \nQ 20.953125 51.265625 25.265625 53.625 \nQ 29.59375 56 35.59375 56 \nQ 45.5625 56 51.78125 48.09375 \nQ 58.015625 40.1875 58.015625 27.296875 \nQ 58.015625 14.40625 51.78125 6.484375 \nQ 45.5625 -1.421875 35.59375 -1.421875 \nQ 29.59375 -1.421875 25.265625 0.953125 \nQ 20.953125 3.328125 18.109375 8.203125 \nz\nM 48.6875 27.296875 \nQ 48.6875 37.203125 44.609375 42.84375 \nQ 40.53125 48.484375 33.40625 48.484375 \nQ 26.265625 48.484375 22.1875 42.84375 \nQ 18.109375 37.203125 18.109375 27.296875 \nQ 18.109375 17.390625 22.1875 11.75 \nQ 26.265625 6.109375 33.40625 6.109375 \nQ 40.53125 6.109375 44.609375 11.75 \nQ 48.6875 17.390625 48.6875 27.296875 \nz\n\" id=\"DejaVuSans-112\"/>\n     </defs>\n     <g transform=\"translate(210.485938 23.798438)scale(0.1 -0.1)\">\n      <use xlink:href=\"#DejaVuSans-105\"/>\n      <use x=\"27.783203\" xlink:href=\"#DejaVuSans-110\"/>\n      <use x=\"91.162109\" xlink:href=\"#DejaVuSans-112\"/>\n     </g>\n    </g>\n    <g id=\"patch_29\">\n     <path d=\"M 182.485938 38.476562 \nL 202.485938 38.476562 \nL 202.485938 31.476562 \nL 182.485938 31.476562 \nz\n\" style=\"fill:url(#h0c316a733e);\"/>\n    </g>\n    <g id=\"text_10\">\n     <!-- tar -->\n     <defs>\n      <path d=\"M 18.3125 70.21875 \nL 18.3125 54.6875 \nL 36.8125 54.6875 \nL 36.8125 47.703125 \nL 18.3125 47.703125 \nL 18.3125 18.015625 \nQ 18.3125 11.328125 20.140625 9.421875 \nQ 21.96875 7.515625 27.59375 7.515625 \nL 36.8125 7.515625 \nL 36.8125 0 \nL 27.59375 0 \nQ 17.1875 0 13.234375 3.875 \nQ 9.28125 7.765625 9.28125 18.015625 \nL 9.28125 47.703125 \nL 2.6875 47.703125 \nL 2.6875 54.6875 \nL 9.28125 54.6875 \nL 9.28125 70.21875 \nz\n\" id=\"DejaVuSans-116\"/>\n      <path d=\"M 34.28125 27.484375 \nQ 23.390625 27.484375 19.1875 25 \nQ 14.984375 22.515625 14.984375 16.5 \nQ 14.984375 11.71875 18.140625 8.90625 \nQ 21.296875 6.109375 26.703125 6.109375 \nQ 34.1875 6.109375 38.703125 11.40625 \nQ 43.21875 16.703125 43.21875 25.484375 \nL 43.21875 27.484375 \nz\nM 52.203125 31.203125 \nL 52.203125 0 \nL 43.21875 0 \nL 43.21875 8.296875 \nQ 40.140625 3.328125 35.546875 0.953125 \nQ 30.953125 -1.421875 24.3125 -1.421875 \nQ 15.921875 -1.421875 10.953125 3.296875 \nQ 6 8.015625 6 15.921875 \nQ 6 25.140625 12.171875 29.828125 \nQ 18.359375 34.515625 30.609375 34.515625 \nL 43.21875 34.515625 \nL 43.21875 35.40625 \nQ 43.21875 41.609375 39.140625 45 \nQ 35.0625 48.390625 27.6875 48.390625 \nQ 23 48.390625 18.546875 47.265625 \nQ 14.109375 46.140625 10.015625 43.890625 \nL 10.015625 52.203125 \nQ 14.9375 54.109375 19.578125 55.046875 \nQ 24.21875 56 28.609375 56 \nQ 40.484375 56 46.34375 49.84375 \nQ 52.203125 43.703125 52.203125 31.203125 \nz\n\" id=\"DejaVuSans-97\"/>\n      <path d=\"M 41.109375 46.296875 \nQ 39.59375 47.171875 37.8125 47.578125 \nQ 36.03125 48 33.890625 48 \nQ 26.265625 48 22.1875 43.046875 \nQ 18.109375 38.09375 18.109375 28.8125 \nL 18.109375 0 \nL 9.078125 0 \nL 9.078125 54.6875 \nL 18.109375 54.6875 \nL 18.109375 46.1875 \nQ 20.953125 51.171875 25.484375 53.578125 \nQ 30.03125 56 36.53125 56 \nQ 37.453125 56 38.578125 55.875 \nQ 39.703125 55.765625 41.0625 55.515625 \nz\n\" id=\"DejaVuSans-114\"/>\n     </defs>\n     <g transform=\"translate(210.485938 38.476562)scale(0.1 -0.1)\">\n      <use xlink:href=\"#DejaVuSans-116\"/>\n      <use x=\"39.208984\" xlink:href=\"#DejaVuSans-97\"/>\n      <use x=\"100.488281\" xlink:href=\"#DejaVuSans-114\"/>\n     </g>\n    </g>\n   </g>\n  </g>\n </g>\n <defs>\n  <clipPath id=\"p6395a89af4\">\n   <rect height=\"135.9\" width=\"195.3\" x=\"39.65\" y=\"7.2\"/>\n  </clipPath>\n </defs>\n <defs>\n  <pattern height=\"72\" id=\"h0c316a733e\" patternUnits=\"userSpaceOnUse\" width=\"72\" x=\"0\" y=\"0\">\n   <rect fill=\"#ff7f0e\" height=\"73\" width=\"73\" x=\"0\" y=\"0\"/>\n   <path d=\"M -36 36 \nL 36 -36 \nM -24 48 \nL 48 -24 \nM -12 60 \nL 60 -12 \nM 0 72 \nL 72 0 \nM 12 84 \nL 84 12 \nM 24 96 \nL 96 24 \nM 36 108 \nL 108 36 \n\" style=\"fill:#000000;stroke:#000000;stroke-linecap:butt;stroke-linejoin:miter;stroke-width:1.0;\"/>\n  </pattern>\n </defs>\n</svg>\n"
          },
          "metadata": {
            "tags": [],
            "needs_background": "light"
          }
        }
      ]
    },
    {
      "cell_type": "code",
      "metadata": {
        "id": "XIxlLb7PhUCC",
        "colab": {
          "base_uri": "https://localhost:8080/"
        },
        "outputId": "6b2dfeba-6c81-4c8e-9347-b0e6fa52e90f"
      },
      "source": [
        "src_vocab = d2l.Vocab(inp, min_freq=2,\n",
        "                      reserved_tokens=['<pad>', '<bos>', '<eos>'])\n",
        "tar_vocab = d2l.Vocab(tar, min_freq=2,\n",
        "                      reserved_tokens=['<pad>', '<bos>', '<eos>'])\n",
        "print('Input vocab size:', len(src_vocab))\n",
        "print('Target vocab size:', len(tar_vocab))"
      ],
      "execution_count": 8,
      "outputs": [
        {
          "output_type": "stream",
          "text": [
            "Input vocab size: 1911\n",
            "Target vocab size: 2756\n"
          ],
          "name": "stdout"
        }
      ]
    },
    {
      "cell_type": "code",
      "metadata": {
        "id": "nOiGqDFaiI0Y",
        "colab": {
          "base_uri": "https://localhost:8080/"
        },
        "outputId": "69c4a6ab-5634-41c9-cdbb-25c93179b608"
      },
      "source": [
        "#@save\n",
        "def truncate_pad(line, num_steps, padding_token):\n",
        "    \"\"\"Truncate or pad sequences.\"\"\"\n",
        "    if len(line) > num_steps:\n",
        "        return line[:num_steps]  # Truncate\n",
        "    return line + [padding_token] * (num_steps - len(line))  # Pad\n",
        "\n",
        "truncate_pad(src_vocab[inp[0]], 10, src_vocab['<pad>'])"
      ],
      "execution_count": 9,
      "outputs": [
        {
          "output_type": "execute_result",
          "data": {
            "text/plain": [
              "[15, 39, 977, 760, 79, 899, 12, 1, 1, 1]"
            ]
          },
          "metadata": {
            "tags": []
          },
          "execution_count": 9
        }
      ]
    },
    {
      "cell_type": "code",
      "metadata": {
        "id": "CktcHjfxiO8U"
      },
      "source": [
        "#@save\n",
        "def build_array_nmt(lines, vocab, num_steps):\n",
        "    \"\"\"Transform text sequences of machine translation into minibatches.\"\"\"\n",
        "    lines = [vocab[l] for l in lines]\n",
        "    lines = [l + [vocab['<eos>']] for l in lines]\n",
        "    array = torch.tensor([truncate_pad(\n",
        "        l, num_steps, vocab['<pad>']) for l in lines])\n",
        "    valid_len = d2l.reduce_sum(\n",
        "        d2l.astype(array != vocab['<pad>'], torch.int32), 1)\n",
        "    return array, valid_len"
      ],
      "execution_count": 10,
      "outputs": []
    },
    {
      "cell_type": "code",
      "metadata": {
        "id": "kr9cIOY7iUOQ"
      },
      "source": [
        "#@save\n",
        "def load_data_nmt(text, batch_size, num_steps, num_examples=None):\n",
        "    source, target = tokenize_nmt(text, num_steps, direction, num_examples)\n",
        "    src_vocab = d2l.Vocab(source, min_freq=2,\n",
        "                          reserved_tokens=['<pad>', '<bos>', '<eos>'])\n",
        "    tgt_vocab = d2l.Vocab(target, min_freq=2,\n",
        "                          reserved_tokens=['<pad>', '<bos>', '<eos>'])\n",
        "    src_array, src_valid_len = build_array_nmt(source, src_vocab, num_steps)\n",
        "    tgt_array, tgt_valid_len = build_array_nmt(target, tgt_vocab, num_steps)\n",
        "    data_arrays = (src_array, src_valid_len, tgt_array, tgt_valid_len)\n",
        "    data_iter = d2l.load_array(data_arrays, batch_size)\n",
        "    return data_iter, src_vocab, tgt_vocab"
      ],
      "execution_count": 11,
      "outputs": []
    },
    {
      "cell_type": "markdown",
      "metadata": {
        "origin_pos": 3,
        "id": "HGoldx4sHdux"
      },
      "source": [
        "## Encoder\n",
        "\n",
        "Technically speaking,\n",
        "the encoder transforms an input sequence of variable length into a fixed-shape *context variable* $\\mathbf{c}$, and encodes the input sequence information in this context variable.\n",
        "As depicted in :numref:`fig_seq2seq`,\n",
        "we can use an RNN to design the encoder.\n",
        "\n",
        "Let us consider a sequence example (batch size: 1).\n",
        "Suppose that\n",
        "the input sequence is $x_1, \\ldots, x_T$, such that $x_t$ is the $t^{\\mathrm{th}}$ token in the input text sequence.\n",
        "At time step $t$, the RNN transforms\n",
        "the input feature vector $\\mathbf{x}_t$ for $x_t$\n",
        "and the hidden state $\\mathbf{h} _{t-1}$ from the previous time step\n",
        "into the current hidden state $\\mathbf{h}_t$.\n",
        "We can use a function $f$ to express the transformation of the RNN's recurrent layer:\n",
        "\n",
        "$$\\mathbf{h}_t = f(\\mathbf{x}_t, \\mathbf{h}_{t-1}). $$\n",
        "\n",
        "In general,\n",
        "the encoder transforms the hidden states at\n",
        "all the time steps\n",
        "into the context variable through a customized function $q$:\n",
        "\n",
        "$$\\mathbf{c} =  q(\\mathbf{h}_1, \\ldots, \\mathbf{h}_T).$$\n",
        "\n",
        "For example, when choosing $q(\\mathbf{h}_1, \\ldots, \\mathbf{h}_T) = \\mathbf{h}_T$ such as in :numref:`fig_seq2seq`,\n",
        "the context variable is just the hidden state $\\mathbf{h}_T$\n",
        "of the input sequence at the final time step.\n",
        "\n",
        "So far we have used a unidirectional RNN\n",
        "to design the encoder,\n",
        "where\n",
        "a hidden state only depends on\n",
        "the input subsequence at and before the time step of the hidden state.\n",
        "We can also construct encoders using bidirectional RNNs. In this case, a hidden state depends on\n",
        "the subsequence before and after the time step (including the input at the current time step), which encodes the information of the entire sequence.\n",
        "\n",
        "\n",
        "Now let us implement the RNN encoder.\n",
        "Note that we use an *embedding layer*\n",
        "to obtain the feature vector for each token in the input sequence.\n",
        "The weight\n",
        "of an embedding layer\n",
        "is a matrix\n",
        "whose number of rows equals to the size of the input vocabulary (`vocab_size`)\n",
        "and number of columns equals to the feature vector's dimension (`embed_size`).\n",
        "For any input token index $i$,\n",
        "the embedding layer\n",
        "fetches the $i^{\\mathrm{th}}$ row (starting from 0) of the weight matrix\n",
        "to return its feature vector.\n",
        "Besides,\n",
        "here we choose a multilayer GRU to\n",
        "implement the encoder.\n"
      ]
    },
    {
      "cell_type": "code",
      "metadata": {
        "origin_pos": 5,
        "tab": [
          "pytorch"
        ],
        "id": "4uuxIIroHduy"
      },
      "source": [
        "#@save\n",
        "class Seq2SeqEncoder(d2l.Encoder):\n",
        "    \"\"\"The RNN encoder for sequence to sequence learning.\"\"\"\n",
        "    def __init__(self, vocab_size, embed_size, num_hiddens, num_layers,\n",
        "                 dropout=0, **kwargs):\n",
        "        super(Seq2SeqEncoder, self).__init__(**kwargs)\n",
        "        # Embedding layer\n",
        "        self.embedding = nn.Embedding(vocab_size, embed_size)\n",
        "        self.rnn = nn.GRU(embed_size, num_hiddens, num_layers,\n",
        "                          dropout=dropout)\n",
        "\n",
        "    def forward(self, X, *args):\n",
        "        # The output `X` shape: (`batch_size`, `num_steps`, `embed_size`)\n",
        "        X = self.embedding(X)\n",
        "        # In RNN models, the first axis corresponds to time steps\n",
        "        X = X.permute(1, 0, 2)\n",
        "        # When state is not mentioned, it defaults to zeros\n",
        "        output, state = self.rnn(X)\n",
        "        # `output` shape: (`num_steps`, `batch_size`, `num_hiddens`)\n",
        "        # `state` shape: (`num_layers`, `batch_size`, `num_hiddens`)\n",
        "        return output, state"
      ],
      "execution_count": 12,
      "outputs": []
    },
    {
      "cell_type": "markdown",
      "metadata": {
        "origin_pos": 6,
        "id": "LnZXo73DHduz"
      },
      "source": [
        "The returned variables of recurrent layers\n",
        "have been explained in :numref:`sec_rnn-concise`.\n",
        "Let us still use a concrete example\n",
        "to illustrate the above encoder implementation.\n",
        "Below\n",
        "we instantiate a two-layer GRU encoder\n",
        "whose number of hidden units is 16.\n",
        "Given\n",
        "a minibatch of sequence inputs `X`\n",
        "(batch size: 4, number of time steps: 7),\n",
        "the hidden states of the last layer\n",
        "at all the time steps\n",
        "(`output` return by the encoder's recurrent layers)\n",
        "are a tensor\n",
        "of shape\n",
        "(number of time steps, batch size, number of hidden units).\n"
      ]
    },
    {
      "cell_type": "code",
      "metadata": {
        "origin_pos": 8,
        "tab": [
          "pytorch"
        ],
        "id": "Qf8JC8TSHdu0",
        "colab": {
          "base_uri": "https://localhost:8080/"
        },
        "outputId": "0ba3a656-fe11-4b2a-fd85-f3b0065441e4"
      },
      "source": [
        "encoder = Seq2SeqEncoder(vocab_size=10, embed_size=8, num_hiddens=16,\n",
        "                         num_layers=2)\n",
        "encoder.eval()\n",
        "X = torch.zeros((4, 7), dtype=torch.long)\n",
        "output, state = encoder(X)\n",
        "output.shape"
      ],
      "execution_count": 13,
      "outputs": [
        {
          "output_type": "execute_result",
          "data": {
            "text/plain": [
              "torch.Size([7, 4, 16])"
            ]
          },
          "metadata": {
            "tags": []
          },
          "execution_count": 13
        }
      ]
    },
    {
      "cell_type": "markdown",
      "metadata": {
        "origin_pos": 9,
        "id": "Xf6C1ZrzHdu2"
      },
      "source": [
        "Since a GRU is employed here,\n",
        "the shape of the multilayer hidden states\n",
        "at the final time step\n",
        "is\n",
        "(number of hidden layers, batch size, number of hidden units).\n",
        "If an LSTM is used,\n",
        "memory cell information will also be contained in `state`.\n"
      ]
    },
    {
      "cell_type": "code",
      "metadata": {
        "origin_pos": 11,
        "tab": [
          "pytorch"
        ],
        "id": "dWok-5KWHdu3",
        "colab": {
          "base_uri": "https://localhost:8080/"
        },
        "outputId": "9ad1a0df-2d13-4308-dd57-7e691ce120f8"
      },
      "source": [
        "state.shape"
      ],
      "execution_count": 14,
      "outputs": [
        {
          "output_type": "execute_result",
          "data": {
            "text/plain": [
              "torch.Size([2, 4, 16])"
            ]
          },
          "metadata": {
            "tags": []
          },
          "execution_count": 14
        }
      ]
    },
    {
      "cell_type": "markdown",
      "metadata": {
        "origin_pos": 12,
        "id": "rjPazg-XHdu3"
      },
      "source": [
        "## Decoder\n",
        ":label:`sec_seq2seq_decoder`\n",
        "\n",
        "As we just mentioned,\n",
        "the context variable $\\mathbf{c}$ of the encoder's output encodes the entire input sequence $x_1, \\ldots, x_T$. Given the output sequence $y_1, y_2, \\ldots, y_{T'}$ from the training dataset,\n",
        "for each time step $t'$\n",
        "(the symbol differs from the time step $t$ of input sequences or encoders),\n",
        "the probability of the decoder output $y_{t'}$\n",
        "is conditional\n",
        "on the previous output subsequence\n",
        "$y_1, \\ldots, y_{t'-1}$ and\n",
        "the context variable $\\mathbf{c}$, i.e., $P(y_{t'} \\mid y_1, \\ldots, y_{t'-1}, \\mathbf{c})$.\n",
        "\n",
        "To model this conditional probability on sequences,\n",
        "we can use another RNN as the decoder.\n",
        "At any time step $t^\\prime$ on the output sequence,\n",
        "the RNN takes the output $y_{t^\\prime-1}$ from the previous time step\n",
        "and the context variable $\\mathbf{c}$ as its input,\n",
        "then transforms\n",
        "them and\n",
        "the previous hidden state $\\mathbf{s}_{t^\\prime-1}$\n",
        "into the\n",
        "hidden state $\\mathbf{s}_{t^\\prime}$ at the current time step.\n",
        "As a result, we can use a function $f$ to express the transformation of the decoder's hidden layer:\n",
        "\n",
        "$$\\mathbf{s}_{t^\\prime} = g(y_{t^\\prime-1}, \\mathbf{c}, \\mathbf{s}_{t^\\prime-1}).$$\n",
        "\n",
        "After obtaining the hidden state of the decoder,\n",
        "we can use an output layer and the softmax operation to compute the conditional probability distribution\n",
        "$P(y_{t^\\prime} \\mid y_1, \\ldots, y_{t^\\prime-1}, \\mathbf{c})$ for the output at time step $t^\\prime$.\n",
        "\n",
        "Following :numref:`fig_seq2seq`,\n",
        "when implementing the decoder as follows,\n",
        "we directly use the hidden state at the final time step\n",
        "of the encoder\n",
        "to initialize the hidden state of the decoder.\n",
        "This requires that the RNN encoder and the RNN decoder have the same number of layers and hidden units.\n",
        "To further incorporate the encoded input sequence information,\n",
        "the context variable is concatenated\n",
        "with the decoder input at all the time steps.\n",
        "To predict the probability distribution of the output token,\n",
        "a fully-connected layer is used to transform\n",
        "the hidden state at the final layer of the RNN decoder.\n"
      ]
    },
    {
      "cell_type": "code",
      "metadata": {
        "origin_pos": 14,
        "tab": [
          "pytorch"
        ],
        "id": "So_jt793Hdu4"
      },
      "source": [
        "class Seq2SeqDecoder(d2l.Decoder):\n",
        "    \"\"\"The RNN decoder for sequence to sequence learning.\"\"\"\n",
        "    def __init__(self, vocab_size, embed_size, num_hiddens, num_layers,\n",
        "                 dropout=0, **kwargs):\n",
        "        super(Seq2SeqDecoder, self).__init__(**kwargs)\n",
        "        self.embedding = nn.Embedding(vocab_size, embed_size)\n",
        "        self.rnn = nn.GRU(embed_size + num_hiddens, num_hiddens, num_layers,\n",
        "                          dropout=dropout)\n",
        "        self.dense = nn.Linear(num_hiddens, vocab_size)\n",
        "\n",
        "    def init_state(self, enc_outputs, *args):\n",
        "        return enc_outputs[1]\n",
        "\n",
        "    def forward(self, X, state):\n",
        "        # The output `X` shape: (`num_steps`, `batch_size`, `embed_size`)\n",
        "        X = self.embedding(X).permute(1, 0, 2)\n",
        "        # Broadcast `context` so it has the same `num_steps` as `X`\n",
        "        context = state[-1].repeat(X.shape[0], 1, 1)\n",
        "        X_and_context = torch.cat((X, context), 2)\n",
        "        output, state = self.rnn(X_and_context, state)\n",
        "        output = self.dense(output).permute(1, 0, 2)\n",
        "        # `output` shape: (`batch_size`, `num_steps`, `vocab_size`)\n",
        "        # `state` shape: (`num_layers`, `batch_size`, `num_hiddens`)\n",
        "        return output, state"
      ],
      "execution_count": 15,
      "outputs": []
    },
    {
      "cell_type": "markdown",
      "metadata": {
        "origin_pos": 15,
        "id": "u7S_LFkOHdu5"
      },
      "source": [
        "To illustrate the implemented decoder,\n",
        "below we instantiate it with the same hyperparameters from the aforementioned encoder.\n",
        "As we can see, the output shape of the decoder becomes (batch size, number of time steps, vocabulary size),\n",
        "where the last dimension of the tensor stores the predicted token distribution.\n"
      ]
    },
    {
      "cell_type": "code",
      "metadata": {
        "origin_pos": 17,
        "tab": [
          "pytorch"
        ],
        "id": "8Bb1pbnwHdu5",
        "colab": {
          "base_uri": "https://localhost:8080/"
        },
        "outputId": "eeb504f8-18e4-4ec6-84e2-1e4b4085c246"
      },
      "source": [
        "decoder = Seq2SeqDecoder(vocab_size=10, embed_size=8, num_hiddens=16,\n",
        "                         num_layers=2)\n",
        "decoder.eval()\n",
        "state = decoder.init_state(encoder(X))\n",
        "output, state = decoder(X, state)\n",
        "output.shape, state.shape"
      ],
      "execution_count": 16,
      "outputs": [
        {
          "output_type": "execute_result",
          "data": {
            "text/plain": [
              "(torch.Size([4, 7, 10]), torch.Size([2, 4, 16]))"
            ]
          },
          "metadata": {
            "tags": []
          },
          "execution_count": 16
        }
      ]
    },
    {
      "cell_type": "markdown",
      "metadata": {
        "origin_pos": 18,
        "id": "Rcc9DFAoHdu6"
      },
      "source": [
        "To summarize,\n",
        "the layers in the above RNN encoder-decoder model are illustrated in :numref:`fig_seq2seq_details`.\n",
        "\n",
        "![Layers in an RNN encoder-decoder model.](https://github.com/d2l-ai/d2l-pytorch-colab/blob/master/img/seq2seq-details.svg?raw=1)\n",
        ":label:`fig_seq2seq_details`\n",
        "\n",
        "## Loss Function\n",
        "\n",
        "At each time step, the decoder\n",
        "predicts a probability distribution for the output tokens.\n",
        "Similar to language modeling,\n",
        "we can apply softmax to obtain the distribution\n",
        "and calculate the cross-entropy loss for optimization.\n",
        "Recall :numref:`sec_machine_translation`\n",
        "that the special padding tokens\n",
        "are appended to the end of sequences\n",
        "so sequences of varying lengths\n",
        "can be efficiently loaded\n",
        "in minibatches of the same shape.\n",
        "However,\n",
        "prediction of padding tokens\n",
        "should be excluded from loss calculations.\n",
        "\n",
        "To this end,\n",
        "we can use the following\n",
        "`sequence_mask` function\n",
        "to mask irrelevant entries with zero values\n",
        "so later\n",
        "multiplication of any irrelevant prediction\n",
        "with zero equals to zero.\n",
        "For example,\n",
        "if the valid length of two sequences\n",
        "excluding padding tokens\n",
        "are one and two, respectively,\n",
        "the remaining entries after\n",
        "the first one\n",
        "and the first two entries are cleared to zeros.\n"
      ]
    },
    {
      "cell_type": "code",
      "metadata": {
        "origin_pos": 20,
        "tab": [
          "pytorch"
        ],
        "id": "QqSYpidRHdu6",
        "colab": {
          "base_uri": "https://localhost:8080/"
        },
        "outputId": "71b9bfda-b94a-4548-b913-37ae107145e3"
      },
      "source": [
        "#@save\n",
        "def sequence_mask(X, valid_len, value=0):\n",
        "    \"\"\"Mask irrelevant entries in sequences.\"\"\"\n",
        "    maxlen = X.size(1)\n",
        "    mask = torch.arange((maxlen), dtype=torch.float32,\n",
        "                        device=X.device)[None, :] < valid_len[:, None]\n",
        "    X[~mask] = value\n",
        "    return X\n",
        "\n",
        "X = torch.tensor([[1, 2, 3], [4, 5, 6]])\n",
        "sequence_mask(X, torch.tensor([1, 2]))"
      ],
      "execution_count": 17,
      "outputs": [
        {
          "output_type": "execute_result",
          "data": {
            "text/plain": [
              "tensor([[1, 0, 0],\n",
              "        [4, 5, 0]])"
            ]
          },
          "metadata": {
            "tags": []
          },
          "execution_count": 17
        }
      ]
    },
    {
      "cell_type": "markdown",
      "metadata": {
        "origin_pos": 21,
        "id": "Q1gy15RWHdu7"
      },
      "source": [
        "We can also mask all the entries across the last\n",
        "few axes.\n",
        "If you like, you may even specify\n",
        "to replace such entries with a non-zero value.\n"
      ]
    },
    {
      "cell_type": "code",
      "metadata": {
        "origin_pos": 23,
        "tab": [
          "pytorch"
        ],
        "id": "qwv4vpfaHdu7",
        "colab": {
          "base_uri": "https://localhost:8080/"
        },
        "outputId": "57308b09-364b-4d54-8f07-8423f4d1aaf2"
      },
      "source": [
        "X = torch.ones(2, 3, 4)\n",
        "sequence_mask(X, torch.tensor([1, 2]), value=-1)"
      ],
      "execution_count": 18,
      "outputs": [
        {
          "output_type": "execute_result",
          "data": {
            "text/plain": [
              "tensor([[[ 1.,  1.,  1.,  1.],\n",
              "         [-1., -1., -1., -1.],\n",
              "         [-1., -1., -1., -1.]],\n",
              "\n",
              "        [[ 1.,  1.,  1.,  1.],\n",
              "         [ 1.,  1.,  1.,  1.],\n",
              "         [-1., -1., -1., -1.]]])"
            ]
          },
          "metadata": {
            "tags": []
          },
          "execution_count": 18
        }
      ]
    },
    {
      "cell_type": "markdown",
      "metadata": {
        "origin_pos": 24,
        "id": "a6OIwUaIHdu7"
      },
      "source": [
        "Now we can extend the softmax cross-entropy loss\n",
        "to allow the masking of irrelevant predictions.\n",
        "Initially,\n",
        "masks for all the predicted tokens are set to one.\n",
        "Once the valid length is given,\n",
        "the mask corresponding to any padding token\n",
        "will be cleared to zero.\n",
        "In the end,\n",
        "the loss for all the tokens\n",
        "will be multipled by the mask to filter out\n",
        "irrelevant predictions of padding tokens in the loss.\n"
      ]
    },
    {
      "cell_type": "code",
      "metadata": {
        "origin_pos": 26,
        "tab": [
          "pytorch"
        ],
        "id": "3WpD9RiGHdu8"
      },
      "source": [
        "#@save\n",
        "class MaskedSoftmaxCELoss(nn.CrossEntropyLoss):\n",
        "    \"\"\"The softmax cross-entropy loss with masks.\"\"\"\n",
        "    # `pred` shape: (`batch_size`, `num_steps`, `vocab_size`)\n",
        "    # `label` shape: (`batch_size`, `num_steps`)\n",
        "    # `valid_len` shape: (`batch_size`,)\n",
        "    def forward(self, pred, label, valid_len):\n",
        "        weights = torch.ones_like(label)\n",
        "        weights = sequence_mask(weights, valid_len)\n",
        "        self.reduction='none'\n",
        "        unweighted_loss = super(MaskedSoftmaxCELoss, self).forward(\n",
        "            pred.permute(0, 2, 1), label)\n",
        "        weighted_loss = (unweighted_loss * weights).mean(dim=1)\n",
        "        return weighted_loss"
      ],
      "execution_count": 19,
      "outputs": []
    },
    {
      "cell_type": "markdown",
      "metadata": {
        "origin_pos": 27,
        "id": "jqtbSSQMHdu8"
      },
      "source": [
        "For a sanity check, we can create three identical sequences.\n",
        "Then we can\n",
        "specify that the valid lengths of these sequences\n",
        "are 4, 2, and 0, respectively.\n",
        "As a result,\n",
        "the loss of the first sequence\n",
        "should be twice as large as that of the second sequence,\n",
        "while the third sequence should have a zero loss.\n"
      ]
    },
    {
      "cell_type": "code",
      "metadata": {
        "origin_pos": 29,
        "tab": [
          "pytorch"
        ],
        "id": "KiWnbbmgHdu8",
        "colab": {
          "base_uri": "https://localhost:8080/"
        },
        "outputId": "17010e15-107f-490c-c3b6-b6c771e55614"
      },
      "source": [
        "loss = MaskedSoftmaxCELoss()\n",
        "loss(torch.ones(3, 4, 10), torch.ones((3, 4), dtype=torch.long),\n",
        "     torch.tensor([4, 2, 0]))"
      ],
      "execution_count": 20,
      "outputs": [
        {
          "output_type": "execute_result",
          "data": {
            "text/plain": [
              "tensor([2.3026, 1.1513, 0.0000])"
            ]
          },
          "metadata": {
            "tags": []
          },
          "execution_count": 20
        }
      ]
    },
    {
      "cell_type": "markdown",
      "metadata": {
        "origin_pos": 30,
        "id": "n8AgeTjDHdu9"
      },
      "source": [
        "## Training\n",
        ":label:`sec_seq2seq_training`\n",
        "\n",
        "In the following training loop,\n",
        "we concatenate the special beginning-of-sequence token\n",
        "and the original output sequence excluding the final token as\n",
        "the input to the decoder, as shown in :numref:`fig_seq2seq`.\n",
        "This is called *teacher forcing* because\n",
        "the original output sequence (token labels) is fed into the decoder.\n",
        "Alternatively,\n",
        "we could also feed the *predicted* token\n",
        "from the previous time step\n",
        "as the current input to the decoder.\n"
      ]
    },
    {
      "cell_type": "code",
      "metadata": {
        "origin_pos": 32,
        "tab": [
          "pytorch"
        ],
        "id": "kxklxzfWHdu9"
      },
      "source": [
        "#@save\n",
        "def train_s2s_ch9(model, data_iter, lr, num_epochs, tgt_vocab, device):\n",
        "    \"\"\"Train a model for sequence to sequence (defined in Chapter 9).\"\"\"\n",
        "    def xavier_init_weights(m):\n",
        "        if type(m) == nn.Linear:\n",
        "            torch.nn.init.xavier_uniform_(m.weight)\n",
        "        if type(m) == nn.GRU:\n",
        "            for param in m._flat_weights_names:\n",
        "                if \"weight\" in param:\n",
        "                    torch.nn.init.xavier_uniform_(m._parameters[param])\n",
        "    model.apply(xavier_init_weights)\n",
        "    model.to(device)\n",
        "    optimizer = torch.optim.Adam(model.parameters(), lr=lr)\n",
        "    loss = MaskedSoftmaxCELoss()\n",
        "    model.train()\n",
        "    animator = d2l.Animator(xlabel='epoch', ylabel='loss',\n",
        "                            xlim=[0, num_epochs])\n",
        "    for epoch in range(num_epochs):\n",
        "        timer = d2l.Timer()\n",
        "        metric = d2l.Accumulator(2)  # Sum of training loss, no. of tokens\n",
        "        for batch in data_iter:\n",
        "            X, X_valid_len, Y, Y_valid_len = [x.to(device) for x in batch]\n",
        "            bos = torch.tensor([tgt_vocab['<bos>']] * Y.shape[0],\n",
        "                               device=device).reshape(-1, 1)\n",
        "            dec_input = torch.cat([bos, Y[:, :-1]], 1)  # Teacher forcing\n",
        "            Y_hat, _ = model(X, dec_input, X_valid_len)\n",
        "            l = loss(Y_hat, Y, Y_valid_len)\n",
        "            l.sum().backward()  # Make the loss scalar for `backward`\n",
        "            d2l.grad_clipping(model, 1)\n",
        "            num_tokens = Y_valid_len.sum()\n",
        "            optimizer.step()\n",
        "            with torch.no_grad():\n",
        "                metric.add(l.sum(), num_tokens)\n",
        "        if (epoch + 1) % 1 == 0:\n",
        "            animator.add(epoch + 1, (metric[0] / metric[1],))\n",
        "        end = timer.stop()\n",
        "    print(f'loss {metric[0] / metric[1]:.3f}, {metric[1] / end:.1f} '\n",
        "          f'tokens/sec on {str(device)}')\n",
        "    # print(f'Training time: {end}')"
      ],
      "execution_count": 21,
      "outputs": []
    },
    {
      "cell_type": "markdown",
      "metadata": {
        "origin_pos": 33,
        "id": "LeahhZfKHdu9"
      },
      "source": [
        "Now we can create and train an RNN encoder-decoder model\n",
        "for sequence to sequence learning on the machine translation dataset.\n"
      ]
    },
    {
      "cell_type": "code",
      "metadata": {
        "origin_pos": 34,
        "tab": [
          "pytorch"
        ],
        "id": "4QuSMLbKHdu-",
        "colab": {
          "base_uri": "https://localhost:8080/",
          "height": 279
        },
        "outputId": "06cf3511-399a-4eb1-f050-e7be332171a3"
      },
      "source": [
        "embed_size, num_hiddens, num_layers, dropout = 256, 512, 8, 0.4\n",
        "batch_size, num_steps = 64, 20\n",
        "lr, num_epochs, device = 0.005, 100, d2l.try_gpu()\n",
        "\n",
        "train_iter, src_vocab, tgt_vocab = load_data_nmt(data, batch_size, num_steps)\n",
        "encoder = Seq2SeqEncoder(\n",
        "    len(src_vocab), embed_size, num_hiddens, num_layers, dropout)\n",
        "decoder = Seq2SeqDecoder(\n",
        "    len(tgt_vocab), embed_size, num_hiddens, num_layers, dropout)\n",
        "model = d2l.EncoderDecoder(encoder, decoder)\n",
        "train_s2s_ch9(model, train_iter, lr, num_epochs, tgt_vocab, device)"
      ],
      "execution_count": 22,
      "outputs": [
        {
          "output_type": "stream",
          "text": [
            "loss 0.293, 4762.9 tokens/sec on cuda:0\n"
          ],
          "name": "stdout"
        },
        {
          "output_type": "display_data",
          "data": {
            "text/plain": [
              "<Figure size 252x180 with 1 Axes>"
            ],
            "image/svg+xml": "<?xml version=\"1.0\" encoding=\"utf-8\" standalone=\"no\"?>\n<!DOCTYPE svg PUBLIC \"-//W3C//DTD SVG 1.1//EN\"\n  \"http://www.w3.org/Graphics/SVG/1.1/DTD/svg11.dtd\">\n<!-- Created with matplotlib (https://matplotlib.org/) -->\n<svg height=\"180.906909pt\" version=\"1.1\" viewBox=\"0 0 268.55 180.906909\" width=\"268.55pt\" xmlns=\"http://www.w3.org/2000/svg\" xmlns:xlink=\"http://www.w3.org/1999/xlink\">\n <defs>\n  <style type=\"text/css\">\n*{stroke-linecap:butt;stroke-linejoin:round;}\n  </style>\n </defs>\n <g id=\"figure_1\">\n  <g id=\"patch_1\">\n   <path d=\"M -0 180.906909 \nL 268.55 180.906909 \nL 268.55 0 \nL -0 0 \nz\n\" style=\"fill:none;\"/>\n  </g>\n  <g id=\"axes_1\">\n   <g id=\"patch_2\">\n    <path d=\"M 56.50625 143.350659 \nL 251.80625 143.350659 \nL 251.80625 7.450659 \nL 56.50625 7.450659 \nz\n\" style=\"fill:#ffffff;\"/>\n   </g>\n   <g id=\"matplotlib.axis_1\">\n    <g id=\"xtick_1\">\n     <g id=\"line2d_1\">\n      <path clip-path=\"url(#p854ecd45ae)\" d=\"M 56.50625 143.350659 \nL 56.50625 7.450659 \n\" style=\"fill:none;stroke:#b0b0b0;stroke-linecap:square;stroke-width:0.8;\"/>\n     </g>\n     <g id=\"line2d_2\">\n      <defs>\n       <path d=\"M 0 0 \nL 0 3.5 \n\" id=\"mc1fe302d0f\" style=\"stroke:#000000;stroke-width:0.8;\"/>\n      </defs>\n      <g>\n       <use style=\"stroke:#000000;stroke-width:0.8;\" x=\"56.50625\" xlink:href=\"#mc1fe302d0f\" y=\"143.350659\"/>\n      </g>\n     </g>\n     <g id=\"text_1\">\n      <!-- 0 -->\n      <defs>\n       <path d=\"M 31.78125 66.40625 \nQ 24.171875 66.40625 20.328125 58.90625 \nQ 16.5 51.421875 16.5 36.375 \nQ 16.5 21.390625 20.328125 13.890625 \nQ 24.171875 6.390625 31.78125 6.390625 \nQ 39.453125 6.390625 43.28125 13.890625 \nQ 47.125 21.390625 47.125 36.375 \nQ 47.125 51.421875 43.28125 58.90625 \nQ 39.453125 66.40625 31.78125 66.40625 \nz\nM 31.78125 74.21875 \nQ 44.046875 74.21875 50.515625 64.515625 \nQ 56.984375 54.828125 56.984375 36.375 \nQ 56.984375 17.96875 50.515625 8.265625 \nQ 44.046875 -1.421875 31.78125 -1.421875 \nQ 19.53125 -1.421875 13.0625 8.265625 \nQ 6.59375 17.96875 6.59375 36.375 \nQ 6.59375 54.828125 13.0625 64.515625 \nQ 19.53125 74.21875 31.78125 74.21875 \nz\n\" id=\"DejaVuSans-48\"/>\n      </defs>\n      <g transform=\"translate(53.325 157.949097)scale(0.1 -0.1)\">\n       <use xlink:href=\"#DejaVuSans-48\"/>\n      </g>\n     </g>\n    </g>\n    <g id=\"xtick_2\">\n     <g id=\"line2d_3\">\n      <path clip-path=\"url(#p854ecd45ae)\" d=\"M 95.56625 143.350659 \nL 95.56625 7.450659 \n\" style=\"fill:none;stroke:#b0b0b0;stroke-linecap:square;stroke-width:0.8;\"/>\n     </g>\n     <g id=\"line2d_4\">\n      <g>\n       <use style=\"stroke:#000000;stroke-width:0.8;\" x=\"95.56625\" xlink:href=\"#mc1fe302d0f\" y=\"143.350659\"/>\n      </g>\n     </g>\n     <g id=\"text_2\">\n      <!-- 20 -->\n      <defs>\n       <path d=\"M 19.1875 8.296875 \nL 53.609375 8.296875 \nL 53.609375 0 \nL 7.328125 0 \nL 7.328125 8.296875 \nQ 12.9375 14.109375 22.625 23.890625 \nQ 32.328125 33.6875 34.8125 36.53125 \nQ 39.546875 41.84375 41.421875 45.53125 \nQ 43.3125 49.21875 43.3125 52.78125 \nQ 43.3125 58.59375 39.234375 62.25 \nQ 35.15625 65.921875 28.609375 65.921875 \nQ 23.96875 65.921875 18.8125 64.3125 \nQ 13.671875 62.703125 7.8125 59.421875 \nL 7.8125 69.390625 \nQ 13.765625 71.78125 18.9375 73 \nQ 24.125 74.21875 28.421875 74.21875 \nQ 39.75 74.21875 46.484375 68.546875 \nQ 53.21875 62.890625 53.21875 53.421875 \nQ 53.21875 48.921875 51.53125 44.890625 \nQ 49.859375 40.875 45.40625 35.40625 \nQ 44.1875 33.984375 37.640625 27.21875 \nQ 31.109375 20.453125 19.1875 8.296875 \nz\n\" id=\"DejaVuSans-50\"/>\n      </defs>\n      <g transform=\"translate(89.20375 157.949097)scale(0.1 -0.1)\">\n       <use xlink:href=\"#DejaVuSans-50\"/>\n       <use x=\"63.623047\" xlink:href=\"#DejaVuSans-48\"/>\n      </g>\n     </g>\n    </g>\n    <g id=\"xtick_3\">\n     <g id=\"line2d_5\">\n      <path clip-path=\"url(#p854ecd45ae)\" d=\"M 134.62625 143.350659 \nL 134.62625 7.450659 \n\" style=\"fill:none;stroke:#b0b0b0;stroke-linecap:square;stroke-width:0.8;\"/>\n     </g>\n     <g id=\"line2d_6\">\n      <g>\n       <use style=\"stroke:#000000;stroke-width:0.8;\" x=\"134.62625\" xlink:href=\"#mc1fe302d0f\" y=\"143.350659\"/>\n      </g>\n     </g>\n     <g id=\"text_3\">\n      <!-- 40 -->\n      <defs>\n       <path d=\"M 37.796875 64.3125 \nL 12.890625 25.390625 \nL 37.796875 25.390625 \nz\nM 35.203125 72.90625 \nL 47.609375 72.90625 \nL 47.609375 25.390625 \nL 58.015625 25.390625 \nL 58.015625 17.1875 \nL 47.609375 17.1875 \nL 47.609375 0 \nL 37.796875 0 \nL 37.796875 17.1875 \nL 4.890625 17.1875 \nL 4.890625 26.703125 \nz\n\" id=\"DejaVuSans-52\"/>\n      </defs>\n      <g transform=\"translate(128.26375 157.949097)scale(0.1 -0.1)\">\n       <use xlink:href=\"#DejaVuSans-52\"/>\n       <use x=\"63.623047\" xlink:href=\"#DejaVuSans-48\"/>\n      </g>\n     </g>\n    </g>\n    <g id=\"xtick_4\">\n     <g id=\"line2d_7\">\n      <path clip-path=\"url(#p854ecd45ae)\" d=\"M 173.68625 143.350659 \nL 173.68625 7.450659 \n\" style=\"fill:none;stroke:#b0b0b0;stroke-linecap:square;stroke-width:0.8;\"/>\n     </g>\n     <g id=\"line2d_8\">\n      <g>\n       <use style=\"stroke:#000000;stroke-width:0.8;\" x=\"173.68625\" xlink:href=\"#mc1fe302d0f\" y=\"143.350659\"/>\n      </g>\n     </g>\n     <g id=\"text_4\">\n      <!-- 60 -->\n      <defs>\n       <path d=\"M 33.015625 40.375 \nQ 26.375 40.375 22.484375 35.828125 \nQ 18.609375 31.296875 18.609375 23.390625 \nQ 18.609375 15.53125 22.484375 10.953125 \nQ 26.375 6.390625 33.015625 6.390625 \nQ 39.65625 6.390625 43.53125 10.953125 \nQ 47.40625 15.53125 47.40625 23.390625 \nQ 47.40625 31.296875 43.53125 35.828125 \nQ 39.65625 40.375 33.015625 40.375 \nz\nM 52.59375 71.296875 \nL 52.59375 62.3125 \nQ 48.875 64.0625 45.09375 64.984375 \nQ 41.3125 65.921875 37.59375 65.921875 \nQ 27.828125 65.921875 22.671875 59.328125 \nQ 17.53125 52.734375 16.796875 39.40625 \nQ 19.671875 43.65625 24.015625 45.921875 \nQ 28.375 48.1875 33.59375 48.1875 \nQ 44.578125 48.1875 50.953125 41.515625 \nQ 57.328125 34.859375 57.328125 23.390625 \nQ 57.328125 12.15625 50.6875 5.359375 \nQ 44.046875 -1.421875 33.015625 -1.421875 \nQ 20.359375 -1.421875 13.671875 8.265625 \nQ 6.984375 17.96875 6.984375 36.375 \nQ 6.984375 53.65625 15.1875 63.9375 \nQ 23.390625 74.21875 37.203125 74.21875 \nQ 40.921875 74.21875 44.703125 73.484375 \nQ 48.484375 72.75 52.59375 71.296875 \nz\n\" id=\"DejaVuSans-54\"/>\n      </defs>\n      <g transform=\"translate(167.32375 157.949097)scale(0.1 -0.1)\">\n       <use xlink:href=\"#DejaVuSans-54\"/>\n       <use x=\"63.623047\" xlink:href=\"#DejaVuSans-48\"/>\n      </g>\n     </g>\n    </g>\n    <g id=\"xtick_5\">\n     <g id=\"line2d_9\">\n      <path clip-path=\"url(#p854ecd45ae)\" d=\"M 212.74625 143.350659 \nL 212.74625 7.450659 \n\" style=\"fill:none;stroke:#b0b0b0;stroke-linecap:square;stroke-width:0.8;\"/>\n     </g>\n     <g id=\"line2d_10\">\n      <g>\n       <use style=\"stroke:#000000;stroke-width:0.8;\" x=\"212.74625\" xlink:href=\"#mc1fe302d0f\" y=\"143.350659\"/>\n      </g>\n     </g>\n     <g id=\"text_5\">\n      <!-- 80 -->\n      <defs>\n       <path d=\"M 31.78125 34.625 \nQ 24.75 34.625 20.71875 30.859375 \nQ 16.703125 27.09375 16.703125 20.515625 \nQ 16.703125 13.921875 20.71875 10.15625 \nQ 24.75 6.390625 31.78125 6.390625 \nQ 38.8125 6.390625 42.859375 10.171875 \nQ 46.921875 13.96875 46.921875 20.515625 \nQ 46.921875 27.09375 42.890625 30.859375 \nQ 38.875 34.625 31.78125 34.625 \nz\nM 21.921875 38.8125 \nQ 15.578125 40.375 12.03125 44.71875 \nQ 8.5 49.078125 8.5 55.328125 \nQ 8.5 64.0625 14.71875 69.140625 \nQ 20.953125 74.21875 31.78125 74.21875 \nQ 42.671875 74.21875 48.875 69.140625 \nQ 55.078125 64.0625 55.078125 55.328125 \nQ 55.078125 49.078125 51.53125 44.71875 \nQ 48 40.375 41.703125 38.8125 \nQ 48.828125 37.15625 52.796875 32.3125 \nQ 56.78125 27.484375 56.78125 20.515625 \nQ 56.78125 9.90625 50.3125 4.234375 \nQ 43.84375 -1.421875 31.78125 -1.421875 \nQ 19.734375 -1.421875 13.25 4.234375 \nQ 6.78125 9.90625 6.78125 20.515625 \nQ 6.78125 27.484375 10.78125 32.3125 \nQ 14.796875 37.15625 21.921875 38.8125 \nz\nM 18.3125 54.390625 \nQ 18.3125 48.734375 21.84375 45.5625 \nQ 25.390625 42.390625 31.78125 42.390625 \nQ 38.140625 42.390625 41.71875 45.5625 \nQ 45.3125 48.734375 45.3125 54.390625 \nQ 45.3125 60.0625 41.71875 63.234375 \nQ 38.140625 66.40625 31.78125 66.40625 \nQ 25.390625 66.40625 21.84375 63.234375 \nQ 18.3125 60.0625 18.3125 54.390625 \nz\n\" id=\"DejaVuSans-56\"/>\n      </defs>\n      <g transform=\"translate(206.38375 157.949097)scale(0.1 -0.1)\">\n       <use xlink:href=\"#DejaVuSans-56\"/>\n       <use x=\"63.623047\" xlink:href=\"#DejaVuSans-48\"/>\n      </g>\n     </g>\n    </g>\n    <g id=\"xtick_6\">\n     <g id=\"line2d_11\">\n      <path clip-path=\"url(#p854ecd45ae)\" d=\"M 251.80625 143.350659 \nL 251.80625 7.450659 \n\" style=\"fill:none;stroke:#b0b0b0;stroke-linecap:square;stroke-width:0.8;\"/>\n     </g>\n     <g id=\"line2d_12\">\n      <g>\n       <use style=\"stroke:#000000;stroke-width:0.8;\" x=\"251.80625\" xlink:href=\"#mc1fe302d0f\" y=\"143.350659\"/>\n      </g>\n     </g>\n     <g id=\"text_6\">\n      <!-- 100 -->\n      <defs>\n       <path d=\"M 12.40625 8.296875 \nL 28.515625 8.296875 \nL 28.515625 63.921875 \nL 10.984375 60.40625 \nL 10.984375 69.390625 \nL 28.421875 72.90625 \nL 38.28125 72.90625 \nL 38.28125 8.296875 \nL 54.390625 8.296875 \nL 54.390625 0 \nL 12.40625 0 \nz\n\" id=\"DejaVuSans-49\"/>\n      </defs>\n      <g transform=\"translate(242.2625 157.949097)scale(0.1 -0.1)\">\n       <use xlink:href=\"#DejaVuSans-49\"/>\n       <use x=\"63.623047\" xlink:href=\"#DejaVuSans-48\"/>\n       <use x=\"127.246094\" xlink:href=\"#DejaVuSans-48\"/>\n      </g>\n     </g>\n    </g>\n    <g id=\"text_7\">\n     <!-- epoch -->\n     <defs>\n      <path d=\"M 56.203125 29.59375 \nL 56.203125 25.203125 \nL 14.890625 25.203125 \nQ 15.484375 15.921875 20.484375 11.0625 \nQ 25.484375 6.203125 34.421875 6.203125 \nQ 39.59375 6.203125 44.453125 7.46875 \nQ 49.3125 8.734375 54.109375 11.28125 \nL 54.109375 2.78125 \nQ 49.265625 0.734375 44.1875 -0.34375 \nQ 39.109375 -1.421875 33.890625 -1.421875 \nQ 20.796875 -1.421875 13.15625 6.1875 \nQ 5.515625 13.8125 5.515625 26.8125 \nQ 5.515625 40.234375 12.765625 48.109375 \nQ 20.015625 56 32.328125 56 \nQ 43.359375 56 49.78125 48.890625 \nQ 56.203125 41.796875 56.203125 29.59375 \nz\nM 47.21875 32.234375 \nQ 47.125 39.59375 43.09375 43.984375 \nQ 39.0625 48.390625 32.421875 48.390625 \nQ 24.90625 48.390625 20.390625 44.140625 \nQ 15.875 39.890625 15.1875 32.171875 \nz\n\" id=\"DejaVuSans-101\"/>\n      <path d=\"M 18.109375 8.203125 \nL 18.109375 -20.796875 \nL 9.078125 -20.796875 \nL 9.078125 54.6875 \nL 18.109375 54.6875 \nL 18.109375 46.390625 \nQ 20.953125 51.265625 25.265625 53.625 \nQ 29.59375 56 35.59375 56 \nQ 45.5625 56 51.78125 48.09375 \nQ 58.015625 40.1875 58.015625 27.296875 \nQ 58.015625 14.40625 51.78125 6.484375 \nQ 45.5625 -1.421875 35.59375 -1.421875 \nQ 29.59375 -1.421875 25.265625 0.953125 \nQ 20.953125 3.328125 18.109375 8.203125 \nz\nM 48.6875 27.296875 \nQ 48.6875 37.203125 44.609375 42.84375 \nQ 40.53125 48.484375 33.40625 48.484375 \nQ 26.265625 48.484375 22.1875 42.84375 \nQ 18.109375 37.203125 18.109375 27.296875 \nQ 18.109375 17.390625 22.1875 11.75 \nQ 26.265625 6.109375 33.40625 6.109375 \nQ 40.53125 6.109375 44.609375 11.75 \nQ 48.6875 17.390625 48.6875 27.296875 \nz\n\" id=\"DejaVuSans-112\"/>\n      <path d=\"M 30.609375 48.390625 \nQ 23.390625 48.390625 19.1875 42.75 \nQ 14.984375 37.109375 14.984375 27.296875 \nQ 14.984375 17.484375 19.15625 11.84375 \nQ 23.34375 6.203125 30.609375 6.203125 \nQ 37.796875 6.203125 41.984375 11.859375 \nQ 46.1875 17.53125 46.1875 27.296875 \nQ 46.1875 37.015625 41.984375 42.703125 \nQ 37.796875 48.390625 30.609375 48.390625 \nz\nM 30.609375 56 \nQ 42.328125 56 49.015625 48.375 \nQ 55.71875 40.765625 55.71875 27.296875 \nQ 55.71875 13.875 49.015625 6.21875 \nQ 42.328125 -1.421875 30.609375 -1.421875 \nQ 18.84375 -1.421875 12.171875 6.21875 \nQ 5.515625 13.875 5.515625 27.296875 \nQ 5.515625 40.765625 12.171875 48.375 \nQ 18.84375 56 30.609375 56 \nz\n\" id=\"DejaVuSans-111\"/>\n      <path d=\"M 48.78125 52.59375 \nL 48.78125 44.1875 \nQ 44.96875 46.296875 41.140625 47.34375 \nQ 37.3125 48.390625 33.40625 48.390625 \nQ 24.65625 48.390625 19.8125 42.84375 \nQ 14.984375 37.3125 14.984375 27.296875 \nQ 14.984375 17.28125 19.8125 11.734375 \nQ 24.65625 6.203125 33.40625 6.203125 \nQ 37.3125 6.203125 41.140625 7.25 \nQ 44.96875 8.296875 48.78125 10.40625 \nL 48.78125 2.09375 \nQ 45.015625 0.34375 40.984375 -0.53125 \nQ 36.96875 -1.421875 32.421875 -1.421875 \nQ 20.0625 -1.421875 12.78125 6.34375 \nQ 5.515625 14.109375 5.515625 27.296875 \nQ 5.515625 40.671875 12.859375 48.328125 \nQ 20.21875 56 33.015625 56 \nQ 37.15625 56 41.109375 55.140625 \nQ 45.0625 54.296875 48.78125 52.59375 \nz\n\" id=\"DejaVuSans-99\"/>\n      <path d=\"M 54.890625 33.015625 \nL 54.890625 0 \nL 45.90625 0 \nL 45.90625 32.71875 \nQ 45.90625 40.484375 42.875 44.328125 \nQ 39.84375 48.1875 33.796875 48.1875 \nQ 26.515625 48.1875 22.3125 43.546875 \nQ 18.109375 38.921875 18.109375 30.90625 \nL 18.109375 0 \nL 9.078125 0 \nL 9.078125 75.984375 \nL 18.109375 75.984375 \nL 18.109375 46.1875 \nQ 21.34375 51.125 25.703125 53.5625 \nQ 30.078125 56 35.796875 56 \nQ 45.21875 56 50.046875 50.171875 \nQ 54.890625 44.34375 54.890625 33.015625 \nz\n\" id=\"DejaVuSans-104\"/>\n     </defs>\n     <g transform=\"translate(138.928125 171.627222)scale(0.1 -0.1)\">\n      <use xlink:href=\"#DejaVuSans-101\"/>\n      <use x=\"61.523438\" xlink:href=\"#DejaVuSans-112\"/>\n      <use x=\"125\" xlink:href=\"#DejaVuSans-111\"/>\n      <use x=\"186.181641\" xlink:href=\"#DejaVuSans-99\"/>\n      <use x=\"241.162109\" xlink:href=\"#DejaVuSans-104\"/>\n     </g>\n    </g>\n   </g>\n   <g id=\"matplotlib.axis_2\">\n    <g id=\"ytick_1\">\n     <g id=\"line2d_13\">\n      <path clip-path=\"url(#p854ecd45ae)\" d=\"M 56.50625 117.514125 \nL 251.80625 117.514125 \n\" style=\"fill:none;stroke:#b0b0b0;stroke-linecap:square;stroke-width:0.8;\"/>\n     </g>\n     <g id=\"line2d_14\">\n      <defs>\n       <path d=\"M 0 0 \nL -3.5 0 \n\" id=\"mb1142bb585\" style=\"stroke:#000000;stroke-width:0.8;\"/>\n      </defs>\n      <g>\n       <use style=\"stroke:#000000;stroke-width:0.8;\" x=\"56.50625\" xlink:href=\"#mb1142bb585\" y=\"117.514125\"/>\n      </g>\n     </g>\n     <g id=\"text_8\">\n      <!-- 0.290 -->\n      <defs>\n       <path d=\"M 10.6875 12.40625 \nL 21 12.40625 \nL 21 0 \nL 10.6875 0 \nz\n\" id=\"DejaVuSans-46\"/>\n       <path d=\"M 10.984375 1.515625 \nL 10.984375 10.5 \nQ 14.703125 8.734375 18.5 7.8125 \nQ 22.3125 6.890625 25.984375 6.890625 \nQ 35.75 6.890625 40.890625 13.453125 \nQ 46.046875 20.015625 46.78125 33.40625 \nQ 43.953125 29.203125 39.59375 26.953125 \nQ 35.25 24.703125 29.984375 24.703125 \nQ 19.046875 24.703125 12.671875 31.3125 \nQ 6.296875 37.9375 6.296875 49.421875 \nQ 6.296875 60.640625 12.9375 67.421875 \nQ 19.578125 74.21875 30.609375 74.21875 \nQ 43.265625 74.21875 49.921875 64.515625 \nQ 56.59375 54.828125 56.59375 36.375 \nQ 56.59375 19.140625 48.40625 8.859375 \nQ 40.234375 -1.421875 26.421875 -1.421875 \nQ 22.703125 -1.421875 18.890625 -0.6875 \nQ 15.09375 0.046875 10.984375 1.515625 \nz\nM 30.609375 32.421875 \nQ 37.25 32.421875 41.125 36.953125 \nQ 45.015625 41.5 45.015625 49.421875 \nQ 45.015625 57.28125 41.125 61.84375 \nQ 37.25 66.40625 30.609375 66.40625 \nQ 23.96875 66.40625 20.09375 61.84375 \nQ 16.21875 57.28125 16.21875 49.421875 \nQ 16.21875 41.5 20.09375 36.953125 \nQ 23.96875 32.421875 30.609375 32.421875 \nz\n\" id=\"DejaVuSans-57\"/>\n      </defs>\n      <g transform=\"translate(20.878125 121.313344)scale(0.1 -0.1)\">\n       <use xlink:href=\"#DejaVuSans-48\"/>\n       <use x=\"63.623047\" xlink:href=\"#DejaVuSans-46\"/>\n       <use x=\"95.410156\" xlink:href=\"#DejaVuSans-50\"/>\n       <use x=\"159.033203\" xlink:href=\"#DejaVuSans-57\"/>\n       <use x=\"222.65625\" xlink:href=\"#DejaVuSans-48\"/>\n      </g>\n     </g>\n    </g>\n    <g id=\"ytick_2\">\n     <g id=\"line2d_15\">\n      <path clip-path=\"url(#p854ecd45ae)\" d=\"M 56.50625 82.009157 \nL 251.80625 82.009157 \n\" style=\"fill:none;stroke:#b0b0b0;stroke-linecap:square;stroke-width:0.8;\"/>\n     </g>\n     <g id=\"line2d_16\">\n      <g>\n       <use style=\"stroke:#000000;stroke-width:0.8;\" x=\"56.50625\" xlink:href=\"#mb1142bb585\" y=\"82.009157\"/>\n      </g>\n     </g>\n     <g id=\"text_9\">\n      <!-- 0.295 -->\n      <defs>\n       <path d=\"M 10.796875 72.90625 \nL 49.515625 72.90625 \nL 49.515625 64.59375 \nL 19.828125 64.59375 \nL 19.828125 46.734375 \nQ 21.96875 47.46875 24.109375 47.828125 \nQ 26.265625 48.1875 28.421875 48.1875 \nQ 40.625 48.1875 47.75 41.5 \nQ 54.890625 34.8125 54.890625 23.390625 \nQ 54.890625 11.625 47.5625 5.09375 \nQ 40.234375 -1.421875 26.90625 -1.421875 \nQ 22.3125 -1.421875 17.546875 -0.640625 \nQ 12.796875 0.140625 7.71875 1.703125 \nL 7.71875 11.625 \nQ 12.109375 9.234375 16.796875 8.0625 \nQ 21.484375 6.890625 26.703125 6.890625 \nQ 35.15625 6.890625 40.078125 11.328125 \nQ 45.015625 15.765625 45.015625 23.390625 \nQ 45.015625 31 40.078125 35.4375 \nQ 35.15625 39.890625 26.703125 39.890625 \nQ 22.75 39.890625 18.8125 39.015625 \nQ 14.890625 38.140625 10.796875 36.28125 \nz\n\" id=\"DejaVuSans-53\"/>\n      </defs>\n      <g transform=\"translate(20.878125 85.808375)scale(0.1 -0.1)\">\n       <use xlink:href=\"#DejaVuSans-48\"/>\n       <use x=\"63.623047\" xlink:href=\"#DejaVuSans-46\"/>\n       <use x=\"95.410156\" xlink:href=\"#DejaVuSans-50\"/>\n       <use x=\"159.033203\" xlink:href=\"#DejaVuSans-57\"/>\n       <use x=\"222.65625\" xlink:href=\"#DejaVuSans-53\"/>\n      </g>\n     </g>\n    </g>\n    <g id=\"ytick_3\">\n     <g id=\"line2d_17\">\n      <path clip-path=\"url(#p854ecd45ae)\" d=\"M 56.50625 46.504188 \nL 251.80625 46.504188 \n\" style=\"fill:none;stroke:#b0b0b0;stroke-linecap:square;stroke-width:0.8;\"/>\n     </g>\n     <g id=\"line2d_18\">\n      <g>\n       <use style=\"stroke:#000000;stroke-width:0.8;\" x=\"56.50625\" xlink:href=\"#mb1142bb585\" y=\"46.504188\"/>\n      </g>\n     </g>\n     <g id=\"text_10\">\n      <!-- 0.300 -->\n      <defs>\n       <path d=\"M 40.578125 39.3125 \nQ 47.65625 37.796875 51.625 33 \nQ 55.609375 28.21875 55.609375 21.1875 \nQ 55.609375 10.40625 48.1875 4.484375 \nQ 40.765625 -1.421875 27.09375 -1.421875 \nQ 22.515625 -1.421875 17.65625 -0.515625 \nQ 12.796875 0.390625 7.625 2.203125 \nL 7.625 11.71875 \nQ 11.71875 9.328125 16.59375 8.109375 \nQ 21.484375 6.890625 26.8125 6.890625 \nQ 36.078125 6.890625 40.9375 10.546875 \nQ 45.796875 14.203125 45.796875 21.1875 \nQ 45.796875 27.640625 41.28125 31.265625 \nQ 36.765625 34.90625 28.71875 34.90625 \nL 20.21875 34.90625 \nL 20.21875 43.015625 \nL 29.109375 43.015625 \nQ 36.375 43.015625 40.234375 45.921875 \nQ 44.09375 48.828125 44.09375 54.296875 \nQ 44.09375 59.90625 40.109375 62.90625 \nQ 36.140625 65.921875 28.71875 65.921875 \nQ 24.65625 65.921875 20.015625 65.03125 \nQ 15.375 64.15625 9.8125 62.3125 \nL 9.8125 71.09375 \nQ 15.4375 72.65625 20.34375 73.4375 \nQ 25.25 74.21875 29.59375 74.21875 \nQ 40.828125 74.21875 47.359375 69.109375 \nQ 53.90625 64.015625 53.90625 55.328125 \nQ 53.90625 49.265625 50.4375 45.09375 \nQ 46.96875 40.921875 40.578125 39.3125 \nz\n\" id=\"DejaVuSans-51\"/>\n      </defs>\n      <g transform=\"translate(20.878125 50.303406)scale(0.1 -0.1)\">\n       <use xlink:href=\"#DejaVuSans-48\"/>\n       <use x=\"63.623047\" xlink:href=\"#DejaVuSans-46\"/>\n       <use x=\"95.410156\" xlink:href=\"#DejaVuSans-51\"/>\n       <use x=\"159.033203\" xlink:href=\"#DejaVuSans-48\"/>\n       <use x=\"222.65625\" xlink:href=\"#DejaVuSans-48\"/>\n      </g>\n     </g>\n    </g>\n    <g id=\"ytick_4\">\n     <g id=\"line2d_19\">\n      <path clip-path=\"url(#p854ecd45ae)\" d=\"M 56.50625 10.999219 \nL 251.80625 10.999219 \n\" style=\"fill:none;stroke:#b0b0b0;stroke-linecap:square;stroke-width:0.8;\"/>\n     </g>\n     <g id=\"line2d_20\">\n      <g>\n       <use style=\"stroke:#000000;stroke-width:0.8;\" x=\"56.50625\" xlink:href=\"#mb1142bb585\" y=\"10.999219\"/>\n      </g>\n     </g>\n     <g id=\"text_11\">\n      <!-- 0.305 -->\n      <g transform=\"translate(20.878125 14.798437)scale(0.1 -0.1)\">\n       <use xlink:href=\"#DejaVuSans-48\"/>\n       <use x=\"63.623047\" xlink:href=\"#DejaVuSans-46\"/>\n       <use x=\"95.410156\" xlink:href=\"#DejaVuSans-51\"/>\n       <use x=\"159.033203\" xlink:href=\"#DejaVuSans-48\"/>\n       <use x=\"222.65625\" xlink:href=\"#DejaVuSans-53\"/>\n      </g>\n     </g>\n    </g>\n    <g id=\"text_12\">\n     <!-- loss -->\n     <defs>\n      <path d=\"M 9.421875 75.984375 \nL 18.40625 75.984375 \nL 18.40625 0 \nL 9.421875 0 \nz\n\" id=\"DejaVuSans-108\"/>\n      <path d=\"M 44.28125 53.078125 \nL 44.28125 44.578125 \nQ 40.484375 46.53125 36.375 47.5 \nQ 32.28125 48.484375 27.875 48.484375 \nQ 21.1875 48.484375 17.84375 46.4375 \nQ 14.5 44.390625 14.5 40.28125 \nQ 14.5 37.15625 16.890625 35.375 \nQ 19.28125 33.59375 26.515625 31.984375 \nL 29.59375 31.296875 \nQ 39.15625 29.25 43.1875 25.515625 \nQ 47.21875 21.78125 47.21875 15.09375 \nQ 47.21875 7.46875 41.1875 3.015625 \nQ 35.15625 -1.421875 24.609375 -1.421875 \nQ 20.21875 -1.421875 15.453125 -0.5625 \nQ 10.6875 0.296875 5.421875 2 \nL 5.421875 11.28125 \nQ 10.40625 8.6875 15.234375 7.390625 \nQ 20.0625 6.109375 24.8125 6.109375 \nQ 31.15625 6.109375 34.5625 8.28125 \nQ 37.984375 10.453125 37.984375 14.40625 \nQ 37.984375 18.0625 35.515625 20.015625 \nQ 33.0625 21.96875 24.703125 23.78125 \nL 21.578125 24.515625 \nQ 13.234375 26.265625 9.515625 29.90625 \nQ 5.8125 33.546875 5.8125 39.890625 \nQ 5.8125 47.609375 11.28125 51.796875 \nQ 16.75 56 26.8125 56 \nQ 31.78125 56 36.171875 55.265625 \nQ 40.578125 54.546875 44.28125 53.078125 \nz\n\" id=\"DejaVuSans-115\"/>\n     </defs>\n     <g transform=\"translate(14.798438 85.058472)rotate(-90)scale(0.1 -0.1)\">\n      <use xlink:href=\"#DejaVuSans-108\"/>\n      <use x=\"27.783203\" xlink:href=\"#DejaVuSans-111\"/>\n      <use x=\"88.964844\" xlink:href=\"#DejaVuSans-115\"/>\n      <use x=\"141.064453\" xlink:href=\"#DejaVuSans-115\"/>\n     </g>\n    </g>\n   </g>\n   <g id=\"line2d_21\">\n    <path clip-path=\"url(#p854ecd45ae)\" d=\"M 58.45925 13.627932 \nL 60.41225 58.021265 \nL 62.36525 32.76749 \nL 64.31825 24.560554 \nL 66.27125 21.089395 \nL 68.22425 18.087537 \nL 70.17725 52.015878 \nL 72.13025 41.651231 \nL 74.08325 33.432367 \nL 76.03625 32.878234 \nL 77.98925 41.855091 \nL 79.94225 55.590971 \nL 81.89525 51.561832 \nL 83.84825 54.175006 \nL 85.80125 61.493871 \nL 87.75425 51.216899 \nL 89.70725 71.282379 \nL 91.66025 65.149665 \nL 93.61325 57.315534 \nL 95.56625 68.465402 \nL 97.51925 70.026221 \nL 99.47225 77.917082 \nL 101.42525 60.509306 \nL 103.37825 57.927957 \nL 105.33125 57.631758 \nL 107.28425 58.494318 \nL 109.23725 72.384788 \nL 111.19025 69.101819 \nL 113.14325 75.957995 \nL 115.09625 77.168352 \nL 117.04925 86.652322 \nL 119.00225 92.181177 \nL 120.95525 90.240792 \nL 122.90825 80.556021 \nL 124.86125 91.138252 \nL 126.81425 93.994326 \nL 128.76725 77.914878 \nL 130.72025 78.048358 \nL 132.67325 87.076123 \nL 134.62625 94.428828 \nL 136.57925 96.426547 \nL 138.53225 91.747622 \nL 140.48525 87.280184 \nL 142.43825 89.156347 \nL 144.39125 86.617726 \nL 146.34425 94.783887 \nL 148.29725 95.241873 \nL 150.25025 95.026773 \nL 152.20325 93.303267 \nL 154.15625 107.359306 \nL 156.10925 112.376598 \nL 158.06225 103.510919 \nL 160.01525 108.924437 \nL 161.96825 102.744113 \nL 163.92125 100.163654 \nL 165.87425 102.613332 \nL 167.82725 103.096147 \nL 169.78025 110.522782 \nL 171.73325 102.768294 \nL 173.68625 105.270721 \nL 175.63925 104.608987 \nL 177.59225 111.781203 \nL 179.54525 107.395976 \nL 181.49825 118.912318 \nL 183.45125 109.483525 \nL 185.40425 96.740349 \nL 187.35725 137.173386 \nL 189.31025 109.330232 \nL 191.26325 104.446951 \nL 193.21625 106.228615 \nL 195.16925 99.932177 \nL 197.12225 93.10964 \nL 199.07525 117.037303 \nL 201.02825 123.221538 \nL 202.98125 107.147129 \nL 204.93425 108.593673 \nL 206.88725 119.698984 \nL 208.84025 92.757625 \nL 210.79325 107.799308 \nL 212.74625 102.760283 \nL 214.69925 107.04174 \nL 216.65225 95.855118 \nL 218.60525 99.837154 \nL 220.55825 106.215404 \nL 222.51125 101.887974 \nL 224.46425 97.628167 \nL 226.41725 101.90883 \nL 228.37025 106.116166 \nL 230.32325 114.328088 \nL 232.27625 121.865831 \nL 234.22925 110.054762 \nL 236.18225 123.412412 \nL 238.13525 129.235096 \nL 240.08825 120.952299 \nL 242.04125 111.92454 \nL 243.99425 105.484173 \nL 245.94725 121.796698 \nL 247.90025 91.902532 \nL 249.85325 100.045326 \nL 251.80625 94.210313 \n\" style=\"fill:none;stroke:#1f77b4;stroke-linecap:square;stroke-width:1.5;\"/>\n   </g>\n   <g id=\"patch_3\">\n    <path d=\"M 56.50625 143.350659 \nL 56.50625 7.450659 \n\" style=\"fill:none;stroke:#000000;stroke-linecap:square;stroke-linejoin:miter;stroke-width:0.8;\"/>\n   </g>\n   <g id=\"patch_4\">\n    <path d=\"M 251.80625 143.350659 \nL 251.80625 7.450659 \n\" style=\"fill:none;stroke:#000000;stroke-linecap:square;stroke-linejoin:miter;stroke-width:0.8;\"/>\n   </g>\n   <g id=\"patch_5\">\n    <path d=\"M 56.50625 143.350659 \nL 251.80625 143.350659 \n\" style=\"fill:none;stroke:#000000;stroke-linecap:square;stroke-linejoin:miter;stroke-width:0.8;\"/>\n   </g>\n   <g id=\"patch_6\">\n    <path d=\"M 56.50625 7.450659 \nL 251.80625 7.450659 \n\" style=\"fill:none;stroke:#000000;stroke-linecap:square;stroke-linejoin:miter;stroke-width:0.8;\"/>\n   </g>\n  </g>\n </g>\n <defs>\n  <clipPath id=\"p854ecd45ae\">\n   <rect height=\"135.9\" width=\"195.3\" x=\"56.50625\" y=\"7.450659\"/>\n  </clipPath>\n </defs>\n</svg>\n"
          },
          "metadata": {
            "tags": [],
            "needs_background": "light"
          }
        }
      ]
    },
    {
      "cell_type": "code",
      "metadata": {
        "id": "zHe5b0eo_LWK",
        "colab": {
          "base_uri": "https://localhost:8080/"
        },
        "outputId": "8343529f-c4db-4b01-8cad-347c065cb566"
      },
      "source": [
        "print(model)"
      ],
      "execution_count": 23,
      "outputs": [
        {
          "output_type": "stream",
          "text": [
            "EncoderDecoder(\n",
            "  (encoder): Seq2SeqEncoder(\n",
            "    (embedding): Embedding(62, 256)\n",
            "    (rnn): GRU(256, 512, num_layers=8, dropout=0.4)\n",
            "  )\n",
            "  (decoder): Seq2SeqDecoder(\n",
            "    (embedding): Embedding(2866, 256)\n",
            "    (rnn): GRU(768, 512, num_layers=8, dropout=0.4)\n",
            "    (dense): Linear(in_features=512, out_features=2866, bias=True)\n",
            "  )\n",
            ")\n"
          ],
          "name": "stdout"
        }
      ]
    },
    {
      "cell_type": "markdown",
      "metadata": {
        "origin_pos": 35,
        "id": "aLRqe2VwHdu-"
      },
      "source": [
        "## Prediction\n",
        "\n",
        "To predict the output sequence\n",
        "token by token,\n",
        "at each decoder time step\n",
        "the predicted token from the previous\n",
        "time step is fed into the decoder as an input.\n",
        "Similar to training,\n",
        "at the initial time step\n",
        "the beginning-of-sequence (\"&lt;bos&gt;\") token\n",
        "is fed into the decoder.\n",
        "This prediction process\n",
        "is illustrated in :numref:`fig_seq2seq_predict`.\n",
        "When the end-of-sequence (\"&lt;eos&gt;\") token is predicted,\n",
        "the prediction of the output sequence is complete.\n",
        "\n",
        "\n",
        "![Predicting the output sequence token by token using an RNN encoder-decoder.](https://github.com/d2l-ai/d2l-pytorch-colab/blob/master/img/seq2seq-predict.svg?raw=1)\n",
        ":label:`fig_seq2seq_predict`\n",
        "\n",
        "We will introduce different\n",
        "strategies for sequence generation in\n",
        ":numref:`sec_beam-search`.\n"
      ]
    },
    {
      "cell_type": "code",
      "metadata": {
        "origin_pos": 37,
        "tab": [
          "pytorch"
        ],
        "id": "0c91bIfjHdu_"
      },
      "source": [
        "#@save\n",
        "def predict_s2s_ch9(model, src_sentence, src_vocab, tgt_vocab, num_steps, direction, YueChar,\n",
        "                    device):\n",
        "    if YueChar and direction == 'yue2eng':\n",
        "        src_tokens = src_vocab[[w for w in src_sentence]] + [\n",
        "            src_vocab['<eos>']]\n",
        "    else:\n",
        "      src_tokens = src_vocab[src_sentence.lower().split(' ')] + [\n",
        "          src_vocab['<eos>']]\n",
        "    enc_valid_len = torch.tensor([len(src_tokens)], device=device)\n",
        "    src_tokens = d2l.truncate_pad(src_tokens, num_steps, src_vocab['<pad>'])\n",
        "    # Add the batch axis\n",
        "    enc_X = torch.unsqueeze(\n",
        "        torch.tensor(src_tokens, dtype=torch.long, device=device), dim=0)\n",
        "    enc_outputs = model.encoder(enc_X, enc_valid_len)\n",
        "    dec_state = model.decoder.init_state(enc_outputs, enc_valid_len)\n",
        "    # Add the batch axis\n",
        "    dec_X = torch.unsqueeze(torch.tensor(\n",
        "        [tgt_vocab['<bos>']], dtype=torch.long, device=device), dim=0)\n",
        "    output_seq = []\n",
        "    for _ in range(num_steps):\n",
        "        Y, dec_state = model.decoder(dec_X, dec_state)\n",
        "        # We use the token with the highest prediction likelihood as the input\n",
        "        # of the decoder at the next time step\n",
        "        dec_X = Y.argmax(dim=2)\n",
        "        pred = dec_X.squeeze(dim=0).type(torch.int32).item()\n",
        "        # Once the end-of-sequence token is predicted, the generation of\n",
        "        # the output sequence is complete\n",
        "        if pred == tgt_vocab['<eos>']:\n",
        "            break\n",
        "        output_seq.append(pred)\n",
        "    return ' '.join(tgt_vocab.to_tokens(output_seq))"
      ],
      "execution_count": 24,
      "outputs": []
    },
    {
      "cell_type": "markdown",
      "metadata": {
        "origin_pos": 38,
        "id": "FtFOzTzmHdu_"
      },
      "source": [
        "## Evaluation of Predicted Sequences\n",
        "\n",
        "We can evaluate a predicted sequence\n",
        "by comparing it with the\n",
        "label sequence (the ground-truth).\n",
        "BLEU (Bilingual Evaluation Understudy),\n",
        "though originally proposed for evaluating\n",
        "machine translation results :cite:`Papineni.Roukos.Ward.ea.2002`,\n",
        "has been extensively used in measuring\n",
        "the quality of output sequences for different applications.\n",
        "In principle, for any $n$-grams in the predicted sequence,\n",
        "BLEU evaluates whether this $n$-grams appears\n",
        "in the label sequence.\n",
        "\n",
        "Denote by $p_n$\n",
        "the precision of $n$-grams,\n",
        "which is\n",
        "the ratio of\n",
        "the number of matched $n$-grams in\n",
        "the predicted and label sequences\n",
        "to\n",
        "the number of $n$-grams in the predicted sequence.\n",
        "To explain,\n",
        "given a label sequence $A$, $B$, $C$, $D$, $E$, $F$,\n",
        "and a predicted sequence $A$, $B$, $B$, $C$, $D$.\n",
        "We have $p_1 = 4/5$,  $p_2 = 3/4$, $p_3 = 1/3$, and $p_4 = 0$.\n",
        "Besides,\n",
        "let $\\mathrm{len}_{\\text{label}}$ and $\\mathrm{len}_{\\text{pred}}$\n",
        "be\n",
        "the numbers of tokens in the label sequence and the predicted sequence, respectively.\n",
        "Then, BLEU is defined as\n",
        "\n",
        "$$ \\exp\\left(\\min\\left(0, 1 - \\frac{\\mathrm{len}_{\\text{label}}}{\\mathrm{len}_{\\text{pred}}}\\right)\\right) \\prod_{n=1}^k p_n^{1/2^n},$$\n",
        ":eqlabel:`eq_bleu`\n",
        "\n",
        "where $k$ is the longest $n$-grams for matching.\n",
        "\n",
        "Based on the definition of BLEU in :eqref:`eq_bleu`,\n",
        "whenever the predicted sequence is the same as the label sequence, BLEU is 1.\n",
        "Moreover,\n",
        "since matching longer $n$-grams is more difficult,\n",
        "BLEU assigns a greater weight\n",
        "to a longer $n$-gram precision.\n",
        "Specifically, when $p_n$ is fixed,\n",
        "$p_n^{1/2^n}$ increases as $n$ grows.\n",
        "Furthermore,\n",
        "since\n",
        "predicting shorter sequences\n",
        "tends to obtain a higher $p_n$ value,\n",
        "the coefficient before the multiplication term in :eqref:`eq_bleu`\n",
        "penalizes shorter predicted sequences.\n",
        "For example, when $k=2$,\n",
        "given the label sequence $A$, $B$, $C$, $D$, $E$, $F$ and the predicted sequence $A$, $B$,\n",
        "although $p_1 = p_2 = 1$, the penalty factor $\\exp(1-6/2) \\approx 0.14$ lowers the BLEU.\n",
        "\n",
        "We implement the BLEU measure as follows.\n"
      ]
    },
    {
      "cell_type": "code",
      "metadata": {
        "origin_pos": 39,
        "tab": [
          "pytorch"
        ],
        "id": "cxbrp0SZHdu_"
      },
      "source": [
        "def bleu(pred_seq, label_seq, k):  #@save\n",
        "    \"\"\"Compute the BLEU.\"\"\"\n",
        "    pred_tokens, label_tokens = pred_seq.split(' '), label_seq.split(' ')\n",
        "    len_pred, len_label = len(pred_tokens), len(label_tokens)\n",
        "    score = math.exp(min(0, 1 - len_label / len_pred))\n",
        "    for n in range(1, k + 1):\n",
        "        num_matches, label_subs = 0, collections.defaultdict(int)\n",
        "        for i in range(len_label - n + 1):\n",
        "            label_subs[''.join(label_tokens[i: i + n])] += 1\n",
        "        for i in range(len_pred - n + 1):\n",
        "            if label_subs[''.join(pred_tokens[i: i + n])] > 0:\n",
        "                num_matches += 1\n",
        "                label_subs[''.join(pred_tokens[i: i + n])] -= 1\n",
        "        score *= math.pow(num_matches / (len_pred - n + 1), math.pow(0.5, n))\n",
        "    return score"
      ],
      "execution_count": 25,
      "outputs": []
    },
    {
      "cell_type": "markdown",
      "metadata": {
        "origin_pos": 40,
        "id": "wgsyFzhIHdvA"
      },
      "source": [
        "In the end,\n",
        "we use the trained RNN encoder-decoder\n",
        "to translate a few English sentences into French\n",
        "and compute the BLEU of the results.\n"
      ]
    },
    {
      "cell_type": "code",
      "metadata": {
        "origin_pos": 41,
        "tab": [
          "pytorch"
        ],
        "id": "m_xYYOr4HdvA"
      },
      "source": [
        "#@save\n",
        "def translate(inp, tar, model, src_vocab, tgt_vocab, num_steps, direction, YueChar, device):\n",
        "    # for inp, tar in zip(inp, tar):\n",
        "    translation = predict_s2s_ch9(\n",
        "        model, inp, src_vocab, tgt_vocab, num_steps, direction, YueChar, device)\n",
        "    print(\n",
        "        f'{inp} => {translation}')\n",
        "        # f'{inp} => {translation}, bleu {bleu(translation, tar, k=2):.3f}')"
      ],
      "execution_count": 26,
      "outputs": []
    },
    {
      "cell_type": "code",
      "metadata": {
        "id": "FE8wju_goeUi",
        "colab": {
          "base_uri": "https://localhost:8080/"
        },
        "outputId": "2cc70da8-736e-4dc5-97d7-484336141d80"
      },
      "source": [
        "import random\n",
        "ran = random.randint(1, len(inp))\n",
        "print(' '.join(inp[ran]))\n",
        "print(' '.join(tar[ran]))\n",
        "print()\n",
        "\n",
        "# translate(inp[ran], tar[ran], model, src_vocab, tgt_vocab, num_steps, direction[0], True, device)\n",
        "\n",
        "translate(' '.join(inp[ran]), ' '.join(tar[ran]), model, src_vocab, tgt_vocab, num_steps, direction, True, device)"
      ],
      "execution_count": 27,
      "outputs": [
        {
          "output_type": "stream",
          "text": [
            "好 似 去 S i z z l e r 噉\n",
            "and like go to Sizzler\n",
            "\n",
            "好 似 去 S i z z l e r 噉 => Laughter\n"
          ],
          "name": "stdout"
        }
      ]
    },
    {
      "cell_type": "code",
      "metadata": {
        "id": "4EXEUHgXijJz",
        "colab": {
          "base_uri": "https://localhost:8080/"
        },
        "outputId": "dcd30225-f6a0-424c-919d-21ad9d628a30"
      },
      "source": [
        "import time\n",
        "TotalTime = time.time()\n",
        "start = time.time()\n",
        "\n",
        "ori = []\n",
        "ref = []\n",
        "can = []\n",
        "num_test = 0\n",
        "\n",
        "for index, row in df_test.iterrows():\n",
        "    inp = row[inp_lang]\n",
        "    tar = row[tar_lang]\n",
        "    num_test += 1\n",
        "    pre = predict_s2s_ch9(model, inp, src_vocab, tgt_vocab, num_steps, direction, YueChar, device)\n",
        "    ori.append(inp)\n",
        "    ref.append(tar)\n",
        "    if YueChar:\n",
        "        can.append(spliteKeyWord(pre))\n",
        "    else:\n",
        "        can.append(pre)\n",
        "    if num_test % 50 == 0:\n",
        "        print(f'Progress: {num_test} / {len(df_test)} in {time.time()-start} s')\n",
        "        start = time.time()\n",
        "        \n",
        "print(f'\\nToTal: {num_test} / {len(df_test)} in {time.time()-TotalTime} s')"
      ],
      "execution_count": 28,
      "outputs": [
        {
          "output_type": "stream",
          "text": [
            "Progress: 50 / 1963 in 0.4368710517883301 s\n",
            "Progress: 100 / 1963 in 0.4380779266357422 s\n",
            "Progress: 150 / 1963 in 0.4337592124938965 s\n",
            "Progress: 200 / 1963 in 0.4323279857635498 s\n",
            "Progress: 250 / 1963 in 0.4330601692199707 s\n",
            "Progress: 300 / 1963 in 0.43104100227355957 s\n",
            "Progress: 350 / 1963 in 0.42852330207824707 s\n",
            "Progress: 400 / 1963 in 0.4444136619567871 s\n",
            "Progress: 450 / 1963 in 0.44002652168273926 s\n",
            "Progress: 500 / 1963 in 0.4426295757293701 s\n",
            "Progress: 550 / 1963 in 0.435985803604126 s\n",
            "Progress: 600 / 1963 in 0.44272899627685547 s\n",
            "Progress: 650 / 1963 in 0.45087480545043945 s\n",
            "Progress: 700 / 1963 in 0.44009947776794434 s\n",
            "Progress: 750 / 1963 in 0.4338688850402832 s\n",
            "Progress: 800 / 1963 in 0.43543481826782227 s\n",
            "Progress: 850 / 1963 in 0.4427478313446045 s\n",
            "Progress: 900 / 1963 in 0.44805240631103516 s\n",
            "Progress: 950 / 1963 in 0.44167327880859375 s\n",
            "Progress: 1000 / 1963 in 0.44741058349609375 s\n",
            "Progress: 1050 / 1963 in 0.45584774017333984 s\n",
            "Progress: 1100 / 1963 in 0.4421534538269043 s\n",
            "Progress: 1150 / 1963 in 0.446458101272583 s\n",
            "Progress: 1200 / 1963 in 0.4449019432067871 s\n",
            "Progress: 1250 / 1963 in 0.4495396614074707 s\n",
            "Progress: 1300 / 1963 in 0.4404430389404297 s\n",
            "Progress: 1350 / 1963 in 0.4377918243408203 s\n",
            "Progress: 1400 / 1963 in 0.45131921768188477 s\n",
            "Progress: 1450 / 1963 in 0.4483306407928467 s\n",
            "Progress: 1500 / 1963 in 0.44587087631225586 s\n",
            "Progress: 1550 / 1963 in 0.4427833557128906 s\n",
            "Progress: 1600 / 1963 in 0.43857550621032715 s\n",
            "Progress: 1650 / 1963 in 0.44234633445739746 s\n",
            "Progress: 1700 / 1963 in 0.44711923599243164 s\n",
            "Progress: 1750 / 1963 in 0.4516324996948242 s\n",
            "Progress: 1800 / 1963 in 0.4397571086883545 s\n",
            "Progress: 1850 / 1963 in 0.4420175552368164 s\n",
            "Progress: 1900 / 1963 in 0.44153380393981934 s\n",
            "Progress: 1950 / 1963 in 0.4328594207763672 s\n",
            "\n",
            "ToTal: 1963 / 1963 in 17.341327667236328 s\n"
          ],
          "name": "stdout"
        }
      ]
    },
    {
      "cell_type": "code",
      "metadata": {
        "id": "ruqZXCBGhHGe"
      },
      "source": [
        "import nltk\n",
        "from nltk.translate.bleu_score import sentence_bleu\n",
        "from nltk.translate.bleu_score import corpus_bleu\n",
        "from nltk.translate.bleu_score import SmoothingFunction\n",
        "smoothie = SmoothingFunction().method4\n",
        "\n",
        "import random\n",
        "ran = random.randint(1, len(ref))\n",
        "print(ori[ran])\n",
        "print(ref[ran])\n",
        "print(can[ran])\n",
        "\n",
        "print('BLEU:', sentence_bleu(ref[ran], can[ran], smoothing_function=smoothie)*100)"
      ],
      "execution_count": null,
      "outputs": []
    },
    {
      "cell_type": "code",
      "metadata": {
        "id": "KF5yeWZFjUVt",
        "colab": {
          "base_uri": "https://localhost:8080/"
        },
        "outputId": "bcf34984-37ea-4389-932e-ccafcaa2a516"
      },
      "source": [
        "# Sentence-based and average score\n",
        "# score = 0\n",
        "# for i in range(len(ref)):\n",
        "#     r = [ref[i].split()]\n",
        "#     c = can[i].split()\n",
        "#     score += sentence_bleu(r, c, smoothing_function=smoothie)*100\n",
        "# print('BLEU-s:', score/len(ref))\n",
        "\n",
        "# Corpus based, summing all nominator and denominator before division\n",
        "r = [[r.split()] for r in ref]\n",
        "c = [c.split() for c in can]\n",
        "score = corpus_bleu(r, c, smoothing_function=smoothie)*100\n",
        "print('BLEU-c:', score)"
      ],
      "execution_count": 30,
      "outputs": [
        {
          "output_type": "stream",
          "text": [
            "BLEU-c: 0.22894459189194846\n",
            "BLEU-c: 0.22894459189194846\n"
          ],
          "name": "stdout"
        }
      ]
    },
    {
      "cell_type": "markdown",
      "metadata": {
        "origin_pos": 42,
        "id": "hZqBFIw-HdvA"
      },
      "source": [
        "## Summary\n",
        "\n",
        "* Following the design of the encoder-decoder architecture, we can use two RNNs to design a model for sequence to sequence learning.\n",
        "* When implementing the encoder and the decoder, we can use multilayer RNNs.\n",
        "* We can use masks to filter out irrelevant computations, such as when calculating the loss.\n",
        "* In encoder-decoder training, the teacher forcing approach feeds original output sequences (in contrast to predictions) into the decoder.\n",
        "* BLEU is a popular measure for evaluating output sequences by matching $n$-grams between the predicted sequence and the label sequence.\n",
        "\n",
        "\n",
        "## Exercises\n",
        "\n",
        "1. Can you adjust the hyperparameters to improve the translation results?\n",
        "1. Rerun the experiment without using masks in the loss calculation. What results do you observe? Why?\n",
        "1. If the encoder and the decoder differ in the number of layers or the number of hidden units, how can we initialize the hidden state of the decoder?\n",
        "1. In training, replace teacher forcing with feeding the prediction at the previous time step into the decoder. How does this influence the performance?\n",
        "1. Rerun the experiment by replacing GRU with LSTM.\n",
        "1. Are there any other ways to design the output layer of the decoder?\n"
      ]
    },
    {
      "cell_type": "markdown",
      "metadata": {
        "origin_pos": 44,
        "tab": [
          "pytorch"
        ],
        "id": "mKtgMsPUHdvB"
      },
      "source": [
        "[Discussions](https://discuss.d2l.ai/t/1062)\n"
      ]
    }
  ]
}